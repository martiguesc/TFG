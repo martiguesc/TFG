{
 "cells": [
  {
   "cell_type": "code",
   "execution_count": 1,
   "metadata": {},
   "outputs": [],
   "source": [
    "from dbase import *"
   ]
  },
  {
   "cell_type": "code",
   "execution_count": 12,
   "metadata": {},
   "outputs": [
    {
     "data": {
      "text/plain": [
       "{'avg': '/disco2/LEGACY_PAULA/ADNI_longitudinal_proc/S76_1/avgj_S76_r0_9287_t1_44504.nii.gz',\n",
       " 'dCSFi1': 0.04709760979630295,\n",
       " 'dCSFi2': 0.057717922154802315,\n",
       " 'dabeta': 0.0,\n",
       " 'dir': 'S76_1/',\n",
       " 'dptau': 3.8999999999999986,\n",
       " 'dt': 376,\n",
       " 'dtau': 8.0,\n",
       " 'dv': '/disco2/LEGACY_PAULA/ADNI_longitudinal_proc/S76_1/dv_S76_r0_9287_t1_44504.nii',\n",
       " 'jb': '/home/miquel/ForMiquel/ADNI_longitudinal_proc_short/S76_1/jd_S76_r0_9287_t1_44504.nii',\n",
       " 'label': 0,\n",
       " 'log': '',\n",
       " 'nii': '',\n",
       " 'reference': <allmypy.Event at 0x7f429f5df400>,\n",
       " 'rid': 76,\n",
       " 'subject_id': '067_S_0076',\n",
       " 'target': <allmypy.Event at 0x7f429f5df4a8>}"
      ]
     },
     "execution_count": 12,
     "metadata": {},
     "output_type": "execute_result"
    }
   ],
   "source": [
    "vars(Subjects[28].jacobians[0])"
   ]
  },
  {
   "cell_type": "markdown",
   "metadata": {},
   "source": [
    "## list of images with preclinical conditions (A=1, dx='NL')\n"
   ]
  },
  {
   "cell_type": "code",
   "execution_count": 2,
   "metadata": {},
   "outputs": [
    {
     "name": "stdout",
     "output_type": "stream",
     "text": [
      "list of preclinical image ids\n",
      "['7071', '24618', '7302', '26073', '207222', '8120', '31331', '81038', '9324', '31825', '84908', '166800', '217232', '9882', '44702', '10126', '37456', '89359', '165499', '134856', '165521', '40538', '165858', '137805', '169829', '11033', '41856', '90493', '11335', '42804', '235735', '96553', '13550', '11645', '11567', '42948', '15717', '67802', '190412', '317533', '11888', '47591', '139971', '168410', '12313', '13722', '55275', '144446', '173732', '238627', '16274', '58624', '14146', '54338', '143381', '172501', '14524', '54067', '148275', '14861', '57065', '15270', '56708', '148476', '181352', '257512', '15299', '55127', '145417', '16133', '62251', '14611', '55083', '16090', '56842', '29455', '84347', '145242', '165551', '16203', '17205', '57433', '111698', '147771', '19567', '23609', '74874', '23517', '82396', '23468', '71755', '267549', '20075', '20543', '76696', '155002', '23159', '72730', '23927', '75356', '157296', '31702', '27140', '80850', '27056', '85022', '161155', '207546', '28221', '29780', '204429', '28715', '82057', '28111', '81676', '30304', '84100', '129468', '160297', '204411', '166476', '224748', '43134', '141082', '172677', '40549', '225667', '228302', '375279', '229148', '370597', '238532', '642405', '371484', '238383', '377828', '242120', '240491', '242274', '242231', '241692', '243629', '245771', '243001', '245491', '244900', '397486', '251754', '251996', '253072', '388340', '389487', '252069', '390143', '413241', '257270', '395111', '259653', '267459', '264215', '260581', '398531', '260769', '395726', '269153', '415168', '391682', '401399', '267885', '402629', '265542', '265938', '266217', '398576', '267561', '266625', '399628', '400978', '267711', '269096', '418940', '269273', '276860', '272396', '406806', '271895', '274494', '283915', '279470', '280956', '280369', '285105', '416804', '283287', '419803', '291667', '296859', '421132', '297501', '424282', '290869', '417674', '294222', '300089', '421732', '430225', '434494', '315857', '321271', '360352', '364804', '365269', '368620', '368283', '372556', '375693', '376103', '377325', '378487', '378544', '382223', '380901', '381457', '382458', '385353', '384012', '382724', '385779', '387122', '389082', '387288', '396289', '388957', '401126']\n",
      "total of preclinical images:  234\n"
     ]
    }
   ],
   "source": [
    "events_preclinical=[]\n",
    "for i in Subjects:\n",
    "    for j in range(0,len(i.events)):\n",
    "        if i.events[j].A == 1 and i.events[j].dx == 'NL':\n",
    "            events_preclinical.append(i.events[j].image_id)\n",
    "print(\"list of preclinical image ids\")            \n",
    "print(events_preclinical)\n",
    "print(\"total of preclinical images: \", len(events_preclinical))\n",
    "            "
   ]
  },
  {
   "cell_type": "markdown",
   "metadata": {},
   "source": [
    "## list of subjects with at least 1 preclinical image"
   ]
  },
  {
   "cell_type": "code",
   "execution_count": 3,
   "metadata": {},
   "outputs": [
    {
     "name": "stdout",
     "output_type": "stream",
     "text": [
      "total of subjects with one or more preclinical images:  143\n"
     ]
    }
   ],
   "source": [
    "subjects_preclinical=[]\n",
    "\n",
    "for i in range(0, len(Subjects)):\n",
    "    counter = 0\n",
    "    for j in range(0,len(Subjects[i].events)):\n",
    "        if Subjects[i].events[j].A == 1 and Subjects[i].events[j].dx == 'NL':\n",
    "            counter = counter +1\n",
    "        \n",
    "    if counter > 0:\n",
    "        subjects_preclinical.append(i)\n",
    "        \n",
    "print(\"total of subjects with one or more preclinical images: \", len(subjects_preclinical))"
   ]
  },
  {
   "cell_type": "markdown",
   "metadata": {},
   "source": [
    "## list of control subjects (all events satisfy control conditions (A=0, dx='NL'))\n"
   ]
  },
  {
   "cell_type": "code",
   "execution_count": 4,
   "metadata": {},
   "outputs": [
    {
     "name": "stdout",
     "output_type": "stream",
     "text": [
      "total of control subjects:  154\n"
     ]
    }
   ],
   "source": [
    "subjects_control=[]\n",
    "\n",
    "for i in range(0, len(Subjects)):\n",
    "    counter = 0\n",
    "    for e in range(0,len(Subjects[i].events)):\n",
    "\n",
    "        if Subjects[i].events[e].A == 0 and Subjects[i].events[e].dx == 'NL':\n",
    "            counter = counter + 1\n",
    "\n",
    "    if counter == len(Subjects[i].events) and len(Subjects[i].events) > 0:\n",
    "        \n",
    "        subjects_control.append(i)\n",
    "        \n",
    "        \n",
    "print(\"total of control subjects: \", len(subjects_control))\n"
   ]
  },
  {
   "cell_type": "markdown",
   "metadata": {},
   "source": [
    "## number of images with CSF information\n"
   ]
  },
  {
   "cell_type": "code",
   "execution_count": 5,
   "metadata": {},
   "outputs": [
    {
     "name": "stdout",
     "output_type": "stream",
     "text": [
      "total of images with CSF information:  1807\n"
     ]
    }
   ],
   "source": [
    "events_CSF = 0\n",
    "\n",
    "for i in Subjects:\n",
    "    for j in range(0,len(i.events)):\n",
    "        if i.events[j].CSFi1 != '' and i.events[j].CSFi2 != '':\n",
    "            events_CSF = events_CSF + 1\n",
    "\n",
    "print(\"total of images with CSF information: \", events_CSF)"
   ]
  },
  {
   "cell_type": "markdown",
   "metadata": {},
   "source": [
    "## number of jacobians with CSF information\n"
   ]
  },
  {
   "cell_type": "code",
   "execution_count": 24,
   "metadata": {},
   "outputs": [
    {
     "name": "stdout",
     "output_type": "stream",
     "text": [
      "total of jacobians with CSF information:  1184\n"
     ]
    }
   ],
   "source": [
    "jacobians_dCSF = 0\n",
    "\n",
    "for i in Subjects:\n",
    "    for j in range(0,len(i.jacobians)):\n",
    "        if i.jacobians[j].dCSFi1 != '' and i.jacobians[j].dCSFi2 != '':\n",
    "            jacobians_dCSF = jacobians_dCSF + 1\n",
    "\n",
    "print(\"total of jacobians with CSF information: \", jacobians_dCSF)"
   ]
  },
  {
   "cell_type": "markdown",
   "metadata": {},
   "source": [
    "## search of preclinical subjects (subjects who had at least 1 event with A=1 and dx = 'NL')\n"
   ]
  },
  {
   "cell_type": "code",
   "execution_count": 6,
   "metadata": {},
   "outputs": [],
   "source": [
    "#lists created to be used in histogram plots\n",
    "ages_preclinical=[]\n",
    "abeta_preclinical=[]\n",
    "tau_preclinical=[]\n",
    "ptau_preclinical=[]\n",
    "\n",
    "for i in Subjects:\n",
    "    counter=0\n",
    "    for j in range(0,len(i.events)):\n",
    "        if i.events[j].A == 1 and i.events[j].dx == 'NL':\n",
    "            counter = counter +1\n",
    "            abeta_preclinical.append(i.events[j].abeta)\n",
    "            tau_preclinical.append(i.events[j].tau)\n",
    "            ptau_preclinical.append(i.events[j].ptau)\n",
    "        if counter > 0:\n",
    "            ages_preclinical.append(i.age_bl)\n",
    "            \n",
    "        \n"
   ]
  },
  {
   "cell_type": "markdown",
   "metadata": {},
   "source": [
    "## search of control subjects"
   ]
  },
  {
   "cell_type": "code",
   "execution_count": 7,
   "metadata": {},
   "outputs": [],
   "source": [
    "#lists created to be used in histogram plots\n",
    "ages_control=[]\n",
    "abeta_control=[]\n",
    "tau_control=[]\n",
    "ptau_control=[]\n",
    "\n",
    "for i in Subjects:\n",
    "    counter=0\n",
    "    for j in range(0,len(i.jacobians)):\n",
    "        \n",
    "        ref = i.jacobians[j].reference\n",
    "        tar = i.jacobians[j].target\n",
    "\n",
    "        if ref.A == 0 and ref.dx == 'NL' and tar.A == 0 and tar.dx == 'NL':\n",
    "            counter = counter + 1\n",
    "        \n",
    "        if counter == len(i.jacobians) and len(i.jacobians) > 0:\n",
    "            ages_control.append(i.age_bl)\n",
    "            for a in range(0, len(i.events)):\n",
    "                abeta_control.append(i.events[a].abeta)\n",
    "                tau_control.append(i.events[a].tau)\n",
    "                ptau_control.append(i.events[a].ptau)\n",
    "            \n",
    "            "
   ]
  },
  {
   "cell_type": "markdown",
   "metadata": {},
   "source": [
    "## distribution histograms"
   ]
  },
  {
   "cell_type": "code",
   "execution_count": 8,
   "metadata": {},
   "outputs": [
    {
     "data": {
      "image/png": "[encoded data removed]",
      "text/plain": [
       "<matplotlib.figure.Figure at 0x7f8b9f87ce10>"
      ]
     },
     "metadata": {},
     "output_type": "display_data"
    }
   ],
   "source": [
    "#age distribution histogram of control subjects\n",
    "plt.figure(figsize=(8,3))\n",
    "plt.subplot(1,2,1)\n",
    "bins = np.linspace(40, 100, 25)\n",
    "plt.hist(ages_control, bins, facecolor='green', alpha=0.5)\n",
    "plt.xlabel('age_bl')\n",
    "plt.ylabel('appeareances')\n",
    "plt.title('age distribution of control subjects')\n",
    "plt.subplot(1,2,2)\n",
    "bins = np.linspace(40, 100, 25)\n",
    "plt.hist(ages_preclinical, bins, facecolor='blue', alpha=0.5)\n",
    "plt.xlabel('age_bl')\n",
    "plt.ylabel('appeareances')\n",
    "plt.title('age distribution of preclinical subjects')\n",
    "plt.show()\n",
    "\n"
   ]
  },
  {
   "cell_type": "code",
   "execution_count": 9,
   "metadata": {
    "scrolled": true
   },
   "outputs": [
    {
     "data": {
      "image/png": "[encoded data removed]",
      "text/plain": [
       "<matplotlib.figure.Figure at 0x7f8b9f87f128>"
      ]
     },
     "metadata": {},
     "output_type": "display_data"
    }
   ],
   "source": [
    "#age distribution of preclinical subjects (subjects with at least one preclinical event)\n",
    "   \n",
    "plt.figure(2)\n",
    "bins = np.linspace(40, 100, 25)\n",
    "plt.hist(ages_preclinical, bins, facecolor='blue', alpha=0.5)\n",
    "plt.xlabel('age_bl')\n",
    "plt.ylabel('appeareances')\n",
    "plt.title('age distribution of preclinical subjects')\n",
    "plt.show()"
   ]
  },
  {
   "cell_type": "code",
   "execution_count": 22,
   "metadata": {},
   "outputs": [
    {
     "data": {
      "text/plain": [
       "<matplotlib.figure.Figure at 0x7f8b9d368710>"
      ]
     },
     "metadata": {},
     "output_type": "display_data"
    },
    {
     "data": {
      "image/png": "[encoded data removed]",
      "text/plain": [
       "<matplotlib.figure.Figure at 0x7f8b9d3685f8>"
      ]
     },
     "metadata": {},
     "output_type": "display_data"
    },
    {
     "data": {
      "image/png": "[encoded data removed]",
      "text/plain": [
       "<matplotlib.figure.Figure at 0x7f8b9d4e18d0>"
      ]
     },
     "metadata": {},
     "output_type": "display_data"
    },
    {
     "data": {
      "image/png": "[encoded data removed]",
      "text/plain": [
       "<matplotlib.figure.Figure at 0x7f8b9d3305c0>"
      ]
     },
     "metadata": {},
     "output_type": "display_data"
    }
   ],
   "source": [
    "#plots of abeta, tau, ptau distributions\n",
    "plt.figure(figsize=(12,18))\n",
    "plt.figure(2)\n",
    "bins = np.linspace(0, 300, 25)\n",
    "plt.hist(abeta_control, bins, facecolor='green', alpha=0.5, label='controls')\n",
    "plt.hist(abeta_preclinical, bins, facecolor='blue', alpha=0.5, label='preclinical')\n",
    "plt.legend(loc='best', fontsize=14)\n",
    "plt.xlabel('abeta', fontsize=14)\n",
    "plt.ylabel('appeareances', fontsize=14)\n",
    "plt.title('abeta level distribution', fontsize=14)\n",
    "\n",
    "plt.show()\n",
    "\n",
    "tau_preclinical = [x for x in tau_preclinical if x is not None] # remove subjects with no tau value\n",
    "tau_control = [x for x in tau_control if x is not None]        \n",
    "\n",
    "plt.figure(2)\n",
    "bins = np.linspace(0, 200, 25)\n",
    "plt.hist(tau_control, bins, facecolor='green', alpha=0.5, label='controls')\n",
    "plt.hist(tau_preclinical, bins, facecolor='blue', alpha=0.5, label='preclinical')\n",
    "plt.legend(loc='best', fontsize=14)\n",
    "plt.xlabel('tau', fontsize=14)\n",
    "plt.ylabel('appeareances', fontsize=14)\n",
    "plt.title('tau level distribution', fontsize=14)\n",
    "\n",
    "plt.show()\n",
    "\n",
    "plt.figure(2)\n",
    "bins = np.linspace(0, 200, 25)\n",
    "plt.hist(ptau_control, bins, facecolor='green', alpha=0.5, label='controls')\n",
    "plt.hist(ptau_preclinical, bins, facecolor='blue', alpha=0.5, label='preclinical')\n",
    "plt.legend(loc='best', fontsize=14)\n",
    "plt.xlabel('ptau', fontsize=14)\n",
    "plt.ylabel('appeareances', fontsize=14)\n",
    "plt.title('ptau level distribution', fontsize=14)\n",
    "\n",
    "plt.show()"
   ]
  },
  {
   "cell_type": "markdown",
   "metadata": {},
   "source": [
    "## plots of a preclinical and a control jacobian"
   ]
  },
  {
   "cell_type": "code",
   "execution_count": 23,
   "metadata": {},
   "outputs": [
    {
     "ename": "NameError",
     "evalue": "name 'path' is not defined",
     "output_type": "error",
     "traceback": [
      "\u001b[0;31m---------------------------------------------------------------------------\u001b[0m",
      "\u001b[0;31mNameError\u001b[0m                                 Traceback (most recent call last)",
      "\u001b[0;32m<ipython-input-23-494c1f1286bc>\u001b[0m in \u001b[0;36m<module>\u001b[0;34m()\u001b[0m\n\u001b[1;32m      8\u001b[0m \u001b[0;34m\u001b[0m\u001b[0m\n\u001b[1;32m      9\u001b[0m \u001b[0;34m\u001b[0m\u001b[0m\n\u001b[0;32m---> 10\u001b[0;31m \u001b[0mimg\u001b[0m \u001b[0;34m=\u001b[0m \u001b[0mnib\u001b[0m\u001b[0;34m.\u001b[0m\u001b[0mload\u001b[0m\u001b[0;34m(\u001b[0m\u001b[0mpath\u001b[0m\u001b[0;34m)\u001b[0m\u001b[0;34m\u001b[0m\u001b[0m\n\u001b[0m\u001b[1;32m     11\u001b[0m \u001b[0mdata\u001b[0m \u001b[0;34m=\u001b[0m \u001b[0mimg\u001b[0m\u001b[0;34m.\u001b[0m\u001b[0mget_data\u001b[0m\u001b[0;34m(\u001b[0m\u001b[0;34m)\u001b[0m\u001b[0;34m\u001b[0m\u001b[0m\n\u001b[1;32m     12\u001b[0m \u001b[0mprint\u001b[0m\u001b[0;34m(\u001b[0m\u001b[0mdata\u001b[0m\u001b[0;34m.\u001b[0m\u001b[0mshape\u001b[0m\u001b[0;34m)\u001b[0m\u001b[0;34m\u001b[0m\u001b[0m\n",
      "\u001b[0;31mNameError\u001b[0m: name 'path' is not defined"
     ]
    }
   ],
   "source": [
    "import nibabel as nib\n",
    "\n",
    "idx_s = np.random.randint(len(subjects_preclinical)) # choose a random subject from preclinical list\n",
    "idx_s = subjects_preclinical[idx_s]\n",
    "if len(Subjects[idx_s].jacobians) > 0:\n",
    "    idx_j = np.random.randint(len(Subjects[idx_s].jacobians)) # choose a random jacobian of this subject\n",
    "    path = Subjects[idx_s].jacobians[idx_j].jb # path to the file\n",
    "\n",
    "  \n",
    "img = nib.load(path)\n",
    "data = img.get_data()\n",
    "print(data.shape)\n",
    "fig, axes = plt.subplots(1, 3)\n",
    "plt.suptitle(\"slices of preclinical subject jacobian\")\n",
    "axes[0].imshow(data[60,:,:], cmap=\"gray\", origin=\"lower\")\n",
    "axes[1].imshow(data[:,60,:], cmap=\"gray\", origin=\"lower\")\n",
    "axes[2].imshow(data[:,:,60], cmap=\"gray\", origin=\"lower\")\n",
    "plt.show()"
   ]
  },
  {
   "cell_type": "code",
   "execution_count": 24,
   "metadata": {},
   "outputs": [
    {
     "ename": "FileNotFoundError",
     "evalue": "No such file: '/home/miquel/ForMiquel/ADNI_longitudinal_proc_short/S4762_1/jd_S4762_r0_314311_t1_435761.nii'",
     "output_type": "error",
     "traceback": [
      "\u001b[0;31m---------------------------------------------------------------------------\u001b[0m",
      "\u001b[0;31mFileNotFoundError\u001b[0m                         Traceback (most recent call last)",
      "\u001b[0;32m<ipython-input-24-6ca3f8822596>\u001b[0m in \u001b[0;36m<module>\u001b[0;34m()\u001b[0m\n\u001b[1;32m      5\u001b[0m \u001b[0;34m\u001b[0m\u001b[0m\n\u001b[1;32m      6\u001b[0m \u001b[0;34m\u001b[0m\u001b[0m\n\u001b[0;32m----> 7\u001b[0;31m \u001b[0mimg\u001b[0m \u001b[0;34m=\u001b[0m \u001b[0mnib\u001b[0m\u001b[0;34m.\u001b[0m\u001b[0mload\u001b[0m\u001b[0;34m(\u001b[0m\u001b[0mpath\u001b[0m\u001b[0;34m)\u001b[0m\u001b[0;34m\u001b[0m\u001b[0m\n\u001b[0m\u001b[1;32m      8\u001b[0m \u001b[0mdata\u001b[0m \u001b[0;34m=\u001b[0m \u001b[0mimg\u001b[0m\u001b[0;34m.\u001b[0m\u001b[0mget_data\u001b[0m\u001b[0;34m(\u001b[0m\u001b[0;34m)\u001b[0m\u001b[0;34m\u001b[0m\u001b[0m\n\u001b[1;32m      9\u001b[0m \u001b[0mprint\u001b[0m\u001b[0;34m(\u001b[0m\u001b[0mdata\u001b[0m\u001b[0;34m.\u001b[0m\u001b[0mshape\u001b[0m\u001b[0;34m)\u001b[0m\u001b[0;34m\u001b[0m\u001b[0m\n",
      "\u001b[0;32m~/.local/lib/python3.4/site-packages/nibabel/loadsave.py\u001b[0m in \u001b[0;36mload\u001b[0;34m(filename, **kwargs)\u001b[0m\n\u001b[1;32m     38\u001b[0m     '''\n\u001b[1;32m     39\u001b[0m     \u001b[0;32mif\u001b[0m \u001b[0;32mnot\u001b[0m \u001b[0mop\u001b[0m\u001b[0;34m.\u001b[0m\u001b[0mexists\u001b[0m\u001b[0;34m(\u001b[0m\u001b[0mfilename\u001b[0m\u001b[0;34m)\u001b[0m\u001b[0;34m:\u001b[0m\u001b[0;34m\u001b[0m\u001b[0m\n\u001b[0;32m---> 40\u001b[0;31m         \u001b[0;32mraise\u001b[0m \u001b[0mFileNotFoundError\u001b[0m\u001b[0;34m(\u001b[0m\u001b[0;34m\"No such file: '%s'\"\u001b[0m \u001b[0;34m%\u001b[0m \u001b[0mfilename\u001b[0m\u001b[0;34m)\u001b[0m\u001b[0;34m\u001b[0m\u001b[0m\n\u001b[0m\u001b[1;32m     41\u001b[0m     \u001b[0msniff\u001b[0m \u001b[0;34m=\u001b[0m \u001b[0;32mNone\u001b[0m\u001b[0;34m\u001b[0m\u001b[0m\n\u001b[1;32m     42\u001b[0m     \u001b[0;32mfor\u001b[0m \u001b[0mimage_klass\u001b[0m \u001b[0;32min\u001b[0m \u001b[0mall_image_classes\u001b[0m\u001b[0;34m:\u001b[0m\u001b[0;34m\u001b[0m\u001b[0m\n",
      "\u001b[0;31mFileNotFoundError\u001b[0m: No such file: '/home/miquel/ForMiquel/ADNI_longitudinal_proc_short/S4762_1/jd_S4762_r0_314311_t1_435761.nii'"
     ]
    }
   ],
   "source": [
    "idx_s = np.random.randint(len(subjects_control)) # choose a random position from control list\n",
    "idx_s = subjects_control[idx_s]\n",
    "idx_j = np.random.randint(len(Subjects[idx_s].jacobians)) # choose a random jacobian of this subject\n",
    "path = Subjects[idx_s].jacobians[idx_j].jb # path to the file\n",
    "\n",
    "\n",
    "img = nib.load(path)\n",
    "data = img.get_data()\n",
    "print(data.shape)\n",
    "fig, axes = plt.subplots(1, 3)\n",
    "plt.suptitle(\"slices of control subject \", Subjects[idx_s].rid, \" jacobian\")\n",
    "axes[0].imshow(data[60,:,:], cmap=\"gray\", origin=\"lower\")\n",
    "axes[1].imshow(data[:,60,:], cmap=\"gray\", origin=\"lower\")\n",
    "axes[2].imshow(data[:,:,60], cmap=\"gray\", origin=\"lower\")\n",
    "plt.show()"
   ]
  },
  {
   "cell_type": "code",
   "execution_count": 26,
   "metadata": {},
   "outputs": [],
   "source": [
    "y=np.load('/home/miquel/ForMiquel/CLEAN2/y.npy') #jacobian labels\n",
    "dt=np.load('/home/miquel/ForMiquel/CLEAN2/dt.npy') #subject idxs\n",
    "\n",
    "dt_n=[]\n",
    "dt_p=[]\n",
    "\n",
    "for i in range(0, len(dt)):\n",
    "    if y[i] == 0:\n",
    "        dt_n.append(dt[i])\n",
    "    if y[i] == 1:\n",
    "        dt_p.append(dt[i])   \n"
   ]
  },
  {
   "cell_type": "code",
   "execution_count": 32,
   "metadata": {},
   "outputs": [
    {
     "data": {
      "image/png": "[encoded data removed]",
      "text/plain": [
       "<matplotlib.figure.Figure at 0x7f8b9d4e8c50>"
      ]
     },
     "metadata": {},
     "output_type": "display_data"
    }
   ],
   "source": [
    "plt.figure(figsize=(8,4))\n",
    "bins = np.linspace(0, 2500, 70)\n",
    "plt.hist(dt_n, bins, facecolor='green', alpha=0.5, label='controls')\n",
    "plt.hist(dt_p, bins, facecolor='blue', alpha=0.5, label='preclinical')\n",
    "plt.legend(loc='best',  fontsize=14)\n",
    "plt.xlabel('dt', fontsize=14)\n",
    "plt.ylabel('appeareances',  fontsize=14)\n",
    "plt.title('dt between reference and target images distribution',  fontsize=14)\n",
    "plt.show()"
   ]
  },
  {
   "cell_type": "code",
   "execution_count": null,
   "metadata": {},
   "outputs": [],
   "source": []
  }
 ],
 "metadata": {
  "kernelspec": {
   "display_name": "Python 3",
   "language": "python",
   "name": "python3"
  },
  "language_info": {
   "codemirror_mode": {
    "name": "ipython",
    "version": 3
   },
   "file_extension": ".py",
   "mimetype": "text/x-python",
   "name": "python",
   "nbconvert_exporter": "python",
   "pygments_lexer": "ipython3",
   "version": "3.4.2"
  }
 },
 "nbformat": 4,
 "nbformat_minor": 2
}
