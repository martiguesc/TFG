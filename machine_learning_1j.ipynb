{
 "cells": [
  {
   "cell_type": "code",
   "execution_count": 2,
   "metadata": {},
   "outputs": [],
   "source": [
    "from dbase import *"
   ]
  },
  {
   "cell_type": "code",
   "execution_count": 3,
   "metadata": {},
   "outputs": [
    {
     "name": "stdout",
     "output_type": "stream",
     "text": [
      "the list has a total of  124  indices.\n"
     ]
    }
   ],
   "source": [
    "subjects_1_3_idx=[] #to store indices of subjects with jacobians of classes 1 or 3\n",
    "labels=[]\n",
    "\n",
    "#only subject indices with all jacobians of the same class (1 or 3) are stored\n",
    "for s in range(0,len(Subjects)):\n",
    "    counter1 = 0\n",
    "    counter3 = 0\n",
    "    for i in range(0,len(Subjects[s].jacobians)):\n",
    "        if Subjects[s].jacobians[i].label == 1:\n",
    "            counter1 = counter1 + 1\n",
    "        if Subjects[s].jacobians[i].label == 3:\n",
    "            counter3 = counter3 + 1\n",
    "    if (counter1 == len(Subjects[s].jacobians) or counter3 == len(Subjects[s].jacobians)) and len(Subjects[s].jacobians) > 0:\n",
    "        subjects_1_3_idx.append(s)\n",
    "        if counter3 > counter1:\n",
    "            labels.append(3)\n",
    "        else:\n",
    "            labels.append(1)\n",
    "\n",
    "print(\"the list has a total of \", len(subjects_1_3_idx), \" indices.\")"
   ]
  },
  {
   "cell_type": "code",
   "execution_count": 4,
   "metadata": {},
   "outputs": [
    {
     "name": "stdout",
     "output_type": "stream",
     "text": [
      "0\n",
      "1\n",
      "2\n",
      "3\n",
      "4\n",
      "5\n",
      "6\n",
      "7\n",
      "8\n",
      "9\n",
      "10\n",
      "11\n",
      "12\n",
      "13\n",
      "14\n",
      "15\n",
      "16\n",
      "17\n",
      "18\n",
      "19\n",
      "20\n",
      "21\n",
      "22\n",
      "23\n",
      "24\n",
      "25\n",
      "26\n",
      "27\n",
      "28\n",
      "29\n",
      "30\n",
      "31\n",
      "32\n",
      "33\n",
      "34\n",
      "35\n",
      "36\n",
      "37\n",
      "38\n",
      "39\n",
      "40\n",
      "41\n",
      "42\n",
      "43\n",
      "44\n",
      "45\n",
      "46\n",
      "47\n",
      "48\n",
      "49\n",
      "50\n",
      "51\n",
      "52\n",
      "53\n",
      "54\n",
      "55\n",
      "56\n",
      "57\n",
      "58\n",
      "59\n",
      "60\n",
      "61\n",
      "62\n",
      "63\n",
      "64\n",
      "65\n",
      "66\n",
      "67\n",
      "68\n",
      "69\n",
      "70\n",
      "71\n",
      "72\n",
      "73\n",
      "74\n",
      "75\n",
      "76\n",
      "77\n",
      "78\n",
      "79\n",
      "80\n",
      "81\n",
      "82\n",
      "83\n",
      "84\n",
      "85\n",
      "86\n",
      "87\n",
      "88\n",
      "89\n",
      "90\n",
      "91\n",
      "92\n",
      "93\n",
      "94\n",
      "95\n",
      "96\n",
      "97\n",
      "98\n",
      "99\n",
      "100\n",
      "101\n",
      "102\n",
      "103\n",
      "104\n",
      "105\n",
      "106\n",
      "107\n",
      "108\n",
      "109\n",
      "110\n",
      "111\n",
      "112\n",
      "113\n",
      "114\n",
      "115\n",
      "116\n",
      "117\n",
      "118\n",
      "119\n",
      "120\n",
      "121\n",
      "122\n",
      "123\n",
      "(124, 572738)\n",
      "(124,)\n"
     ]
    }
   ],
   "source": [
    "# we build the X matrix including 1 random jacobian from controls and preclinicals (all jacobians class 1 or 3)\n",
    "#X=np.load('/home/miquel/ForMiquel/CLEAN2/X.npy')\n",
    "#print(np.shape(X))\n",
    "import nibabel as nib\n",
    "from imports_func import *\n",
    "X1 = np.zeros((121*145*121))\n",
    "X2 = np.zeros((121*145*121))\n",
    "X3 = np.zeros((121*145*121))\n",
    "jac_idx_1j=[]\n",
    "#subjects_identifiers = []\n",
    "aux1 = 'wmaskedc1_'\n",
    "aux2 = 'wmaskedc2_'\n",
    "aux3 = 'wmaskedc3_'\n",
    "counter = 0\n",
    "for idx in subjects_1_3_idx:\n",
    "    print(counter)\n",
    "    i = np.random.randint(0,len(Subjects[idx].jacobians))\n",
    "    j = Subjects[idx].jacobians[i]\n",
    "    jac_idx_1j.append(i)\n",
    "    path1 = j.jb.replace(j.jb.split('/')[-1], aux1 + j.jb.split('/')[-1])\n",
    "    path2 = j.jb.replace(j.jb.split('/')[-1], aux2 + j.jb.split('/')[-1])   \n",
    "    path3 = j.jb.replace(j.jb.split('/')[-1], aux3 + j.jb.split('/')[-1])\n",
    "    if path1[-1] == 'i' :\n",
    "        path1 = path1 + '.gz'\n",
    "    if path2[-1] == 'i' :\n",
    "        path2 = path2 + '.gz'\n",
    "    if path3[-1] == 'i' :\n",
    "        path3 = path3 + '.gz'\n",
    "\n",
    "    img1 = nib.load(path1)\n",
    "    img1 = img1.get_data()\n",
    "    img2 = nib.load(path2)\n",
    "    img2 = img2.get_data()\n",
    "    img3 = nib.load(path3)\n",
    "    img3 = img3.get_data()\n",
    "        \n",
    "    img1 = np.reshape(img1, 121*145*121, 1)\n",
    "    img2 = np.reshape(img2, 121*145*121, 1)\n",
    "    img3 = np.reshape(img3, 121*145*121, 1)\n",
    "    #line = np.append(img1, np.append(img2,img3))\n",
    "    X1 = np.vstack((X1, img1))\n",
    "    X2 = np.vstack((X2, img2))\n",
    "    X3 = np.vstack((X3, img3))\n",
    "    #subjects_identifiers.append(idx)\n",
    "    counter = counter + 1\n",
    "        \n",
    "X1=X1[1:,:]\n",
    "X2=X2[1:,:]\n",
    "X3=X3[1:,:]\n",
    "\n",
    "X = X1 + X2\n",
    "mask1=np.all(np.equal(X,0), axis=0)\n",
    "#mask2=np.all(np.equal(X2,0), axis=0)\n",
    "#mask3=np.all(np.equal(X3,0), axis=0)\n",
    "X = X1[:,~mask1]\n",
    "#X2 = X2[:,~mask2]\n",
    "#X3 = X3[:,~mask3]\n",
    "\n",
    "print(np.shape(X))\n",
    "print(np.shape(jac_idx_1j))\n",
    "np.save('/home/miquel/ForMiquel/CLEAN2/X_c1_1j_full2', X)\n",
    "np.save('/home/miquel/ForMiquel/CLEAN2/zero_cols_X_full2',mask1)\n",
    "#np.save('/home/miquel/ForMiquel/CLEAN2/X_c2_1j_full', X2\n",
    "#np.save('/home/miquel/ForMiquel/CLEAN2/X_c2_1j_full', X2)\n",
    "#np.save('/home/miquel/ForMiquel/CLEAN2/zero_cols_JB_c2_1j',mask2)\n",
    "#np.save('/home/miquel/ForMiquel/CLEAN2/X_c3_1j_full', X3)\n",
    "#np.save('/home/miquel/ForMiquel/CLEAN2/zero_cols_JB_c3_1j',mask3)\n",
    "np.save('/home/miquel/ForMiquel/CLEAN2/jac_idx_1j_full2', jac_idx_1j)\n"
   ]
  },
  {
   "cell_type": "code",
   "execution_count": 2,
   "metadata": {},
   "outputs": [],
   "source": [
    "X=np.load('/home/miquel/ForMiquel/CLEAN2/X_c2_1j.npy') \n",
    "#X2=np.load('/home/miquel/ForMiquel/CLEAN2/X_c2_1j.npy')\n",
    "#X3=np.load('/home/miquel/ForMiquel/CLEAN2/X_c3_1j.npy')\n",
    "#X=np.concatenate((X1, X2), axis=1)\n",
    "#X=np.concatenate((X, X3), axis=1)\n",
    "y=np.load('/home/miquel/ForMiquel/CLEAN2/y_short.npy') #subject labels\n",
    "sub_id_short=np.load('/home/miquel/ForMiquel/CLEAN2/sub_id_short.npy') #subject idxs"
   ]
  },
  {
   "cell_type": "code",
   "execution_count": 8,
   "metadata": {},
   "outputs": [],
   "source": [
    "from imports_func import * \n",
    "spl = StratifiedShuffleSplit(n_splits=1, test_size=0.3, random_state=42)\n",
    "for train_index, test_index in spl.split(X, y_short): #split in subjects\n",
    "    X_train = X[train_index,:]\n",
    "    X_test = X[test_index,:]\n",
    "    y_train = y[train_index]\n",
    "    y_test = y[test_index]"
   ]
  },
  {
   "cell_type": "code",
   "execution_count": 24,
   "metadata": {},
   "outputs": [
    {
     "name": "stderr",
     "output_type": "stream",
     "text": [
      "/usr/local/lib/python3.4/dist-packages/sklearn/metrics/classification.py:1135: UndefinedMetricWarning: F-score is ill-defined and being set to 0.0 due to no predicted samples.\n",
      "  'precision', 'predicted', average, warn_for)\n",
      "/usr/local/lib/python3.4/dist-packages/sklearn/metrics/classification.py:538: RuntimeWarning: invalid value encountered in double_scalars\n",
      "  mcc = cov_ytyp / np.sqrt(cov_ytyt * cov_ypyp)\n"
     ]
    },
    {
     "data": {
      "image/png": "[encoded data removed]",
      "text/plain": [
       "<matplotlib.figure.Figure at 0x7f3d327eb400>"
      ]
     },
     "metadata": {},
     "output_type": "display_data"
    },
    {
     "name": "stdout",
     "output_type": "stream",
     "text": [
      "[[22  1]\n",
      " [13  2]]\n"
     ]
    }
   ],
   "source": [
    "from imports_func import * \n",
    "\n",
    "# load dataset:\n",
    "X_dt=np.load('/home/miquel/ForMiquel/CLEAN2/X_c2_1j_dt.npy') \n",
    "X=np.load('/home/miquel/ForMiquel/CLEAN2/X_c2_1j.npy') \n",
    "#X2=np.load('/home/miquel/ForMiquel/CLEAN2/X_c2_1j.npy')\n",
    "#X=np.concatenate((X1, X2), axis=1)\n",
    "\n",
    "y=np.load('/home/miquel/ForMiquel/CLEAN2/y_short.npy') #subject labels\n",
    "\n",
    "# Split the dataset\n",
    "spl = StratifiedShuffleSplit(n_splits=1, test_size=0.3, random_state=39)\n",
    "for train_index, test_index in spl.split(X, y): #split in subjects\n",
    "    X_train = X[train_index,:]\n",
    "    X_test = X_dt[test_index,:]\n",
    "    y_train = y[train_index]\n",
    "    y_test = y[test_index]\n",
    "\n",
    "C = [0.5,1,1.5,2,2.5,3,3.5,4,4.5,5]\n",
    "#C = [0.01,10]\n",
    "acc_linear = []\n",
    "roc_linear = []\n",
    "f1_linear = []\n",
    "mcc_linear = []\n",
    "\n",
    "\n",
    "for i in C:\n",
    "    clf = SVC(kernel='linear', probability = True, C=i)\n",
    "    clf = LogisticRegression(solver='liblinear', penalty='l2', C=i)\n",
    "\n",
    "    y_score = clf.fit(X_train, y_train).decision_function(X_test)\n",
    "    pred = clf.predict(X_test)\n",
    "    acc = accuracy_score(y_test, pred)\n",
    "    roc=roc_auc_score(y_test, y_score)\n",
    "    f1=f1_score(y_test, pred)\n",
    "    from sklearn.metrics import matthews_corrcoef\n",
    "    mcc=matthews_corrcoef(y_test, pred)\n",
    "\n",
    "    acc_linear.append(acc)\n",
    "    roc_linear.append(roc)\n",
    "    f1_linear.append(f1)\n",
    "    mcc_linear.append(mcc)\n",
    "\n",
    "plt.figure(1)\n",
    "plt.plot(C, acc_linear, color='green', label='acc')\n",
    "plt.plot(C, roc_linear, color='red', label='roc')\n",
    "plt.plot(C, f1_linear, color='blue', label='f1_score')\n",
    "plt.plot(C, mcc_linear, color='orange', label='mcc')\n",
    "\n",
    "plt.legend(loc='best')\n",
    "plt.xlabel('C')\n",
    "plt.title('metrics logistic regression')\n",
    "plt.show()\n",
    "print(confusion_matrix(y_test, pred))\n",
    "\n"
   ]
  },
  {
   "cell_type": "code",
   "execution_count": 72,
   "metadata": {},
   "outputs": [
    {
     "name": "stdout",
     "output_type": "stream",
     "text": [
      "0.526315789474\n",
      "-0.0406121124583\n",
      "[0 0 1 1 0 0 0 1 0 0 0 0 1 0 0 1 1 0 0 0 0 1 0 1 0 0 0 1 1 0 1 1 0 0 1 0 1\n",
      " 1]\n",
      "[1 1 1 0 1 1 0 1 0 1 1 0 0 1 0 0 0 0 0 0 0 0 0 0 0 0 0 0 0 0 0 1 0 0 1 0 0\n",
      " 0]\n"
     ]
    }
   ],
   "source": [
    "from imports_func import * \n",
    "X=np.load('/home/miquel/ForMiquel/CLEAN2/X_c2_1j_dt.npy') \n",
    "y=np.load('/home/miquel/ForMiquel/CLEAN2/y_short.npy')\n",
    "\n",
    "spl = StratifiedShuffleSplit(n_splits=1, test_size=0.3, random_state=42)\n",
    "for train_index, test_index in spl.split(X, y): #split in subjects\n",
    "    X_train = X[train_index,:]\n",
    "    X_test = X[test_index,:]\n",
    "    y_train = y[train_index]\n",
    "    y_test = y[test_index]\n",
    "    \n",
    "from sklearn.ensemble import RandomForestClassifier\n",
    "clf = RandomForestClassifier(bootstrap=False, min_samples_leaf=1, min_samples_split=5, max_features=1000, max_depth=10)\n",
    "clf.fit(X_train, y_train) \n",
    "pred = clf.predict(X_test)\n",
    "print(accuracy_score(y_test, pred))\n",
    "from sklearn.metrics import matthews_corrcoef\n",
    "mcc=matthews_corrcoef(y_test, pred)\n",
    "print(mcc)\n",
    "print(y_test)\n",
    "print(pred)\n",
    "\n"
   ]
  },
  {
   "cell_type": "code",
   "execution_count": 73,
   "metadata": {},
   "outputs": [
    {
     "name": "stdout",
     "output_type": "stream",
     "text": [
      "0.552631578947\n",
      "0.468115942029\n",
      "0.307692307692\n",
      "-0.101564907916\n",
      "[0 0 1 1 0 0 0 1 0 0 0 0 1 0 0 1 1 0 0 0 0 1 0 1 0 0 0 1 1 0 1 1 0 0 1 0 1\n",
      " 1]\n",
      "[1 0 0 0 0 0 0 0 1 0 0 0 0 0 0 0 0 0 0 0 0 1 0 0 0 0 0 0 0 0 0 0 0 0 0 1 0\n",
      " 0]\n"
     ]
    }
   ],
   "source": [
    "#Import Library of Gaussian Naive Bayes model\n",
    "from sklearn.naive_bayes import GaussianNB\n",
    "import numpy as np\n",
    "\n",
    "from imports_func import * \n",
    "X=np.load('/home/miquel/ForMiquel/CLEAN2/X_c3_1j.npy') \n",
    "y=np.load('/home/miquel/ForMiquel/CLEAN2/y_short.npy')\n",
    "\n",
    "spl = StratifiedShuffleSplit(n_splits=1, test_size=0.3, random_state=42)\n",
    "for train_index, test_index in spl.split(X, y): #split in subjects\n",
    "    X_train = X[train_index,:]\n",
    "    X_test = X[test_index,:]\n",
    "    y_train = y[train_index]\n",
    "    y_test = y[test_index]\n",
    "#Create a Gaussian Classifier\n",
    "clf = GaussianNB()\n",
    "\n",
    "# Train the model using the training sets \n",
    "y_score = clf.fit(X_train, y_train).predict_proba(X_test)\n",
    "roc=roc_auc_score(y_test, y_score[:,1])\n",
    "f1=f1_score(y_test, pred)\n",
    "#Predict Output \n",
    "pred= clf.predict(X_test)\n",
    "from sklearn.metrics import matthews_corrcoef\n",
    "mcc=matthews_corrcoef(y_test, pred)\n",
    "print(accuracy_score(y_test, pred))\n",
    "print(roc)\n",
    "print(f1)\n",
    "print(mcc)\n",
    "print(y_test)\n",
    "print(pred)"
   ]
  },
  {
   "cell_type": "code",
   "execution_count": 25,
   "metadata": {},
   "outputs": [
    {
     "name": "stdout",
     "output_type": "stream",
     "text": [
      "0.631578947368\n",
      "0.68115942029\n",
      "0.111111111111\n",
      "0.203571710808\n"
     ]
    },
    {
     "data": {
      "image/png": "[encoded data removed]",
      "text/plain": [
       "<matplotlib.figure.Figure at 0x7f3d3297c6a0>"
      ]
     },
     "metadata": {},
     "output_type": "display_data"
    }
   ],
   "source": [
    "from imports_func import * \n",
    "#X1=np.load('/home/miquel/ForMiquel/CLEAN2/X_c1_1j_dt.npy')\n",
    "X_dt=np.load('/home/miquel/ForMiquel/CLEAN2/X_c2_1j_dt.npy')\n",
    "X=np.load('/home/miquel/ForMiquel/CLEAN2/X_c2_1j.npy')\n",
    "#X=np.concatenate((X1, X2), axis=1)\n",
    "y=np.load('/home/miquel/ForMiquel/CLEAN2/y_short.npy')\n",
    "\n",
    "spl = StratifiedShuffleSplit(n_splits=1, test_size=0.3, random_state=42)\n",
    "for train_index, test_index in spl.split(X, y): #split in subjects\n",
    "    X_train = X[train_index,:]\n",
    "    X_test = X_dt[test_index,:]\n",
    "    y_train = y[train_index]\n",
    "    y_test = y[test_index]\n",
    "clf = LogisticRegression(solver='liblinear', penalty='l2', C=10)\n",
    "# Train the model using the training sets \n",
    "y_score = clf.fit(X_train, y_train).predict_proba(X_test)\n",
    "roc=roc_auc_score(y_test, y_score[:,1])\n",
    "f1=f1_score(y_test, pred)\n",
    "#Predict Output \n",
    "pred= clf.predict(X_test)\n",
    "from sklearn.metrics import matthews_corrcoef\n",
    "mcc=matthews_corrcoef(y_test, pred)\n",
    "print(accuracy_score(y_test, pred))\n",
    "print(roc)\n",
    "print(f1)\n",
    "print(mcc)\n",
    "confusion_matrix(y_test, pred)\n",
    "\n",
    "from sklearn.metrics import roc_auc_score\n",
    "from sklearn.metrics import roc_curve\n",
    "logit_roc_auc = roc_auc_score(y_test, clf.predict(X_test))\n",
    "fpr, tpr, thresholds = roc_curve(y_test, clf.predict_proba(X_test)[:,1])\n",
    "plt.figure()\n",
    "plt.plot(fpr, tpr, label='Logistic Regression (area = %0.2f)' % logit_roc_auc)\n",
    "plt.plot([0, 1], [0, 1],'r--')\n",
    "plt.xlim([0.0, 1.0])\n",
    "plt.ylim([0.0, 1.05])\n",
    "plt.xlabel('False Positive Rate')\n",
    "plt.ylabel('True Positive Rate')\n",
    "plt.title('Receiver operating characteristic')\n",
    "plt.legend(loc=\"lower right\")\n",
    "plt.savefig('Log_ROC')\n",
    "plt.show()"
   ]
  },
  {
   "cell_type": "code",
   "execution_count": 116,
   "metadata": {},
   "outputs": [],
   "source": [
    "X=np.load('/home/miquel/ForMiquel/CLEAN2/X_c2_1j.npy')\n",
    "X_dt=np.load('/home/miquel/ForMiquel/CLEAN2/X_c2_1j_dt.npy')\n",
    "y=np.load('/home/miquel/ForMiquel/CLEAN2/y_short.npy')\n",
    "spl = StratifiedShuffleSplit(n_splits=1, test_size=0.3, random_state=42)\n",
    "for train_index, test_index in spl.split(X, y): #split in subjects\n",
    "    X_train = X[train_index,:]\n",
    "    X_test = X[test_index,:]\n",
    "    y_train = y[train_index]\n",
    "    y_test = y[test_index]\n",
    "    "
   ]
  },
  {
   "cell_type": "code",
   "execution_count": 63,
   "metadata": {},
   "outputs": [
    {
     "data": {
      "text/plain": [
       "(86, 565765)"
      ]
     },
     "execution_count": 63,
     "metadata": {},
     "output_type": "execute_result"
    }
   ],
   "source": [
    "np.shape(X_train)"
   ]
  },
  {
   "cell_type": "code",
   "execution_count": 99,
   "metadata": {},
   "outputs": [],
   "source": [
    "from imports_func import *\n",
    "from sklearn.feature_selection import RFE\n",
    "from sklearn.svm import SVR\n",
    "estimator = SVC(kernel=\"linear\", C=100)\n",
    "#estimator = LogisticRegression(solver='liblinear', penalty='l2', C=100)\n",
    "selector = RFE(estimator, 150000, step=100000)\n",
    "selector = selector.fit(X_train, y_train)\n",
    "X_train = X_train[:,selector.support_]\n",
    "X_test = X_test[:,selector.support_]"
   ]
  },
  {
   "cell_type": "code",
   "execution_count": 91,
   "metadata": {},
   "outputs": [
    {
     "data": {
      "text/plain": [
       "(86, 150000)"
      ]
     },
     "execution_count": 91,
     "metadata": {},
     "output_type": "execute_result"
    }
   ],
   "source": [
    "np.shape(X_train)"
   ]
  },
  {
   "cell_type": "code",
   "execution_count": 117,
   "metadata": {},
   "outputs": [
    {
     "name": "stdout",
     "output_type": "stream",
     "text": [
      "0.605263157895\n",
      "0.63768115942\n",
      "0.210526315789\n",
      "0.0738653875754\n"
     ]
    },
    {
     "data": {
      "text/plain": [
       "array([[21,  2],\n",
       "       [13,  2]])"
      ]
     },
     "execution_count": 117,
     "metadata": {},
     "output_type": "execute_result"
    }
   ],
   "source": [
    "clf = SVC(kernel=\"linear\", C=10000)\n",
    "#clf = LogisticRegression(solver='liblinear', penalty='l2', C=100)\n",
    "\n",
    "y_score = clf.fit(X_train, y_train).decision_function(X_test)\n",
    "pred = clf.predict(X_test)\n",
    "acc = accuracy_score(y_test, pred)\n",
    "roc=roc_auc_score(y_test, y_score)\n",
    "f1=f1_score(y_test, pred)\n",
    "from sklearn.metrics import matthews_corrcoef\n",
    "mcc=matthews_corrcoef(y_test, pred)\n",
    "\n",
    "print(acc)\n",
    "print(roc)\n",
    "print(f1)\n",
    "print(mcc)\n",
    "confusion_matrix(y_test, pred)\n"
   ]
  },
  {
   "cell_type": "code",
   "execution_count": 8,
   "metadata": {},
   "outputs": [
    {
     "name": "stdout",
     "output_type": "stream",
     "text": [
      "(124, 43475)\n",
      "0.657894736842\n",
      "0.501449275362\n",
      "0.48\n",
      "0.250960886314\n",
      "(38,)\n",
      "[-2.01915456 -1.97430145 -1.65480588 -1.33682673 -1.33379311 -1.25734193\n",
      " -1.03383094 -0.89459582 -0.89071647 -0.79049447 -0.76022442 -0.68225109\n",
      " -0.62854009 -0.57771566 -0.55695987 -0.55115831 -0.54525726 -0.39540842\n",
      " -0.31422711 -0.30906827 -0.28460929 -0.24255184 -0.20698587 -0.20212629\n",
      " -0.1266958  -0.0761036  -0.04708064 -0.01316793  0.02324147  0.06404231\n",
      "  0.10977906  0.11030468  0.16083539  0.17354028  0.17845235  0.26523339\n",
      "  0.55216612  1.47521757]\n",
      "[ 0.39473684  0.37837838  0.36111111  0.34285714  0.35294118  0.36363636\n",
      "  0.375       0.35483871  0.36666667  0.34482759  0.35714286  0.37037037\n",
      "  0.34615385  0.32        0.33333333  0.34782609  0.36363636  0.38095238\n",
      "  0.4         0.42105263  0.38888889  0.41176471  0.4375      0.46666667\n",
      "  0.5         0.46153846  0.5         0.54545455  0.6         0.55555556\n",
      "  0.625       0.57142857  0.66666667  0.6         0.5         0.66666667\n",
      "  0.5         1.          1.        ]\n",
      "[ 1.          0.93333333  0.86666667  0.8         0.8         0.8         0.8\n",
      "  0.73333333  0.73333333  0.66666667  0.66666667  0.66666667  0.6\n",
      "  0.53333333  0.53333333  0.53333333  0.53333333  0.53333333  0.53333333\n",
      "  0.53333333  0.46666667  0.46666667  0.46666667  0.46666667  0.46666667\n",
      "  0.4         0.4         0.4         0.4         0.33333333  0.33333333\n",
      "  0.26666667  0.26666667  0.2         0.13333333  0.13333333  0.06666667\n",
      "  0.06666667  0.        ]\n"
     ]
    }
   ],
   "source": [
    "from imports_func import *\n",
    "from sklearn.feature_selection import VarianceThreshold\n",
    "X1=np.load('/home/miquel/ForMiquel/CLEAN2/X_c1_1j_dt.npy')\n",
    "#X2=np.load('/home/miquel/ForMiquel/CLEAN2/X_c2_1j_dt.npy')\n",
    "#X3=np.load('/home/miquel/ForMiquel/CLEAN2/X_c3_1j_dt.npy')\n",
    "y=np.load('/home/miquel/ForMiquel/CLEAN2/y_short.npy')\n",
    "\n",
    "# Create VarianceThreshold object with a variance with a threshold \n",
    "thresholder1 = VarianceThreshold(threshold=.00008)\n",
    "thresholder2 = VarianceThreshold(threshold=.00006)\n",
    "thresholder3 = VarianceThreshold(threshold=.0002)\n",
    "\n",
    "\n",
    "\n",
    "# Conduct variance thresholding\n",
    "X1 = thresholder1.fit_transform(X1)\n",
    "#X2 = thresholder2.fit_transform(X2)\n",
    "#X3 = thresholder3.fit_transform(X3)\n",
    "print(np.shape(X1))\n",
    "#print(np.shape(X2))\n",
    "#print(np.shape(X3))\n",
    "\n",
    "X=X1\n",
    "#X=np.concatenate((X1, X2), axis=1)\n",
    "#X=np.concatenate((X, X3), axis=1)\n",
    "\n",
    "spl = StratifiedShuffleSplit(n_splits=1, test_size=0.3, random_state=4)\n",
    "for train_index, test_index in spl.split(X, y): #split in subjects\n",
    "    X_train = X[train_index,:]\n",
    "    X_test = X[test_index,:]\n",
    "    y_train = y[train_index]\n",
    "    y_test = y[test_index]\n",
    "    \n",
    "clf = SVC(kernel=\"linear\", C=10000)\n",
    "#clf = LogisticRegression(solver='liblinear', penalty='l2', C=100)\n",
    "\n",
    "y_score = clf.fit(X_train, y_train).decision_function(X_test)\n",
    "pred = clf.predict(X_test)\n",
    "acc = accuracy_score(y_test, pred)\n",
    "roc=roc_auc_score(y_test, y_score)\n",
    "f1=f1_score(y_test, pred)\n",
    "from sklearn.metrics import matthews_corrcoef\n",
    "mcc=matthews_corrcoef(y_test, pred)\n",
    "\n",
    "print(acc)\n",
    "print(roc)\n",
    "print(f1)\n",
    "print(mcc)\n",
    "confusion_matrix(y_test, pred)\n",
    "precision, recall, thresholds = precision_recall_curve(y_test, y_score)\n",
    "print(np.shape(thresholds))\n",
    "print(thresholds)\n",
    "print(precision)\n",
    "print(recall)\n"
   ]
  },
  {
   "cell_type": "code",
   "execution_count": 5,
   "metadata": {},
   "outputs": [],
   "source": [
    "jac_idx=np.load('/home/miquel/ForMiquel/CLEAN2/jac_idx_1j_full2.npy') #subject labels\n",
    "y=[]\n",
    "for i in range(0, len(subjects_1_3_idx)):\n",
    "    if Subjects[subjects_1_3_idx[i]].jacobians[jac_idx[i]].label == 1:\n",
    "        y.append(0)\n",
    "    if Subjects[subjects_1_3_idx[i]].jacobians[jac_idx[i]].label == 3:\n",
    "        y.append(1)\n",
    "    \n"
   ]
  },
  {
   "cell_type": "code",
   "execution_count": 6,
   "metadata": {},
   "outputs": [
    {
     "name": "stdout",
     "output_type": "stream",
     "text": [
      "[1, 0, 1, 0, 0, 0, 1, 0, 0, 0, 0, 0, 0, 0, 0, 0, 1, 0, 1, 0, 0, 1, 0, 1, 1, 1, 0, 1, 1, 0, 0, 0, 1, 0, 1, 0, 0, 1, 0, 0, 0, 1, 1, 0, 1, 1, 1, 0, 0, 1, 0, 0, 0, 0, 0, 0, 0, 0, 1, 1, 1, 1, 0, 0, 0, 0, 1, 1, 1, 1, 0, 0, 1, 1, 1, 1, 0, 0, 1, 0, 0, 0, 1, 0, 0, 0, 1, 1, 0, 0, 0, 1, 1, 1, 1, 0, 1, 1, 1, 1, 0, 1, 0, 0, 0, 0, 0, 0, 0, 1, 0, 0, 0, 0, 0, 1, 1, 1, 0, 1, 0, 0, 0, 0]\n"
     ]
    }
   ],
   "source": [
    "print(y)\n",
    "np.shape(y)\n",
    "np.save('/home/miquel/ForMiquel/CLEAN2/y_1j_full2', y)"
   ]
  },
  {
   "cell_type": "code",
   "execution_count": null,
   "metadata": {},
   "outputs": [],
   "source": []
  }
 ],
 "metadata": {
  "kernelspec": {
   "display_name": "Python 3",
   "language": "python",
   "name": "python3"
  },
  "language_info": {
   "codemirror_mode": {
    "name": "ipython",
    "version": 3
   },
   "file_extension": ".py",
   "mimetype": "text/x-python",
   "name": "python",
   "nbconvert_exporter": "python",
   "pygments_lexer": "ipython3",
   "version": "3.4.2"
  }
 },
 "nbformat": 4,
 "nbformat_minor": 2
}
