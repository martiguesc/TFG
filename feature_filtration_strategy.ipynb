{
 "cells": [
  {
   "cell_type": "code",
   "execution_count": 2,
   "metadata": {},
   "outputs": [],
   "source": [
    "from imports_func import *\n",
    "from dbase import *\n",
    "import os\n",
    "import pandas as pd"
   ]
  },
  {
   "cell_type": "code",
   "execution_count": 3,
   "metadata": {},
   "outputs": [],
   "source": [
    "X=np.load('/home/miquel/ForMiquel/CLEAN2/X_c1_c2.npy') \n",
    "y=np.load('/home/miquel/ForMiquel/CLEAN2/y.npy') #jacobian labels\n",
    "y_short=np.load('/home/miquel/ForMiquel/CLEAN2/y_short.npy') #subject labels\n",
    "sub_id=np.load('/home/miquel/ForMiquel/CLEAN2/sub_id.npy') #jacobian idxs\n",
    "sub_id_short=np.load('/home/miquel/ForMiquel/CLEAN2/sub_id_short.npy') #subject idxs\n",
    "dt=np.load('/home/miquel/ForMiquel/CLEAN2/dt.npy') #subject idxs\n",
    "zeros=np.load('/home/miquel/ForMiquel/CLEAN2/zero_cols_JB_c1_c2.npy') #subject idxs"
   ]
  },
  {
   "cell_type": "code",
   "execution_count": 7,
   "metadata": {},
   "outputs": [
    {
     "name": "stdout",
     "output_type": "stream",
     "text": [
      "   ID  label\n",
      "0   2      1\n",
      "1   5      0\n",
      "2   6      1\n",
      "3   7      0\n",
      "4   8      0\n",
      "124\n",
      "288\n",
      "50\n",
      "114\n"
     ]
    }
   ],
   "source": [
    "sub = pd.DataFrame(columns=['ID','label'])\n",
    "\n",
    "sub['ID'] = sub_id_short\n",
    "sub['label'] = y_short\n",
    "print(sub.head())\n",
    "sub.to_csv('ids_labels_Adria.csv', index=False)\n",
    "\n",
    "print(len(y_short))\n",
    "print(len(y))\n",
    "\n",
    "print(np.sum(y_short))\n",
    "print(np.sum(y))"
   ]
  },
  {
   "cell_type": "code",
   "execution_count": null,
   "metadata": {},
   "outputs": [],
   "source": [
    "X=np.load('/home/miquel/ForMiquel/CLEAN2/X_c1_c2.npy') \n",
    "y=np.load('/home/miquel/ForMiquel/CLEAN2/y.npy') #jacobian labels\n",
    "y_short=np.load('/home/miquel/ForMiquel/CLEAN2/y_short.npy') #subject labels\n",
    "sub_id=np.load('/home/miquel/ForMiquel/CLEAN2/sub_id.npy') #jacobian idxs\n",
    "sub_id_short=np.load('/home/miquel/ForMiquel/CLEAN2/sub_id_short.npy') #subject idxs\n",
    "dt=np.load('/home/miquel/ForMiquel/CLEAN2/dt.npy') #subject idxs\n",
    "zeros=np.load('/home/miquel/ForMiquel/CLEAN2/zero_cols_JB_c1_c2.npy') #subject idxs"
   ]
  },
  {
   "cell_type": "code",
   "execution_count": 3,
   "metadata": {},
   "outputs": [],
   "source": [
    "def KFold_intern(X_train, y_train, folds, linspace, y_short_train, sub_id_train, sub_id_intern):\n",
    "    \n",
    "    l=len(linspace)\n",
    "    l2=len(y_short_train)\n",
    "    TP=np.zeros((l))\n",
    "    FP=np.zeros((l))\n",
    "    FN=np.zeros((l))\n",
    "        \n",
    "\n",
    "    kf = cross_validation.KFold(l2, n_folds=folds)\n",
    "\n",
    "    fold = 1\n",
    "       \n",
    "    for train_index_f, test_index_f in kf:  \n",
    "        aux = sub_id_train[train_index_f]\n",
    "        idx = np.isin(sub_id_intern, aux)\n",
    "        X_train_f = X_train[idx,:]\n",
    "        X_test_f = X_train[~idx,:]\n",
    "        y_train_f = y_train[idx]\n",
    "        y_test_f = y_train[~idx]\n",
    "        \n",
    "        fold = fold + 1\n",
    "     \n",
    "        tp_l=[]\n",
    "        fp_l=[]\n",
    "        fn_l=[]\n",
    "        \n",
    "        for c in linspace:\n",
    "            \n",
    "            clf = SVC(kernel='linear', probability = True, class_weight='balanced', C=c)\n",
    "            #clf = LogisticRegression(solver='liblinear', penalty='l2', C=c, class_weight='balanced')\n",
    "            clf.fit(X_train_f, y_train_f)\n",
    "            pred = clf.predict(X_test_f)\n",
    "            conf = confusion_matrix(y_test_f, pred)\n",
    "            \n",
    "            #mask0 = np.where(dt_test_f>1.09)#~400 days\n",
    "            #mask0 = np.asarray(mask0)\n",
    "            #pred = pred[mask0][0]\n",
    "            #y_test_f = y_test_f[mask0][0]\n",
    "            conf = confusion_matrix(y_test_f, pred)\n",
    "            tp_l.append(conf[1,1])\n",
    "            fp_l.append(conf[0,1])\n",
    "            fn_l.append(conf[1,0])\n",
    "            \n",
    "            \n",
    "        TP = np.vstack((TP, tp_l))\n",
    "        FP = np.vstack((FP, fp_l))\n",
    "        FN = np.vstack((FN, fn_l))\n",
    "        \n",
    "            \n",
    "    TP=TP[1:,:]\n",
    "    FP=FP[1:,:]\n",
    "    FN=FN[1:,:]\n",
    "    \n",
    "    TP=np.sum(TP, axis=0)\n",
    "    FP=np.sum(FP, axis=0)\n",
    "    FN=np.sum(FN, axis=0)\n",
    "    \n",
    "    F=(2*TP)/(2*TP + FP + FN)\n",
    "    maxi = np.amax(F)\n",
    "    maxi_idx = np.argmax(F)\n",
    "    \n",
    "    #plt.figure(1)\n",
    "    #plt.plot(linspace, F, color='blue', label='F-measure')\n",
    "    #plt.legend(loc='best')\n",
    "    #plt.xlabel('C')\n",
    "    #plt.title('metrics logistic regression combination c1 and c2')\n",
    "    #plt.show()\n",
    "    \n",
    "    return maxi, maxi_idx\n",
    "    \n",
    "\n",
    "\n",
    "  "
   ]
  },
  {
   "cell_type": "code",
   "execution_count": 10,
   "metadata": {},
   "outputs": [],
   "source": [
    "def nested_CV_F_measure(X, y, splits, folds, linspace, dt, percentage, y_short, sub_id, sub_id_short, zeros):\n",
    "   \n",
    "    box = np.zeros((121,145,121))\n",
    "    l2=X.shape[1]\n",
    "    W=np.zeros((l2))\n",
    "\n",
    "    SPECIFICITY=[]\n",
    "    PRECISION=[]\n",
    "    RECALL=[]\n",
    "    AUC=[]\n",
    "    F=[]\n",
    "    ACCURACY=[]\n",
    "    \n",
    "    SPECIFICITY1=[]\n",
    "    PRECISION1=[]\n",
    "    RECALL1=[]\n",
    "    AUC1=[]\n",
    "    F1=[]\n",
    "    ACCURACY1=[]\n",
    "    \n",
    "    tp_l=[]\n",
    "    fp_l=[]\n",
    "    fn_l=[]\n",
    "    \n",
    "    \n",
    "    spl = StratifiedShuffleSplit(n_splits=splits, test_size=0.2, random_state=42)\n",
    "    split=1\n",
    "    \n",
    "    for train_index, test_index in spl.split(sub_id_short, y_short): #split in subjects\n",
    "        sub_id_train = sub_id_short[train_index] #search subject train idxs\n",
    "        idx = np.isin(sub_id, sub_id_train) #match train idxs \n",
    "        X_train = X[idx,:]\n",
    "        X_test = X[~idx,:]\n",
    "        y_train = y[idx]\n",
    "        y_test = y[~idx]\n",
    "        dt_test = dt[~idx]\n",
    "        sub_id_intern=sub_id[idx]\n",
    "        y_short_train=y_short[train_index]\n",
    "        print(\"split:\", split)\n",
    "        #print(\"jacobians at train:\", X_train.shape[0])\n",
    "        split = split + 1\n",
    "        \n",
    "        S = SelectPercentile(percentile=percentage)\n",
    "        S.fit(X_train, y_train)\n",
    "        scores = np.nan_to_num(S.scores_)\n",
    "        W = np.vstack((W, scores))\n",
    "        \n",
    "        X_train_s = X_train[:,S.get_support()]\n",
    "        X_test_s = X_test[:,S.get_support()]\n",
    "     \n",
    "        maxi, maxi_idx = KFold_intern(X_train_s, y_train, folds, linspace, y_short_train, sub_id_train, sub_id_intern)\n",
    "        c = linspace[maxi_idx]\n",
    "        print(\"C:\", c)\n",
    "        \n",
    "        #clf = SVC(kernel='linear', probability = True, class_weight='balanced', C=c)\n",
    "        clf = LogisticRegression(solver='liblinear', penalty='l2', C=c, class_weight='balanced')\n",
    "        clf.fit(X_train_s, y_train)\n",
    "        pred = clf.predict(X_test_s)\n",
    "        probas_ = clf.predict_proba(X_test_s)\n",
    "        \n",
    "\n",
    "        probas_ = probas_[:, 1]\n",
    "        \n",
    "        #preparation masks to test AUC as function of dt\n",
    "        mask1 = np.where(dt_test>1000)#~400 days\n",
    "        mask1 = np.asarray(mask1)\n",
    "        pred_1 = pred[mask1][0]\n",
    "        y_test_1 = y_test[mask1][0]\n",
    "        probas_1 = probas_[mask1][0]\n",
    "        \n",
    "        conf = confusion_matrix(y_test, pred)\n",
    "        print(\"confusion matrix:\", conf)\n",
    "        tp_l.append(conf[1,1])\n",
    "        fp_l.append(conf[0,1])\n",
    "        fn_l.append(conf[1,0])\n",
    "        \n",
    "        f1=f1_score(y_test, pred)\n",
    "        F.append(f1)\n",
    "        \n",
    "        f1_1=f1_score(y_test_1, pred_1)\n",
    "        if np.isnan(f1_1) == False:\n",
    "            F1.append(f1_1)\n",
    "        \n",
    "        \n",
    "        #print(\"muestras en test:\", len(y_test))\n",
    "        fpr, tpr, thresholds = roc_curve(y_test, probas_)\n",
    "        roc_auc = sklearn.metrics.auc(fpr, tpr)\n",
    "        AUC.append(roc_auc)\n",
    "        \n",
    "        #print(\"muestras en test menos 1 año:\", len(y_test_1))\n",
    "        fpr, tpr, thresholds = roc_curve(y_test_1, probas_1)\n",
    "        roc_auc_1 = sklearn.metrics.auc(fpr, tpr)\n",
    "        if np.isnan(roc_auc_1) == False:\n",
    "            AUC1.append(roc_auc_1)\n",
    "\n",
    "        precision=precision_score(y_test, pred)\n",
    "        recall=recall_score(y_test, pred)\n",
    "        PRECISION.append(precision)\n",
    "        RECALL.append(recall)\n",
    "        specificity= (conf[0,0])/(conf[0,0]+conf[0,1])\n",
    "        SPECIFICITY.append(specificity)\n",
    "        acc=accuracy_score(y_test, pred)\n",
    "        ACCURACY.append(acc)\n",
    "        \n",
    "        precision1=precision_score(y_test_1, pred_1)\n",
    "        recall1=recall_score(y_test_1, pred_1)\n",
    "        PRECISION1.append(precision1)\n",
    "        RECALL1.append(recall1)\n",
    "        conf1 = confusion_matrix(y_test_1, pred_1)\n",
    "        \n",
    "#         try:\n",
    "#             a = conf[0,1]\n",
    "#         except:\n",
    "#             conf[0,1] = 0\n",
    "#             print(conf1)\n",
    "        \n",
    "#         try:\n",
    "#             a = conf[1,0]\n",
    "#         except:\n",
    "#             conf[1,0] = 0\n",
    "#             print(conf1)\n",
    "         \n",
    "#         try:\n",
    "#             a = conf[1,1]\n",
    "#         except:\n",
    "#             conf[1,1] = 0\n",
    "#             print(conf1)\n",
    "            \n",
    "        print(\"confusion matrix 1:\", conf1)\n",
    "        try:\n",
    "            specificity1= (conf1[0,0])/(conf1[0,0]+conf1[0,1])\n",
    "        except:\n",
    "            pass\n",
    "        if np.isnan(specificity1) == False:\n",
    "            SPECIFICITY1.append(specificity1)\n",
    "        acc1=accuracy_score(y_test_1, pred_1)\n",
    "        ACCURACY1.append(acc1)\n",
    "        \n",
    "    TP=np.sum(tp_l, axis=0)\n",
    "    FP=np.sum(fp_l, axis=0)\n",
    "    FN=np.sum(fn_l, axis=0)\n",
    "\n",
    "    \n",
    "    F_g=(2*TP)/(2*TP + FP + FN)\n",
    "    \n",
    "\n",
    "    print(\"ACCURACY_mean:\", np.mean(ACCURACY))\n",
    "    print(\"PRECISION_mean:\", np.mean(PRECISION))\n",
    "    print(\"RECALL_mean:\", np.mean(RECALL))\n",
    "    print(\"SPECIFICITY_mean:\", np.mean(SPECIFICITY))\n",
    "    print(\"F_mean:\", np.mean(F))\n",
    "    print(\"AUC_mean:\", np.mean(AUC))\n",
    "    \n",
    "    print(\"ACCURACY1_mean:\", np.mean(ACCURACY1))\n",
    "    print(\"PRECISION1_mean:\", np.mean(PRECISION1))\n",
    "    print(\"RECALL1_mean:\", np.mean(RECALL1))\n",
    "    print(\"SPECIFICITY1_mean:\", np.mean(SPECIFICITY1))\n",
    "    print(\"F1_mean:\", np.mean(F1))\n",
    "    print(\"AUC1_mean:\", np.mean(AUC1))\n",
    "\n",
    "    print(\"ACCURACY_std:\", np.std(ACCURACY))\n",
    "    print(\"PRECISION_std:\", np.std(PRECISION))\n",
    "    print(\"RECALL_std:\", np.std(RECALL))\n",
    "    print(\"SPECIFICITY_std:\", np.std(SPECIFICITY))\n",
    "    print(\"F_std:\", np.std(F))\n",
    "    print(\"AUC_std:\", np.std(AUC))\n",
    "\n",
    "    print(\"ACCURACY1_std:\", np.std(ACCURACY1))\n",
    "    print(\"PRECISION1_std:\", np.std(PRECISION1))\n",
    "    print(\"RECALL1_std:\", np.std(RECALL1))\n",
    "    print(\"SPECIFICITY1_std:\", np.std(SPECIFICITY1))\n",
    "    print(\"F1_std:\", np.std(F1))\n",
    "    print(\"AUC1_std:\", np.std(AUC1))\n",
    "    \n",
    "    W=W[1:,:]\n",
    "    W=np.sum(W, axis=0)\n",
    "    \n",
    "    #path = '/home/miquel/ForMiquel/CLEAN2/scores_' + str(splits) + '_' + str(percentage)\n",
    "    #np.save(path, W)\n",
    "\n",
    "    return np.mean(F), np.mean(AUC), np.mean(PRECISION), np.mean(RECALL), np.mean(SPECIFICITY), np.mean(ACCURACY), np.std(F), np.std(AUC), np.std(PRECISION), np.std(RECALL), np.std(SPECIFICITY), np.std(ACCURACY),np.mean(F1), np.mean(AUC1), np.mean(PRECISION1), np.mean(RECALL1), np.mean(SPECIFICITY1), np.mean(ACCURACY1), np.std(F1), np.std(AUC1), np.std(PRECISION1), np.std(RECALL1), np.std(SPECIFICITY1), np.std(ACCURACY1)\n",
    "\n"
   ]
  },
  {
   "cell_type": "code",
   "execution_count": 61,
   "metadata": {},
   "outputs": [],
   "source": [
    "aux=np.load('/home/miquel/ForMiquel/CLEAN2/scores_100_0.35.npy') \n",
    "#aux = np.sum(W, axis=0)\n",
    "zero_cols=np.load('/home/miquel/ForMiquel/CLEAN2/zero_cols_JB_c1_c2.npy')\n",
    "v = np.zeros((121*145*121,)) \n",
    "v[~zero_cols]=np.reshape(aux,(len(aux),)) #put pvalues in corresponding positions\n",
    "img = np.reshape(v, (121,145,121)) #reshape to original image shape\n",
    "img = np.transpose(img)\n",
    "np.save('/home/miquel/ForMiquel/CLEAN2/scores_100_0.35', img)\n",
    "new_img = nib.Nifti1Image(img, np.eye(4))\n",
    "nib.save(new_img, \"scores_100_0.35_img.nii.gz\")"
   ]
  },
  {
   "cell_type": "code",
   "execution_count": 11,
   "metadata": {},
   "outputs": [
    {
     "name": "stdout",
     "output_type": "stream",
     "text": [
      "split: 1\n"
     ]
    },
    {
     "name": "stderr",
     "output_type": "stream",
     "text": [
      "/usr/local/lib/python3.4/dist-packages/sklearn/feature_selection/univariate_selection.py:113: UserWarning: Features [    13     99    180 ..., 580922 580925 580926] are constant.\n",
      "  UserWarning)\n",
      "/usr/local/lib/python3.4/dist-packages/sklearn/feature_selection/univariate_selection.py:114: RuntimeWarning: invalid value encountered in true_divide\n",
      "  f = msb / msw\n"
     ]
    },
    {
     "name": "stdout",
     "output_type": "stream",
     "text": [
      "C: 0.445\n",
      "confusion matrix: [[15  6]\n",
      " [ 9 10]]\n",
      "confusion matrix 1: [[0 1]\n",
      " [1 4]]\n",
      "split: 2\n"
     ]
    },
    {
     "name": "stderr",
     "output_type": "stream",
     "text": [
      "/usr/local/lib/python3.4/dist-packages/sklearn/feature_selection/univariate_selection.py:113: UserWarning: Features [   354    426    546 ..., 580917 580918 580919] are constant.\n",
      "  UserWarning)\n"
     ]
    },
    {
     "name": "stdout",
     "output_type": "stream",
     "text": [
      "C: 0.556\n",
      "confusion matrix: [[34  6]\n",
      " [18 10]]\n",
      "confusion matrix 1: [[9 3]\n",
      " [0 5]]\n",
      "split: 3\n"
     ]
    },
    {
     "name": "stderr",
     "output_type": "stream",
     "text": [
      "/usr/local/lib/python3.4/dist-packages/sklearn/feature_selection/univariate_selection.py:113: UserWarning: Features [   295    303    317 ..., 580917 580918 580919] are constant.\n",
      "  UserWarning)\n"
     ]
    },
    {
     "name": "stdout",
     "output_type": "stream",
     "text": [
      "C: 0.778\n",
      "confusion matrix: [[37 19]\n",
      " [ 7 12]]\n",
      "confusion matrix 1: [[ 8 14]\n",
      " [ 0  5]]\n",
      "split: 4\n"
     ]
    },
    {
     "name": "stderr",
     "output_type": "stream",
     "text": [
      "/usr/local/lib/python3.4/dist-packages/sklearn/feature_selection/univariate_selection.py:113: UserWarning: Features [   402    426    451 ..., 580922 580925 580926] are constant.\n",
      "  UserWarning)\n"
     ]
    },
    {
     "name": "stdout",
     "output_type": "stream",
     "text": [
      "C: 0.334\n",
      "confusion matrix: [[30 11]\n",
      " [ 8  7]]\n",
      "confusion matrix 1: [[9 5]\n",
      " [0 4]]\n",
      "split: 5\n"
     ]
    },
    {
     "name": "stderr",
     "output_type": "stream",
     "text": [
      "/usr/local/lib/python3.4/dist-packages/sklearn/feature_selection/univariate_selection.py:113: UserWarning: Features [   295    303    312 ..., 580895 580896 580897] are constant.\n",
      "  UserWarning)\n"
     ]
    },
    {
     "name": "stdout",
     "output_type": "stream",
     "text": [
      "C: 0.556\n",
      "confusion matrix: [[26 18]\n",
      " [11 10]]\n",
      "confusion matrix 1: [[ 2 11]\n",
      " [ 3  5]]\n",
      "split: 6\n"
     ]
    },
    {
     "name": "stderr",
     "output_type": "stream",
     "text": [
      "/usr/local/lib/python3.4/dist-packages/sklearn/feature_selection/univariate_selection.py:113: UserWarning: Features [   151    287    357 ..., 580885 580886 580887] are constant.\n",
      "  UserWarning)\n"
     ]
    },
    {
     "name": "stdout",
     "output_type": "stream",
     "text": [
      "C: 1.0\n",
      "confusion matrix: [[26 12]\n",
      " [ 8 16]]\n",
      "confusion matrix 1: [[7 7]\n",
      " [0 8]]\n",
      "split: 7\n"
     ]
    },
    {
     "name": "stderr",
     "output_type": "stream",
     "text": [
      "/usr/local/lib/python3.4/dist-packages/sklearn/feature_selection/univariate_selection.py:113: UserWarning: Features [    85    129    140 ..., 580903 580904 580905] are constant.\n",
      "  UserWarning)\n"
     ]
    },
    {
     "name": "stdout",
     "output_type": "stream",
     "text": [
      "C: 0.334\n",
      "confusion matrix: [[29 24]\n",
      " [11 13]]\n",
      "confusion matrix 1: [[ 2 17]\n",
      " [ 0  6]]\n",
      "split: 8\n"
     ]
    },
    {
     "name": "stderr",
     "output_type": "stream",
     "text": [
      "/usr/local/lib/python3.4/dist-packages/sklearn/feature_selection/univariate_selection.py:113: UserWarning: Features [   187    192    193 ..., 580886 580887 580924] are constant.\n",
      "  UserWarning)\n"
     ]
    },
    {
     "name": "stdout",
     "output_type": "stream",
     "text": [
      "C: 0.334\n",
      "confusion matrix: [[19  2]\n",
      " [16 12]]\n",
      "confusion matrix 1: [[0 1]\n",
      " [3 6]]\n",
      "split: 9\n"
     ]
    },
    {
     "name": "stderr",
     "output_type": "stream",
     "text": [
      "/usr/local/lib/python3.4/dist-packages/sklearn/feature_selection/univariate_selection.py:113: UserWarning: Features [   180    181    185 ..., 580913 580914 580915] are constant.\n",
      "  UserWarning)\n"
     ]
    },
    {
     "name": "stdout",
     "output_type": "stream",
     "text": [
      "C: 0.556\n",
      "confusion matrix: [[18  3]\n",
      " [12 17]]\n",
      "confusion matrix 1: [[ 2  1]\n",
      " [ 0 12]]\n",
      "split: 10\n"
     ]
    },
    {
     "name": "stderr",
     "output_type": "stream",
     "text": [
      "/usr/local/lib/python3.4/dist-packages/sklearn/feature_selection/univariate_selection.py:113: UserWarning: Features [   334    347    354 ..., 580913 580914 580915] are constant.\n",
      "  UserWarning)\n"
     ]
    },
    {
     "name": "stdout",
     "output_type": "stream",
     "text": [
      "C: 0.556\n",
      "confusion matrix: [[26  6]\n",
      " [11  6]]\n",
      "confusion matrix 1: [[6 4]\n",
      " [0 4]]\n",
      "split: 11\n"
     ]
    },
    {
     "name": "stderr",
     "output_type": "stream",
     "text": [
      "/usr/local/lib/python3.4/dist-packages/sklearn/feature_selection/univariate_selection.py:113: UserWarning: Features [   151    295    303 ..., 580913 580914 580915] are constant.\n",
      "  UserWarning)\n"
     ]
    },
    {
     "name": "stdout",
     "output_type": "stream",
     "text": [
      "C: 1.0\n",
      "confusion matrix: [[30 14]\n",
      " [12 23]]\n",
      "confusion matrix 1: [[ 7 10]\n",
      " [ 0 13]]\n",
      "split: 12\n"
     ]
    },
    {
     "name": "stderr",
     "output_type": "stream",
     "text": [
      "/usr/local/lib/python3.4/dist-packages/sklearn/feature_selection/univariate_selection.py:113: UserWarning: Features [   207    402    483 ..., 580922 580925 580926] are constant.\n",
      "  UserWarning)\n"
     ]
    },
    {
     "name": "stdout",
     "output_type": "stream",
     "text": [
      "C: 1.0\n",
      "confusion matrix: [[37 15]\n",
      " [12  9]]\n",
      "confusion matrix 1: [[11 11]\n",
      " [ 0  3]]\n",
      "split: 13\n"
     ]
    },
    {
     "name": "stderr",
     "output_type": "stream",
     "text": [
      "/usr/local/lib/python3.4/dist-packages/sklearn/feature_selection/univariate_selection.py:113: UserWarning: Features [   334    347    387 ..., 580876 580888 580889] are constant.\n",
      "  UserWarning)\n"
     ]
    },
    {
     "name": "stdout",
     "output_type": "stream",
     "text": [
      "C: 0.778\n",
      "confusion matrix: [[24  8]\n",
      " [13  8]]\n",
      "confusion matrix 1: [[6 5]\n",
      " [0 3]]\n",
      "split: 14\n"
     ]
    },
    {
     "name": "stderr",
     "output_type": "stream",
     "text": [
      "/usr/local/lib/python3.4/dist-packages/sklearn/feature_selection/univariate_selection.py:113: UserWarning: Features [    13     99    207 ..., 580922 580925 580926] are constant.\n",
      "  UserWarning)\n"
     ]
    },
    {
     "name": "stdout",
     "output_type": "stream",
     "text": [
      "C: 0.667\n",
      "confusion matrix: [[22 11]\n",
      " [ 7 13]]\n",
      "confusion matrix 1: [[2 7]\n",
      " [0 7]]\n",
      "split: 15\n"
     ]
    },
    {
     "name": "stderr",
     "output_type": "stream",
     "text": [
      "/usr/local/lib/python3.4/dist-packages/sklearn/feature_selection/univariate_selection.py:113: UserWarning: Features [   295    303    319 ..., 580786 580800 580815] are constant.\n",
      "  UserWarning)\n"
     ]
    },
    {
     "name": "stdout",
     "output_type": "stream",
     "text": [
      "C: 0.667\n",
      "confusion matrix: [[26 14]\n",
      " [13 11]]\n",
      "confusion matrix 1: [[ 3 10]\n",
      " [ 0  6]]\n",
      "split: 16\n"
     ]
    },
    {
     "name": "stderr",
     "output_type": "stream",
     "text": [
      "/usr/local/lib/python3.4/dist-packages/sklearn/feature_selection/univariate_selection.py:113: UserWarning: Features [   180    181    185 ..., 580917 580918 580919] are constant.\n",
      "  UserWarning)\n"
     ]
    },
    {
     "name": "stdout",
     "output_type": "stream",
     "text": [
      "C: 0.667\n",
      "confusion matrix: [[34  5]\n",
      " [13 15]]\n",
      "confusion matrix 1: [[11  3]\n",
      " [ 0  8]]\n",
      "split: 17\n"
     ]
    },
    {
     "name": "stderr",
     "output_type": "stream",
     "text": [
      "/usr/local/lib/python3.4/dist-packages/sklearn/feature_selection/univariate_selection.py:113: UserWarning: Features [    13     99    400 ..., 580895 580896 580897] are constant.\n",
      "  UserWarning)\n"
     ]
    },
    {
     "name": "stdout",
     "output_type": "stream",
     "text": [
      "C: 0.445\n",
      "confusion matrix: [[18  8]\n",
      " [ 9  3]]\n",
      "confusion matrix 1: [[2 2]\n",
      " [1 1]]\n",
      "split: 18\n"
     ]
    },
    {
     "name": "stderr",
     "output_type": "stream",
     "text": [
      "/usr/local/lib/python3.4/dist-packages/sklearn/feature_selection/univariate_selection.py:113: UserWarning: Features [   207    334    347 ..., 580865 580877 580881] are constant.\n",
      "  UserWarning)\n"
     ]
    },
    {
     "name": "stdout",
     "output_type": "stream",
     "text": [
      "C: 0.445\n",
      "confusion matrix: [[18 12]\n",
      " [12  5]]\n",
      "confusion matrix 1: [[2 4]\n",
      " [0 1]]\n",
      "split: 19\n"
     ]
    },
    {
     "name": "stderr",
     "output_type": "stream",
     "text": [
      "/usr/local/lib/python3.4/dist-packages/sklearn/feature_selection/univariate_selection.py:113: UserWarning: Features [   180    181    185 ..., 580786 580800 580815] are constant.\n",
      "  UserWarning)\n"
     ]
    },
    {
     "name": "stdout",
     "output_type": "stream",
     "text": [
      "C: 0.112\n",
      "confusion matrix: [[25 20]\n",
      " [ 6  6]]\n",
      "confusion matrix 1: [[ 0 10]\n",
      " [ 0  1]]\n",
      "split: 20\n"
     ]
    },
    {
     "name": "stderr",
     "output_type": "stream",
     "text": [
      "/usr/local/lib/python3.4/dist-packages/sklearn/feature_selection/univariate_selection.py:113: UserWarning: Features [   177    182    187 ..., 580914 580915 580924] are constant.\n",
      "  UserWarning)\n"
     ]
    },
    {
     "name": "stdout",
     "output_type": "stream",
     "text": [
      "C: 1.0\n",
      "confusion matrix: [[17 10]\n",
      " [10 12]]\n",
      "confusion matrix 1: [[0 4]\n",
      " [1 7]]\n",
      "split: 21\n"
     ]
    },
    {
     "name": "stderr",
     "output_type": "stream",
     "text": [
      "/usr/local/lib/python3.4/dist-packages/sklearn/feature_selection/univariate_selection.py:113: UserWarning: Features [    13     99    129 ..., 580917 580918 580919] are constant.\n",
      "  UserWarning)\n"
     ]
    },
    {
     "name": "stdout",
     "output_type": "stream",
     "text": [
      "C: 0.889\n",
      "confusion matrix: [[31 12]\n",
      " [11  6]]\n",
      "confusion matrix 1: [[7 7]\n",
      " [2 3]]\n",
      "split: 22\n"
     ]
    },
    {
     "name": "stderr",
     "output_type": "stream",
     "text": [
      "/usr/local/lib/python3.4/dist-packages/sklearn/feature_selection/univariate_selection.py:113: UserWarning: Features [   334    347    357 ..., 580752 580753 580857] are constant.\n",
      "  UserWarning)\n"
     ]
    },
    {
     "name": "stdout",
     "output_type": "stream",
     "text": [
      "C: 0.889\n",
      "confusion matrix: [[24 10]\n",
      " [ 8 28]]\n",
      "confusion matrix 1: [[ 2  8]\n",
      " [ 2 14]]\n",
      "split: 23\n"
     ]
    },
    {
     "name": "stderr",
     "output_type": "stream",
     "text": [
      "/usr/local/lib/python3.4/dist-packages/sklearn/feature_selection/univariate_selection.py:113: UserWarning: Features [    13     99    180 ..., 580903 580904 580905] are constant.\n",
      "  UserWarning)\n"
     ]
    },
    {
     "name": "stdout",
     "output_type": "stream",
     "text": [
      "C: 0.223\n",
      "confusion matrix: [[14  1]\n",
      " [11  6]]\n"
     ]
    },
    {
     "name": "stderr",
     "output_type": "stream",
     "text": [
      "/usr/local/lib/python3.4/dist-packages/sklearn/metrics/ranking.py:563: UndefinedMetricWarning: No negative samples in y_true, false positive value should be meaningless\n",
      "  UndefinedMetricWarning)\n"
     ]
    },
    {
     "name": "stdout",
     "output_type": "stream",
     "text": [
      "confusion matrix 1: [[3]]\n",
      "split: 24\n"
     ]
    },
    {
     "name": "stderr",
     "output_type": "stream",
     "text": [
      "/usr/local/lib/python3.4/dist-packages/sklearn/feature_selection/univariate_selection.py:113: UserWarning: Features [    13     90     99 ..., 580920 580921 580924] are constant.\n",
      "  UserWarning)\n"
     ]
    },
    {
     "name": "stdout",
     "output_type": "stream",
     "text": [
      "C: 1.0\n",
      "confusion matrix: [[25 10]\n",
      " [ 7  7]]\n",
      "confusion matrix 1: [[5 8]\n",
      " [1 2]]\n",
      "split: 25\n"
     ]
    },
    {
     "name": "stderr",
     "output_type": "stream",
     "text": [
      "/usr/local/lib/python3.4/dist-packages/sklearn/feature_selection/univariate_selection.py:113: UserWarning: Features [    13     99    293 ..., 580876 580888 580889] are constant.\n",
      "  UserWarning)\n"
     ]
    },
    {
     "name": "stdout",
     "output_type": "stream",
     "text": [
      "C: 0.556\n",
      "confusion matrix: [[29 12]\n",
      " [ 9 13]]\n",
      "confusion matrix 1: [[5 8]\n",
      " [0 6]]\n",
      "split: 26\n"
     ]
    },
    {
     "name": "stderr",
     "output_type": "stream",
     "text": [
      "/usr/local/lib/python3.4/dist-packages/sklearn/feature_selection/univariate_selection.py:113: UserWarning: Features [   129    140    237 ..., 580902 580906 580907] are constant.\n",
      "  UserWarning)\n"
     ]
    },
    {
     "name": "stdout",
     "output_type": "stream",
     "text": [
      "C: 0.334\n",
      "confusion matrix: [[28  9]\n",
      " [22 19]]\n",
      "confusion matrix 1: [[ 5  5]\n",
      " [ 3 10]]\n",
      "split: 27\n"
     ]
    },
    {
     "name": "stderr",
     "output_type": "stream",
     "text": [
      "/usr/local/lib/python3.4/dist-packages/sklearn/feature_selection/univariate_selection.py:113: UserWarning: Features [   151    287    334 ..., 580902 580906 580907] are constant.\n",
      "  UserWarning)\n"
     ]
    },
    {
     "name": "stdout",
     "output_type": "stream",
     "text": [
      "C: 0.778\n",
      "confusion matrix: [[21  5]\n",
      " [13  8]]\n",
      "confusion matrix 1: [[1 5]\n",
      " [2 3]]\n",
      "split: 28\n"
     ]
    },
    {
     "name": "stderr",
     "output_type": "stream",
     "text": [
      "/usr/local/lib/python3.4/dist-packages/sklearn/feature_selection/univariate_selection.py:113: UserWarning: Features [    13     99    357 ..., 580895 580896 580897] are constant.\n",
      "  UserWarning)\n"
     ]
    },
    {
     "name": "stdout",
     "output_type": "stream",
     "text": [
      "C: 0.778\n",
      "confusion matrix: [[27 11]\n",
      " [ 8  4]]\n"
     ]
    },
    {
     "name": "stderr",
     "output_type": "stream",
     "text": [
      "/usr/local/lib/python3.4/dist-packages/sklearn/metrics/classification.py:1137: UndefinedMetricWarning: F-score is ill-defined and being set to 0.0 due to no true samples.\n",
      "  'recall', 'true', average, warn_for)\n",
      "/usr/local/lib/python3.4/dist-packages/sklearn/metrics/ranking.py:571: UndefinedMetricWarning: No positive samples in y_true, true positive value should be meaningless\n",
      "  UndefinedMetricWarning)\n",
      "/usr/local/lib/python3.4/dist-packages/sklearn/metrics/classification.py:1137: UndefinedMetricWarning: Recall is ill-defined and being set to 0.0 due to no true samples.\n",
      "  'recall', 'true', average, warn_for)\n"
     ]
    },
    {
     "name": "stdout",
     "output_type": "stream",
     "text": [
      "confusion matrix 1: [[6 7]\n",
      " [0 0]]\n",
      "split: 29\n"
     ]
    },
    {
     "name": "stderr",
     "output_type": "stream",
     "text": [
      "/usr/local/lib/python3.4/dist-packages/sklearn/feature_selection/univariate_selection.py:113: UserWarning: Features [   129    140    151 ..., 580903 580904 580905] are constant.\n",
      "  UserWarning)\n"
     ]
    },
    {
     "name": "stdout",
     "output_type": "stream",
     "text": [
      "C: 0.445\n",
      "confusion matrix: [[28 12]\n",
      " [14  7]]\n",
      "confusion matrix 1: [[5 8]\n",
      " [4 4]]\n",
      "split: 30\n"
     ]
    },
    {
     "name": "stderr",
     "output_type": "stream",
     "text": [
      "/usr/local/lib/python3.4/dist-packages/sklearn/feature_selection/univariate_selection.py:113: UserWarning: Features [   151    207    357 ..., 580922 580925 580926] are constant.\n",
      "  UserWarning)\n"
     ]
    },
    {
     "name": "stdout",
     "output_type": "stream",
     "text": [
      "C: 0.667\n",
      "confusion matrix: [[25  6]\n",
      " [ 9 24]]\n",
      "confusion matrix 1: [[ 6  3]\n",
      " [ 1 14]]\n",
      "split: 31\n"
     ]
    },
    {
     "name": "stderr",
     "output_type": "stream",
     "text": [
      "/usr/local/lib/python3.4/dist-packages/sklearn/feature_selection/univariate_selection.py:113: UserWarning: Features [   151    187    192 ..., 580924 580925 580926] are constant.\n",
      "  UserWarning)\n"
     ]
    },
    {
     "name": "stdout",
     "output_type": "stream",
     "text": [
      "C: 0.556\n",
      "confusion matrix: [[19  5]\n",
      " [11 13]]\n",
      "confusion matrix 1: [[4 2]\n",
      " [3 7]]\n",
      "split: 32\n"
     ]
    },
    {
     "name": "stderr",
     "output_type": "stream",
     "text": [
      "/usr/local/lib/python3.4/dist-packages/sklearn/feature_selection/univariate_selection.py:113: UserWarning: Features [   129    140    237 ..., 580895 580896 580897] are constant.\n",
      "  UserWarning)\n"
     ]
    },
    {
     "name": "stdout",
     "output_type": "stream",
     "text": [
      "C: 0.556\n",
      "confusion matrix: [[22 16]\n",
      " [10 23]]\n",
      "confusion matrix 1: [[ 2  9]\n",
      " [ 0 11]]\n",
      "split: 33\n"
     ]
    },
    {
     "name": "stderr",
     "output_type": "stream",
     "text": [
      "/usr/local/lib/python3.4/dist-packages/sklearn/feature_selection/univariate_selection.py:113: UserWarning: Features [   129    140    237 ..., 580913 580914 580915] are constant.\n",
      "  UserWarning)\n"
     ]
    },
    {
     "name": "stdout",
     "output_type": "stream",
     "text": [
      "C: 0.889\n",
      "confusion matrix: [[24 12]\n",
      " [11  8]]\n",
      "confusion matrix 1: [[5 6]\n",
      " [0 3]]\n",
      "split: 34\n"
     ]
    },
    {
     "name": "stderr",
     "output_type": "stream",
     "text": [
      "/usr/local/lib/python3.4/dist-packages/sklearn/feature_selection/univariate_selection.py:113: UserWarning: Features [   151    180    181 ..., 580607 580653 580670] are constant.\n",
      "  UserWarning)\n"
     ]
    },
    {
     "name": "stdout",
     "output_type": "stream",
     "text": [
      "C: 0.556\n",
      "confusion matrix: [[23 19]\n",
      " [13 20]]\n",
      "confusion matrix 1: [[ 3 15]\n",
      " [ 2 10]]\n",
      "split: 35\n"
     ]
    },
    {
     "name": "stderr",
     "output_type": "stream",
     "text": [
      "/usr/local/lib/python3.4/dist-packages/sklearn/feature_selection/univariate_selection.py:113: UserWarning: Features [   129    140    180 ..., 580922 580925 580926] are constant.\n",
      "  UserWarning)\n"
     ]
    },
    {
     "name": "stdout",
     "output_type": "stream",
     "text": [
      "C: 1.0\n",
      "confusion matrix: [[22  9]\n",
      " [12 15]]\n",
      "confusion matrix 1: [[3 7]\n",
      " [0 7]]\n",
      "split: 36\n"
     ]
    },
    {
     "name": "stderr",
     "output_type": "stream",
     "text": [
      "/usr/local/lib/python3.4/dist-packages/sklearn/feature_selection/univariate_selection.py:113: UserWarning: Features [   129    140    151 ..., 580857 580865 580877] are constant.\n",
      "  UserWarning)\n"
     ]
    },
    {
     "name": "stdout",
     "output_type": "stream",
     "text": [
      "C: 0.889\n",
      "confusion matrix: [[23 13]\n",
      " [ 8  6]]\n",
      "confusion matrix 1: [[4 7]\n",
      " [0 0]]\n",
      "split: 37\n"
     ]
    },
    {
     "name": "stderr",
     "output_type": "stream",
     "text": [
      "/usr/local/lib/python3.4/dist-packages/sklearn/feature_selection/univariate_selection.py:113: UserWarning: Features [   151    180    181 ..., 580922 580925 580926] are constant.\n",
      "  UserWarning)\n"
     ]
    },
    {
     "name": "stdout",
     "output_type": "stream",
     "text": [
      "C: 0.556\n",
      "confusion matrix: [[28  9]\n",
      " [19  9]]\n",
      "confusion matrix 1: [[8 7]\n",
      " [3 5]]\n",
      "split: 38\n"
     ]
    },
    {
     "name": "stderr",
     "output_type": "stream",
     "text": [
      "/usr/local/lib/python3.4/dist-packages/sklearn/feature_selection/univariate_selection.py:113: UserWarning: Features [   334    347    415 ..., 580917 580918 580919] are constant.\n",
      "  UserWarning)\n"
     ]
    },
    {
     "name": "stdout",
     "output_type": "stream",
     "text": [
      "C: 0.556\n",
      "confusion matrix: [[25  8]\n",
      " [12 21]]\n",
      "confusion matrix 1: [[ 9  3]\n",
      " [ 2 13]]\n",
      "split: 39\n"
     ]
    },
    {
     "name": "stderr",
     "output_type": "stream",
     "text": [
      "/usr/local/lib/python3.4/dist-packages/sklearn/feature_selection/univariate_selection.py:113: UserWarning: Features [   402    439    547 ..., 580922 580925 580926] are constant.\n",
      "  UserWarning)\n"
     ]
    },
    {
     "name": "stdout",
     "output_type": "stream",
     "text": [
      "C: 0.778\n",
      "confusion matrix: [[20  6]\n",
      " [14 12]]\n",
      "confusion matrix 1: [[3 3]\n",
      " [1 7]]\n",
      "split: 40\n"
     ]
    },
    {
     "name": "stderr",
     "output_type": "stream",
     "text": [
      "/usr/local/lib/python3.4/dist-packages/sklearn/feature_selection/univariate_selection.py:113: UserWarning: Features [   151    402    403 ..., 580751 580752 580753] are constant.\n",
      "  UserWarning)\n"
     ]
    },
    {
     "name": "stdout",
     "output_type": "stream",
     "text": [
      "C: 0.889\n",
      "confusion matrix: [[17 15]\n",
      " [ 9 10]]\n",
      "confusion matrix 1: [[ 2 10]\n",
      " [ 2  4]]\n",
      "split: 41\n"
     ]
    },
    {
     "name": "stderr",
     "output_type": "stream",
     "text": [
      "/usr/local/lib/python3.4/dist-packages/sklearn/feature_selection/univariate_selection.py:113: UserWarning: Features [   129    140    237 ..., 580917 580918 580919] are constant.\n",
      "  UserWarning)\n"
     ]
    },
    {
     "name": "stdout",
     "output_type": "stream",
     "text": [
      "C: 0.445\n",
      "confusion matrix: [[29 38]\n",
      " [12 32]]\n",
      "confusion matrix 1: [[ 5 22]\n",
      " [ 0 18]]\n",
      "split: 42\n"
     ]
    },
    {
     "name": "stderr",
     "output_type": "stream",
     "text": [
      "/usr/local/lib/python3.4/dist-packages/sklearn/feature_selection/univariate_selection.py:113: UserWarning: Features [   175    176    269 ..., 580913 580914 580915] are constant.\n",
      "  UserWarning)\n"
     ]
    },
    {
     "name": "stdout",
     "output_type": "stream",
     "text": [
      "C: 0.778\n",
      "confusion matrix: [[20  8]\n",
      " [16 21]]\n",
      "confusion matrix 1: [[ 1  6]\n",
      " [ 1 13]]\n",
      "split: 43\n"
     ]
    },
    {
     "name": "stderr",
     "output_type": "stream",
     "text": [
      "/usr/local/lib/python3.4/dist-packages/sklearn/feature_selection/univariate_selection.py:113: UserWarning: Features [   129    140    198 ..., 580903 580904 580905] are constant.\n",
      "  UserWarning)\n"
     ]
    },
    {
     "name": "stdout",
     "output_type": "stream",
     "text": [
      "C: 0.667\n",
      "confusion matrix: [[19 10]\n",
      " [11 13]]\n",
      "confusion matrix 1: [[2 3]\n",
      " [0 6]]\n",
      "split: 44\n"
     ]
    },
    {
     "name": "stderr",
     "output_type": "stream",
     "text": [
      "/usr/local/lib/python3.4/dist-packages/sklearn/feature_selection/univariate_selection.py:113: UserWarning: Features [   287    357    358 ..., 580917 580918 580919] are constant.\n",
      "  UserWarning)\n"
     ]
    },
    {
     "name": "stdout",
     "output_type": "stream",
     "text": [
      "C: 0.223\n",
      "confusion matrix: [[19  5]\n",
      " [10 20]]\n",
      "confusion matrix 1: [[5 3]\n",
      " [0 9]]\n",
      "split: 45\n",
      "C: 0.667\n",
      "confusion matrix: [[23  8]\n",
      " [11  8]]\n",
      "confusion matrix 1: [[4 5]\n",
      " [1 4]]\n",
      "split: 46\n",
      "C: 0.667\n",
      "confusion matrix: [[21 10]\n",
      " [ 7  8]]\n",
      "confusion matrix 1: [[0 6]\n",
      " [0 3]]\n",
      "split: 47\n"
     ]
    },
    {
     "name": "stderr",
     "output_type": "stream",
     "text": [
      "/usr/local/lib/python3.4/dist-packages/sklearn/feature_selection/univariate_selection.py:113: UserWarning: Features [   187    192    193 ..., 580914 580915 580924] are constant.\n",
      "  UserWarning)\n"
     ]
    },
    {
     "name": "stdout",
     "output_type": "stream",
     "text": [
      "C: 0.223\n",
      "confusion matrix: [[19  7]\n",
      " [10 14]]\n",
      "confusion matrix 1: [[1 3]\n",
      " [2 8]]\n",
      "split: 48\n"
     ]
    },
    {
     "name": "stderr",
     "output_type": "stream",
     "text": [
      "/usr/local/lib/python3.4/dist-packages/sklearn/feature_selection/univariate_selection.py:113: UserWarning: Features [   317    318    334 ..., 580913 580914 580915] are constant.\n",
      "  UserWarning)\n"
     ]
    },
    {
     "name": "stdout",
     "output_type": "stream",
     "text": [
      "C: 0.001\n",
      "confusion matrix: [[ 3 25]\n",
      " [ 2 15]]\n",
      "confusion matrix 1: [[0 5]\n",
      " [0 2]]\n",
      "split: 49\n"
     ]
    },
    {
     "name": "stderr",
     "output_type": "stream",
     "text": [
      "/usr/local/lib/python3.4/dist-packages/sklearn/feature_selection/univariate_selection.py:113: UserWarning: Features [    13     99    334 ..., 580917 580918 580919] are constant.\n",
      "  UserWarning)\n"
     ]
    },
    {
     "name": "stdout",
     "output_type": "stream",
     "text": [
      "C: 0.667\n",
      "confusion matrix: [[32 15]\n",
      " [ 7  8]]\n",
      "confusion matrix 1: [[ 9 12]\n",
      " [ 0  3]]\n",
      "split: 50\n",
      "C: 0.334\n",
      "confusion matrix: [[26 11]\n",
      " [ 7  5]]\n",
      "confusion matrix 1: [[6 6]\n",
      " [2 0]]\n",
      "split: 51\n"
     ]
    },
    {
     "name": "stderr",
     "output_type": "stream",
     "text": [
      "/usr/local/lib/python3.4/dist-packages/sklearn/feature_selection/univariate_selection.py:113: UserWarning: Features [   177    182    187 ..., 580846 580857 580924] are constant.\n",
      "  UserWarning)\n"
     ]
    },
    {
     "name": "stdout",
     "output_type": "stream",
     "text": [
      "C: 0.001\n",
      "confusion matrix: [[ 5 51]\n",
      " [ 2 13]]\n",
      "confusion matrix 1: [[ 3 18]\n",
      " [ 0  3]]\n",
      "split: 52\n"
     ]
    },
    {
     "name": "stderr",
     "output_type": "stream",
     "text": [
      "/usr/local/lib/python3.4/dist-packages/sklearn/feature_selection/univariate_selection.py:113: UserWarning: Features [   151    175    176 ..., 580902 580906 580907] are constant.\n",
      "  UserWarning)\n"
     ]
    },
    {
     "name": "stdout",
     "output_type": "stream",
     "text": [
      "C: 0.889\n",
      "confusion matrix: [[32 12]\n",
      " [17 23]]\n",
      "confusion matrix 1: [[ 7  9]\n",
      " [ 4 15]]\n",
      "split: 53\n"
     ]
    },
    {
     "name": "stderr",
     "output_type": "stream",
     "text": [
      "/usr/local/lib/python3.4/dist-packages/sklearn/feature_selection/univariate_selection.py:113: UserWarning: Features [   151    207    295 ..., 580922 580925 580926] are constant.\n",
      "  UserWarning)\n"
     ]
    },
    {
     "name": "stdout",
     "output_type": "stream",
     "text": [
      "C: 0.667\n",
      "confusion matrix: [[41  9]\n",
      " [15 11]]\n",
      "confusion matrix 1: [[11  8]\n",
      " [ 2  8]]\n",
      "split: 54\n",
      "C: 1.0\n",
      "confusion matrix: [[37 18]\n",
      " [17 16]]\n",
      "confusion matrix 1: [[ 9 11]\n",
      " [ 2  9]]\n",
      "split: 55\n"
     ]
    },
    {
     "name": "stderr",
     "output_type": "stream",
     "text": [
      "/usr/local/lib/python3.4/dist-packages/sklearn/feature_selection/univariate_selection.py:113: UserWarning: Features [   177    182    187 ..., 580906 580907 580924] are constant.\n",
      "  UserWarning)\n"
     ]
    },
    {
     "name": "stdout",
     "output_type": "stream",
     "text": [
      "C: 0.334\n",
      "confusion matrix: [[16  3]\n",
      " [15  8]]\n",
      "confusion matrix 1: [[0 2]\n",
      " [3 4]]\n",
      "split: 56\n"
     ]
    },
    {
     "name": "stderr",
     "output_type": "stream",
     "text": [
      "/usr/local/lib/python3.4/dist-packages/sklearn/feature_selection/univariate_selection.py:113: UserWarning: Features [   129    140    151 ..., 580895 580896 580897] are constant.\n",
      "  UserWarning)\n"
     ]
    },
    {
     "name": "stdout",
     "output_type": "stream",
     "text": [
      "C: 0.778\n",
      "confusion matrix: [[22 11]\n",
      " [13  9]]\n",
      "confusion matrix 1: [[3 5]\n",
      " [1 7]]\n",
      "split: 57\n"
     ]
    },
    {
     "name": "stderr",
     "output_type": "stream",
     "text": [
      "/usr/local/lib/python3.4/dist-packages/sklearn/feature_selection/univariate_selection.py:113: UserWarning: Features [   287    400    401 ..., 580903 580904 580905] are constant.\n",
      "  UserWarning)\n"
     ]
    },
    {
     "name": "stdout",
     "output_type": "stream",
     "text": [
      "C: 0.112\n",
      "confusion matrix: [[20 19]\n",
      " [11 11]]\n",
      "confusion matrix 1: [[ 1 13]\n",
      " [ 0  7]]\n",
      "split: 58\n"
     ]
    },
    {
     "name": "stderr",
     "output_type": "stream",
     "text": [
      "/usr/local/lib/python3.4/dist-packages/sklearn/feature_selection/univariate_selection.py:113: UserWarning: Features [   287    387    482 ..., 580917 580918 580919] are constant.\n",
      "  UserWarning)\n"
     ]
    },
    {
     "name": "stdout",
     "output_type": "stream",
     "text": [
      "C: 0.667\n",
      "confusion matrix: [[22 13]\n",
      " [22 18]]\n",
      "confusion matrix 1: [[6 7]\n",
      " [6 8]]\n",
      "split: 59\n"
     ]
    },
    {
     "name": "stderr",
     "output_type": "stream",
     "text": [
      "/usr/local/lib/python3.4/dist-packages/sklearn/feature_selection/univariate_selection.py:113: UserWarning: Features [   312    313    314 ..., 580913 580914 580915] are constant.\n",
      "  UserWarning)\n"
     ]
    },
    {
     "name": "stdout",
     "output_type": "stream",
     "text": [
      "C: 0.778\n",
      "confusion matrix: [[29  6]\n",
      " [11  5]]\n",
      "confusion matrix 1: [[8 5]\n",
      " [4 0]]\n",
      "split: 60\n"
     ]
    },
    {
     "name": "stderr",
     "output_type": "stream",
     "text": [
      "/usr/local/lib/python3.4/dist-packages/sklearn/feature_selection/univariate_selection.py:113: UserWarning: Features [   129    140    237 ..., 580922 580925 580926] are constant.\n",
      "  UserWarning)\n"
     ]
    },
    {
     "name": "stdout",
     "output_type": "stream",
     "text": [
      "C: 0.889\n",
      "confusion matrix: [[29  8]\n",
      " [11  8]]\n",
      "confusion matrix 1: [[5 6]\n",
      " [2 2]]\n",
      "split: 61\n"
     ]
    },
    {
     "name": "stderr",
     "output_type": "stream",
     "text": [
      "/usr/local/lib/python3.4/dist-packages/sklearn/feature_selection/univariate_selection.py:113: UserWarning: Features [   151    180    181 ..., 580913 580914 580915] are constant.\n",
      "  UserWarning)\n"
     ]
    },
    {
     "name": "stdout",
     "output_type": "stream",
     "text": [
      "C: 0.223\n",
      "confusion matrix: [[27 17]\n",
      " [ 5  7]]\n",
      "confusion matrix 1: [[ 3 11]\n",
      " [ 0  2]]\n",
      "split: 62\n",
      "C: 0.778\n",
      "confusion matrix: [[27  9]\n",
      " [ 9  8]]\n",
      "confusion matrix 1: [[8 5]\n",
      " [0 3]]\n",
      "split: 63\n"
     ]
    },
    {
     "name": "stderr",
     "output_type": "stream",
     "text": [
      "/usr/local/lib/python3.4/dist-packages/sklearn/feature_selection/univariate_selection.py:113: UserWarning: Features [   179    187    192 ..., 580914 580915 580924] are constant.\n",
      "  UserWarning)\n"
     ]
    },
    {
     "name": "stdout",
     "output_type": "stream",
     "text": [
      "C: 1.0\n",
      "confusion matrix: [[26  7]\n",
      " [12  5]]\n",
      "confusion matrix 1: [[6 4]\n",
      " [2 1]]\n",
      "split: 64\n"
     ]
    },
    {
     "name": "stderr",
     "output_type": "stream",
     "text": [
      "/usr/local/lib/python3.4/dist-packages/sklearn/feature_selection/univariate_selection.py:113: UserWarning: Features [   129    140    179 ..., 580914 580915 580924] are constant.\n",
      "  UserWarning)\n"
     ]
    },
    {
     "name": "stdout",
     "output_type": "stream",
     "text": [
      "C: 0.889\n",
      "confusion matrix: [[22 15]\n",
      " [11 10]]\n",
      "confusion matrix 1: [[3 7]\n",
      " [2 5]]\n",
      "split: 65\n"
     ]
    },
    {
     "name": "stderr",
     "output_type": "stream",
     "text": [
      "/usr/local/lib/python3.4/dist-packages/sklearn/feature_selection/univariate_selection.py:113: UserWarning: Features [   387    400    401 ..., 580565 580865 580877] are constant.\n",
      "  UserWarning)\n"
     ]
    },
    {
     "name": "stdout",
     "output_type": "stream",
     "text": [
      "C: 1.0\n",
      "confusion matrix: [[24  9]\n",
      " [14  4]]\n",
      "confusion matrix 1: [[8 3]\n",
      " [1 1]]\n",
      "split: 66\n",
      "C: 0.223\n",
      "confusion matrix: [[26  5]\n",
      " [15  8]]\n",
      "confusion matrix 1: [[1 2]\n",
      " [2 4]]\n",
      "split: 67\n"
     ]
    },
    {
     "name": "stderr",
     "output_type": "stream",
     "text": [
      "/usr/local/lib/python3.4/dist-packages/sklearn/feature_selection/univariate_selection.py:113: UserWarning: Features [   129    140    187 ..., 580924 580925 580926] are constant.\n",
      "  UserWarning)\n"
     ]
    },
    {
     "name": "stdout",
     "output_type": "stream",
     "text": [
      "C: 0.556\n",
      "confusion matrix: [[20  8]\n",
      " [10  4]]\n",
      "confusion matrix 1: [[4 4]\n",
      " [1 1]]\n",
      "split: 68\n"
     ]
    },
    {
     "name": "stderr",
     "output_type": "stream",
     "text": [
      "/usr/local/lib/python3.4/dist-packages/sklearn/feature_selection/univariate_selection.py:113: UserWarning: Features [   287    295    303 ..., 580902 580906 580907] are constant.\n",
      "  UserWarning)\n"
     ]
    },
    {
     "name": "stdout",
     "output_type": "stream",
     "text": [
      "C: 0.223\n",
      "confusion matrix: [[18 16]\n",
      " [ 8 11]]\n",
      "confusion matrix 1: [[0 8]\n",
      " [0 5]]\n",
      "split: 69\n"
     ]
    },
    {
     "name": "stderr",
     "output_type": "stream",
     "text": [
      "/usr/local/lib/python3.4/dist-packages/sklearn/feature_selection/univariate_selection.py:113: UserWarning: Features [   129    140    177 ..., 580914 580915 580924] are constant.\n",
      "  UserWarning)\n"
     ]
    },
    {
     "name": "stdout",
     "output_type": "stream",
     "text": [
      "C: 1.0\n",
      "confusion matrix: [[26  5]\n",
      " [13 11]]\n",
      "confusion matrix 1: [[2 3]\n",
      " [0 6]]\n",
      "split: 70\n"
     ]
    },
    {
     "name": "stderr",
     "output_type": "stream",
     "text": [
      "/usr/local/lib/python3.4/dist-packages/sklearn/feature_selection/univariate_selection.py:113: UserWarning: Features [   207    354    402 ..., 580913 580914 580915] are constant.\n",
      "  UserWarning)\n"
     ]
    },
    {
     "name": "stdout",
     "output_type": "stream",
     "text": [
      "C: 1.0\n",
      "confusion matrix: [[22  6]\n",
      " [14 12]]\n",
      "confusion matrix 1: [[4 3]\n",
      " [0 9]]\n",
      "split: 71\n"
     ]
    },
    {
     "name": "stderr",
     "output_type": "stream",
     "text": [
      "/usr/local/lib/python3.4/dist-packages/sklearn/feature_selection/univariate_selection.py:113: UserWarning: Features [   151    180    181 ..., 580917 580918 580919] are constant.\n",
      "  UserWarning)\n"
     ]
    },
    {
     "name": "stdout",
     "output_type": "stream",
     "text": [
      "C: 0.889\n",
      "confusion matrix: [[19  5]\n",
      " [ 9  8]]\n",
      "confusion matrix 1: [[4 2]\n",
      " [0 1]]\n",
      "split: 72\n"
     ]
    },
    {
     "name": "stderr",
     "output_type": "stream",
     "text": [
      "/usr/local/lib/python3.4/dist-packages/sklearn/feature_selection/univariate_selection.py:113: UserWarning: Features [   151    179    187 ..., 580906 580907 580924] are constant.\n",
      "  UserWarning)\n"
     ]
    },
    {
     "name": "stdout",
     "output_type": "stream",
     "text": [
      "C: 1.0\n",
      "confusion matrix: [[22 13]\n",
      " [ 9 17]]\n",
      "confusion matrix 1: [[1 9]\n",
      " [0 8]]\n",
      "split: 73\n",
      "C: 0.556\n",
      "confusion matrix: [[23  6]\n",
      " [11  5]]\n",
      "confusion matrix 1: [[5 4]\n",
      " [1 1]]\n",
      "split: 74\n"
     ]
    },
    {
     "name": "stderr",
     "output_type": "stream",
     "text": [
      "/usr/local/lib/python3.4/dist-packages/sklearn/feature_selection/univariate_selection.py:113: UserWarning: Features [   354    404    426 ..., 580922 580925 580926] are constant.\n",
      "  UserWarning)\n"
     ]
    },
    {
     "name": "stdout",
     "output_type": "stream",
     "text": [
      "C: 1.0\n",
      "confusion matrix: [[33 21]\n",
      " [11 16]]\n",
      "confusion matrix 1: [[ 4 15]\n",
      " [ 2  8]]\n",
      "split: 75\n"
     ]
    },
    {
     "name": "stderr",
     "output_type": "stream",
     "text": [
      "/usr/local/lib/python3.4/dist-packages/sklearn/feature_selection/univariate_selection.py:113: UserWarning: Features [   295    303    312 ..., 580922 580925 580926] are constant.\n",
      "  UserWarning)\n"
     ]
    },
    {
     "name": "stdout",
     "output_type": "stream",
     "text": [
      "C: 0.112\n",
      "confusion matrix: [[20 20]\n",
      " [ 9  5]]\n",
      "confusion matrix 1: [[ 1 13]\n",
      " [ 1  1]]\n",
      "split: 76\n"
     ]
    },
    {
     "name": "stderr",
     "output_type": "stream",
     "text": [
      "/usr/local/lib/python3.4/dist-packages/sklearn/feature_selection/univariate_selection.py:113: UserWarning: Features [   354    482    523 ..., 580922 580925 580926] are constant.\n",
      "  UserWarning)\n"
     ]
    },
    {
     "name": "stdout",
     "output_type": "stream",
     "text": [
      "C: 0.445\n",
      "confusion matrix: [[22  1]\n",
      " [15 19]]\n",
      "confusion matrix 1: [[1 0]\n",
      " [2 9]]\n",
      "split: 77\n"
     ]
    },
    {
     "name": "stderr",
     "output_type": "stream",
     "text": [
      "/usr/local/lib/python3.4/dist-packages/sklearn/feature_selection/univariate_selection.py:113: UserWarning: Features [    13     99    177 ..., 580914 580915 580924] are constant.\n",
      "  UserWarning)\n"
     ]
    },
    {
     "name": "stdout",
     "output_type": "stream",
     "text": [
      "C: 0.112\n",
      "confusion matrix: [[17  7]\n",
      " [ 7  5]]\n",
      "confusion matrix 1: [[0 2]\n",
      " [1 0]]\n",
      "split: 78\n"
     ]
    },
    {
     "name": "stderr",
     "output_type": "stream",
     "text": [
      "/usr/local/lib/python3.4/dist-packages/sklearn/feature_selection/univariate_selection.py:113: UserWarning: Features [   180    181    185 ..., 580920 580921 580924] are constant.\n",
      "  UserWarning)\n"
     ]
    },
    {
     "name": "stdout",
     "output_type": "stream",
     "text": [
      "C: 0.556\n",
      "confusion matrix: [[31  5]\n",
      " [10 10]]\n",
      "confusion matrix 1: [[7 2]\n",
      " [0 6]]\n",
      "split: 79\n",
      "C: 0.889\n",
      "confusion matrix: [[24 14]\n",
      " [15 18]]\n",
      "confusion matrix 1: [[ 3 10]\n",
      " [ 0 10]]\n",
      "split: 80\n"
     ]
    },
    {
     "name": "stderr",
     "output_type": "stream",
     "text": [
      "/usr/local/lib/python3.4/dist-packages/sklearn/feature_selection/univariate_selection.py:113: UserWarning: Features [   295    303    319 ..., 580815 580831 580881] are constant.\n",
      "  UserWarning)\n"
     ]
    },
    {
     "name": "stdout",
     "output_type": "stream",
     "text": [
      "C: 1.0\n",
      "confusion matrix: [[31 12]\n",
      " [ 8  9]]\n",
      "confusion matrix 1: [[ 3 11]\n",
      " [ 0  4]]\n",
      "split: 81\n",
      "C: 0.112\n",
      "confusion matrix: [[25 21]\n",
      " [ 7 12]]\n",
      "confusion matrix 1: [[ 1 13]\n",
      " [ 0  3]]\n",
      "split: 82\n",
      "C: 0.334\n",
      "confusion matrix: [[30 18]\n",
      " [17 20]]\n",
      "confusion matrix 1: [[ 5 10]\n",
      " [ 1 11]]\n",
      "split: 83\n"
     ]
    },
    {
     "name": "stderr",
     "output_type": "stream",
     "text": [
      "/usr/local/lib/python3.4/dist-packages/sklearn/feature_selection/univariate_selection.py:113: UserWarning: Features [    13     90     99 ..., 580902 580906 580907] are constant.\n",
      "  UserWarning)\n"
     ]
    },
    {
     "name": "stdout",
     "output_type": "stream",
     "text": [
      "C: 1.0\n",
      "confusion matrix: [[19  4]\n",
      " [15 16]]\n",
      "confusion matrix 1: [[1 1]\n",
      " [2 8]]\n",
      "split: 84\n"
     ]
    },
    {
     "name": "stderr",
     "output_type": "stream",
     "text": [
      "/usr/local/lib/python3.4/dist-packages/sklearn/feature_selection/univariate_selection.py:113: UserWarning: Features [   293    294    402 ..., 580903 580904 580905] are constant.\n",
      "  UserWarning)\n"
     ]
    },
    {
     "name": "stdout",
     "output_type": "stream",
     "text": [
      "C: 0.778\n",
      "confusion matrix: [[20 20]\n",
      " [16 20]]\n",
      "confusion matrix 1: [[ 0 13]\n",
      " [ 4 10]]\n",
      "split: 85\n"
     ]
    },
    {
     "name": "stderr",
     "output_type": "stream",
     "text": [
      "/usr/local/lib/python3.4/dist-packages/sklearn/feature_selection/univariate_selection.py:113: UserWarning: Features [   287    295    296 ..., 580815 580831 580857] are constant.\n",
      "  UserWarning)\n"
     ]
    },
    {
     "name": "stdout",
     "output_type": "stream",
     "text": [
      "C: 0.001\n",
      "confusion matrix: [[ 3 46]\n",
      " [ 2 21]]\n",
      "confusion matrix 1: [[ 0 14]\n",
      " [ 0  5]]\n",
      "split: 86\n"
     ]
    },
    {
     "name": "stderr",
     "output_type": "stream",
     "text": [
      "/usr/local/lib/python3.4/dist-packages/sklearn/feature_selection/univariate_selection.py:113: UserWarning: Features [   151    175    176 ..., 580885 580886 580887] are constant.\n",
      "  UserWarning)\n"
     ]
    },
    {
     "name": "stdout",
     "output_type": "stream",
     "text": [
      "C: 0.889\n",
      "confusion matrix: [[36 16]\n",
      " [14 24]]\n",
      "confusion matrix 1: [[ 9 10]\n",
      " [ 2 13]]\n",
      "split: 87\n"
     ]
    },
    {
     "name": "stderr",
     "output_type": "stream",
     "text": [
      "/usr/local/lib/python3.4/dist-packages/sklearn/feature_selection/univariate_selection.py:113: UserWarning: Features [   180    181    185 ..., 580902 580906 580907] are constant.\n",
      "  UserWarning)\n"
     ]
    },
    {
     "name": "stdout",
     "output_type": "stream",
     "text": [
      "C: 1.0\n",
      "confusion matrix: [[26  5]\n",
      " [17 15]]\n",
      "confusion matrix 1: [[4 5]\n",
      " [2 9]]\n",
      "split: 88\n"
     ]
    },
    {
     "name": "stderr",
     "output_type": "stream",
     "text": [
      "/usr/local/lib/python3.4/dist-packages/sklearn/feature_selection/univariate_selection.py:113: UserWarning: Features [   180    181    185 ..., 580895 580896 580897] are constant.\n",
      "  UserWarning)\n"
     ]
    },
    {
     "name": "stdout",
     "output_type": "stream",
     "text": [
      "C: 0.334\n",
      "confusion matrix: [[20  6]\n",
      " [11  3]]\n",
      "confusion matrix 1: [[1 4]\n",
      " [0 1]]\n",
      "split: 89\n"
     ]
    },
    {
     "name": "stderr",
     "output_type": "stream",
     "text": [
      "/usr/local/lib/python3.4/dist-packages/sklearn/feature_selection/univariate_selection.py:113: UserWarning: Features [    13     99    129 ..., 580920 580921 580924] are constant.\n",
      "  UserWarning)\n"
     ]
    },
    {
     "name": "stdout",
     "output_type": "stream",
     "text": [
      "C: 1.0\n",
      "confusion matrix: [[26 12]\n",
      " [ 8  6]]\n",
      "confusion matrix 1: [[8 6]\n",
      " [2 0]]\n",
      "split: 90\n"
     ]
    },
    {
     "name": "stderr",
     "output_type": "stream",
     "text": [
      "/usr/local/lib/python3.4/dist-packages/sklearn/feature_selection/univariate_selection.py:113: UserWarning: Features [   129    140    151 ..., 580922 580925 580926] are constant.\n",
      "  UserWarning)\n"
     ]
    },
    {
     "name": "stdout",
     "output_type": "stream",
     "text": [
      "C: 0.667\n",
      "confusion matrix: [[26 10]\n",
      " [10 11]]\n",
      "confusion matrix 1: [[7 7]\n",
      " [0 3]]\n",
      "split: 91\n",
      "C: 1.0\n",
      "confusion matrix: [[28  6]\n",
      " [18 10]]\n",
      "confusion matrix 1: [[7 3]\n",
      " [2 5]]\n",
      "split: 92\n"
     ]
    },
    {
     "name": "stderr",
     "output_type": "stream",
     "text": [
      "/usr/local/lib/python3.4/dist-packages/sklearn/feature_selection/univariate_selection.py:113: UserWarning: Features [   207    357    377 ..., 580902 580906 580907] are constant.\n",
      "  UserWarning)\n"
     ]
    },
    {
     "name": "stdout",
     "output_type": "stream",
     "text": [
      "C: 0.667\n",
      "confusion matrix: [[22  6]\n",
      " [11  8]]\n",
      "confusion matrix 1: [[5 3]\n",
      " [1 4]]\n",
      "split: 93\n"
     ]
    },
    {
     "name": "stderr",
     "output_type": "stream",
     "text": [
      "/usr/local/lib/python3.4/dist-packages/sklearn/feature_selection/univariate_selection.py:113: UserWarning: Features [   180    181    185 ..., 580903 580904 580905] are constant.\n",
      "  UserWarning)\n"
     ]
    },
    {
     "name": "stdout",
     "output_type": "stream",
     "text": [
      "C: 0.556\n",
      "confusion matrix: [[25  7]\n",
      " [12 17]]\n",
      "confusion matrix 1: [[3 5]\n",
      " [0 9]]\n",
      "split: 94\n"
     ]
    },
    {
     "name": "stderr",
     "output_type": "stream",
     "text": [
      "/usr/local/lib/python3.4/dist-packages/sklearn/feature_selection/univariate_selection.py:113: UserWarning: Features [   179    187    192 ..., 580865 580877 580924] are constant.\n",
      "  UserWarning)\n"
     ]
    },
    {
     "name": "stdout",
     "output_type": "stream",
     "text": [
      "C: 0.445\n",
      "confusion matrix: [[29  8]\n",
      " [13 13]]\n",
      "confusion matrix 1: [[2 4]\n",
      " [0 6]]\n",
      "split: 95\n"
     ]
    },
    {
     "name": "stderr",
     "output_type": "stream",
     "text": [
      "/usr/local/lib/python3.4/dist-packages/sklearn/feature_selection/univariate_selection.py:113: UserWarning: Features [   180    181    185 ..., 580905 580906 580907] are constant.\n",
      "  UserWarning)\n"
     ]
    },
    {
     "name": "stdout",
     "output_type": "stream",
     "text": [
      "C: 0.001\n",
      "confusion matrix: [[10 39]\n",
      " [ 4 31]]\n",
      "confusion matrix 1: [[ 5 13]\n",
      " [ 0 12]]\n",
      "split: 96\n"
     ]
    },
    {
     "name": "stderr",
     "output_type": "stream",
     "text": [
      "/usr/local/lib/python3.4/dist-packages/sklearn/feature_selection/univariate_selection.py:113: UserWarning: Features [    13     90     99 ..., 580800 580815 580857] are constant.\n",
      "  UserWarning)\n"
     ]
    },
    {
     "name": "stdout",
     "output_type": "stream",
     "text": [
      "C: 0.334\n",
      "confusion matrix: [[24 18]\n",
      " [ 4  6]]\n",
      "confusion matrix 1: [[ 4 11]\n",
      " [ 0  0]]\n",
      "split: 97\n"
     ]
    },
    {
     "name": "stderr",
     "output_type": "stream",
     "text": [
      "/usr/local/lib/python3.4/dist-packages/sklearn/feature_selection/univariate_selection.py:113: UserWarning: Features [   129    140    187 ..., 580906 580907 580924] are constant.\n",
      "  UserWarning)\n"
     ]
    },
    {
     "name": "stdout",
     "output_type": "stream",
     "text": [
      "C: 0.334\n",
      "confusion matrix: [[25 21]\n",
      " [12 20]]\n",
      "confusion matrix 1: [[ 3 13]\n",
      " [ 0 12]]\n",
      "split: 98\n"
     ]
    },
    {
     "name": "stderr",
     "output_type": "stream",
     "text": [
      "/usr/local/lib/python3.4/dist-packages/sklearn/feature_selection/univariate_selection.py:113: UserWarning: Features [   207    269    354 ..., 580902 580906 580907] are constant.\n",
      "  UserWarning)\n"
     ]
    },
    {
     "name": "stdout",
     "output_type": "stream",
     "text": [
      "C: 0.445\n",
      "confusion matrix: [[22  7]\n",
      " [14  9]]\n",
      "confusion matrix 1: [[3 2]\n",
      " [1 5]]\n",
      "split: 99\n"
     ]
    },
    {
     "name": "stderr",
     "output_type": "stream",
     "text": [
      "/usr/local/lib/python3.4/dist-packages/sklearn/feature_selection/univariate_selection.py:113: UserWarning: Features [    13     99    180 ..., 580917 580918 580919] are constant.\n",
      "  UserWarning)\n"
     ]
    },
    {
     "name": "stdout",
     "output_type": "stream",
     "text": [
      "C: 0.778\n",
      "confusion matrix: [[20  2]\n",
      " [11 20]]\n",
      "confusion matrix 1: [[ 4  0]\n",
      " [ 0 12]]\n",
      "split: 100\n"
     ]
    },
    {
     "name": "stderr",
     "output_type": "stream",
     "text": [
      "/usr/local/lib/python3.4/dist-packages/sklearn/feature_selection/univariate_selection.py:113: UserWarning: Features [   187    192    193 ..., 580896 580897 580924] are constant.\n",
      "  UserWarning)\n"
     ]
    },
    {
     "name": "stdout",
     "output_type": "stream",
     "text": [
      "C: 0.556\n",
      "confusion matrix: [[20  7]\n",
      " [ 9 12]]\n",
      "confusion matrix 1: [[1 4]\n",
      " [0 4]]\n",
      "ACCURACY_mean: 0.611976838084\n",
      "PRECISION_mean: 0.520236793359\n",
      "RECALL_mean: 0.505286321384\n",
      "SPECIFICITY_mean: 0.688280842055\n",
      "F_mean: 0.494104737138\n",
      "AUC_mean: 0.624201998503\n",
      "ACCURACY1_mean: 0.557065658602\n",
      "PRECISION1_mean: 0.453422852226\n",
      "RECALL1_mean: 0.802275356223\n",
      "SPECIFICITY1_mean: 0.375551506085\n",
      "F1_mean: 0.550680694943\n",
      "AUC1_mean: 0.729302850126\n",
      "ACCURACY_std: 0.0769832294737\n",
      "PRECISION_std: 0.168415575266\n",
      "RECALL_std: 0.140601253781\n",
      "SPECIFICITY_std: 0.156340356815\n",
      "F_std: 0.116875065247\n",
      "AUC_std: 0.0917031764436\n",
      "ACCURACY1_std: 0.186454626637\n",
      "PRECISION1_std: 0.246790128419\n",
      "RECALL1_std: 0.277123287964\n",
      "SPECIFICITY1_std: 0.235375450152\n",
      "F1_std: 0.241535362512\n",
      "AUC1_std: 0.228025277915\n"
     ]
    },
    {
     "data": {
      "text/plain": [
       "0"
      ]
     },
     "execution_count": 11,
     "metadata": {},
     "output_type": "execute_result"
    }
   ],
   "source": [
    "splits = 100\n",
    "folds= 3\n",
    "linspace = np.linspace(10e-4, 10e-1, num=10)\n",
    "percentage = 0.35\n",
    "F, AUC, PRECISION, RECALL, SPECIFICITY, ACCURACY, Fs, AUCs, PRECISIONs, RECALLs, SPECIFICITYs, ACCURACYs, F1, AUC1, PRECISION1, RECALL1, SPECIFICITY1, ACCURACY1, F1s, AUC1s, PRECISION1s, RECALL1s, SPECIFICITY1s, ACCURACY1s = nested_CV_F_measure(X, y, splits, folds, linspace, dt, percentage, y_short, sub_id, sub_id_short, zeros)\n",
    "os.system('espeak \"la ejecución ha terminadoooooooooooooooooooooooooo\"')"
   ]
  },
  {
   "cell_type": "code",
   "execution_count": 27,
   "metadata": {},
   "outputs": [
    {
     "data": {
      "image/png": "[encoded data removed]",
      "text/plain": [
       "<matplotlib.figure.Figure at 0x7f519bcdacf8>"
      ]
     },
     "metadata": {},
     "output_type": "display_data"
    }
   ],
   "source": [
    "plt.figure(figsize=(8,6))\n",
    "\n",
    "y = [0.512, 0.394, 0.508, 0.524, 0.428, 0.511]\n",
    "x = [-1,-1,-1,-1,-1,-1]\n",
    "plt.scatter(x, y, c=['yellow', 'blue', 'orange', 'pink', 'green', 'red'])\n",
    "\n",
    "y = [0.611,0.52,0.505,0.688,0.494,0.624]\n",
    "x = [0,0,0,0,0,0]\n",
    "plt.scatter(x, y, c=['yellow', 'blue', 'orange', 'pink', 'green', 'red'])\n",
    "\n",
    "y = [0.619, 0.529,0.684,0.581,0.578,0.695]\n",
    "x = [1,1,1,1,1,1]\n",
    "plt.scatter(x, y, c=['yellow', 'blue', 'orange', 'pink', 'green', 'red'])\n",
    "\n",
    "y = [0.564,0.464,0.793,0.395,0.558,0.729]\n",
    "x = [2,2,2,2,2,2]\n",
    "plt.scatter(x, y, c=['yellow', 'blue', 'orange', 'pink', 'green', 'red'])\n",
    "\n",
    "y = [0.557,0.453,0.802,0.375,0.55,0.729]\n",
    "x = [3,3,3,3,3,3]\n",
    "plt.scatter(x, y, c=['yellow', 'blue', 'orange', 'pink', 'green', 'red'])\n",
    "\n",
    "plt.xlabel('DT')\n",
    "\n",
    "import matplotlib.patches as mpatches\n",
    "\n",
    "acc_patch = mpatches.Patch( color='yellow', label='accuracy')\n",
    "pre_patch = mpatches.Patch( color='blue', label='precision')\n",
    "rec_patch = mpatches.Patch( color='orange', label='recall')\n",
    "spe_patch = mpatches.Patch( color='pink', label='specficity')\n",
    "f1_patch = mpatches.Patch( color='green', label='f1-score')\n",
    "auc_patch = mpatches.Patch( color='red', label='auc')\n",
    "\n",
    "plt.legend(handles=[acc_patch, pre_patch, rec_patch, spe_patch, f1_patch, auc_patch], loc='best')\n",
    "\n",
    "plt.show()"
   ]
  },
  {
   "cell_type": "code",
   "execution_count": null,
   "metadata": {},
   "outputs": [],
   "source": [
    "splits=100\n",
    "folds = 3\n",
    "percentages = np.linspace(0.01 , 1, 20)\n",
    "linspace = np.linspace(10e-4 , 10e-1, num=10)\n",
    "\n",
    "f=[]\n",
    "auc=[]\n",
    "precision=[]\n",
    "recall=[]\n",
    "specificity=[]\n",
    "accuracy=[]\n",
    "\n",
    "f_s=[]\n",
    "auc_s=[]\n",
    "precision_s=[]\n",
    "recall_s=[]\n",
    "specificity_s=[]\n",
    "accuracy_s=[]\n",
    "\n",
    "f1=[]\n",
    "auc1=[]\n",
    "precision1=[]\n",
    "recall1=[]\n",
    "specificity1=[]\n",
    "accuracy1=[]\n",
    "\n",
    "f1_s=[]\n",
    "auc1_s=[]\n",
    "precision1_s=[]\n",
    "recall1_s=[]\n",
    "specificity1_s=[]\n",
    "accuracy1_s=[]\n",
    "\n",
    "\n",
    "for per in percentages:\n",
    "    print(\"percentage:\", per)\n",
    "    F, AUC, PRECISION, RECALL, SPECIFICITY, ACCURACY, Fs, AUCs, PRECISIONs, RECALLs, SPECIFICITYs, ACCURACYs, F1, AUC1, PRECISION1, RECALL1, SPECIFICITY1, ACCURACY1, F1s, AUC1s, PRECISION1s, RECALL1s, SPECIFICITY1s, ACCURACY1s = nested_CV_F_measure(X, y, splits, folds, linspace, dt, per, y_short, sub_id, sub_id_short, zeros)\n",
    "    f.append(F)\n",
    "    auc.append(AUC)\n",
    "    precision.append(PRECISION)\n",
    "    recall.append(RECALL)\n",
    "    specificity.append(SPECIFICITY)\n",
    "    accuracy.append(ACCURACY)\n",
    "    \n",
    "    f_s.append(Fs)\n",
    "    auc_s.append(AUCs)\n",
    "    precision_s.append(PRECISIONs)\n",
    "    recall_s.append(RECALLs)\n",
    "    specificity_s.append(SPECIFICITYs)\n",
    "    accuracy_s.append(ACCURACYs)\n",
    "    \n",
    "    f1.append(F1)\n",
    "    auc1.append(AUC1)\n",
    "    precision1.append(PRECISION1)\n",
    "    recall1.append(RECALL1)\n",
    "    specificity1.append(SPECIFICITY1)\n",
    "    accuracy1.append(ACCURACY1)\n",
    "    \n",
    "    f1_s.append(F1s)\n",
    "    auc1_s.append(AUC1s)\n",
    "    precision1_s.append(PRECISION1s)\n",
    "    recall1_s.append(RECALL1s)\n",
    "    specificity1_s.append(SPECIFICITY1s)\n",
    "    accuracy1_s.append(ACCURACY1s)\n",
    "    \n",
    "\n",
    "    \n",
    "np.save('/home/miquel/ForMiquel/CLEAN2/results_definitive/f_1_2', f)\n",
    "np.save('/home/miquel/ForMiquel/CLEAN2/results_definitive/auc_1_2', auc)\n",
    "np.save('/home/miquel/ForMiquel/CLEAN2/results_definitive/precision_1_2', precision)\n",
    "np.save('/home/miquel/ForMiquel/CLEAN2/results_definitive/recall_1_2', recall)\n",
    "np.save('/home/miquel/ForMiquel/CLEAN2/results_definitive/specificity_1_2', specificity)\n",
    "np.save('/home/miquel/ForMiquel/CLEAN2/results_definitive/accuracy_1_2', accuracy)\n",
    "\n",
    "np.save('/home/miquel/ForMiquel/CLEAN2/results_definitive/f_s_1_2', f_s)\n",
    "np.save('/home/miquel/ForMiquel/CLEAN2/results_definitive/auc_s_1_2', auc_s)\n",
    "np.save('/home/miquel/ForMiquel/CLEAN2/results_definitive/precision_s_1_2', precision_s)\n",
    "np.save('/home/miquel/ForMiquel/CLEAN2/results_definitive/recall_s_1_2', recall_s)\n",
    "np.save('/home/miquel/ForMiquel/CLEAN2/results_definitive/specificity_s_1_2', specificity_s)\n",
    "np.save('/home/miquel/ForMiquel/CLEAN2/results_definitive/accuracy_s_1_2', accuracy_s)\n",
    "\n",
    "np.save('/home/miquel/ForMiquel/CLEAN2/results_definitive/f1_1_2', f1)\n",
    "np.save('/home/miquel/ForMiquel/CLEAN2/results_definitive/auc1_1_2', auc1)\n",
    "np.save('/home/miquel/ForMiquel/CLEAN2/results_definitive/precision1_1_2', precision1)\n",
    "np.save('/home/miquel/ForMiquel/CLEAN2/results_definitive/recall1_1_2', recall1)\n",
    "np.save('/home/miquel/ForMiquel/CLEAN2/results_definitive/specificity1_1_2', specificity1)\n",
    "np.save('/home/miquel/ForMiquel/CLEAN2/results_definitive/accuracy1_1_2', accuracy1)\n",
    "\n",
    "np.save('/home/miquel/ForMiquel/CLEAN2/results_definitive/f1_s_1_2', f1_s)\n",
    "np.save('/home/miquel/ForMiquel/CLEAN2/results_definitive/auc1_s_1_2', auc1_s)\n",
    "np.save('/home/miquel/ForMiquel/CLEAN2/results_definitive/precision1_s_1_2', precision1_s)\n",
    "np.save('/home/miquel/ForMiquel/CLEAN2/results_definitive/recall1_s_1_2', recall1_s)\n",
    "np.save('/home/miquel/ForMiquel/CLEAN2/results_definitive/specificity1_s_1_2', specificity1_s)\n",
    "np.save('/home/miquel/ForMiquel/CLEAN2/results_definitive/accuracy1_s_1_2', accuracy1_s)\n"
   ]
  },
  {
   "cell_type": "code",
   "execution_count": 29,
   "metadata": {},
   "outputs": [
    {
     "data": {
      "image/png": "[encoded data removed]",
      "text/plain": [
       "<matplotlib.figure.Figure at 0x7f519bd181d0>"
      ]
     },
     "metadata": {},
     "output_type": "display_data"
    }
   ],
   "source": [
    "percentages = np.linspace(0.001 , 1, 20)\n",
    "\n",
    "f1 = np.load('/home/miquel/ForMiquel/CLEAN2/results_definitive/f_2.npy')\n",
    "auc1 = np.load('/home/miquel/ForMiquel/CLEAN2/results_definitive/auc_2.npy')\n",
    "precision1 = np.load('/home/miquel/ForMiquel/CLEAN2/results_definitive/precision_2.npy')\n",
    "recall1 = np.load('/home/miquel/ForMiquel/CLEAN2/results_definitive/recall_2.npy')\n",
    "specificity1 = np.load('/home/miquel/ForMiquel/CLEAN2/results_definitive/specificity_2.npy')\n",
    "accuracy1 = np.load('/home/miquel/ForMiquel/CLEAN2/results_definitive/accuracy_2.npy')\n",
    "\n",
    "\n",
    "plt.figure(figsize=(10,10))\n",
    "plt.plot(percentages, f1, color='green', label='F1_score')\n",
    "plt.plot(percentages, auc1, color='red', label='AUC')\n",
    "plt.plot(percentages, precision1, color='blue', label='PRECISION')\n",
    "plt.plot(percentages, recall1, color='orange', label='RECALL')\n",
    "plt.plot(percentages, specificity1, color='pink', label='SPECIFICITY')\n",
    "plt.plot(percentages, accuracy1, color='yellow', label='ACCURACY')\n",
    "\n",
    "plt.legend(loc='best')\n",
    "plt.xlabel('percentage')\n",
    "plt.title('metrics for each percentage')\n",
    "plt.show()  "
   ]
  },
  {
   "cell_type": "code",
   "execution_count": 15,
   "metadata": {},
   "outputs": [
    {
     "name": "stdout",
     "output_type": "stream",
     "text": [
      "split: "
     ]
    },
    {
     "name": "stderr",
     "output_type": "stream",
     "text": [
      "/usr/local/lib/python3.4/dist-packages/sklearn/feature_selection/univariate_selection.py:113: UserWarning: Features [    13     99    180 ..., 580922 580925 580926] are constant.\n",
      "  UserWarning)\n",
      "/usr/local/lib/python3.4/dist-packages/sklearn/feature_selection/univariate_selection.py:114: RuntimeWarning: invalid value encountered in true_divide\n",
      "  f = msb / msw\n"
     ]
    },
    {
     "name": "stdout",
     "output_type": "stream",
     "text": [
      "1\n",
      "jacobians at train: 248\n",
      "fold: 1\n",
      "fold: 2\n",
      "fold: 3\n",
      "C: 0.1\n",
      "split: 2\n",
      "jacobians at train: 220\n"
     ]
    },
    {
     "name": "stderr",
     "output_type": "stream",
     "text": [
      "/usr/local/lib/python3.4/dist-packages/sklearn/feature_selection/univariate_selection.py:113: UserWarning: Features [   354    426    546 ..., 580917 580918 580919] are constant.\n",
      "  UserWarning)\n"
     ]
    },
    {
     "name": "stdout",
     "output_type": "stream",
     "text": [
      "fold: 1\n",
      "fold: 2\n",
      "fold: 3\n",
      "C: 0.1\n",
      "split: 3\n",
      "jacobians at train: 213\n"
     ]
    },
    {
     "name": "stderr",
     "output_type": "stream",
     "text": [
      "/usr/local/lib/python3.4/dist-packages/sklearn/feature_selection/univariate_selection.py:113: UserWarning: Features [   295    303    317 ..., 580917 580918 580919] are constant.\n",
      "  UserWarning)\n"
     ]
    },
    {
     "name": "stdout",
     "output_type": "stream",
     "text": [
      "fold: 1\n",
      "fold: 2\n",
      "fold: 3\n",
      "C: 0.1\n",
      "split: 4\n",
      "jacobians at train: 232\n"
     ]
    },
    {
     "name": "stderr",
     "output_type": "stream",
     "text": [
      "/usr/local/lib/python3.4/dist-packages/sklearn/feature_selection/univariate_selection.py:113: UserWarning: Features [   402    426    451 ..., 580922 580925 580926] are constant.\n",
      "  UserWarning)\n"
     ]
    },
    {
     "name": "stdout",
     "output_type": "stream",
     "text": [
      "fold: 1\n",
      "fold: 2\n",
      "fold: 3\n",
      "C: 0.1\n",
      "split: 5\n",
      "jacobians at train: 223\n"
     ]
    },
    {
     "name": "stderr",
     "output_type": "stream",
     "text": [
      "/usr/local/lib/python3.4/dist-packages/sklearn/feature_selection/univariate_selection.py:113: UserWarning: Features [   295    303    312 ..., 580895 580896 580897] are constant.\n",
      "  UserWarning)\n"
     ]
    },
    {
     "name": "stdout",
     "output_type": "stream",
     "text": [
      "fold: 1\n",
      "fold: 2\n",
      "fold: 3\n",
      "C: 0.1\n",
      "split: 6\n",
      "jacobians at train: 226\n"
     ]
    },
    {
     "name": "stderr",
     "output_type": "stream",
     "text": [
      "/usr/local/lib/python3.4/dist-packages/sklearn/feature_selection/univariate_selection.py:113: UserWarning: Features [   151    287    357 ..., 580885 580886 580887] are constant.\n",
      "  UserWarning)\n"
     ]
    },
    {
     "name": "stdout",
     "output_type": "stream",
     "text": [
      "fold: 1\n",
      "fold: 2\n",
      "fold: 3\n",
      "C: 1052.72105263\n",
      "split: 7\n",
      "jacobians at train: 211\n"
     ]
    },
    {
     "name": "stderr",
     "output_type": "stream",
     "text": [
      "/usr/local/lib/python3.4/dist-packages/sklearn/feature_selection/univariate_selection.py:113: UserWarning: Features [    85    129    140 ..., 580903 580904 580905] are constant.\n",
      "  UserWarning)\n"
     ]
    },
    {
     "name": "stdout",
     "output_type": "stream",
     "text": [
      "fold: 1\n",
      "fold: 2\n",
      "fold: 3\n",
      "C: 0.1\n",
      "split: 8\n",
      "jacobians at train: 239\n"
     ]
    },
    {
     "name": "stderr",
     "output_type": "stream",
     "text": [
      "/usr/local/lib/python3.4/dist-packages/sklearn/feature_selection/univariate_selection.py:113: UserWarning: Features [   187    192    193 ..., 580886 580887 580924] are constant.\n",
      "  UserWarning)\n"
     ]
    },
    {
     "name": "stdout",
     "output_type": "stream",
     "text": [
      "fold: 1\n",
      "fold: 2\n",
      "fold: 3\n",
      "C: 0.1\n",
      "split: 9\n",
      "jacobians at train: 238\n"
     ]
    },
    {
     "name": "stderr",
     "output_type": "stream",
     "text": [
      "/usr/local/lib/python3.4/dist-packages/sklearn/feature_selection/univariate_selection.py:113: UserWarning: Features [   180    181    185 ..., 580913 580914 580915] are constant.\n",
      "  UserWarning)\n"
     ]
    },
    {
     "name": "stdout",
     "output_type": "stream",
     "text": [
      "fold: 1\n",
      "fold: 2\n",
      "fold: 3\n",
      "C: 0.1\n",
      "split: 10\n",
      "jacobians at train: 239\n"
     ]
    },
    {
     "name": "stderr",
     "output_type": "stream",
     "text": [
      "/usr/local/lib/python3.4/dist-packages/sklearn/feature_selection/univariate_selection.py:113: UserWarning: Features [   334    347    354 ..., 580913 580914 580915] are constant.\n",
      "  UserWarning)\n"
     ]
    },
    {
     "name": "stdout",
     "output_type": "stream",
     "text": [
      "fold: 1\n",
      "fold: 2\n",
      "fold: 3\n",
      "C: 0.1\n",
      "split: 11\n",
      "jacobians at train: 209\n"
     ]
    },
    {
     "name": "stderr",
     "output_type": "stream",
     "text": [
      "/usr/local/lib/python3.4/dist-packages/sklearn/feature_selection/univariate_selection.py:113: UserWarning: Features [   151    295    303 ..., 580913 580914 580915] are constant.\n",
      "  UserWarning)\n"
     ]
    },
    {
     "name": "stdout",
     "output_type": "stream",
     "text": [
      "fold: 1\n",
      "fold: 2\n",
      "fold: 3\n",
      "C: 0.1\n",
      "split: 12\n",
      "jacobians at train: 215\n"
     ]
    },
    {
     "name": "stderr",
     "output_type": "stream",
     "text": [
      "/usr/local/lib/python3.4/dist-packages/sklearn/feature_selection/univariate_selection.py:113: UserWarning: Features [   207    402    483 ..., 580922 580925 580926] are constant.\n",
      "  UserWarning)\n"
     ]
    },
    {
     "name": "stdout",
     "output_type": "stream",
     "text": [
      "fold: 1\n",
      "fold: 2\n",
      "fold: 3\n",
      "C: 0.1\n",
      "split: 13\n",
      "jacobians at train: 235\n"
     ]
    },
    {
     "name": "stderr",
     "output_type": "stream",
     "text": [
      "/usr/local/lib/python3.4/dist-packages/sklearn/feature_selection/univariate_selection.py:113: UserWarning: Features [   334    347    387 ..., 580876 580888 580889] are constant.\n",
      "  UserWarning)\n"
     ]
    },
    {
     "name": "stdout",
     "output_type": "stream",
     "text": [
      "fold: 1\n",
      "fold: 2\n",
      "fold: 3\n",
      "C: 0.1\n",
      "split: 14\n",
      "jacobians at train: 235\n"
     ]
    },
    {
     "name": "stderr",
     "output_type": "stream",
     "text": [
      "/usr/local/lib/python3.4/dist-packages/sklearn/feature_selection/univariate_selection.py:113: UserWarning: Features [    13     99    207 ..., 580922 580925 580926] are constant.\n",
      "  UserWarning)\n"
     ]
    },
    {
     "name": "stdout",
     "output_type": "stream",
     "text": [
      "fold: 1\n",
      "fold: 2\n",
      "fold: 3\n",
      "C: 0.1\n",
      "split: 15\n",
      "jacobians at train: 224\n"
     ]
    },
    {
     "name": "stderr",
     "output_type": "stream",
     "text": [
      "/usr/local/lib/python3.4/dist-packages/sklearn/feature_selection/univariate_selection.py:113: UserWarning: Features [   295    303    319 ..., 580786 580800 580815] are constant.\n",
      "  UserWarning)\n"
     ]
    },
    {
     "name": "stdout",
     "output_type": "stream",
     "text": [
      "fold: 1\n",
      "fold: 2\n",
      "fold: 3\n",
      "C: 0.1\n",
      "split: 16\n",
      "jacobians at train: 221\n"
     ]
    },
    {
     "name": "stderr",
     "output_type": "stream",
     "text": [
      "/usr/local/lib/python3.4/dist-packages/sklearn/feature_selection/univariate_selection.py:113: UserWarning: Features [   180    181    185 ..., 580917 580918 580919] are constant.\n",
      "  UserWarning)\n"
     ]
    },
    {
     "name": "stdout",
     "output_type": "stream",
     "text": [
      "fold: 1\n",
      "fold: 2\n",
      "fold: 3\n",
      "C: 0.1\n",
      "split: 17\n",
      "jacobians at train: 250\n"
     ]
    },
    {
     "name": "stderr",
     "output_type": "stream",
     "text": [
      "/usr/local/lib/python3.4/dist-packages/sklearn/feature_selection/univariate_selection.py:113: UserWarning: Features [    13     99    400 ..., 580895 580896 580897] are constant.\n",
      "  UserWarning)\n"
     ]
    },
    {
     "name": "stdout",
     "output_type": "stream",
     "text": [
      "fold: 1\n",
      "fold: 2\n",
      "fold: 3\n",
      "C: 0.1\n",
      "split: 18\n",
      "jacobians at train: 241\n"
     ]
    },
    {
     "name": "stderr",
     "output_type": "stream",
     "text": [
      "/usr/local/lib/python3.4/dist-packages/sklearn/feature_selection/univariate_selection.py:113: UserWarning: Features [   207    334    347 ..., 580865 580877 580881] are constant.\n",
      "  UserWarning)\n"
     ]
    },
    {
     "name": "stdout",
     "output_type": "stream",
     "text": [
      "fold: 1\n",
      "fold: 2\n",
      "fold: 3\n",
      "C: 0.1\n",
      "split: 19\n",
      "jacobians at train: 231\n"
     ]
    },
    {
     "name": "stderr",
     "output_type": "stream",
     "text": [
      "/usr/local/lib/python3.4/dist-packages/sklearn/feature_selection/univariate_selection.py:113: UserWarning: Features [   180    181    185 ..., 580786 580800 580815] are constant.\n",
      "  UserWarning)\n"
     ]
    },
    {
     "name": "stdout",
     "output_type": "stream",
     "text": [
      "fold: 1\n",
      "fold: 2\n",
      "fold: 3\n",
      "C: 0.1\n",
      "split: 20\n",
      "jacobians at train: 239\n"
     ]
    },
    {
     "name": "stderr",
     "output_type": "stream",
     "text": [
      "/usr/local/lib/python3.4/dist-packages/sklearn/feature_selection/univariate_selection.py:113: UserWarning: Features [   177    182    187 ..., 580914 580915 580924] are constant.\n",
      "  UserWarning)\n"
     ]
    },
    {
     "name": "stdout",
     "output_type": "stream",
     "text": [
      "fold: 1\n",
      "fold: 2\n",
      "fold: 3\n",
      "C: 0.1\n",
      "split: 21\n",
      "jacobians at train: 228\n"
     ]
    },
    {
     "name": "stderr",
     "output_type": "stream",
     "text": [
      "/usr/local/lib/python3.4/dist-packages/sklearn/feature_selection/univariate_selection.py:113: UserWarning: Features [    13     99    129 ..., 580917 580918 580919] are constant.\n",
      "  UserWarning)\n"
     ]
    },
    {
     "name": "stdout",
     "output_type": "stream",
     "text": [
      "fold: 1\n",
      "fold: 2\n",
      "fold: 3\n",
      "C: 0.1\n",
      "split: 22\n",
      "jacobians at train: 218\n"
     ]
    },
    {
     "name": "stderr",
     "output_type": "stream",
     "text": [
      "/usr/local/lib/python3.4/dist-packages/sklearn/feature_selection/univariate_selection.py:113: UserWarning: Features [   334    347    357 ..., 580752 580753 580857] are constant.\n",
      "  UserWarning)\n"
     ]
    },
    {
     "name": "stdout",
     "output_type": "stream",
     "text": [
      "fold: 1\n",
      "fold: 2\n",
      "fold: 3\n",
      "C: 0.1\n",
      "split: 23\n",
      "jacobians at train: 256\n"
     ]
    },
    {
     "name": "stderr",
     "output_type": "stream",
     "text": [
      "/usr/local/lib/python3.4/dist-packages/sklearn/feature_selection/univariate_selection.py:113: UserWarning: Features [    13     99    180 ..., 580903 580904 580905] are constant.\n",
      "  UserWarning)\n"
     ]
    },
    {
     "name": "stdout",
     "output_type": "stream",
     "text": [
      "fold: 1\n",
      "fold: 2\n",
      "fold: 3\n",
      "C: 0.1\n",
      "split: 24\n",
      "jacobians at train: 239\n"
     ]
    },
    {
     "name": "stderr",
     "output_type": "stream",
     "text": [
      "/usr/local/lib/python3.4/dist-packages/sklearn/feature_selection/univariate_selection.py:113: UserWarning: Features [    13     90     99 ..., 580920 580921 580924] are constant.\n",
      "  UserWarning)\n"
     ]
    },
    {
     "name": "stdout",
     "output_type": "stream",
     "text": [
      "fold: 1\n",
      "fold: 2\n",
      "fold: 3\n",
      "C: 1579.03157895\n",
      "split: 25\n",
      "jacobians at train: 225\n"
     ]
    },
    {
     "name": "stderr",
     "output_type": "stream",
     "text": [
      "/usr/local/lib/python3.4/dist-packages/sklearn/feature_selection/univariate_selection.py:113: UserWarning: Features [    13     99    293 ..., 580876 580888 580889] are constant.\n",
      "  UserWarning)\n"
     ]
    },
    {
     "name": "stdout",
     "output_type": "stream",
     "text": [
      "fold: 1\n",
      "fold: 2\n",
      "fold: 3\n",
      "C: 0.1\n",
      "split: 26\n",
      "jacobians at train: 210\n"
     ]
    },
    {
     "name": "stderr",
     "output_type": "stream",
     "text": [
      "/usr/local/lib/python3.4/dist-packages/sklearn/feature_selection/univariate_selection.py:113: UserWarning: Features [   129    140    237 ..., 580902 580906 580907] are constant.\n",
      "  UserWarning)\n"
     ]
    },
    {
     "name": "stdout",
     "output_type": "stream",
     "text": [
      "fold: 1\n",
      "fold: 2\n",
      "fold: 3\n",
      "C: 0.1\n",
      "split: 27\n",
      "jacobians at train: 241\n"
     ]
    },
    {
     "name": "stderr",
     "output_type": "stream",
     "text": [
      "/usr/local/lib/python3.4/dist-packages/sklearn/feature_selection/univariate_selection.py:113: UserWarning: Features [   151    287    334 ..., 580902 580906 580907] are constant.\n",
      "  UserWarning)\n"
     ]
    },
    {
     "name": "stdout",
     "output_type": "stream",
     "text": [
      "fold: 1\n",
      "fold: 2\n",
      "fold: 3\n",
      "C: 0.1\n",
      "split: 28\n",
      "jacobians at train: 238\n"
     ]
    },
    {
     "name": "stderr",
     "output_type": "stream",
     "text": [
      "/usr/local/lib/python3.4/dist-packages/sklearn/feature_selection/univariate_selection.py:113: UserWarning: Features [    13     99    357 ..., 580895 580896 580897] are constant.\n",
      "  UserWarning)\n"
     ]
    },
    {
     "name": "stdout",
     "output_type": "stream",
     "text": [
      "fold: 1\n",
      "fold: 2\n",
      "fold: 3\n",
      "C: 526.410526316\n",
      "split: 29\n",
      "jacobians at train: 227\n"
     ]
    },
    {
     "name": "stderr",
     "output_type": "stream",
     "text": [
      "/usr/local/lib/python3.4/dist-packages/sklearn/feature_selection/univariate_selection.py:113: UserWarning: Features [   129    140    151 ..., 580903 580904 580905] are constant.\n",
      "  UserWarning)\n"
     ]
    },
    {
     "name": "stdout",
     "output_type": "stream",
     "text": [
      "fold: 1\n",
      "fold: 2\n",
      "fold: 3\n",
      "C: 0.1\n",
      "split: 30\n",
      "jacobians at train: 224\n"
     ]
    },
    {
     "name": "stderr",
     "output_type": "stream",
     "text": [
      "/usr/local/lib/python3.4/dist-packages/sklearn/feature_selection/univariate_selection.py:113: UserWarning: Features [   151    207    357 ..., 580922 580925 580926] are constant.\n",
      "  UserWarning)\n"
     ]
    },
    {
     "name": "stdout",
     "output_type": "stream",
     "text": [
      "fold: 1\n",
      "fold: 2\n",
      "fold: 3\n",
      "C: 526.410526316\n",
      "split: 31\n",
      "jacobians at train: 240\n"
     ]
    },
    {
     "name": "stderr",
     "output_type": "stream",
     "text": [
      "/usr/local/lib/python3.4/dist-packages/sklearn/feature_selection/univariate_selection.py:113: UserWarning: Features [   151    187    192 ..., 580924 580925 580926] are constant.\n",
      "  UserWarning)\n"
     ]
    },
    {
     "name": "stdout",
     "output_type": "stream",
     "text": [
      "fold: 1\n",
      "fold: 2\n",
      "fold: 3\n",
      "C: 0.1\n",
      "split: 32\n",
      "jacobians at train: 217\n"
     ]
    },
    {
     "name": "stderr",
     "output_type": "stream",
     "text": [
      "/usr/local/lib/python3.4/dist-packages/sklearn/feature_selection/univariate_selection.py:113: UserWarning: Features [   129    140    237 ..., 580895 580896 580897] are constant.\n",
      "  UserWarning)\n"
     ]
    },
    {
     "name": "stdout",
     "output_type": "stream",
     "text": [
      "fold: 1\n",
      "fold: 2\n",
      "fold: 3\n",
      "C: 0.1\n",
      "split: 33\n",
      "jacobians at train: 233\n"
     ]
    },
    {
     "name": "stderr",
     "output_type": "stream",
     "text": [
      "/usr/local/lib/python3.4/dist-packages/sklearn/feature_selection/univariate_selection.py:113: UserWarning: Features [   129    140    237 ..., 580913 580914 580915] are constant.\n",
      "  UserWarning)\n"
     ]
    },
    {
     "name": "stdout",
     "output_type": "stream",
     "text": [
      "fold: 1\n",
      "fold: 2\n",
      "fold: 3\n",
      "C: 0.1\n",
      "split: 34\n",
      "jacobians at train: 213\n"
     ]
    },
    {
     "name": "stderr",
     "output_type": "stream",
     "text": [
      "/usr/local/lib/python3.4/dist-packages/sklearn/feature_selection/univariate_selection.py:113: UserWarning: Features [   151    180    181 ..., 580607 580653 580670] are constant.\n",
      "  UserWarning)\n"
     ]
    },
    {
     "name": "stdout",
     "output_type": "stream",
     "text": [
      "fold: 1\n",
      "fold: 2\n",
      "fold: 3\n",
      "C: 0.1\n",
      "split: 35\n",
      "jacobians at train: 230\n"
     ]
    },
    {
     "name": "stderr",
     "output_type": "stream",
     "text": [
      "/usr/local/lib/python3.4/dist-packages/sklearn/feature_selection/univariate_selection.py:113: UserWarning: Features [   129    140    180 ..., 580922 580925 580926] are constant.\n",
      "  UserWarning)\n"
     ]
    },
    {
     "name": "stdout",
     "output_type": "stream",
     "text": [
      "fold: 1\n",
      "fold: 2\n",
      "fold: 3\n",
      "C: 0.1\n",
      "split: 36\n",
      "jacobians at train: 238\n"
     ]
    },
    {
     "name": "stderr",
     "output_type": "stream",
     "text": [
      "/usr/local/lib/python3.4/dist-packages/sklearn/feature_selection/univariate_selection.py:113: UserWarning: Features [   129    140    151 ..., 580857 580865 580877] are constant.\n",
      "  UserWarning)\n"
     ]
    },
    {
     "name": "stdout",
     "output_type": "stream",
     "text": [
      "fold: 1\n",
      "fold: 2\n",
      "fold: 3\n",
      "C: 0.1\n",
      "split: 37\n",
      "jacobians at train: 223\n"
     ]
    },
    {
     "name": "stderr",
     "output_type": "stream",
     "text": [
      "/usr/local/lib/python3.4/dist-packages/sklearn/feature_selection/univariate_selection.py:113: UserWarning: Features [   151    180    181 ..., 580922 580925 580926] are constant.\n",
      "  UserWarning)\n"
     ]
    },
    {
     "name": "stdout",
     "output_type": "stream",
     "text": [
      "fold: 1\n",
      "fold: 2\n",
      "fold: 3\n",
      "C: 0.1\n",
      "split: 38\n",
      "jacobians at train: 222\n"
     ]
    },
    {
     "name": "stderr",
     "output_type": "stream",
     "text": [
      "/usr/local/lib/python3.4/dist-packages/sklearn/feature_selection/univariate_selection.py:113: UserWarning: Features [   334    347    415 ..., 580917 580918 580919] are constant.\n",
      "  UserWarning)\n"
     ]
    },
    {
     "name": "stdout",
     "output_type": "stream",
     "text": [
      "fold: 1\n",
      "fold: 2\n",
      "fold: 3\n",
      "C: 1579.03157895\n",
      "split: 39\n",
      "jacobians at train: 236\n"
     ]
    },
    {
     "name": "stderr",
     "output_type": "stream",
     "text": [
      "/usr/local/lib/python3.4/dist-packages/sklearn/feature_selection/univariate_selection.py:113: UserWarning: Features [   402    439    547 ..., 580922 580925 580926] are constant.\n",
      "  UserWarning)\n"
     ]
    },
    {
     "name": "stdout",
     "output_type": "stream",
     "text": [
      "fold: 1\n",
      "fold: 2\n",
      "fold: 3\n",
      "C: 0.1\n",
      "split: 40\n",
      "jacobians at train: 237\n"
     ]
    },
    {
     "name": "stderr",
     "output_type": "stream",
     "text": [
      "/usr/local/lib/python3.4/dist-packages/sklearn/feature_selection/univariate_selection.py:113: UserWarning: Features [   151    402    403 ..., 580751 580752 580753] are constant.\n",
      "  UserWarning)\n"
     ]
    },
    {
     "name": "stdout",
     "output_type": "stream",
     "text": [
      "fold: 1\n",
      "fold: 2\n",
      "fold: 3\n",
      "C: 0.1\n",
      "split: 41\n",
      "jacobians at train: 177\n"
     ]
    },
    {
     "name": "stderr",
     "output_type": "stream",
     "text": [
      "/usr/local/lib/python3.4/dist-packages/sklearn/feature_selection/univariate_selection.py:113: UserWarning: Features [   129    140    237 ..., 580917 580918 580919] are constant.\n",
      "  UserWarning)\n"
     ]
    },
    {
     "name": "stdout",
     "output_type": "stream",
     "text": [
      "fold: 1\n",
      "fold: 2\n",
      "fold: 3\n",
      "C: 0.1\n",
      "split: 42\n",
      "jacobians at train: 223\n"
     ]
    },
    {
     "name": "stderr",
     "output_type": "stream",
     "text": [
      "/usr/local/lib/python3.4/dist-packages/sklearn/feature_selection/univariate_selection.py:113: UserWarning: Features [   175    176    269 ..., 580913 580914 580915] are constant.\n",
      "  UserWarning)\n"
     ]
    },
    {
     "name": "stdout",
     "output_type": "stream",
     "text": [
      "fold: 1\n",
      "fold: 2\n",
      "fold: 3\n",
      "C: 2105.34210526\n",
      "split: 43\n",
      "jacobians at train: 235\n"
     ]
    },
    {
     "name": "stderr",
     "output_type": "stream",
     "text": [
      "/usr/local/lib/python3.4/dist-packages/sklearn/feature_selection/univariate_selection.py:113: UserWarning: Features [   129    140    198 ..., 580903 580904 580905] are constant.\n",
      "  UserWarning)\n"
     ]
    },
    {
     "name": "stdout",
     "output_type": "stream",
     "text": [
      "fold: 1\n",
      "fold: 2\n",
      "fold: 3\n",
      "C: 0.1\n",
      "split: 44\n",
      "jacobians at train: 234\n"
     ]
    },
    {
     "name": "stderr",
     "output_type": "stream",
     "text": [
      "/usr/local/lib/python3.4/dist-packages/sklearn/feature_selection/univariate_selection.py:113: UserWarning: Features [   287    357    358 ..., 580917 580918 580919] are constant.\n",
      "  UserWarning)\n"
     ]
    },
    {
     "name": "stdout",
     "output_type": "stream",
     "text": [
      "fold: 1\n",
      "fold: 2\n",
      "fold: 3\n",
      "C: 0.1\n",
      "split: 45\n",
      "jacobians at train: 238\n",
      "fold: 1\n",
      "fold: 2\n",
      "fold: 3\n",
      "C: 0.1\n",
      "split: 46\n",
      "jacobians at train: 242\n",
      "fold: 1\n",
      "fold: 2\n",
      "fold: 3\n",
      "C: 0.1\n",
      "split: 47\n",
      "jacobians at train: 238\n"
     ]
    },
    {
     "name": "stderr",
     "output_type": "stream",
     "text": [
      "/usr/local/lib/python3.4/dist-packages/sklearn/feature_selection/univariate_selection.py:113: UserWarning: Features [   187    192    193 ..., 580914 580915 580924] are constant.\n",
      "  UserWarning)\n"
     ]
    },
    {
     "name": "stdout",
     "output_type": "stream",
     "text": [
      "fold: 1\n",
      "fold: 2\n",
      "fold: 3\n",
      "C: 0.1\n",
      "split: 48\n",
      "jacobians at train: 243\n"
     ]
    },
    {
     "name": "stderr",
     "output_type": "stream",
     "text": [
      "/usr/local/lib/python3.4/dist-packages/sklearn/feature_selection/univariate_selection.py:113: UserWarning: Features [   317    318    334 ..., 580913 580914 580915] are constant.\n",
      "  UserWarning)\n"
     ]
    },
    {
     "name": "stdout",
     "output_type": "stream",
     "text": [
      "fold: 1\n",
      "fold: 2\n",
      "fold: 3\n",
      "C: 2105.34210526\n",
      "split: 49\n",
      "jacobians at train: 226\n"
     ]
    },
    {
     "name": "stderr",
     "output_type": "stream",
     "text": [
      "/usr/local/lib/python3.4/dist-packages/sklearn/feature_selection/univariate_selection.py:113: UserWarning: Features [    13     99    334 ..., 580917 580918 580919] are constant.\n",
      "  UserWarning)\n"
     ]
    },
    {
     "name": "stdout",
     "output_type": "stream",
     "text": [
      "fold: 1\n",
      "fold: 2\n",
      "fold: 3\n",
      "C: 0.1\n",
      "split: 50\n",
      "jacobians at train: 239\n",
      "fold: 1\n",
      "fold: 2\n",
      "fold: 3\n",
      "C: 0.1\n",
      "split: 51\n",
      "jacobians at train: 217\n"
     ]
    },
    {
     "name": "stderr",
     "output_type": "stream",
     "text": [
      "/usr/local/lib/python3.4/dist-packages/sklearn/feature_selection/univariate_selection.py:113: UserWarning: Features [   177    182    187 ..., 580846 580857 580924] are constant.\n",
      "  UserWarning)\n"
     ]
    },
    {
     "name": "stdout",
     "output_type": "stream",
     "text": [
      "fold: 1\n",
      "fold: 2\n",
      "fold: 3\n",
      "C: 0.1\n",
      "split: 52\n",
      "jacobians at train: 204\n"
     ]
    },
    {
     "name": "stderr",
     "output_type": "stream",
     "text": [
      "/usr/local/lib/python3.4/dist-packages/sklearn/feature_selection/univariate_selection.py:113: UserWarning: Features [   151    175    176 ..., 580902 580906 580907] are constant.\n",
      "  UserWarning)\n"
     ]
    },
    {
     "name": "stdout",
     "output_type": "stream",
     "text": [
      "fold: 1\n",
      "fold: 2\n",
      "fold: 3\n",
      "C: 1052.72105263\n",
      "split: 53\n",
      "jacobians at train: 212\n"
     ]
    },
    {
     "name": "stderr",
     "output_type": "stream",
     "text": [
      "/usr/local/lib/python3.4/dist-packages/sklearn/feature_selection/univariate_selection.py:113: UserWarning: Features [   151    207    295 ..., 580922 580925 580926] are constant.\n",
      "  UserWarning)\n"
     ]
    },
    {
     "name": "stdout",
     "output_type": "stream",
     "text": [
      "fold: 1\n",
      "fold: 2\n",
      "fold: 3\n",
      "C: 0.1\n",
      "split: 54\n",
      "jacobians at train: 200\n",
      "fold: 1\n",
      "fold: 2\n",
      "fold: 3\n",
      "C: 0.1\n",
      "split: 55\n",
      "jacobians at train: 246\n"
     ]
    },
    {
     "name": "stderr",
     "output_type": "stream",
     "text": [
      "/usr/local/lib/python3.4/dist-packages/sklearn/feature_selection/univariate_selection.py:113: UserWarning: Features [   177    182    187 ..., 580906 580907 580924] are constant.\n",
      "  UserWarning)\n"
     ]
    },
    {
     "name": "stdout",
     "output_type": "stream",
     "text": [
      "fold: 1\n",
      "fold: 2\n",
      "fold: 3\n",
      "C: 0.1\n",
      "split: 56\n",
      "jacobians at train: 233\n"
     ]
    },
    {
     "name": "stderr",
     "output_type": "stream",
     "text": [
      "/usr/local/lib/python3.4/dist-packages/sklearn/feature_selection/univariate_selection.py:113: UserWarning: Features [   129    140    151 ..., 580895 580896 580897] are constant.\n",
      "  UserWarning)\n"
     ]
    },
    {
     "name": "stdout",
     "output_type": "stream",
     "text": [
      "fold: 1\n",
      "fold: 2\n",
      "fold: 3\n",
      "C: 0.1\n",
      "split: 57\n",
      "jacobians at train: 227\n"
     ]
    },
    {
     "name": "stderr",
     "output_type": "stream",
     "text": [
      "/usr/local/lib/python3.4/dist-packages/sklearn/feature_selection/univariate_selection.py:113: UserWarning: Features [   287    400    401 ..., 580903 580904 580905] are constant.\n",
      "  UserWarning)\n"
     ]
    },
    {
     "name": "stdout",
     "output_type": "stream",
     "text": [
      "fold: 1\n",
      "fold: 2\n",
      "fold: 3\n",
      "C: 0.1\n",
      "split: 58\n",
      "jacobians at train: 213\n"
     ]
    },
    {
     "name": "stderr",
     "output_type": "stream",
     "text": [
      "/usr/local/lib/python3.4/dist-packages/sklearn/feature_selection/univariate_selection.py:113: UserWarning: Features [   287    387    482 ..., 580917 580918 580919] are constant.\n",
      "  UserWarning)\n"
     ]
    },
    {
     "name": "stdout",
     "output_type": "stream",
     "text": [
      "fold: 1\n",
      "fold: 2\n",
      "fold: 3\n",
      "C: 0.1\n",
      "split: 59\n",
      "jacobians at train: 237\n"
     ]
    },
    {
     "name": "stderr",
     "output_type": "stream",
     "text": [
      "/usr/local/lib/python3.4/dist-packages/sklearn/feature_selection/univariate_selection.py:113: UserWarning: Features [   312    313    314 ..., 580913 580914 580915] are constant.\n",
      "  UserWarning)\n"
     ]
    },
    {
     "name": "stdout",
     "output_type": "stream",
     "text": [
      "fold: 1\n",
      "fold: 2\n",
      "fold: 3\n",
      "C: 0.1\n",
      "split: 60\n",
      "jacobians at train: 232\n"
     ]
    },
    {
     "name": "stderr",
     "output_type": "stream",
     "text": [
      "/usr/local/lib/python3.4/dist-packages/sklearn/feature_selection/univariate_selection.py:113: UserWarning: Features [   129    140    237 ..., 580922 580925 580926] are constant.\n",
      "  UserWarning)\n"
     ]
    },
    {
     "name": "stdout",
     "output_type": "stream",
     "text": [
      "fold: 1\n",
      "fold: 2\n",
      "fold: 3\n",
      "C: 0.1\n",
      "split: 61\n",
      "jacobians at train: 232\n"
     ]
    },
    {
     "name": "stderr",
     "output_type": "stream",
     "text": [
      "/usr/local/lib/python3.4/dist-packages/sklearn/feature_selection/univariate_selection.py:113: UserWarning: Features [   151    180    181 ..., 580913 580914 580915] are constant.\n",
      "  UserWarning)\n"
     ]
    },
    {
     "name": "stdout",
     "output_type": "stream",
     "text": [
      "fold: 1\n",
      "fold: 2\n",
      "fold: 3\n",
      "C: 0.1\n",
      "split: 62\n",
      "jacobians at train: 235\n",
      "fold: 1\n",
      "fold: 2\n",
      "fold: 3\n",
      "C: 0.1\n",
      "split: 63\n",
      "jacobians at train: 238\n"
     ]
    },
    {
     "name": "stderr",
     "output_type": "stream",
     "text": [
      "/usr/local/lib/python3.4/dist-packages/sklearn/feature_selection/univariate_selection.py:113: UserWarning: Features [   179    187    192 ..., 580914 580915 580924] are constant.\n",
      "  UserWarning)\n"
     ]
    },
    {
     "name": "stdout",
     "output_type": "stream",
     "text": [
      "fold: 1\n",
      "fold: 2\n",
      "fold: 3\n",
      "C: 0.1\n",
      "split: 64\n",
      "jacobians at train: 230\n"
     ]
    },
    {
     "name": "stderr",
     "output_type": "stream",
     "text": [
      "/usr/local/lib/python3.4/dist-packages/sklearn/feature_selection/univariate_selection.py:113: UserWarning: Features [   129    140    179 ..., 580914 580915 580924] are constant.\n",
      "  UserWarning)\n"
     ]
    },
    {
     "name": "stdout",
     "output_type": "stream",
     "text": [
      "fold: 1\n",
      "fold: 2\n",
      "fold: 3\n",
      "C: 0.1\n",
      "split: 65\n",
      "jacobians at train: 237\n"
     ]
    },
    {
     "name": "stderr",
     "output_type": "stream",
     "text": [
      "/usr/local/lib/python3.4/dist-packages/sklearn/feature_selection/univariate_selection.py:113: UserWarning: Features [   387    400    401 ..., 580565 580865 580877] are constant.\n",
      "  UserWarning)\n"
     ]
    },
    {
     "name": "stdout",
     "output_type": "stream",
     "text": [
      "fold: 1\n",
      "fold: 2\n",
      "fold: 3\n",
      "C: 0.1\n",
      "split: 66\n",
      "jacobians at train: 234\n",
      "fold: 1\n",
      "fold: 2\n",
      "fold: 3\n",
      "C: 0.1\n",
      "split: 67\n",
      "jacobians at train: 246\n"
     ]
    },
    {
     "name": "stderr",
     "output_type": "stream",
     "text": [
      "/usr/local/lib/python3.4/dist-packages/sklearn/feature_selection/univariate_selection.py:113: UserWarning: Features [   129    140    187 ..., 580924 580925 580926] are constant.\n",
      "  UserWarning)\n"
     ]
    },
    {
     "name": "stdout",
     "output_type": "stream",
     "text": [
      "fold: 1\n",
      "fold: 2\n",
      "fold: 3\n",
      "C: 0.1\n",
      "split: 68\n",
      "jacobians at train: 235\n"
     ]
    },
    {
     "name": "stderr",
     "output_type": "stream",
     "text": [
      "/usr/local/lib/python3.4/dist-packages/sklearn/feature_selection/univariate_selection.py:113: UserWarning: Features [   287    295    303 ..., 580902 580906 580907] are constant.\n",
      "  UserWarning)\n"
     ]
    },
    {
     "name": "stdout",
     "output_type": "stream",
     "text": [
      "fold: 1\n",
      "fold: 2\n",
      "fold: 3\n",
      "C: 0.1\n",
      "split: 69\n",
      "jacobians at train: 233\n"
     ]
    },
    {
     "name": "stderr",
     "output_type": "stream",
     "text": [
      "/usr/local/lib/python3.4/dist-packages/sklearn/feature_selection/univariate_selection.py:113: UserWarning: Features [   129    140    177 ..., 580914 580915 580924] are constant.\n",
      "  UserWarning)\n"
     ]
    },
    {
     "name": "stdout",
     "output_type": "stream",
     "text": [
      "fold: 1\n",
      "fold: 2\n",
      "fold: 3\n",
      "C: 0.1\n",
      "split: 70\n",
      "jacobians at train: 234\n"
     ]
    },
    {
     "name": "stderr",
     "output_type": "stream",
     "text": [
      "/usr/local/lib/python3.4/dist-packages/sklearn/feature_selection/univariate_selection.py:113: UserWarning: Features [   207    354    402 ..., 580913 580914 580915] are constant.\n",
      "  UserWarning)\n"
     ]
    },
    {
     "name": "stdout",
     "output_type": "stream",
     "text": [
      "fold: 1\n",
      "fold: 2\n",
      "fold: 3\n",
      "C: 0.1\n",
      "split: 71\n",
      "jacobians at train: 247\n"
     ]
    },
    {
     "name": "stderr",
     "output_type": "stream",
     "text": [
      "/usr/local/lib/python3.4/dist-packages/sklearn/feature_selection/univariate_selection.py:113: UserWarning: Features [   151    180    181 ..., 580917 580918 580919] are constant.\n",
      "  UserWarning)\n"
     ]
    },
    {
     "name": "stdout",
     "output_type": "stream",
     "text": [
      "fold: 1\n",
      "fold: 2\n",
      "fold: 3\n",
      "C: 0.1\n",
      "split: 72\n",
      "jacobians at train: 227\n"
     ]
    },
    {
     "name": "stderr",
     "output_type": "stream",
     "text": [
      "/usr/local/lib/python3.4/dist-packages/sklearn/feature_selection/univariate_selection.py:113: UserWarning: Features [   151    179    187 ..., 580906 580907 580924] are constant.\n",
      "  UserWarning)\n"
     ]
    },
    {
     "name": "stdout",
     "output_type": "stream",
     "text": [
      "fold: 1\n",
      "fold: 2\n",
      "fold: 3\n",
      "C: 0.1\n",
      "split: 73\n",
      "jacobians at train: 243\n",
      "fold: 1\n",
      "fold: 2\n",
      "fold: 3\n",
      "C: 0.1\n",
      "split: 74\n",
      "jacobians at train: 207\n"
     ]
    },
    {
     "name": "stderr",
     "output_type": "stream",
     "text": [
      "/usr/local/lib/python3.4/dist-packages/sklearn/feature_selection/univariate_selection.py:113: UserWarning: Features [   354    404    426 ..., 580922 580925 580926] are constant.\n",
      "  UserWarning)\n"
     ]
    },
    {
     "name": "stdout",
     "output_type": "stream",
     "text": [
      "fold: 1\n",
      "fold: 2\n",
      "fold: 3\n",
      "C: 0.1\n",
      "split: 75\n",
      "jacobians at train: 234\n"
     ]
    },
    {
     "name": "stderr",
     "output_type": "stream",
     "text": [
      "/usr/local/lib/python3.4/dist-packages/sklearn/feature_selection/univariate_selection.py:113: UserWarning: Features [   295    303    312 ..., 580922 580925 580926] are constant.\n",
      "  UserWarning)\n"
     ]
    },
    {
     "name": "stdout",
     "output_type": "stream",
     "text": [
      "fold: 1\n",
      "fold: 2\n",
      "fold: 3\n",
      "C: 0.1\n",
      "split: 76\n",
      "jacobians at train: 231\n"
     ]
    },
    {
     "name": "stderr",
     "output_type": "stream",
     "text": [
      "/usr/local/lib/python3.4/dist-packages/sklearn/feature_selection/univariate_selection.py:113: UserWarning: Features [   354    482    523 ..., 580922 580925 580926] are constant.\n",
      "  UserWarning)\n"
     ]
    },
    {
     "name": "stdout",
     "output_type": "stream",
     "text": [
      "fold: 1\n",
      "fold: 2\n",
      "fold: 3\n",
      "C: 0.1\n",
      "split: 77\n",
      "jacobians at train: 252\n"
     ]
    },
    {
     "name": "stderr",
     "output_type": "stream",
     "text": [
      "/usr/local/lib/python3.4/dist-packages/sklearn/feature_selection/univariate_selection.py:113: UserWarning: Features [    13     99    177 ..., 580914 580915 580924] are constant.\n",
      "  UserWarning)\n"
     ]
    },
    {
     "name": "stdout",
     "output_type": "stream",
     "text": [
      "fold: 1\n",
      "fold: 2\n",
      "fold: 3\n",
      "C: 0.1\n",
      "split: 78\n",
      "jacobians at train: 232\n"
     ]
    },
    {
     "name": "stderr",
     "output_type": "stream",
     "text": [
      "/usr/local/lib/python3.4/dist-packages/sklearn/feature_selection/univariate_selection.py:113: UserWarning: Features [   180    181    185 ..., 580920 580921 580924] are constant.\n",
      "  UserWarning)\n"
     ]
    },
    {
     "name": "stdout",
     "output_type": "stream",
     "text": [
      "fold: 1\n",
      "fold: 2\n",
      "fold: 3\n",
      "C: 0.1\n",
      "split: 79\n",
      "jacobians at train: 217\n",
      "fold: 1\n",
      "fold: 2\n",
      "fold: 3\n",
      "C: 0.1\n",
      "split: 80\n",
      "jacobians at train: 228\n"
     ]
    },
    {
     "name": "stderr",
     "output_type": "stream",
     "text": [
      "/usr/local/lib/python3.4/dist-packages/sklearn/feature_selection/univariate_selection.py:113: UserWarning: Features [   295    303    319 ..., 580815 580831 580881] are constant.\n",
      "  UserWarning)\n"
     ]
    },
    {
     "name": "stdout",
     "output_type": "stream",
     "text": [
      "fold: 1\n",
      "fold: 2\n",
      "fold: 3\n",
      "C: 0.1\n",
      "split: 81\n",
      "jacobians at train: 223\n",
      "fold: 1\n",
      "fold: 2\n",
      "fold: 3\n",
      "C: 0.1\n",
      "split: 82\n",
      "jacobians at train: 203\n",
      "fold: 1\n",
      "fold: 2\n",
      "fold: 3\n",
      "C: 0.1\n",
      "split: 83\n",
      "jacobians at train: 234\n"
     ]
    },
    {
     "name": "stderr",
     "output_type": "stream",
     "text": [
      "/usr/local/lib/python3.4/dist-packages/sklearn/feature_selection/univariate_selection.py:113: UserWarning: Features [    13     90     99 ..., 580902 580906 580907] are constant.\n",
      "  UserWarning)\n"
     ]
    },
    {
     "name": "stdout",
     "output_type": "stream",
     "text": [
      "fold: 1\n",
      "fold: 2\n",
      "fold: 3\n",
      "C: 0.1\n",
      "split: 84\n",
      "jacobians at train: 212\n"
     ]
    },
    {
     "name": "stderr",
     "output_type": "stream",
     "text": [
      "/usr/local/lib/python3.4/dist-packages/sklearn/feature_selection/univariate_selection.py:113: UserWarning: Features [   293    294    402 ..., 580903 580904 580905] are constant.\n",
      "  UserWarning)\n"
     ]
    },
    {
     "name": "stdout",
     "output_type": "stream",
     "text": [
      "fold: 1\n",
      "fold: 2\n",
      "fold: 3\n",
      "C: 0.1\n",
      "split: 85\n",
      "jacobians at train: 216\n"
     ]
    },
    {
     "name": "stderr",
     "output_type": "stream",
     "text": [
      "/usr/local/lib/python3.4/dist-packages/sklearn/feature_selection/univariate_selection.py:113: UserWarning: Features [   287    295    296 ..., 580815 580831 580857] are constant.\n",
      "  UserWarning)\n"
     ]
    },
    {
     "name": "stdout",
     "output_type": "stream",
     "text": [
      "fold: 1\n",
      "fold: 2\n",
      "fold: 3\n",
      "C: 0.1\n",
      "split: 86\n",
      "jacobians at train: 198\n"
     ]
    },
    {
     "name": "stderr",
     "output_type": "stream",
     "text": [
      "/usr/local/lib/python3.4/dist-packages/sklearn/feature_selection/univariate_selection.py:113: UserWarning: Features [   151    175    176 ..., 580885 580886 580887] are constant.\n",
      "  UserWarning)\n"
     ]
    },
    {
     "name": "stdout",
     "output_type": "stream",
     "text": [
      "fold: 1\n",
      "fold: 2\n",
      "fold: 3\n",
      "C: 526.410526316\n",
      "split: 87\n",
      "jacobians at train: 225\n"
     ]
    },
    {
     "name": "stderr",
     "output_type": "stream",
     "text": [
      "/usr/local/lib/python3.4/dist-packages/sklearn/feature_selection/univariate_selection.py:113: UserWarning: Features [   180    181    185 ..., 580902 580906 580907] are constant.\n",
      "  UserWarning)\n"
     ]
    },
    {
     "name": "stdout",
     "output_type": "stream",
     "text": [
      "fold: 1\n",
      "fold: 2\n",
      "fold: 3\n",
      "C: 0.1\n",
      "split: 88\n",
      "jacobians at train: 248\n"
     ]
    },
    {
     "name": "stderr",
     "output_type": "stream",
     "text": [
      "/usr/local/lib/python3.4/dist-packages/sklearn/feature_selection/univariate_selection.py:113: UserWarning: Features [   180    181    185 ..., 580895 580896 580897] are constant.\n",
      "  UserWarning)\n"
     ]
    },
    {
     "name": "stdout",
     "output_type": "stream",
     "text": [
      "fold: 1\n",
      "fold: 2\n",
      "fold: 3\n",
      "C: 0.1\n",
      "split: 89\n",
      "jacobians at train: 236\n"
     ]
    },
    {
     "name": "stderr",
     "output_type": "stream",
     "text": [
      "/usr/local/lib/python3.4/dist-packages/sklearn/feature_selection/univariate_selection.py:113: UserWarning: Features [    13     99    129 ..., 580920 580921 580924] are constant.\n",
      "  UserWarning)\n"
     ]
    },
    {
     "name": "stdout",
     "output_type": "stream",
     "text": [
      "fold: 1\n",
      "fold: 2\n",
      "fold: 3\n",
      "C: 0.1\n",
      "split: 90\n",
      "jacobians at train: 231\n"
     ]
    },
    {
     "name": "stderr",
     "output_type": "stream",
     "text": [
      "/usr/local/lib/python3.4/dist-packages/sklearn/feature_selection/univariate_selection.py:113: UserWarning: Features [   129    140    151 ..., 580922 580925 580926] are constant.\n",
      "  UserWarning)\n"
     ]
    },
    {
     "name": "stdout",
     "output_type": "stream",
     "text": [
      "fold: 1\n",
      "fold: 2\n",
      "fold: 3\n",
      "C: 0.1\n",
      "split: 91\n",
      "jacobians at train: 226\n",
      "fold: 1\n",
      "fold: 2\n",
      "fold: 3\n",
      "C: 0.1\n",
      "split: 92\n",
      "jacobians at train: 241\n"
     ]
    },
    {
     "name": "stderr",
     "output_type": "stream",
     "text": [
      "/usr/local/lib/python3.4/dist-packages/sklearn/feature_selection/univariate_selection.py:113: UserWarning: Features [   207    357    377 ..., 580902 580906 580907] are constant.\n",
      "  UserWarning)\n"
     ]
    },
    {
     "name": "stdout",
     "output_type": "stream",
     "text": [
      "fold: 1\n",
      "fold: 2\n",
      "fold: 3\n",
      "C: 0.1\n",
      "split: 93\n",
      "jacobians at train: 227\n"
     ]
    },
    {
     "name": "stderr",
     "output_type": "stream",
     "text": [
      "/usr/local/lib/python3.4/dist-packages/sklearn/feature_selection/univariate_selection.py:113: UserWarning: Features [   180    181    185 ..., 580903 580904 580905] are constant.\n",
      "  UserWarning)\n"
     ]
    },
    {
     "name": "stdout",
     "output_type": "stream",
     "text": [
      "fold: 1\n",
      "fold: 2\n",
      "fold: 3\n",
      "C: 0.1\n",
      "split: 94\n",
      "jacobians at train: 225\n"
     ]
    },
    {
     "name": "stderr",
     "output_type": "stream",
     "text": [
      "/usr/local/lib/python3.4/dist-packages/sklearn/feature_selection/univariate_selection.py:113: UserWarning: Features [   179    187    192 ..., 580865 580877 580924] are constant.\n",
      "  UserWarning)\n"
     ]
    },
    {
     "name": "stdout",
     "output_type": "stream",
     "text": [
      "fold: 1\n",
      "fold: 2\n",
      "fold: 3\n",
      "C: 0.1\n",
      "split: 95\n",
      "jacobians at train: 204\n"
     ]
    },
    {
     "name": "stderr",
     "output_type": "stream",
     "text": [
      "/usr/local/lib/python3.4/dist-packages/sklearn/feature_selection/univariate_selection.py:113: UserWarning: Features [   180    181    185 ..., 580905 580906 580907] are constant.\n",
      "  UserWarning)\n"
     ]
    },
    {
     "name": "stdout",
     "output_type": "stream",
     "text": [
      "fold: 1\n",
      "fold: 2\n",
      "fold: 3\n",
      "C: 0.1\n",
      "split: 96\n",
      "jacobians at train: 236\n"
     ]
    },
    {
     "name": "stderr",
     "output_type": "stream",
     "text": [
      "/usr/local/lib/python3.4/dist-packages/sklearn/feature_selection/univariate_selection.py:113: UserWarning: Features [    13     90     99 ..., 580800 580815 580857] are constant.\n",
      "  UserWarning)\n"
     ]
    },
    {
     "name": "stdout",
     "output_type": "stream",
     "text": [
      "fold: 1\n",
      "fold: 2\n",
      "fold: 3\n",
      "C: 0.1\n",
      "split: 97\n",
      "jacobians at train: 210\n"
     ]
    },
    {
     "name": "stderr",
     "output_type": "stream",
     "text": [
      "/usr/local/lib/python3.4/dist-packages/sklearn/feature_selection/univariate_selection.py:113: UserWarning: Features [   129    140    187 ..., 580906 580907 580924] are constant.\n",
      "  UserWarning)\n"
     ]
    },
    {
     "name": "stdout",
     "output_type": "stream",
     "text": [
      "fold: 1\n",
      "fold: 2\n",
      "fold: 3\n",
      "C: 526.410526316\n",
      "split: 98\n",
      "jacobians at train: 236\n"
     ]
    },
    {
     "name": "stderr",
     "output_type": "stream",
     "text": [
      "/usr/local/lib/python3.4/dist-packages/sklearn/feature_selection/univariate_selection.py:113: UserWarning: Features [   207    269    354 ..., 580902 580906 580907] are constant.\n",
      "  UserWarning)\n"
     ]
    },
    {
     "name": "stdout",
     "output_type": "stream",
     "text": [
      "fold: 1\n",
      "fold: 2\n",
      "fold: 3\n",
      "C: 0.1\n",
      "split: 99\n",
      "jacobians at train: 235\n"
     ]
    },
    {
     "name": "stderr",
     "output_type": "stream",
     "text": [
      "/usr/local/lib/python3.4/dist-packages/sklearn/feature_selection/univariate_selection.py:113: UserWarning: Features [    13     99    180 ..., 580917 580918 580919] are constant.\n",
      "  UserWarning)\n"
     ]
    },
    {
     "name": "stdout",
     "output_type": "stream",
     "text": [
      "fold: 1\n",
      "fold: 2\n",
      "fold: 3\n",
      "C: 4736.89473684\n",
      "split: 100\n",
      "jacobians at train: 240\n"
     ]
    },
    {
     "name": "stderr",
     "output_type": "stream",
     "text": [
      "/usr/local/lib/python3.4/dist-packages/sklearn/feature_selection/univariate_selection.py:113: UserWarning: Features [   187    192    193 ..., 580896 580897 580924] are constant.\n",
      "  UserWarning)\n"
     ]
    },
    {
     "name": "stdout",
     "output_type": "stream",
     "text": [
      "fold: 1\n",
      "fold: 2\n",
      "fold: 3\n",
      "C: 0.1\n",
      "ACCURACY_mean: 0.605895927834\n",
      "PRECISION_mean: 0.507836674358\n",
      "RECALL_mean: 0.523923624036\n",
      "SPECIFICITY_mean: 0.664782728442\n",
      "F_mean: 0.501577790162\n",
      "AUC_mean: 0.612792311071\n",
      "ACCURACY1_mean: 0.59949435696\n",
      "PRECISION1_mean: 0.508616593815\n",
      "RECALL1_mean: 0.700772774951\n",
      "SPECIFICITY1_mean: 0.53908315283\n",
      "F1_mean: 0.572412889405\n",
      "AUC1_mean: 0.672612727546\n",
      "ACCURACY_std: 0.0657655953236\n",
      "PRECISION_std: 0.160272649458\n",
      "RECALL_std: 0.11654967176\n",
      "SPECIFICITY_std: 0.114021431522\n",
      "F_std: 0.114696266063\n",
      "AUC_std: 0.0871218040559\n",
      "ACCURACY1_std: 0.106276903542\n",
      "PRECISION1_std: 0.164958850121\n",
      "RECALL1_std: 0.14561454141\n",
      "SPECIFICITY1_std: 0.159894471276\n",
      "F1_std: 0.135448360546\n",
      "AUC1_std: 0.123504976242\n"
     ]
    },
    {
     "data": {
      "text/plain": [
       "0"
      ]
     },
     "execution_count": 15,
     "metadata": {},
     "output_type": "execute_result"
    }
   ],
   "source": [
    "splits = 100\n",
    "folds= 3\n",
    "linspace = np.linspace(10e-2, 10e3, num=20)\n",
    "percentage = 0.35\n",
    "F, AUC, PRECISION, RECALL, SPECIFICITY, ACCURACY, Fs, AUCs, PRECISIONs, RECALLs, SPECIFICITYs, ACCURACYs, F1, AUC1, PRECISION1, RECALL1, SPECIFICITY1, ACCURACY1, F1s, AUC1s, PRECISION1s, RECALL1s, SPECIFICITY1s, ACCURACY1s = nested_CV_F_measure(X, y, splits, folds, linspace, dt, percentage, y_short, sub_id, sub_id_short, zeros)\n",
    "os.system('espeak \"la ejecución ha terminadoooooooooooooooooooooooooo\"')"
   ]
  },
  {
   "cell_type": "code",
   "execution_count": 24,
   "metadata": {},
   "outputs": [
    {
     "data": {
      "text/plain": [
       "array([ 363,  388,  363,  380,  365,  378,  378,  724,  346,  378,  362,\n",
       "        720,  358,  355, 1814, 1459,  355, 1814, 1459,  359,  410,  358,\n",
       "        380, 1701, 2073, 1321, 1693,  372,  364, 1106, 1473, 1826,  742,\n",
       "       1109, 1462,  367,  720,  353,  383,  363, 1095, 1466, 1826,  732,\n",
       "       1103, 1463,  371,  731,  360,  397,  367,  368,  362,  720,  358,\n",
       "        369,  364, 1897, 1533,  371, 1464, 2182, 1093, 1811,  718,  367,\n",
       "       1094, 1452,  727, 1085,  358,  372, 1094, 1457,  722, 1085,  363,\n",
       "        381, 1094, 1465, 1850,  713, 1084, 1469,  371,  756,  385,  345,\n",
       "        364,  728,  364,  368, 1097,  729,  366,  369, 1099, 1460,  730,\n",
       "       1091,  361,  389,  357,  366,  360,  735,  375,  368, 1120, 1491,\n",
       "       1932,  752, 1123, 1564,  371,  812,  441,  404,  366, 1524, 1158,\n",
       "        366, 1107,  741,  366, 1107,  741,  395,  352,  371,  368,  371,\n",
       "        830, 1156,  459,  785,  326,  388,  783, 1108,  395,  720,  325,\n",
       "        378,  365,  381,  722, 1578,  341, 1197,  856,  353,  722, 1135,\n",
       "        369,  782,  413,  356,  351, 1114, 1588,  763, 1237,  474,  364,\n",
       "        767, 1106, 1477, 2265,  403,  742, 1113, 1901,  339,  710, 1498,\n",
       "        371, 1159,  788,  363, 1839, 1476,  378, 1099, 1456, 2199,  721,\n",
       "       1078, 1821,  357, 1100,  743,  378,  728,  350,  427,  360, 1898,\n",
       "       1538,  378,  364,  364,  735,  364, 1099, 1463,  735, 1099,  364,\n",
       "        372,  367,  358, 1094, 1444,  736, 1086,  350,  364,  361,  732,\n",
       "       1094, 1437,  371,  733, 1076,  362,  705,  343,  387,  737,  350,\n",
       "        336, 1194,  858,  739, 1124,  385,  736,  732,  719,  714,  744,\n",
       "        740,  717,  723,  756,  722,  738,  751,  738,  728,  742,  723,\n",
       "        723,  730,  737,  742,  726,  762,  772,  729,  729,  735,  819,\n",
       "        732,  735,  720,  722,  737,  729,  713,  722,  728,  734,  728,\n",
       "        726,  735,  734,  727,  725,  738,  721,  743,  717,  724,  714,\n",
       "        721,  720])"
      ]
     },
     "execution_count": 24,
     "metadata": {},
     "output_type": "execute_result"
    }
   ],
   "source": [
    "dt"
   ]
  },
  {
   "cell_type": "code",
   "execution_count": null,
   "metadata": {},
   "outputs": [],
   "source": [
    "splits = 100\n",
    "folds = 3\n",
    "percentages = np.linspace(0.001 , 10, 100)\n",
    "linspace = np.linspace(10e-3, 10, num=10)\n",
    "\n",
    "f=[]\n",
    "auc=[]\n",
    "precision=[]\n",
    "recall=[]\n",
    "specificity=[]\n",
    "\n",
    "for per in percentages:\n",
    "    print(\"percentage:\", per)\n",
    "    F, AUC, PRECISION, RECALL, SPECIFICITY = nested_CV_F_measure(X, y, splits, folds, linspace, dt, per, y_short, sub_id, sub_id_short)\n",
    "    f.append(F)\n",
    "    auc.append(AUC)\n",
    "    precision.append(PRECISION)\n",
    "    recall.append(RECALL)\n",
    "    specificity.append(SPECIFICITY)\n",
    "\n",
    "plt.figure(figsize=(10,10))\n",
    "plt.plot(percentages, f, color='green', label='F1_score')\n",
    "plt.plot(percentages, auc, color='red', label='AUC')\n",
    "plt.plot(percentages, precision, color='blue', label='PRECISION')\n",
    "plt.plot(percentages, recall, color='orange', label='RECALL')\n",
    "plt.plot(percentages, specificity, color='pink', label='SPECIFICITY')\n",
    "plt.legend(loc='best')\n",
    "plt.xlabel('percentage')\n",
    "plt.title('metrics for each percentage')\n",
    "plt.show()  \n"
   ]
  },
  {
   "cell_type": "code",
   "execution_count": null,
   "metadata": {},
   "outputs": [],
   "source": [
    "np.save('/imatge/martigues/work/CLEAN2/results/f_1', f)\n",
    "np.save('/imatge/martigues/work/CLEAN2/results/auc_1', auc)\n",
    "np.save('/imatge/martigues/work/CLEAN2/results/precision_1', precision)\n",
    "np.save('/imatge/martigues/work/CLEAN2/results/recall_1', recall)\n",
    "np.save('/imatge/martigues/work/CLEAN2/results/specificity_1', specificity)\n"
   ]
  },
  {
   "cell_type": "markdown",
   "metadata": {},
   "source": [
    "## split per jacobian"
   ]
  },
  {
   "cell_type": "code",
   "execution_count": 21,
   "metadata": {},
   "outputs": [
    {
     "data": {
      "text/plain": [
       "(124, 572738)"
      ]
     },
     "execution_count": 21,
     "metadata": {},
     "output_type": "execute_result"
    }
   ],
   "source": [
    "X=np.load('/home/miquel/ForMiquel/CLEAN2/X_c1_1j_full2.npy') \n",
    "y=np.load('/home/miquel/ForMiquel/CLEAN2/y_1j_full2.npy') #subject labels\n",
    "#sub_id=np.load('/home/miquel/ForMiquel/CLEAN2/sub_id_short.npy') #subject idxs\n",
    "#jac_idx=np.load('/home/miquel/ForMiquel/CLEAN2/jac_idx_1j_full2.npy')\n",
    "#dt=np.load('/home/miquel/ForMiquel/CLEAN2/dt_full2.npy')\n",
    "zeros=np.load('/home/miquel/ForMiquel/CLEAN2/zero_cols_X_full2.npy')\n",
    "dt=np.load('/home/miquel/ForMiquel/CLEAN2/dt_full2.npy')\n",
    "\n",
    "\n",
    "#X=np.load('/home/miquel/ForMiquel/CLEAN2/X_c1_1j_1y.npy') \n",
    "#y=np.load('/home/miquel/ForMiquel/CLEAN2/y_1j_1y.npy') #subject labels\n",
    "#jac_idx=np.load('/home/miquel/ForMiquel/CLEAN2/jac_idx_1j_1y.npy')\n",
    "#zeros=np.load('/home/miquel/ForMiquel/CLEAN2/zero_cols_JB_c1_1j_1y.npy')\n",
    "np.shape(X)"
   ]
  },
  {
   "cell_type": "code",
   "execution_count": 22,
   "metadata": {},
   "outputs": [],
   "source": [
    "def KFold_intern(X_train, y_train, folds, linspace, dt, percentage):\n",
    "    \n",
    "    l=len(linspace)\n",
    "    l2=X_train.shape[0]\n",
    "    TP=np.zeros((l))\n",
    "    FP=np.zeros((l))\n",
    "    FN=np.zeros((l))\n",
    "    \n",
    "    dt=np.reshape(dt, (len(dt),1))\n",
    "    \n",
    "    kf = cross_validation.KFold(l2, n_folds=folds)\n",
    "       \n",
    "    for train_index_f, test_index_f in kf:  \n",
    "        X_train_f = X_train[train_index_f,:]\n",
    "        X_test_f = X_train[test_index_f,:]\n",
    "        y_train_f = y_train[train_index_f]\n",
    "        y_test_f = y_train[test_index_f]\n",
    "     \n",
    "        tp_l=[]\n",
    "        fp_l=[]\n",
    "        fn_l=[]\n",
    "        \n",
    "        for c in linspace:\n",
    "            \n",
    "            y_test_f = y[test_index_f]\n",
    "            dt_test_f = dt[test_index_f]\n",
    "            \n",
    "            clf = LogisticRegression(solver='liblinear', penalty='l2', C=c, class_weight=None)\n",
    "            clf.fit(X_train_f, y_train_f)\n",
    "            pred = clf.predict(X_test_f)\n",
    "            conf = confusion_matrix(y_test_f, pred)\n",
    "            \n",
    "            #mask0 = np.where(dt_test_f>1.09)#~400 days\n",
    "            #mask0 = np.asarray(mask0)\n",
    "            #pred = pred[mask0][0]\n",
    "            #y_test_f = y_test_f[mask0][0]\n",
    "            conf = confusion_matrix(y_test_f, pred)\n",
    "            tp_l.append(conf[1,1])\n",
    "            fp_l.append(conf[0,1])\n",
    "            fn_l.append(conf[1,0])\n",
    "            \n",
    "            \n",
    "        TP = np.vstack((TP, tp_l))\n",
    "        FP = np.vstack((FP, fp_l))\n",
    "        FN = np.vstack((FN, fn_l))\n",
    "        \n",
    "            \n",
    "    TP=TP[1:,:]\n",
    "    FP=FP[1:,:]\n",
    "    FN=FN[1:,:]\n",
    "    \n",
    "    TP=np.sum(TP, axis=0)\n",
    "    FP=np.sum(FP, axis=0)\n",
    "    FN=np.sum(FN, axis=0)\n",
    "    \n",
    "    F=(2*TP)/(2*TP + FP + FN)\n",
    "    maxi = np.amax(F)\n",
    "    maxi_idx = np.argmax(F)\n",
    "    \n",
    "    #plt.figure(1)\n",
    "    #plt.plot(linspace, F, color='blue', label='F-measure')\n",
    "    #plt.legend(loc='best')\n",
    "    #plt.xlabel('C')\n",
    "    #plt.title('metrics logistic regression combination c1 and c2')\n",
    "    #plt.show()\n",
    "    \n",
    "    return maxi, maxi_idx"
   ]
  },
  {
   "cell_type": "code",
   "execution_count": 26,
   "metadata": {},
   "outputs": [],
   "source": [
    "def nested_CV_F_measure(X, y, splits, folds, linspace, dt, percentage, zeros):\n",
    "   \n",
    "    \n",
    "    box = np.zeros((121,145,121))\n",
    "\n",
    "    SPECIFICITY=[]\n",
    "    PRECISION=[]\n",
    "    RECALL=[]\n",
    "    AUC=[]\n",
    "    F=[]\n",
    "    ACCURACY=[]\n",
    "    \n",
    "    SPECIFICITY1=[]\n",
    "    PRECISION1=[]\n",
    "    RECALL1=[]\n",
    "    AUC1=[]\n",
    "    F1=[]\n",
    "    ACCURACY1=[]\n",
    "    \n",
    "    tp_l=[]\n",
    "    fp_l=[]\n",
    "    fn_l=[]\n",
    "    \n",
    "    spl = StratifiedShuffleSplit(n_splits=splits, test_size=0.2, random_state=42)\n",
    "    split=1\n",
    "    \n",
    "    for train_index, test_index in spl.split(X, y):\n",
    "        X_train = X[train_index,:]\n",
    "        y_train = y[train_index]\n",
    "        X_test = X[test_index,:]\n",
    "        y_test = y[test_index]\n",
    "        dt_test = dt[test_index]\n",
    "        dt_train = dt[train_index]\n",
    "        print(\"split:\", split)\n",
    "        split = split + 1\n",
    "        \n",
    "        #remove train jac. with dt < 415 days\n",
    "        #mask = np.where(dt_train>1.14)#~400 days\n",
    "        #mask = np.asarray(mask)\n",
    "        #X_train = X_train[mask,:][0]\n",
    "        #y_train = y_train[mask][0]\n",
    "        \n",
    "        S = SelectPercentile(percentile=percentage)\n",
    "        S.fit(X_train, y_train)\n",
    "        \n",
    "        X_train_s = X_train[:,S.get_support()]\n",
    "        X_test_s = X_test[:,S.get_support()]\n",
    "     \n",
    "        maxi, maxi_idx = KFold_intern(X_train_s, y_train, folds, linspace, dt_train, percentage)\n",
    "        c = linspace[maxi_idx]\n",
    "        #print(\"c:\", c)\n",
    "        \n",
    "        clf = LogisticRegression(solver='liblinear', penalty='l2', C=c, class_weight='balanced')\n",
    "        clf.fit(X_train_s, y_train)\n",
    "        pred = clf.predict(X_test_s)\n",
    "        probas_ = clf.predict_proba(X_test_s)\n",
    "        \n",
    "\n",
    "        probas_ = probas_[:, 1]        \n",
    "        \n",
    "        #preparation masks to test AUC as function of dt\n",
    "        mask1 = np.where(dt_test>1.15)#~400 days\n",
    "        mask1 = np.asarray(mask1)\n",
    "        pred_1 = pred[mask1][0]\n",
    "        y_test_1 = y_test[mask1][0]\n",
    "        probas_1 = probas_[mask1][0]\n",
    "        \n",
    "        conf = confusion_matrix(y_test, pred)\n",
    "        tp_l.append(conf[1,1])\n",
    "        fp_l.append(conf[0,1])\n",
    "        fn_l.append(conf[1,0])\n",
    "        \n",
    "        f1=f1_score(y_test, pred)\n",
    "        F.append(f1)\n",
    "        \n",
    "        f1_1=f1_score(y_test_1, pred_1)\n",
    "        if np.isnan(f1_1) == False:\n",
    "            F1.append(f1_1)\n",
    "        \n",
    "        \n",
    "        fpr, tpr, thresholds = roc_curve(y_test, probas_)\n",
    "        roc_auc = sklearn.metrics.auc(fpr, tpr)\n",
    "        AUC.append(roc_auc)\n",
    "        \n",
    "        fpr, tpr, thresholds = roc_curve(y_test_1, probas_1)\n",
    "        roc_auc_1 = sklearn.metrics.auc(fpr, tpr)\n",
    "        if np.isnan(roc_auc_1) == False:\n",
    "            AUC1.append(roc_auc_1)\n",
    "\n",
    "        \n",
    "        precision=precision_score(y_test, pred)\n",
    "        recall=recall_score(y_test, pred)\n",
    "        PRECISION.append(precision)\n",
    "        RECALL.append(recall)\n",
    "        specificity= (conf[0,0])/(conf[0,0]+conf[0,1])\n",
    "        SPECIFICITY.append(specificity)\n",
    "        acc=accuracy_score(y_test, pred)\n",
    "        ACCURACY.append(acc)\n",
    "        \n",
    "        precision1=precision_score(y_test_1, pred_1)\n",
    "        recall1=recall_score(y_test_1, pred_1)\n",
    "        PRECISION1.append(precision1)\n",
    "        RECALL1.append(recall1)\n",
    "        conf1 = confusion_matrix(y_test_1, pred_1)\n",
    "        specificity1= (conf1[0,0])/(conf1[0,0]+conf1[0,1])\n",
    "        SPECIFICITY1.append(specificity1)\n",
    "        acc1=accuracy_score(y_test_1, pred_1)\n",
    "        ACCURACY1.append(acc1)\n",
    "        \n",
    "    \n",
    "        aux = np.zeros((121*145*121))\n",
    "        aux[~zeros] = np.asarray(S.get_support())\n",
    "        aux = np.reshape(aux, (121,145,121))\n",
    "        box = box + aux\n",
    "    \n",
    "    box = np.transpose(box)\n",
    "    #np.save('/home/miquel/ForMiquel/CLEAN2/Voxel_appareances_jacobian_' + str(splits) + '_' + str(percentage) + '_2y', box)\n",
    "    new_img = nib.Nifti1Image(box, np.eye(4))\n",
    "    #nib.save(new_img, 'img_Voxel_appareances_jacobian_' + str(splits) + '_' + str(percentage) + '_2y.nii.gz')\n",
    "    \n",
    "    \n",
    "    TP=np.sum(tp_l, axis=0)\n",
    "    FP=np.sum(fp_l, axis=0)\n",
    "    FN=np.sum(fn_l, axis=0)\n",
    "\n",
    "    \n",
    "    F_g=(2*TP)/(2*TP + FP + FN)\n",
    "    \n",
    "\n",
    "    print(\"ACCURACY_mean:\", np.mean(ACCURACY))\n",
    "    print(\"PRECISION_mean:\", np.mean(PRECISION))\n",
    "    print(\"RECALL_mean:\", np.mean(RECALL))\n",
    "    print(\"SPECIFICITY_mean:\", np.mean(SPECIFICITY))\n",
    "    print(\"F_mean:\", np.mean(F))\n",
    "    print(\"AUC_mean:\", np.mean(AUC))\n",
    "    \n",
    "    print(\"ACCURACY1_mean:\", np.mean(ACCURACY1))\n",
    "    print(\"PRECISION1_mean:\", np.mean(PRECISION1))\n",
    "    print(\"RECALL1_mean:\", np.mean(RECALL1))\n",
    "    print(\"SPECIFICITY1_mean:\", np.mean(SPECIFICITY1))\n",
    "    print(\"F1_mean:\", np.mean(F1))\n",
    "    print(\"AUC1_mean:\", np.mean(AUC1))\n",
    "\n",
    "    print(\"ACCURACY_std:\", np.std(ACCURACY))\n",
    "    print(\"PRECISION_std:\", np.std(PRECISION))\n",
    "    print(\"RECALL_std:\", np.std(RECALL))\n",
    "    print(\"SPECIFICITY_std:\", np.std(SPECIFICITY))\n",
    "    print(\"F_std:\", np.std(F))\n",
    "    print(\"AUC_std:\", np.std(AUC))\n",
    "\n",
    "    print(\"ACCURACY1_std:\", np.std(ACCURACY1))\n",
    "    print(\"PRECISION1_std:\", np.std(PRECISION1))\n",
    "    print(\"RECALL1_std:\", np.std(RECALL1))\n",
    "    print(\"SPECIFICITY1_std:\", np.std(SPECIFICITY1))\n",
    "    print(\"F1_std:\", np.std(F1))\n",
    "    print(\"AUC1_std:\", np.std(AUC1))\n",
    "\n",
    "    return np.mean(F), np.mean(AUC), np.mean(PRECISION), np.mean(RECALL), np.mean(SPECIFICITY), np.mean(ACCURACY), np.std(F), np.std(AUC), np.std(PRECISION), np.std(RECALL), np.std(SPECIFICITY), np.std(ACCURACY),np.mean(F1), np.mean(AUC1), np.mean(PRECISION1), np.mean(RECALL1), np.mean(SPECIFICITY1), np.mean(ACCURACY1), np.std(F1), np.std(AUC1), np.std(PRECISION1), np.std(RECALL1), np.std(SPECIFICITY1), np.std(ACCURACY1)\n"
   ]
  },
  {
   "cell_type": "code",
   "execution_count": 28,
   "metadata": {
    "scrolled": false
   },
   "outputs": [
    {
     "name": "stdout",
     "output_type": "stream",
     "text": [
      "split: 1\n"
     ]
    },
    {
     "name": "stderr",
     "output_type": "stream",
     "text": [
      "/usr/local/lib/python3.4/dist-packages/sklearn/feature_selection/univariate_selection.py:113: UserWarning: Features [    13     99    178 ..., 572733 572736 572737] are constant.\n",
      "  UserWarning)\n",
      "/usr/local/lib/python3.4/dist-packages/sklearn/feature_selection/univariate_selection.py:114: RuntimeWarning: invalid value encountered in true_divide\n",
      "  f = msb / msw\n"
     ]
    },
    {
     "name": "stdout",
     "output_type": "stream",
     "text": [
      "split: 2\n"
     ]
    },
    {
     "name": "stderr",
     "output_type": "stream",
     "text": [
      "/usr/local/lib/python3.4/dist-packages/sklearn/feature_selection/univariate_selection.py:113: UserWarning: Features [    13     80     85 ..., 572720 572721 572722] are constant.\n",
      "  UserWarning)\n"
     ]
    },
    {
     "name": "stdout",
     "output_type": "stream",
     "text": [
      "split: 3\n"
     ]
    },
    {
     "name": "stderr",
     "output_type": "stream",
     "text": [
      "/usr/local/lib/python3.4/dist-packages/sklearn/feature_selection/univariate_selection.py:113: UserWarning: Features [    13     90     99 ..., 572712 572713 572714] are constant.\n",
      "  UserWarning)\n"
     ]
    },
    {
     "name": "stdout",
     "output_type": "stream",
     "text": [
      "split: 4\n"
     ]
    },
    {
     "name": "stderr",
     "output_type": "stream",
     "text": [
      "/usr/local/lib/python3.4/dist-packages/sklearn/feature_selection/univariate_selection.py:113: UserWarning: Features [    13     99    288 ..., 572733 572736 572737] are constant.\n",
      "  UserWarning)\n"
     ]
    },
    {
     "name": "stdout",
     "output_type": "stream",
     "text": [
      "split: 5\n"
     ]
    },
    {
     "name": "stderr",
     "output_type": "stream",
     "text": [
      "/usr/local/lib/python3.4/dist-packages/sklearn/feature_selection/univariate_selection.py:113: UserWarning: Features [    13     99    305 ..., 572720 572721 572722] are constant.\n",
      "  UserWarning)\n"
     ]
    },
    {
     "name": "stdout",
     "output_type": "stream",
     "text": [
      "split: 6\n"
     ]
    },
    {
     "name": "stderr",
     "output_type": "stream",
     "text": [
      "/usr/local/lib/python3.4/dist-packages/sklearn/feature_selection/univariate_selection.py:113: UserWarning: Features [    13     99    149 ..., 572712 572713 572714] are constant.\n",
      "  UserWarning)\n"
     ]
    },
    {
     "name": "stdout",
     "output_type": "stream",
     "text": [
      "split: 7\n"
     ]
    },
    {
     "name": "stderr",
     "output_type": "stream",
     "text": [
      "/usr/local/lib/python3.4/dist-packages/sklearn/feature_selection/univariate_selection.py:113: UserWarning: Features [    13     80     85 ..., 572712 572713 572714] are constant.\n",
      "  UserWarning)\n"
     ]
    },
    {
     "name": "stdout",
     "output_type": "stream",
     "text": [
      "split: 8\n"
     ]
    },
    {
     "name": "stderr",
     "output_type": "stream",
     "text": [
      "/usr/local/lib/python3.4/dist-packages/sklearn/feature_selection/univariate_selection.py:113: UserWarning: Features [    13     99    177 ..., 572731 572732 572735] are constant.\n",
      "  UserWarning)\n"
     ]
    },
    {
     "name": "stdout",
     "output_type": "stream",
     "text": [
      "split: 9\n"
     ]
    },
    {
     "name": "stderr",
     "output_type": "stream",
     "text": [
      "/usr/local/lib/python3.4/dist-packages/sklearn/feature_selection/univariate_selection.py:113: UserWarning: Features [     4     13     90 ..., 572728 572729 572730] are constant.\n",
      "  UserWarning)\n"
     ]
    },
    {
     "name": "stdout",
     "output_type": "stream",
     "text": [
      "split: 10\n"
     ]
    },
    {
     "name": "stderr",
     "output_type": "stream",
     "text": [
      "/usr/local/lib/python3.4/dist-packages/sklearn/feature_selection/univariate_selection.py:113: UserWarning: Features [    13     99    324 ..., 572728 572729 572730] are constant.\n",
      "  UserWarning)\n"
     ]
    },
    {
     "name": "stdout",
     "output_type": "stream",
     "text": [
      "split: 11\n"
     ]
    },
    {
     "name": "stderr",
     "output_type": "stream",
     "text": [
      "/usr/local/lib/python3.4/dist-packages/sklearn/feature_selection/univariate_selection.py:113: UserWarning: Features [    13     80     85 ..., 572728 572729 572730] are constant.\n",
      "  UserWarning)\n"
     ]
    },
    {
     "name": "stdout",
     "output_type": "stream",
     "text": [
      "split: 12\n"
     ]
    },
    {
     "name": "stderr",
     "output_type": "stream",
     "text": [
      "/usr/local/lib/python3.4/dist-packages/sklearn/feature_selection/univariate_selection.py:113: UserWarning: Features [    13     80     85 ..., 572733 572736 572737] are constant.\n",
      "  UserWarning)\n"
     ]
    },
    {
     "name": "stdout",
     "output_type": "stream",
     "text": [
      "split: 13\n"
     ]
    },
    {
     "name": "stderr",
     "output_type": "stream",
     "text": [
      "/usr/local/lib/python3.4/dist-packages/sklearn/feature_selection/univariate_selection.py:113: UserWarning: Features [    13     99    324 ..., 572692 572702 572703] are constant.\n",
      "  UserWarning)\n"
     ]
    },
    {
     "name": "stdout",
     "output_type": "stream",
     "text": [
      "split: 14\n"
     ]
    },
    {
     "name": "stderr",
     "output_type": "stream",
     "text": [
      "/usr/local/lib/python3.4/dist-packages/sklearn/feature_selection/univariate_selection.py:113: UserWarning: Features [    13     99    204 ..., 572733 572736 572737] are constant.\n",
      "  UserWarning)\n"
     ]
    },
    {
     "name": "stdout",
     "output_type": "stream",
     "text": [
      "split: 15\n"
     ]
    },
    {
     "name": "stderr",
     "output_type": "stream",
     "text": [
      "/usr/local/lib/python3.4/dist-packages/sklearn/feature_selection/univariate_selection.py:113: UserWarning: Features [    13     99    274 ..., 572554 572621 572634] are constant.\n",
      "  UserWarning)\n"
     ]
    },
    {
     "name": "stdout",
     "output_type": "stream",
     "text": [
      "split: 16\n"
     ]
    },
    {
     "name": "stderr",
     "output_type": "stream",
     "text": [
      "/usr/local/lib/python3.4/dist-packages/sklearn/feature_selection/univariate_selection.py:113: UserWarning: Features [    13     99    178 ..., 572712 572713 572714] are constant.\n",
      "  UserWarning)\n"
     ]
    },
    {
     "name": "stdout",
     "output_type": "stream",
     "text": [
      "split: 17\n"
     ]
    },
    {
     "name": "stderr",
     "output_type": "stream",
     "text": [
      "/usr/local/lib/python3.4/dist-packages/sklearn/feature_selection/univariate_selection.py:113: UserWarning: Features [    13     99    288 ..., 572720 572721 572722] are constant.\n",
      "  UserWarning)\n"
     ]
    },
    {
     "name": "stdout",
     "output_type": "stream",
     "text": [
      "split: 18\n"
     ]
    },
    {
     "name": "stderr",
     "output_type": "stream",
     "text": [
      "/usr/local/lib/python3.4/dist-packages/sklearn/feature_selection/univariate_selection.py:113: UserWarning: Features [    13     99    204 ..., 572704 572708 572709] are constant.\n",
      "  UserWarning)\n"
     ]
    },
    {
     "name": "stdout",
     "output_type": "stream",
     "text": [
      "split: 19\n"
     ]
    },
    {
     "name": "stderr",
     "output_type": "stream",
     "text": [
      "/usr/local/lib/python3.4/dist-packages/sklearn/feature_selection/univariate_selection.py:113: UserWarning: Features [    13     99    178 ..., 572605 572621 572634] are constant.\n",
      "  UserWarning)\n"
     ]
    },
    {
     "name": "stdout",
     "output_type": "stream",
     "text": [
      "split: 20\n"
     ]
    },
    {
     "name": "stderr",
     "output_type": "stream",
     "text": [
      "/usr/local/lib/python3.4/dist-packages/sklearn/feature_selection/univariate_selection.py:113: UserWarning: Features [    13     80     85 ..., 572731 572732 572735] are constant.\n",
      "  UserWarning)\n"
     ]
    },
    {
     "name": "stdout",
     "output_type": "stream",
     "text": [
      "split: 21\n"
     ]
    },
    {
     "name": "stderr",
     "output_type": "stream",
     "text": [
      "/usr/local/lib/python3.4/dist-packages/sklearn/feature_selection/univariate_selection.py:113: UserWarning: Features [    13     99    204 ..., 572712 572713 572714] are constant.\n",
      "  UserWarning)\n"
     ]
    },
    {
     "name": "stdout",
     "output_type": "stream",
     "text": [
      "split: 22\n"
     ]
    },
    {
     "name": "stderr",
     "output_type": "stream",
     "text": [
      "/usr/local/lib/python3.4/dist-packages/sklearn/feature_selection/univariate_selection.py:113: UserWarning: Features [    13     99    324 ..., 572595 572596 572685] are constant.\n",
      "  UserWarning)\n"
     ]
    },
    {
     "name": "stdout",
     "output_type": "stream",
     "text": [
      "split: 23\n"
     ]
    },
    {
     "name": "stderr",
     "output_type": "stream",
     "text": [
      "/usr/local/lib/python3.4/dist-packages/sklearn/feature_selection/univariate_selection.py:113: UserWarning: Features [    13     99    178 ..., 572704 572708 572709] are constant.\n",
      "  UserWarning)\n"
     ]
    },
    {
     "name": "stdout",
     "output_type": "stream",
     "text": [
      "split: 24\n"
     ]
    },
    {
     "name": "stderr",
     "output_type": "stream",
     "text": [
      "/usr/local/lib/python3.4/dist-packages/sklearn/feature_selection/univariate_selection.py:113: UserWarning: Features [     4     13     90 ..., 572731 572732 572735] are constant.\n",
      "  UserWarning)\n"
     ]
    },
    {
     "name": "stdout",
     "output_type": "stream",
     "text": [
      "split: 25\n"
     ]
    },
    {
     "name": "stderr",
     "output_type": "stream",
     "text": [
      "/usr/local/lib/python3.4/dist-packages/sklearn/feature_selection/univariate_selection.py:113: UserWarning: Features [    13     99    288 ..., 572692 572702 572703] are constant.\n",
      "  UserWarning)\n"
     ]
    },
    {
     "name": "stdout",
     "output_type": "stream",
     "text": [
      "split: 26\n"
     ]
    },
    {
     "name": "stderr",
     "output_type": "stream",
     "text": [
      "/usr/local/lib/python3.4/dist-packages/sklearn/feature_selection/univariate_selection.py:113: UserWarning: Features [    13     99    264 ..., 572703 572708 572709] are constant.\n",
      "  UserWarning)\n"
     ]
    },
    {
     "name": "stdout",
     "output_type": "stream",
     "text": [
      "split: 27\n"
     ]
    },
    {
     "name": "stderr",
     "output_type": "stream",
     "text": [
      "/usr/local/lib/python3.4/dist-packages/sklearn/feature_selection/univariate_selection.py:113: UserWarning: Features [    13     99    149 ..., 572472 572684 572704] are constant.\n",
      "  UserWarning)\n"
     ]
    },
    {
     "name": "stdout",
     "output_type": "stream",
     "text": [
      "split: 28\n"
     ]
    },
    {
     "name": "stderr",
     "output_type": "stream",
     "text": [
      "/usr/local/lib/python3.4/dist-packages/sklearn/feature_selection/univariate_selection.py:113: UserWarning: Features [    13     99    274 ..., 572720 572721 572722] are constant.\n",
      "  UserWarning)\n"
     ]
    },
    {
     "name": "stdout",
     "output_type": "stream",
     "text": [
      "split: 29\n"
     ]
    },
    {
     "name": "stderr",
     "output_type": "stream",
     "text": [
      "/usr/local/lib/python3.4/dist-packages/sklearn/feature_selection/univariate_selection.py:113: UserWarning: Features [    13     99    149 ..., 572553 572576 572685] are constant.\n",
      "  UserWarning)\n"
     ]
    },
    {
     "name": "stdout",
     "output_type": "stream",
     "text": [
      "split: 30\n"
     ]
    },
    {
     "name": "stderr",
     "output_type": "stream",
     "text": [
      "/usr/local/lib/python3.4/dist-packages/sklearn/feature_selection/univariate_selection.py:113: UserWarning: Features [    13     99    149 ..., 572733 572736 572737] are constant.\n",
      "  UserWarning)\n"
     ]
    },
    {
     "name": "stdout",
     "output_type": "stream",
     "text": [
      "split: 31\n"
     ]
    },
    {
     "name": "stderr",
     "output_type": "stream",
     "text": [
      "/usr/local/lib/python3.4/dist-packages/sklearn/feature_selection/univariate_selection.py:113: UserWarning: Features [    13     99    149 ..., 572735 572736 572737] are constant.\n",
      "  UserWarning)\n"
     ]
    },
    {
     "name": "stdout",
     "output_type": "stream",
     "text": [
      "split: 32\n"
     ]
    },
    {
     "name": "stderr",
     "output_type": "stream",
     "text": [
      "/usr/local/lib/python3.4/dist-packages/sklearn/feature_selection/univariate_selection.py:113: UserWarning: Features [    13     99    282 ..., 572720 572721 572722] are constant.\n",
      "  UserWarning)\n"
     ]
    },
    {
     "name": "stdout",
     "output_type": "stream",
     "text": [
      "split: 33\n"
     ]
    },
    {
     "name": "stderr",
     "output_type": "stream",
     "text": [
      "/usr/local/lib/python3.4/dist-packages/sklearn/feature_selection/univariate_selection.py:113: UserWarning: Features [    13     99    388 ..., 572728 572729 572730] are constant.\n",
      "  UserWarning)\n"
     ]
    },
    {
     "name": "stdout",
     "output_type": "stream",
     "text": [
      "split: 34\n"
     ]
    },
    {
     "name": "stderr",
     "output_type": "stream",
     "text": [
      "/usr/local/lib/python3.4/dist-packages/sklearn/feature_selection/univariate_selection.py:113: UserWarning: Features [    13     99    149 ..., 572461 572604 572605] are constant.\n",
      "  UserWarning)\n"
     ]
    },
    {
     "name": "stdout",
     "output_type": "stream",
     "text": [
      "split: 35\n",
      "split: 36\n"
     ]
    },
    {
     "name": "stderr",
     "output_type": "stream",
     "text": [
      "/usr/local/lib/python3.4/dist-packages/sklearn/feature_selection/univariate_selection.py:113: UserWarning: Features [    13     80     85 ..., 572605 572685 572704] are constant.\n",
      "  UserWarning)\n"
     ]
    },
    {
     "name": "stdout",
     "output_type": "stream",
     "text": [
      "split: 37\n",
      "split: 38\n"
     ]
    },
    {
     "name": "stderr",
     "output_type": "stream",
     "text": [
      "/usr/local/lib/python3.4/dist-packages/sklearn/feature_selection/univariate_selection.py:113: UserWarning: Features [    13     99    324 ..., 572509 572510 572528] are constant.\n",
      "  UserWarning)\n"
     ]
    },
    {
     "name": "stdout",
     "output_type": "stream",
     "text": [
      "split: 39\n"
     ]
    },
    {
     "name": "stderr",
     "output_type": "stream",
     "text": [
      "/usr/local/lib/python3.4/dist-packages/sklearn/feature_selection/univariate_selection.py:113: UserWarning: Features [    13     99    388 ..., 572733 572736 572737] are constant.\n",
      "  UserWarning)\n"
     ]
    },
    {
     "name": "stdout",
     "output_type": "stream",
     "text": [
      "split: 40\n"
     ]
    },
    {
     "name": "stderr",
     "output_type": "stream",
     "text": [
      "/usr/local/lib/python3.4/dist-packages/sklearn/feature_selection/univariate_selection.py:113: UserWarning: Features [    13     80     85 ..., 572596 572708 572709] are constant.\n",
      "  UserWarning)\n"
     ]
    },
    {
     "name": "stdout",
     "output_type": "stream",
     "text": [
      "split: 41\n"
     ]
    },
    {
     "name": "stderr",
     "output_type": "stream",
     "text": [
      "/usr/local/lib/python3.4/dist-packages/sklearn/feature_selection/univariate_selection.py:113: UserWarning: Features [    13     99    388 ..., 572685 572708 572709] are constant.\n",
      "  UserWarning)\n"
     ]
    },
    {
     "name": "stdout",
     "output_type": "stream",
     "text": [
      "split: 42\n",
      "split: 43\n"
     ]
    },
    {
     "name": "stderr",
     "output_type": "stream",
     "text": [
      "/usr/local/lib/python3.4/dist-packages/sklearn/feature_selection/univariate_selection.py:113: UserWarning: Features [    13     90     99 ..., 572685 572708 572709] are constant.\n",
      "  UserWarning)\n"
     ]
    },
    {
     "name": "stdout",
     "output_type": "stream",
     "text": [
      "split: 44\n"
     ]
    },
    {
     "name": "stderr",
     "output_type": "stream",
     "text": [
      "/usr/local/lib/python3.4/dist-packages/sklearn/feature_selection/univariate_selection.py:113: UserWarning: Features [    13     99    282 ..., 572594 572595 572596] are constant.\n",
      "  UserWarning)\n"
     ]
    },
    {
     "name": "stdout",
     "output_type": "stream",
     "text": [
      "split: 45\n",
      "split: 46\n",
      "split: 47\n",
      "split: 48\n",
      "split: 49\n"
     ]
    },
    {
     "name": "stderr",
     "output_type": "stream",
     "text": [
      "/usr/local/lib/python3.4/dist-packages/sklearn/feature_selection/univariate_selection.py:113: UserWarning: Features [    13     99    324 ..., 572596 572670 572685] are constant.\n",
      "  UserWarning)\n"
     ]
    },
    {
     "name": "stdout",
     "output_type": "stream",
     "text": [
      "split: 50\n",
      "split: 51\n"
     ]
    },
    {
     "name": "stderr",
     "output_type": "stream",
     "text": [
      "/usr/local/lib/python3.4/dist-packages/sklearn/feature_selection/univariate_selection.py:113: UserWarning: Features [    13     99    175 ..., 572731 572732 572735] are constant.\n",
      "  UserWarning)\n"
     ]
    },
    {
     "name": "stdout",
     "output_type": "stream",
     "text": [
      "split: 52\n"
     ]
    },
    {
     "name": "stderr",
     "output_type": "stream",
     "text": [
      "/usr/local/lib/python3.4/dist-packages/sklearn/feature_selection/univariate_selection.py:113: UserWarning: Features [    13     80     85 ..., 572692 572702 572703] are constant.\n",
      "  UserWarning)\n"
     ]
    },
    {
     "name": "stdout",
     "output_type": "stream",
     "text": [
      "split: 53\n",
      "split: 54\n"
     ]
    },
    {
     "name": "stderr",
     "output_type": "stream",
     "text": [
      "/usr/local/lib/python3.4/dist-packages/sklearn/feature_selection/univariate_selection.py:113: UserWarning: Features [    13     99    324 ..., 572621 572634 572685] are constant.\n",
      "  UserWarning)\n"
     ]
    },
    {
     "name": "stdout",
     "output_type": "stream",
     "text": [
      "split: 55\n"
     ]
    },
    {
     "name": "stderr",
     "output_type": "stream",
     "text": [
      "/usr/local/lib/python3.4/dist-packages/sklearn/feature_selection/univariate_selection.py:113: UserWarning: Features [    13     90     99 ..., 572731 572732 572735] are constant.\n",
      "  UserWarning)\n"
     ]
    },
    {
     "name": "stdout",
     "output_type": "stream",
     "text": [
      "split: 56\n"
     ]
    },
    {
     "name": "stderr",
     "output_type": "stream",
     "text": [
      "/usr/local/lib/python3.4/dist-packages/sklearn/feature_selection/univariate_selection.py:113: UserWarning: Features [    13     90     99 ..., 572720 572721 572722] are constant.\n",
      "  UserWarning)\n"
     ]
    },
    {
     "name": "stdout",
     "output_type": "stream",
     "text": [
      "split: 57\n"
     ]
    },
    {
     "name": "stderr",
     "output_type": "stream",
     "text": [
      "/usr/local/lib/python3.4/dist-packages/sklearn/feature_selection/univariate_selection.py:113: UserWarning: Features [    13     99    282 ..., 572712 572713 572714] are constant.\n",
      "  UserWarning)\n"
     ]
    },
    {
     "name": "stdout",
     "output_type": "stream",
     "text": [
      "split: 58\n"
     ]
    },
    {
     "name": "stderr",
     "output_type": "stream",
     "text": [
      "/usr/local/lib/python3.4/dist-packages/sklearn/feature_selection/univariate_selection.py:113: UserWarning: Features [    13     99    282 ..., 572728 572729 572730] are constant.\n",
      "  UserWarning)\n"
     ]
    },
    {
     "name": "stdout",
     "output_type": "stream",
     "text": [
      "split: 59\n",
      "split: 60\n"
     ]
    },
    {
     "name": "stderr",
     "output_type": "stream",
     "text": [
      "/usr/local/lib/python3.4/dist-packages/sklearn/feature_selection/univariate_selection.py:113: UserWarning: Features [    13     90     99 ..., 572733 572736 572737] are constant.\n",
      "  UserWarning)\n"
     ]
    },
    {
     "name": "stdout",
     "output_type": "stream",
     "text": [
      "split: 61\n"
     ]
    },
    {
     "name": "stderr",
     "output_type": "stream",
     "text": [
      "/usr/local/lib/python3.4/dist-packages/sklearn/feature_selection/univariate_selection.py:113: UserWarning: Features [    13     99    149 ..., 572728 572729 572730] are constant.\n",
      "  UserWarning)\n"
     ]
    },
    {
     "name": "stdout",
     "output_type": "stream",
     "text": [
      "split: 62\n",
      "split: 63\n",
      "split: 64\n",
      "split: 65\n"
     ]
    },
    {
     "name": "stderr",
     "output_type": "stream",
     "text": [
      "/usr/local/lib/python3.4/dist-packages/sklearn/feature_selection/univariate_selection.py:113: UserWarning: Features [    13     99    386 ..., 572407 572421 572704] are constant.\n",
      "  UserWarning)\n"
     ]
    },
    {
     "name": "stdout",
     "output_type": "stream",
     "text": [
      "split: 66\n"
     ]
    },
    {
     "name": "stderr",
     "output_type": "stream",
     "text": [
      "/usr/local/lib/python3.4/dist-packages/sklearn/feature_selection/univariate_selection.py:113: UserWarning: Features [    13     99    288 ..., 572728 572729 572730] are constant.\n",
      "  UserWarning)\n"
     ]
    },
    {
     "name": "stdout",
     "output_type": "stream",
     "text": [
      "split: 67\n"
     ]
    },
    {
     "name": "stderr",
     "output_type": "stream",
     "text": [
      "/usr/local/lib/python3.4/dist-packages/sklearn/feature_selection/univariate_selection.py:113: UserWarning: Features [    13     99    177 ..., 572735 572736 572737] are constant.\n",
      "  UserWarning)\n"
     ]
    },
    {
     "name": "stdout",
     "output_type": "stream",
     "text": [
      "split: 68\n"
     ]
    },
    {
     "name": "stderr",
     "output_type": "stream",
     "text": [
      "/usr/local/lib/python3.4/dist-packages/sklearn/feature_selection/univariate_selection.py:113: UserWarning: Features [    13     99    282 ..., 572621 572634 572685] are constant.\n",
      "  UserWarning)\n"
     ]
    },
    {
     "name": "stdout",
     "output_type": "stream",
     "text": [
      "split: 69\n",
      "split: 70\n"
     ]
    },
    {
     "name": "stderr",
     "output_type": "stream",
     "text": [
      "/usr/local/lib/python3.4/dist-packages/sklearn/feature_selection/univariate_selection.py:113: UserWarning: Features [    13     99    204 ..., 572728 572729 572730] are constant.\n",
      "  UserWarning)\n"
     ]
    },
    {
     "name": "stdout",
     "output_type": "stream",
     "text": [
      "split: 71\n"
     ]
    },
    {
     "name": "stderr",
     "output_type": "stream",
     "text": [
      "/usr/local/lib/python3.4/dist-packages/sklearn/feature_selection/univariate_selection.py:113: UserWarning: Features [    13     99    149 ..., 572596 572685 572704] are constant.\n",
      "  UserWarning)\n"
     ]
    },
    {
     "name": "stdout",
     "output_type": "stream",
     "text": [
      "split: 72\n",
      "split: 73\n"
     ]
    },
    {
     "name": "stderr",
     "output_type": "stream",
     "text": [
      "/usr/local/lib/python3.4/dist-packages/sklearn/feature_selection/univariate_selection.py:113: UserWarning: Features [    13     99    324 ..., 572712 572713 572714] are constant.\n",
      "  UserWarning)\n"
     ]
    },
    {
     "name": "stdout",
     "output_type": "stream",
     "text": [
      "split: 74\n",
      "split: 75\n"
     ]
    },
    {
     "name": "stderr",
     "output_type": "stream",
     "text": [
      "/usr/local/lib/python3.4/dist-packages/sklearn/feature_selection/univariate_selection.py:113: UserWarning: Features [    13     99    305 ..., 572733 572736 572737] are constant.\n",
      "  UserWarning)\n"
     ]
    },
    {
     "name": "stdout",
     "output_type": "stream",
     "text": [
      "split: 76\n"
     ]
    },
    {
     "name": "stderr",
     "output_type": "stream",
     "text": [
      "/usr/local/lib/python3.4/dist-packages/sklearn/feature_selection/univariate_selection.py:113: UserWarning: Features [    13     99    274 ..., 572733 572736 572737] are constant.\n",
      "  UserWarning)\n"
     ]
    },
    {
     "name": "stdout",
     "output_type": "stream",
     "text": [
      "split: 77\n",
      "split: 78\n",
      "split: 79\n",
      "split: 80\n"
     ]
    },
    {
     "name": "stderr",
     "output_type": "stream",
     "text": [
      "/usr/local/lib/python3.4/dist-packages/sklearn/feature_selection/univariate_selection.py:113: UserWarning: Features [    13     99    388 ..., 572677 572708 572709] are constant.\n",
      "  UserWarning)\n"
     ]
    },
    {
     "name": "stdout",
     "output_type": "stream",
     "text": [
      "split: 81\n"
     ]
    },
    {
     "name": "stderr",
     "output_type": "stream",
     "text": [
      "/usr/local/lib/python3.4/dist-packages/sklearn/feature_selection/univariate_selection.py:113: UserWarning: Features [    13     99    274 ..., 572728 572729 572730] are constant.\n",
      "  UserWarning)\n"
     ]
    },
    {
     "name": "stdout",
     "output_type": "stream",
     "text": [
      "split: 82\n",
      "split: 83\n",
      "split: 84\n"
     ]
    },
    {
     "name": "stderr",
     "output_type": "stream",
     "text": [
      "/usr/local/lib/python3.4/dist-packages/sklearn/feature_selection/univariate_selection.py:113: UserWarning: Features [    13     99    288 ..., 572685 572708 572709] are constant.\n",
      "  UserWarning)\n"
     ]
    },
    {
     "name": "stdout",
     "output_type": "stream",
     "text": [
      "split: 85\n"
     ]
    },
    {
     "name": "stderr",
     "output_type": "stream",
     "text": [
      "/usr/local/lib/python3.4/dist-packages/sklearn/feature_selection/univariate_selection.py:113: UserWarning: Features [    13     80     85 ..., 572662 572677 572685] are constant.\n",
      "  UserWarning)\n"
     ]
    },
    {
     "name": "stdout",
     "output_type": "stream",
     "text": [
      "split: 86\n",
      "split: 87\n",
      "split: 88\n"
     ]
    },
    {
     "name": "stderr",
     "output_type": "stream",
     "text": [
      "/usr/local/lib/python3.4/dist-packages/sklearn/feature_selection/univariate_selection.py:113: UserWarning: Features [    13     99    178 ..., 572720 572721 572722] are constant.\n",
      "  UserWarning)\n"
     ]
    },
    {
     "name": "stdout",
     "output_type": "stream",
     "text": [
      "split: 89\n",
      "split: 90\n",
      "split: 91\n"
     ]
    },
    {
     "name": "stderr",
     "output_type": "stream",
     "text": [
      "/usr/local/lib/python3.4/dist-packages/sklearn/feature_selection/univariate_selection.py:113: UserWarning: Features [    13     99    282 ..., 572733 572736 572737] are constant.\n",
      "  UserWarning)\n"
     ]
    },
    {
     "name": "stdout",
     "output_type": "stream",
     "text": [
      "split: 92\n"
     ]
    },
    {
     "name": "stderr",
     "output_type": "stream",
     "text": [
      "/usr/local/lib/python3.4/dist-packages/sklearn/feature_selection/univariate_selection.py:113: UserWarning: Features [    13     99    204 ..., 572720 572721 572722] are constant.\n",
      "  UserWarning)\n"
     ]
    },
    {
     "name": "stdout",
     "output_type": "stream",
     "text": [
      "split: 93\n",
      "split: 94\n",
      "split: 95\n"
     ]
    },
    {
     "name": "stderr",
     "output_type": "stream",
     "text": [
      "/usr/local/lib/python3.4/dist-packages/sklearn/feature_selection/univariate_selection.py:113: UserWarning: Features [     4     13     90 ..., 572712 572713 572714] are constant.\n",
      "  UserWarning)\n"
     ]
    },
    {
     "name": "stdout",
     "output_type": "stream",
     "text": [
      "split: 96\n"
     ]
    },
    {
     "name": "stderr",
     "output_type": "stream",
     "text": [
      "/usr/local/lib/python3.4/dist-packages/sklearn/feature_selection/univariate_selection.py:113: UserWarning: Features [    13     90     99 ..., 572621 572634 572685] are constant.\n",
      "  UserWarning)\n"
     ]
    },
    {
     "name": "stdout",
     "output_type": "stream",
     "text": [
      "split: 97\n",
      "split: 98\n"
     ]
    },
    {
     "name": "stderr",
     "output_type": "stream",
     "text": [
      "/usr/local/lib/python3.4/dist-packages/sklearn/feature_selection/univariate_selection.py:113: UserWarning: Features [    13     80     85 ..., 572702 572703 572704] are constant.\n",
      "  UserWarning)\n"
     ]
    },
    {
     "name": "stdout",
     "output_type": "stream",
     "text": [
      "split: 99\n",
      "split: 100\n",
      "ACCURACY_mean: 0.6492\n",
      "PRECISION_mean: 0.588114413364\n",
      "RECALL_mean: 0.482\n",
      "SPECIFICITY_mean: 0.760666666667\n",
      "F_mean: 0.518813094333\n",
      "AUC_mean: 0.6444\n",
      "ACCURACY1_mean: 0.676580180612\n",
      "PRECISION1_mean: 0.610827561328\n",
      "RECALL1_mean: 0.652095238095\n",
      "SPECIFICITY1_mean: 0.698110805861\n",
      "F1_mean: 0.616966726084\n",
      "AUC1_mean: 0.748474879386\n",
      "ACCURACY_std: 0.0750157316834\n",
      "PRECISION_std: 0.13121436757\n",
      "RECALL_std: 0.126791166885\n",
      "SPECIFICITY_std: 0.107948547414\n",
      "F_std: 0.109762672717\n",
      "AUC_std: 0.0891950172998\n",
      "ACCURACY1_std: 0.111936731312\n",
      "PRECISION1_std: 0.160554094911\n",
      "RECALL1_std: 0.183313010624\n",
      "SPECIFICITY1_std: 0.140544551873\n",
      "F1_std: 0.143194292156\n",
      "AUC1_std: 0.129146906146\n"
     ]
    },
    {
     "data": {
      "text/plain": [
       "0"
      ]
     },
     "execution_count": 28,
     "metadata": {},
     "output_type": "execute_result"
    }
   ],
   "source": [
    "splits = 100\n",
    "folds= 3\n",
    "linspace = np.linspace(10e-3, 10e3, num=20)\n",
    "percentage = 1\n",
    "F, AUC, PRECISION, RECALL, SPECIFICITY, ACCURACY, Fs, AUCs, PRECISIONs, RECALLs, SPECIFICITYs, ACCURACYs, F1, AUC1, PRECISION1, RECALL1, SPECIFICITY1, ACCURACY1, F1s, AUC1s, PRECISION1s, RECALL1s, SPECIFICITY1s, ACCURACY1s = nested_CV_F_measure(X, y, splits, folds, linspace, dt, percentage, zeros)\n",
    "os.system('espeak \"la ejecución ha terminadoooooooooooooooooooooooooo\"')"
   ]
  },
  {
   "cell_type": "code",
   "execution_count": 6,
   "metadata": {},
   "outputs": [
    {
     "name": "stdout",
     "output_type": "stream",
     "text": [
      "percentage: 0.001\n",
      "split: 1\n"
     ]
    },
    {
     "name": "stderr",
     "output_type": "stream",
     "text": [
      "/usr/local/lib/python3.4/dist-packages/sklearn/feature_selection/univariate_selection.py:113: UserWarning: Features [    13     99    178 ..., 572733 572736 572737] are constant.\n",
      "  UserWarning)\n",
      "/usr/local/lib/python3.4/dist-packages/sklearn/feature_selection/univariate_selection.py:114: RuntimeWarning: invalid value encountered in true_divide\n",
      "  f = msb / msw\n"
     ]
    },
    {
     "name": "stdout",
     "output_type": "stream",
     "text": [
      "split: 2\n"
     ]
    },
    {
     "name": "stderr",
     "output_type": "stream",
     "text": [
      "/usr/local/lib/python3.4/dist-packages/sklearn/feature_selection/univariate_selection.py:113: UserWarning: Features [    13     80     85 ..., 572720 572721 572722] are constant.\n",
      "  UserWarning)\n",
      "/usr/local/lib/python3.4/dist-packages/sklearn/metrics/classification.py:1135: UndefinedMetricWarning: F-score is ill-defined and being set to 0.0 due to no predicted samples.\n",
      "  'precision', 'predicted', average, warn_for)\n",
      "/usr/local/lib/python3.4/dist-packages/sklearn/metrics/classification.py:1135: UndefinedMetricWarning: Precision is ill-defined and being set to 0.0 due to no predicted samples.\n",
      "  'precision', 'predicted', average, warn_for)\n"
     ]
    },
    {
     "name": "stdout",
     "output_type": "stream",
     "text": [
      "split: 3\n"
     ]
    },
    {
     "name": "stderr",
     "output_type": "stream",
     "text": [
      "/usr/local/lib/python3.4/dist-packages/sklearn/feature_selection/univariate_selection.py:113: UserWarning: Features [    13     90     99 ..., 572712 572713 572714] are constant.\n",
      "  UserWarning)\n"
     ]
    },
    {
     "name": "stdout",
     "output_type": "stream",
     "text": [
      "split: 4\n"
     ]
    },
    {
     "name": "stderr",
     "output_type": "stream",
     "text": [
      "/usr/local/lib/python3.4/dist-packages/sklearn/feature_selection/univariate_selection.py:113: UserWarning: Features [    13     99    288 ..., 572733 572736 572737] are constant.\n",
      "  UserWarning)\n"
     ]
    },
    {
     "name": "stdout",
     "output_type": "stream",
     "text": [
      "split: 5\n"
     ]
    },
    {
     "name": "stderr",
     "output_type": "stream",
     "text": [
      "/usr/local/lib/python3.4/dist-packages/sklearn/feature_selection/univariate_selection.py:113: UserWarning: Features [    13     99    305 ..., 572720 572721 572722] are constant.\n",
      "  UserWarning)\n"
     ]
    },
    {
     "name": "stdout",
     "output_type": "stream",
     "text": [
      "split: 6\n"
     ]
    },
    {
     "name": "stderr",
     "output_type": "stream",
     "text": [
      "/usr/local/lib/python3.4/dist-packages/sklearn/feature_selection/univariate_selection.py:113: UserWarning: Features [    13     99    149 ..., 572712 572713 572714] are constant.\n",
      "  UserWarning)\n"
     ]
    },
    {
     "name": "stdout",
     "output_type": "stream",
     "text": [
      "split: 7\n"
     ]
    },
    {
     "name": "stderr",
     "output_type": "stream",
     "text": [
      "/usr/local/lib/python3.4/dist-packages/sklearn/feature_selection/univariate_selection.py:113: UserWarning: Features [    13     80     85 ..., 572712 572713 572714] are constant.\n",
      "  UserWarning)\n"
     ]
    },
    {
     "name": "stdout",
     "output_type": "stream",
     "text": [
      "split: 8\n"
     ]
    },
    {
     "name": "stderr",
     "output_type": "stream",
     "text": [
      "/usr/local/lib/python3.4/dist-packages/sklearn/feature_selection/univariate_selection.py:113: UserWarning: Features [    13     99    177 ..., 572731 572732 572735] are constant.\n",
      "  UserWarning)\n"
     ]
    },
    {
     "name": "stdout",
     "output_type": "stream",
     "text": [
      "split: 9\n"
     ]
    },
    {
     "name": "stderr",
     "output_type": "stream",
     "text": [
      "/usr/local/lib/python3.4/dist-packages/sklearn/feature_selection/univariate_selection.py:113: UserWarning: Features [     4     13     90 ..., 572728 572729 572730] are constant.\n",
      "  UserWarning)\n"
     ]
    },
    {
     "name": "stdout",
     "output_type": "stream",
     "text": [
      "split: 10\n"
     ]
    },
    {
     "name": "stderr",
     "output_type": "stream",
     "text": [
      "/usr/local/lib/python3.4/dist-packages/sklearn/feature_selection/univariate_selection.py:113: UserWarning: Features [    13     99    324 ..., 572728 572729 572730] are constant.\n",
      "  UserWarning)\n"
     ]
    },
    {
     "name": "stdout",
     "output_type": "stream",
     "text": [
      "split: 11\n"
     ]
    },
    {
     "name": "stderr",
     "output_type": "stream",
     "text": [
      "/usr/local/lib/python3.4/dist-packages/sklearn/feature_selection/univariate_selection.py:113: UserWarning: Features [    13     80     85 ..., 572728 572729 572730] are constant.\n",
      "  UserWarning)\n"
     ]
    },
    {
     "name": "stdout",
     "output_type": "stream",
     "text": [
      "split: 12\n"
     ]
    },
    {
     "name": "stderr",
     "output_type": "stream",
     "text": [
      "/usr/local/lib/python3.4/dist-packages/sklearn/feature_selection/univariate_selection.py:113: UserWarning: Features [    13     80     85 ..., 572733 572736 572737] are constant.\n",
      "  UserWarning)\n"
     ]
    },
    {
     "name": "stdout",
     "output_type": "stream",
     "text": [
      "split: 13\n"
     ]
    },
    {
     "name": "stderr",
     "output_type": "stream",
     "text": [
      "/usr/local/lib/python3.4/dist-packages/sklearn/feature_selection/univariate_selection.py:113: UserWarning: Features [    13     99    324 ..., 572692 572702 572703] are constant.\n",
      "  UserWarning)\n"
     ]
    },
    {
     "name": "stdout",
     "output_type": "stream",
     "text": [
      "split: 14\n"
     ]
    },
    {
     "name": "stderr",
     "output_type": "stream",
     "text": [
      "/usr/local/lib/python3.4/dist-packages/sklearn/feature_selection/univariate_selection.py:113: UserWarning: Features [    13     99    204 ..., 572733 572736 572737] are constant.\n",
      "  UserWarning)\n"
     ]
    },
    {
     "name": "stdout",
     "output_type": "stream",
     "text": [
      "split: 15\n"
     ]
    },
    {
     "name": "stderr",
     "output_type": "stream",
     "text": [
      "/usr/local/lib/python3.4/dist-packages/sklearn/feature_selection/univariate_selection.py:113: UserWarning: Features [    13     99    274 ..., 572554 572621 572634] are constant.\n",
      "  UserWarning)\n"
     ]
    },
    {
     "name": "stdout",
     "output_type": "stream",
     "text": [
      "split: 16\n"
     ]
    },
    {
     "name": "stderr",
     "output_type": "stream",
     "text": [
      "/usr/local/lib/python3.4/dist-packages/sklearn/feature_selection/univariate_selection.py:113: UserWarning: Features [    13     99    178 ..., 572712 572713 572714] are constant.\n",
      "  UserWarning)\n"
     ]
    },
    {
     "name": "stdout",
     "output_type": "stream",
     "text": [
      "split: 17\n"
     ]
    },
    {
     "name": "stderr",
     "output_type": "stream",
     "text": [
      "/usr/local/lib/python3.4/dist-packages/sklearn/feature_selection/univariate_selection.py:113: UserWarning: Features [    13     99    288 ..., 572720 572721 572722] are constant.\n",
      "  UserWarning)\n"
     ]
    },
    {
     "name": "stdout",
     "output_type": "stream",
     "text": [
      "split: 18\n"
     ]
    },
    {
     "name": "stderr",
     "output_type": "stream",
     "text": [
      "/usr/local/lib/python3.4/dist-packages/sklearn/feature_selection/univariate_selection.py:113: UserWarning: Features [    13     99    204 ..., 572704 572708 572709] are constant.\n",
      "  UserWarning)\n"
     ]
    },
    {
     "name": "stdout",
     "output_type": "stream",
     "text": [
      "split: 19\n"
     ]
    },
    {
     "name": "stderr",
     "output_type": "stream",
     "text": [
      "/usr/local/lib/python3.4/dist-packages/sklearn/feature_selection/univariate_selection.py:113: UserWarning: Features [    13     99    178 ..., 572605 572621 572634] are constant.\n",
      "  UserWarning)\n"
     ]
    },
    {
     "name": "stdout",
     "output_type": "stream",
     "text": [
      "split: 20\n"
     ]
    },
    {
     "name": "stderr",
     "output_type": "stream",
     "text": [
      "/usr/local/lib/python3.4/dist-packages/sklearn/feature_selection/univariate_selection.py:113: UserWarning: Features [    13     80     85 ..., 572731 572732 572735] are constant.\n",
      "  UserWarning)\n"
     ]
    },
    {
     "name": "stdout",
     "output_type": "stream",
     "text": [
      "split: 21\n"
     ]
    },
    {
     "name": "stderr",
     "output_type": "stream",
     "text": [
      "/usr/local/lib/python3.4/dist-packages/sklearn/feature_selection/univariate_selection.py:113: UserWarning: Features [    13     99    204 ..., 572712 572713 572714] are constant.\n",
      "  UserWarning)\n"
     ]
    },
    {
     "name": "stdout",
     "output_type": "stream",
     "text": [
      "split: 22\n"
     ]
    },
    {
     "name": "stderr",
     "output_type": "stream",
     "text": [
      "/usr/local/lib/python3.4/dist-packages/sklearn/feature_selection/univariate_selection.py:113: UserWarning: Features [    13     99    324 ..., 572595 572596 572685] are constant.\n",
      "  UserWarning)\n"
     ]
    },
    {
     "name": "stdout",
     "output_type": "stream",
     "text": [
      "split: 23\n"
     ]
    },
    {
     "name": "stderr",
     "output_type": "stream",
     "text": [
      "/usr/local/lib/python3.4/dist-packages/sklearn/feature_selection/univariate_selection.py:113: UserWarning: Features [    13     99    178 ..., 572704 572708 572709] are constant.\n",
      "  UserWarning)\n"
     ]
    },
    {
     "name": "stdout",
     "output_type": "stream",
     "text": [
      "split: 24\n"
     ]
    },
    {
     "name": "stderr",
     "output_type": "stream",
     "text": [
      "/usr/local/lib/python3.4/dist-packages/sklearn/feature_selection/univariate_selection.py:113: UserWarning: Features [     4     13     90 ..., 572731 572732 572735] are constant.\n",
      "  UserWarning)\n"
     ]
    },
    {
     "name": "stdout",
     "output_type": "stream",
     "text": [
      "split: 25\n"
     ]
    },
    {
     "name": "stderr",
     "output_type": "stream",
     "text": [
      "/usr/local/lib/python3.4/dist-packages/sklearn/feature_selection/univariate_selection.py:113: UserWarning: Features [    13     99    288 ..., 572692 572702 572703] are constant.\n",
      "  UserWarning)\n"
     ]
    },
    {
     "name": "stdout",
     "output_type": "stream",
     "text": [
      "split: 26\n"
     ]
    },
    {
     "name": "stderr",
     "output_type": "stream",
     "text": [
      "/usr/local/lib/python3.4/dist-packages/sklearn/feature_selection/univariate_selection.py:113: UserWarning: Features [    13     99    264 ..., 572703 572708 572709] are constant.\n",
      "  UserWarning)\n"
     ]
    },
    {
     "name": "stdout",
     "output_type": "stream",
     "text": [
      "split: 27\n"
     ]
    },
    {
     "name": "stderr",
     "output_type": "stream",
     "text": [
      "/usr/local/lib/python3.4/dist-packages/sklearn/feature_selection/univariate_selection.py:113: UserWarning: Features [    13     99    149 ..., 572472 572684 572704] are constant.\n",
      "  UserWarning)\n"
     ]
    },
    {
     "name": "stdout",
     "output_type": "stream",
     "text": [
      "split: 28\n"
     ]
    },
    {
     "name": "stderr",
     "output_type": "stream",
     "text": [
      "/usr/local/lib/python3.4/dist-packages/sklearn/feature_selection/univariate_selection.py:113: UserWarning: Features [    13     99    274 ..., 572720 572721 572722] are constant.\n",
      "  UserWarning)\n"
     ]
    },
    {
     "name": "stdout",
     "output_type": "stream",
     "text": [
      "split: 29\n"
     ]
    },
    {
     "name": "stderr",
     "output_type": "stream",
     "text": [
      "/usr/local/lib/python3.4/dist-packages/sklearn/feature_selection/univariate_selection.py:113: UserWarning: Features [    13     99    149 ..., 572553 572576 572685] are constant.\n",
      "  UserWarning)\n"
     ]
    },
    {
     "name": "stdout",
     "output_type": "stream",
     "text": [
      "split: 30\n"
     ]
    },
    {
     "name": "stderr",
     "output_type": "stream",
     "text": [
      "/usr/local/lib/python3.4/dist-packages/sklearn/feature_selection/univariate_selection.py:113: UserWarning: Features [    13     99    149 ..., 572733 572736 572737] are constant.\n",
      "  UserWarning)\n"
     ]
    },
    {
     "name": "stdout",
     "output_type": "stream",
     "text": [
      "split: 31\n"
     ]
    },
    {
     "name": "stderr",
     "output_type": "stream",
     "text": [
      "/usr/local/lib/python3.4/dist-packages/sklearn/feature_selection/univariate_selection.py:113: UserWarning: Features [    13     99    149 ..., 572735 572736 572737] are constant.\n",
      "  UserWarning)\n"
     ]
    },
    {
     "name": "stdout",
     "output_type": "stream",
     "text": [
      "split: 32\n"
     ]
    },
    {
     "name": "stderr",
     "output_type": "stream",
     "text": [
      "/usr/local/lib/python3.4/dist-packages/sklearn/feature_selection/univariate_selection.py:113: UserWarning: Features [    13     99    282 ..., 572720 572721 572722] are constant.\n",
      "  UserWarning)\n"
     ]
    },
    {
     "name": "stdout",
     "output_type": "stream",
     "text": [
      "split: 33\n"
     ]
    },
    {
     "name": "stderr",
     "output_type": "stream",
     "text": [
      "/usr/local/lib/python3.4/dist-packages/sklearn/feature_selection/univariate_selection.py:113: UserWarning: Features [    13     99    388 ..., 572728 572729 572730] are constant.\n",
      "  UserWarning)\n"
     ]
    },
    {
     "name": "stdout",
     "output_type": "stream",
     "text": [
      "split: 34\n"
     ]
    },
    {
     "name": "stderr",
     "output_type": "stream",
     "text": [
      "/usr/local/lib/python3.4/dist-packages/sklearn/feature_selection/univariate_selection.py:113: UserWarning: Features [    13     99    149 ..., 572461 572604 572605] are constant.\n",
      "  UserWarning)\n"
     ]
    },
    {
     "name": "stdout",
     "output_type": "stream",
     "text": [
      "split: 35\n",
      "split: 36\n"
     ]
    },
    {
     "name": "stderr",
     "output_type": "stream",
     "text": [
      "/usr/local/lib/python3.4/dist-packages/sklearn/feature_selection/univariate_selection.py:113: UserWarning: Features [    13     80     85 ..., 572605 572685 572704] are constant.\n",
      "  UserWarning)\n"
     ]
    },
    {
     "name": "stdout",
     "output_type": "stream",
     "text": [
      "split: 37\n",
      "split: 38\n"
     ]
    },
    {
     "name": "stderr",
     "output_type": "stream",
     "text": [
      "/usr/local/lib/python3.4/dist-packages/sklearn/feature_selection/univariate_selection.py:113: UserWarning: Features [    13     99    324 ..., 572509 572510 572528] are constant.\n",
      "  UserWarning)\n"
     ]
    },
    {
     "name": "stdout",
     "output_type": "stream",
     "text": [
      "split: 39\n"
     ]
    },
    {
     "name": "stderr",
     "output_type": "stream",
     "text": [
      "/usr/local/lib/python3.4/dist-packages/sklearn/feature_selection/univariate_selection.py:113: UserWarning: Features [    13     99    388 ..., 572733 572736 572737] are constant.\n",
      "  UserWarning)\n"
     ]
    },
    {
     "name": "stdout",
     "output_type": "stream",
     "text": [
      "split: 40\n"
     ]
    },
    {
     "name": "stderr",
     "output_type": "stream",
     "text": [
      "/usr/local/lib/python3.4/dist-packages/sklearn/feature_selection/univariate_selection.py:113: UserWarning: Features [    13     80     85 ..., 572596 572708 572709] are constant.\n",
      "  UserWarning)\n"
     ]
    },
    {
     "name": "stdout",
     "output_type": "stream",
     "text": [
      "split: 41\n"
     ]
    },
    {
     "name": "stderr",
     "output_type": "stream",
     "text": [
      "/usr/local/lib/python3.4/dist-packages/sklearn/feature_selection/univariate_selection.py:113: UserWarning: Features [    13     99    388 ..., 572685 572708 572709] are constant.\n",
      "  UserWarning)\n"
     ]
    },
    {
     "name": "stdout",
     "output_type": "stream",
     "text": [
      "split: 42\n",
      "split: 43\n"
     ]
    },
    {
     "name": "stderr",
     "output_type": "stream",
     "text": [
      "/usr/local/lib/python3.4/dist-packages/sklearn/feature_selection/univariate_selection.py:113: UserWarning: Features [    13     90     99 ..., 572685 572708 572709] are constant.\n",
      "  UserWarning)\n"
     ]
    },
    {
     "name": "stdout",
     "output_type": "stream",
     "text": [
      "split: 44\n"
     ]
    },
    {
     "name": "stderr",
     "output_type": "stream",
     "text": [
      "/usr/local/lib/python3.4/dist-packages/sklearn/feature_selection/univariate_selection.py:113: UserWarning: Features [    13     99    282 ..., 572594 572595 572596] are constant.\n",
      "  UserWarning)\n"
     ]
    },
    {
     "name": "stdout",
     "output_type": "stream",
     "text": [
      "split: 45\n",
      "split: 46\n",
      "split: 47\n",
      "split: 48\n",
      "split: 49\n"
     ]
    },
    {
     "name": "stderr",
     "output_type": "stream",
     "text": [
      "/usr/local/lib/python3.4/dist-packages/sklearn/feature_selection/univariate_selection.py:113: UserWarning: Features [    13     99    324 ..., 572596 572670 572685] are constant.\n",
      "  UserWarning)\n"
     ]
    },
    {
     "name": "stdout",
     "output_type": "stream",
     "text": [
      "split: 50\n",
      "split: 51\n"
     ]
    },
    {
     "name": "stderr",
     "output_type": "stream",
     "text": [
      "/usr/local/lib/python3.4/dist-packages/sklearn/feature_selection/univariate_selection.py:113: UserWarning: Features [    13     99    175 ..., 572731 572732 572735] are constant.\n",
      "  UserWarning)\n"
     ]
    },
    {
     "name": "stdout",
     "output_type": "stream",
     "text": [
      "split: 52\n"
     ]
    },
    {
     "name": "stderr",
     "output_type": "stream",
     "text": [
      "/usr/local/lib/python3.4/dist-packages/sklearn/feature_selection/univariate_selection.py:113: UserWarning: Features [    13     80     85 ..., 572692 572702 572703] are constant.\n",
      "  UserWarning)\n"
     ]
    },
    {
     "name": "stdout",
     "output_type": "stream",
     "text": [
      "split: 53\n",
      "split: 54\n"
     ]
    },
    {
     "name": "stderr",
     "output_type": "stream",
     "text": [
      "/usr/local/lib/python3.4/dist-packages/sklearn/feature_selection/univariate_selection.py:113: UserWarning: Features [    13     99    324 ..., 572621 572634 572685] are constant.\n",
      "  UserWarning)\n"
     ]
    },
    {
     "name": "stdout",
     "output_type": "stream",
     "text": [
      "split: 55\n"
     ]
    },
    {
     "name": "stderr",
     "output_type": "stream",
     "text": [
      "/usr/local/lib/python3.4/dist-packages/sklearn/feature_selection/univariate_selection.py:113: UserWarning: Features [    13     90     99 ..., 572731 572732 572735] are constant.\n",
      "  UserWarning)\n"
     ]
    },
    {
     "name": "stdout",
     "output_type": "stream",
     "text": [
      "split: 56\n"
     ]
    },
    {
     "name": "stderr",
     "output_type": "stream",
     "text": [
      "/usr/local/lib/python3.4/dist-packages/sklearn/feature_selection/univariate_selection.py:113: UserWarning: Features [    13     90     99 ..., 572720 572721 572722] are constant.\n",
      "  UserWarning)\n"
     ]
    },
    {
     "name": "stdout",
     "output_type": "stream",
     "text": [
      "split: 57\n"
     ]
    },
    {
     "name": "stderr",
     "output_type": "stream",
     "text": [
      "/usr/local/lib/python3.4/dist-packages/sklearn/feature_selection/univariate_selection.py:113: UserWarning: Features [    13     99    282 ..., 572712 572713 572714] are constant.\n",
      "  UserWarning)\n"
     ]
    },
    {
     "name": "stdout",
     "output_type": "stream",
     "text": [
      "split: 58\n"
     ]
    },
    {
     "name": "stderr",
     "output_type": "stream",
     "text": [
      "/usr/local/lib/python3.4/dist-packages/sklearn/feature_selection/univariate_selection.py:113: UserWarning: Features [    13     99    282 ..., 572728 572729 572730] are constant.\n",
      "  UserWarning)\n"
     ]
    },
    {
     "name": "stdout",
     "output_type": "stream",
     "text": [
      "split: 59\n",
      "split: 60\n"
     ]
    },
    {
     "name": "stderr",
     "output_type": "stream",
     "text": [
      "/usr/local/lib/python3.4/dist-packages/sklearn/feature_selection/univariate_selection.py:113: UserWarning: Features [    13     90     99 ..., 572733 572736 572737] are constant.\n",
      "  UserWarning)\n"
     ]
    },
    {
     "name": "stdout",
     "output_type": "stream",
     "text": [
      "split: 61\n"
     ]
    },
    {
     "name": "stderr",
     "output_type": "stream",
     "text": [
      "/usr/local/lib/python3.4/dist-packages/sklearn/feature_selection/univariate_selection.py:113: UserWarning: Features [    13     99    149 ..., 572728 572729 572730] are constant.\n",
      "  UserWarning)\n"
     ]
    },
    {
     "name": "stdout",
     "output_type": "stream",
     "text": [
      "split: 62\n",
      "split: 63\n",
      "split: 64\n",
      "split: 65\n"
     ]
    },
    {
     "name": "stderr",
     "output_type": "stream",
     "text": [
      "/usr/local/lib/python3.4/dist-packages/sklearn/feature_selection/univariate_selection.py:113: UserWarning: Features [    13     99    386 ..., 572407 572421 572704] are constant.\n",
      "  UserWarning)\n"
     ]
    },
    {
     "name": "stdout",
     "output_type": "stream",
     "text": [
      "split: 66\n"
     ]
    },
    {
     "name": "stderr",
     "output_type": "stream",
     "text": [
      "/usr/local/lib/python3.4/dist-packages/sklearn/feature_selection/univariate_selection.py:113: UserWarning: Features [    13     99    288 ..., 572728 572729 572730] are constant.\n",
      "  UserWarning)\n"
     ]
    },
    {
     "name": "stdout",
     "output_type": "stream",
     "text": [
      "split: 67\n"
     ]
    },
    {
     "name": "stderr",
     "output_type": "stream",
     "text": [
      "/usr/local/lib/python3.4/dist-packages/sklearn/feature_selection/univariate_selection.py:113: UserWarning: Features [    13     99    177 ..., 572735 572736 572737] are constant.\n",
      "  UserWarning)\n"
     ]
    },
    {
     "name": "stdout",
     "output_type": "stream",
     "text": [
      "split: 68\n"
     ]
    },
    {
     "name": "stderr",
     "output_type": "stream",
     "text": [
      "/usr/local/lib/python3.4/dist-packages/sklearn/feature_selection/univariate_selection.py:113: UserWarning: Features [    13     99    282 ..., 572621 572634 572685] are constant.\n",
      "  UserWarning)\n"
     ]
    },
    {
     "name": "stdout",
     "output_type": "stream",
     "text": [
      "split: 69\n",
      "split: 70\n"
     ]
    },
    {
     "name": "stderr",
     "output_type": "stream",
     "text": [
      "/usr/local/lib/python3.4/dist-packages/sklearn/feature_selection/univariate_selection.py:113: UserWarning: Features [    13     99    204 ..., 572728 572729 572730] are constant.\n",
      "  UserWarning)\n"
     ]
    },
    {
     "name": "stdout",
     "output_type": "stream",
     "text": [
      "split: 71\n"
     ]
    },
    {
     "name": "stderr",
     "output_type": "stream",
     "text": [
      "/usr/local/lib/python3.4/dist-packages/sklearn/feature_selection/univariate_selection.py:113: UserWarning: Features [    13     99    149 ..., 572596 572685 572704] are constant.\n",
      "  UserWarning)\n"
     ]
    },
    {
     "name": "stdout",
     "output_type": "stream",
     "text": [
      "split: 72\n",
      "split: 73\n"
     ]
    },
    {
     "name": "stderr",
     "output_type": "stream",
     "text": [
      "/usr/local/lib/python3.4/dist-packages/sklearn/feature_selection/univariate_selection.py:113: UserWarning: Features [    13     99    324 ..., 572712 572713 572714] are constant.\n",
      "  UserWarning)\n"
     ]
    },
    {
     "name": "stdout",
     "output_type": "stream",
     "text": [
      "split: 74\n",
      "split: 75\n"
     ]
    },
    {
     "name": "stderr",
     "output_type": "stream",
     "text": [
      "/usr/local/lib/python3.4/dist-packages/sklearn/feature_selection/univariate_selection.py:113: UserWarning: Features [    13     99    305 ..., 572733 572736 572737] are constant.\n",
      "  UserWarning)\n"
     ]
    },
    {
     "name": "stdout",
     "output_type": "stream",
     "text": [
      "split: 76\n"
     ]
    },
    {
     "name": "stderr",
     "output_type": "stream",
     "text": [
      "/usr/local/lib/python3.4/dist-packages/sklearn/feature_selection/univariate_selection.py:113: UserWarning: Features [    13     99    274 ..., 572733 572736 572737] are constant.\n",
      "  UserWarning)\n"
     ]
    },
    {
     "name": "stdout",
     "output_type": "stream",
     "text": [
      "split: 77\n",
      "split: 78\n",
      "split: 79\n",
      "split: 80\n"
     ]
    },
    {
     "name": "stderr",
     "output_type": "stream",
     "text": [
      "/usr/local/lib/python3.4/dist-packages/sklearn/feature_selection/univariate_selection.py:113: UserWarning: Features [    13     99    388 ..., 572677 572708 572709] are constant.\n",
      "  UserWarning)\n"
     ]
    },
    {
     "name": "stdout",
     "output_type": "stream",
     "text": [
      "split: 81\n"
     ]
    },
    {
     "name": "stderr",
     "output_type": "stream",
     "text": [
      "/usr/local/lib/python3.4/dist-packages/sklearn/feature_selection/univariate_selection.py:113: UserWarning: Features [    13     99    274 ..., 572728 572729 572730] are constant.\n",
      "  UserWarning)\n"
     ]
    },
    {
     "name": "stdout",
     "output_type": "stream",
     "text": [
      "split: 82\n",
      "split: 83\n",
      "split: 84\n"
     ]
    },
    {
     "name": "stderr",
     "output_type": "stream",
     "text": [
      "/usr/local/lib/python3.4/dist-packages/sklearn/feature_selection/univariate_selection.py:113: UserWarning: Features [    13     99    288 ..., 572685 572708 572709] are constant.\n",
      "  UserWarning)\n"
     ]
    },
    {
     "name": "stdout",
     "output_type": "stream",
     "text": [
      "split: 85\n"
     ]
    },
    {
     "name": "stderr",
     "output_type": "stream",
     "text": [
      "/usr/local/lib/python3.4/dist-packages/sklearn/feature_selection/univariate_selection.py:113: UserWarning: Features [    13     80     85 ..., 572662 572677 572685] are constant.\n",
      "  UserWarning)\n"
     ]
    },
    {
     "name": "stdout",
     "output_type": "stream",
     "text": [
      "split: 86\n",
      "split: 87\n",
      "split: 88\n"
     ]
    },
    {
     "name": "stderr",
     "output_type": "stream",
     "text": [
      "/usr/local/lib/python3.4/dist-packages/sklearn/feature_selection/univariate_selection.py:113: UserWarning: Features [    13     99    178 ..., 572720 572721 572722] are constant.\n",
      "  UserWarning)\n"
     ]
    },
    {
     "name": "stdout",
     "output_type": "stream",
     "text": [
      "split: 89\n",
      "split: 90\n",
      "split: 91\n"
     ]
    },
    {
     "name": "stderr",
     "output_type": "stream",
     "text": [
      "/usr/local/lib/python3.4/dist-packages/sklearn/feature_selection/univariate_selection.py:113: UserWarning: Features [    13     99    282 ..., 572733 572736 572737] are constant.\n",
      "  UserWarning)\n"
     ]
    },
    {
     "name": "stdout",
     "output_type": "stream",
     "text": [
      "split: 92\n"
     ]
    },
    {
     "name": "stderr",
     "output_type": "stream",
     "text": [
      "/usr/local/lib/python3.4/dist-packages/sklearn/feature_selection/univariate_selection.py:113: UserWarning: Features [    13     99    204 ..., 572720 572721 572722] are constant.\n",
      "  UserWarning)\n"
     ]
    },
    {
     "name": "stdout",
     "output_type": "stream",
     "text": [
      "split: 93\n",
      "split: 94\n",
      "split: 95\n"
     ]
    },
    {
     "name": "stderr",
     "output_type": "stream",
     "text": [
      "/usr/local/lib/python3.4/dist-packages/sklearn/feature_selection/univariate_selection.py:113: UserWarning: Features [     4     13     90 ..., 572712 572713 572714] are constant.\n",
      "  UserWarning)\n"
     ]
    },
    {
     "name": "stdout",
     "output_type": "stream",
     "text": [
      "split: 96\n"
     ]
    },
    {
     "name": "stderr",
     "output_type": "stream",
     "text": [
      "/usr/local/lib/python3.4/dist-packages/sklearn/feature_selection/univariate_selection.py:113: UserWarning: Features [    13     90     99 ..., 572621 572634 572685] are constant.\n",
      "  UserWarning)\n"
     ]
    },
    {
     "name": "stdout",
     "output_type": "stream",
     "text": [
      "split: 97\n",
      "split: 98\n"
     ]
    },
    {
     "name": "stderr",
     "output_type": "stream",
     "text": [
      "/usr/local/lib/python3.4/dist-packages/sklearn/feature_selection/univariate_selection.py:113: UserWarning: Features [    13     80     85 ..., 572702 572703 572704] are constant.\n",
      "  UserWarning)\n"
     ]
    },
    {
     "name": "stdout",
     "output_type": "stream",
     "text": [
      "split: 99\n",
      "split: 100\n",
      "ACCURACY_mean: 0.5736\n",
      "PRECISION_mean: 0.516035627427\n",
      "RECALL_mean: 0.539\n",
      "SPECIFICITY_mean: 0.596666666667\n",
      "F_mean: 0.48265576541\n",
      "AUC_mean: 0.584133333333\n",
      "ACCURACY1_mean: 0.603660688426\n",
      "PRECISION1_mean: 0.563172046907\n",
      "RECALL1_mean: 0.637111111111\n",
      "SPECIFICITY1_mean: 0.605153790654\n",
      "F1_mean: 0.542080863495\n",
      "AUC1_mean: 0.656767483046\n",
      "ACCURACY_std: 0.0950317841567\n",
      "PRECISION_std: 0.188163563204\n",
      "RECALL_std: 0.219952267549\n",
      "SPECIFICITY_std: 0.223383079037\n",
      "F_std: 0.135925637719\n",
      "AUC_std: 0.103080464794\n",
      "ACCURACY1_std: 0.11779415551\n",
      "PRECISION1_std: 0.212967067462\n",
      "RECALL1_std: 0.264672053527\n",
      "SPECIFICITY1_std: 0.246800959815\n",
      "F1_std: 0.16677957986\n",
      "AUC1_std: 0.161118658173\n",
      "percentage: 0.0377894736842\n",
      "split: 1\n",
      "split: 2\n",
      "split: 3\n",
      "split: 4\n",
      "split: 5\n",
      "split: 6\n",
      "split: 7\n",
      "split: 8\n",
      "split: 9\n",
      "split: 10\n",
      "split: 11\n",
      "split: 12\n",
      "split: 13\n",
      "split: 14\n",
      "split: 15\n",
      "split: 16\n",
      "split: 17\n",
      "split: 18\n",
      "split: 19\n",
      "split: 20\n",
      "split: 21\n",
      "split: 22\n",
      "split: 23\n",
      "split: 24\n",
      "split: 25\n",
      "split: 26\n",
      "split: 27\n",
      "split: 28\n",
      "split: 29\n",
      "split: 30\n",
      "split: 31\n",
      "split: 32\n",
      "split: 33\n",
      "split: 34\n",
      "split: 35\n",
      "split: 36\n",
      "split: 37\n",
      "split: 38\n",
      "split: 39\n",
      "split: 40\n",
      "split: 41\n",
      "split: 42\n",
      "split: 43\n",
      "split: 44\n",
      "split: 45\n",
      "split: 46\n",
      "split: 47\n",
      "split: 48\n",
      "split: 49\n",
      "split: 50\n",
      "split: 51\n",
      "split: 52\n",
      "split: 53\n",
      "split: 54\n",
      "split: 55\n",
      "split: 56\n",
      "split: 57\n",
      "split: 58\n",
      "split: 59\n",
      "split: 60\n",
      "split: 61\n",
      "split: 62\n",
      "split: 63\n",
      "split: 64\n",
      "split: 65\n",
      "split: 66\n",
      "split: 67\n",
      "split: 68\n",
      "split: 69\n",
      "split: 70\n",
      "split: 71\n",
      "split: 72\n",
      "split: 73\n",
      "split: 74\n",
      "split: 75\n",
      "split: 76\n",
      "split: 77\n",
      "split: 78\n",
      "split: 79\n",
      "split: 80\n",
      "split: 81\n",
      "split: 82\n",
      "split: 83\n",
      "split: 84\n",
      "split: 85\n",
      "split: 86\n",
      "split: 87\n",
      "split: 88\n",
      "split: 89\n",
      "split: 90\n",
      "split: 91\n",
      "split: 92\n",
      "split: 93\n",
      "split: 94\n",
      "split: 95\n",
      "split: 96\n",
      "split: 97\n",
      "split: 98\n",
      "split: 99\n",
      "split: 100\n",
      "ACCURACY_mean: 0.67\n",
      "PRECISION_mean: 0.648052308802\n",
      "RECALL_mean: 0.47\n",
      "SPECIFICITY_mean: 0.803333333333\n",
      "F_mean: 0.523317518993\n",
      "AUC_mean: 0.645733333333\n",
      "ACCURACY1_mean: 0.699237502479\n",
      "PRECISION1_mean: 0.65587950938\n",
      "RECALL1_mean: 0.651658730159\n",
      "SPECIFICITY1_mean: 0.741891136641\n",
      "F1_mean: 0.630834051569\n",
      "AUC1_mean: 0.7565325044\n",
      "ACCURACY_std: 0.0727461339179\n",
      "PRECISION_std: 0.159769743762\n",
      "RECALL_std: 0.149331845231\n",
      "SPECIFICITY_std: 0.119768294821\n",
      "F_std: 0.119084966756\n",
      "AUC_std: 0.0988512687492\n",
      "ACCURACY1_std: 0.111314865206\n",
      "PRECISION1_std: 0.181402095891\n",
      "RECALL1_std: 0.204213222822\n",
      "SPECIFICITY1_std: 0.158094920569\n",
      "F1_std: 0.148140621301\n",
      "AUC1_std: 0.135558217183\n",
      "percentage: 0.0745789473684\n",
      "split: 1\n",
      "split: 2\n",
      "split: 3\n",
      "split: 4\n",
      "split: 5\n",
      "split: 6\n",
      "split: 7\n",
      "split: 8\n",
      "split: 9\n",
      "split: 10\n",
      "split: 11\n",
      "split: 12\n",
      "split: 13\n",
      "split: 14\n",
      "split: 15\n",
      "split: 16\n",
      "split: 17\n",
      "split: 18\n",
      "split: 19\n",
      "split: 20\n",
      "split: 21\n",
      "split: 22\n",
      "split: 23\n",
      "split: 24\n",
      "split: 25\n",
      "split: 26\n",
      "split: 27\n",
      "split: 28\n",
      "split: 29\n",
      "split: 30\n",
      "split: 31\n",
      "split: 32\n",
      "split: 33\n",
      "split: 34\n",
      "split: 35\n",
      "split: 36\n",
      "split: 37\n",
      "split: 38\n",
      "split: 39\n",
      "split: 40\n",
      "split: 41\n",
      "split: 42\n",
      "split: 43\n",
      "split: 44\n",
      "split: 45\n",
      "split: 46\n",
      "split: 47\n",
      "split: 48\n",
      "split: 49\n",
      "split: 50\n",
      "split: 51\n",
      "split: 52\n",
      "split: 53\n",
      "split: 54\n",
      "split: 55\n",
      "split: 56\n",
      "split: 57\n",
      "split: 58\n",
      "split: 59\n",
      "split: 60\n",
      "split: 61\n",
      "split: 62\n",
      "split: 63\n",
      "split: 64\n",
      "split: 65\n",
      "split: 66\n",
      "split: 67\n",
      "split: 68\n",
      "split: 69\n",
      "split: 70\n",
      "split: 71\n",
      "split: 72\n",
      "split: 73\n",
      "split: 74\n",
      "split: 75\n",
      "split: 76\n",
      "split: 77\n",
      "split: 78\n",
      "split: 79\n",
      "split: 80\n",
      "split: 81\n",
      "split: 82\n",
      "split: 83\n",
      "split: 84\n",
      "split: 85\n",
      "split: 86\n",
      "split: 87\n",
      "split: 88\n",
      "split: 89\n",
      "split: 90\n",
      "split: 91\n",
      "split: 92\n",
      "split: 93\n",
      "split: 94\n",
      "split: 95\n",
      "split: 96\n",
      "split: 97\n",
      "split: 98\n",
      "split: 99\n",
      "split: 100\n",
      "ACCURACY_mean: 0.6748\n",
      "PRECISION_mean: 0.642266955267\n",
      "RECALL_mean: 0.494\n",
      "SPECIFICITY_mean: 0.795333333333\n",
      "F_mean: 0.541764229705\n",
      "AUC_mean: 0.647666666667\n",
      "ACCURACY1_mean: 0.705632593928\n",
      "PRECISION1_mean: 0.657185425685\n",
      "RECALL1_mean: 0.685742063492\n",
      "SPECIFICITY1_mean: 0.726315989566\n",
      "F1_mean: 0.651622680295\n",
      "AUC1_mean: 0.76067533006\n",
      "ACCURACY_std: 0.0760326245766\n",
      "PRECISION_std: 0.153866679426\n",
      "RECALL_std: 0.144097189424\n",
      "SPECIFICITY_std: 0.115952097389\n",
      "F_std: 0.115544447252\n",
      "AUC_std: 0.0983254234107\n",
      "ACCURACY1_std: 0.11630851618\n",
      "PRECISION1_std: 0.172486177199\n",
      "RECALL1_std: 0.193164146322\n",
      "SPECIFICITY1_std: 0.153826572892\n",
      "F1_std: 0.147007272591\n",
      "AUC1_std: 0.129002751071\n",
      "percentage: 0.111368421053\n",
      "split: 1\n",
      "split: 2\n",
      "split: 3\n",
      "split: 4\n",
      "split: 5\n",
      "split: 6\n",
      "split: 7\n",
      "split: 8\n",
      "split: 9\n",
      "split: 10\n",
      "split: 11\n",
      "split: 12\n",
      "split: 13\n",
      "split: 14\n",
      "split: 15\n",
      "split: 16\n",
      "split: 17\n",
      "split: 18\n",
      "split: 19\n",
      "split: 20\n",
      "split: 21\n",
      "split: 22\n",
      "split: 23\n",
      "split: 24\n",
      "split: 25\n",
      "split: 26\n",
      "split: 27\n",
      "split: 28\n",
      "split: 29\n",
      "split: 30\n",
      "split: 31\n",
      "split: 32\n",
      "split: 33\n",
      "split: 34\n",
      "split: 35\n",
      "split: 36\n",
      "split: 37\n",
      "split: 38\n",
      "split: 39\n",
      "split: 40\n",
      "split: 41\n",
      "split: 42\n",
      "split: 43\n",
      "split: 44\n",
      "split: 45\n",
      "split: 46\n",
      "split: 47\n",
      "split: 48\n",
      "split: 49\n",
      "split: 50\n",
      "split: 51\n",
      "split: 52\n",
      "split: 53\n",
      "split: 54\n",
      "split: 55\n",
      "split: 56\n",
      "split: 57\n",
      "split: 58\n",
      "split: 59\n",
      "split: 60\n",
      "split: 61\n",
      "split: 62\n",
      "split: 63\n",
      "split: 64\n",
      "split: 65\n",
      "split: 66\n",
      "split: 67\n",
      "split: 68\n",
      "split: 69\n",
      "split: 70\n",
      "split: 71\n",
      "split: 72\n",
      "split: 73\n",
      "split: 74\n",
      "split: 75\n",
      "split: 76\n",
      "split: 77\n",
      "split: 78\n",
      "split: 79\n",
      "split: 80\n",
      "split: 81\n",
      "split: 82\n",
      "split: 83\n",
      "split: 84\n",
      "split: 85\n",
      "split: 86\n",
      "split: 87\n",
      "split: 88\n",
      "split: 89\n",
      "split: 90\n",
      "split: 91\n",
      "split: 92\n",
      "split: 93\n",
      "split: 94\n",
      "split: 95\n",
      "split: 96\n",
      "split: 97\n",
      "split: 98\n",
      "split: 99\n",
      "split: 100\n",
      "ACCURACY_mean: 0.68\n",
      "PRECISION_mean: 0.647715617716\n",
      "RECALL_mean: 0.507\n",
      "SPECIFICITY_mean: 0.795333333333\n",
      "F_mean: 0.553155351555\n",
      "AUC_mean: 0.649933333333\n",
      "ACCURACY1_mean: 0.709869071503\n",
      "PRECISION1_mean: 0.662153679654\n",
      "RECALL1_mean: 0.702623015873\n",
      "SPECIFICITY1_mean: 0.720907259407\n",
      "F1_mean: 0.663781087248\n",
      "AUC1_mean: 0.764530668373\n",
      "ACCURACY_std: 0.0699714227381\n",
      "PRECISION_std: 0.14026356871\n",
      "RECALL_std: 0.134354009989\n",
      "SPECIFICITY_std: 0.111656218417\n",
      "F_std: 0.103849036786\n",
      "AUC_std: 0.0952960066786\n",
      "ACCURACY1_std: 0.112881041098\n",
      "PRECISION1_std: 0.164881363291\n",
      "RECALL1_std: 0.173383882091\n",
      "SPECIFICITY1_std: 0.156440571647\n",
      "F1_std: 0.131161685558\n",
      "AUC1_std: 0.122171961518\n",
      "percentage: 0.148157894737\n",
      "split: 1\n",
      "split: 2\n",
      "split: 3\n",
      "split: 4\n",
      "split: 5\n",
      "split: 6\n",
      "split: 7\n",
      "split: 8\n",
      "split: 9\n",
      "split: 10\n",
      "split: 11\n",
      "split: 12\n",
      "split: 13\n",
      "split: 14\n",
      "split: 15\n",
      "split: 16\n",
      "split: 17\n",
      "split: 18\n",
      "split: 19\n",
      "split: 20\n",
      "split: 21\n",
      "split: 22\n",
      "split: 23\n",
      "split: 24\n",
      "split: 25\n",
      "split: 26\n",
      "split: 27\n",
      "split: 28\n",
      "split: 29\n",
      "split: 30\n",
      "split: 31\n",
      "split: 32\n",
      "split: 33\n",
      "split: 34\n",
      "split: 35\n",
      "split: 36\n",
      "split: 37\n",
      "split: 38\n",
      "split: 39\n",
      "split: 40\n",
      "split: 41\n",
      "split: 42\n",
      "split: 43\n",
      "split: 44\n",
      "split: 45\n",
      "split: 46\n",
      "split: 47\n",
      "split: 48\n",
      "split: 49\n",
      "split: 50\n",
      "split: 51\n",
      "split: 52\n",
      "split: 53\n",
      "split: 54\n",
      "split: 55\n",
      "split: 56\n",
      "split: 57\n",
      "split: 58\n",
      "split: 59\n",
      "split: 60\n",
      "split: 61\n",
      "split: 62\n",
      "split: 63\n",
      "split: 64\n",
      "split: 65\n",
      "split: 66\n",
      "split: 67\n",
      "split: 68\n",
      "split: 69\n",
      "split: 70\n",
      "split: 71\n",
      "split: 72\n",
      "split: 73\n",
      "split: 74\n",
      "split: 75\n",
      "split: 76\n",
      "split: 77\n",
      "split: 78\n",
      "split: 79\n",
      "split: 80\n",
      "split: 81\n",
      "split: 82\n",
      "split: 83\n",
      "split: 84\n",
      "split: 85\n",
      "split: 86\n",
      "split: 87\n",
      "split: 88\n",
      "split: 89\n",
      "split: 90\n",
      "split: 91\n",
      "split: 92\n",
      "split: 93\n",
      "split: 94\n",
      "split: 95\n",
      "split: 96\n",
      "split: 97\n",
      "split: 98\n",
      "split: 99\n",
      "split: 100\n",
      "ACCURACY_mean: 0.6784\n",
      "PRECISION_mean: 0.641128954379\n",
      "RECALL_mean: 0.51\n",
      "SPECIFICITY_mean: 0.790666666667\n",
      "F_mean: 0.552483370102\n",
      "AUC_mean: 0.650266666667\n",
      "ACCURACY1_mean: 0.707968638603\n",
      "PRECISION1_mean: 0.657347041847\n",
      "RECALL1_mean: 0.705563492063\n",
      "SPECIFICITY1_mean: 0.714709207459\n",
      "F1_mean: 0.661605194513\n",
      "AUC1_mean: 0.763069554255\n",
      "ACCURACY_std: 0.068333300813\n",
      "PRECISION_std: 0.135614868681\n",
      "RECALL_std: 0.138202749611\n",
      "SPECIFICITY_std: 0.105417687742\n",
      "F_std: 0.105720403009\n",
      "AUC_std: 0.096191568122\n",
      "ACCURACY1_std: 0.106940441431\n",
      "PRECISION1_std: 0.16206415875\n",
      "RECALL1_std: 0.176101453808\n",
      "SPECIFICITY1_std: 0.151854541061\n",
      "F1_std: 0.131140173809\n",
      "AUC1_std: 0.119601132072\n",
      "percentage: 0.184947368421\n",
      "split: 1\n",
      "split: 2\n",
      "split: 3\n",
      "split: 4\n",
      "split: 5\n",
      "split: 6\n",
      "split: 7\n",
      "split: 8\n",
      "split: 9\n",
      "split: 10\n",
      "split: 11\n",
      "split: 12\n",
      "split: 13\n",
      "split: 14\n",
      "split: 15\n",
      "split: 16\n",
      "split: 17\n",
      "split: 18\n",
      "split: 19\n",
      "split: 20\n",
      "split: 21\n",
      "split: 22\n",
      "split: 23\n",
      "split: 24\n",
      "split: 25\n",
      "split: 26\n",
      "split: 27\n",
      "split: 28\n",
      "split: 29\n",
      "split: 30\n",
      "split: 31\n",
      "split: 32\n",
      "split: 33\n",
      "split: 34\n",
      "split: 35\n",
      "split: 36\n",
      "split: 37\n",
      "split: 38\n",
      "split: 39\n",
      "split: 40\n",
      "split: 41\n",
      "split: 42\n",
      "split: 43\n",
      "split: 44\n",
      "split: 45\n",
      "split: 46\n",
      "split: 47\n",
      "split: 48\n",
      "split: 49\n",
      "split: 50\n",
      "split: 51\n",
      "split: 52\n",
      "split: 53\n",
      "split: 54\n",
      "split: 55\n",
      "split: 56\n",
      "split: 57\n",
      "split: 58\n",
      "split: 59\n",
      "split: 60\n",
      "split: 61\n",
      "split: 62\n",
      "split: 63\n",
      "split: 64\n",
      "split: 65\n",
      "split: 66\n",
      "split: 67\n",
      "split: 68\n",
      "split: 69\n",
      "split: 70\n",
      "split: 71\n",
      "split: 72\n",
      "split: 73\n",
      "split: 74\n",
      "split: 75\n",
      "split: 76\n",
      "split: 77\n"
     ]
    },
    {
     "name": "stdout",
     "output_type": "stream",
     "text": [
      "split: 78\n",
      "split: 79\n",
      "split: 80\n",
      "split: 81\n",
      "split: 82\n",
      "split: 83\n",
      "split: 84\n",
      "split: 85\n",
      "split: 86\n",
      "split: 87\n",
      "split: 88\n",
      "split: 89\n",
      "split: 90\n",
      "split: 91\n",
      "split: 92\n",
      "split: 93\n",
      "split: 94\n",
      "split: 95\n",
      "split: 96\n",
      "split: 97\n",
      "split: 98\n",
      "split: 99\n",
      "split: 100\n",
      "ACCURACY_mean: 0.6788\n",
      "PRECISION_mean: 0.638945387945\n",
      "RECALL_mean: 0.518\n",
      "SPECIFICITY_mean: 0.786\n",
      "F_mean: 0.556670177798\n",
      "AUC_mean: 0.654533333333\n",
      "ACCURACY1_mean: 0.711554279269\n",
      "PRECISION1_mean: 0.657136724387\n",
      "RECALL1_mean: 0.716865079365\n",
      "SPECIFICITY1_mean: 0.712066711067\n",
      "F1_mean: 0.667772974274\n",
      "AUC1_mean: 0.768843275772\n",
      "ACCURACY_std: 0.0723226105724\n",
      "PRECISION_std: 0.138259573991\n",
      "RECALL_std: 0.141689802032\n",
      "SPECIFICITY_std: 0.107618668352\n",
      "F_std: 0.109678181662\n",
      "AUC_std: 0.0950713416335\n",
      "ACCURACY1_std: 0.109925875528\n",
      "PRECISION1_std: 0.162295739982\n",
      "RECALL1_std: 0.176706144244\n",
      "SPECIFICITY1_std: 0.149987815504\n",
      "F1_std: 0.133773020627\n",
      "AUC1_std: 0.11862067316\n",
      "percentage: 0.221736842105\n",
      "split: 1\n",
      "split: 2\n",
      "split: 3\n",
      "split: 4\n",
      "split: 5\n",
      "split: 6\n",
      "split: 7\n",
      "split: 8\n",
      "split: 9\n",
      "split: 10\n",
      "split: 11\n",
      "split: 12\n",
      "split: 13\n",
      "split: 14\n",
      "split: 15\n",
      "split: 16\n",
      "split: 17\n",
      "split: 18\n",
      "split: 19\n",
      "split: 20\n",
      "split: 21\n",
      "split: 22\n",
      "split: 23\n",
      "split: 24\n",
      "split: 25\n",
      "split: 26\n",
      "split: 27\n",
      "split: 28\n",
      "split: 29\n",
      "split: 30\n",
      "split: 31\n",
      "split: 32\n",
      "split: 33\n",
      "split: 34\n",
      "split: 35\n",
      "split: 36\n",
      "split: 37\n",
      "split: 38\n",
      "split: 39\n",
      "split: 40\n",
      "split: 41\n",
      "split: 42\n",
      "split: 43\n",
      "split: 44\n",
      "split: 45\n",
      "split: 46\n",
      "split: 47\n",
      "split: 48\n",
      "split: 49\n",
      "split: 50\n",
      "split: 51\n",
      "split: 52\n",
      "split: 53\n",
      "split: 54\n",
      "split: 55\n",
      "split: 56\n",
      "split: 57\n",
      "split: 58\n",
      "split: 59\n",
      "split: 60\n",
      "split: 61\n",
      "split: 62\n",
      "split: 63\n",
      "split: 64\n",
      "split: 65\n",
      "split: 66\n",
      "split: 67\n",
      "split: 68\n",
      "split: 69\n",
      "split: 70\n",
      "split: 71\n",
      "split: 72\n",
      "split: 73\n",
      "split: 74\n",
      "split: 75\n",
      "split: 76\n",
      "split: 77\n",
      "split: 78\n",
      "split: 79\n",
      "split: 80\n",
      "split: 81\n",
      "split: 82\n",
      "split: 83\n",
      "split: 84\n",
      "split: 85\n",
      "split: 86\n",
      "split: 87\n",
      "split: 88\n",
      "split: 89\n",
      "split: 90\n",
      "split: 91\n",
      "split: 92\n",
      "split: 93\n",
      "split: 94\n",
      "split: 95\n",
      "split: 96\n",
      "split: 97\n",
      "split: 98\n",
      "split: 99\n",
      "split: 100\n",
      "ACCURACY_mean: 0.676\n",
      "PRECISION_mean: 0.631028305028\n",
      "RECALL_mean: 0.519\n",
      "SPECIFICITY_mean: 0.780666666667\n",
      "F_mean: 0.555087245975\n",
      "AUC_mean: 0.652666666667\n",
      "ACCURACY1_mean: 0.709918016839\n",
      "PRECISION1_mean: 0.649474386724\n",
      "RECALL1_mean: 0.724079365079\n",
      "SPECIFICITY1_mean: 0.70483979909\n",
      "F1_mean: 0.668929060018\n",
      "AUC1_mean: 0.767119133413\n",
      "ACCURACY_std: 0.0736478105581\n",
      "PRECISION_std: 0.133586902378\n",
      "RECALL_std: 0.142614865985\n",
      "SPECIFICITY_std: 0.108850560148\n",
      "F_std: 0.110740691309\n",
      "AUC_std: 0.0955103252126\n",
      "ACCURACY1_std: 0.110925429185\n",
      "PRECISION1_std: 0.157699631859\n",
      "RECALL1_std: 0.176976126946\n",
      "SPECIFICITY1_std: 0.148203855136\n",
      "F1_std: 0.134794648649\n",
      "AUC1_std: 0.117132756793\n",
      "percentage: 0.258526315789\n",
      "split: 1\n",
      "split: 2\n",
      "split: 3\n",
      "split: 4\n",
      "split: 5\n",
      "split: 6\n",
      "split: 7\n",
      "split: 8\n",
      "split: 9\n",
      "split: 10\n",
      "split: 11\n",
      "split: 12\n",
      "split: 13\n",
      "split: 14\n",
      "split: 15\n",
      "split: 16\n",
      "split: 17\n",
      "split: 18\n",
      "split: 19\n",
      "split: 20\n",
      "split: 21\n",
      "split: 22\n",
      "split: 23\n",
      "split: 24\n",
      "split: 25\n",
      "split: 26\n",
      "split: 27\n",
      "split: 28\n",
      "split: 29\n",
      "split: 30\n",
      "split: 31\n",
      "split: 32\n",
      "split: 33\n",
      "split: 34\n",
      "split: 35\n",
      "split: 36\n",
      "split: 37\n",
      "split: 38\n",
      "split: 39\n",
      "split: 40\n",
      "split: 41\n",
      "split: 42\n",
      "split: 43\n",
      "split: 44\n",
      "split: 45\n",
      "split: 46\n",
      "split: 47\n",
      "split: 48\n",
      "split: 49\n",
      "split: 50\n",
      "split: 51\n",
      "split: 52\n",
      "split: 53\n",
      "split: 54\n",
      "split: 55\n",
      "split: 56\n",
      "split: 57\n",
      "split: 58\n",
      "split: 59\n",
      "split: 60\n",
      "split: 61\n",
      "split: 62\n",
      "split: 63\n",
      "split: 64\n",
      "split: 65\n",
      "split: 66\n",
      "split: 67\n",
      "split: 68\n",
      "split: 69\n",
      "split: 70\n",
      "split: 71\n",
      "split: 72\n",
      "split: 73\n",
      "split: 74\n",
      "split: 75\n",
      "split: 76\n",
      "split: 77\n",
      "split: 78\n",
      "split: 79\n",
      "split: 80\n",
      "split: 81\n",
      "split: 82\n",
      "split: 83\n",
      "split: 84\n",
      "split: 85\n",
      "split: 86\n",
      "split: 87\n",
      "split: 88\n",
      "split: 89\n",
      "split: 90\n",
      "split: 91\n",
      "split: 92\n",
      "split: 93\n",
      "split: 94\n",
      "split: 95\n",
      "split: 96\n",
      "split: 97\n",
      "split: 98\n",
      "split: 99\n",
      "split: 100\n",
      "ACCURACY_mean: 0.6804\n",
      "PRECISION_mean: 0.640937590188\n",
      "RECALL_mean: 0.521\n",
      "SPECIFICITY_mean: 0.786666666667\n",
      "F_mean: 0.559453949257\n",
      "AUC_mean: 0.654\n",
      "ACCURACY1_mean: 0.717493492833\n",
      "PRECISION1_mean: 0.661205627706\n",
      "RECALL1_mean: 0.731353174603\n",
      "SPECIFICITY1_mean: 0.713026667777\n",
      "F1_mean: 0.676667238506\n",
      "AUC1_mean: 0.772484733322\n",
      "ACCURACY_std: 0.0738636581818\n",
      "PRECISION_std: 0.137350956801\n",
      "RECALL_std: 0.141629799124\n",
      "SPECIFICITY_std: 0.109138036958\n",
      "F_std: 0.110629160321\n",
      "AUC_std: 0.0968504001024\n",
      "ACCURACY1_std: 0.110902874562\n",
      "PRECISION1_std: 0.163381851559\n",
      "RECALL1_std: 0.177877651359\n",
      "SPECIFICITY1_std: 0.150427965905\n",
      "F1_std: 0.136660354208\n",
      "AUC1_std: 0.117200893438\n",
      "percentage: 0.295315789474\n",
      "split: 1\n",
      "split: 2\n",
      "split: 3\n",
      "split: 4\n",
      "split: 5\n",
      "split: 6\n",
      "split: 7\n",
      "split: 8\n",
      "split: 9\n",
      "split: 10\n",
      "split: 11\n",
      "split: 12\n",
      "split: 13\n",
      "split: 14\n",
      "split: 15\n",
      "split: 16\n",
      "split: 17\n",
      "split: 18\n",
      "split: 19\n",
      "split: 20\n",
      "split: 21\n",
      "split: 22\n",
      "split: 23\n",
      "split: 24\n",
      "split: 25\n",
      "split: 26\n",
      "split: 27\n",
      "split: 28\n",
      "split: 29\n",
      "split: 30\n",
      "split: 31\n",
      "split: 32\n",
      "split: 33\n",
      "split: 34\n",
      "split: 35\n",
      "split: 36\n",
      "split: 37\n",
      "split: 38\n",
      "split: 39\n",
      "split: 40\n",
      "split: 41\n",
      "split: 42\n",
      "split: 43\n",
      "split: 44\n",
      "split: 45\n",
      "split: 46\n",
      "split: 47\n",
      "split: 48\n",
      "split: 49\n",
      "split: 50\n",
      "split: 51\n",
      "split: 52\n",
      "split: 53\n",
      "split: 54\n",
      "split: 55\n",
      "split: 56\n",
      "split: 57\n",
      "split: 58\n",
      "split: 59\n",
      "split: 60\n",
      "split: 61\n",
      "split: 62\n",
      "split: 63\n",
      "split: 64\n",
      "split: 65\n",
      "split: 66\n",
      "split: 67\n",
      "split: 68\n",
      "split: 69\n",
      "split: 70\n",
      "split: 71\n",
      "split: 72\n",
      "split: 73\n",
      "split: 74\n",
      "split: 75\n",
      "split: 76\n",
      "split: 77\n",
      "split: 78\n",
      "split: 79\n",
      "split: 80\n",
      "split: 81\n",
      "split: 82\n",
      "split: 83\n",
      "split: 84\n",
      "split: 85\n",
      "split: 86\n",
      "split: 87\n",
      "split: 88\n",
      "split: 89\n",
      "split: 90\n",
      "split: 91\n",
      "split: 92\n",
      "split: 93\n",
      "split: 94\n",
      "split: 95\n",
      "split: 96\n",
      "split: 97\n",
      "split: 98\n",
      "split: 99\n",
      "split: 100\n",
      "ACCURACY_mean: 0.6804\n",
      "PRECISION_mean: 0.638301171051\n",
      "RECALL_mean: 0.52\n",
      "SPECIFICITY_mean: 0.787333333333\n",
      "F_mean: 0.559451248606\n",
      "AUC_mean: 0.651266666667\n",
      "ACCURACY1_mean: 0.718654039588\n",
      "PRECISION1_mean: 0.659950937951\n",
      "RECALL1_mean: 0.725829365079\n",
      "SPECIFICITY1_mean: 0.718451992452\n",
      "F1_mean: 0.674829992161\n",
      "AUC1_mean: 0.77134994635\n",
      "ACCURACY_std: 0.0755767159911\n",
      "PRECISION_std: 0.136267625131\n",
      "RECALL_std: 0.139283882772\n",
      "SPECIFICITY_std: 0.106955857977\n",
      "F_std: 0.113533334649\n",
      "AUC_std: 0.0977693203413\n",
      "ACCURACY1_std: 0.108134203674\n",
      "PRECISION1_std: 0.164897996173\n",
      "RECALL1_std: 0.17897819716\n",
      "SPECIFICITY1_std: 0.142016215283\n",
      "F1_std: 0.142211523594\n",
      "AUC1_std: 0.118638836778\n",
      "percentage: 0.332105263158\n",
      "split: 1\n",
      "split: 2\n",
      "split: 3\n",
      "split: 4\n",
      "split: 5\n",
      "split: 6\n",
      "split: 7\n",
      "split: 8\n",
      "split: 9\n",
      "split: 10\n",
      "split: 11\n",
      "split: 12\n",
      "split: 13\n",
      "split: 14\n",
      "split: 15\n",
      "split: 16\n",
      "split: 17\n",
      "split: 18\n",
      "split: 19\n",
      "split: 20\n",
      "split: 21\n",
      "split: 22\n",
      "split: 23\n",
      "split: 24\n",
      "split: 25\n",
      "split: 26\n",
      "split: 27\n",
      "split: 28\n",
      "split: 29\n",
      "split: 30\n",
      "split: 31\n",
      "split: 32\n",
      "split: 33\n",
      "split: 34\n",
      "split: 35\n",
      "split: 36\n",
      "split: 37\n",
      "split: 38\n",
      "split: 39\n",
      "split: 40\n",
      "split: 41\n",
      "split: 42\n",
      "split: 43\n",
      "split: 44\n",
      "split: 45\n",
      "split: 46\n",
      "split: 47\n",
      "split: 48\n",
      "split: 49\n",
      "split: 50\n",
      "split: 51\n",
      "split: 52\n",
      "split: 53\n",
      "split: 54\n",
      "split: 55\n",
      "split: 56\n",
      "split: 57\n",
      "split: 58\n",
      "split: 59\n",
      "split: 60\n",
      "split: 61\n",
      "split: 62\n",
      "split: 63\n",
      "split: 64\n",
      "split: 65\n",
      "split: 66\n",
      "split: 67\n",
      "split: 68\n",
      "split: 69\n",
      "split: 70\n",
      "split: 71\n",
      "split: 72\n",
      "split: 73\n",
      "split: 74\n",
      "split: 75\n",
      "split: 76\n",
      "split: 77\n",
      "split: 78\n",
      "split: 79\n",
      "split: 80\n",
      "split: 81\n",
      "split: 82\n",
      "split: 83\n",
      "split: 84\n",
      "split: 85\n",
      "split: 86\n",
      "split: 87\n",
      "split: 88\n",
      "split: 89\n",
      "split: 90\n",
      "split: 91\n",
      "split: 92\n",
      "split: 93\n",
      "split: 94\n",
      "split: 95\n",
      "split: 96\n",
      "split: 97\n",
      "split: 98\n",
      "split: 99\n",
      "split: 100\n",
      "ACCURACY_mean: 0.6788\n",
      "PRECISION_mean: 0.632824980575\n",
      "RECALL_mean: 0.519\n",
      "SPECIFICITY_mean: 0.785333333333\n",
      "F_mean: 0.557294024509\n",
      "AUC_mean: 0.649266666667\n",
      "ACCURACY1_mean: 0.716028511306\n",
      "PRECISION1_mean: 0.655108225108\n",
      "RECALL1_mean: 0.721746031746\n",
      "SPECIFICITY1_mean: 0.717114330114\n",
      "F1_mean: 0.670980554275\n",
      "AUC1_mean: 0.768335772693\n",
      "ACCURACY_std: 0.0755682473\n",
      "PRECISION_std: 0.134704632748\n",
      "RECALL_std: 0.141911944529\n",
      "SPECIFICITY_std: 0.103098658252\n",
      "F_std: 0.11564449627\n",
      "AUC_std: 0.0967098524224\n",
      "ACCURACY1_std: 0.106372346761\n",
      "PRECISION1_std: 0.164618064014\n",
      "RECALL1_std: 0.17754652973\n",
      "SPECIFICITY1_std: 0.135856453512\n",
      "F1_std: 0.142696127225\n",
      "AUC1_std: 0.118065147459\n",
      "percentage: 0.368894736842\n",
      "split: 1\n",
      "split: 2\n",
      "split: 3\n",
      "split: 4\n",
      "split: 5\n",
      "split: 6\n",
      "split: 7\n",
      "split: 8\n",
      "split: 9\n",
      "split: 10\n",
      "split: 11\n",
      "split: 12\n",
      "split: 13\n",
      "split: 14\n",
      "split: 15\n",
      "split: 16\n",
      "split: 17\n",
      "split: 18\n",
      "split: 19\n",
      "split: 20\n",
      "split: 21\n",
      "split: 22\n",
      "split: 23\n",
      "split: 24\n",
      "split: 25\n",
      "split: 26\n",
      "split: 27\n",
      "split: 28\n",
      "split: 29\n",
      "split: 30\n",
      "split: 31\n",
      "split: 32\n",
      "split: 33\n",
      "split: 34\n",
      "split: 35\n",
      "split: 36\n",
      "split: 37\n",
      "split: 38\n",
      "split: 39\n",
      "split: 40\n",
      "split: 41\n",
      "split: 42\n",
      "split: 43\n",
      "split: 44\n",
      "split: 45\n",
      "split: 46\n",
      "split: 47\n",
      "split: 48\n",
      "split: 49\n",
      "split: 50\n",
      "split: 51\n",
      "split: 52\n",
      "split: 53\n",
      "split: 54\n",
      "split: 55\n",
      "split: 56\n",
      "split: 57\n",
      "split: 58\n"
     ]
    },
    {
     "name": "stdout",
     "output_type": "stream",
     "text": [
      "split: 59\n",
      "split: 60\n",
      "split: 61\n",
      "split: 62\n",
      "split: 63\n",
      "split: 64\n",
      "split: 65\n",
      "split: 66\n",
      "split: 67\n",
      "split: 68\n",
      "split: 69\n",
      "split: 70\n",
      "split: 71\n",
      "split: 72\n",
      "split: 73\n",
      "split: 74\n",
      "split: 75\n",
      "split: 76\n",
      "split: 77\n",
      "split: 78\n",
      "split: 79\n",
      "split: 80\n",
      "split: 81\n",
      "split: 82\n",
      "split: 83\n",
      "split: 84\n",
      "split: 85\n",
      "split: 86\n",
      "split: 87\n",
      "split: 88\n",
      "split: 89\n",
      "split: 90\n",
      "split: 91\n",
      "split: 92\n",
      "split: 93\n",
      "split: 94\n",
      "split: 95\n",
      "split: 96\n",
      "split: 97\n",
      "split: 98\n",
      "split: 99\n",
      "split: 100\n",
      "ACCURACY_mean: 0.6756\n",
      "PRECISION_mean: 0.628567404817\n",
      "RECALL_mean: 0.516\n",
      "SPECIFICITY_mean: 0.782\n",
      "F_mean: 0.553806275588\n",
      "AUC_mean: 0.648733333333\n",
      "ACCURACY1_mean: 0.715186515883\n",
      "PRECISION1_mean: 0.653596320346\n",
      "RECALL1_mean: 0.721079365079\n",
      "SPECIFICITY1_mean: 0.71470956821\n",
      "F1_mean: 0.671631256514\n",
      "AUC1_mean: 0.768142615321\n",
      "ACCURACY_std: 0.0748106944227\n",
      "PRECISION_std: 0.132179972207\n",
      "RECALL_std: 0.139799856938\n",
      "SPECIFICITY_std: 0.10618851162\n",
      "F_std: 0.112334190189\n",
      "AUC_std: 0.0940151051693\n",
      "ACCURACY1_std: 0.107761535537\n",
      "PRECISION1_std: 0.163788264765\n",
      "RECALL1_std: 0.17151672557\n",
      "SPECIFICITY1_std: 0.142197290709\n",
      "F1_std: 0.140353788507\n",
      "AUC1_std: 0.117336219804\n",
      "percentage: 0.405684210526\n",
      "split: 1\n",
      "split: 2\n",
      "split: 3\n",
      "split: 4\n",
      "split: 5\n",
      "split: 6\n",
      "split: 7\n",
      "split: 8\n",
      "split: 9\n",
      "split: 10\n",
      "split: 11\n",
      "split: 12\n",
      "split: 13\n",
      "split: 14\n",
      "split: 15\n",
      "split: 16\n",
      "split: 17\n",
      "split: 18\n",
      "split: 19\n",
      "split: 20\n",
      "split: 21\n",
      "split: 22\n",
      "split: 23\n",
      "split: 24\n",
      "split: 25\n",
      "split: 26\n",
      "split: 27\n",
      "split: 28\n",
      "split: 29\n",
      "split: 30\n",
      "split: 31\n",
      "split: 32\n",
      "split: 33\n",
      "split: 34\n",
      "split: 35\n",
      "split: 36\n",
      "split: 37\n",
      "split: 38\n",
      "split: 39\n",
      "split: 40\n",
      "split: 41\n",
      "split: 42\n",
      "split: 43\n",
      "split: 44\n",
      "split: 45\n",
      "split: 46\n",
      "split: 47\n",
      "split: 48\n",
      "split: 49\n",
      "split: 50\n",
      "split: 51\n",
      "split: 52\n",
      "split: 53\n",
      "split: 54\n",
      "split: 55\n",
      "split: 56\n",
      "split: 57\n",
      "split: 58\n",
      "split: 59\n",
      "split: 60\n",
      "split: 61\n",
      "split: 62\n",
      "split: 63\n",
      "split: 64\n",
      "split: 65\n",
      "split: 66\n",
      "split: 67\n",
      "split: 68\n",
      "split: 69\n",
      "split: 70\n",
      "split: 71\n",
      "split: 72\n",
      "split: 73\n",
      "split: 74\n",
      "split: 75\n",
      "split: 76\n",
      "split: 77\n",
      "split: 78\n",
      "split: 79\n",
      "split: 80\n",
      "split: 81\n",
      "split: 82\n",
      "split: 83\n",
      "split: 84\n",
      "split: 85\n",
      "split: 86\n",
      "split: 87\n",
      "split: 88\n",
      "split: 89\n",
      "split: 90\n",
      "split: 91\n",
      "split: 92\n",
      "split: 93\n",
      "split: 94\n",
      "split: 95\n",
      "split: 96\n",
      "split: 97\n",
      "split: 98\n",
      "split: 99\n",
      "split: 100\n",
      "ACCURACY_mean: 0.6744\n",
      "PRECISION_mean: 0.627106060606\n",
      "RECALL_mean: 0.516\n",
      "SPECIFICITY_mean: 0.78\n",
      "F_mean: 0.552343919668\n",
      "AUC_mean: 0.646266666667\n",
      "ACCURACY1_mean: 0.714507466991\n",
      "PRECISION1_mean: 0.655433621934\n",
      "RECALL1_mean: 0.723063492063\n",
      "SPECIFICITY1_mean: 0.712082584083\n",
      "F1_mean: 0.671875035611\n",
      "AUC1_mean: 0.769504065247\n",
      "ACCURACY_std: 0.0706586158936\n",
      "PRECISION_std: 0.132403312058\n",
      "RECALL_std: 0.139799856938\n",
      "SPECIFICITY_std: 0.10176225015\n",
      "F_std: 0.109604299611\n",
      "AUC_std: 0.095082747588\n",
      "ACCURACY1_std: 0.103448908572\n",
      "PRECISION1_std: 0.164781212272\n",
      "RECALL1_std: 0.168877898258\n",
      "SPECIFICITY1_std: 0.143744119612\n",
      "F1_std: 0.133156206844\n",
      "AUC1_std: 0.116759164394\n",
      "percentage: 0.442473684211\n",
      "split: 1\n",
      "split: 2\n",
      "split: 3\n",
      "split: 4\n",
      "split: 5\n",
      "split: 6\n",
      "split: 7\n",
      "split: 8\n",
      "split: 9\n",
      "split: 10\n",
      "split: 11\n",
      "split: 12\n",
      "split: 13\n",
      "split: 14\n",
      "split: 15\n",
      "split: 16\n",
      "split: 17\n",
      "split: 18\n",
      "split: 19\n",
      "split: 20\n",
      "split: 21\n",
      "split: 22\n",
      "split: 23\n",
      "split: 24\n",
      "split: 25\n",
      "split: 26\n",
      "split: 27\n",
      "split: 28\n",
      "split: 29\n",
      "split: 30\n",
      "split: 31\n",
      "split: 32\n",
      "split: 33\n",
      "split: 34\n",
      "split: 35\n",
      "split: 36\n",
      "split: 37\n",
      "split: 38\n",
      "split: 39\n",
      "split: 40\n",
      "split: 41\n",
      "split: 42\n",
      "split: 43\n",
      "split: 44\n",
      "split: 45\n",
      "split: 46\n",
      "split: 47\n",
      "split: 48\n",
      "split: 49\n",
      "split: 50\n",
      "split: 51\n",
      "split: 52\n",
      "split: 53\n",
      "split: 54\n",
      "split: 55\n",
      "split: 56\n",
      "split: 57\n",
      "split: 58\n",
      "split: 59\n",
      "split: 60\n",
      "split: 61\n",
      "split: 62\n",
      "split: 63\n",
      "split: 64\n",
      "split: 65\n",
      "split: 66\n",
      "split: 67\n",
      "split: 68\n",
      "split: 69\n",
      "split: 70\n",
      "split: 71\n",
      "split: 72\n",
      "split: 73\n",
      "split: 74\n",
      "split: 75\n",
      "split: 76\n",
      "split: 77\n",
      "split: 78\n",
      "split: 79\n",
      "split: 80\n",
      "split: 81\n",
      "split: 82\n",
      "split: 83\n",
      "split: 84\n",
      "split: 85\n",
      "split: 86\n",
      "split: 87\n",
      "split: 88\n",
      "split: 89\n",
      "split: 90\n",
      "split: 91\n",
      "split: 92\n",
      "split: 93\n",
      "split: 94\n",
      "split: 95\n",
      "split: 96\n",
      "split: 97\n",
      "split: 98\n",
      "split: 99\n",
      "split: 100\n",
      "ACCURACY_mean: 0.672\n",
      "PRECISION_mean: 0.624452325452\n",
      "RECALL_mean: 0.511\n",
      "SPECIFICITY_mean: 0.779333333333\n",
      "F_mean: 0.548544852715\n",
      "AUC_mean: 0.6448\n",
      "ACCURACY1_mean: 0.713689800181\n",
      "PRECISION1_mean: 0.65658044733\n",
      "RECALL1_mean: 0.722706349206\n",
      "SPECIFICITY1_mean: 0.712300838051\n",
      "F1_mean: 0.67264482791\n",
      "AUC1_mean: 0.770255678845\n",
      "ACCURACY_std: 0.0711055553385\n",
      "PRECISION_std: 0.129304451667\n",
      "RECALL_std: 0.13703649149\n",
      "SPECIFICITY_std: 0.102716438152\n",
      "F_std: 0.107426252541\n",
      "AUC_std: 0.0950138235557\n",
      "ACCURACY1_std: 0.102118463093\n",
      "PRECISION1_std: 0.157196208754\n",
      "RECALL1_std: 0.157363057\n",
      "SPECIFICITY1_std: 0.143153896115\n",
      "F1_std: 0.122656410076\n",
      "AUC1_std: 0.112017562869\n",
      "percentage: 0.479263157895\n",
      "split: 1\n",
      "split: 2\n",
      "split: 3\n",
      "split: 4\n",
      "split: 5\n",
      "split: 6\n",
      "split: 7\n",
      "split: 8\n",
      "split: 9\n",
      "split: 10\n",
      "split: 11\n",
      "split: 12\n",
      "split: 13\n",
      "split: 14\n",
      "split: 15\n",
      "split: 16\n",
      "split: 17\n",
      "split: 18\n",
      "split: 19\n",
      "split: 20\n",
      "split: 21\n",
      "split: 22\n",
      "split: 23\n",
      "split: 24\n",
      "split: 25\n",
      "split: 26\n",
      "split: 27\n",
      "split: 28\n",
      "split: 29\n",
      "split: 30\n",
      "split: 31\n",
      "split: 32\n",
      "split: 33\n",
      "split: 34\n",
      "split: 35\n",
      "split: 36\n",
      "split: 37\n",
      "split: 38\n",
      "split: 39\n",
      "split: 40\n",
      "split: 41\n",
      "split: 42\n",
      "split: 43\n",
      "split: 44\n",
      "split: 45\n",
      "split: 46\n",
      "split: 47\n",
      "split: 48\n",
      "split: 49\n",
      "split: 50\n",
      "split: 51\n",
      "split: 52\n",
      "split: 53\n",
      "split: 54\n",
      "split: 55\n",
      "split: 56\n",
      "split: 57\n",
      "split: 58\n",
      "split: 59\n",
      "split: 60\n",
      "split: 61\n",
      "split: 62\n",
      "split: 63\n",
      "split: 64\n",
      "split: 65\n",
      "split: 66\n",
      "split: 67\n",
      "split: 68\n",
      "split: 69\n",
      "split: 70\n",
      "split: 71\n",
      "split: 72\n",
      "split: 73\n",
      "split: 74\n",
      "split: 75\n",
      "split: 76\n",
      "split: 77\n",
      "split: 78\n",
      "split: 79\n",
      "split: 80\n",
      "split: 81\n",
      "split: 82\n",
      "split: 83\n",
      "split: 84\n",
      "split: 85\n",
      "split: 86\n",
      "split: 87\n",
      "split: 88\n",
      "split: 89\n",
      "split: 90\n",
      "split: 91\n",
      "split: 92\n",
      "split: 93\n",
      "split: 94\n",
      "split: 95\n",
      "split: 96\n",
      "split: 97\n",
      "split: 98\n",
      "split: 99\n",
      "split: 100\n",
      "ACCURACY_mean: 0.672\n",
      "PRECISION_mean: 0.623341158841\n",
      "RECALL_mean: 0.514\n",
      "SPECIFICITY_mean: 0.777333333333\n",
      "F_mean: 0.550134030214\n",
      "AUC_mean: 0.6442\n",
      "ACCURACY1_mean: 0.714833789963\n",
      "PRECISION1_mean: 0.655767316017\n",
      "RECALL1_mean: 0.723277777778\n",
      "SPECIFICITY1_mean: 0.714447052947\n",
      "F1_mean: 0.67171439723\n",
      "AUC1_mean: 0.770782786691\n",
      "ACCURACY_std: 0.0713302180005\n",
      "PRECISION_std: 0.131888216018\n",
      "RECALL_std: 0.137127677731\n",
      "SPECIFICITY_std: 0.102076224242\n",
      "F_std: 0.108271564937\n",
      "AUC_std: 0.0954831224179\n",
      "ACCURACY1_std: 0.0992033183995\n",
      "PRECISION1_std: 0.15451732766\n",
      "RECALL1_std: 0.16374135544\n",
      "SPECIFICITY1_std: 0.138643892306\n",
      "F1_std: 0.11980899708\n",
      "AUC1_std: 0.112156087189\n",
      "percentage: 0.516052631579\n",
      "split: 1\n",
      "split: 2\n",
      "split: 3\n",
      "split: 4\n",
      "split: 5\n",
      "split: 6\n",
      "split: 7\n",
      "split: 8\n",
      "split: 9\n",
      "split: 10\n",
      "split: 11\n",
      "split: 12\n",
      "split: 13\n",
      "split: 14\n",
      "split: 15\n",
      "split: 16\n",
      "split: 17\n",
      "split: 18\n",
      "split: 19\n",
      "split: 20\n",
      "split: 21\n",
      "split: 22\n",
      "split: 23\n",
      "split: 24\n",
      "split: 25\n",
      "split: 26\n",
      "split: 27\n",
      "split: 28\n",
      "split: 29\n",
      "split: 30\n",
      "split: 31\n",
      "split: 32\n",
      "split: 33\n",
      "split: 34\n",
      "split: 35\n",
      "split: 36\n",
      "split: 37\n",
      "split: 38\n",
      "split: 39\n",
      "split: 40\n",
      "split: 41\n",
      "split: 42\n",
      "split: 43\n",
      "split: 44\n",
      "split: 45\n",
      "split: 46\n",
      "split: 47\n",
      "split: 48\n",
      "split: 49\n",
      "split: 50\n",
      "split: 51\n",
      "split: 52\n",
      "split: 53\n",
      "split: 54\n",
      "split: 55\n",
      "split: 56\n",
      "split: 57\n",
      "split: 58\n",
      "split: 59\n",
      "split: 60\n",
      "split: 61\n",
      "split: 62\n",
      "split: 63\n",
      "split: 64\n",
      "split: 65\n",
      "split: 66\n",
      "split: 67\n",
      "split: 68\n",
      "split: 69\n",
      "split: 70\n",
      "split: 71\n",
      "split: 72\n",
      "split: 73\n",
      "split: 74\n",
      "split: 75\n",
      "split: 76\n",
      "split: 77\n",
      "split: 78\n",
      "split: 79\n",
      "split: 80\n",
      "split: 81\n",
      "split: 82\n",
      "split: 83\n",
      "split: 84\n",
      "split: 85\n",
      "split: 86\n",
      "split: 87\n",
      "split: 88\n",
      "split: 89\n",
      "split: 90\n",
      "split: 91\n",
      "split: 92\n",
      "split: 93\n",
      "split: 94\n",
      "split: 95\n",
      "split: 96\n",
      "split: 97\n",
      "split: 98\n",
      "split: 99\n",
      "split: 100\n",
      "ACCURACY_mean: 0.6736\n",
      "PRECISION_mean: 0.625218559219\n",
      "RECALL_mean: 0.515\n",
      "SPECIFICITY_mean: 0.779333333333\n",
      "F_mean: 0.551788087808\n",
      "AUC_mean: 0.645133333333\n",
      "ACCURACY1_mean: 0.718528595158\n",
      "PRECISION1_mean: 0.664705627706\n",
      "RECALL1_mean: 0.719849206349\n",
      "SPECIFICITY1_mean: 0.722304917305\n",
      "F1_mean: 0.675063042049\n",
      "AUC1_mean: 0.7695585739\n",
      "ACCURACY_std: 0.07455896995\n",
      "PRECISION_std: 0.132022084998\n",
      "RECALL_std: 0.138834433769\n",
      "SPECIFICITY_std: 0.104432859878\n",
      "F_std: 0.112783395082\n",
      "AUC_std: 0.09330406684\n",
      "ACCURACY1_std: 0.105499302901\n",
      "PRECISION1_std: 0.158842151519\n",
      "RECALL1_std: 0.164738238621\n",
      "SPECIFICITY1_std: 0.145924973918\n",
      "F1_std: 0.127208824137\n",
      "AUC1_std: 0.115947297361\n",
      "percentage: 0.552842105263\n",
      "split: 1\n",
      "split: 2\n",
      "split: 3\n",
      "split: 4\n",
      "split: 5\n",
      "split: 6\n",
      "split: 7\n",
      "split: 8\n",
      "split: 9\n",
      "split: 10\n",
      "split: 11\n",
      "split: 12\n",
      "split: 13\n",
      "split: 14\n",
      "split: 15\n",
      "split: 16\n",
      "split: 17\n",
      "split: 18\n",
      "split: 19\n",
      "split: 20\n",
      "split: 21\n",
      "split: 22\n",
      "split: 23\n",
      "split: 24\n",
      "split: 25\n",
      "split: 26\n",
      "split: 27\n",
      "split: 28\n",
      "split: 29\n",
      "split: 30\n",
      "split: 31\n",
      "split: 32\n",
      "split: 33\n",
      "split: 34\n",
      "split: 35\n",
      "split: 36\n",
      "split: 37\n",
      "split: 38\n",
      "split: 39\n",
      "split: 40\n",
      "split: 41\n"
     ]
    },
    {
     "name": "stdout",
     "output_type": "stream",
     "text": [
      "split: 42\n",
      "split: 43\n",
      "split: 44\n",
      "split: 45\n",
      "split: 46\n",
      "split: 47\n",
      "split: 48\n",
      "split: 49\n",
      "split: 50\n",
      "split: 51\n",
      "split: 52\n",
      "split: 53\n",
      "split: 54\n",
      "split: 55\n",
      "split: 56\n",
      "split: 57\n",
      "split: 58\n",
      "split: 59\n",
      "split: 60\n",
      "split: 61\n",
      "split: 62\n",
      "split: 63\n",
      "split: 64\n",
      "split: 65\n",
      "split: 66\n",
      "split: 67\n",
      "split: 68\n",
      "split: 69\n",
      "split: 70\n",
      "split: 71\n",
      "split: 72\n",
      "split: 73\n",
      "split: 74\n",
      "split: 75\n",
      "split: 76\n",
      "split: 77\n",
      "split: 78\n",
      "split: 79\n",
      "split: 80\n",
      "split: 81\n",
      "split: 82\n",
      "split: 83\n",
      "split: 84\n",
      "split: 85\n",
      "split: 86\n",
      "split: 87\n",
      "split: 88\n",
      "split: 89\n",
      "split: 90\n",
      "split: 91\n",
      "split: 92\n",
      "split: 93\n",
      "split: 94\n",
      "split: 95\n",
      "split: 96\n",
      "split: 97\n",
      "split: 98\n",
      "split: 99\n",
      "split: 100\n",
      "ACCURACY_mean: 0.6744\n",
      "PRECISION_mean: 0.627511904762\n",
      "RECALL_mean: 0.514\n",
      "SPECIFICITY_mean: 0.781333333333\n",
      "F_mean: 0.552273600668\n",
      "AUC_mean: 0.644266666667\n",
      "ACCURACY1_mean: 0.717161443304\n",
      "PRECISION1_mean: 0.663334054834\n",
      "RECALL1_mean: 0.712753968254\n",
      "SPECIFICITY1_mean: 0.724991785992\n",
      "F1_mean: 0.671511859314\n",
      "AUC1_mean: 0.76889212408\n",
      "ACCURACY_std: 0.0744086016533\n",
      "PRECISION_std: 0.132119204324\n",
      "RECALL_std: 0.137127677731\n",
      "SPECIFICITY_std: 0.104170799918\n",
      "F_std: 0.110691747775\n",
      "AUC_std: 0.0958958694511\n",
      "ACCURACY1_std: 0.106251639234\n",
      "PRECISION1_std: 0.157803423215\n",
      "RECALL1_std: 0.166165753494\n",
      "SPECIFICITY1_std: 0.144257390447\n",
      "F1_std: 0.129448934318\n",
      "AUC1_std: 0.117644664059\n",
      "percentage: 0.589631578947\n",
      "split: 1\n",
      "split: 2\n",
      "split: 3\n",
      "split: 4\n",
      "split: 5\n",
      "split: 6\n",
      "split: 7\n",
      "split: 8\n",
      "split: 9\n",
      "split: 10\n",
      "split: 11\n",
      "split: 12\n",
      "split: 13\n",
      "split: 14\n",
      "split: 15\n",
      "split: 16\n",
      "split: 17\n",
      "split: 18\n",
      "split: 19\n",
      "split: 20\n",
      "split: 21\n",
      "split: 22\n",
      "split: 23\n",
      "split: 24\n",
      "split: 25\n",
      "split: 26\n",
      "split: 27\n",
      "split: 28\n",
      "split: 29\n",
      "split: 30\n",
      "split: 31\n",
      "split: 32\n",
      "split: 33\n",
      "split: 34\n",
      "split: 35\n",
      "split: 36\n",
      "split: 37\n",
      "split: 38\n",
      "split: 39\n",
      "split: 40\n",
      "split: 41\n",
      "split: 42\n",
      "split: 43\n",
      "split: 44\n",
      "split: 45\n",
      "split: 46\n",
      "split: 47\n",
      "split: 48\n",
      "split: 49\n",
      "split: 50\n",
      "split: 51\n",
      "split: 52\n",
      "split: 53\n",
      "split: 54\n",
      "split: 55\n",
      "split: 56\n",
      "split: 57\n",
      "split: 58\n",
      "split: 59\n",
      "split: 60\n",
      "split: 61\n",
      "split: 62\n",
      "split: 63\n",
      "split: 64\n",
      "split: 65\n",
      "split: 66\n",
      "split: 67\n",
      "split: 68\n",
      "split: 69\n",
      "split: 70\n",
      "split: 71\n",
      "split: 72\n",
      "split: 73\n",
      "split: 74\n",
      "split: 75\n",
      "split: 76\n",
      "split: 77\n",
      "split: 78\n",
      "split: 79\n",
      "split: 80\n",
      "split: 81\n",
      "split: 82\n",
      "split: 83\n",
      "split: 84\n",
      "split: 85\n",
      "split: 86\n",
      "split: 87\n",
      "split: 88\n",
      "split: 89\n",
      "split: 90\n",
      "split: 91\n",
      "split: 92\n",
      "split: 93\n",
      "split: 94\n",
      "split: 95\n",
      "split: 96\n",
      "split: 97\n",
      "split: 98\n",
      "split: 99\n",
      "split: 100\n",
      "ACCURACY_mean: 0.674\n",
      "PRECISION_mean: 0.628296842047\n",
      "RECALL_mean: 0.512\n",
      "SPECIFICITY_mean: 0.782\n",
      "F_mean: 0.551454527876\n",
      "AUC_mean: 0.6408\n",
      "ACCURACY1_mean: 0.717129007602\n",
      "PRECISION1_mean: 0.663536435786\n",
      "RECALL1_mean: 0.716170634921\n",
      "SPECIFICITY1_mean: 0.723547341547\n",
      "F1_mean: 0.672588726633\n",
      "AUC1_mean: 0.765865399349\n",
      "ACCURACY_std: 0.0770194780559\n",
      "PRECISION_std: 0.138467051345\n",
      "RECALL_std: 0.136586968632\n",
      "SPECIFICITY_std: 0.10618851162\n",
      "F_std: 0.113066274256\n",
      "AUC_std: 0.0968769207695\n",
      "ACCURACY1_std: 0.108440367677\n",
      "PRECISION1_std: 0.162519651706\n",
      "RECALL1_std: 0.169145347478\n",
      "SPECIFICITY1_std: 0.147473627251\n",
      "F1_std: 0.132409477235\n",
      "AUC1_std: 0.119095118445\n",
      "percentage: 0.626421052632\n",
      "split: 1\n",
      "split: 2\n",
      "split: 3\n",
      "split: 4\n",
      "split: 5\n",
      "split: 6\n",
      "split: 7\n",
      "split: 8\n",
      "split: 9\n",
      "split: 10\n",
      "split: 11\n",
      "split: 12\n",
      "split: 13\n",
      "split: 14\n",
      "split: 15\n",
      "split: 16\n",
      "split: 17\n",
      "split: 18\n",
      "split: 19\n",
      "split: 20\n",
      "split: 21\n",
      "split: 22\n",
      "split: 23\n",
      "split: 24\n",
      "split: 25\n",
      "split: 26\n",
      "split: 27\n",
      "split: 28\n",
      "split: 29\n",
      "split: 30\n",
      "split: 31\n",
      "split: 32\n",
      "split: 33\n",
      "split: 34\n",
      "split: 35\n",
      "split: 36\n",
      "split: 37\n",
      "split: 38\n",
      "split: 39\n",
      "split: 40\n",
      "split: 41\n",
      "split: 42\n",
      "split: 43\n",
      "split: 44\n",
      "split: 45\n",
      "split: 46\n",
      "split: 47\n",
      "split: 48\n",
      "split: 49\n",
      "split: 50\n",
      "split: 51\n",
      "split: 52\n",
      "split: 53\n",
      "split: 54\n",
      "split: 55\n",
      "split: 56\n",
      "split: 57\n",
      "split: 58\n",
      "split: 59\n",
      "split: 60\n",
      "split: 61\n",
      "split: 62\n",
      "split: 63\n",
      "split: 64\n",
      "split: 65\n",
      "split: 66\n",
      "split: 67\n",
      "split: 68\n",
      "split: 69\n",
      "split: 70\n",
      "split: 71\n",
      "split: 72\n",
      "split: 73\n",
      "split: 74\n",
      "split: 75\n",
      "split: 76\n",
      "split: 77\n",
      "split: 78\n",
      "split: 79\n",
      "split: 80\n",
      "split: 81\n",
      "split: 82\n",
      "split: 83\n",
      "split: 84\n",
      "split: 85\n",
      "split: 86\n",
      "split: 87\n",
      "split: 88\n",
      "split: 89\n",
      "split: 90\n",
      "split: 91\n",
      "split: 92\n",
      "split: 93\n",
      "split: 94\n",
      "split: 95\n",
      "split: 96\n",
      "split: 97\n",
      "split: 98\n",
      "split: 99\n",
      "split: 100\n",
      "ACCURACY_mean: 0.6768\n",
      "PRECISION_mean: 0.631849150849\n",
      "RECALL_mean: 0.515\n",
      "SPECIFICITY_mean: 0.784666666667\n",
      "F_mean: 0.554842790587\n",
      "AUC_mean: 0.641466666667\n",
      "ACCURACY1_mean: 0.721678755842\n",
      "PRECISION1_mean: 0.670324675325\n",
      "RECALL1_mean: 0.718075396825\n",
      "SPECIFICITY1_mean: 0.730375485625\n",
      "F1_mean: 0.676688563329\n",
      "AUC1_mean: 0.767931169756\n",
      "ACCURACY_std: 0.0747646975517\n",
      "PRECISION_std: 0.136008147241\n",
      "RECALL_std: 0.135922772191\n",
      "SPECIFICITY_std: 0.103217138973\n",
      "F_std: 0.111697997992\n",
      "AUC_std: 0.0965151916655\n",
      "ACCURACY1_std: 0.108478002077\n",
      "PRECISION1_std: 0.164955636917\n",
      "RECALL1_std: 0.169213927946\n",
      "SPECIFICITY1_std: 0.149208865527\n",
      "F1_std: 0.132891362032\n",
      "AUC1_std: 0.118486699239\n",
      "percentage: 0.663210526316\n",
      "split: 1\n",
      "split: 2\n",
      "split: 3\n",
      "split: 4\n",
      "split: 5\n",
      "split: 6\n",
      "split: 7\n",
      "split: 8\n",
      "split: 9\n",
      "split: 10\n",
      "split: 11\n",
      "split: 12\n",
      "split: 13\n",
      "split: 14\n",
      "split: 15\n",
      "split: 16\n",
      "split: 17\n",
      "split: 18\n",
      "split: 19\n",
      "split: 20\n",
      "split: 21\n",
      "split: 22\n",
      "split: 23\n",
      "split: 24\n",
      "split: 25\n",
      "split: 26\n",
      "split: 27\n",
      "split: 28\n",
      "split: 29\n",
      "split: 30\n",
      "split: 31\n",
      "split: 32\n",
      "split: 33\n",
      "split: 34\n",
      "split: 35\n",
      "split: 36\n",
      "split: 37\n",
      "split: 38\n",
      "split: 39\n",
      "split: 40\n",
      "split: 41\n",
      "split: 42\n",
      "split: 43\n",
      "split: 44\n",
      "split: 45\n",
      "split: 46\n",
      "split: 47\n",
      "split: 48\n",
      "split: 49\n",
      "split: 50\n",
      "split: 51\n",
      "split: 52\n",
      "split: 53\n",
      "split: 54\n",
      "split: 55\n",
      "split: 56\n",
      "split: 57\n",
      "split: 58\n",
      "split: 59\n",
      "split: 60\n",
      "split: 61\n",
      "split: 62\n",
      "split: 63\n",
      "split: 64\n",
      "split: 65\n",
      "split: 66\n",
      "split: 67\n",
      "split: 68\n",
      "split: 69\n",
      "split: 70\n",
      "split: 71\n",
      "split: 72\n",
      "split: 73\n",
      "split: 74\n",
      "split: 75\n",
      "split: 76\n",
      "split: 77\n",
      "split: 78\n",
      "split: 79\n",
      "split: 80\n",
      "split: 81\n",
      "split: 82\n",
      "split: 83\n",
      "split: 84\n",
      "split: 85\n",
      "split: 86\n",
      "split: 87\n",
      "split: 88\n",
      "split: 89\n",
      "split: 90\n",
      "split: 91\n",
      "split: 92\n",
      "split: 93\n",
      "split: 94\n",
      "split: 95\n",
      "split: 96\n",
      "split: 97\n",
      "split: 98\n",
      "split: 99\n",
      "split: 100\n",
      "ACCURACY_mean: 0.676\n",
      "PRECISION_mean: 0.630146464646\n",
      "RECALL_mean: 0.512\n",
      "SPECIFICITY_mean: 0.785333333333\n",
      "F_mean: 0.552400767574\n",
      "AUC_mean: 0.6406\n",
      "ACCURACY1_mean: 0.721630004155\n",
      "PRECISION1_mean: 0.670932900433\n",
      "RECALL1_mean: 0.715365079365\n",
      "SPECIFICITY1_mean: 0.731639083139\n",
      "F1_mean: 0.675360648467\n",
      "AUC1_mean: 0.766804115164\n",
      "ACCURACY_std: 0.0764198926982\n",
      "PRECISION_std: 0.135489412757\n",
      "RECALL_std: 0.139484766193\n",
      "SPECIFICITY_std: 0.102666666667\n",
      "F_std: 0.114774435608\n",
      "AUC_std: 0.0968623077707\n",
      "ACCURACY1_std: 0.109511834977\n",
      "PRECISION1_std: 0.165159502657\n",
      "RECALL1_std: 0.174626090488\n",
      "SPECIFICITY1_std: 0.15265615455\n",
      "F1_std: 0.135607369087\n",
      "AUC1_std: 0.117687187874\n",
      "percentage: 0.7\n",
      "split: 1\n",
      "split: 2\n",
      "split: 3\n",
      "split: 4\n",
      "split: 5\n",
      "split: 6\n",
      "split: 7\n",
      "split: 8\n",
      "split: 9\n",
      "split: 10\n",
      "split: 11\n",
      "split: 12\n",
      "split: 13\n",
      "split: 14\n",
      "split: 15\n",
      "split: 16\n",
      "split: 17\n",
      "split: 18\n",
      "split: 19\n",
      "split: 20\n",
      "split: 21\n",
      "split: 22\n",
      "split: 23\n",
      "split: 24\n",
      "split: 25\n",
      "split: 26\n",
      "split: 27\n",
      "split: 28\n",
      "split: 29\n",
      "split: 30\n",
      "split: 31\n",
      "split: 32\n",
      "split: 33\n",
      "split: 34\n",
      "split: 35\n",
      "split: 36\n",
      "split: 37\n",
      "split: 38\n",
      "split: 39\n",
      "split: 40\n",
      "split: 41\n",
      "split: 42\n",
      "split: 43\n",
      "split: 44\n",
      "split: 45\n",
      "split: 46\n",
      "split: 47\n",
      "split: 48\n",
      "split: 49\n",
      "split: 50\n",
      "split: 51\n",
      "split: 52\n",
      "split: 53\n",
      "split: 54\n",
      "split: 55\n",
      "split: 56\n",
      "split: 57\n",
      "split: 58\n",
      "split: 59\n",
      "split: 60\n",
      "split: 61\n",
      "split: 62\n",
      "split: 63\n",
      "split: 64\n",
      "split: 65\n",
      "split: 66\n",
      "split: 67\n",
      "split: 68\n",
      "split: 69\n",
      "split: 70\n",
      "split: 71\n",
      "split: 72\n",
      "split: 73\n",
      "split: 74\n",
      "split: 75\n",
      "split: 76\n",
      "split: 77\n",
      "split: 78\n",
      "split: 79\n",
      "split: 80\n",
      "split: 81\n",
      "split: 82\n",
      "split: 83\n",
      "split: 84\n",
      "split: 85\n",
      "split: 86\n",
      "split: 87\n",
      "split: 88\n",
      "split: 89\n",
      "split: 90\n",
      "split: 91\n",
      "split: 92\n",
      "split: 93\n",
      "split: 94\n",
      "split: 95\n",
      "split: 96\n",
      "split: 97\n",
      "split: 98\n",
      "split: 99\n",
      "split: 100\n",
      "ACCURACY_mean: 0.6748\n",
      "PRECISION_mean: 0.62713997114\n",
      "RECALL_mean: 0.507\n",
      "SPECIFICITY_mean: 0.786666666667\n",
      "F_mean: 0.548459831232\n",
      "AUC_mean: 0.640133333333\n",
      "ACCURACY1_mean: 0.720870577307\n",
      "PRECISION1_mean: 0.670005772006\n",
      "RECALL1_mean: 0.71126984127\n",
      "SPECIFICITY1_mean: 0.733961482961\n",
      "F1_mean: 0.673405926461\n",
      "AUC1_mean: 0.768831300247\n",
      "ACCURACY_std: 0.0758218965735\n",
      "PRECISION_std: 0.135421133005\n",
      "RECALL_std: 0.141601553664\n",
      "SPECIFICITY_std: 0.099777530314\n",
      "F_std: 0.117874501603\n",
      "AUC_std: 0.0994293942677\n",
      "ACCURACY1_std: 0.109526268659\n",
      "PRECISION1_std: 0.165461688991\n",
      "RECALL1_std: 0.174045348099\n",
      "SPECIFICITY1_std: 0.148553338653\n",
      "F1_std: 0.136241274044\n",
      "AUC1_std: 0.118523652918\n"
     ]
    }
   ],
   "source": [
    "splits = 100\n",
    "folds = 3\n",
    "percentages = np.linspace(0.001 , 0.7, 20)\n",
    "linspace = np.linspace(10e-3, 10, num=10)\n",
    "\n",
    "f=[]\n",
    "auc=[]\n",
    "precision=[]\n",
    "recall=[]\n",
    "specificity=[]\n",
    "accuracy=[]\n",
    "\n",
    "f_s=[]\n",
    "auc_s=[]\n",
    "precision_s=[]\n",
    "recall_s=[]\n",
    "specificity_s=[]\n",
    "accuracy_s=[]\n",
    "\n",
    "f1=[]\n",
    "auc1=[]\n",
    "precision1=[]\n",
    "recall1=[]\n",
    "specificity1=[]\n",
    "accuracy1=[]\n",
    "\n",
    "f1_s=[]\n",
    "auc1_s=[]\n",
    "precision1_s=[]\n",
    "recall1_s=[]\n",
    "specificity1_s=[]\n",
    "accuracy1_s=[]\n",
    "\n",
    "\n",
    "for per in percentages:\n",
    "    print(\"percentage:\", per)\n",
    "    F, AUC, PRECISION, RECALL, SPECIFICITY, ACCURACY, Fs, AUCs, PRECISIONs, RECALLs, SPECIFICITYs, ACCURACYs, F1, AUC1, PRECISION1, RECALL1, SPECIFICITY1, ACCURACY1, F1s, AUC1s, PRECISION1s, RECALL1s, SPECIFICITY1s, ACCURACY1s = nested_CV_F_measure(X, y, splits, folds, linspace, dt, per, zeros)\n",
    "    f.append(F)\n",
    "    auc.append(AUC)\n",
    "    precision.append(PRECISION)\n",
    "    recall.append(RECALL)\n",
    "    specificity.append(SPECIFICITY)\n",
    "    accuracy.append(ACCURACY)\n",
    "    \n",
    "    f_s.append(Fs)\n",
    "    auc_s.append(AUCs)\n",
    "    precision_s.append(PRECISIONs)\n",
    "    recall_s.append(RECALLs)\n",
    "    specificity_s.append(SPECIFICITYs)\n",
    "    accuracy_s.append(ACCURACYs)\n",
    "    \n",
    "    f1.append(F1)\n",
    "    auc1.append(AUC1)\n",
    "    precision1.append(PRECISION1)\n",
    "    recall1.append(RECALL1)\n",
    "    specificity1.append(SPECIFICITY1)\n",
    "    accuracy1.append(ACCURACY1)\n",
    "    \n",
    "    f1_s.append(F1s)\n",
    "    auc1_s.append(AUC1s)\n",
    "    precision1_s.append(PRECISION1s)\n",
    "    recall1_s.append(RECALL1s)\n",
    "    specificity1_s.append(SPECIFICITY1s)\n",
    "    accuracy1_s.append(ACCURACY1s)\n",
    "    \n",
    "\n",
    "    \n",
    "np.save('/home/miquel/ForMiquel/CLEAN2/results_definitive/f_1', f)\n",
    "np.save('/home/miquel/ForMiquel/CLEAN2/results_definitive/auc_1', auc)\n",
    "np.save('/home/miquel/ForMiquel/CLEAN2/results_definitive/precision_1', precision)\n",
    "np.save('/home/miquel/ForMiquel/CLEAN2/results_definitive/recall_1', recall)\n",
    "np.save('/home/miquel/ForMiquel/CLEAN2/results_definitive/specificity_1', specificity)\n",
    "np.save('/home/miquel/ForMiquel/CLEAN2/results_definitive/accuracy_1', accuracy)\n",
    "\n",
    "np.save('/home/miquel/ForMiquel/CLEAN2/results_definitive/f_s_1', f_s)\n",
    "np.save('/home/miquel/ForMiquel/CLEAN2/results_definitive/auc_s_1', auc_s)\n",
    "np.save('/home/miquel/ForMiquel/CLEAN2/results_definitive/precision_s_1', precision_s)\n",
    "np.save('/home/miquel/ForMiquel/CLEAN2/results_definitive/recall_s_1', recall_s)\n",
    "np.save('/home/miquel/ForMiquel/CLEAN2/results_definitive/specificity_s_1', specificity_s)\n",
    "np.save('/home/miquel/ForMiquel/CLEAN2/results_definitive/accuracy_s_1', accuracy_s)\n",
    "\n",
    "np.save('/home/miquel/ForMiquel/CLEAN2/results_definitive/f1_1', f1)\n",
    "np.save('/home/miquel/ForMiquel/CLEAN2/results_definitive/auc1_1', auc1)\n",
    "np.save('/home/miquel/ForMiquel/CLEAN2/results_definitive/precision1_1', precision1)\n",
    "np.save('/home/miquel/ForMiquel/CLEAN2/results_definitive/recall1_1', recall1)\n",
    "np.save('/home/miquel/ForMiquel/CLEAN2/results_definitive/specificity1_1', specificity1)\n",
    "np.save('/home/miquel/ForMiquel/CLEAN2/results_definitive/accuracy1_1', accuracy1)\n",
    "\n",
    "np.save('/home/miquel/ForMiquel/CLEAN2/results_definitive/f1_s_1', f1_s)\n",
    "np.save('/home/miquel/ForMiquel/CLEAN2/results_definitive/auc1_s_1', auc1_s)\n",
    "np.save('/home/miquel/ForMiquel/CLEAN2/results_definitive/precision1_s_1', precision1_s)\n",
    "np.save('/home/miquel/ForMiquel/CLEAN2/results_definitive/recall1_s_1', recall1_s)\n",
    "np.save('/home/miquel/ForMiquel/CLEAN2/results_definitive/specificity1_s_1', specificity1_s)\n",
    "np.save('/home/miquel/ForMiquel/CLEAN2/results_definitive/accuracy1_s_1', accuracy1_s)\n",
    "\n"
   ]
  },
  {
   "cell_type": "code",
   "execution_count": 8,
   "metadata": {},
   "outputs": [
    {
     "data": {
      "text/plain": [
       "<matplotlib.figure.Figure at 0x7fbadfc385c0>"
      ]
     },
     "metadata": {},
     "output_type": "display_data"
    },
    {
     "data": {
      "image/png": "[encoded data removed]",
      "text/plain": [
       "<matplotlib.figure.Figure at 0x7fbadfcde550>"
      ]
     },
     "metadata": {},
     "output_type": "display_data"
    }
   ],
   "source": [
    "percentages = np.linspace(0.001 , 0.7, 20)\n",
    "\n",
    "auc = np.load('/home/miquel/ForMiquel/CLEAN2/results_definitive/auc_1.npy')\n",
    "accuracy = np.load('/home/miquel/ForMiquel/CLEAN2/results_definitive/accuracy_1.npy')\n",
    "precision = np.load('/home/miquel/ForMiquel/CLEAN2/results_definitive/precision_1.npy')\n",
    "recall = np.load('/home/miquel/ForMiquel/CLEAN2/results_definitive/recall_1.npy')\n",
    "f = np.load('/home/miquel/ForMiquel/CLEAN2/results_definitive/f_1.npy')\n",
    "specificity = np.load('/home/miquel/ForMiquel/CLEAN2/results_definitive/specificity_1.npy')\n",
    "\n",
    "plt.figure(figsize=(10,10))\n",
    "plt.plot(percentages, f, color='green', label='F1_score')\n",
    "plt.plot(percentages, auc, color='red', label='AUC')\n",
    "plt.plot(percentages, precision, color='blue', label='PRECISION')\n",
    "plt.plot(percentages, recall, color='orange', label='RECALL')\n",
    "plt.plot(percentages, specificity, color='pink', label='SPECIFICITY')\n",
    "plt.plot(percentages, accuracy, color='yellow', label='ACCURACY')\n",
    "\n",
    "plt.legend(loc='best')\n",
    "plt.xlabel('percentage')\n",
    "plt.title('metrics for each percentage')\n",
    "plt.show()  "
   ]
  },
  {
   "cell_type": "code",
   "execution_count": null,
   "metadata": {},
   "outputs": [],
   "source": []
  },
  {
   "cell_type": "code",
   "execution_count": null,
   "metadata": {},
   "outputs": [],
   "source": []
  },
  {
   "cell_type": "code",
   "execution_count": 18,
   "metadata": {},
   "outputs": [],
   "source": [
    "X=np.load('/home/miquel/ForMiquel/CLEAN2/X_c1_1j_full2.npy') \n",
    "y=np.load('/home/miquel/ForMiquel/CLEAN2/y_1j_full2.npy') #subject labels\n",
    "#sub_id=np.load('/home/miquel/ForMiquel/CLEAN2/sub_id_short.npy') #subject idxs\n",
    "#jac_idx=np.load('/home/miquel/ForMiquel/CLEAN2/jac_idx_1j_full2.npy')\n",
    "dt=np.load('/home/miquel/ForMiquel/CLEAN2/dt_full2.npy')\n",
    "zeros=np.load('/home/miquel/ForMiquel/CLEAN2/zero_cols_X_full2.npy')\n",
    "\n",
    "\n",
    "#X=np.load('/imatge/martigues/work/X_c1_1j_1y.npy') \n",
    "#y=np.load('/imatge/martigues/work/CLEAN2/y_1j_1y.npy') #subject labels\n",
    "#sub_id=np.load('/imatge/martigues/work/CLEAN2/sub_idx_1j_1y.npy') #subject idxs\n",
    "#jac_idx=np.load('/imatge/martigues/work/CLEAN2/jac_idx_1j_1y.npy')"
   ]
  },
  {
   "cell_type": "code",
   "execution_count": 20,
   "metadata": {},
   "outputs": [],
   "source": [
    "def CV_F_measure(X, y, dt, splits, c, percentage, zeros):\n",
    "   \n",
    "    \n",
    "    box = np.zeros((121,145,121))\n",
    "\n",
    "    SPECIFICITY=[]\n",
    "    PRECISION=[]\n",
    "    RECALL=[]\n",
    "    AUC=[]\n",
    "    AUC1=[]\n",
    "    F=[]\n",
    "    F1=[]\n",
    "    ACCURACY=[]\n",
    "    tp_l=[]\n",
    "    fp_l=[]\n",
    "    fn_l=[]\n",
    "    \n",
    "    spl = StratifiedShuffleSplit(n_splits=splits, test_size=0.3, random_state=42)\n",
    "    split=1\n",
    "    \n",
    "    for train_index, test_index in spl.split(X, y):\n",
    "        X_train = X[train_index,:]\n",
    "        y_train = y[train_index]\n",
    "        X_test = X[test_index,:]\n",
    "        y_test = y[test_index]\n",
    "        dt_train = dt[train_index]\n",
    "        dt_test = dt[test_index]\n",
    "        \n",
    "        mask = np.where(dt_train>1.09)#~400 days\n",
    "        mask = np.asarray(mask)\n",
    "        X_train = X_train[mask,:][0]\n",
    "        y_train = y_train[mask][0]\n",
    "        \n",
    "        print('shape X_train:', np.shape(X_train))\n",
    "        \n",
    "        print(\"split:\", split)\n",
    "        split = split + 1\n",
    "        \n",
    "        S = SelectPercentile(percentile=percentage)\n",
    "        S.fit(X_train, y_train)\n",
    "        \n",
    "        X_train_s = X_train[:,S.get_support()]\n",
    "        X_test_s = X_test[:,S.get_support()]\n",
    "\n",
    "        #clf = SVC(penalty='l1', kernel='linear', probability = True, C=c, class_weight='balanced')\n",
    "        clf = LogisticRegression(solver='liblinear', probability = True, penalty='l1', C=c, class_weight='balanced')\n",
    "        clf.fit(X_train_s, y_train)\n",
    "        pred = clf.predict(X_test_s)\n",
    "        probas_ = clf.predict_proba(X_test_s)\n",
    "        probas_ = probas_[:, 1]        \n",
    "\n",
    "        \n",
    "        \n",
    "        #preparation masks to test AUC as function of dt\n",
    "        mask1 = np.where(dt_test>1.09)#~400 days\n",
    "        mask1 = np.asarray(mask1)\n",
    "        pred_1 = pred[mask1][0]\n",
    "        y_test_1 = y_test[mask1][0]\n",
    "        probas_1 = probas_[mask1][0]\n",
    "        \n",
    "        conf = confusion_matrix(y_test, pred)\n",
    "        tp_l.append(conf[1,1])\n",
    "        fp_l.append(conf[0,1])\n",
    "        fn_l.append(conf[1,0])\n",
    "        \n",
    "        f1=f1_score(y_test, pred)\n",
    "        F.append(f1)\n",
    "        \n",
    "        f1_1=f1_score(y_test_1, pred_1)\n",
    "        if np.isnan(f1_1) == False:\n",
    "            F1.append(f1_1)\n",
    "        \n",
    "        \n",
    "        fpr, tpr, thresholds = roc_curve(y_test, probas_)\n",
    "        roc_auc = sklearn.metrics.auc(fpr, tpr)\n",
    "        AUC.append(roc_auc)\n",
    "        \n",
    "        fpr, tpr, thresholds = roc_curve(y_test_1, probas_1)\n",
    "        roc_auc_1 = sklearn.metrics.auc(fpr, tpr)\n",
    "        if np.isnan(roc_auc_1) == False:\n",
    "            AUC1.append(roc_auc_1)\n",
    "\n",
    "        \n",
    "        precision=precision_score(y_test, pred)\n",
    "        recall=recall_score(y_test, pred)\n",
    "        PRECISION.append(precision)\n",
    "        RECALL.append(recall)\n",
    "        specificity= (conf[0,0])/(conf[0,0]+conf[0,1])\n",
    "        SPECIFICITY.append(specificity)\n",
    "        acc=accuracy_score(y_test, pred)\n",
    "        ACCURACY.append(acc)\n",
    "        \n",
    "    \n",
    "        aux = np.zeros((121*145*121))\n",
    "        aux[~zeros] = np.asarray(S.get_support())\n",
    "        aux = np.reshape(aux, (121,145,121))\n",
    "        box = box + aux\n",
    "    \n",
    "    box = np.transpose(box)\n",
    "    #np.save('/home/miquel/ForMiquel/CLEAN2/Voxel_appareances_jacobian_' + str(splits) + '_' + str(percentage) + '_2y', box)\n",
    "    new_img = nib.Nifti1Image(box, np.eye(4))\n",
    "    #nib.save(new_img, 'img_Voxel_appareances_jacobian_' + str(splits) + '_' + str(percentage) + '_2y.nii.gz')\n",
    "    \n",
    "    \n",
    "    TP=np.sum(tp_l, axis=0)\n",
    "    FP=np.sum(fp_l, axis=0)\n",
    "    FN=np.sum(fn_l, axis=0)\n",
    "\n",
    "    \n",
    "    F_g=(2*TP)/(2*TP + FP + FN)\n",
    "    \n",
    "\n",
    "    print(\"ACCURACY_mean:\", np.mean(ACCURACY))\n",
    "    print(\"PRECISION_mean:\", np.mean(PRECISION))\n",
    "    print(\"RECALL_mean:\", np.mean(RECALL))\n",
    "    print(\"SPECIFICITY_mean:\", np.mean(SPECIFICITY))\n",
    "    print(\"F_mean:\", np.mean(F))\n",
    "    print(\"F1_mean:\", np.mean(F1))\n",
    "    print(\"AUC_mean:\", np.mean(AUC))\n",
    "    print(\"AUC1_mean:\", np.mean(AUC1))\n",
    "    \n",
    "    print(\"ACCURACY_std:\", np.std(ACCURACY))\n",
    "    print(\"PRECISION_std:\", np.std(PRECISION))\n",
    "    print(\"RECALL_std:\", np.std(RECALL))\n",
    "    print(\"SPECIFICITY_std:\", np.std(SPECIFICITY))\n",
    "    print(\"F_std:\", np.std(F))\n",
    "    print(\"F1_std:\", np.std(F1))\n",
    "    print(\"AUC_std:\", np.std(AUC))\n",
    "    print(\"AUC1_std:\", np.std(AUC1))\n",
    "    \n",
    "    return np.mean(F), np.mean(AUC), np.mean(PRECISION), np.mean(RECALL), np.mean(SPECIFICITY), np.mean(ACCURACY)"
   ]
  },
  {
   "cell_type": "code",
   "execution_count": 18,
   "metadata": {},
   "outputs": [
    {
     "name": "stdout",
     "output_type": "stream",
     "text": [
      "shape X_train: (54, 572738)\n",
      "split: 1\n"
     ]
    },
    {
     "name": "stderr",
     "output_type": "stream",
     "text": [
      "/usr/local/lib/python3.4/dist-packages/sklearn/feature_selection/univariate_selection.py:113: UserWarning: Features [     4     13     80 ..., 572733 572736 572737] are constant.\n",
      "  UserWarning)\n",
      "/usr/local/lib/python3.4/dist-packages/sklearn/feature_selection/univariate_selection.py:114: RuntimeWarning: invalid value encountered in true_divide\n",
      "  f = msb / msw\n"
     ]
    },
    {
     "ename": "TypeError",
     "evalue": "__init__() got an unexpected keyword argument 'probability'",
     "output_type": "error",
     "traceback": [
      "\u001b[0;31m---------------------------------------------------------------------------\u001b[0m",
      "\u001b[0;31mTypeError\u001b[0m                                 Traceback (most recent call last)",
      "\u001b[0;32m<ipython-input-18-0aa878bad984>\u001b[0m in \u001b[0;36m<module>\u001b[0;34m()\u001b[0m\n\u001b[1;32m      2\u001b[0m \u001b[0mc\u001b[0m\u001b[0;34m=\u001b[0m\u001b[0;36m1000\u001b[0m\u001b[0;34m\u001b[0m\u001b[0m\n\u001b[1;32m      3\u001b[0m \u001b[0mpercentage\u001b[0m \u001b[0;34m=\u001b[0m \u001b[0;36m1\u001b[0m\u001b[0;34m\u001b[0m\u001b[0m\n\u001b[0;32m----> 4\u001b[0;31m \u001b[0mF\u001b[0m\u001b[0;34m,\u001b[0m \u001b[0mAUC\u001b[0m\u001b[0;34m,\u001b[0m \u001b[0mPRECISION\u001b[0m\u001b[0;34m,\u001b[0m \u001b[0mRECALL\u001b[0m\u001b[0;34m,\u001b[0m \u001b[0mSPECIFICITY\u001b[0m\u001b[0;34m,\u001b[0m \u001b[0mACCURACY\u001b[0m \u001b[0;34m=\u001b[0m \u001b[0mCV_F_measure\u001b[0m\u001b[0;34m(\u001b[0m\u001b[0mX\u001b[0m\u001b[0;34m,\u001b[0m \u001b[0my\u001b[0m\u001b[0;34m,\u001b[0m \u001b[0mdt\u001b[0m\u001b[0;34m,\u001b[0m \u001b[0msplits\u001b[0m\u001b[0;34m,\u001b[0m \u001b[0mc\u001b[0m\u001b[0;34m,\u001b[0m \u001b[0mpercentage\u001b[0m\u001b[0;34m,\u001b[0m \u001b[0mzeros\u001b[0m\u001b[0;34m)\u001b[0m\u001b[0;34m\u001b[0m\u001b[0m\n\u001b[0m\u001b[1;32m      5\u001b[0m \u001b[0mos\u001b[0m\u001b[0;34m.\u001b[0m\u001b[0msystem\u001b[0m\u001b[0;34m(\u001b[0m\u001b[0;34m'espeak \"la ejecución ha terminadoooooooooooooooooooooooooo\"'\u001b[0m\u001b[0;34m)\u001b[0m\u001b[0;34m\u001b[0m\u001b[0m\n",
      "\u001b[0;32m<ipython-input-17-a473130f07b7>\u001b[0m in \u001b[0;36mCV_F_measure\u001b[0;34m(X, y, dt, splits, c, percentage, zeros)\u001b[0m\n\u001b[1;32m     44\u001b[0m \u001b[0;34m\u001b[0m\u001b[0m\n\u001b[1;32m     45\u001b[0m         \u001b[0;31m#clf = SVC(penalty='l1', kernel='linear', probability = True, C=c, class_weight='balanced')\u001b[0m\u001b[0;34m\u001b[0m\u001b[0;34m\u001b[0m\u001b[0m\n\u001b[0;32m---> 46\u001b[0;31m         \u001b[0mclf\u001b[0m \u001b[0;34m=\u001b[0m \u001b[0mLogisticRegression\u001b[0m\u001b[0;34m(\u001b[0m\u001b[0msolver\u001b[0m\u001b[0;34m=\u001b[0m\u001b[0;34m'liblinear'\u001b[0m\u001b[0;34m,\u001b[0m \u001b[0mprobability\u001b[0m \u001b[0;34m=\u001b[0m \u001b[0;32mTrue\u001b[0m\u001b[0;34m,\u001b[0m \u001b[0mpenalty\u001b[0m\u001b[0;34m=\u001b[0m\u001b[0;34m'l1'\u001b[0m\u001b[0;34m,\u001b[0m \u001b[0mC\u001b[0m\u001b[0;34m=\u001b[0m\u001b[0mc\u001b[0m\u001b[0;34m,\u001b[0m \u001b[0mclass_weight\u001b[0m\u001b[0;34m=\u001b[0m\u001b[0;34m'balanced'\u001b[0m\u001b[0;34m)\u001b[0m\u001b[0;34m\u001b[0m\u001b[0m\n\u001b[0m\u001b[1;32m     47\u001b[0m         \u001b[0mclf\u001b[0m\u001b[0;34m.\u001b[0m\u001b[0mfit\u001b[0m\u001b[0;34m(\u001b[0m\u001b[0mX_train_s\u001b[0m\u001b[0;34m,\u001b[0m \u001b[0my_train\u001b[0m\u001b[0;34m)\u001b[0m\u001b[0;34m\u001b[0m\u001b[0m\n\u001b[1;32m     48\u001b[0m         \u001b[0mpred\u001b[0m \u001b[0;34m=\u001b[0m \u001b[0mclf\u001b[0m\u001b[0;34m.\u001b[0m\u001b[0mpredict\u001b[0m\u001b[0;34m(\u001b[0m\u001b[0mX_test_s\u001b[0m\u001b[0;34m)\u001b[0m\u001b[0;34m\u001b[0m\u001b[0m\n",
      "\u001b[0;31mTypeError\u001b[0m: __init__() got an unexpected keyword argument 'probability'"
     ]
    }
   ],
   "source": [
    "splits = 100\n",
    "c=1000\n",
    "percentage = 1\n",
    "F, AUC, PRECISION, RECALL, SPECIFICITY, ACCURACY = CV_F_measure(X, y, dt, splits, c, percentage, zeros)\n",
    "os.system('espeak \"la ejecución ha terminadoooooooooooooooooooooooooo\"')"
   ]
  },
  {
   "cell_type": "code",
   "execution_count": 74,
   "metadata": {},
   "outputs": [],
   "source": [
    "X=np.load('/home/miquel/ForMiquel/CLEAN2/X_c1_c2.npy') \n",
    "y=np.load('/home/miquel/ForMiquel/CLEAN2/y.npy') #jacobian labels\n",
    "y_short=np.load('/home/miquel/ForMiquel/CLEAN2/y_short.npy') #subject labels\n",
    "sub_id=np.load('/home/miquel/ForMiquel/CLEAN2/sub_id.npy') #jacobian idxs\n",
    "sub_id_short=np.load('/home/miquel/ForMiquel/CLEAN2/sub_id_short.npy') #subject idxs\n",
    "dt=(np.load('/home/miquel/ForMiquel/CLEAN2/dt.npy'))/365 #subject idxs\n",
    "zeros=np.load('/home/miquel/ForMiquel/CLEAN2/zero_cols_JB_c1_c2.npy') #subject idxs"
   ]
  },
  {
   "cell_type": "code",
   "execution_count": 75,
   "metadata": {},
   "outputs": [],
   "source": [
    "def CV_F_measure(X, y, sub_id, dt, splits, c, percentage, zeros, y_short, sub_id_short):\n",
    "   \n",
    "    \n",
    "    box = np.zeros((121,145,121))\n",
    "\n",
    "    SPECIFICITY=[]\n",
    "    PRECISION=[]\n",
    "    RECALL=[]\n",
    "    AUC=[]\n",
    "    AUC1=[]\n",
    "    F=[]\n",
    "    F1=[]\n",
    "    ACCURACY=[]\n",
    "    tp_l=[]\n",
    "    fp_l=[]\n",
    "    fn_l=[]\n",
    "    \n",
    "    spl = StratifiedShuffleSplit(n_splits=splits, test_size=0.3, random_state=42)\n",
    "    split=1\n",
    "    \n",
    "    for train_index, test_index in spl.split(sub_id_short, y_short): #split in subjects\n",
    "        sub_id_train = sub_id_short[train_index] #search subject train idxs\n",
    "        idx = np.isin(sub_id, sub_id_train) #match train idxs \n",
    "        X_train = X[idx,:]\n",
    "        X_test = X[~idx,:]\n",
    "        y_train = y[idx]\n",
    "        y_test = y[~idx]\n",
    "        dt_train = dt[idx]\n",
    "        dt_test = dt[~idx]\n",
    "        \n",
    "        mask = np.where(dt_train>1.09)#~400 days\n",
    "        mask = np.asarray(mask)\n",
    "        X_train = X_train[mask,:][0]\n",
    "        y_train = y_train[mask][0]\n",
    "        \n",
    "        print('shape X_train:', np.shape(X_train))\n",
    "        \n",
    "        print(\"split:\", split)\n",
    "        split = split + 1\n",
    "        \n",
    "        S = SelectPercentile(percentile=percentage)\n",
    "        S.fit(X_train, y_train)\n",
    "        \n",
    "        X_train_s = X_train[:,S.get_support()]\n",
    "        X_test_s = X_test[:,S.get_support()]\n",
    "\n",
    "        clf = LogisticRegression(solver='liblinear', penalty='l2', C=c, class_weight=None)\n",
    "        clf.fit(X_train_s, y_train)\n",
    "        pred = clf.predict(X_test_s)\n",
    "        probas_ = clf.predict_proba(X_test_s)\n",
    "        probas_ = probas_[:, 1]        \n",
    "\n",
    "        \n",
    "        \n",
    "        #preparation masks to test AUC as function of dt\n",
    "        mask1 = np.where(dt_test>1.09)#~400 days\n",
    "        mask1 = np.asarray(mask1)\n",
    "        pred_1 = pred[mask1][0]\n",
    "        y_test_1 = y_test[mask1][0]\n",
    "        probas_1 = probas_[mask1][0]\n",
    "        \n",
    "        conf = confusion_matrix(y_test, pred)\n",
    "        tp_l.append(conf[1,1])\n",
    "        fp_l.append(conf[0,1])\n",
    "        fn_l.append(conf[1,0])\n",
    "        \n",
    "        f1=f1_score(y_test, pred)\n",
    "        F.append(f1)\n",
    "        \n",
    "        f1_1=f1_score(y_test_1, pred_1)\n",
    "        if np.isnan(f1_1) == False:\n",
    "            F1.append(f1_1)\n",
    "        \n",
    "        \n",
    "        fpr, tpr, thresholds = roc_curve(y_test, probas_)\n",
    "        roc_auc = sklearn.metrics.auc(fpr, tpr)\n",
    "        AUC.append(roc_auc)\n",
    "        \n",
    "        fpr, tpr, thresholds = roc_curve(y_test_1, probas_1)\n",
    "        roc_auc_1 = sklearn.metrics.auc(fpr, tpr)\n",
    "        if np.isnan(roc_auc_1) == False:\n",
    "            AUC1.append(roc_auc_1)\n",
    "\n",
    "        \n",
    "        precision=precision_score(y_test, pred)\n",
    "        recall=recall_score(y_test, pred)\n",
    "        PRECISION.append(precision)\n",
    "        RECALL.append(recall)\n",
    "        specificity= (conf[0,0])/(conf[0,0]+conf[0,1])\n",
    "        SPECIFICITY.append(specificity)\n",
    "        acc=accuracy_score(y_test, pred)\n",
    "        ACCURACY.append(acc)\n",
    "        \n",
    "    \n",
    "        aux = np.zeros((121*145*121))\n",
    "        aux[~zeros] = np.asarray(S.get_support())\n",
    "        aux = np.reshape(aux, (121,145,121))\n",
    "        box = box + aux\n",
    "    \n",
    "    box = np.transpose(box)\n",
    "    #np.save('/home/miquel/ForMiquel/CLEAN2/Voxel_appareances_jacobian_' + str(splits) + '_' + str(percentage) + '_2y', box)\n",
    "    new_img = nib.Nifti1Image(box, np.eye(4))\n",
    "    #nib.save(new_img, 'img_Voxel_appareances_jacobian_' + str(splits) + '_' + str(percentage) + '_2y.nii.gz')\n",
    "    \n",
    "    \n",
    "    TP=np.sum(tp_l, axis=0)\n",
    "    FP=np.sum(fp_l, axis=0)\n",
    "    FN=np.sum(fn_l, axis=0)\n",
    "\n",
    "    \n",
    "    F_g=(2*TP)/(2*TP + FP + FN)\n",
    "    \n",
    "\n",
    "    print(\"ACCURACY_mean:\", np.mean(ACCURACY))\n",
    "    print(\"PRECISION_mean:\", np.mean(PRECISION))\n",
    "    print(\"RECALL_mean:\", np.mean(RECALL))\n",
    "    print(\"SPECIFICITY_mean:\", np.mean(SPECIFICITY))\n",
    "    print(\"F_mean:\", np.mean(F))\n",
    "    print(\"F1_mean:\", np.mean(F1))\n",
    "    print(\"AUC_mean:\", np.mean(AUC))\n",
    "    print(\"AUC1_mean:\", np.mean(AUC1))\n",
    "    \n",
    "    print(\"ACCURACY_std:\", np.std(ACCURACY))\n",
    "    print(\"PRECISION_std:\", np.std(PRECISION))\n",
    "    print(\"RECALL_std:\", np.std(RECALL))\n",
    "    print(\"SPECIFICITY_std:\", np.std(SPECIFICITY))\n",
    "    print(\"F_std:\", np.std(F))\n",
    "    print(\"F1_std:\", np.std(F1))\n",
    "    print(\"AUC_std:\", np.std(AUC))\n",
    "    print(\"AUC1_std:\", np.std(AUC1))\n",
    "    \n",
    "    return np.mean(F), np.mean(AUC), np.mean(PRECISION), np.mean(RECALL), np.mean(SPECIFICITY), np.mean(ACCURACY)"
   ]
  },
  {
   "cell_type": "code",
   "execution_count": null,
   "metadata": {},
   "outputs": [],
   "source": []
  },
  {
   "cell_type": "code",
   "execution_count": 77,
   "metadata": {},
   "outputs": [
    {
     "name": "stdout",
     "output_type": "stream",
     "text": [
      "shape X_train: (148, 580927)\n",
      "split: 1\n"
     ]
    },
    {
     "name": "stderr",
     "output_type": "stream",
     "text": [
      "/usr/local/lib/python3.4/dist-packages/sklearn/feature_selection/univariate_selection.py:113: UserWarning: Features [    13     90     99 ..., 580922 580925 580926] are constant.\n",
      "  UserWarning)\n",
      "/usr/local/lib/python3.4/dist-packages/sklearn/feature_selection/univariate_selection.py:114: RuntimeWarning: invalid value encountered in true_divide\n",
      "  f = msb / msw\n"
     ]
    },
    {
     "name": "stdout",
     "output_type": "stream",
     "text": [
      "shape X_train: (135, 580927)\n",
      "split: 2\n"
     ]
    },
    {
     "name": "stderr",
     "output_type": "stream",
     "text": [
      "/usr/local/lib/python3.4/dist-packages/sklearn/feature_selection/univariate_selection.py:113: UserWarning: Features [   129    140    151 ..., 580917 580918 580919] are constant.\n",
      "  UserWarning)\n"
     ]
    },
    {
     "name": "stdout",
     "output_type": "stream",
     "text": [
      "shape X_train: (110, 580927)\n",
      "split: 3\n"
     ]
    },
    {
     "name": "stderr",
     "output_type": "stream",
     "text": [
      "/usr/local/lib/python3.4/dist-packages/sklearn/feature_selection/univariate_selection.py:113: UserWarning: Features [     4     13     90 ..., 580917 580918 580919] are constant.\n",
      "  UserWarning)\n"
     ]
    },
    {
     "name": "stdout",
     "output_type": "stream",
     "text": [
      "shape X_train: (139, 580927)\n",
      "split: 4\n"
     ]
    },
    {
     "name": "stderr",
     "output_type": "stream",
     "text": [
      "/usr/local/lib/python3.4/dist-packages/sklearn/feature_selection/univariate_selection.py:113: UserWarning: Features [   129    140    175 ..., 580922 580925 580926] are constant.\n",
      "  UserWarning)\n"
     ]
    },
    {
     "name": "stdout",
     "output_type": "stream",
     "text": [
      "shape X_train: (131, 580927)\n",
      "split: 5\n"
     ]
    },
    {
     "name": "stderr",
     "output_type": "stream",
     "text": [
      "/usr/local/lib/python3.4/dist-packages/sklearn/feature_selection/univariate_selection.py:113: UserWarning: Features [   129    140    175 ..., 580924 580925 580926] are constant.\n",
      "  UserWarning)\n"
     ]
    },
    {
     "name": "stdout",
     "output_type": "stream",
     "text": [
      "shape X_train: (115, 580927)\n",
      "split: 6\n"
     ]
    },
    {
     "name": "stderr",
     "output_type": "stream",
     "text": [
      "/usr/local/lib/python3.4/dist-packages/sklearn/feature_selection/univariate_selection.py:113: UserWarning: Features [   129    140    151 ..., 580905 580906 580907] are constant.\n",
      "  UserWarning)\n"
     ]
    },
    {
     "name": "stdout",
     "output_type": "stream",
     "text": [
      "shape X_train: (124, 580927)\n",
      "split: 7\n"
     ]
    },
    {
     "name": "stderr",
     "output_type": "stream",
     "text": [
      "/usr/local/lib/python3.4/dist-packages/sklearn/feature_selection/univariate_selection.py:113: UserWarning: Features [    85    129    140 ..., 580922 580925 580926] are constant.\n",
      "  UserWarning)\n"
     ]
    },
    {
     "name": "stdout",
     "output_type": "stream",
     "text": [
      "shape X_train: (143, 580927)\n",
      "split: 8\n"
     ]
    },
    {
     "name": "stderr",
     "output_type": "stream",
     "text": [
      "/usr/local/lib/python3.4/dist-packages/sklearn/feature_selection/univariate_selection.py:113: UserWarning: Features [   129    140    175 ..., 580906 580907 580924] are constant.\n",
      "  UserWarning)\n"
     ]
    },
    {
     "name": "stdout",
     "output_type": "stream",
     "text": [
      "shape X_train: (130, 580927)\n",
      "split: 9\n"
     ]
    },
    {
     "name": "stderr",
     "output_type": "stream",
     "text": [
      "/usr/local/lib/python3.4/dist-packages/sklearn/feature_selection/univariate_selection.py:113: UserWarning: Features [    13     90     99 ..., 580920 580921 580924] are constant.\n",
      "  UserWarning)\n"
     ]
    },
    {
     "name": "stdout",
     "output_type": "stream",
     "text": [
      "shape X_train: (144, 580927)\n",
      "split: 10\n"
     ]
    },
    {
     "name": "stderr",
     "output_type": "stream",
     "text": [
      "/usr/local/lib/python3.4/dist-packages/sklearn/feature_selection/univariate_selection.py:113: UserWarning: Features [    13     90     99 ..., 580905 580906 580907] are constant.\n",
      "  UserWarning)\n"
     ]
    },
    {
     "name": "stdout",
     "output_type": "stream",
     "text": [
      "shape X_train: (114, 580927)\n",
      "split: 11\n"
     ]
    },
    {
     "name": "stderr",
     "output_type": "stream",
     "text": [
      "/usr/local/lib/python3.4/dist-packages/sklearn/feature_selection/univariate_selection.py:113: UserWarning: Features [   129    140    151 ..., 580914 580915 580924] are constant.\n",
      "  UserWarning)\n"
     ]
    },
    {
     "name": "stdout",
     "output_type": "stream",
     "text": [
      "shape X_train: (126, 580927)\n",
      "split: 12\n",
      "shape X_train: (132, 580927)\n",
      "split: 13\n"
     ]
    },
    {
     "name": "stderr",
     "output_type": "stream",
     "text": [
      "/usr/local/lib/python3.4/dist-packages/sklearn/feature_selection/univariate_selection.py:113: UserWarning: Features [   129    140    175 ..., 580905 580906 580907] are constant.\n",
      "  UserWarning)\n"
     ]
    },
    {
     "name": "stdout",
     "output_type": "stream",
     "text": [
      "shape X_train: (133, 580927)\n",
      "split: 14\n",
      "shape X_train: (130, 580927)\n",
      "split: 15\n",
      "shape X_train: (140, 580927)\n",
      "split: 16\n"
     ]
    },
    {
     "name": "stderr",
     "output_type": "stream",
     "text": [
      "/usr/local/lib/python3.4/dist-packages/sklearn/feature_selection/univariate_selection.py:113: UserWarning: Features [    71    129    140 ..., 580905 580906 580907] are constant.\n",
      "  UserWarning)\n"
     ]
    },
    {
     "name": "stdout",
     "output_type": "stream",
     "text": [
      "shape X_train: (113, 580927)\n",
      "split: 17\n"
     ]
    },
    {
     "name": "stderr",
     "output_type": "stream",
     "text": [
      "/usr/local/lib/python3.4/dist-packages/sklearn/feature_selection/univariate_selection.py:113: UserWarning: Features [   129    140    175 ..., 580920 580921 580924] are constant.\n",
      "  UserWarning)\n"
     ]
    },
    {
     "name": "stdout",
     "output_type": "stream",
     "text": [
      "shape X_train: (120, 580927)\n",
      "split: 18\n",
      "shape X_train: (155, 580927)\n",
      "split: 19\n",
      "shape X_train: (147, 580927)\n",
      "split: 20\n"
     ]
    },
    {
     "name": "stderr",
     "output_type": "stream",
     "text": [
      "/usr/local/lib/python3.4/dist-packages/sklearn/feature_selection/univariate_selection.py:113: UserWarning: Features [   129    140    175 ..., 580913 580914 580915] are constant.\n",
      "  UserWarning)\n"
     ]
    },
    {
     "name": "stdout",
     "output_type": "stream",
     "text": [
      "shape X_train: (129, 580927)\n",
      "split: 21\n",
      "shape X_train: (128, 580927)\n",
      "split: 22\n",
      "shape X_train: (113, 580927)\n",
      "split: 23\n"
     ]
    },
    {
     "name": "stderr",
     "output_type": "stream",
     "text": [
      "/usr/local/lib/python3.4/dist-packages/sklearn/feature_selection/univariate_selection.py:113: UserWarning: Features [    13     90     99 ..., 580914 580915 580924] are constant.\n",
      "  UserWarning)\n"
     ]
    },
    {
     "name": "stdout",
     "output_type": "stream",
     "text": [
      "shape X_train: (132, 580927)\n",
      "split: 24\n"
     ]
    },
    {
     "name": "stderr",
     "output_type": "stream",
     "text": [
      "/usr/local/lib/python3.4/dist-packages/sklearn/feature_selection/univariate_selection.py:113: UserWarning: Features [    85    129    140 ..., 580905 580906 580907] are constant.\n",
      "  UserWarning)\n"
     ]
    },
    {
     "name": "stdout",
     "output_type": "stream",
     "text": [
      "shape X_train: (137, 580927)\n",
      "split: 25\n"
     ]
    },
    {
     "name": "stderr",
     "output_type": "stream",
     "text": [
      "/usr/local/lib/python3.4/dist-packages/sklearn/feature_selection/univariate_selection.py:113: UserWarning: Features [   129    140    175 ..., 580917 580918 580919] are constant.\n",
      "  UserWarning)\n"
     ]
    },
    {
     "name": "stdout",
     "output_type": "stream",
     "text": [
      "shape X_train: (138, 580927)\n",
      "split: 26\n"
     ]
    },
    {
     "name": "stderr",
     "output_type": "stream",
     "text": [
      "/usr/local/lib/python3.4/dist-packages/sklearn/feature_selection/univariate_selection.py:113: UserWarning: Features [   129    140    151 ..., 580922 580925 580926] are constant.\n",
      "  UserWarning)\n"
     ]
    },
    {
     "name": "stdout",
     "output_type": "stream",
     "text": [
      "shape X_train: (123, 580927)\n",
      "split: 27\n"
     ]
    },
    {
     "name": "stderr",
     "output_type": "stream",
     "text": [
      "/usr/local/lib/python3.4/dist-packages/sklearn/feature_selection/univariate_selection.py:113: UserWarning: Features [    85    129    140 ..., 580906 580907 580924] are constant.\n",
      "  UserWarning)\n"
     ]
    },
    {
     "name": "stdout",
     "output_type": "stream",
     "text": [
      "shape X_train: (129, 580927)\n",
      "split: 28\n",
      "shape X_train: (126, 580927)\n",
      "split: 29\n"
     ]
    },
    {
     "name": "stderr",
     "output_type": "stream",
     "text": [
      "/usr/local/lib/python3.4/dist-packages/sklearn/feature_selection/univariate_selection.py:113: UserWarning: Features [    13     90     99 ..., 580917 580918 580919] are constant.\n",
      "  UserWarning)\n"
     ]
    },
    {
     "name": "stdout",
     "output_type": "stream",
     "text": [
      "shape X_train: (127, 580927)\n",
      "split: 30\n",
      "shape X_train: (133, 580927)\n",
      "split: 31\n",
      "shape X_train: (131, 580927)\n",
      "split: 32\n"
     ]
    },
    {
     "name": "stderr",
     "output_type": "stream",
     "text": [
      "/usr/local/lib/python3.4/dist-packages/sklearn/feature_selection/univariate_selection.py:113: UserWarning: Features [    85    129    140 ..., 580917 580918 580919] are constant.\n",
      "  UserWarning)\n"
     ]
    },
    {
     "name": "stdout",
     "output_type": "stream",
     "text": [
      "shape X_train: (127, 580927)\n",
      "split: 33\n",
      "shape X_train: (125, 580927)\n",
      "split: 34\n",
      "shape X_train: (154, 580927)\n",
      "split: 35\n",
      "shape X_train: (126, 580927)\n",
      "split: 36\n"
     ]
    },
    {
     "name": "stderr",
     "output_type": "stream",
     "text": [
      "/usr/local/lib/python3.4/dist-packages/sklearn/feature_selection/univariate_selection.py:113: UserWarning: Features [    85    129    140 ..., 580924 580925 580926] are constant.\n",
      "  UserWarning)\n"
     ]
    },
    {
     "name": "stdout",
     "output_type": "stream",
     "text": [
      "shape X_train: (125, 580927)\n",
      "split: 37\n",
      "shape X_train: (130, 580927)\n",
      "split: 38\n",
      "shape X_train: (129, 580927)\n",
      "split: 39\n",
      "shape X_train: (130, 580927)\n",
      "split: 40\n",
      "shape X_train: (108, 580927)\n",
      "split: 41\n",
      "shape X_train: (128, 580927)\n",
      "split: 42\n"
     ]
    },
    {
     "name": "stderr",
     "output_type": "stream",
     "text": [
      "/usr/local/lib/python3.4/dist-packages/sklearn/feature_selection/univariate_selection.py:113: UserWarning: Features [    13     90     99 ..., 580913 580914 580915] are constant.\n",
      "  UserWarning)\n"
     ]
    },
    {
     "name": "stdout",
     "output_type": "stream",
     "text": [
      "shape X_train: (135, 580927)\n",
      "split: 43\n",
      "shape X_train: (139, 580927)\n",
      "split: 44\n",
      "shape X_train: (143, 580927)\n",
      "split: 45\n",
      "shape X_train: (145, 580927)\n",
      "split: 46\n",
      "shape X_train: (128, 580927)\n",
      "split: 47\n",
      "shape X_train: (141, 580927)\n",
      "split: 48\n",
      "shape X_train: (122, 580927)\n",
      "split: 49\n",
      "shape X_train: (135, 580927)\n",
      "split: 50\n",
      "shape X_train: (118, 580927)\n",
      "split: 51\n",
      "shape X_train: (122, 580927)\n",
      "split: 52\n"
     ]
    },
    {
     "name": "stderr",
     "output_type": "stream",
     "text": [
      "/usr/local/lib/python3.4/dist-packages/sklearn/feature_selection/univariate_selection.py:113: UserWarning: Features [    72    129    140 ..., 580922 580925 580926] are constant.\n",
      "  UserWarning)\n"
     ]
    },
    {
     "name": "stdout",
     "output_type": "stream",
     "text": [
      "shape X_train: (119, 580927)\n",
      "split: 53\n",
      "shape X_train: (140, 580927)\n",
      "split: 54\n",
      "shape X_train: (152, 580927)\n",
      "split: 55\n",
      "shape X_train: (128, 580927)\n",
      "split: 56\n",
      "shape X_train: (121, 580927)\n",
      "split: 57\n",
      "shape X_train: (119, 580927)\n",
      "split: 58\n",
      "shape X_train: (140, 580927)\n",
      "split: 59\n",
      "shape X_train: (135, 580927)\n",
      "split: 60\n",
      "shape X_train: (142, 580927)\n",
      "split: 61\n"
     ]
    },
    {
     "name": "stderr",
     "output_type": "stream",
     "text": [
      "/usr/local/lib/python3.4/dist-packages/sklearn/feature_selection/univariate_selection.py:113: UserWarning: Features [   129    140    151 ..., 580913 580914 580915] are constant.\n",
      "  UserWarning)\n"
     ]
    },
    {
     "name": "stdout",
     "output_type": "stream",
     "text": [
      "shape X_train: (136, 580927)\n",
      "split: 62\n",
      "shape X_train: (132, 580927)\n",
      "split: 63\n"
     ]
    },
    {
     "name": "stderr",
     "output_type": "stream",
     "text": [
      "/usr/local/lib/python3.4/dist-packages/sklearn/feature_selection/univariate_selection.py:113: UserWarning: Features [    13     90     99 ..., 580906 580907 580924] are constant.\n",
      "  UserWarning)\n"
     ]
    },
    {
     "name": "stdout",
     "output_type": "stream",
     "text": [
      "shape X_train: (125, 580927)\n",
      "split: 64\n",
      "shape X_train: (132, 580927)\n",
      "split: 65\n",
      "shape X_train: (143, 580927)\n",
      "split: 66\n",
      "shape X_train: (149, 580927)\n",
      "split: 67\n"
     ]
    },
    {
     "name": "stderr",
     "output_type": "stream",
     "text": [
      "/usr/local/lib/python3.4/dist-packages/sklearn/feature_selection/univariate_selection.py:113: UserWarning: Features [    13     90     99 ..., 580924 580925 580926] are constant.\n",
      "  UserWarning)\n"
     ]
    },
    {
     "name": "stdout",
     "output_type": "stream",
     "text": [
      "shape X_train: (129, 580927)\n",
      "split: 68\n",
      "shape X_train: (141, 580927)\n",
      "split: 69\n",
      "shape X_train: (132, 580927)\n",
      "split: 70\n",
      "shape X_train: (126, 580927)\n",
      "split: 71\n",
      "shape X_train: (140, 580927)\n",
      "split: 72\n",
      "shape X_train: (136, 580927)\n",
      "split: 73\n",
      "shape X_train: (116, 580927)\n",
      "split: 74\n",
      "shape X_train: (114, 580927)\n",
      "split: 75\n",
      "shape X_train: (139, 580927)\n",
      "split: 76\n",
      "shape X_train: (148, 580927)\n",
      "split: 77\n",
      "shape X_train: (133, 580927)\n",
      "split: 78\n",
      "shape X_train: (124, 580927)\n",
      "split: 79\n",
      "shape X_train: (118, 580927)\n",
      "split: 80\n",
      "shape X_train: (139, 580927)\n",
      "split: 81\n",
      "shape X_train: (132, 580927)\n",
      "split: 82\n",
      "shape X_train: (122, 580927)\n",
      "split: 83\n"
     ]
    },
    {
     "name": "stderr",
     "output_type": "stream",
     "text": [
      "/usr/local/lib/python3.4/dist-packages/sklearn/feature_selection/univariate_selection.py:113: UserWarning: Features [     4     13     90 ..., 580905 580906 580907] are constant.\n",
      "  UserWarning)\n"
     ]
    },
    {
     "name": "stdout",
     "output_type": "stream",
     "text": [
      "shape X_train: (117, 580927)\n",
      "split: 84\n",
      "shape X_train: (132, 580927)\n",
      "split: 85\n",
      "shape X_train: (118, 580927)\n",
      "split: 86\n"
     ]
    },
    {
     "name": "stderr",
     "output_type": "stream",
     "text": [
      "/usr/local/lib/python3.4/dist-packages/sklearn/feature_selection/univariate_selection.py:113: UserWarning: Features [   129    140    175 ..., 580914 580915 580924] are constant.\n",
      "  UserWarning)\n"
     ]
    },
    {
     "name": "stdout",
     "output_type": "stream",
     "text": [
      "shape X_train: (133, 580927)\n",
      "split: 87\n",
      "shape X_train: (122, 580927)\n",
      "split: 88\n",
      "shape X_train: (128, 580927)\n",
      "split: 89\n",
      "shape X_train: (126, 580927)\n",
      "split: 90\n"
     ]
    },
    {
     "name": "stderr",
     "output_type": "stream",
     "text": [
      "/usr/local/lib/python3.4/dist-packages/sklearn/feature_selection/univariate_selection.py:113: UserWarning: Features [   129    140    151 ..., 580924 580925 580926] are constant.\n",
      "  UserWarning)\n"
     ]
    },
    {
     "name": "stdout",
     "output_type": "stream",
     "text": [
      "shape X_train: (135, 580927)\n",
      "split: 91\n",
      "shape X_train: (144, 580927)\n",
      "split: 92\n",
      "shape X_train: (124, 580927)\n",
      "split: 93\n",
      "shape X_train: (130, 580927)\n",
      "split: 94\n",
      "shape X_train: (123, 580927)\n",
      "split: 95\n",
      "shape X_train: (128, 580927)\n",
      "split: 96\n",
      "shape X_train: (115, 580927)\n",
      "split: 97\n"
     ]
    },
    {
     "name": "stderr",
     "output_type": "stream",
     "text": [
      "/usr/local/lib/python3.4/dist-packages/sklearn/feature_selection/univariate_selection.py:113: UserWarning: Features [   129    140    151 ..., 580906 580907 580924] are constant.\n",
      "  UserWarning)\n"
     ]
    },
    {
     "name": "stdout",
     "output_type": "stream",
     "text": [
      "shape X_train: (126, 580927)\n",
      "split: 98\n",
      "shape X_train: (118, 580927)\n",
      "split: 99\n"
     ]
    },
    {
     "name": "stderr",
     "output_type": "stream",
     "text": [
      "/usr/local/lib/python3.4/dist-packages/sklearn/feature_selection/univariate_selection.py:113: UserWarning: Features [    13     85     90 ..., 580920 580921 580924] are constant.\n",
      "  UserWarning)\n"
     ]
    },
    {
     "name": "stdout",
     "output_type": "stream",
     "text": [
      "shape X_train: (128, 580927)\n",
      "split: 100\n",
      "ACCURACY_mean: 0.656068755891\n",
      "PRECISION_mean: 0.603646156176\n",
      "RECALL_mean: 0.393305853496\n",
      "SPECIFICITY_mean: 0.831329304412\n",
      "F_mean: 0.459815538062\n",
      "F1_mean: 0.546985213232\n",
      "AUC_mean: 0.596665241127\n",
      "AUC1_mean: 0.677377946409\n",
      "ACCURACY_std: 0.0615914759374\n",
      "PRECISION_std: 0.179656817894\n",
      "RECALL_std: 0.11325204936\n",
      "SPECIFICITY_std: 0.0903755206378\n",
      "F_std: 0.107992560677\n",
      "F1_std: 0.128341549971\n",
      "AUC_std: 0.0886575994902\n",
      "AUC1_std: 0.116204716012\n"
     ]
    },
    {
     "data": {
      "text/plain": [
       "0"
      ]
     },
     "execution_count": 77,
     "metadata": {},
     "output_type": "execute_result"
    }
   ],
   "source": [
    "splits = 100\n",
    "c=1000\n",
    "percentage = 20\n",
    "F, AUC, PRECISION, RECALL, SPECIFICITY, ACCURACY = CV_F_measure(X, y, sub_id, dt, splits, c, percentage, zeros, y_short, sub_id_short)\n",
    "os.system('espeak \"la ejecución ha terminadoooooooooooooooooooooooooo\"')"
   ]
  },
  {
   "cell_type": "code",
   "execution_count": 2,
   "metadata": {},
   "outputs": [
    {
     "name": "stdout",
     "output_type": "stream",
     "text": [
      "4.28890706167\n"
     ]
    },
    {
     "data": {
      "image/png": "[encoded data removed]",
      "text/plain": [
       "<matplotlib.figure.Figure at 0x7f04d8227400>"
      ]
     },
     "metadata": {},
     "output_type": "display_data"
    }
   ],
   "source": [
    "img = nib.load('/home/miquel/ForMiquel/CLEAN2/W_jacobian_100_5000.nii.gz')\n",
    "img = img.get_data()\n",
    "img = np.reshape(img,(121*145*121,1))\n",
    "print(np.amax(img))\n",
    "plt.figure(1)\n",
    "bins = np.linspace(0, 4, 150)\n",
    "plt.hist(img, bins, facecolor='green', alpha=0.5, normed=False, log=True)\n",
    "#plt.xlabel('age_bl')\n",
    "#plt.ylabel('appeareances')\n",
    "#plt.title('age distribution of control subjects')\n",
    "plt.show()\n"
   ]
  },
  {
   "cell_type": "code",
   "execution_count": 7,
   "metadata": {},
   "outputs": [
    {
     "name": "stdout",
     "output_type": "stream",
     "text": [
      "[ 0.60449046]\n"
     ]
    }
   ],
   "source": [
    "a=[1,2,3,0.8,1.2]\n",
    "count_vals = sum(i > 1.2 for i in img)\n",
    "print(count_vals/len(img)*100)"
   ]
  },
  {
   "cell_type": "code",
   "execution_count": null,
   "metadata": {},
   "outputs": [],
   "source": []
  }
 ],
 "metadata": {
  "kernelspec": {
   "display_name": "Python 3",
   "language": "python",
   "name": "python3"
  },
  "language_info": {
   "codemirror_mode": {
    "name": "ipython",
    "version": 3
   },
   "file_extension": ".py",
   "mimetype": "text/x-python",
   "name": "python",
   "nbconvert_exporter": "python",
   "pygments_lexer": "ipython3",
   "version": "3.4.2"
  }
 },
 "nbformat": 4,
 "nbformat_minor": 2
}
