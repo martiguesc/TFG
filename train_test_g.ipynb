{
 "cells": [
  {
   "cell_type": "code",
   "execution_count": 3,
   "metadata": {},
   "outputs": [
    {
     "name": "stderr",
     "output_type": "stream",
     "text": [
      "/usr/local/lib/python3.4/dist-packages/sklearn/cross_validation.py:41: DeprecationWarning: This module was deprecated in version 0.18 in favor of the model_selection module into which all the refactored classes and functions are moved. Also note that the interface of the new CV iterators are different from that of this module. This module will be removed in 0.20.\n",
      "  \"This module will be removed in 0.20.\", DeprecationWarning)\n"
     ]
    }
   ],
   "source": [
    "from imports_func import *\n",
    "from dbase import *"
   ]
  },
  {
   "cell_type": "code",
   "execution_count": 4,
   "metadata": {},
   "outputs": [],
   "source": [
    "X=np.load('/home/miquel/ForMiquel/CLEAN2/X_full.npy') \n",
    "#X2=np.load('/home/miquel/ForMiquel/CLEAN2/X_c2_1j.npy')\n",
    "#X3=np.load('/home/miquel/ForMiquel/CLEAN2/X_c3_1j.npy')\n",
    "#X=np.concatenate((X1, X2), axis=1)\n",
    "#X=np.concatenate((X, X3), axis=1)\n",
    "y=np.load('/home/miquel/ForMiquel/CLEAN2/y_1j_full.npy') #subject labels\n",
    "sub_id=np.load('/home/miquel/ForMiquel/CLEAN2/sub_id_short.npy') #subject idxs\n",
    "jac_idx=np.load('/home/miquel/ForMiquel/CLEAN2/jac_idx_1j_full.npy')"
   ]
  },
  {
   "cell_type": "code",
   "execution_count": 3,
   "metadata": {},
   "outputs": [],
   "source": [
    "def cross_validation_analysis(X, y, clf, clf2, clf3, splits, linspace):\n",
    "    \n",
    "    l=len(linspace)\n",
    "    l2=X.shape[1]\n",
    "    ACC=np.zeros((l))\n",
    "    ROC=np.zeros((l))\n",
    "    F1=np.zeros((l))\n",
    "    W=np.zeros((l2))\n",
    "    \n",
    "\n",
    "    #X_train_g, X_test_g, y_train_g, y_test_g = train_test_split(X, y, test_size=.25, random_state=18)\n",
    "    spl1 = StratifiedShuffleSplit(n_splits=1, test_size=0.25, random_state=20)\n",
    "    for train_index, test_index in spl1.split(X, y):\n",
    "        X_train_g = X[train_index,:]\n",
    "        y_train_g = y[train_index]\n",
    "        X_test_g = X[test_index,:]\n",
    "        y_test_g = y[test_index]\n",
    "    \n",
    "    print(y_test_g)\n",
    "    \n",
    "    spl2 = StratifiedShuffleSplit(n_splits=splits, test_size=0.3, random_state=42)\n",
    "    \n",
    "    for train_index, test_index in spl2.split(X_train_g, y_train_g):\n",
    "        X_train = X[train_index,:]\n",
    "        y_train = y[train_index]\n",
    "        X_test = X[test_index,:]\n",
    "        y_test = y[test_index]\n",
    "        \n",
    "        clf=clf1\n",
    "        clf.fit(X_train, y_train)\n",
    "        w = np.transpose(clf.coef_) #importance of each feature for classification\n",
    "        w=np.abs(w)\n",
    "        w = np.reshape(w,l2)\n",
    "        W = np.vstack((W, w)) #add weights of each split in W matrix\n",
    "        aux3=y_train\n",
    "        aux4=y_test\n",
    "        \n",
    "        acc_l=[]\n",
    "        roc_l=[]\n",
    "        f1_l=[]\n",
    "        \n",
    "        for n in linspace:\n",
    "            \n",
    "            clf=clf2\n",
    "            aux1=X_train\n",
    "            aux2=X_test\n",
    "    \n",
    "            n=n.astype(int)\n",
    "            idxs=w.argsort()[-n:][::-1]\n",
    "            idxs=np.sort(idxs)      \n",
    "            mask = np.zeros(l2, dtype=bool)\n",
    "            mask[idxs]=True\n",
    "            aux1=aux1[:,mask] #take columns of features with large (abs value) weights\n",
    "            aux2=aux2[:,mask]\n",
    "            y_score = clf.fit(aux1, aux3).decision_function(aux2)\n",
    "            pred = clf.predict(aux2)\n",
    "            acc = accuracy_score(aux4, pred)\n",
    "            roc=roc_auc_score(aux4, y_score)    \n",
    "            f1=f1_score(aux4, pred)        \n",
    "            acc_l.append(acc)\n",
    "            roc_l.append(roc)\n",
    "            f1_l.append(f1)\n",
    "            \n",
    "        ACC = np.vstack((ACC, acc_l))\n",
    "        ROC = np.vstack((ROC, roc_l))\n",
    "        F1 = np.vstack((F1, f1_l))\n",
    "        print(ACC.shape)\n",
    "        \n",
    "            \n",
    "    ACC=ACC[1:,:]\n",
    "    ROC=ROC[1:,:]\n",
    "    F1=F1[1:,:]\n",
    "    W=W[1:,:]\n",
    "    \n",
    "    m1=np.mean(ACC, axis=0)\n",
    "    dv1=np.std(ACC, axis=0)\n",
    "    m2=np.mean(ROC, axis=0)\n",
    "    dv2=np.std(ROC, axis=0)\n",
    "    m3=np.mean(F1, axis=0)\n",
    "    dv3=np.std(F1, axis=0)\n",
    "    \n",
    "    f, axes = plt.subplots(2, 3, figsize=(16, 7))\n",
    "    axes[0,0].plot(linspace, m1)\n",
    "    axes[0,0].set_xlabel('features')\n",
    "    axes[0,0].set_ylabel('ACC mean') \n",
    "    axes[0,1].plot(linspace, m2)\n",
    "    axes[0,1].set_xlabel('features')\n",
    "    axes[0,1].set_ylabel('ROC mean')\n",
    "    axes[0,2].plot(linspace, m3)\n",
    "    axes[0,2].set_xlabel('features')\n",
    "    axes[0,2].set_ylabel('F1 mean')\n",
    "    axes[1,0].plot(linspace, dv1)\n",
    "    axes[1,0].set_xlabel('features')\n",
    "    axes[1,0].set_ylabel('ACC std') \n",
    "    axes[1,1].plot(linspace, dv2)\n",
    "    axes[1,1].set_xlabel('features')\n",
    "    axes[1,1].set_ylabel('ROC std')\n",
    "    axes[1,2].plot(linspace, dv3)\n",
    "    axes[1,2].set_xlabel('features')\n",
    "    axes[1,2].set_ylabel('F1 std')\n",
    "    \n",
    "    plt.show()\n",
    "    \n",
    "    #obtain maximum from F1 function and according to this max take indices of mean/std weights array to choose the\n",
    "    #features to train and test the model with all the dataset\n",
    "    \n",
    "    maxi=np.argmax(m1+m2+m3)\n",
    "    feat=linspace[maxi]\n",
    "    print(\"maximum at \", feat, \" features\")\n",
    "    \n",
    "    mW=np.mean(W, axis=0)\n",
    "    sW=np.std(W, axis=0)\n",
    "    w=mW/sW\n",
    "    w = np.reshape(w,l2)\n",
    "    feat=feat.astype(int)\n",
    "    idxs=w.argsort()[-feat:][::-1]\n",
    "    idxs=np.sort(idxs)\n",
    "    mask = np.zeros(l2, dtype=bool)\n",
    "    mask[idxs]=True\n",
    "    X_train_g=X_train_g[:,mask] #take columns of features with large (abs value) weights\n",
    "    X_test_g=X_test_g[:,mask]\n",
    "    \n",
    "    y_score = clf3.fit(X_train_g, y_train_g).decision_function(X_test_g)\n",
    "    #y_score_t = clf3.decision_function(X_train_g)\n",
    "    \n",
    "    #pred_t = clf3.predict(X_train_g)\n",
    "    pred = clf3.predict(X_test_g)\n",
    "    \n",
    "    #acc_t = accuracy_score(y_train_g, pred_t)\n",
    "    acc = accuracy_score(y_test_g, pred)\n",
    "    \n",
    "    #roc_t=roc_auc_score(y_train_g, y_score_t) \n",
    "    roc=roc_auc_score(y_test_g, y_score)\n",
    "    \n",
    "    #f1_t=f1_score(y_train_g, pred_t)\n",
    "    f1=f1_score(y_test_g, pred)\n",
    "    \n",
    "    \n",
    "    print(\"accuracy test = \", acc)\n",
    "    print(\"roc test = \", roc)\n",
    "    print(\"f1 test = \", f1)\n",
    "    \n",
    "    \n",
    "    return ACC, ROC, F1, W\n"
   ]
  },
  {
   "cell_type": "code",
   "execution_count": 26,
   "metadata": {},
   "outputs": [
    {
     "name": "stdout",
     "output_type": "stream",
     "text": [
      "[1 0 0 1 0 0 1 0 0 0 1 1 1 0 1 0 1 0 0 0 0 1 1 1 1 1 0 0 0 0 0]\n",
      "(2, 5)\n",
      "(3, 5)\n"
     ]
    },
    {
     "data": {
      "image/png": "[encoded data removed]",
      "text/plain": [
       "<matplotlib.figure.Figure at 0x7f9cb896a2e8>"
      ]
     },
     "metadata": {},
     "output_type": "display_data"
    },
    {
     "name": "stdout",
     "output_type": "stream",
     "text": [
      "maximum at  10000.0  features\n"
     ]
    },
    {
     "name": "stderr",
     "output_type": "stream",
     "text": [
      "/usr/local/lib/python3.4/dist-packages/ipykernel_launcher.py:113: RuntimeWarning: invalid value encountered in true_divide\n"
     ]
    },
    {
     "name": "stdout",
     "output_type": "stream",
     "text": [
      "accuracy test =  0.58064516129\n",
      "roc test =  0.589743589744\n",
      "f1 test =  0.0\n"
     ]
    },
    {
     "name": "stderr",
     "output_type": "stream",
     "text": [
      "/usr/local/lib/python3.4/dist-packages/sklearn/metrics/classification.py:1135: UndefinedMetricWarning: F-score is ill-defined and being set to 0.0 due to no predicted samples.\n",
      "  'precision', 'predicted', average, warn_for)\n"
     ]
    }
   ],
   "source": [
    "clf1 = SVC(kernel='linear', probability = True)\n",
    "clf2 = LogisticRegression(solver='liblinear', penalty='l2')\n",
    "clf3 = LogisticRegression(solver='liblinear', penalty='l2')\n",
    "#clf2 = SVC(kernel='linear', probability = True)\n",
    "#clf3 = SVC(kernel='linear', probability = True)\n",
    "linspace = np.linspace(10000, 1000000, num=5)\n",
    "splits=2\n",
    "ACC, ROC, F1, W = cross_validation_w_map_g(X, y, clf1, clf2, clf3, splits, linspace)"
   ]
  },
  {
   "cell_type": "code",
   "execution_count": 5,
   "metadata": {},
   "outputs": [],
   "source": [
    "# build vector with dt's\n",
    "dt=[]\n",
    "for i in range(0,len(sub_id)):\n",
    "    dt.append(Subjects[sub_id[i]].jacobians[jac_idx[i]].dt)\n",
    "\n",
    "dt = np.asarray(dt)/365  "
   ]
  },
  {
   "cell_type": "code",
   "execution_count": 8,
   "metadata": {},
   "outputs": [],
   "source": [
    "# build vector with ages\n",
    "ages=[]\n",
    "for i in range(0,len(sub_id)):\n",
    "    ages.append(Subjects[sub_id[i]].age_bl)\n",
    "    \n",
    "ages = np.asarray(ages) "
   ]
  },
  {
   "cell_type": "code",
   "execution_count": 6,
   "metadata": {},
   "outputs": [],
   "source": [
    "def cross_validation_SelectPercentile(X, y, clf, splits, linspace, dt, ages):\n",
    "    \n",
    "    l=len(linspace)\n",
    "    l2=X.shape[1]\n",
    "    ACC=np.zeros((l))\n",
    "    ROC=np.zeros((l))\n",
    "    F1=np.zeros((l))\n",
    "    MCC=np.zeros((l))\n",
    "    APS=np.zeros((l))\n",
    "    PREC=np.zeros((l))\n",
    "    REC=np.zeros((l))\n",
    "    \n",
    "    ages=np.reshape(ages, (124,1))\n",
    "    dt=np.reshape(dt, (124,1))\n",
    "    \n",
    "    spl2 = StratifiedShuffleSplit(n_splits=splits, test_size=0.3, random_state=42)\n",
    "    \n",
    "    for train_index, test_index in spl2.split(X, y):\n",
    "        X_train = X[train_index,:]\n",
    "        y_train = y[train_index]\n",
    "        X_test = X[test_index,:]\n",
    "        y_test = y[test_index]\n",
    "        dt_test = dt[test_index]\n",
    "        \n",
    "        \n",
    "        acc_l=[]\n",
    "        roc_l=[]\n",
    "        f1_l=[]\n",
    "        mcc_l=[]\n",
    "        aps_l=[]\n",
    "        prec_l=[]\n",
    "        rec_l=[]\n",
    "        \n",
    "        for n in linspace:\n",
    "            \n",
    "            y_test = y[test_index]\n",
    "            dt_test = dt[test_index]\n",
    "            \n",
    "            print(n)\n",
    "            S = SelectPercentile(percentile=n)\n",
    "            #S = SelectKBest(f_classif, k=1000)\n",
    "            S.fit(X_train, y_train)\n",
    "            X_train_s = X_train[:,S.get_support()]\n",
    "            X_test_s = X_test[:,S.get_support()]\n",
    "            \n",
    "          \n",
    "\n",
    "            #X_train=np.concatenate((X_train, ages), axis=1)\n",
    "            #X_train=np.concatenate((X_train, dt), axis=1)\n",
    "            #X_tr=np.concatenate((X_train, ages), axis=1)\n",
    "            #X_train=np.concatenate((X_train, dt), axis=1)\n",
    "            \n",
    "            \n",
    "            \n",
    "            y_score = clf.fit(X_train_s, y_train).decision_function(X_test_s)\n",
    "            pred = clf.predict(X_test_s)\n",
    "            \n",
    "            mask0 = np.where(dt_test>1.09)#~400 days\n",
    "            mask0 = np.asarray(mask0)\n",
    "            pred = pred[mask0][0]\n",
    "            y_test = y_test[mask0][0]\n",
    "            y_score = y_score[mask0][0]\n",
    "            \n",
    "                \n",
    "            acc = accuracy_score(y_test, pred)\n",
    "            roc=roc_auc_score(y_test, y_score)\n",
    "            f1=f1_score(y_test, pred)\n",
    "            mcc=matthews_corrcoef(y_test, pred)\n",
    "            aps=average_precision_score(y_test, y_score)\n",
    "            precision=precision_score(y_test, pred)\n",
    "            recall=recall_score(y_test, pred)\n",
    "            \n",
    "            acc_l.append(acc)\n",
    "            roc_l.append(roc)\n",
    "            f1_l.append(f1)\n",
    "            mcc_l.append(mcc)\n",
    "            aps_l.append(aps)\n",
    "            prec_l.append(precision)\n",
    "            rec_l.append(recall)\n",
    "            \n",
    "        ACC = np.vstack((ACC, acc_l))\n",
    "        ROC = np.vstack((ROC, roc_l))\n",
    "        F1 = np.vstack((F1, f1_l))\n",
    "        MCC = np.vstack((MCC, mcc_l))\n",
    "        APS = np.vstack((APS, aps_l))\n",
    "        PREC = np.vstack((PREC, prec_l))\n",
    "        REC = np.vstack((REC, rec_l))\n",
    "        print(PREC.shape)\n",
    "        \n",
    "            \n",
    "    ACC=ACC[1:,:]\n",
    "    ROC=ROC[1:,:]\n",
    "    F1=F1[1:,:]\n",
    "    MCC=MCC[1:,:]\n",
    "    APS=APS[1:,:]\n",
    "    PREC=PREC[1:,:]\n",
    "    REC=REC[1:,:]\n",
    "    \n",
    "    \n",
    "    m1=np.mean(ACC, axis=0)\n",
    "    dv1=np.std(ACC, axis=0)\n",
    "    m2=np.mean(ROC, axis=0)\n",
    "    dv2=np.std(ROC, axis=0)\n",
    "    m3=np.mean(F1, axis=0)\n",
    "    dv3=np.std(F1, axis=0)\n",
    "    m4=np.mean(MCC, axis=0)\n",
    "    dv4=np.std(MCC, axis=0)\n",
    "    m5=np.mean(APS, axis=0)\n",
    "    dv5=np.std(APS, axis=0)\n",
    "    m6=np.mean(PREC, axis=0)\n",
    "    dv6=np.std(PREC, axis=0)\n",
    "    m7=np.mean(REC, axis=0)\n",
    "    dv7=np.std(REC, axis=0)\n",
    "    \n",
    "    plt.figure(1)\n",
    "    plt.plot(linspace, m1, color='green', label='acc')\n",
    "    plt.plot(linspace, m2, color='red', label='roc')\n",
    "    plt.plot(linspace, m3, color='blue', label='f1_score')\n",
    "    plt.plot(linspace, m4, color='orange', label='mcc')\n",
    "    plt.plot(linspace, m5, color='black', label='aps')\n",
    "    plt.plot(linspace, m6, color='brown', label='precision')\n",
    "    plt.plot(linspace, m7, color='yellow', label='recall')\n",
    "\n",
    "    \n",
    "    \n",
    "\n",
    "    plt.legend(loc='best')\n",
    "    plt.xlabel('percentile')\n",
    "    plt.title('metrics logistic regression combination c1 and c2')\n",
    "    plt.show()\n",
    "    \n",
    "    return m2, m5\n",
    "    \n"
   ]
  },
  {
   "cell_type": "code",
   "execution_count": 9,
   "metadata": {},
   "outputs": [
    {
     "name": "stdout",
     "output_type": "stream",
     "text": [
      "0.25\n"
     ]
    },
    {
     "name": "stderr",
     "output_type": "stream",
     "text": [
      "/usr/local/lib/python3.4/dist-packages/sklearn/feature_selection/univariate_selection.py:113: UserWarning: Features [    13     99    178 ..., 573917 573920 573921] are constant.\n",
      "  UserWarning)\n",
      "/usr/local/lib/python3.4/dist-packages/sklearn/feature_selection/univariate_selection.py:114: RuntimeWarning: invalid value encountered in true_divide\n",
      "  f = msb / msw\n"
     ]
    },
    {
     "name": "stdout",
     "output_type": "stream",
     "text": [
      "0.625\n",
      "1.0\n",
      "1.375\n",
      "1.75\n",
      "(2, 5)\n",
      "0.25\n"
     ]
    },
    {
     "name": "stderr",
     "output_type": "stream",
     "text": [
      "/usr/local/lib/python3.4/dist-packages/sklearn/feature_selection/univariate_selection.py:113: UserWarning: Features [    85    149    173 ..., 573904 573905 573906] are constant.\n",
      "  UserWarning)\n"
     ]
    },
    {
     "name": "stdout",
     "output_type": "stream",
     "text": [
      "0.625\n",
      "1.0\n",
      "1.375\n",
      "1.75\n",
      "(3, 5)\n",
      "0.25\n"
     ]
    },
    {
     "name": "stderr",
     "output_type": "stream",
     "text": [
      "/usr/local/lib/python3.4/dist-packages/sklearn/feature_selection/univariate_selection.py:113: UserWarning: Features [    13     90     99 ..., 573877 573887 573888] are constant.\n",
      "  UserWarning)\n"
     ]
    },
    {
     "name": "stdout",
     "output_type": "stream",
     "text": [
      "0.625\n",
      "1.0\n",
      "1.375\n",
      "1.75\n",
      "(4, 5)\n",
      "0.25\n"
     ]
    },
    {
     "name": "stderr",
     "output_type": "stream",
     "text": [
      "/usr/local/lib/python3.4/dist-packages/sklearn/feature_selection/univariate_selection.py:113: UserWarning: Features [   196    265    274 ..., 573917 573920 573921] are constant.\n",
      "  UserWarning)\n"
     ]
    },
    {
     "name": "stdout",
     "output_type": "stream",
     "text": [
      "0.625\n",
      "1.0\n",
      "1.375\n",
      "1.75\n",
      "(5, 5)\n",
      "0.25\n"
     ]
    },
    {
     "name": "stderr",
     "output_type": "stream",
     "text": [
      "/usr/local/lib/python3.4/dist-packages/sklearn/feature_selection/univariate_selection.py:113: UserWarning: Features [   175    176    177 ..., 573919 573920 573921] are constant.\n",
      "  UserWarning)\n"
     ]
    },
    {
     "name": "stdout",
     "output_type": "stream",
     "text": [
      "0.625\n",
      "1.0\n",
      "1.375\n",
      "1.75\n",
      "(6, 5)\n",
      "0.25\n"
     ]
    },
    {
     "name": "stderr",
     "output_type": "stream",
     "text": [
      "/usr/local/lib/python3.4/dist-packages/sklearn/feature_selection/univariate_selection.py:113: UserWarning: Features [   149    283    289 ..., 573896 573897 573898] are constant.\n",
      "  UserWarning)\n"
     ]
    },
    {
     "name": "stdout",
     "output_type": "stream",
     "text": [
      "0.625\n",
      "1.0\n",
      "1.375\n",
      "1.75\n",
      "(7, 5)\n",
      "0.25\n"
     ]
    },
    {
     "name": "stderr",
     "output_type": "stream",
     "text": [
      "/usr/local/lib/python3.4/dist-packages/sklearn/feature_selection/univariate_selection.py:113: UserWarning: Features [    71     85    173 ..., 573917 573920 573921] are constant.\n",
      "  UserWarning)\n"
     ]
    },
    {
     "name": "stdout",
     "output_type": "stream",
     "text": [
      "0.625\n",
      "1.0\n",
      "1.375\n",
      "1.75\n",
      "(8, 5)\n",
      "0.25\n"
     ]
    },
    {
     "name": "stderr",
     "output_type": "stream",
     "text": [
      "/usr/local/lib/python3.4/dist-packages/sklearn/feature_selection/univariate_selection.py:113: UserWarning: Features [    80     85    173 ..., 573915 573916 573919] are constant.\n",
      "  UserWarning)\n"
     ]
    },
    {
     "name": "stdout",
     "output_type": "stream",
     "text": [
      "0.625\n",
      "1.0\n",
      "1.375\n",
      "1.75\n",
      "(9, 5)\n",
      "0.25\n"
     ]
    },
    {
     "name": "stderr",
     "output_type": "stream",
     "text": [
      "/usr/local/lib/python3.4/dist-packages/sklearn/feature_selection/univariate_selection.py:113: UserWarning: Features [    13     80     85 ..., 573915 573916 573919] are constant.\n",
      "  UserWarning)\n"
     ]
    },
    {
     "name": "stdout",
     "output_type": "stream",
     "text": [
      "0.625\n",
      "1.0\n",
      "1.375\n",
      "1.75\n",
      "(10, 5)\n",
      "0.25\n"
     ]
    },
    {
     "name": "stderr",
     "output_type": "stream",
     "text": [
      "/usr/local/lib/python3.4/dist-packages/sklearn/feature_selection/univariate_selection.py:113: UserWarning: Features [    13     99    275 ..., 573653 573654 573870] are constant.\n",
      "  UserWarning)\n"
     ]
    },
    {
     "name": "stdout",
     "output_type": "stream",
     "text": [
      "0.625\n",
      "1.0\n",
      "1.375\n",
      "1.75\n",
      "(11, 5)\n",
      "0.25\n"
     ]
    },
    {
     "name": "stderr",
     "output_type": "stream",
     "text": [
      "/usr/local/lib/python3.4/dist-packages/sklearn/feature_selection/univariate_selection.py:113: UserWarning: Features [    80     85    149 ..., 573915 573916 573919] are constant.\n",
      "  UserWarning)\n"
     ]
    },
    {
     "name": "stdout",
     "output_type": "stream",
     "text": [
      "0.625\n",
      "1.0\n",
      "1.375\n",
      "1.75\n",
      "(12, 5)\n",
      "0.25\n"
     ]
    },
    {
     "name": "stderr",
     "output_type": "stream",
     "text": [
      "/usr/local/lib/python3.4/dist-packages/sklearn/feature_selection/univariate_selection.py:113: UserWarning: Features [    85    173    174 ..., 573915 573916 573919] are constant.\n",
      "  UserWarning)\n"
     ]
    },
    {
     "name": "stdout",
     "output_type": "stream",
     "text": [
      "0.625\n",
      "1.0\n",
      "1.375\n",
      "1.75\n",
      "(13, 5)\n",
      "0.25\n"
     ]
    },
    {
     "name": "stderr",
     "output_type": "stream",
     "text": [
      "/usr/local/lib/python3.4/dist-packages/sklearn/feature_selection/univariate_selection.py:113: UserWarning: Features [   323    335    384 ..., 573888 573892 573893] are constant.\n",
      "  UserWarning)\n"
     ]
    },
    {
     "name": "stdout",
     "output_type": "stream",
     "text": [
      "0.625\n",
      "1.0\n",
      "1.375\n",
      "1.75\n",
      "(14, 5)\n",
      "0.25\n"
     ]
    },
    {
     "name": "stderr",
     "output_type": "stream",
     "text": [
      "/usr/local/lib/python3.4/dist-packages/sklearn/feature_selection/univariate_selection.py:113: UserWarning: Features [   275    291    348 ..., 573896 573897 573898] are constant.\n",
      "  UserWarning)\n"
     ]
    },
    {
     "name": "stdout",
     "output_type": "stream",
     "text": [
      "0.625\n",
      "1.0\n",
      "1.375\n",
      "1.75\n",
      "(15, 5)\n",
      "0.25\n"
     ]
    },
    {
     "name": "stderr",
     "output_type": "stream",
     "text": [
      "/usr/local/lib/python3.4/dist-packages/sklearn/feature_selection/univariate_selection.py:113: UserWarning: Features [    13     99    265 ..., 573917 573920 573921] are constant.\n",
      "  UserWarning)\n"
     ]
    },
    {
     "name": "stdout",
     "output_type": "stream",
     "text": [
      "0.625\n",
      "1.0\n",
      "1.375\n",
      "1.75\n",
      "(16, 5)\n",
      "0.25\n"
     ]
    },
    {
     "name": "stderr",
     "output_type": "stream",
     "text": [
      "/usr/local/lib/python3.4/dist-packages/sklearn/feature_selection/univariate_selection.py:113: UserWarning: Features [    71    178    179 ..., 573896 573897 573898] are constant.\n",
      "  UserWarning)\n"
     ]
    },
    {
     "name": "stdout",
     "output_type": "stream",
     "text": [
      "0.625\n",
      "1.0\n",
      "1.375\n",
      "1.75\n",
      "(17, 5)\n",
      "0.25\n",
      "0.625\n",
      "1.0\n",
      "1.375\n",
      "1.75\n",
      "(18, 5)\n",
      "0.25\n"
     ]
    },
    {
     "name": "stderr",
     "output_type": "stream",
     "text": [
      "/usr/local/lib/python3.4/dist-packages/sklearn/feature_selection/univariate_selection.py:113: UserWarning: Features [   265    283    289 ..., 573917 573920 573921] are constant.\n",
      "  UserWarning)\n"
     ]
    },
    {
     "name": "stdout",
     "output_type": "stream",
     "text": [
      "0.625\n",
      "1.0\n",
      "1.375\n",
      "1.75\n",
      "(19, 5)\n",
      "0.25\n",
      "0.625\n",
      "1.0\n",
      "1.375\n",
      "1.75\n",
      "(20, 5)\n",
      "0.25\n"
     ]
    },
    {
     "name": "stderr",
     "output_type": "stream",
     "text": [
      "/usr/local/lib/python3.4/dist-packages/sklearn/feature_selection/univariate_selection.py:113: UserWarning: Features [    71    178    179 ..., 573912 573913 573914] are constant.\n",
      "  UserWarning)\n"
     ]
    },
    {
     "name": "stdout",
     "output_type": "stream",
     "text": [
      "0.625\n",
      "1.0\n",
      "1.375\n",
      "1.75\n",
      "(21, 5)\n"
     ]
    },
    {
     "data": {
      "image/png": "[encoded data removed]",
      "text/plain": [
       "<matplotlib.figure.Figure at 0x7fd36f242828>"
      ]
     },
     "metadata": {},
     "output_type": "display_data"
    }
   ],
   "source": [
    "#clf = SVC(kernel='linear', probability = True, C=10000)\n",
    "#X=np.transpose(np.transpose(X)/dt)\n",
    "clf = LogisticRegression(solver='liblinear', penalty='l2',class_weight='balanced', C=1.25)\n",
    "linspace = np.linspace(0.25, 1.75, num=5)\n",
    "splits=20\n",
    "roc, aps = cross_validation_SelectPercentile(X, y, clf, splits, linspace, dt, ages)"
   ]
  },
  {
   "cell_type": "code",
   "execution_count": 12,
   "metadata": {},
   "outputs": [
    {
     "ename": "RuntimeError",
     "evalue": "Optimal parameters not found: Number of calls to function has reached maxfev = 800.",
     "output_type": "error",
     "traceback": [
      "\u001b[0;31m---------------------------------------------------------------------------\u001b[0m",
      "\u001b[0;31mRuntimeError\u001b[0m                              Traceback (most recent call last)",
      "\u001b[0;32m<ipython-input-12-254e79bf43ed>\u001b[0m in \u001b[0;36m<module>\u001b[0;34m()\u001b[0m\n\u001b[1;32m      4\u001b[0m     \u001b[0;32mreturn\u001b[0m \u001b[0ma\u001b[0m \u001b[0;34m*\u001b[0m \u001b[0mnp\u001b[0m\u001b[0;34m.\u001b[0m\u001b[0mexp\u001b[0m\u001b[0;34m(\u001b[0m\u001b[0;34m-\u001b[0m\u001b[0mb\u001b[0m \u001b[0;34m*\u001b[0m \u001b[0mx\u001b[0m\u001b[0;34m)\u001b[0m \u001b[0;34m+\u001b[0m \u001b[0mc\u001b[0m\u001b[0;34m\u001b[0m\u001b[0m\n\u001b[1;32m      5\u001b[0m \u001b[0;34m\u001b[0m\u001b[0m\n\u001b[0;32m----> 6\u001b[0;31m \u001b[0mpopt\u001b[0m\u001b[0;34m,\u001b[0m \u001b[0mpcov\u001b[0m \u001b[0;34m=\u001b[0m \u001b[0mcurve_fit\u001b[0m\u001b[0;34m(\u001b[0m\u001b[0mfunc\u001b[0m\u001b[0;34m,\u001b[0m \u001b[0mroc\u001b[0m\u001b[0;34m,\u001b[0m \u001b[0mlinspace\u001b[0m\u001b[0;34m)\u001b[0m\u001b[0;34m\u001b[0m\u001b[0m\n\u001b[0m\u001b[1;32m      7\u001b[0m \u001b[0;34m\u001b[0m\u001b[0m\n\u001b[1;32m      8\u001b[0m \u001b[0mplt\u001b[0m\u001b[0;34m.\u001b[0m\u001b[0mplot\u001b[0m\u001b[0;34m(\u001b[0m\u001b[0mlinspace\u001b[0m\u001b[0;34m,\u001b[0m \u001b[0mroc\u001b[0m\u001b[0;34m,\u001b[0m \u001b[0mcolor\u001b[0m\u001b[0;34m=\u001b[0m\u001b[0;34m'red'\u001b[0m\u001b[0;34m,\u001b[0m \u001b[0mlabel\u001b[0m\u001b[0;34m=\u001b[0m\u001b[0;34m'roc'\u001b[0m\u001b[0;34m)\u001b[0m\u001b[0;34m\u001b[0m\u001b[0m\n",
      "\u001b[0;32m/usr/local/lib/python3.4/dist-packages/scipy/optimize/minpack.py\u001b[0m in \u001b[0;36mcurve_fit\u001b[0;34m(f, xdata, ydata, p0, sigma, absolute_sigma, check_finite, bounds, method, jac, **kwargs)\u001b[0m\n\u001b[1;32m    744\u001b[0m         \u001b[0mcost\u001b[0m \u001b[0;34m=\u001b[0m \u001b[0mnp\u001b[0m\u001b[0;34m.\u001b[0m\u001b[0msum\u001b[0m\u001b[0;34m(\u001b[0m\u001b[0minfodict\u001b[0m\u001b[0;34m[\u001b[0m\u001b[0;34m'fvec'\u001b[0m\u001b[0;34m]\u001b[0m \u001b[0;34m**\u001b[0m \u001b[0;36m2\u001b[0m\u001b[0;34m)\u001b[0m\u001b[0;34m\u001b[0m\u001b[0m\n\u001b[1;32m    745\u001b[0m         \u001b[0;32mif\u001b[0m \u001b[0mier\u001b[0m \u001b[0;32mnot\u001b[0m \u001b[0;32min\u001b[0m \u001b[0;34m[\u001b[0m\u001b[0;36m1\u001b[0m\u001b[0;34m,\u001b[0m \u001b[0;36m2\u001b[0m\u001b[0;34m,\u001b[0m \u001b[0;36m3\u001b[0m\u001b[0;34m,\u001b[0m \u001b[0;36m4\u001b[0m\u001b[0;34m]\u001b[0m\u001b[0;34m:\u001b[0m\u001b[0;34m\u001b[0m\u001b[0m\n\u001b[0;32m--> 746\u001b[0;31m             \u001b[0;32mraise\u001b[0m \u001b[0mRuntimeError\u001b[0m\u001b[0;34m(\u001b[0m\u001b[0;34m\"Optimal parameters not found: \"\u001b[0m \u001b[0;34m+\u001b[0m \u001b[0merrmsg\u001b[0m\u001b[0;34m)\u001b[0m\u001b[0;34m\u001b[0m\u001b[0m\n\u001b[0m\u001b[1;32m    747\u001b[0m     \u001b[0;32melse\u001b[0m\u001b[0;34m:\u001b[0m\u001b[0;34m\u001b[0m\u001b[0m\n\u001b[1;32m    748\u001b[0m         \u001b[0;31m# Rename maxfev (leastsq) to max_nfev (least_squares), if specified.\u001b[0m\u001b[0;34m\u001b[0m\u001b[0;34m\u001b[0m\u001b[0m\n",
      "\u001b[0;31mRuntimeError\u001b[0m: Optimal parameters not found: Number of calls to function has reached maxfev = 800."
     ]
    }
   ],
   "source": [
    "from scipy.optimize import curve_fit\n",
    "\n",
    "def func(x, a, b, c):\n",
    "    return a * np.exp(-b * x) + c\n",
    "\n",
    "popt, pcov = curve_fit(func, roc, linspace)\n",
    "\n",
    "plt.plot(linspace, roc, color='red', label='roc')\n",
    "exp = func(linspace, -0.3, popt[1], 0.7)\n",
    "plt.plot(linspace, exp, color='blue', label='estimated exponential')\n",
    "\n",
    "plt.legend(loc='best')\n",
    "plt.xlabel('percentile')\n",
    "plt.title('data vs. estimation')\n",
    "plt.show()\n",
    "\n",
    "optimal_point = 5 / popt[1]"
   ]
  },
  {
   "cell_type": "code",
   "execution_count": 18,
   "metadata": {},
   "outputs": [
    {
     "data": {
      "text/plain": [
       "0.086465688275188954"
      ]
     },
     "execution_count": 18,
     "metadata": {},
     "output_type": "execute_result"
    }
   ],
   "source": [
    "optimal_point"
   ]
  },
  {
   "cell_type": "code",
   "execution_count": 19,
   "metadata": {},
   "outputs": [
    {
     "data": {
      "text/plain": [
       "array([ -2.58218598e+15,   5.78264061e+01,   1.03137595e+00])"
      ]
     },
     "execution_count": 19,
     "metadata": {},
     "output_type": "execute_result"
    }
   ],
   "source": [
    "popt"
   ]
  },
  {
   "cell_type": "code",
   "execution_count": 30,
   "metadata": {},
   "outputs": [
    {
     "data": {
      "image/png": "[encoded data removed]",
      "text/plain": [
       "<matplotlib.figure.Figure at 0x7fb8c292c7f0>"
      ]
     },
     "metadata": {},
     "output_type": "display_data"
    }
   ],
   "source": [
    "plt.figure(1)\n",
    "plt.plot(linspace, roc, color='red', label='roc')\n",
    "plt.plot(linspace, aps, color='blue', label='aps')\n",
    "plt.legend(loc='best')\n",
    "plt.xlabel('percentile')\n",
    "plt.title('metrics logistic regression combination c1 and c2')\n",
    "plt.show()"
   ]
  },
  {
   "cell_type": "markdown",
   "metadata": {},
   "source": [
    "## same experiments but with all jacobians of each subject (288 jacobians)"
   ]
  },
  {
   "cell_type": "code",
   "execution_count": 3,
   "metadata": {},
   "outputs": [],
   "source": [
    "X=np.load('/home/miquel/ForMiquel/CLEAN2/X_c1_dt.npy') \n",
    "#X2=np.load('/home/miquel/ForMiquel/CLEAN2/X_c2.npy')\n",
    "#X3=np.load('/home/miquel/ForMiquel/CLEAN2/X_c3.npy')\n",
    "#X=np.concatenate((X1, X2), axis=1)\n",
    "#X=np.concatenate((X, X3), axis=1)\n",
    "y=np.load('/home/miquel/ForMiquel/CLEAN2/y.npy') #jacobian labels\n",
    "y_short=np.load('/home/miquel/ForMiquel/CLEAN2/y_short.npy') #subject labels\n",
    "sub_id=np.load('/home/miquel/ForMiquel/CLEAN2/sub_id.npy') #jacobian idxs\n",
    "sub_id_short=np.load('/home/miquel/ForMiquel/CLEAN2/sub_id_short.npy') #subject idxs"
   ]
  },
  {
   "cell_type": "code",
   "execution_count": 8,
   "metadata": {},
   "outputs": [
    {
     "name": "stdout",
     "output_type": "stream",
     "text": [
      "the list has a total of  124  indices.\n"
     ]
    }
   ],
   "source": [
    "subjects_1_3_idx=[] #to store indices of subjects with jacobians of classes 1 or 3\n",
    "labels=[]\n",
    "\n",
    "#only subject indices with all jacobians of the same class (1 or 3) are stored\n",
    "for s in range(0,len(Subjects)):\n",
    "    counter1 = 0\n",
    "    counter3 = 0\n",
    "    for i in range(0,len(Subjects[s].jacobians)):\n",
    "        if Subjects[s].jacobians[i].label == 1:\n",
    "            counter1 = counter1 + 1\n",
    "        if Subjects[s].jacobians[i].label == 3:\n",
    "            counter3 = counter3 + 1\n",
    "    if (counter1 == len(Subjects[s].jacobians) or counter3 == len(Subjects[s].jacobians)) and len(Subjects[s].jacobians) > 0:\n",
    "        subjects_1_3_idx.append(s)\n",
    "        if counter3 > counter1:\n",
    "            labels.append(3)\n",
    "        else:\n",
    "            labels.append(1)\n",
    "\n",
    "print(\"the list has a total of \", len(subjects_1_3_idx), \" indices.\")"
   ]
  },
  {
   "cell_type": "code",
   "execution_count": 9,
   "metadata": {},
   "outputs": [
    {
     "name": "stdout",
     "output_type": "stream",
     "text": [
      "(288,)\n",
      "[363, 388, 363, 380, 365, 378, 378, 724, 346, 378, 362, 720, 358, 355, 1814, 1459, 355, 1814, 1459, 359, 410, 358, 380, 1701, 2073, 1321, 1693, 372, 364, 1106, 1473, 1826, 742, 1109, 1462, 367, 720, 353, 383, 363, 1095, 1466, 1826, 732, 1103, 1463, 371, 731, 360, 397, 367, 368, 362, 720, 358, 369, 364, 1897, 1533, 371, 1464, 2182, 1093, 1811, 718, 367, 1094, 1452, 727, 1085, 358, 372, 1094, 1457, 722, 1085, 363, 381, 1094, 1465, 1850, 713, 1084, 1469, 371, 756, 385, 345, 364, 728, 364, 368, 1097, 729, 366, 369, 1099, 1460, 730, 1091, 361, 389, 357, 366, 360, 735, 375, 368, 1120, 1491, 1932, 752, 1123, 1564, 371, 812, 441, 404, 366, 1524, 1158, 366, 1107, 741, 366, 1107, 741, 395, 352, 371, 368, 371, 830, 1156, 459, 785, 326, 388, 783, 1108, 395, 720, 325, 378, 365, 381, 722, 1578, 341, 1197, 856, 353, 722, 1135, 369, 782, 413, 356, 351, 1114, 1588, 763, 1237, 474, 364, 767, 1106, 1477, 2265, 403, 742, 1113, 1901, 339, 710, 1498, 371, 1159, 788, 363, 1839, 1476, 378, 1099, 1456, 2199, 721, 1078, 1821, 357, 1100, 743, 378, 728, 350, 427, 360, 1898, 1538, 378, 364, 364, 735, 364, 1099, 1463, 735, 1099, 364, 372, 367, 358, 1094, 1444, 736, 1086, 350, 364, 361, 732, 1094, 1437, 371, 733, 1076, 362, 705, 343, 387, 737, 350, 336, 1194, 858, 739, 1124, 385, 736, 732, 719, 714, 744, 740, 717, 723, 756, 722, 738, 751, 738, 728, 742, 723, 723, 730, 737, 742, 726, 762, 772, 729, 729, 735, 819, 732, 735, 720, 722, 737, 729, 713, 722, 728, 734, 728, 726, 735, 734, 727, 725, 738, 721, 743, 717, 724, 714, 721, 720]\n"
     ]
    }
   ],
   "source": [
    "# build vector with dt's\n",
    "dts=[]\n",
    "for idx in subjects_1_3_idx:\n",
    "    for j in Subjects[idx].jacobians:\n",
    "        dts.append(j.dt)\n",
    "print(np.shape(dts))\n",
    "print(dts)\n",
    "dt = np.asarray(dts)/365  "
   ]
  },
  {
   "cell_type": "code",
   "execution_count": 12,
   "metadata": {},
   "outputs": [],
   "source": [
    "def cross_validation_SelectPercentile_long(X, y, clf, splits, linspace, dt):\n",
    "    \n",
    "    l=len(linspace)\n",
    "    l2=X.shape[1]\n",
    "    ACC=np.zeros((l))\n",
    "    ROC=np.zeros((l))\n",
    "    F1=np.zeros((l))\n",
    "    MCC=np.zeros((l))\n",
    "    APS=np.zeros((l))\n",
    "    PREC=np.zeros((l))\n",
    "    REC=np.zeros((l))\n",
    "    \n",
    "    #ages=np.reshape(ages, (124,1))\n",
    "    #dt=np.reshape(dt, (124,1))\n",
    "        \n",
    "    spl = StratifiedShuffleSplit(n_splits=splits, test_size=0.3, random_state=42)\n",
    "    for train_index, test_index in spl.split(sub_id_short, y_short): #split in subjects\n",
    "        sub_id_train = sub_id_short[train_index] #search subject train idxs\n",
    "        idx = np.isin(sub_id, sub_id_train) #match train idxs \n",
    "        X_train = X[idx,:]\n",
    "        X_test = X[~idx,:]\n",
    "        y_train = y[idx]\n",
    "        y_test = y[~idx]\n",
    "        \n",
    "        \n",
    "        acc_l=[]\n",
    "        roc_l=[]\n",
    "        f1_l=[]\n",
    "        mcc_l=[]\n",
    "        aps_l=[]\n",
    "        prec_l=[]\n",
    "        rec_l=[]\n",
    "        \n",
    "        for n in linspace:\n",
    "            \n",
    "            y_test = y[test_index]\n",
    "            dt_test = dt[test_index]\n",
    "            \n",
    "            print(n)\n",
    "            S = SelectPercentile(percentile=n)\n",
    "            #S = SelectKBest(f_classif, k=1000)\n",
    "            S.fit(X_train, y_train)\n",
    "            X_train_s = X_train[:,S.get_support()]\n",
    "            X_test_s = X_test[:,S.get_support()]\n",
    "            \n",
    "          \n",
    "\n",
    "            #X_train=np.concatenate((X_train, ages), axis=1)\n",
    "            #X_train=np.concatenate((X_train, dt), axis=1)\n",
    "            #X_tr=np.concatenate((X_train, ages), axis=1)\n",
    "            #X_train=np.concatenate((X_train, dt), axis=1)\n",
    "            \n",
    "            \n",
    "            \n",
    "            y_score = clf.fit(X_train_s, y_train).decision_function(X_test_s)\n",
    "            pred = clf.predict(X_test_s)\n",
    "            \n",
    "            mask0 = np.where(dt_test>1.09)#~400 days\n",
    "            mask0 = np.asarray(mask0)\n",
    "            pred = pred[mask0][0]\n",
    "            y_test = y_test[mask0][0]\n",
    "            y_score = y_score[mask0][0]\n",
    "            \n",
    "                \n",
    "            acc = accuracy_score(y_test, pred)\n",
    "            roc=roc_auc_score(y_test, y_score)\n",
    "            f1=f1_score(y_test, pred)\n",
    "            mcc=matthews_corrcoef(y_test, pred)\n",
    "            aps=average_precision_score(y_test, y_score)\n",
    "            precision=precision_score(y_test, pred)\n",
    "            recall=recall_score(y_test, pred)\n",
    "            \n",
    "            acc_l.append(acc)\n",
    "            roc_l.append(roc)\n",
    "            f1_l.append(f1)\n",
    "            mcc_l.append(mcc)\n",
    "            aps_l.append(aps)\n",
    "            prec_l.append(precision)\n",
    "            rec_l.append(recall)\n",
    "            \n",
    "        ACC = np.vstack((ACC, acc_l))\n",
    "        ROC = np.vstack((ROC, roc_l))\n",
    "        F1 = np.vstack((F1, f1_l))\n",
    "        MCC = np.vstack((MCC, mcc_l))\n",
    "        APS = np.vstack((APS, aps_l))\n",
    "        PREC = np.vstack((PREC, prec_l))\n",
    "        REC = np.vstack((REC, rec_l))\n",
    "        print(PREC.shape)\n",
    "        \n",
    "            \n",
    "    ACC=ACC[1:,:]\n",
    "    ROC=ROC[1:,:]\n",
    "    F1=F1[1:,:]\n",
    "    MCC=MCC[1:,:]\n",
    "    APS=APS[1:,:]\n",
    "    PREC=PREC[1:,:]\n",
    "    REC=REC[1:,:]\n",
    "    \n",
    "    \n",
    "    m1=np.mean(ACC, axis=0)\n",
    "    dv1=np.std(ACC, axis=0)\n",
    "    m2=np.mean(ROC, axis=0)\n",
    "    dv2=np.std(ROC, axis=0)\n",
    "    m3=np.mean(F1, axis=0)\n",
    "    dv3=np.std(F1, axis=0)\n",
    "    m4=np.mean(MCC, axis=0)\n",
    "    dv4=np.std(MCC, axis=0)\n",
    "    m5=np.mean(APS, axis=0)\n",
    "    dv5=np.std(APS, axis=0)\n",
    "    m6=np.mean(PREC, axis=0)\n",
    "    dv6=np.std(PREC, axis=0)\n",
    "    m7=np.mean(REC, axis=0)\n",
    "    dv7=np.std(REC, axis=0)\n",
    "    \n",
    "    plt.figure(1)\n",
    "    plt.plot(linspace, m1, color='green', label='acc')\n",
    "    plt.plot(linspace, m2, color='red', label='roc')\n",
    "    plt.plot(linspace, m3, color='blue', label='f1_score')\n",
    "    plt.plot(linspace, m4, color='orange', label='mcc')\n",
    "    plt.plot(linspace, m5, color='black', label='aps')\n",
    "    plt.plot(linspace, m6, color='brown', label='precision')\n",
    "    plt.plot(linspace, m7, color='yellow', label='recall')\n",
    "\n",
    "    \n",
    "    \n",
    "\n",
    "    plt.legend(loc='best')\n",
    "    plt.xlabel('percentile')\n",
    "    plt.title('metrics logistic regression combination c1 and c2')\n",
    "    plt.show()\n",
    "    \n",
    "    return m2, m5\n",
    "    "
   ]
  },
  {
   "cell_type": "code",
   "execution_count": 13,
   "metadata": {},
   "outputs": [
    {
     "name": "stdout",
     "output_type": "stream",
     "text": [
      "0.25\n"
     ]
    },
    {
     "name": "stderr",
     "output_type": "stream",
     "text": [
      "/usr/local/lib/python3.4/dist-packages/sklearn/feature_selection/univariate_selection.py:113: UserWarning: Features [   178    179    183 ..., 573236 573239 573240] are constant.\n",
      "  UserWarning)\n",
      "/usr/local/lib/python3.4/dist-packages/sklearn/feature_selection/univariate_selection.py:114: RuntimeWarning: invalid value encountered in true_divide\n",
      "  f = msb / msw\n"
     ]
    },
    {
     "name": "stdout",
     "output_type": "stream",
     "text": [
      "1.75\n",
      "(2, 2)\n",
      "0.25\n"
     ]
    },
    {
     "name": "stderr",
     "output_type": "stream",
     "text": [
      "/usr/local/lib/python3.4/dist-packages/sklearn/feature_selection/univariate_selection.py:113: UserWarning: Features [   149    205    285 ..., 573231 573232 573233] are constant.\n",
      "  UserWarning)\n"
     ]
    },
    {
     "name": "stdout",
     "output_type": "stream",
     "text": [
      "1.75\n",
      "(3, 2)\n",
      "0.25\n"
     ]
    },
    {
     "name": "stderr",
     "output_type": "stream",
     "text": [
      "/usr/local/lib/python3.4/dist-packages/sklearn/feature_selection/univariate_selection.py:113: UserWarning: Features [    89    196    293 ..., 573231 573232 573233] are constant.\n",
      "  UserWarning)\n"
     ]
    },
    {
     "name": "stdout",
     "output_type": "stream",
     "text": [
      "1.75\n",
      "(4, 2)\n",
      "0.25\n"
     ]
    },
    {
     "name": "stderr",
     "output_type": "stream",
     "text": [
      "/usr/local/lib/python3.4/dist-packages/sklearn/feature_selection/univariate_selection.py:113: UserWarning: Features [   355    375    385 ..., 573236 573239 573240] are constant.\n",
      "  UserWarning)\n"
     ]
    },
    {
     "name": "stdout",
     "output_type": "stream",
     "text": [
      "1.75\n",
      "(5, 2)\n",
      "0.25\n"
     ]
    },
    {
     "name": "stderr",
     "output_type": "stream",
     "text": [
      "/usr/local/lib/python3.4/dist-packages/sklearn/feature_selection/univariate_selection.py:113: UserWarning: Features [   175    176    177 ..., 573238 573239 573240] are constant.\n",
      "  UserWarning)\n"
     ]
    },
    {
     "name": "stdout",
     "output_type": "stream",
     "text": [
      "1.75\n",
      "(6, 2)\n",
      "0.25\n"
     ]
    },
    {
     "name": "stderr",
     "output_type": "stream",
     "text": [
      "/usr/local/lib/python3.4/dist-packages/sklearn/feature_selection/univariate_selection.py:113: UserWarning: Features [   149    285    293 ..., 573217 573218 573219] are constant.\n",
      "  UserWarning)\n"
     ]
    },
    {
     "name": "stdout",
     "output_type": "stream",
     "text": [
      "1.75\n",
      "(7, 2)\n",
      "0.25\n"
     ]
    },
    {
     "name": "stderr",
     "output_type": "stream",
     "text": [
      "/usr/local/lib/python3.4/dist-packages/sklearn/feature_selection/univariate_selection.py:113: UserWarning: Features [    84    127    138 ..., 573236 573239 573240] are constant.\n",
      "  UserWarning)\n"
     ]
    },
    {
     "name": "stdout",
     "output_type": "stream",
     "text": [
      "1.75\n",
      "(8, 2)\n",
      "0.25\n"
     ]
    },
    {
     "name": "stderr",
     "output_type": "stream",
     "text": [
      "/usr/local/lib/python3.4/dist-packages/sklearn/feature_selection/univariate_selection.py:113: UserWarning: Features [   178    179    183 ..., 573210 573211 573238] are constant.\n",
      "  UserWarning)\n"
     ]
    },
    {
     "name": "stdout",
     "output_type": "stream",
     "text": [
      "1.75\n",
      "(9, 2)\n",
      "0.25\n"
     ]
    },
    {
     "name": "stderr",
     "output_type": "stream",
     "text": [
      "/usr/local/lib/python3.4/dist-packages/sklearn/feature_selection/univariate_selection.py:113: UserWarning: Features [   177    185    190 ..., 573234 573235 573238] are constant.\n",
      "  UserWarning)\n"
     ]
    },
    {
     "name": "stdout",
     "output_type": "stream",
     "text": [
      "1.75\n",
      "(10, 2)\n",
      "0.25\n"
     ]
    },
    {
     "name": "stderr",
     "output_type": "stream",
     "text": [
      "/usr/local/lib/python3.4/dist-packages/sklearn/feature_selection/univariate_selection.py:113: UserWarning: Features [   127    138    235 ..., 573171 573179 573191] are constant.\n",
      "  UserWarning)\n"
     ]
    },
    {
     "name": "stdout",
     "output_type": "stream",
     "text": [
      "1.75\n",
      "(11, 2)\n",
      "0.25\n"
     ]
    },
    {
     "name": "stderr",
     "output_type": "stream",
     "text": [
      "/usr/local/lib/python3.4/dist-packages/sklearn/feature_selection/univariate_selection.py:113: UserWarning: Features [   149    177    185 ..., 573228 573229 573238] are constant.\n",
      "  UserWarning)\n"
     ]
    },
    {
     "name": "stdout",
     "output_type": "stream",
     "text": [
      "1.75\n",
      "(12, 2)\n",
      "0.25\n"
     ]
    },
    {
     "name": "stderr",
     "output_type": "stream",
     "text": [
      "/usr/local/lib/python3.4/dist-packages/sklearn/feature_selection/univariate_selection.py:113: UserWarning: Features [   173    174    185 ..., 573218 573219 573238] are constant.\n",
      "  UserWarning)\n"
     ]
    },
    {
     "name": "stdout",
     "output_type": "stream",
     "text": [
      "1.75\n",
      "(13, 2)\n",
      "0.25\n"
     ]
    },
    {
     "name": "stderr",
     "output_type": "stream",
     "text": [
      "/usr/local/lib/python3.4/dist-packages/sklearn/feature_selection/univariate_selection.py:113: UserWarning: Features [    89    293    301 ..., 573217 573218 573219] are constant.\n",
      "  UserWarning)\n"
     ]
    },
    {
     "name": "stdout",
     "output_type": "stream",
     "text": [
      "1.75\n",
      "(14, 2)\n",
      "0.25\n"
     ]
    },
    {
     "name": "stderr",
     "output_type": "stream",
     "text": [
      "/usr/local/lib/python3.4/dist-packages/sklearn/feature_selection/univariate_selection.py:113: UserWarning: Features [   277    293    301 ..., 573199 573200 573201] are constant.\n",
      "  UserWarning)\n"
     ]
    },
    {
     "name": "stdout",
     "output_type": "stream",
     "text": [
      "1.75\n",
      "(15, 2)\n",
      "0.25\n"
     ]
    },
    {
     "name": "stderr",
     "output_type": "stream",
     "text": [
      "/usr/local/lib/python3.4/dist-packages/sklearn/feature_selection/univariate_selection.py:113: UserWarning: Features [   332    345    355 ..., 573236 573239 573240] are constant.\n",
      "  UserWarning)\n"
     ]
    },
    {
     "name": "stdout",
     "output_type": "stream",
     "text": [
      "1.75\n",
      "(16, 2)\n",
      "0.25\n"
     ]
    },
    {
     "name": "stderr",
     "output_type": "stream",
     "text": [
      "/usr/local/lib/python3.4/dist-packages/sklearn/feature_selection/univariate_selection.py:113: UserWarning: Features [    89    127    138 ..., 573201 573202 573203] are constant.\n",
      "  UserWarning)\n"
     ]
    },
    {
     "name": "stdout",
     "output_type": "stream",
     "text": [
      "1.75\n",
      "(17, 2)\n",
      "0.25\n"
     ]
    },
    {
     "name": "stderr",
     "output_type": "stream",
     "text": [
      "/usr/local/lib/python3.4/dist-packages/sklearn/feature_selection/univariate_selection.py:113: UserWarning: Features [   127    138    185 ..., 573234 573235 573238] are constant.\n",
      "  UserWarning)\n"
     ]
    },
    {
     "name": "stdout",
     "output_type": "stream",
     "text": [
      "1.75\n",
      "(18, 2)\n",
      "0.25\n"
     ]
    },
    {
     "name": "stderr",
     "output_type": "stream",
     "text": [
      "/usr/local/lib/python3.4/dist-packages/sklearn/feature_selection/univariate_selection.py:113: UserWarning: Features [   285    479    545 ..., 573236 573239 573240] are constant.\n",
      "  UserWarning)\n"
     ]
    },
    {
     "name": "stdout",
     "output_type": "stream",
     "text": [
      "1.75\n",
      "(19, 2)\n",
      "0.25\n"
     ]
    },
    {
     "name": "stderr",
     "output_type": "stream",
     "text": [
      "/usr/local/lib/python3.4/dist-packages/sklearn/feature_selection/univariate_selection.py:113: UserWarning: Features [   185    190    191 ..., 573200 573201 573238] are constant.\n",
      "  UserWarning)\n"
     ]
    },
    {
     "name": "stdout",
     "output_type": "stream",
     "text": [
      "1.75\n",
      "(20, 2)\n",
      "0.25\n"
     ]
    },
    {
     "name": "stderr",
     "output_type": "stream",
     "text": [
      "/usr/local/lib/python3.4/dist-packages/sklearn/feature_selection/univariate_selection.py:113: UserWarning: Features [     4     89    178 ..., 573227 573228 573229] are constant.\n",
      "  UserWarning)\n"
     ]
    },
    {
     "name": "stdout",
     "output_type": "stream",
     "text": [
      "1.75\n",
      "(21, 2)\n"
     ]
    },
    {
     "data": {
      "image/png": "[encoded data removed]",
      "text/plain": [
       "<matplotlib.figure.Figure at 0x7feba0918710>"
      ]
     },
     "metadata": {},
     "output_type": "display_data"
    }
   ],
   "source": [
    "#clf = SVC(kernel='linear', probability = True, C=10000)\n",
    "#X=np.transpose(np.transpose(X)/dt)\n",
    "clf = LogisticRegression(solver='liblinear', penalty='l2',class_weight='balanced', C=1.25)\n",
    "linspace = np.linspace(0.25, 1.75, num=2)\n",
    "splits=20\n",
    "roc, aps = cross_validation_SelectPercentile_long(X, y, clf, splits, linspace, dt)"
   ]
  },
  {
   "cell_type": "code",
   "execution_count": null,
   "metadata": {},
   "outputs": [],
   "source": []
  }
 ],
 "metadata": {
  "kernelspec": {
   "display_name": "Python 3",
   "language": "python",
   "name": "python3"
  },
  "language_info": {
   "codemirror_mode": {
    "name": "ipython",
    "version": 3
   },
   "file_extension": ".py",
   "mimetype": "text/x-python",
   "name": "python",
   "nbconvert_exporter": "python",
   "pygments_lexer": "ipython3",
   "version": "3.4.2"
  }
 },
 "nbformat": 4,
 "nbformat_minor": 2
}
