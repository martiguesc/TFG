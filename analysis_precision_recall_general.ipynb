{
 "cells": [
  {
   "cell_type": "code",
   "execution_count": 1,
   "metadata": {},
   "outputs": [
    {
     "name": "stderr",
     "output_type": "stream",
     "text": [
      "/usr/local/lib/python3.4/dist-packages/sklearn/cross_validation.py:41: DeprecationWarning: This module was deprecated in version 0.18 in favor of the model_selection module into which all the refactored classes and functions are moved. Also note that the interface of the new CV iterators are different from that of this module. This module will be removed in 0.20.\n",
      "  \"This module will be removed in 0.20.\", DeprecationWarning)\n"
     ]
    }
   ],
   "source": [
    "from imports_func import *\n",
    "from dbase import *"
   ]
  },
  {
   "cell_type": "code",
   "execution_count": 10,
   "metadata": {},
   "outputs": [],
   "source": [
    "X=np.load('/home/miquel/ForMiquel/CLEAN2/X_full.npy') \n",
    "y=np.load('/home/miquel/ForMiquel/CLEAN2/y_1j_full.npy')\n",
    "jac_idx=np.load('/home/miquel/ForMiquel/CLEAN2/jac_idx_1j_full.npy')\n",
    "sub_id=np.load('/home/miquel/ForMiquel/CLEAN2/sub_id_short.npy') #subject idxs"
   ]
  },
  {
   "cell_type": "code",
   "execution_count": 3,
   "metadata": {},
   "outputs": [],
   "source": [
    "# build vector with dt's\n",
    "dt=[]\n",
    "for i in range(0,len(sub_id)):\n",
    "    dt.append(Subjects[sub_id[i]].jacobians[jac_idx[i]].dt)\n",
    "dt = np.asarray(dt)/365"
   ]
  },
  {
   "cell_type": "code",
   "execution_count": 4,
   "metadata": {},
   "outputs": [],
   "source": [
    "# build vector with ages\n",
    "ages=[]\n",
    "for i in range(0,len(sub_id)):\n",
    "    ages.append(Subjects[sub_id[i]].age_bl)\n",
    "    \n",
    "ages = np.asarray(ages) "
   ]
  },
  {
   "cell_type": "code",
   "execution_count": 45,
   "metadata": {},
   "outputs": [],
   "source": [
    "def cross_validation_analysis(X, y, zeros, clf, splits, percentage, dt):\n",
    "      \n",
    "    split=0\n",
    "    box = np.zeros((121,145,121))\n",
    "    precision_l=[]\n",
    "    recall_l=[]\n",
    "    threshold_l=[]\n",
    "    print(\"split:\",split)\n",
    "    \n",
    "\n",
    "    spl = StratifiedShuffleSplit(n_splits=splits, test_size=0.2, random_state=40)\n",
    "    for train_index, test_index in spl.split(X, y):\n",
    "        X_train = X[train_index,:]\n",
    "        y_train = y[train_index]\n",
    "        X_test = X[test_index,:]\n",
    "        y_test = y[test_index]\n",
    "        \n",
    "        spl_aux = StratifiedShuffleSplit(n_splits=1, test_size=0.2, random_state=40)\n",
    "        for train_index, test_index in spl_aux.split(X_train, y_train):\n",
    "            X_train_aux = X_train[train_index,:]\n",
    "            y_train_aux = y_train[train_index]\n",
    "            X_test_aux = X_train[test_index,:]\n",
    "            y_test_aux = y_train[test_index]\n",
    "\n",
    "            S = SelectPercentile(percentile=percentage)\n",
    "            S.fit(X_train_aux, y_train_aux)\n",
    "        \n",
    "            X_train_aux_s = X_train_aux[:,S.get_support()]\n",
    "            X_test_aux_s = X_test_aux[:,S.get_support()]\n",
    "            X_test_s = X_test[:,S.get_support()]\n",
    "        \n",
    "            if split == 0:\n",
    "                print(\"shape X_train:\",np.shape(X_train_aux_s))\n",
    "        \n",
    "            model = clf\n",
    "            y_score_train = model.fit(X_train_aux_s, y_train_aux).decision_function(X_train_aux_s)\n",
    "            model = clf\n",
    "            y_score = model.fit(X_train_aux_s, y_train_aux).decision_function(X_test_aux_s)\n",
    "        \n",
    "      \n",
    "        #mask0 = np.where(dt_train>400)\n",
    "        #mask0 = np.asarray(mask0)\n",
    "        #y_train = y_train[mask0][0]\n",
    "        #y_score_train = y_score_train[mask0][0]\n",
    "    \n",
    "        #mask0 = np.where(dt_test>400)\n",
    "        #mask0 = np.asarray(mask0)\n",
    "        #y_test = y_test[mask0][0]\n",
    "        #y_score = y_score[mask0][0]\n",
    "        \n",
    "            average_precision_train = average_precision_score(y_train_aux, y_score_train)\n",
    "            average_precision = average_precision_score(y_test_aux, y_score)\n",
    "            print(\"average_precision_train:\", average_precision_train)\n",
    "            print(\"average_precision_test:\", average_precision)\n",
    "        \n",
    "            precision_t, recall_t, thresholds_t = precision_recall_curve(y_train_aux, y_score_train) \n",
    "            precision, recall, thresholds = precision_recall_curve(y_test_aux, y_score)    \n",
    "        \n",
    "            f1 = 2 * (precision * recall) / (precision + recall)\n",
    "    \n",
    "            maxi = np.amax(f1)\n",
    "            maxi_idx = np.argmax(f1)\n",
    "        \n",
    "            if precision[maxi_idx] != 0 or recall[maxi_idx] != 0:\n",
    "                \n",
    "                th_opt=thresholds[maxi_idx]#chosen th with train\n",
    "                print(\"th_opt:\", th_opt)\n",
    "                y_score = model.fit(X_train_aux_s, y_train_aux).decision_function(X_test_s)\n",
    "                print(\"y_score:\", y_score)\n",
    "                mask = np.where(y_score>th_opt)#1's in y_true test\n",
    "                mask = np.asarray(mask)\n",
    "                pred=np.zeros(X_test.shape[0])\n",
    "                pred[mask[0]]=np.ones(len(mask[0]))\n",
    "                print(\"pred:\", pred)\n",
    "                precision=precision_score(y_test, pred)\n",
    "                recall=recall_score(y_test, pred)\n",
    "                \n",
    "                \n",
    "                precision_l.append(precision)\n",
    "                recall_l.append(recall)\n",
    "                threshold_l.append(th_opt)\n",
    "                print(\"split:\",split)\n",
    "                split = split + 1\n",
    "                \n",
    "\n",
    "    \n",
    "    print(\"thresholds:\", threshold_l)\n",
    "    print()\n",
    "    print(\"precisions:\", precision_l)\n",
    "    print()\n",
    "    print(\"precision mean:\", np.mean(precision_l))\n",
    "    print()\n",
    "    print(\"recalls:\", recall_l)\n",
    "    print()\n",
    "    print(\"recall mean:\", np.mean(recall_l))        \n",
    "\n",
    "    \n",
    "    "
   ]
  },
  {
   "cell_type": "code",
   "execution_count": 46,
   "metadata": {},
   "outputs": [
    {
     "name": "stdout",
     "output_type": "stream",
     "text": [
      "split: 0\n"
     ]
    },
    {
     "name": "stderr",
     "output_type": "stream",
     "text": [
      "/usr/local/lib/python3.4/dist-packages/sklearn/feature_selection/univariate_selection.py:113: UserWarning: Features [    13     99    177 ..., 573915 573916 573919] are constant.\n",
      "  UserWarning)\n",
      "/usr/local/lib/python3.4/dist-packages/sklearn/feature_selection/univariate_selection.py:114: RuntimeWarning: invalid value encountered in true_divide\n",
      "  f = msb / msw\n"
     ]
    },
    {
     "name": "stdout",
     "output_type": "stream",
     "text": [
      "shape X_train: (79, 1435)\n",
      "average_precision_train: 0.860914117583\n",
      "average_precision_test: 0.720455473856\n",
      "th_opt: -0.52601316158\n",
      "y_score: [ 0.04551051 -0.17826228 -0.49137023  1.55849549 -0.212661   -0.51677817\n",
      " -0.12080114  2.09592309  0.08924537  0.20989127 -0.4174844  -0.07809308\n",
      " -0.50153372 -0.43234391 -0.64902184  0.44388553 -0.280707   -0.53210853\n",
      " -0.6636579   0.26163695 -0.49280024 -1.34164748 -1.23814861 -0.84535561\n",
      " -0.62116336]\n",
      "pred: [ 1.  1.  1.  1.  1.  1.  1.  1.  1.  1.  1.  1.  1.  1.  0.  1.  1.  0.\n",
      "  0.  1.  1.  0.  0.  0.  0.]\n",
      "split: 0\n"
     ]
    },
    {
     "name": "stderr",
     "output_type": "stream",
     "text": [
      "/usr/local/lib/python3.4/dist-packages/sklearn/feature_selection/univariate_selection.py:113: UserWarning: Features [   178    179    183 ..., 573917 573920 573921] are constant.\n",
      "  UserWarning)\n"
     ]
    },
    {
     "name": "stdout",
     "output_type": "stream",
     "text": [
      "average_precision_train: 0.940458824293\n",
      "average_precision_test: 0.708807174185\n",
      "th_opt: -0.0941158689059\n",
      "y_score: [ -4.49614290e-01  -3.70506411e-01  -3.94185055e-01  -3.43639795e-01\n",
      "  -1.53697305e-01  -3.41107381e-01  -5.25537162e-01   5.48280866e-01\n",
      "  -5.10501494e-01  -3.09119407e-01  -4.76697499e-01  -1.41712463e-01\n",
      "  -2.30472501e-01   4.28826302e-01  -2.52962291e-01  -2.56601949e-01\n",
      "  -1.95579008e-04  -2.58493474e-01   1.60141621e+00  -1.88726971e-01\n",
      "  -8.80580226e-02   2.15921901e-01  -5.48019183e-01  -2.78104435e-01\n",
      "   6.81454557e-01]\n",
      "pred: [ 0.  0.  0.  0.  0.  0.  0.  1.  0.  0.  0.  0.  0.  1.  0.  0.  1.  0.\n",
      "  1.  0.  1.  1.  0.  0.  1.]\n",
      "split: 1\n"
     ]
    },
    {
     "name": "stderr",
     "output_type": "stream",
     "text": [
      "/usr/local/lib/python3.4/dist-packages/sklearn/feature_selection/univariate_selection.py:113: UserWarning: Features [   149    265    275 ..., 573912 573913 573914] are constant.\n",
      "  UserWarning)\n"
     ]
    },
    {
     "name": "stdout",
     "output_type": "stream",
     "text": [
      "average_precision_train: 0.875525285181\n",
      "average_precision_test: 0.624089635854\n"
     ]
    },
    {
     "name": "stderr",
     "output_type": "stream",
     "text": [
      "/usr/local/lib/python3.4/dist-packages/ipykernel_launcher.py:59: RuntimeWarning: invalid value encountered in true_divide\n",
      "/usr/local/lib/python3.4/dist-packages/sklearn/feature_selection/univariate_selection.py:113: UserWarning: Features [    85    149    173 ..., 573915 573916 573919] are constant.\n",
      "  UserWarning)\n"
     ]
    },
    {
     "name": "stdout",
     "output_type": "stream",
     "text": [
      "average_precision_train: 0.895636404137\n",
      "average_precision_test: 0.459814664502\n",
      "th_opt: -1.16007453649\n",
      "y_score: [ 3.90962369  0.67571019 -0.6521247  -1.49869581 -1.12194588 -0.44040965\n",
      " -0.81408989  0.41980343 -0.63187226  0.44922881  4.29573718  0.03998889\n",
      " -0.69094262 -0.64951064 -0.80064636 -0.69989388 -0.62096456 -0.37591289\n",
      "  0.58451458  0.39819307 -0.89880643 -1.23396311 -0.59349466 -0.8979321\n",
      "  0.49067653]\n",
      "pred: [ 1.  1.  1.  0.  1.  1.  1.  1.  1.  1.  1.  1.  1.  1.  1.  1.  1.  1.\n",
      "  1.  1.  1.  0.  1.  1.  1.]\n",
      "split: 2\n"
     ]
    },
    {
     "name": "stderr",
     "output_type": "stream",
     "text": [
      "/usr/local/lib/python3.4/dist-packages/sklearn/feature_selection/univariate_selection.py:113: UserWarning: Features [    71    149    178 ..., 573912 573913 573914] are constant.\n",
      "  UserWarning)\n"
     ]
    },
    {
     "name": "stdout",
     "output_type": "stream",
     "text": [
      "average_precision_train: 0.916576746819\n",
      "average_precision_test: 0.552229787756\n",
      "th_opt: -0.750384825154\n",
      "y_score: [ 0.0382917   0.35629783  0.09846792 -0.39254699 -0.19787999 -0.63671295\n",
      " -0.22640196  0.26891295 -0.27560729 -0.14487252 -0.27475461 -0.51156667\n",
      " -0.06045749  0.39772832 -0.20554741 -0.22109091 -0.4212888  -0.11082393\n",
      "  0.04004149 -0.48580525  0.48616777 -0.33381297  1.53731463 -0.13590704\n",
      "  0.30992585]\n",
      "pred: [ 1.  1.  1.  1.  1.  1.  1.  1.  1.  1.  1.  1.  1.  1.  1.  1.  1.  1.\n",
      "  1.  1.  1.  1.  1.  1.  1.]\n",
      "split: 3\n"
     ]
    },
    {
     "name": "stderr",
     "output_type": "stream",
     "text": [
      "/usr/local/lib/python3.4/dist-packages/sklearn/feature_selection/univariate_selection.py:113: UserWarning: Features [    13     90     99 ..., 573870 573892 573893] are constant.\n",
      "  UserWarning)\n"
     ]
    },
    {
     "name": "stdout",
     "output_type": "stream",
     "text": [
      "average_precision_train: 0.923797522551\n",
      "average_precision_test: 0.593696581197\n",
      "th_opt: -0.212285607609\n",
      "y_score: [ 1.88340239  0.86132316 -0.22977226 -0.4660219   0.23036725 -0.40879629\n",
      "  0.68762361  0.10288794 -0.02730033 -0.06500449  0.69855501 -0.16961362\n",
      " -0.28621272 -0.01752752 -0.51325737 -0.35672478 -0.00638766  0.9265805\n",
      " -0.15962375  0.77340411 -0.30353052  0.04658882  0.11245874 -0.52439723\n",
      " -0.01100512]\n",
      "pred: [ 1.  1.  0.  0.  1.  0.  1.  1.  1.  1.  1.  1.  0.  1.  0.  0.  1.  1.\n",
      "  1.  1.  0.  1.  1.  0.  1.]\n",
      "split: 4\n"
     ]
    },
    {
     "name": "stderr",
     "output_type": "stream",
     "text": [
      "/usr/local/lib/python3.4/dist-packages/sklearn/feature_selection/univariate_selection.py:113: UserWarning: Features [    71    178    179 ..., 573912 573913 573914] are constant.\n",
      "  UserWarning)\n"
     ]
    },
    {
     "name": "stdout",
     "output_type": "stream",
     "text": [
      "average_precision_train: 0.856839027592\n",
      "average_precision_test: 0.858881578947\n",
      "th_opt: -0.136936089319\n",
      "y_score: [ 0.01830733 -0.40453899  0.51548691 -0.58180561  0.78574005 -0.15704017\n",
      "  1.96430517 -1.3301564  -0.34148186  0.10154262 -0.0564024   0.04709364\n",
      "  0.20791518  1.44641709  0.06617656 -0.18906407  1.12873771 -0.4869055\n",
      " -0.50706377  0.36665375  0.72742595 -1.44734886 -0.3362134  -0.39658668\n",
      "  0.49057161]\n",
      "pred: [ 1.  0.  1.  0.  1.  0.  1.  0.  0.  1.  1.  1.  1.  1.  1.  0.  1.  0.\n",
      "  0.  1.  1.  0.  0.  0.  1.]\n",
      "split: 5\n"
     ]
    },
    {
     "name": "stderr",
     "output_type": "stream",
     "text": [
      "/usr/local/lib/python3.4/dist-packages/sklearn/feature_selection/univariate_selection.py:113: UserWarning: Features [     5     13     91 ..., 573904 573905 573906] are constant.\n",
      "  UserWarning)\n"
     ]
    },
    {
     "name": "stdout",
     "output_type": "stream",
     "text": [
      "average_precision_train: 0.848088010308\n",
      "average_precision_test: 0.50698336751\n",
      "th_opt: -1.18004787455\n",
      "y_score: [ 0.6213279  -0.85072089 -0.4393084  -0.7403972  -0.05500655  0.41967413\n",
      " -0.65127279 -0.45351122  0.16744213 -0.12155415  0.17896978  0.76432064\n",
      "  0.64080302 -0.11517414 -0.74515439  0.55228185 -0.08814057  0.69520439\n",
      "  0.608775   -0.57429108 -0.9283612  -0.43330645  0.13849204 -0.59662777\n",
      " -0.13442837]\n",
      "pred: [ 1.  1.  1.  1.  1.  1.  1.  1.  1.  1.  1.  1.  1.  1.  1.  1.  1.  1.\n",
      "  1.  1.  1.  1.  1.  1.  1.]\n",
      "split: 6\n",
      "average_precision_train: 0.867049018747\n",
      "average_precision_test: 0.535617690058\n",
      "th_opt: -1.16009431156\n",
      "y_score: [ 1.24923004 -0.62734626 -0.72094191 -0.49073308 -0.74522498 -0.73361539\n",
      " -0.48536577  0.25824729 -0.47217049 -0.47149504 -0.25129227  0.05870957\n",
      "  0.4218259  -0.10408246 -0.1423796  -1.19900933 -0.49016869  0.529733\n",
      " -0.3938046  -0.74187798  0.22894407  0.15500472  0.32310389 -0.01231833\n",
      " -0.90109404]\n",
      "pred: [ 1.  1.  1.  1.  1.  1.  1.  1.  1.  1.  1.  1.  1.  1.  1.  0.  1.  1.\n",
      "  1.  1.  1.  1.  1.  1.  1.]\n",
      "split: 7\n"
     ]
    },
    {
     "name": "stderr",
     "output_type": "stream",
     "text": [
      "/usr/local/lib/python3.4/dist-packages/sklearn/feature_selection/univariate_selection.py:113: UserWarning: Features [    71    149    197 ..., 573912 573913 573914] are constant.\n",
      "  UserWarning)\n"
     ]
    },
    {
     "name": "stdout",
     "output_type": "stream",
     "text": [
      "average_precision_train: 0.8782257476\n",
      "average_precision_test: 0.659649378399\n",
      "th_opt: -0.208364189275\n",
      "y_score: [-0.44204748 -0.87050338 -0.0785305  -0.56983176  0.44716558 -0.04480508\n",
      " -0.3468512   0.78869695 -1.62120528  0.71381682 -0.36392063 -0.15545043\n",
      " -0.19810033 -0.36700869 -0.5350646   0.03856364 -0.31793965 -0.66732911\n",
      "  0.53770088  0.15447659 -1.64604231 -0.30370969 -0.14535841 -1.27216283\n",
      " -0.95349776]\n",
      "pred: [ 0.  0.  1.  0.  1.  1.  0.  1.  0.  1.  0.  1.  1.  0.  0.  1.  0.  0.\n",
      "  1.  1.  0.  0.  1.  0.  0.]\n",
      "split: 8\n"
     ]
    },
    {
     "name": "stderr",
     "output_type": "stream",
     "text": [
      "/usr/local/lib/python3.4/dist-packages/sklearn/feature_selection/univariate_selection.py:113: UserWarning: Features [    13     99    196 ..., 573912 573913 573914] are constant.\n",
      "  UserWarning)\n"
     ]
    },
    {
     "name": "stdout",
     "output_type": "stream",
     "text": [
      "average_precision_train: 0.847826711393\n",
      "average_precision_test: 0.620220588235\n",
      "th_opt: -1.49503243841\n",
      "y_score: [ 0.97965534 -0.08313684  0.27225827  0.29408782  2.06748772 -0.79521492\n",
      " -0.39864082 -0.31567937 -1.00455868 -0.08569535 -0.35867159  0.04628183\n",
      " -1.59148022 -0.57105689 -0.44693928 -0.60567279 -0.37863514  1.27407576\n",
      " -0.62511293  0.0776419  -0.69141917 -1.11184899  0.67671238 -0.78091026\n",
      " -0.38474059]\n",
      "pred: [ 1.  1.  1.  1.  1.  1.  1.  1.  1.  1.  1.  1.  0.  1.  1.  1.  1.  1.\n",
      "  1.  1.  1.  1.  1.  1.  1.]\n",
      "split: 9\n"
     ]
    },
    {
     "name": "stderr",
     "output_type": "stream",
     "text": [
      "/usr/local/lib/python3.4/dist-packages/sklearn/feature_selection/univariate_selection.py:113: UserWarning: Features [    13     90     99 ..., 573915 573916 573919] are constant.\n",
      "  UserWarning)\n"
     ]
    },
    {
     "name": "stdout",
     "output_type": "stream",
     "text": [
      "average_precision_train: 0.853779204159\n",
      "average_precision_test: 0.557837301587\n",
      "th_opt: -1.28820286647\n",
      "y_score: [-0.26899233  0.77863085 -0.60378213  0.83613234 -0.49608376 -0.29703855\n",
      "  0.25786889 -0.26758685  0.11889249 -0.32940172  0.11597701 -1.52498952\n",
      " -0.65561928 -0.64269304  0.38474501  1.1789996  -1.05976807  0.57458218\n",
      "  1.08416299 -0.53809823 -0.41369244  2.54672094 -0.68618602 -0.38829012\n",
      " -0.41368718]\n",
      "pred: [ 1.  1.  1.  1.  1.  1.  1.  1.  1.  1.  1.  0.  1.  1.  1.  1.  1.  1.\n",
      "  1.  1.  1.  1.  1.  1.  1.]\n",
      "split: 10\n",
      "average_precision_train: 0.837461094533\n",
      "average_precision_test: 0.368010134216\n"
     ]
    },
    {
     "name": "stderr",
     "output_type": "stream",
     "text": [
      "/usr/local/lib/python3.4/dist-packages/sklearn/feature_selection/univariate_selection.py:113: UserWarning: Features [    85    173    174 ..., 573877 573887 573888] are constant.\n",
      "  UserWarning)\n"
     ]
    },
    {
     "name": "stdout",
     "output_type": "stream",
     "text": [
      "average_precision_train: 0.893884161012\n",
      "average_precision_test: 0.545085470085\n"
     ]
    },
    {
     "name": "stderr",
     "output_type": "stream",
     "text": [
      "/usr/local/lib/python3.4/dist-packages/sklearn/feature_selection/univariate_selection.py:113: UserWarning: Features [     4     13     90 ..., 573912 573913 573914] are constant.\n",
      "  UserWarning)\n"
     ]
    },
    {
     "name": "stdout",
     "output_type": "stream",
     "text": [
      "average_precision_train: 0.86375548134\n",
      "average_precision_test: 0.715594362745\n",
      "th_opt: 0.0669554318987\n",
      "y_score: [-0.4901655  -0.13264246 -0.01189679  0.44936982 -0.61306767  0.59138641\n",
      " -0.46648327 -0.0870138  -0.2627297  -0.1017775   0.0699548  -0.15144469\n",
      "  0.57035095  1.90846675  0.43438836 -0.487166   -0.96586248  0.68333587\n",
      " -0.08813967 -0.66334571 -0.43911832  0.28018411 -0.88712664  0.23341838\n",
      " -0.36820002]\n",
      "pred: [ 0.  0.  0.  1.  0.  1.  0.  0.  0.  0.  1.  0.  1.  1.  1.  0.  0.  1.\n",
      "  0.  0.  0.  1.  0.  1.  0.]\n",
      "split: 11\n"
     ]
    },
    {
     "name": "stderr",
     "output_type": "stream",
     "text": [
      "/usr/local/lib/python3.4/dist-packages/sklearn/feature_selection/univariate_selection.py:113: UserWarning: Features [    80     85    173 ..., 573915 573916 573919] are constant.\n",
      "  UserWarning)\n"
     ]
    },
    {
     "name": "stdout",
     "output_type": "stream",
     "text": [
      "average_precision_train: 0.892153830259\n",
      "average_precision_test: 0.620193531958\n",
      "th_opt: -1.44594719196\n",
      "y_score: [-0.45146221  0.20930687 -0.09909374  0.12484021 -0.44651749  0.05945837\n",
      " -0.2510683   0.25995643  0.63326946  0.14108388 -0.37280616 -0.13649352\n",
      " -0.84413797 -0.09068746 -0.50039848 -0.77978926  2.29001148  1.20194302\n",
      " -0.63031197 -0.62189879  0.21964532 -0.89318503  0.00531508 -1.47718225\n",
      " -0.04341325]\n",
      "pred: [ 1.  1.  1.  1.  1.  1.  1.  1.  1.  1.  1.  1.  1.  1.  1.  1.  1.  1.\n",
      "  1.  1.  1.  1.  1.  0.  1.]\n",
      "split: 12\n"
     ]
    },
    {
     "name": "stderr",
     "output_type": "stream",
     "text": [
      "/usr/local/lib/python3.4/dist-packages/sklearn/feature_selection/univariate_selection.py:113: UserWarning: Features [    13     85     99 ..., 573917 573920 573921] are constant.\n",
      "  UserWarning)\n"
     ]
    },
    {
     "name": "stdout",
     "output_type": "stream",
     "text": [
      "average_precision_train: 0.874328805885\n",
      "average_precision_test: 0.412187324092\n"
     ]
    },
    {
     "name": "stderr",
     "output_type": "stream",
     "text": [
      "/usr/local/lib/python3.4/dist-packages/sklearn/feature_selection/univariate_selection.py:113: UserWarning: Features [   178    179    183 ..., 573904 573905 573906] are constant.\n",
      "  UserWarning)\n"
     ]
    },
    {
     "name": "stdout",
     "output_type": "stream",
     "text": [
      "average_precision_train: 0.872270210935\n",
      "average_precision_test: 0.519724556489\n",
      "th_opt: -0.761853346384\n",
      "y_score: [-0.38762393 -0.68111338 -0.12941958 -0.31778554  0.23428299 -0.78540135\n",
      "  0.23488842 -0.05343549 -0.07387243 -0.56905347 -0.62598179 -0.14707387\n",
      " -1.27623219 -0.14002467  0.02340455  1.40722131 -0.90095686 -0.55115269\n",
      "  0.19163974  0.10379149 -0.5767376   1.25806613 -1.34500195  0.47070802\n",
      "  0.10342954]\n",
      "pred: [ 1.  1.  1.  1.  1.  0.  1.  1.  1.  1.  1.  1.  0.  1.  1.  1.  0.  1.\n",
      "  1.  1.  1.  1.  0.  1.  1.]\n",
      "split: 13\n"
     ]
    },
    {
     "name": "stderr",
     "output_type": "stream",
     "text": [
      "/usr/local/lib/python3.4/dist-packages/sklearn/feature_selection/univariate_selection.py:113: UserWarning: Features [    13     99    149 ..., 573896 573897 573898] are constant.\n",
      "  UserWarning)\n"
     ]
    },
    {
     "name": "stdout",
     "output_type": "stream",
     "text": [
      "average_precision_train: 0.82928205155\n",
      "average_precision_test: 0.599028822055\n",
      "th_opt: -2.33150022628\n",
      "y_score: [-0.42857995 -0.42312431 -0.63146239 -0.52711802 -0.11911443 -0.60816182\n",
      "  0.16534248  0.312938   -0.68269573 -0.79273098  2.62440094  0.37339872\n",
      "  0.08802818 -0.81066346 -0.20612203  0.3054866  -0.0648739   0.67564703\n",
      "  0.32312923  0.07573952 -1.66463572 -1.43704032 -0.44060514 -0.66133328\n",
      " -0.24819783]\n",
      "pred: [ 1.  1.  1.  1.  1.  1.  1.  1.  1.  1.  1.  1.  1.  1.  1.  1.  1.  1.\n",
      "  1.  1.  1.  1.  1.  1.  1.]\n",
      "split: 14\n"
     ]
    },
    {
     "name": "stderr",
     "output_type": "stream",
     "text": [
      "/usr/local/lib/python3.4/dist-packages/sklearn/feature_selection/univariate_selection.py:113: UserWarning: Features [    13     80     85 ..., 573869 573892 573893] are constant.\n",
      "  UserWarning)\n"
     ]
    },
    {
     "name": "stdout",
     "output_type": "stream",
     "text": [
      "average_precision_train: 0.894298207712\n",
      "average_precision_test: 0.622745310245\n",
      "th_opt: 0.019048806889\n",
      "y_score: [-0.25179291 -0.23067804  0.04330654  0.5268557  -0.17082135 -0.20916787\n",
      "  0.12309099 -0.30128725  0.179906   -0.38254224 -0.64903715 -1.87660082\n",
      "  0.39936304 -0.2183356  -0.00756362 -0.33416716 -0.23208624 -0.20579648\n",
      " -0.03647775  0.0195948   0.25542    -0.33433366 -0.21201052 -0.10006055\n",
      "  0.08741626]\n",
      "pred: [ 0.  0.  1.  1.  0.  0.  1.  0.  1.  0.  0.  0.  1.  0.  0.  0.  0.  0.\n",
      "  0.  1.  1.  0.  0.  0.  1.]\n",
      "split: 15\n",
      "average_precision_train: 0.866650914486\n",
      "average_precision_test: 0.454633520075\n",
      "th_opt: -1.78411000378\n",
      "y_score: [ 0.01776778 -0.66205382 -0.41585885  0.05047483  0.28742123 -0.38943319\n",
      " -0.08663779  0.00406423  0.08170256  0.23838207 -0.27104541 -0.19548158\n",
      " -0.18272185 -0.9199796  -0.64422817 -0.12110486 -0.03673267  0.1424864\n",
      "  1.16084626 -0.24341459 -0.09479084  0.29638346  0.15146362 -0.05166777\n",
      " -0.28622162]\n",
      "pred: [ 1.  1.  1.  1.  1.  1.  1.  1.  1.  1.  1.  1.  1.  1.  1.  1.  1.  1.\n",
      "  1.  1.  1.  1.  1.  1.  1.]\n",
      "split: 16\n"
     ]
    },
    {
     "name": "stderr",
     "output_type": "stream",
     "text": [
      "/usr/local/lib/python3.4/dist-packages/sklearn/feature_selection/univariate_selection.py:113: UserWarning: Features [    13     99    175 ..., 573919 573920 573921] are constant.\n",
      "  UserWarning)\n"
     ]
    },
    {
     "name": "stdout",
     "output_type": "stream",
     "text": [
      "average_precision_train: 0.869095887799\n",
      "average_precision_test: 0.322907027183\n"
     ]
    },
    {
     "name": "stderr",
     "output_type": "stream",
     "text": [
      "/usr/local/lib/python3.4/dist-packages/sklearn/feature_selection/univariate_selection.py:113: UserWarning: Features [   177    178    179 ..., 573919 573920 573921] are constant.\n",
      "  UserWarning)\n"
     ]
    },
    {
     "name": "stdout",
     "output_type": "stream",
     "text": [
      "average_precision_train: 0.893516342191\n",
      "average_precision_test: 0.496922837117\n",
      "th_opt: -0.908612813937\n",
      "y_score: [-0.5209844  -0.06069091  0.69362336 -0.05826683 -0.2032946  -0.37403546\n",
      " -0.4857939  -0.46451873  0.86080574 -0.26326052 -0.3369348  -0.08149999\n",
      " -0.74372219 -0.57621528 -0.01718509 -0.24029674 -0.08258438  0.09786012\n",
      " -0.2547852   0.60520116 -0.24618605 -0.45066761  0.37868109 -0.12300012\n",
      " -1.3143854 ]\n",
      "pred: [ 1.  1.  1.  1.  1.  1.  1.  1.  1.  1.  1.  1.  1.  1.  1.  1.  1.  1.\n",
      "  1.  1.  1.  1.  1.  1.  0.]\n",
      "split: 17\n"
     ]
    },
    {
     "name": "stderr",
     "output_type": "stream",
     "text": [
      "/usr/local/lib/python3.4/dist-packages/sklearn/feature_selection/univariate_selection.py:113: UserWarning: Features [   149    175    176 ..., 573915 573916 573919] are constant.\n",
      "  UserWarning)\n"
     ]
    },
    {
     "name": "stdout",
     "output_type": "stream",
     "text": [
      "average_precision_train: 0.850693861403\n",
      "average_precision_test: 0.436830357143\n"
     ]
    },
    {
     "name": "stderr",
     "output_type": "stream",
     "text": [
      "/usr/local/lib/python3.4/dist-packages/sklearn/feature_selection/univariate_selection.py:113: UserWarning: Features [    13     85     99 ..., 573904 573905 573906] are constant.\n",
      "  UserWarning)\n"
     ]
    },
    {
     "name": "stdout",
     "output_type": "stream",
     "text": [
      "average_precision_train: 0.876898186202\n",
      "average_precision_test: 0.546902056277\n"
     ]
    },
    {
     "name": "stderr",
     "output_type": "stream",
     "text": [
      "/usr/local/lib/python3.4/dist-packages/sklearn/feature_selection/univariate_selection.py:113: UserWarning: Features [   149    175    176 ..., 573919 573920 573921] are constant.\n",
      "  UserWarning)\n"
     ]
    },
    {
     "name": "stdout",
     "output_type": "stream",
     "text": [
      "average_precision_train: 0.874880839942\n",
      "average_precision_test: 0.653645833333\n",
      "th_opt: 0.0167670663745\n",
      "y_score: [-0.85779631  0.10482766 -0.56278515 -0.50385809 -0.19883171 -0.50957597\n",
      " -0.03802651 -0.00331472  0.68783743  0.23034827 -0.12450802 -0.76181648\n",
      "  0.26597971  0.96442437 -0.35457647  0.28553108 -0.26205272 -0.46658951\n",
      " -0.39885469 -0.06225349  0.03403877  0.03354087 -0.71430308 -0.03713618\n",
      " -0.22473001]\n",
      "pred: [ 0.  1.  0.  0.  0.  0.  0.  0.  1.  1.  0.  0.  1.  1.  0.  1.  0.  0.\n",
      "  0.  0.  1.  1.  0.  0.  0.]\n",
      "split: 18\n"
     ]
    },
    {
     "name": "stderr",
     "output_type": "stream",
     "text": [
      "/usr/local/lib/python3.4/dist-packages/sklearn/feature_selection/univariate_selection.py:113: UserWarning: Features [    72    149    275 ..., 573917 573920 573921] are constant.\n",
      "  UserWarning)\n"
     ]
    },
    {
     "name": "stdout",
     "output_type": "stream",
     "text": [
      "average_precision_train: 0.887787933928\n",
      "average_precision_test: 0.64439709596\n",
      "th_opt: -0.0911040316923\n",
      "y_score: [-0.33038899  0.04651866 -0.32724691 -0.05423687 -0.34125397 -0.77073257\n",
      " -0.17900732 -0.1972688  -0.8498926  -0.24424626 -1.37352031 -0.15489962\n",
      " -0.73252669  0.72796528 -0.37393505  0.08800073 -0.42030264 -0.38630829\n",
      " -0.0369145  -0.14858503 -0.07351498 -0.31876544 -0.56831849 -1.70022696\n",
      " -0.2807433 ]\n",
      "pred: [ 0.  1.  0.  1.  0.  0.  0.  0.  0.  0.  0.  0.  0.  1.  0.  1.  0.  0.\n",
      "  1.  0.  1.  0.  0.  0.  0.]\n",
      "split: 19\n"
     ]
    },
    {
     "name": "stderr",
     "output_type": "stream",
     "text": [
      "/usr/local/lib/python3.4/dist-packages/sklearn/feature_selection/univariate_selection.py:113: UserWarning: Features [   175    176    177 ..., 573915 573916 573919] are constant.\n",
      "  UserWarning)\n"
     ]
    },
    {
     "name": "stdout",
     "output_type": "stream",
     "text": [
      "average_precision_train: 0.918744523903\n",
      "average_precision_test: 0.560763888889\n",
      "th_opt: -0.0344291972644\n",
      "y_score: [-0.79575543 -0.18250197 -0.20863663 -0.4034448  -0.3188194   0.60480206\n",
      " -0.37839259  0.16507442 -0.41356185  0.52599014 -0.02721404  0.26059416\n",
      " -0.36837713 -0.49765762 -0.60730724 -0.42104865  0.09754698 -0.11508566\n",
      " -0.51071335  0.13403545  0.45113839  0.60908688 -0.12033502 -0.04692708\n",
      " -0.76412961]\n",
      "pred: [ 0.  0.  0.  0.  0.  1.  0.  1.  0.  1.  1.  1.  0.  0.  0.  0.  1.  0.\n",
      "  0.  1.  1.  1.  0.  0.  0.]\n",
      "split: 20\n"
     ]
    },
    {
     "name": "stderr",
     "output_type": "stream",
     "text": [
      "/usr/local/lib/python3.4/dist-packages/sklearn/feature_selection/univariate_selection.py:113: UserWarning: Features [   149    196    205 ..., 573917 573920 573921] are constant.\n",
      "  UserWarning)\n"
     ]
    },
    {
     "name": "stdout",
     "output_type": "stream",
     "text": [
      "average_precision_train: 0.930820713375\n",
      "average_precision_test: 0.628447320224\n",
      "th_opt: -0.0579533427157\n",
      "y_score: [-0.7108212  -0.72369423 -1.00584938  0.78823687  1.79946084 -0.18388156\n",
      "  0.56120791 -0.1130431   0.75303954 -0.24033449  0.10878879 -0.01690691\n",
      "  0.53674617  0.71448694 -0.64766456 -0.16053936 -0.18386063 -0.06183135\n",
      " -0.13625641  0.49327543  0.2491359  -0.20855691 -0.10131547  1.10054197\n",
      "  0.36530645]\n",
      "pred: [ 0.  0.  0.  1.  1.  0.  1.  0.  1.  0.  1.  1.  1.  1.  0.  0.  0.  0.\n",
      "  0.  1.  1.  0.  0.  1.  1.]\n",
      "split: 21\n",
      "average_precision_train: 0.87495405685\n",
      "average_precision_test: 0.503058126084\n",
      "th_opt: -1.13612842026\n",
      "y_score: [-0.34098044 -0.04873115  1.06390314 -0.45391564 -1.55107079 -0.27707055\n",
      " -0.90415542 -0.89622137 -0.4787147  -1.05427908 -1.17461439 -0.41110825\n",
      " -0.32168702  0.16906194  0.72611686 -0.07921734 -0.42399299 -2.31409122\n",
      " -0.28598285 -0.32004622  0.36061919  1.22760581  2.82300228 -0.63152894\n",
      " -0.09892185]\n",
      "pred: [ 1.  1.  1.  1.  0.  1.  1.  1.  1.  1.  0.  1.  1.  1.  1.  1.  1.  0.\n",
      "  1.  1.  1.  1.  1.  1.  1.]\n",
      "split: 22\n"
     ]
    },
    {
     "name": "stderr",
     "output_type": "stream",
     "text": [
      "/usr/local/lib/python3.4/dist-packages/sklearn/feature_selection/univariate_selection.py:113: UserWarning: Features [    13     99    205 ..., 573912 573913 573914] are constant.\n",
      "  UserWarning)\n"
     ]
    },
    {
     "name": "stdout",
     "output_type": "stream",
     "text": [
      "average_precision_train: 0.909553943667\n",
      "average_precision_test: 0.693437260194\n",
      "th_opt: 0.397711481075\n",
      "y_score: [-0.56740036 -1.00414522 -0.15302204  0.09614672  0.46518809 -0.44824373\n",
      "  0.18160784 -0.61066474 -0.40394738 -0.48481221 -0.38063891 -1.47660327\n",
      " -0.19085219 -0.45872637 -0.46114725 -0.13892059 -0.20867934  0.05984441\n",
      " -0.56897638 -0.3470607  -0.55536435 -0.45545802 -0.28711556  0.011982\n",
      "  0.72732222]\n",
      "pred: [ 0.  0.  0.  0.  1.  0.  0.  0.  0.  0.  0.  0.  0.  0.  0.  0.  0.  0.\n",
      "  0.  0.  0.  0.  0.  0.  1.]\n",
      "split: 23\n"
     ]
    },
    {
     "name": "stderr",
     "output_type": "stream",
     "text": [
      "/usr/local/lib/python3.4/dist-packages/sklearn/feature_selection/univariate_selection.py:113: UserWarning: Features [   177    178    179 ..., 573915 573916 573919] are constant.\n",
      "  UserWarning)\n"
     ]
    },
    {
     "name": "stdout",
     "output_type": "stream",
     "text": [
      "average_precision_train: 0.869660891587\n",
      "average_precision_test: 0.48345734127\n",
      "th_opt: -0.556665300507\n",
      "y_score: [ 0.1273123  -0.18818686  0.35099073 -0.77822205 -0.54518852 -0.48917047\n",
      " -0.52528805 -0.64069687 -0.30517286 -0.17955943 -0.030156   -0.70157919\n",
      " -0.20321547  0.44610647 -0.69148079  0.05099858 -0.07472629  0.55292637\n",
      " -0.28800513 -0.56589786 -0.0343242  -0.63476729 -0.35578619  0.59188668\n",
      " -0.36445552]\n",
      "pred: [ 1.  1.  1.  0.  1.  1.  1.  0.  1.  1.  1.  0.  1.  1.  0.  1.  1.  1.\n",
      "  1.  0.  1.  0.  1.  1.  1.]\n",
      "split: 24\n"
     ]
    },
    {
     "name": "stderr",
     "output_type": "stream",
     "text": [
      "/usr/local/lib/python3.4/dist-packages/sklearn/feature_selection/univariate_selection.py:113: UserWarning: Features [     4     13     85 ..., 573917 573920 573921] are constant.\n",
      "  UserWarning)\n"
     ]
    },
    {
     "name": "stdout",
     "output_type": "stream",
     "text": [
      "average_precision_train: 0.851080685562\n",
      "average_precision_test: 0.604861111111\n"
     ]
    },
    {
     "name": "stderr",
     "output_type": "stream",
     "text": [
      "/usr/local/lib/python3.4/dist-packages/sklearn/feature_selection/univariate_selection.py:113: UserWarning: Features [    13     90     91 ..., 573915 573916 573919] are constant.\n",
      "  UserWarning)\n"
     ]
    },
    {
     "name": "stdout",
     "output_type": "stream",
     "text": [
      "average_precision_train: 0.857607208309\n",
      "average_precision_test: 0.759208683473\n",
      "th_opt: -0.146718605509\n",
      "y_score: [ 0.48513913  0.22313564  0.48274482 -0.18847204 -0.18795099 -1.22404886\n",
      "  0.03851709  0.50316467  0.85596294 -0.95819063 -0.28583026 -0.54490081\n",
      " -0.04416166 -0.29661529 -0.26763173 -0.25179909 -0.6176905  -0.45305263\n",
      " -2.5382581  -0.02647959 -0.81852466 -0.6261232  -0.42968435  0.01992657\n",
      " -0.50716715]\n",
      "pred: [ 1.  1.  1.  0.  0.  0.  1.  1.  1.  0.  0.  0.  1.  0.  0.  0.  0.  0.\n",
      "  0.  1.  0.  0.  0.  1.  0.]\n",
      "split: 25\n",
      "average_precision_train: 0.866253793042\n",
      "average_precision_test: 0.652218451483\n",
      "th_opt: -1.18170373095\n",
      "y_score: [-0.43590358  0.0786881   0.99526942  0.736567   -0.19124952  0.52735261\n",
      " -0.73880639 -0.95986919 -1.51086422 -0.69313888 -0.23401394 -0.4519602\n",
      " -0.48492634 -1.07651583  1.63554174  0.05151329  0.4157315   0.34856658\n",
      "  1.19131882  0.49824082  0.56416354 -0.07946532 -0.89144921 -0.68750568\n",
      "  0.16281044]\n",
      "pred: [ 1.  1.  1.  1.  1.  1.  1.  1.  0.  1.  1.  1.  1.  1.  1.  1.  1.  1.\n",
      "  1.  1.  1.  1.  1.  1.  1.]\n",
      "split: 26\n"
     ]
    },
    {
     "name": "stderr",
     "output_type": "stream",
     "text": [
      "/usr/local/lib/python3.4/dist-packages/sklearn/feature_selection/univariate_selection.py:113: UserWarning: Features [    13     90     99 ..., 573919 573920 573921] are constant.\n",
      "  UserWarning)\n"
     ]
    },
    {
     "name": "stdout",
     "output_type": "stream",
     "text": [
      "average_precision_train: 0.856391156722\n",
      "average_precision_test: 0.579265873016\n",
      "th_opt: -1.50210636699\n",
      "y_score: [-0.31579049 -0.38456263  1.36742805 -0.20892099  0.10698352 -0.56352858\n",
      " -0.43219658  0.00146711  0.90966291 -0.56619777 -0.02851964  0.02227112\n",
      " -0.28789944 -1.00490618 -0.54896831 -0.72539658 -0.42956976 -0.52927819\n",
      " -0.14086702  0.33566665 -0.25898263 -0.63134845 -0.18466108  0.3245866\n",
      "  0.37595696]\n",
      "pred: [ 1.  1.  1.  1.  1.  1.  1.  1.  1.  1.  1.  1.  1.  1.  1.  1.  1.  1.\n",
      "  1.  1.  1.  1.  1.  1.  1.]\n",
      "split: 27\n"
     ]
    },
    {
     "name": "stderr",
     "output_type": "stream",
     "text": [
      "/usr/local/lib/python3.4/dist-packages/sklearn/feature_selection/univariate_selection.py:113: UserWarning: Features [   149    196    421 ..., 573773 573774 573775] are constant.\n",
      "  UserWarning)\n"
     ]
    },
    {
     "name": "stdout",
     "output_type": "stream",
     "text": [
      "average_precision_train: 0.916229587678\n",
      "average_precision_test: 0.879545454545\n",
      "th_opt: 0.0604098809423\n",
      "y_score: [-0.29853673 -0.0035083  -0.58082436 -0.12742541 -0.17671668 -0.3503875\n",
      " -0.84317208 -0.65821086  1.01684145 -0.15197038 -0.36348528  0.31214357\n",
      " -0.17813448 -0.40615685 -0.32569757 -0.30955019  0.55780951  0.41307514\n",
      "  0.13688413 -0.44489752  1.15178056 -0.28960642 -0.78636505 -0.97775214\n",
      " -0.14431543]\n",
      "pred: [ 0.  0.  0.  0.  0.  0.  0.  0.  1.  0.  0.  1.  0.  0.  0.  0.  1.  1.\n",
      "  1.  0.  1.  0.  0.  0.  0.]\n",
      "split: 28\n"
     ]
    },
    {
     "name": "stderr",
     "output_type": "stream",
     "text": [
      "/usr/local/lib/python3.4/dist-packages/sklearn/feature_selection/univariate_selection.py:113: UserWarning: Features [    85    173    174 ..., 573915 573916 573919] are constant.\n",
      "  UserWarning)\n"
     ]
    },
    {
     "name": "stdout",
     "output_type": "stream",
     "text": [
      "average_precision_train: 0.904858538198\n",
      "average_precision_test: 0.857633053221\n",
      "th_opt: 0.29857192102\n",
      "y_score: [ 0.94217727 -0.29185049  0.3137392  -0.08800771 -0.32260764 -0.06491671\n",
      " -0.36082506 -0.1046879   0.2116921  -0.45611497 -0.36088087 -0.23210332\n",
      " -0.45865397  0.22524933  0.67339172 -0.41628838  0.56479035 -0.45471631\n",
      " -0.24873059  0.40226326 -0.66945905  0.29038894 -0.60992496 -0.64497434\n",
      " -0.30644165]\n",
      "pred: [ 1.  0.  1.  0.  0.  0.  0.  0.  0.  0.  0.  0.  0.  0.  1.  0.  1.  0.\n",
      "  0.  1.  0.  0.  0.  0.  0.]\n",
      "split: 29\n"
     ]
    },
    {
     "name": "stderr",
     "output_type": "stream",
     "text": [
      "/usr/local/lib/python3.4/dist-packages/sklearn/feature_selection/univariate_selection.py:113: UserWarning: Features [   196    265    275 ..., 573877 573887 573888] are constant.\n",
      "  UserWarning)\n"
     ]
    },
    {
     "name": "stdout",
     "output_type": "stream",
     "text": [
      "average_precision_train: 0.934722547884\n",
      "average_precision_test: 0.804247835498\n",
      "th_opt: -0.172246690791\n",
      "y_score: [-0.1261013  -0.17673517  0.79159962  0.27084151  0.20074134 -1.42652807\n",
      "  0.1052503  -0.08114772 -0.10136448 -0.30669287  0.36068538 -2.46250833\n",
      " -0.31943969  0.1714563   0.94668881 -0.2833544  -1.09130101  0.09108489\n",
      "  0.49319825  0.13436941  0.11215833  0.31964002 -0.0053948  -0.02410406\n",
      "  1.29770333]\n",
      "pred: [ 1.  0.  1.  1.  1.  0.  1.  1.  1.  0.  1.  0.  0.  1.  1.  0.  0.  1.\n",
      "  1.  1.  1.  1.  1.  1.  1.]\n",
      "split: 30\n"
     ]
    },
    {
     "name": "stderr",
     "output_type": "stream",
     "text": [
      "/usr/local/lib/python3.4/dist-packages/sklearn/feature_selection/univariate_selection.py:113: UserWarning: Features [    13     99    149 ..., 573912 573913 573914] are constant.\n",
      "  UserWarning)\n"
     ]
    },
    {
     "name": "stdout",
     "output_type": "stream",
     "text": [
      "average_precision_train: 0.948311554289\n",
      "average_precision_test: 0.759972848789\n",
      "th_opt: -0.014856234022\n",
      "y_score: [ 0.66018221 -0.01831602  0.56571378 -0.64732653 -0.33007255 -0.22598909\n",
      " -0.28277748 -0.3486343  -0.1670047  -0.25085824 -0.17221325 -0.25157017\n",
      " -0.06805102 -0.25964039 -0.31699925 -0.17429211 -0.22334014 -0.20166293\n",
      "  0.05953312 -0.40559642 -0.30402997 -0.2288185   0.34529846 -0.10607688\n",
      "  0.072181  ]\n",
      "pred: [ 1.  0.  1.  0.  0.  0.  0.  0.  0.  0.  0.  0.  0.  0.  0.  0.  0.  0.\n",
      "  1.  0.  0.  0.  1.  0.  1.]\n",
      "split: 31\n",
      "thresholds: [-0.52601316158033695, -0.094115868905930933, -1.160074536492079, -0.75038482515443339, -0.21228560760927939, -0.13693608931888118, -1.1800478745517702, -1.1600943115634719, -0.20836418927549361, -1.4950324384085156, -1.2882028664705532, 0.066955431898712781, -1.4459471919631435, -0.76185334638352964, -2.3315002262777274, 0.019048806889031947, -1.7841100037792235, -0.90861281393670179, 0.016767066374483219, -0.09110403169234671, -0.034429197264441269, -0.057953342715688083, -1.1361284202635331, 0.39771148107513876, -0.55666530050745178, -0.14671860550910848, -1.1817037309521643, -1.5021063669896675, 0.060409880942250416, 0.29857192101981078, -0.17224669079052038, -0.014856234022029013]\n",
      "\n",
      "precisions: [0.27777777777777779, 0.5714285714285714, 0.34782608695652173, 0.40000000000000002, 0.41176470588235292, 0.2857142857142857, 0.40000000000000002, 0.375, 0.36363636363636365, 0.375, 0.375, 0.55555555555555558, 0.375, 0.33333333333333331, 0.40000000000000002, 0.625, 0.40000000000000002, 0.375, 0.75, 0.66666666666666663, 0.66666666666666663, 0.58333333333333337, 0.31818181818181818, 0.5, 0.36842105263157893, 0.44444444444444442, 0.375, 0.40000000000000002, 0.5, 0.59999999999999998, 0.3888888888888889, 0.80000000000000004]\n",
      "\n",
      "precision mean: 0.456519985972\n",
      "\n",
      "recalls: [0.5, 0.40000000000000002, 0.80000000000000004, 1.0, 0.69999999999999996, 0.40000000000000002, 1.0, 0.90000000000000002, 0.40000000000000002, 0.90000000000000002, 0.90000000000000002, 0.5, 0.90000000000000002, 0.69999999999999996, 1.0, 0.5, 1.0, 0.90000000000000002, 0.59999999999999998, 0.40000000000000002, 0.59999999999999998, 0.69999999999999996, 0.69999999999999996, 0.10000000000000001, 0.69999999999999996, 0.40000000000000002, 0.90000000000000002, 1.0, 0.29999999999999999, 0.29999999999999999, 0.69999999999999996, 0.40000000000000002]\n",
      "\n",
      "recall mean: 0.6625\n"
     ]
    }
   ],
   "source": [
    "zeros = np.load('/home/miquel/ForMiquel/CLEAN2/zero_cols_JB_full.npy') \n",
    "#X=np.transpose(np.transpose(X)/dt)\n",
    "clf = LogisticRegression(solver='liblinear', penalty='l2', class_weight='balanced', C=1.25)\n",
    "splits=40\n",
    "percentage=0.25\n",
    "age_dt=0 #1 if we want to add normalized age and dt as features\n",
    "cross_validation_analysis(X, y, zeros, clf, splits, percentage, dt)"
   ]
  },
  {
   "cell_type": "code",
   "execution_count": null,
   "metadata": {},
   "outputs": [],
   "source": [
    "# Split the dataset\n",
    "spl = StratifiedShuffleSplit(n_splits=1, test_size=0.3, random_state=39)\n",
    "for train_index, test_index in spl.split(X, y): #split in subjects\n",
    "    X_train = X[train_index,:]\n",
    "    X_test = X[test_index,:]\n",
    "    y_train = y[train_index]\n",
    "    y_test = y[test_index]\n",
    "\n",
    "C = []\n",
    "#C = [0.01,10]\n",
    "acc_linear = []\n",
    "roc_linear = []\n",
    "f1_linear = []\n",
    "mcc_linear = []\n",
    "\n",
    "\n",
    "for i in C:\n",
    "    #clf = SVC(kernel='linear', probability = True, C=i)\n",
    "    clf = LogisticRegression(solver='liblinear', penalty='l2', C=i, class_weight='balanced')\n",
    "\n",
    "    y_score = clf.fit(X_train, y_train).decision_function(X_test)\n",
    "    pred = clf.predict(X_test)\n",
    "    acc = accuracy_score(y_test, pred)\n",
    "    roc=roc_auc_score(y_test, y_score)\n",
    "    f1=f1_score(y_test, pred)\n",
    "    from sklearn.metrics import matthews_corrcoef\n",
    "    mcc=matthews_corrcoef(y_test, pred)\n",
    "    print(confusion_matrix(y_test, pred))\n",
    "\n",
    "    acc_linear.append(acc)\n",
    "    roc_linear.append(roc)\n",
    "    f1_linear.append(f1)\n",
    "    mcc_linear.append(mcc)\n",
    "\n",
    "plt.figure(1)\n",
    "plt.plot(C, acc_linear, color='green', label='acc')\n",
    "plt.plot(C, roc_linear, color='red', label='roc')\n",
    "plt.plot(C, f1_linear, color='blue', label='f1_score')\n",
    "plt.plot(C, mcc_linear, color='orange', label='mcc')\n",
    "\n",
    "plt.legend(loc='best')\n",
    "plt.xlabel('C')\n",
    "plt.title('metrics logistic regression')\n",
    "plt.show()\n"
   ]
  },
  {
   "cell_type": "code",
   "execution_count": 47,
   "metadata": {},
   "outputs": [
    {
     "name": "stdout",
     "output_type": "stream",
     "text": [
      "Automatically created module for IPython interactive environment\n",
      "# Tuning hyper-parameters for precision\n",
      "\n",
      "Best parameters set found on development set:\n",
      "\n",
      "{'C': 0.05}\n",
      "\n",
      "Grid scores on development set:\n",
      "\n",
      "0.560 (+/-0.207) for {'C': 0.05}\n",
      "0.512 (+/-0.266) for {'C': 0.25}\n",
      "0.528 (+/-0.282) for {'C': 0.5}\n",
      "0.515 (+/-0.272) for {'C': 0.75}\n",
      "0.515 (+/-0.272) for {'C': 1}\n",
      "0.535 (+/-0.285) for {'C': 1.25}\n",
      "0.546 (+/-0.269) for {'C': 1.5}\n",
      "0.546 (+/-0.269) for {'C': 1.75}\n",
      "0.546 (+/-0.269) for {'C': 2}\n",
      "\n",
      "Detailed classification report:\n",
      "\n",
      "The model is trained on the full development set.\n",
      "The scores are computed on the full evaluation set.\n",
      "\n",
      "             precision    recall  f1-score   support\n",
      "\n",
      "          0       0.82      0.52      0.64        27\n",
      "          1       0.38      0.73      0.50        11\n",
      "\n",
      "avg / total       0.70      0.58      0.60        38\n",
      "\n",
      "\n",
      "# Tuning hyper-parameters for recall\n",
      "\n",
      "Best parameters set found on development set:\n",
      "\n",
      "{'C': 1.5}\n",
      "\n",
      "Grid scores on development set:\n",
      "\n",
      "0.540 (+/-0.131) for {'C': 0.05}\n",
      "0.517 (+/-0.261) for {'C': 0.25}\n",
      "0.536 (+/-0.260) for {'C': 0.5}\n",
      "0.523 (+/-0.252) for {'C': 0.75}\n",
      "0.523 (+/-0.252) for {'C': 1}\n",
      "0.534 (+/-0.254) for {'C': 1.25}\n",
      "0.544 (+/-0.239) for {'C': 1.5}\n",
      "0.544 (+/-0.239) for {'C': 1.75}\n",
      "0.544 (+/-0.239) for {'C': 2}\n",
      "\n",
      "Detailed classification report:\n",
      "\n",
      "The model is trained on the full development set.\n",
      "The scores are computed on the full evaluation set.\n",
      "\n",
      "             precision    recall  f1-score   support\n",
      "\n",
      "          0       0.75      0.56      0.64        27\n",
      "          1       0.33      0.55      0.41        11\n",
      "\n",
      "avg / total       0.63      0.55      0.57        38\n",
      "\n",
      "\n"
     ]
    }
   ],
   "source": [
    "from __future__ import print_function\n",
    "\n",
    "from sklearn import datasets\n",
    "from sklearn.model_selection import train_test_split\n",
    "from sklearn.model_selection import GridSearchCV\n",
    "from sklearn.metrics import classification_report\n",
    "from sklearn.svm import SVC\n",
    "\n",
    "print(__doc__)\n",
    "\n",
    "\n",
    "# Split the dataset in two equal parts\n",
    "X_train, X_test, y_train, y_test = train_test_split(\n",
    "    X, y, test_size=0.3, random_state=42)\n",
    "\n",
    "# Set the parameters by cross-validation\n",
    "tuned_parameters = [{'C': [0.05,0.25,0.5,0.75,1,1.25,1.5,1.75,2]}, ]\n",
    "\n",
    "scores = ['precision', 'recall']\n",
    "\n",
    "for score in scores:\n",
    "    print(\"# Tuning hyper-parameters for %s\" % score)\n",
    "    print()\n",
    "\n",
    "    clf = GridSearchCV(LogisticRegression(solver='liblinear', penalty='l2',class_weight='balanced'), tuned_parameters, cv=5,\n",
    "                       scoring='%s_macro' % score)\n",
    "    clf.fit(X_train, y_train)\n",
    "\n",
    "    print(\"Best parameters set found on development set:\")\n",
    "    print()\n",
    "    print(clf.best_params_)\n",
    "    print()\n",
    "    print(\"Grid scores on development set:\")\n",
    "    print()\n",
    "    means = clf.cv_results_['mean_test_score']\n",
    "    stds = clf.cv_results_['std_test_score']\n",
    "    for mean, std, params in zip(means, stds, clf.cv_results_['params']):\n",
    "        print(\"%0.3f (+/-%0.03f) for %r\"\n",
    "              % (mean, std * 2, params))\n",
    "    print()\n",
    "\n",
    "    print(\"Detailed classification report:\")\n",
    "    print()\n",
    "    print(\"The model is trained on the full development set.\")\n",
    "    print(\"The scores are computed on the full evaluation set.\")\n",
    "    print()\n",
    "    y_true, y_pred = y_test, clf.predict(X_test)\n",
    "    print(classification_report(y_true, y_pred))\n",
    "    print()\n",
    "\n",
    "# Note the problem is too easy: the hyperparameter plateau is too flat and the\n",
    "# output model is the same for precision and recall with ties in quality."
   ]
  },
  {
   "cell_type": "code",
   "execution_count": null,
   "metadata": {},
   "outputs": [],
   "source": []
  }
 ],
 "metadata": {
  "kernelspec": {
   "display_name": "Python 3",
   "language": "python",
   "name": "python3"
  },
  "language_info": {
   "codemirror_mode": {
    "name": "ipython",
    "version": 3
   },
   "file_extension": ".py",
   "mimetype": "text/x-python",
   "name": "python",
   "nbconvert_exporter": "python",
   "pygments_lexer": "ipython3",
   "version": "3.4.2"
  }
 },
 "nbformat": 4,
 "nbformat_minor": 2
}
