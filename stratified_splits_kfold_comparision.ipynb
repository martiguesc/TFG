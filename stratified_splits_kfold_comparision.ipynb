{
 "cells": [
  {
   "cell_type": "code",
   "execution_count": 2,
   "metadata": {},
   "outputs": [
    {
     "name": "stderr",
     "output_type": "stream",
     "text": [
      "/usr/local/lib/python3.4/dist-packages/sklearn/cross_validation.py:41: DeprecationWarning: This module was deprecated in version 0.18 in favor of the model_selection module into which all the refactored classes and functions are moved. Also note that the interface of the new CV iterators are different from that of this module. This module will be removed in 0.20.\n",
      "  \"This module will be removed in 0.20.\", DeprecationWarning)\n"
     ]
    }
   ],
   "source": [
    "from imports_func import *\n",
    "from dbase import *"
   ]
  },
  {
   "cell_type": "code",
   "execution_count": 4,
   "metadata": {},
   "outputs": [],
   "source": [
    "#X=np.load('/home/miquel/ForMiquel/CLEAN2/X_c1_1j_full2.npy') \n",
    "#y=np.load('/home/miquel/ForMiquel/CLEAN2/y_1j_full2.npy') #subject labels\n",
    "#sub_id=np.load('/home/miquel/ForMiquel/CLEAN2/sub_id_short.npy') #subject idxs\n",
    "#jac_idx=np.load('/home/miquel/ForMiquel/CLEAN2/jac_idx_1j_full2.npy')\n",
    "\n",
    "X=np.load('/home/miquel/ForMiquel/CLEAN2/X_c1_1j_1y.npy') \n",
    "y=np.load('/home/miquel/ForMiquel/CLEAN2/y_1j_1y.npy') #subject labels\n",
    "sub_id=np.load('/home/miquel/ForMiquel/CLEAN2/sub_idx_1j_1y.npy') #subject idxs\n",
    "jac_idx=np.load('/home/miquel/ForMiquel/CLEAN2/jac_idx_1j_1y.npy')"
   ]
  },
  {
   "cell_type": "code",
   "execution_count": 5,
   "metadata": {},
   "outputs": [],
   "source": [
    "# build vector with dt's\n",
    "dt=[]\n",
    "for i in range(0,len(sub_id)):\n",
    "    dt.append(Subjects[sub_id[i]].jacobians[jac_idx[i]].dt)\n",
    "\n",
    "dt = np.asarray(dt)/365 \n",
    "#dt=np.reshape(dt, (124,1))"
   ]
  },
  {
   "cell_type": "code",
   "execution_count": 16,
   "metadata": {},
   "outputs": [],
   "source": [
    "def metrics_splits(X, y, splits, dt, percentage, mask, zeros):\n",
    "    \n",
    "    box = np.zeros((121,145,121))\n",
    "    \n",
    "    l2=X.shape[0]\n",
    "    SPECIFICITY=[]\n",
    "    PRECISION=[]\n",
    "    RECALL=[]\n",
    "    AUC=[]\n",
    "    F=[]\n",
    "    tp_l=[]\n",
    "    fp_l=[]\n",
    "    fn_l=[]\n",
    "    tn_l=[]\n",
    "\n",
    "    \n",
    "    spl2 = StratifiedShuffleSplit(n_splits=splits, test_size=0.3, random_state=42)\n",
    "    split = 1\n",
    "\n",
    "    for train_index, test_index in spl2.split(X, y):\n",
    "        X_train = X[train_index,:]\n",
    "        X_test = X[test_index,:]\n",
    "        y_train = y[train_index]\n",
    "        y_test = y[test_index]\n",
    "        dt_test = dt[test_index]\n",
    "        print(\"split:\", split)\n",
    "        split= split + 1\n",
    "        \n",
    "                \n",
    "        S = SelectPercentile(percentile=percentage)\n",
    "        S.fit(X_train, y_train)\n",
    "        \n",
    "        X_train_s = X_train[:,S.get_support()]\n",
    "        X_test_s = X_test[:,S.get_support()]\n",
    "        \n",
    "        #{0:0.42, 1:0.58}\n",
    "        clf = LogisticRegression(solver='liblinear', penalty='l2', class_weight='balanced', C=10e-6)\n",
    "        clf.fit(X_train_s, y_train)\n",
    "        pred = clf.predict(X_test_s)\n",
    "        probas_ = clf.predict_proba(X_test_s)\n",
    "        probas_ = probas_[:, 1]\n",
    "        \n",
    "        if mask == 1:\n",
    "            \n",
    "            mask0 = np.where(dt_test>1.09)#~400 days\n",
    "            mask0 = np.asarray(mask0)\n",
    "            pred = pred[mask0][0]\n",
    "            y_test = y_test[mask0][0]\n",
    "            probas_ = probas_[mask0][0]\n",
    "            \n",
    "        conf = confusion_matrix(y_test, pred)\n",
    "        f1=f1_score(y_test, pred)\n",
    "        F.append(f1)\n",
    "        fpr, tpr, thresholds = roc_curve(y_test, probas_)\n",
    "        roc_auc = sklearn.metrics.auc(fpr, tpr)\n",
    "        AUC.append(roc_auc)\n",
    "        precision=precision_score(y_test, pred)\n",
    "        recall=recall_score(y_test, pred)\n",
    "        PRECISION.append(precision)\n",
    "        RECALL.append(recall)\n",
    "        specificity= (conf[0,0])/(conf[0,0]+conf[0,1])\n",
    "        SPECIFICITY.append(specificity)\n",
    "            \n",
    "        tp_l.append(conf[1,1])\n",
    "        fp_l.append(conf[0,1])\n",
    "        fn_l.append(conf[1,0])\n",
    "        tn_l.append(conf[0,0])\n",
    "        \n",
    "        #aux = np.zeros((121*145*121))\n",
    "        #aux[~zeros] = np.asarray(S.get_support())\n",
    "        #aux = np.reshape(aux, (121,145,121))\n",
    "        #box = box + aux\n",
    "        \n",
    "    #np.save('/home/miquel/ForMiquel/CLEAN2/voxel_appareances_100_splits_full2', box)\n",
    "    #new_img = nib.Nifti1Image(box, np.eye(4))\n",
    "    #nib.save(new_img, \"img_voxel_appareances_100_splits_full2.nii.gz\")\n",
    "          \n",
    "    TP = np.sum(tp_l)\n",
    "    FP = np.sum(fp_l)\n",
    "    TN = np.sum(tn_l)\n",
    "    FN = np.sum(fn_l)\n",
    "    \n",
    "    F_G=(2*TP)/(2*TP + FP + FN)\n",
    "    RECALL_G=TP / (TP + FN)\n",
    "    SPECIFICITY_G= TN / (TN + FP)\n",
    "    PRECISION_G=TP / (TP + FP)\n",
    "    \n",
    "    F = np.mean(F)\n",
    "    AUC = np.mean(AUC)\n",
    "    PRECISION = np.mean(PRECISION)\n",
    "    RECALL = np.mean(RECALL)\n",
    "    SPECIFICITY = np.mean(SPECIFICITY)\n",
    "    \n",
    "    print(\"F_mean:\", F)\n",
    "    print(\"AUC_mean:\", AUC)\n",
    "    print(\"PRECISION_mean:\", PRECISION)\n",
    "    print(\"RECALL_mean:\", RECALL)\n",
    "    print(\"SPECIFICITY_mean:\", SPECIFICITY)\n",
    "    print()\n",
    "    print(\"F_mean_g:\", F_G)\n",
    "    print(\"PRECISION_mean_g:\", PRECISION_G)\n",
    "    print(\"RECALL_mean_g:\", RECALL_G)\n",
    "    print(\"SPECIFICITY_mean_g:\", SPECIFICITY_G)\n",
    "     \n",
    "    return F, AUC, PRECISION, RECALL, SPECIFICITY        \n",
    "        "
   ]
  },
  {
   "cell_type": "code",
   "execution_count": 17,
   "metadata": {},
   "outputs": [
    {
     "name": "stdout",
     "output_type": "stream",
     "text": [
      "split: 1\n"
     ]
    },
    {
     "name": "stderr",
     "output_type": "stream",
     "text": [
      "/usr/local/lib/python3.4/dist-packages/sklearn/feature_selection/univariate_selection.py:113: UserWarning: Features [   127    138    178 ..., 562823 562824 562825] are constant.\n",
      "  UserWarning)\n",
      "/usr/local/lib/python3.4/dist-packages/sklearn/feature_selection/univariate_selection.py:114: RuntimeWarning: invalid value encountered in true_divide\n",
      "  f = msb / msw\n"
     ]
    },
    {
     "name": "stdout",
     "output_type": "stream",
     "text": [
      "split: 2\n"
     ]
    },
    {
     "name": "stderr",
     "output_type": "stream",
     "text": [
      "/usr/local/lib/python3.4/dist-packages/sklearn/feature_selection/univariate_selection.py:113: UserWarning: Features [   149    178    179 ..., 562815 562816 562817] are constant.\n",
      "  UserWarning)\n"
     ]
    },
    {
     "name": "stdout",
     "output_type": "stream",
     "text": [
      "split: 3\n"
     ]
    },
    {
     "name": "stderr",
     "output_type": "stream",
     "text": [
      "/usr/local/lib/python3.4/dist-packages/sklearn/feature_selection/univariate_selection.py:113: UserWarning: Features [    89    196    276 ..., 562836 562839 562840] are constant.\n",
      "  UserWarning)\n"
     ]
    },
    {
     "name": "stdout",
     "output_type": "stream",
     "text": [
      "split: 4\n"
     ]
    },
    {
     "name": "stderr",
     "output_type": "stream",
     "text": [
      "/usr/local/lib/python3.4/dist-packages/sklearn/feature_selection/univariate_selection.py:113: UserWarning: Features [    79     84    173 ..., 562834 562835 562838] are constant.\n",
      "  UserWarning)\n"
     ]
    },
    {
     "name": "stdout",
     "output_type": "stream",
     "text": [
      "split: 5\n"
     ]
    },
    {
     "name": "stderr",
     "output_type": "stream",
     "text": [
      "/usr/local/lib/python3.4/dist-packages/sklearn/feature_selection/univariate_selection.py:113: UserWarning: Features [   127    138    234 ..., 562836 562839 562840] are constant.\n",
      "  UserWarning)\n"
     ]
    },
    {
     "name": "stdout",
     "output_type": "stream",
     "text": [
      "split: 6\n"
     ]
    },
    {
     "name": "stderr",
     "output_type": "stream",
     "text": [
      "/usr/local/lib/python3.4/dist-packages/sklearn/feature_selection/univariate_selection.py:113: UserWarning: Features [     4     79     84 ..., 562823 562824 562825] are constant.\n",
      "  UserWarning)\n"
     ]
    },
    {
     "name": "stdout",
     "output_type": "stream",
     "text": [
      "split: 7\n"
     ]
    },
    {
     "name": "stderr",
     "output_type": "stream",
     "text": [
      "/usr/local/lib/python3.4/dist-packages/sklearn/feature_selection/univariate_selection.py:113: UserWarning: Features [   177    185    190 ..., 562834 562835 562838] are constant.\n",
      "  UserWarning)\n"
     ]
    },
    {
     "name": "stdout",
     "output_type": "stream",
     "text": [
      "split: 8\n"
     ]
    },
    {
     "name": "stderr",
     "output_type": "stream",
     "text": [
      "/usr/local/lib/python3.4/dist-packages/sklearn/feature_selection/univariate_selection.py:113: UserWarning: Features [     4     89    127 ..., 562834 562835 562838] are constant.\n",
      "  UserWarning)\n"
     ]
    },
    {
     "name": "stdout",
     "output_type": "stream",
     "text": [
      "split: 9\n",
      "split: 10\n"
     ]
    },
    {
     "name": "stderr",
     "output_type": "stream",
     "text": [
      "/usr/local/lib/python3.4/dist-packages/sklearn/feature_selection/univariate_selection.py:113: UserWarning: Features [     4     89    127 ..., 562795 562805 562806] are constant.\n",
      "  UserWarning)\n"
     ]
    },
    {
     "name": "stdout",
     "output_type": "stream",
     "text": [
      "split: 11\n"
     ]
    },
    {
     "name": "stderr",
     "output_type": "stream",
     "text": [
      "/usr/local/lib/python3.4/dist-packages/sklearn/feature_selection/univariate_selection.py:113: UserWarning: Features [    79     84    127 ..., 562836 562839 562840] are constant.\n",
      "  UserWarning)\n"
     ]
    },
    {
     "name": "stdout",
     "output_type": "stream",
     "text": [
      "split: 12\n"
     ]
    },
    {
     "name": "stderr",
     "output_type": "stream",
     "text": [
      "/usr/local/lib/python3.4/dist-packages/sklearn/feature_selection/univariate_selection.py:113: UserWarning: Features [     4     89    127 ..., 562836 562839 562840] are constant.\n",
      "  UserWarning)\n"
     ]
    },
    {
     "name": "stdout",
     "output_type": "stream",
     "text": [
      "split: 13\n"
     ]
    },
    {
     "name": "stderr",
     "output_type": "stream",
     "text": [
      "/usr/local/lib/python3.4/dist-packages/sklearn/feature_selection/univariate_selection.py:113: UserWarning: Features [   127    138    178 ..., 562836 562839 562840] are constant.\n",
      "  UserWarning)\n"
     ]
    },
    {
     "name": "stdout",
     "output_type": "stream",
     "text": [
      "split: 14\n"
     ]
    },
    {
     "name": "stderr",
     "output_type": "stream",
     "text": [
      "/usr/local/lib/python3.4/dist-packages/sklearn/feature_selection/univariate_selection.py:113: UserWarning: Features [    79     84    127 ..., 562838 562839 562840] are constant.\n",
      "  UserWarning)\n"
     ]
    },
    {
     "name": "stdout",
     "output_type": "stream",
     "text": [
      "split: 15\n"
     ]
    },
    {
     "name": "stderr",
     "output_type": "stream",
     "text": [
      "/usr/local/lib/python3.4/dist-packages/sklearn/feature_selection/univariate_selection.py:113: UserWarning: Features [    79     84    173 ..., 562823 562824 562825] are constant.\n",
      "  UserWarning)\n"
     ]
    },
    {
     "name": "stdout",
     "output_type": "stream",
     "text": [
      "split: 16\n"
     ]
    },
    {
     "name": "stderr",
     "output_type": "stream",
     "text": [
      "/usr/local/lib/python3.4/dist-packages/sklearn/feature_selection/univariate_selection.py:113: UserWarning: Features [    71    149    306 ..., 562831 562832 562833] are constant.\n",
      "  UserWarning)\n"
     ]
    },
    {
     "name": "stdout",
     "output_type": "stream",
     "text": [
      "split: 17\n"
     ]
    },
    {
     "name": "stderr",
     "output_type": "stream",
     "text": [
      "/usr/local/lib/python3.4/dist-packages/sklearn/feature_selection/univariate_selection.py:113: UserWarning: Features [    70     89    127 ..., 562834 562835 562838] are constant.\n",
      "  UserWarning)\n"
     ]
    },
    {
     "name": "stdout",
     "output_type": "stream",
     "text": [
      "split: 18\n"
     ]
    },
    {
     "name": "stderr",
     "output_type": "stream",
     "text": [
      "/usr/local/lib/python3.4/dist-packages/sklearn/feature_selection/univariate_selection.py:113: UserWarning: Features [    79     84    173 ..., 562831 562832 562833] are constant.\n",
      "  UserWarning)\n"
     ]
    },
    {
     "name": "stdout",
     "output_type": "stream",
     "text": [
      "split: 19\n"
     ]
    },
    {
     "name": "stderr",
     "output_type": "stream",
     "text": [
      "/usr/local/lib/python3.4/dist-packages/sklearn/feature_selection/univariate_selection.py:113: UserWarning: Features [   127    138    175 ..., 562834 562835 562838] are constant.\n",
      "  UserWarning)\n"
     ]
    },
    {
     "name": "stdout",
     "output_type": "stream",
     "text": [
      "split: 20\n"
     ]
    },
    {
     "name": "stderr",
     "output_type": "stream",
     "text": [
      "/usr/local/lib/python3.4/dist-packages/sklearn/feature_selection/univariate_selection.py:113: UserWarning: Features [    89    127    138 ..., 562838 562839 562840] are constant.\n",
      "  UserWarning)\n"
     ]
    },
    {
     "name": "stdout",
     "output_type": "stream",
     "text": [
      "split: 21\n"
     ]
    },
    {
     "name": "stderr",
     "output_type": "stream",
     "text": [
      "/usr/local/lib/python3.4/dist-packages/sklearn/feature_selection/univariate_selection.py:113: UserWarning: Features [    71    149    275 ..., 562780 562788 562807] are constant.\n",
      "  UserWarning)\n"
     ]
    },
    {
     "name": "stdout",
     "output_type": "stream",
     "text": [
      "split: 22\n"
     ]
    },
    {
     "name": "stderr",
     "output_type": "stream",
     "text": [
      "/usr/local/lib/python3.4/dist-packages/sklearn/feature_selection/univariate_selection.py:113: UserWarning: Features [   178    179    183 ..., 562836 562839 562840] are constant.\n",
      "  UserWarning)\n"
     ]
    },
    {
     "name": "stdout",
     "output_type": "stream",
     "text": [
      "split: 23\n"
     ]
    },
    {
     "name": "stderr",
     "output_type": "stream",
     "text": [
      "/usr/local/lib/python3.4/dist-packages/sklearn/feature_selection/univariate_selection.py:113: UserWarning: Features [    79     84     89 ..., 562815 562816 562817] are constant.\n",
      "  UserWarning)\n"
     ]
    },
    {
     "name": "stdout",
     "output_type": "stream",
     "text": [
      "split: 24\n"
     ]
    },
    {
     "name": "stderr",
     "output_type": "stream",
     "text": [
      "/usr/local/lib/python3.4/dist-packages/sklearn/feature_selection/univariate_selection.py:113: UserWarning: Features [    89    196    297 ..., 562836 562839 562840] are constant.\n",
      "  UserWarning)\n"
     ]
    },
    {
     "name": "stdout",
     "output_type": "stream",
     "text": [
      "split: 25\n",
      "split: 26\n",
      "split: 27\n"
     ]
    },
    {
     "name": "stderr",
     "output_type": "stream",
     "text": [
      "/usr/local/lib/python3.4/dist-packages/sklearn/feature_selection/univariate_selection.py:113: UserWarning: Features [   284    345    346 ..., 562699 562787 562807] are constant.\n",
      "  UserWarning)\n"
     ]
    },
    {
     "name": "stdout",
     "output_type": "stream",
     "text": [
      "split: 28\n"
     ]
    },
    {
     "name": "stderr",
     "output_type": "stream",
     "text": [
      "/usr/local/lib/python3.4/dist-packages/sklearn/feature_selection/univariate_selection.py:113: UserWarning: Features [     4     89    127 ..., 562823 562824 562825] are constant.\n",
      "  UserWarning)\n"
     ]
    },
    {
     "name": "stdout",
     "output_type": "stream",
     "text": [
      "split: 29\n"
     ]
    },
    {
     "name": "stderr",
     "output_type": "stream",
     "text": [
      "/usr/local/lib/python3.4/dist-packages/sklearn/feature_selection/univariate_selection.py:113: UserWarning: Features [   178    179    183 ..., 562831 562832 562833] are constant.\n",
      "  UserWarning)\n"
     ]
    },
    {
     "name": "stdout",
     "output_type": "stream",
     "text": [
      "split: 30\n"
     ]
    },
    {
     "name": "stderr",
     "output_type": "stream",
     "text": [
      "/usr/local/lib/python3.4/dist-packages/sklearn/feature_selection/univariate_selection.py:113: UserWarning: Features [    79     84    149 ..., 562836 562839 562840] are constant.\n",
      "  UserWarning)\n"
     ]
    },
    {
     "name": "stdout",
     "output_type": "stream",
     "text": [
      "split: 31\n",
      "split: 32\n"
     ]
    },
    {
     "name": "stderr",
     "output_type": "stream",
     "text": [
      "/usr/local/lib/python3.4/dist-packages/sklearn/feature_selection/univariate_selection.py:113: UserWarning: Features [     4     71     89 ..., 562823 562824 562825] are constant.\n",
      "  UserWarning)\n"
     ]
    },
    {
     "name": "stdout",
     "output_type": "stream",
     "text": [
      "split: 33\n"
     ]
    },
    {
     "name": "stderr",
     "output_type": "stream",
     "text": [
      "/usr/local/lib/python3.4/dist-packages/sklearn/feature_selection/univariate_selection.py:113: UserWarning: Features [   149    276    290 ..., 562836 562839 562840] are constant.\n",
      "  UserWarning)\n"
     ]
    },
    {
     "name": "stdout",
     "output_type": "stream",
     "text": [
      "split: 34\n"
     ]
    },
    {
     "name": "stderr",
     "output_type": "stream",
     "text": [
      "/usr/local/lib/python3.4/dist-packages/sklearn/feature_selection/univariate_selection.py:113: UserWarning: Features [    89    127    138 ..., 562691 562811 562812] are constant.\n",
      "  UserWarning)\n"
     ]
    },
    {
     "name": "stdout",
     "output_type": "stream",
     "text": [
      "split: 35\n"
     ]
    },
    {
     "name": "stderr",
     "output_type": "stream",
     "text": [
      "/usr/local/lib/python3.4/dist-packages/sklearn/feature_selection/univariate_selection.py:113: UserWarning: Features [    79     84    127 ..., 562834 562835 562838] are constant.\n",
      "  UserWarning)\n"
     ]
    },
    {
     "name": "stdout",
     "output_type": "stream",
     "text": [
      "split: 36\n"
     ]
    },
    {
     "name": "stderr",
     "output_type": "stream",
     "text": [
      "/usr/local/lib/python3.4/dist-packages/sklearn/feature_selection/univariate_selection.py:113: UserWarning: Features [    79     84    149 ..., 562834 562835 562838] are constant.\n",
      "  UserWarning)\n"
     ]
    },
    {
     "name": "stdout",
     "output_type": "stream",
     "text": [
      "split: 37\n"
     ]
    },
    {
     "name": "stderr",
     "output_type": "stream",
     "text": [
      "/usr/local/lib/python3.4/dist-packages/sklearn/feature_selection/univariate_selection.py:113: UserWarning: Features [    79     84    149 ..., 562558 562576 562788] are constant.\n",
      "  UserWarning)\n"
     ]
    },
    {
     "name": "stdout",
     "output_type": "stream",
     "text": [
      "split: 38\n"
     ]
    },
    {
     "name": "stderr",
     "output_type": "stream",
     "text": [
      "/usr/local/lib/python3.4/dist-packages/sklearn/feature_selection/univariate_selection.py:113: UserWarning: Features [    79     84     89 ..., 562838 562839 562840] are constant.\n",
      "  UserWarning)\n"
     ]
    },
    {
     "name": "stdout",
     "output_type": "stream",
     "text": [
      "split: 39\n"
     ]
    },
    {
     "name": "stderr",
     "output_type": "stream",
     "text": [
      "/usr/local/lib/python3.4/dist-packages/sklearn/feature_selection/univariate_selection.py:113: UserWarning: Features [    85    178    179 ..., 562831 562832 562833] are constant.\n",
      "  UserWarning)\n"
     ]
    },
    {
     "name": "stdout",
     "output_type": "stream",
     "text": [
      "split: 40\n",
      "split: 41\n"
     ]
    },
    {
     "name": "stderr",
     "output_type": "stream",
     "text": [
      "/usr/local/lib/python3.4/dist-packages/sklearn/feature_selection/univariate_selection.py:113: UserWarning: Features [    79     84    173 ..., 562815 562816 562817] are constant.\n",
      "  UserWarning)\n"
     ]
    },
    {
     "name": "stdout",
     "output_type": "stream",
     "text": [
      "split: 42\n"
     ]
    },
    {
     "name": "stderr",
     "output_type": "stream",
     "text": [
      "/usr/local/lib/python3.4/dist-packages/sklearn/feature_selection/univariate_selection.py:113: UserWarning: Features [   178    179    183 ..., 562807 562811 562812] are constant.\n",
      "  UserWarning)\n"
     ]
    },
    {
     "name": "stdout",
     "output_type": "stream",
     "text": [
      "split: 43\n",
      "split: 44\n"
     ]
    },
    {
     "name": "stderr",
     "output_type": "stream",
     "text": [
      "/usr/local/lib/python3.4/dist-packages/sklearn/feature_selection/univariate_selection.py:113: UserWarning: Features [    79     84    127 ..., 562823 562824 562825] are constant.\n",
      "  UserWarning)\n"
     ]
    },
    {
     "name": "stdout",
     "output_type": "stream",
     "text": [
      "split: 45\n"
     ]
    },
    {
     "name": "stderr",
     "output_type": "stream",
     "text": [
      "/usr/local/lib/python3.4/dist-packages/sklearn/feature_selection/univariate_selection.py:113: UserWarning: Features [   358    377    378 ..., 562815 562816 562817] are constant.\n",
      "  UserWarning)\n"
     ]
    },
    {
     "name": "stdout",
     "output_type": "stream",
     "text": [
      "split: 46\n"
     ]
    },
    {
     "name": "stderr",
     "output_type": "stream",
     "text": [
      "/usr/local/lib/python3.4/dist-packages/sklearn/feature_selection/univariate_selection.py:113: UserWarning: Features [     4     79     84 ..., 562834 562835 562838] are constant.\n",
      "  UserWarning)\n"
     ]
    },
    {
     "name": "stdout",
     "output_type": "stream",
     "text": [
      "split: 47\n"
     ]
    },
    {
     "name": "stderr",
     "output_type": "stream",
     "text": [
      "/usr/local/lib/python3.4/dist-packages/sklearn/feature_selection/univariate_selection.py:113: UserWarning: Features [   127    138    234 ..., 562724 562737 562788] are constant.\n",
      "  UserWarning)\n"
     ]
    },
    {
     "name": "stdout",
     "output_type": "stream",
     "text": [
      "split: 48\n"
     ]
    },
    {
     "name": "stderr",
     "output_type": "stream",
     "text": [
      "/usr/local/lib/python3.4/dist-packages/sklearn/feature_selection/univariate_selection.py:113: UserWarning: Features [     4     89    127 ..., 562838 562839 562840] are constant.\n",
      "  UserWarning)\n"
     ]
    },
    {
     "name": "stdout",
     "output_type": "stream",
     "text": [
      "split: 49\n"
     ]
    },
    {
     "name": "stderr",
     "output_type": "stream",
     "text": [
      "/usr/local/lib/python3.4/dist-packages/sklearn/feature_selection/univariate_selection.py:113: UserWarning: Features [    89    175    176 ..., 562838 562839 562840] are constant.\n",
      "  UserWarning)\n"
     ]
    },
    {
     "name": "stdout",
     "output_type": "stream",
     "text": [
      "split: 50\n",
      "split: 51\n"
     ]
    },
    {
     "name": "stderr",
     "output_type": "stream",
     "text": [
      "/usr/local/lib/python3.4/dist-packages/sklearn/feature_selection/univariate_selection.py:113: UserWarning: Features [   266    276    293 ..., 562795 562805 562806] are constant.\n",
      "  UserWarning)\n"
     ]
    },
    {
     "name": "stdout",
     "output_type": "stream",
     "text": [
      "split: 52\n"
     ]
    },
    {
     "name": "stderr",
     "output_type": "stream",
     "text": [
      "/usr/local/lib/python3.4/dist-packages/sklearn/feature_selection/univariate_selection.py:113: UserWarning: Features [    79     84     89 ..., 562834 562835 562838] are constant.\n",
      "  UserWarning)\n"
     ]
    },
    {
     "name": "stdout",
     "output_type": "stream",
     "text": [
      "split: 53\n"
     ]
    },
    {
     "name": "stderr",
     "output_type": "stream",
     "text": [
      "/usr/local/lib/python3.4/dist-packages/sklearn/feature_selection/univariate_selection.py:113: UserWarning: Features [   149    177    185 ..., 562834 562835 562838] are constant.\n",
      "  UserWarning)\n"
     ]
    },
    {
     "name": "stdout",
     "output_type": "stream",
     "text": [
      "split: 54\n"
     ]
    },
    {
     "name": "stderr",
     "output_type": "stream",
     "text": [
      "/usr/local/lib/python3.4/dist-packages/sklearn/feature_selection/univariate_selection.py:113: UserWarning: Features [    79     84    149 ..., 562823 562824 562825] are constant.\n",
      "  UserWarning)\n"
     ]
    },
    {
     "name": "stdout",
     "output_type": "stream",
     "text": [
      "split: 55\n"
     ]
    },
    {
     "name": "stderr",
     "output_type": "stream",
     "text": [
      "/usr/local/lib/python3.4/dist-packages/sklearn/feature_selection/univariate_selection.py:113: UserWarning: Features [   149    352    353 ..., 562831 562832 562833] are constant.\n",
      "  UserWarning)\n"
     ]
    },
    {
     "name": "stdout",
     "output_type": "stream",
     "text": [
      "split: 56\n"
     ]
    },
    {
     "name": "stderr",
     "output_type": "stream",
     "text": [
      "/usr/local/lib/python3.4/dist-packages/sklearn/feature_selection/univariate_selection.py:113: UserWarning: Features [    89    149    175 ..., 562838 562839 562840] are constant.\n",
      "  UserWarning)\n"
     ]
    },
    {
     "name": "stdout",
     "output_type": "stream",
     "text": [
      "split: 57\n"
     ]
    },
    {
     "name": "stderr",
     "output_type": "stream",
     "text": [
      "/usr/local/lib/python3.4/dist-packages/sklearn/feature_selection/univariate_selection.py:113: UserWarning: Features [    79     84     89 ..., 562807 562811 562812] are constant.\n",
      "  UserWarning)\n"
     ]
    },
    {
     "name": "stdout",
     "output_type": "stream",
     "text": [
      "split: 58\n",
      "split: 59\n"
     ]
    },
    {
     "name": "stderr",
     "output_type": "stream",
     "text": [
      "/usr/local/lib/python3.4/dist-packages/sklearn/feature_selection/univariate_selection.py:113: UserWarning: Features [   175    176    177 ..., 562838 562839 562840] are constant.\n",
      "  UserWarning)\n"
     ]
    },
    {
     "name": "stdout",
     "output_type": "stream",
     "text": [
      "split: 60\n"
     ]
    },
    {
     "name": "stderr",
     "output_type": "stream",
     "text": [
      "/usr/local/lib/python3.4/dist-packages/sklearn/feature_selection/univariate_selection.py:113: UserWarning: Features [    89    127    138 ..., 562834 562835 562838] are constant.\n",
      "  UserWarning)\n"
     ]
    },
    {
     "name": "stdout",
     "output_type": "stream",
     "text": [
      "split: 61\n"
     ]
    },
    {
     "name": "stderr",
     "output_type": "stream",
     "text": [
      "/usr/local/lib/python3.4/dist-packages/sklearn/feature_selection/univariate_selection.py:113: UserWarning: Features [   177    178    179 ..., 562838 562839 562840] are constant.\n",
      "  UserWarning)\n"
     ]
    },
    {
     "name": "stdout",
     "output_type": "stream",
     "text": [
      "split: 62\n",
      "split: 63\n"
     ]
    },
    {
     "name": "stderr",
     "output_type": "stream",
     "text": [
      "/usr/local/lib/python3.4/dist-packages/sklearn/feature_selection/univariate_selection.py:113: UserWarning: Features [    79     84    149 ..., 562805 562806 562807] are constant.\n",
      "  UserWarning)\n"
     ]
    },
    {
     "name": "stdout",
     "output_type": "stream",
     "text": [
      "split: 64\n"
     ]
    },
    {
     "name": "stderr",
     "output_type": "stream",
     "text": [
      "/usr/local/lib/python3.4/dist-packages/sklearn/feature_selection/univariate_selection.py:113: UserWarning: Features [   127    138    177 ..., 562834 562835 562838] are constant.\n",
      "  UserWarning)\n"
     ]
    },
    {
     "name": "stdout",
     "output_type": "stream",
     "text": [
      "split: 65\n",
      "split: 66\n",
      "split: 67\n"
     ]
    },
    {
     "name": "stderr",
     "output_type": "stream",
     "text": [
      "/usr/local/lib/python3.4/dist-packages/sklearn/feature_selection/univariate_selection.py:113: UserWarning: Features [    79     84    173 ..., 562795 562805 562806] are constant.\n",
      "  UserWarning)\n"
     ]
    },
    {
     "name": "stdout",
     "output_type": "stream",
     "text": [
      "split: 68\n",
      "split: 69\n"
     ]
    },
    {
     "name": "stderr",
     "output_type": "stream",
     "text": [
      "/usr/local/lib/python3.4/dist-packages/sklearn/feature_selection/univariate_selection.py:113: UserWarning: Features [    79     84    127 ..., 562806 562811 562812] are constant.\n",
      "  UserWarning)\n"
     ]
    },
    {
     "name": "stdout",
     "output_type": "stream",
     "text": [
      "split: 70\n"
     ]
    },
    {
     "name": "stderr",
     "output_type": "stream",
     "text": [
      "/usr/local/lib/python3.4/dist-packages/sklearn/feature_selection/univariate_selection.py:113: UserWarning: Features [   284    290    394 ..., 562836 562839 562840] are constant.\n",
      "  UserWarning)\n"
     ]
    },
    {
     "name": "stdout",
     "output_type": "stream",
     "text": [
      "split: 71\n"
     ]
    },
    {
     "name": "stderr",
     "output_type": "stream",
     "text": [
      "/usr/local/lib/python3.4/dist-packages/sklearn/feature_selection/univariate_selection.py:113: UserWarning: Features [    89    127    138 ..., 562836 562839 562840] are constant.\n",
      "  UserWarning)\n"
     ]
    },
    {
     "name": "stdout",
     "output_type": "stream",
     "text": [
      "split: 72\n"
     ]
    },
    {
     "name": "stderr",
     "output_type": "stream",
     "text": [
      "/usr/local/lib/python3.4/dist-packages/sklearn/feature_selection/univariate_selection.py:113: UserWarning: Features [    79     84     89 ..., 562831 562832 562833] are constant.\n",
      "  UserWarning)\n"
     ]
    },
    {
     "name": "stdout",
     "output_type": "stream",
     "text": [
      "split: 73\n",
      "split: 74\n",
      "split: 75\n"
     ]
    },
    {
     "name": "stderr",
     "output_type": "stream",
     "text": [
      "/usr/local/lib/python3.4/dist-packages/sklearn/feature_selection/univariate_selection.py:113: UserWarning: Features [    79     84    149 ..., 562838 562839 562840] are constant.\n",
      "  UserWarning)\n"
     ]
    },
    {
     "name": "stdout",
     "output_type": "stream",
     "text": [
      "split: 76\n",
      "split: 77\n",
      "split: 78\n",
      "split: 79\n"
     ]
    },
    {
     "name": "stderr",
     "output_type": "stream",
     "text": [
      "/usr/local/lib/python3.4/dist-packages/sklearn/feature_selection/univariate_selection.py:113: UserWarning: Features [    79     84    149 ..., 562718 562765 562780] are constant.\n",
      "  UserWarning)\n"
     ]
    },
    {
     "name": "stdout",
     "output_type": "stream",
     "text": [
      "split: 80\n"
     ]
    },
    {
     "name": "stderr",
     "output_type": "stream",
     "text": [
      "/usr/local/lib/python3.4/dist-packages/sklearn/feature_selection/univariate_selection.py:113: UserWarning: Features [    89    196    284 ..., 562831 562832 562833] are constant.\n",
      "  UserWarning)\n"
     ]
    },
    {
     "name": "stdout",
     "output_type": "stream",
     "text": [
      "split: 81\n"
     ]
    },
    {
     "name": "stderr",
     "output_type": "stream",
     "text": [
      "/usr/local/lib/python3.4/dist-packages/sklearn/feature_selection/univariate_selection.py:113: UserWarning: Features [   127    138    234 ..., 562831 562832 562833] are constant.\n",
      "  UserWarning)\n"
     ]
    },
    {
     "name": "stdout",
     "output_type": "stream",
     "text": [
      "split: 82\n"
     ]
    },
    {
     "name": "stderr",
     "output_type": "stream",
     "text": [
      "/usr/local/lib/python3.4/dist-packages/sklearn/feature_selection/univariate_selection.py:113: UserWarning: Features [   127    138    234 ..., 562788 562811 562812] are constant.\n",
      "  UserWarning)\n"
     ]
    },
    {
     "name": "stdout",
     "output_type": "stream",
     "text": [
      "split: 83\n",
      "split: 84\n"
     ]
    },
    {
     "name": "stderr",
     "output_type": "stream",
     "text": [
      "/usr/local/lib/python3.4/dist-packages/sklearn/feature_selection/univariate_selection.py:113: UserWarning: Features [   127    138    234 ..., 562795 562805 562806] are constant.\n",
      "  UserWarning)\n"
     ]
    },
    {
     "name": "stdout",
     "output_type": "stream",
     "text": [
      "split: 85\n",
      "split: 86\n"
     ]
    },
    {
     "name": "stderr",
     "output_type": "stream",
     "text": [
      "/usr/local/lib/python3.4/dist-packages/sklearn/feature_selection/univariate_selection.py:113: UserWarning: Features [   178    179    183 ..., 562823 562824 562825] are constant.\n",
      "  UserWarning)\n"
     ]
    },
    {
     "name": "stdout",
     "output_type": "stream",
     "text": [
      "split: 87\n"
     ]
    },
    {
     "name": "stderr",
     "output_type": "stream",
     "text": [
      "/usr/local/lib/python3.4/dist-packages/sklearn/feature_selection/univariate_selection.py:113: UserWarning: Features [    79     84    127 ..., 562831 562832 562833] are constant.\n",
      "  UserWarning)\n"
     ]
    },
    {
     "name": "stdout",
     "output_type": "stream",
     "text": [
      "split: 88\n",
      "split: 89\n",
      "split: 90\n",
      "split: 91\n"
     ]
    },
    {
     "name": "stderr",
     "output_type": "stream",
     "text": [
      "/usr/local/lib/python3.4/dist-packages/sklearn/feature_selection/univariate_selection.py:113: UserWarning: Features [   177    178    179 ..., 562834 562835 562838] are constant.\n",
      "  UserWarning)\n"
     ]
    },
    {
     "name": "stdout",
     "output_type": "stream",
     "text": [
      "split: 92\n",
      "split: 93\n"
     ]
    },
    {
     "name": "stderr",
     "output_type": "stream",
     "text": [
      "/usr/local/lib/python3.4/dist-packages/sklearn/feature_selection/univariate_selection.py:113: UserWarning: Features [    71     89    149 ..., 562815 562816 562817] are constant.\n",
      "  UserWarning)\n"
     ]
    },
    {
     "name": "stdout",
     "output_type": "stream",
     "text": [
      "split: 94\n"
     ]
    },
    {
     "name": "stderr",
     "output_type": "stream",
     "text": [
      "/usr/local/lib/python3.4/dist-packages/sklearn/feature_selection/univariate_selection.py:113: UserWarning: Features [    79     84    173 ..., 562836 562839 562840] are constant.\n",
      "  UserWarning)\n"
     ]
    },
    {
     "name": "stdout",
     "output_type": "stream",
     "text": [
      "split: 95\n",
      "split: 96\n",
      "split: 97\n"
     ]
    },
    {
     "name": "stderr",
     "output_type": "stream",
     "text": [
      "/usr/local/lib/python3.4/dist-packages/sklearn/feature_selection/univariate_selection.py:113: UserWarning: Features [    89    149    196 ..., 562836 562839 562840] are constant.\n",
      "  UserWarning)\n"
     ]
    },
    {
     "name": "stdout",
     "output_type": "stream",
     "text": [
      "split: 98\n"
     ]
    },
    {
     "name": "stderr",
     "output_type": "stream",
     "text": [
      "/usr/local/lib/python3.4/dist-packages/sklearn/feature_selection/univariate_selection.py:113: UserWarning: Features [   149    175    176 ..., 562834 562835 562838] are constant.\n",
      "  UserWarning)\n"
     ]
    },
    {
     "name": "stdout",
     "output_type": "stream",
     "text": [
      "split: 99\n"
     ]
    },
    {
     "name": "stderr",
     "output_type": "stream",
     "text": [
      "/usr/local/lib/python3.4/dist-packages/sklearn/feature_selection/univariate_selection.py:113: UserWarning: Features [   266    290    345 ..., 562831 562832 562833] are constant.\n",
      "  UserWarning)\n"
     ]
    },
    {
     "name": "stdout",
     "output_type": "stream",
     "text": [
      "split: 100\n"
     ]
    },
    {
     "name": "stderr",
     "output_type": "stream",
     "text": [
      "/usr/local/lib/python3.4/dist-packages/sklearn/feature_selection/univariate_selection.py:113: UserWarning: Features [   127    138    149 ..., 562831 562832 562833] are constant.\n",
      "  UserWarning)\n"
     ]
    },
    {
     "name": "stdout",
     "output_type": "stream",
     "text": [
      "F_mean: 0.507897253395\n",
      "AUC_mean: 0.61489010989\n",
      "PRECISION_mean: 0.516386840713\n",
      "RECALL_mean: 0.52\n",
      "SPECIFICITY_mean: 0.688571428571\n",
      "\n",
      "F_mean_g: 0.514068441065\n",
      "PRECISION_mean_g: 0.508270676692\n",
      "RECALL_mean_g: 0.52\n",
      "SPECIFICITY_mean_g: 0.688571428571\n"
     ]
    }
   ],
   "source": [
    "zeros = np.load('/home/miquel/ForMiquel/CLEAN2/zero_cols_X_full2.npy') \n",
    "X=np.transpose(np.transpose(X)/dt)\n",
    "splits = 100\n",
    "percentage = 3\n",
    "mask = 0\n",
    "F, AUC, PRECISION, RECALL, SPECIFICITY = metrics_splits(X, y, splits, dt, percentage, mask, zeros)"
   ]
  },
  {
   "cell_type": "code",
   "execution_count": 36,
   "metadata": {},
   "outputs": [],
   "source": [
    "def metrics_repetitions_folds(X, y, repetitions, folds, dt, percentage, mask, zeros):\n",
    "    \n",
    "    box = np.zeros((121,145,121))\n",
    "\n",
    "    l2=X.shape[0]\n",
    "    X=np.concatenate((X,np.reshape(y, (l2,1))), axis=1)\n",
    "    SPECIFICITY=[]\n",
    "    PRECISION=[]\n",
    "    RECALL=[]\n",
    "    AUC=[]\n",
    "    F=[]\n",
    "    tp_l=[]\n",
    "    fp_l=[]\n",
    "    fn_l=[]\n",
    "    tn_l=[]\n",
    "    \n",
    "    for i in range(0,repetitions):\n",
    "        \n",
    "        print(\"repetition:\", i+1)\n",
    "        X_aux = np.take(X,np.random.permutation(X.shape[0]),axis=0,out=X)\n",
    "        y_aux = X_aux[:,-1]\n",
    "        X_aux= X_aux[:,:-1]\n",
    "        \n",
    "        dt=np.reshape(dt, (l2,1))\n",
    "        skf = sklearn.model_selection.StratifiedKFold(n_splits=3, shuffle=True, random_state=42)   \n",
    "        \n",
    "        fold = 1\n",
    "        \n",
    "        for train_index, test_index in skf.split(X, y):  \n",
    "            X_train = X_aux[train_index,:]\n",
    "            X_test = X_aux[test_index,:]\n",
    "            y_train = y_aux[train_index]\n",
    "            y_test = y_aux[test_index]\n",
    "            dt_test = dt[test_index]\n",
    "\n",
    "            print(\"fold:\", fold)\n",
    "            fold = fold + 1\n",
    "\n",
    "            S = SelectPercentile(percentile=percentage)\n",
    "            S.fit(X_train, y_train)\n",
    "        \n",
    "            X_train_s = X_train[:,S.get_support()]\n",
    "            X_test_s = X_test[:,S.get_support()]\n",
    "            \n",
    "            clf = LogisticRegression(solver='liblinear', penalty='l2', C=10e-6, class_weight={0: 0.42, 1:0.58})\n",
    "            clf.fit(X_train_s, y_train)\n",
    "            pred = clf.predict(X_test_s)\n",
    "            probas_ = clf.predict_proba(X_test_s)\n",
    "            \n",
    "            if mask == 1:\n",
    "                mask0 = np.where(dt_test>1.09)#~400 days\n",
    "                mask0 = np.asarray(mask0)\n",
    "                pred = pred[mask0][0]\n",
    "                y_test = y_test[mask0][0]\n",
    "                probas_ = probas_[:, 1]\n",
    "                probas_ = probas_[mask0][0]\n",
    "              \n",
    "            conf = confusion_matrix(y_test, pred)\n",
    "            fpr, tpr, thresholds = roc_curve(y_test, probas_)\n",
    "            roc_auc = sklearn.metrics.auc(fpr, tpr)\n",
    "            AUC.append(roc_auc)\n",
    "            \n",
    "            tp_l.append(conf[1,1])\n",
    "            fp_l.append(conf[0,1])\n",
    "            fn_l.append(conf[1,0])\n",
    "            tn_l.append(conf[0,0])\n",
    "            \n",
    "            #aux = np.zeros((121*145*121))\n",
    "            #aux[~zeros] = np.asarray(S.get_support())\n",
    "            #aux = np.reshape(aux, (121,145,121))\n",
    "            #box = box + aux\n",
    "            \n",
    "    #np.save('/home/miquel/ForMiquel/CLEAN2/fscores_appareances_folds_full2', box)\n",
    "    #new_img = nib.Nifti1Image(box, np.eye(4))\n",
    "    #nib.save(new_img, \"img_pvalues_appareances_20_splits_full.nii.gz\")\n",
    "    \n",
    "    TP = np.sum(tp_l)\n",
    "    FP = np.sum(fp_l)\n",
    "    TN = np.sum(tn_l)\n",
    "    FN = np.sum(fn_l)\n",
    "    \n",
    "    F=(2*TP)/(2*TP + FP + FN)\n",
    "    RECALL=TP / (TP + FN)\n",
    "    SPECIFICITY= TN / (TN + FP)\n",
    "    PRECISION=TP / (TP + FP)\n",
    "    AUC=np.mean(AUC)\n",
    "    \n",
    "\n",
    "    print(\"F_mean:\", F)\n",
    "    print(\"AUC_mean:\", AUC)\n",
    "    print(\"PRECISION_mean:\", PRECISION)\n",
    "    print(\"RECALL_mean:\", RECALL)\n",
    "    print(\"SPECIFICITY_mean:\", SPECIFICITY)\n",
    "\n",
    "            \n",
    "            \n",
    "    return F, AUC, PRECISION, RECALL, SPECIFICITY        \n",
    "\n"
   ]
  },
  {
   "cell_type": "code",
   "execution_count": 37,
   "metadata": {},
   "outputs": [
    {
     "name": "stdout",
     "output_type": "stream",
     "text": [
      "repetition: 1\n",
      "fold: 1\n"
     ]
    },
    {
     "name": "stderr",
     "output_type": "stream",
     "text": [
      "/usr/local/lib/python3.4/dist-packages/sklearn/feature_selection/univariate_selection.py:113: UserWarning: Features [    13     99    204 ..., 572728 572729 572730] are constant.\n",
      "  UserWarning)\n",
      "/usr/local/lib/python3.4/dist-packages/sklearn/feature_selection/univariate_selection.py:114: RuntimeWarning: invalid value encountered in true_divide\n",
      "  f = msb / msw\n"
     ]
    },
    {
     "name": "stdout",
     "output_type": "stream",
     "text": [
      "fold: 2\n"
     ]
    },
    {
     "name": "stderr",
     "output_type": "stream",
     "text": [
      "/usr/local/lib/python3.4/dist-packages/sklearn/feature_selection/univariate_selection.py:113: UserWarning: Features [    13     72     99 ..., 572712 572713 572714] are constant.\n",
      "  UserWarning)\n"
     ]
    },
    {
     "name": "stdout",
     "output_type": "stream",
     "text": [
      "fold: 3\n"
     ]
    },
    {
     "name": "stderr",
     "output_type": "stream",
     "text": [
      "/usr/local/lib/python3.4/dist-packages/sklearn/feature_selection/univariate_selection.py:113: UserWarning: Features [    13     80     85 ..., 572735 572736 572737] are constant.\n",
      "  UserWarning)\n"
     ]
    },
    {
     "name": "stdout",
     "output_type": "stream",
     "text": [
      "repetition: 2\n",
      "fold: 1\n"
     ]
    },
    {
     "name": "stderr",
     "output_type": "stream",
     "text": [
      "/usr/local/lib/python3.4/dist-packages/sklearn/feature_selection/univariate_selection.py:113: UserWarning: Features [     4     13     90 ..., 572728 572729 572730] are constant.\n",
      "  UserWarning)\n"
     ]
    },
    {
     "name": "stdout",
     "output_type": "stream",
     "text": [
      "fold: 2\n"
     ]
    },
    {
     "name": "stderr",
     "output_type": "stream",
     "text": [
      "/usr/local/lib/python3.4/dist-packages/sklearn/feature_selection/univariate_selection.py:113: UserWarning: Features [    13     99    273 ..., 572733 572736 572737] are constant.\n",
      "  UserWarning)\n"
     ]
    },
    {
     "name": "stdout",
     "output_type": "stream",
     "text": [
      "fold: 3\n"
     ]
    },
    {
     "name": "stderr",
     "output_type": "stream",
     "text": [
      "/usr/local/lib/python3.4/dist-packages/sklearn/feature_selection/univariate_selection.py:113: UserWarning: Features [    13     80     85 ..., 572731 572732 572735] are constant.\n",
      "  UserWarning)\n"
     ]
    },
    {
     "name": "stdout",
     "output_type": "stream",
     "text": [
      "repetition: 3\n",
      "fold: 1\n"
     ]
    },
    {
     "name": "stderr",
     "output_type": "stream",
     "text": [
      "/usr/local/lib/python3.4/dist-packages/sklearn/feature_selection/univariate_selection.py:113: UserWarning: Features [    13     90     99 ..., 572735 572736 572737] are constant.\n",
      "  UserWarning)\n"
     ]
    },
    {
     "name": "stdout",
     "output_type": "stream",
     "text": [
      "fold: 2\n"
     ]
    },
    {
     "name": "stderr",
     "output_type": "stream",
     "text": [
      "/usr/local/lib/python3.4/dist-packages/sklearn/feature_selection/univariate_selection.py:113: UserWarning: Features [    13     80     85 ..., 572728 572729 572730] are constant.\n",
      "  UserWarning)\n"
     ]
    },
    {
     "name": "stdout",
     "output_type": "stream",
     "text": [
      "fold: 3\n"
     ]
    },
    {
     "name": "stderr",
     "output_type": "stream",
     "text": [
      "/usr/local/lib/python3.4/dist-packages/sklearn/feature_selection/univariate_selection.py:113: UserWarning: Features [    13     99    178 ..., 572703 572708 572709] are constant.\n",
      "  UserWarning)\n"
     ]
    },
    {
     "name": "stdout",
     "output_type": "stream",
     "text": [
      "F_mean: 0.530805687204\n",
      "AUC_mean: 0.624197510309\n",
      "PRECISION_mean: 0.486956521739\n",
      "RECALL_mean: 0.583333333333\n",
      "SPECIFICITY_mean: 0.542635658915\n"
     ]
    }
   ],
   "source": [
    "zeros = np.load('/home/miquel/ForMiquel/CLEAN2/zero_cols_X_full2.npy') \n",
    "repetitions = 3\n",
    "folds = 3\n",
    "percentage = 1.75\n",
    "mask = 1\n",
    "F, AUC, PRECISION, RECALL, SPECIFICITY = metrics_repetitions_folds(X, y, repetitions, folds, dt, percentage, mask, zeros)"
   ]
  },
  {
   "cell_type": "code",
   "execution_count": 57,
   "metadata": {},
   "outputs": [
    {
     "name": "stdout",
     "output_type": "stream",
     "text": [
      "percentage: 0.001\n",
      "repetition: 1\n",
      "fold: 1\n"
     ]
    },
    {
     "name": "stderr",
     "output_type": "stream",
     "text": [
      "/usr/local/lib/python3.4/dist-packages/sklearn/feature_selection/univariate_selection.py:113: UserWarning: Features [    13     80     85 ..., 572728 572729 572730] are constant.\n",
      "  UserWarning)\n",
      "/usr/local/lib/python3.4/dist-packages/sklearn/feature_selection/univariate_selection.py:114: RuntimeWarning: invalid value encountered in true_divide\n",
      "  f = msb / msw\n"
     ]
    },
    {
     "name": "stdout",
     "output_type": "stream",
     "text": [
      "fold: 2\n"
     ]
    },
    {
     "name": "stderr",
     "output_type": "stream",
     "text": [
      "/usr/local/lib/python3.4/dist-packages/sklearn/feature_selection/univariate_selection.py:113: UserWarning: Features [    13     99    177 ..., 572731 572732 572735] are constant.\n",
      "  UserWarning)\n"
     ]
    },
    {
     "name": "stdout",
     "output_type": "stream",
     "text": [
      "fold: 3\n"
     ]
    },
    {
     "name": "stderr",
     "output_type": "stream",
     "text": [
      "/usr/local/lib/python3.4/dist-packages/sklearn/feature_selection/univariate_selection.py:113: UserWarning: Features [    13     99    178 ..., 572733 572736 572737] are constant.\n",
      "  UserWarning)\n"
     ]
    },
    {
     "name": "stdout",
     "output_type": "stream",
     "text": [
      "repetition: 2\n",
      "fold: 1\n",
      "fold: 2\n",
      "fold: 3\n"
     ]
    },
    {
     "name": "stderr",
     "output_type": "stream",
     "text": [
      "/usr/local/lib/python3.4/dist-packages/sklearn/feature_selection/univariate_selection.py:113: UserWarning: Features [    13     90     99 ..., 572731 572732 572735] are constant.\n",
      "  UserWarning)\n"
     ]
    },
    {
     "name": "stdout",
     "output_type": "stream",
     "text": [
      "repetition: 3\n",
      "fold: 1\n"
     ]
    },
    {
     "name": "stderr",
     "output_type": "stream",
     "text": [
      "/usr/local/lib/python3.4/dist-packages/sklearn/feature_selection/univariate_selection.py:113: UserWarning: Features [    13     80     85 ..., 572720 572721 572722] are constant.\n",
      "  UserWarning)\n"
     ]
    },
    {
     "name": "stdout",
     "output_type": "stream",
     "text": [
      "fold: 2\n"
     ]
    },
    {
     "name": "stderr",
     "output_type": "stream",
     "text": [
      "/usr/local/lib/python3.4/dist-packages/sklearn/feature_selection/univariate_selection.py:113: UserWarning: Features [     4     13     90 ..., 572731 572732 572735] are constant.\n",
      "  UserWarning)\n"
     ]
    },
    {
     "name": "stdout",
     "output_type": "stream",
     "text": [
      "fold: 3\n"
     ]
    },
    {
     "name": "stderr",
     "output_type": "stream",
     "text": [
      "/usr/local/lib/python3.4/dist-packages/sklearn/feature_selection/univariate_selection.py:113: UserWarning: Features [    13     99    149 ..., 572733 572736 572737] are constant.\n",
      "  UserWarning)\n"
     ]
    },
    {
     "name": "stdout",
     "output_type": "stream",
     "text": [
      "repetition: 4\n",
      "fold: 1\n"
     ]
    },
    {
     "name": "stderr",
     "output_type": "stream",
     "text": [
      "/usr/local/lib/python3.4/dist-packages/sklearn/feature_selection/univariate_selection.py:113: UserWarning: Features [    13     80     85 ..., 572733 572736 572737] are constant.\n",
      "  UserWarning)\n"
     ]
    },
    {
     "name": "stdout",
     "output_type": "stream",
     "text": [
      "fold: 2\n",
      "fold: 3\n"
     ]
    },
    {
     "name": "stderr",
     "output_type": "stream",
     "text": [
      "/usr/local/lib/python3.4/dist-packages/sklearn/feature_selection/univariate_selection.py:113: UserWarning: Features [    13     99    149 ..., 572712 572713 572714] are constant.\n",
      "  UserWarning)\n"
     ]
    },
    {
     "name": "stdout",
     "output_type": "stream",
     "text": [
      "repetition: 5\n",
      "fold: 1\n"
     ]
    },
    {
     "name": "stderr",
     "output_type": "stream",
     "text": [
      "/usr/local/lib/python3.4/dist-packages/sklearn/feature_selection/univariate_selection.py:113: UserWarning: Features [    13     71     90 ..., 572733 572736 572737] are constant.\n",
      "  UserWarning)\n"
     ]
    },
    {
     "name": "stdout",
     "output_type": "stream",
     "text": [
      "fold: 2\n",
      "fold: 3\n",
      "repetition: 6\n",
      "fold: 1\n",
      "fold: 2\n",
      "fold: 3\n"
     ]
    },
    {
     "name": "stderr",
     "output_type": "stream",
     "text": [
      "/usr/local/lib/python3.4/dist-packages/sklearn/feature_selection/univariate_selection.py:113: UserWarning: Features [    13     99    282 ..., 572733 572736 572737] are constant.\n",
      "  UserWarning)\n"
     ]
    },
    {
     "name": "stdout",
     "output_type": "stream",
     "text": [
      "repetition: 7\n",
      "fold: 1\n"
     ]
    },
    {
     "name": "stderr",
     "output_type": "stream",
     "text": [
      "/usr/local/lib/python3.4/dist-packages/sklearn/feature_selection/univariate_selection.py:113: UserWarning: Features [    13     80     85 ..., 572735 572736 572737] are constant.\n",
      "  UserWarning)\n"
     ]
    },
    {
     "name": "stdout",
     "output_type": "stream",
     "text": [
      "fold: 2\n"
     ]
    },
    {
     "name": "stderr",
     "output_type": "stream",
     "text": [
      "/usr/local/lib/python3.4/dist-packages/sklearn/feature_selection/univariate_selection.py:113: UserWarning: Features [    13     99    178 ..., 572728 572729 572730] are constant.\n",
      "  UserWarning)\n"
     ]
    },
    {
     "name": "stdout",
     "output_type": "stream",
     "text": [
      "fold: 3\n"
     ]
    },
    {
     "name": "stderr",
     "output_type": "stream",
     "text": [
      "/usr/local/lib/python3.4/dist-packages/sklearn/feature_selection/univariate_selection.py:113: UserWarning: Features [    13     90     99 ..., 572712 572713 572714] are constant.\n",
      "  UserWarning)\n"
     ]
    },
    {
     "name": "stdout",
     "output_type": "stream",
     "text": [
      "repetition: 8\n",
      "fold: 1\n"
     ]
    },
    {
     "name": "stderr",
     "output_type": "stream",
     "text": [
      "/usr/local/lib/python3.4/dist-packages/sklearn/feature_selection/univariate_selection.py:113: UserWarning: Features [    13     80     85 ..., 572702 572703 572704] are constant.\n",
      "  UserWarning)\n"
     ]
    },
    {
     "name": "stdout",
     "output_type": "stream",
     "text": [
      "fold: 2\n"
     ]
    },
    {
     "name": "stderr",
     "output_type": "stream",
     "text": [
      "/usr/local/lib/python3.4/dist-packages/sklearn/feature_selection/univariate_selection.py:113: UserWarning: Features [    13     99    149 ..., 572735 572736 572737] are constant.\n",
      "  UserWarning)\n"
     ]
    },
    {
     "name": "stdout",
     "output_type": "stream",
     "text": [
      "fold: 3\n"
     ]
    },
    {
     "name": "stderr",
     "output_type": "stream",
     "text": [
      "/usr/local/lib/python3.4/dist-packages/sklearn/feature_selection/univariate_selection.py:113: UserWarning: Features [    13     99    204 ..., 572634 572670 572685] are constant.\n",
      "  UserWarning)\n"
     ]
    },
    {
     "name": "stdout",
     "output_type": "stream",
     "text": [
      "repetition: 9\n",
      "fold: 1\n"
     ]
    },
    {
     "name": "stderr",
     "output_type": "stream",
     "text": [
      "/usr/local/lib/python3.4/dist-packages/sklearn/feature_selection/univariate_selection.py:113: UserWarning: Features [    13     99    282 ..., 572720 572721 572722] are constant.\n",
      "  UserWarning)\n"
     ]
    },
    {
     "name": "stdout",
     "output_type": "stream",
     "text": [
      "fold: 2\n"
     ]
    },
    {
     "name": "stderr",
     "output_type": "stream",
     "text": [
      "/usr/local/lib/python3.4/dist-packages/sklearn/feature_selection/univariate_selection.py:113: UserWarning: Features [    13     80     85 ..., 572731 572732 572735] are constant.\n",
      "  UserWarning)\n"
     ]
    },
    {
     "name": "stdout",
     "output_type": "stream",
     "text": [
      "fold: 3\n"
     ]
    },
    {
     "name": "stderr",
     "output_type": "stream",
     "text": [
      "/usr/local/lib/python3.4/dist-packages/sklearn/feature_selection/univariate_selection.py:113: UserWarning: Features [    13     90     99 ..., 572733 572736 572737] are constant.\n",
      "  UserWarning)\n"
     ]
    },
    {
     "name": "stdout",
     "output_type": "stream",
     "text": [
      "repetition: 10\n",
      "fold: 1\n"
     ]
    },
    {
     "name": "stderr",
     "output_type": "stream",
     "text": [
      "/usr/local/lib/python3.4/dist-packages/sklearn/feature_selection/univariate_selection.py:113: UserWarning: Features [    13     71     80 ..., 572702 572703 572704] are constant.\n",
      "  UserWarning)\n"
     ]
    },
    {
     "name": "stdout",
     "output_type": "stream",
     "text": [
      "fold: 2\n"
     ]
    },
    {
     "name": "stderr",
     "output_type": "stream",
     "text": [
      "/usr/local/lib/python3.4/dist-packages/sklearn/feature_selection/univariate_selection.py:113: UserWarning: Features [    13     90     99 ..., 572728 572729 572730] are constant.\n",
      "  UserWarning)\n"
     ]
    },
    {
     "name": "stdout",
     "output_type": "stream",
     "text": [
      "fold: 3\n"
     ]
    },
    {
     "name": "stderr",
     "output_type": "stream",
     "text": [
      "/usr/local/lib/python3.4/dist-packages/sklearn/feature_selection/univariate_selection.py:113: UserWarning: Features [    13     72     99 ..., 572735 572736 572737] are constant.\n",
      "  UserWarning)\n"
     ]
    },
    {
     "name": "stdout",
     "output_type": "stream",
     "text": [
      "repetition: 11\n",
      "fold: 1\n",
      "fold: 2\n"
     ]
    },
    {
     "name": "stderr",
     "output_type": "stream",
     "text": [
      "/usr/local/lib/python3.4/dist-packages/sklearn/feature_selection/univariate_selection.py:113: UserWarning: Features [    13     99    177 ..., 572735 572736 572737] are constant.\n",
      "  UserWarning)\n"
     ]
    },
    {
     "name": "stdout",
     "output_type": "stream",
     "text": [
      "fold: 3\n"
     ]
    },
    {
     "name": "stderr",
     "output_type": "stream",
     "text": [
      "/usr/local/lib/python3.4/dist-packages/sklearn/feature_selection/univariate_selection.py:113: UserWarning: Features [    13     99    274 ..., 572728 572729 572730] are constant.\n",
      "  UserWarning)\n"
     ]
    },
    {
     "name": "stdout",
     "output_type": "stream",
     "text": [
      "repetition: 12\n",
      "fold: 1\n",
      "fold: 2\n",
      "fold: 3\n",
      "repetition: 13\n",
      "fold: 1\n"
     ]
    },
    {
     "name": "stderr",
     "output_type": "stream",
     "text": [
      "/usr/local/lib/python3.4/dist-packages/sklearn/feature_selection/univariate_selection.py:113: UserWarning: Features [    13     99    273 ..., 572728 572729 572730] are constant.\n",
      "  UserWarning)\n"
     ]
    },
    {
     "name": "stdout",
     "output_type": "stream",
     "text": [
      "fold: 2\n"
     ]
    },
    {
     "name": "stderr",
     "output_type": "stream",
     "text": [
      "/usr/local/lib/python3.4/dist-packages/sklearn/feature_selection/univariate_selection.py:113: UserWarning: Features [     4     13     80 ..., 572702 572703 572704] are constant.\n",
      "  UserWarning)\n"
     ]
    },
    {
     "name": "stdout",
     "output_type": "stream",
     "text": [
      "fold: 3\n",
      "repetition: 14\n",
      "fold: 1\n"
     ]
    },
    {
     "name": "stderr",
     "output_type": "stream",
     "text": [
      "/usr/local/lib/python3.4/dist-packages/sklearn/feature_selection/univariate_selection.py:113: UserWarning: Features [    13     99    149 ..., 572731 572732 572735] are constant.\n",
      "  UserWarning)\n"
     ]
    },
    {
     "name": "stdout",
     "output_type": "stream",
     "text": [
      "fold: 2\n",
      "fold: 3\n",
      "repetition: 15\n",
      "fold: 1\n"
     ]
    },
    {
     "name": "stderr",
     "output_type": "stream",
     "text": [
      "/usr/local/lib/python3.4/dist-packages/sklearn/feature_selection/univariate_selection.py:113: UserWarning: Features [    13     99    175 ..., 572735 572736 572737] are constant.\n",
      "  UserWarning)\n"
     ]
    },
    {
     "name": "stdout",
     "output_type": "stream",
     "text": [
      "fold: 2\n",
      "fold: 3\n"
     ]
    },
    {
     "name": "stderr",
     "output_type": "stream",
     "text": [
      "/usr/local/lib/python3.4/dist-packages/sklearn/feature_selection/univariate_selection.py:113: UserWarning: Features [    13     90     99 ..., 572720 572721 572722] are constant.\n",
      "  UserWarning)\n"
     ]
    },
    {
     "name": "stdout",
     "output_type": "stream",
     "text": [
      "repetition: 16\n",
      "fold: 1\n",
      "fold: 2\n",
      "fold: 3\n"
     ]
    },
    {
     "name": "stderr",
     "output_type": "stream",
     "text": [
      "/usr/local/lib/python3.4/dist-packages/sklearn/feature_selection/univariate_selection.py:113: UserWarning: Features [    13     80     85 ..., 572595 572596 572704] are constant.\n",
      "  UserWarning)\n"
     ]
    },
    {
     "name": "stdout",
     "output_type": "stream",
     "text": [
      "repetition: 17\n",
      "fold: 1\n",
      "fold: 2\n",
      "fold: 3\n",
      "repetition: 18\n",
      "fold: 1\n"
     ]
    },
    {
     "name": "stderr",
     "output_type": "stream",
     "text": [
      "/usr/local/lib/python3.4/dist-packages/sklearn/feature_selection/univariate_selection.py:113: UserWarning: Features [     4     13     80 ..., 572731 572732 572735] are constant.\n",
      "  UserWarning)\n"
     ]
    },
    {
     "name": "stdout",
     "output_type": "stream",
     "text": [
      "fold: 2\n"
     ]
    },
    {
     "name": "stderr",
     "output_type": "stream",
     "text": [
      "/usr/local/lib/python3.4/dist-packages/sklearn/feature_selection/univariate_selection.py:113: UserWarning: Features [    13     99    388 ..., 572712 572713 572714] are constant.\n",
      "  UserWarning)\n"
     ]
    },
    {
     "name": "stdout",
     "output_type": "stream",
     "text": [
      "fold: 3\n"
     ]
    },
    {
     "name": "stderr",
     "output_type": "stream",
     "text": [
      "/usr/local/lib/python3.4/dist-packages/sklearn/feature_selection/univariate_selection.py:113: UserWarning: Features [    13     99    204 ..., 572733 572736 572737] are constant.\n",
      "  UserWarning)\n"
     ]
    },
    {
     "name": "stdout",
     "output_type": "stream",
     "text": [
      "repetition: 19\n",
      "fold: 1\n",
      "fold: 2\n"
     ]
    },
    {
     "name": "stderr",
     "output_type": "stream",
     "text": [
      "/usr/local/lib/python3.4/dist-packages/sklearn/feature_selection/univariate_selection.py:113: UserWarning: Features [    13     99    273 ..., 572733 572736 572737] are constant.\n",
      "  UserWarning)\n"
     ]
    },
    {
     "name": "stdout",
     "output_type": "stream",
     "text": [
      "fold: 3\n",
      "repetition: 20\n",
      "fold: 1\n",
      "fold: 2\n",
      "fold: 3\n"
     ]
    },
    {
     "name": "stderr",
     "output_type": "stream",
     "text": [
      "/usr/local/lib/python3.4/dist-packages/sklearn/feature_selection/univariate_selection.py:113: UserWarning: Features [    13     80     85 ..., 572704 572708 572709] are constant.\n",
      "  UserWarning)\n"
     ]
    },
    {
     "name": "stdout",
     "output_type": "stream",
     "text": [
      "repetition: 21\n",
      "fold: 1\n",
      "fold: 2\n"
     ]
    },
    {
     "name": "stderr",
     "output_type": "stream",
     "text": [
      "/usr/local/lib/python3.4/dist-packages/sklearn/feature_selection/univariate_selection.py:113: UserWarning: Features [    13     72     80 ..., 572712 572713 572714] are constant.\n",
      "  UserWarning)\n"
     ]
    },
    {
     "name": "stdout",
     "output_type": "stream",
     "text": [
      "fold: 3\n"
     ]
    },
    {
     "name": "stderr",
     "output_type": "stream",
     "text": [
      "/usr/local/lib/python3.4/dist-packages/sklearn/feature_selection/univariate_selection.py:113: UserWarning: Features [    13     90     99 ..., 572735 572736 572737] are constant.\n",
      "  UserWarning)\n"
     ]
    },
    {
     "name": "stdout",
     "output_type": "stream",
     "text": [
      "repetition: 22\n",
      "fold: 1\n",
      "fold: 2\n",
      "fold: 3\n",
      "repetition: 23\n",
      "fold: 1\n",
      "fold: 2\n"
     ]
    },
    {
     "name": "stderr",
     "output_type": "stream",
     "text": [
      "/usr/local/lib/python3.4/dist-packages/sklearn/feature_selection/univariate_selection.py:113: UserWarning: Features [    13     99    305 ..., 572720 572721 572722] are constant.\n",
      "  UserWarning)\n"
     ]
    },
    {
     "name": "stdout",
     "output_type": "stream",
     "text": [
      "fold: 3\n",
      "repetition: 24\n",
      "fold: 1\n"
     ]
    },
    {
     "name": "stderr",
     "output_type": "stream",
     "text": [
      "/usr/local/lib/python3.4/dist-packages/sklearn/feature_selection/univariate_selection.py:113: UserWarning: Features [     4     13     80 ..., 572728 572729 572730] are constant.\n",
      "  UserWarning)\n"
     ]
    },
    {
     "name": "stdout",
     "output_type": "stream",
     "text": [
      "fold: 2\n"
     ]
    },
    {
     "name": "stderr",
     "output_type": "stream",
     "text": [
      "/usr/local/lib/python3.4/dist-packages/sklearn/feature_selection/univariate_selection.py:113: UserWarning: Features [    13     99    175 ..., 572731 572732 572735] are constant.\n",
      "  UserWarning)\n"
     ]
    },
    {
     "name": "stdout",
     "output_type": "stream",
     "text": [
      "fold: 3\n",
      "repetition: 25\n",
      "fold: 1\n"
     ]
    },
    {
     "name": "stderr",
     "output_type": "stream",
     "text": [
      "/usr/local/lib/python3.4/dist-packages/sklearn/feature_selection/univariate_selection.py:113: UserWarning: Features [    13     99    274 ..., 572733 572736 572737] are constant.\n",
      "  UserWarning)\n"
     ]
    },
    {
     "name": "stdout",
     "output_type": "stream",
     "text": [
      "fold: 2\n",
      "fold: 3\n",
      "repetition: 26\n",
      "fold: 1\n",
      "fold: 2\n"
     ]
    },
    {
     "name": "stderr",
     "output_type": "stream",
     "text": [
      "/usr/local/lib/python3.4/dist-packages/sklearn/feature_selection/univariate_selection.py:113: UserWarning: Features [    13     72     99 ..., 572720 572721 572722] are constant.\n",
      "  UserWarning)\n"
     ]
    },
    {
     "name": "stdout",
     "output_type": "stream",
     "text": [
      "fold: 3\n",
      "repetition: 27\n",
      "fold: 1\n",
      "fold: 2\n"
     ]
    },
    {
     "name": "stderr",
     "output_type": "stream",
     "text": [
      "/usr/local/lib/python3.4/dist-packages/sklearn/feature_selection/univariate_selection.py:113: UserWarning: Features [    13     80     85 ..., 572588 572708 572709] are constant.\n",
      "  UserWarning)\n"
     ]
    },
    {
     "name": "stdout",
     "output_type": "stream",
     "text": [
      "fold: 3\n",
      "repetition: 28\n",
      "fold: 1\n",
      "fold: 2\n"
     ]
    },
    {
     "name": "stderr",
     "output_type": "stream",
     "text": [
      "/usr/local/lib/python3.4/dist-packages/sklearn/feature_selection/univariate_selection.py:113: UserWarning: Features [     4     13     90 ..., 572692 572702 572703] are constant.\n",
      "  UserWarning)\n"
     ]
    },
    {
     "name": "stdout",
     "output_type": "stream",
     "text": [
      "fold: 3\n",
      "repetition: 29\n",
      "fold: 1\n",
      "fold: 2\n",
      "fold: 3\n",
      "repetition: 30\n",
      "fold: 1\n"
     ]
    },
    {
     "name": "stderr",
     "output_type": "stream",
     "text": [
      "/usr/local/lib/python3.4/dist-packages/sklearn/feature_selection/univariate_selection.py:113: UserWarning: Features [    13     99    274 ..., 572528 572685 572704] are constant.\n",
      "  UserWarning)\n"
     ]
    },
    {
     "name": "stdout",
     "output_type": "stream",
     "text": [
      "fold: 2\n"
     ]
    },
    {
     "name": "stderr",
     "output_type": "stream",
     "text": [
      "/usr/local/lib/python3.4/dist-packages/sklearn/feature_selection/univariate_selection.py:113: UserWarning: Features [     4     13     90 ..., 572733 572736 572737] are constant.\n",
      "  UserWarning)\n"
     ]
    },
    {
     "name": "stdout",
     "output_type": "stream",
     "text": [
      "fold: 3\n",
      "repetition: 31\n",
      "fold: 1\n",
      "fold: 2\n",
      "fold: 3\n"
     ]
    },
    {
     "name": "stderr",
     "output_type": "stream",
     "text": [
      "/usr/local/lib/python3.4/dist-packages/sklearn/feature_selection/univariate_selection.py:113: UserWarning: Features [    13     99    149 ..., 572728 572729 572730] are constant.\n",
      "  UserWarning)\n"
     ]
    },
    {
     "name": "stdout",
     "output_type": "stream",
     "text": [
      "repetition: 32\n",
      "fold: 1\n",
      "fold: 2\n",
      "fold: 3\n",
      "repetition: 33\n",
      "fold: 1\n",
      "fold: 2\n",
      "fold: 3\n",
      "F_mean: 0.464149342384\n",
      "AUC_mean: 0.580582527261\n",
      "PRECISION_mean: 0.402798232695\n",
      "RECALL_mean: 0.547547547548\n",
      "SPECIFICITY_mean: 0.45054200542\n",
      "percentage: 0.0287676767677\n",
      "repetition: 1\n",
      "fold: 1\n"
     ]
    },
    {
     "name": "stderr",
     "output_type": "stream",
     "text": [
      "/usr/local/lib/python3.4/dist-packages/sklearn/feature_selection/univariate_selection.py:113: UserWarning: Features [     4     13     90 ..., 572720 572721 572722] are constant.\n",
      "  UserWarning)\n"
     ]
    },
    {
     "name": "stdout",
     "output_type": "stream",
     "text": [
      "fold: 2\n",
      "fold: 3\n",
      "repetition: 2\n",
      "fold: 1\n",
      "fold: 2\n"
     ]
    },
    {
     "name": "stderr",
     "output_type": "stream",
     "text": [
      "/usr/local/lib/python3.4/dist-packages/sklearn/feature_selection/univariate_selection.py:113: UserWarning: Features [    13     80     85 ..., 572712 572713 572714] are constant.\n",
      "  UserWarning)\n"
     ]
    },
    {
     "name": "stdout",
     "output_type": "stream",
     "text": [
      "fold: 3\n",
      "repetition: 3\n",
      "fold: 1\n",
      "fold: 2\n",
      "fold: 3\n",
      "repetition: 4\n",
      "fold: 1\n"
     ]
    },
    {
     "name": "stderr",
     "output_type": "stream",
     "text": [
      "/usr/local/lib/python3.4/dist-packages/sklearn/feature_selection/univariate_selection.py:113: UserWarning: Features [     4     13     80 ..., 572733 572736 572737] are constant.\n",
      "  UserWarning)\n"
     ]
    },
    {
     "name": "stdout",
     "output_type": "stream",
     "text": [
      "fold: 2\n"
     ]
    },
    {
     "name": "stderr",
     "output_type": "stream",
     "text": [
      "/usr/local/lib/python3.4/dist-packages/sklearn/feature_selection/univariate_selection.py:113: UserWarning: Features [    13     99    204 ..., 572720 572721 572722] are constant.\n",
      "  UserWarning)\n"
     ]
    },
    {
     "name": "stdout",
     "output_type": "stream",
     "text": [
      "fold: 3\n",
      "repetition: 5\n",
      "fold: 1\n",
      "fold: 2\n",
      "fold: 3\n",
      "repetition: 6\n",
      "fold: 1\n",
      "fold: 2\n",
      "fold: 3\n",
      "repetition: 7\n",
      "fold: 1\n",
      "fold: 2\n",
      "fold: 3\n",
      "repetition: 8\n",
      "fold: 1\n"
     ]
    },
    {
     "name": "stderr",
     "output_type": "stream",
     "text": [
      "/usr/local/lib/python3.4/dist-packages/sklearn/feature_selection/univariate_selection.py:113: UserWarning: Features [    13     72     99 ..., 572731 572732 572735] are constant.\n",
      "  UserWarning)\n"
     ]
    },
    {
     "name": "stdout",
     "output_type": "stream",
     "text": [
      "fold: 2\n",
      "fold: 3\n"
     ]
    },
    {
     "name": "stderr",
     "output_type": "stream",
     "text": [
      "/usr/local/lib/python3.4/dist-packages/sklearn/feature_selection/univariate_selection.py:113: UserWarning: Features [    13     80     84 ..., 572728 572729 572730] are constant.\n",
      "  UserWarning)\n"
     ]
    },
    {
     "name": "stdout",
     "output_type": "stream",
     "text": [
      "repetition: 9\n",
      "fold: 1\n",
      "fold: 2\n",
      "fold: 3\n"
     ]
    },
    {
     "name": "stderr",
     "output_type": "stream",
     "text": [
      "/usr/local/lib/python3.4/dist-packages/sklearn/feature_selection/univariate_selection.py:113: UserWarning: Features [    13     99    290 ..., 572733 572736 572737] are constant.\n",
      "  UserWarning)\n"
     ]
    },
    {
     "name": "stdout",
     "output_type": "stream",
     "text": [
      "repetition: 10\n",
      "fold: 1\n",
      "fold: 2\n",
      "fold: 3\n"
     ]
    },
    {
     "name": "stderr",
     "output_type": "stream",
     "text": [
      "/usr/local/lib/python3.4/dist-packages/sklearn/feature_selection/univariate_selection.py:113: UserWarning: Features [    13     90     99 ..., 572704 572708 572709] are constant.\n",
      "  UserWarning)\n"
     ]
    },
    {
     "name": "stdout",
     "output_type": "stream",
     "text": [
      "repetition: 11\n",
      "fold: 1\n",
      "fold: 2\n"
     ]
    },
    {
     "name": "stderr",
     "output_type": "stream",
     "text": [
      "/usr/local/lib/python3.4/dist-packages/sklearn/feature_selection/univariate_selection.py:113: UserWarning: Features [    13     99    264 ..., 572728 572729 572730] are constant.\n",
      "  UserWarning)\n"
     ]
    },
    {
     "name": "stdout",
     "output_type": "stream",
     "text": [
      "fold: 3\n",
      "repetition: 12\n",
      "fold: 1\n"
     ]
    },
    {
     "name": "stderr",
     "output_type": "stream",
     "text": [
      "/usr/local/lib/python3.4/dist-packages/sklearn/feature_selection/univariate_selection.py:113: UserWarning: Features [     4     13     80 ..., 572720 572721 572722] are constant.\n",
      "  UserWarning)\n"
     ]
    },
    {
     "name": "stdout",
     "output_type": "stream",
     "text": [
      "fold: 2\n"
     ]
    },
    {
     "name": "stderr",
     "output_type": "stream",
     "text": [
      "/usr/local/lib/python3.4/dist-packages/sklearn/feature_selection/univariate_selection.py:113: UserWarning: Features [    13     99    288 ..., 572712 572713 572714] are constant.\n",
      "  UserWarning)\n"
     ]
    },
    {
     "name": "stdout",
     "output_type": "stream",
     "text": [
      "fold: 3\n",
      "repetition: 13\n",
      "fold: 1\n",
      "fold: 2\n",
      "fold: 3\n",
      "repetition: 14\n",
      "fold: 1\n",
      "fold: 2\n"
     ]
    },
    {
     "name": "stderr",
     "output_type": "stream",
     "text": [
      "/usr/local/lib/python3.4/dist-packages/sklearn/feature_selection/univariate_selection.py:113: UserWarning: Features [    13     99    204 ..., 572728 572729 572730] are constant.\n",
      "  UserWarning)\n"
     ]
    },
    {
     "name": "stdout",
     "output_type": "stream",
     "text": [
      "fold: 3\n",
      "repetition: 15\n",
      "fold: 1\n",
      "fold: 2\n"
     ]
    },
    {
     "name": "stderr",
     "output_type": "stream",
     "text": [
      "/usr/local/lib/python3.4/dist-packages/sklearn/feature_selection/univariate_selection.py:113: UserWarning: Features [    13     72     80 ..., 572733 572736 572737] are constant.\n",
      "  UserWarning)\n"
     ]
    },
    {
     "name": "stdout",
     "output_type": "stream",
     "text": [
      "fold: 3\n"
     ]
    },
    {
     "name": "stderr",
     "output_type": "stream",
     "text": [
      "/usr/local/lib/python3.4/dist-packages/sklearn/feature_selection/univariate_selection.py:113: UserWarning: Features [    13     90     99 ..., 572684 572708 572709] are constant.\n",
      "  UserWarning)\n"
     ]
    },
    {
     "name": "stdout",
     "output_type": "stream",
     "text": [
      "repetition: 16\n",
      "fold: 1\n",
      "fold: 2\n",
      "fold: 3\n"
     ]
    },
    {
     "name": "stderr",
     "output_type": "stream",
     "text": [
      "/usr/local/lib/python3.4/dist-packages/sklearn/feature_selection/univariate_selection.py:113: UserWarning: Features [    13     90     91 ..., 572733 572736 572737] are constant.\n",
      "  UserWarning)\n"
     ]
    },
    {
     "name": "stdout",
     "output_type": "stream",
     "text": [
      "repetition: 17\n",
      "fold: 1\n",
      "fold: 2\n"
     ]
    },
    {
     "name": "stderr",
     "output_type": "stream",
     "text": [
      "/usr/local/lib/python3.4/dist-packages/sklearn/feature_selection/univariate_selection.py:113: UserWarning: Features [    13     99    178 ..., 572720 572721 572722] are constant.\n",
      "  UserWarning)\n"
     ]
    },
    {
     "name": "stdout",
     "output_type": "stream",
     "text": [
      "fold: 3\n",
      "repetition: 18\n",
      "fold: 1\n",
      "fold: 2\n",
      "fold: 3\n",
      "repetition: 19\n",
      "fold: 1\n"
     ]
    },
    {
     "name": "stderr",
     "output_type": "stream",
     "text": [
      "/usr/local/lib/python3.4/dist-packages/sklearn/feature_selection/univariate_selection.py:113: UserWarning: Features [     4     13     90 ..., 572702 572703 572704] are constant.\n",
      "  UserWarning)\n"
     ]
    },
    {
     "name": "stdout",
     "output_type": "stream",
     "text": [
      "fold: 2\n",
      "fold: 3\n",
      "repetition: 20\n",
      "fold: 1\n",
      "fold: 2\n"
     ]
    },
    {
     "name": "stderr",
     "output_type": "stream",
     "text": [
      "/usr/local/lib/python3.4/dist-packages/sklearn/feature_selection/univariate_selection.py:113: UserWarning: Features [    13     90     99 ..., 572702 572703 572704] are constant.\n",
      "  UserWarning)\n"
     ]
    },
    {
     "name": "stdout",
     "output_type": "stream",
     "text": [
      "fold: 3\n",
      "repetition: 21\n",
      "fold: 1\n",
      "fold: 2\n",
      "fold: 3\n",
      "repetition: 22\n",
      "fold: 1\n",
      "fold: 2\n",
      "fold: 3\n",
      "repetition: 23\n",
      "fold: 1\n",
      "fold: 2\n",
      "fold: 3\n",
      "repetition: 24\n",
      "fold: 1\n"
     ]
    },
    {
     "name": "stderr",
     "output_type": "stream",
     "text": [
      "/usr/local/lib/python3.4/dist-packages/sklearn/feature_selection/univariate_selection.py:113: UserWarning: Features [     4     13     90 ..., 572735 572736 572737] are constant.\n",
      "  UserWarning)\n"
     ]
    },
    {
     "name": "stdout",
     "output_type": "stream",
     "text": [
      "fold: 2\n"
     ]
    },
    {
     "name": "stderr",
     "output_type": "stream",
     "text": [
      "/usr/local/lib/python3.4/dist-packages/sklearn/feature_selection/univariate_selection.py:113: UserWarning: Features [    13     99    273 ..., 572720 572721 572722] are constant.\n",
      "  UserWarning)\n"
     ]
    },
    {
     "name": "stdout",
     "output_type": "stream",
     "text": [
      "fold: 3\n",
      "repetition: 25\n",
      "fold: 1\n"
     ]
    },
    {
     "name": "stderr",
     "output_type": "stream",
     "text": [
      "/usr/local/lib/python3.4/dist-packages/sklearn/feature_selection/univariate_selection.py:113: UserWarning: Features [    13     99    290 ..., 572728 572729 572730] are constant.\n",
      "  UserWarning)\n"
     ]
    },
    {
     "name": "stdout",
     "output_type": "stream",
     "text": [
      "fold: 2\n",
      "fold: 3\n",
      "repetition: 26\n",
      "fold: 1\n",
      "fold: 2\n",
      "fold: 3\n",
      "repetition: 27\n",
      "fold: 1\n",
      "fold: 2\n",
      "fold: 3\n"
     ]
    },
    {
     "name": "stderr",
     "output_type": "stream",
     "text": [
      "/usr/local/lib/python3.4/dist-packages/sklearn/feature_selection/univariate_selection.py:113: UserWarning: Features [    13     90     99 ..., 572596 572708 572709] are constant.\n",
      "  UserWarning)\n"
     ]
    },
    {
     "name": "stdout",
     "output_type": "stream",
     "text": [
      "repetition: 28\n",
      "fold: 1\n",
      "fold: 2\n"
     ]
    },
    {
     "name": "stderr",
     "output_type": "stream",
     "text": [
      "/usr/local/lib/python3.4/dist-packages/sklearn/feature_selection/univariate_selection.py:113: UserWarning: Features [    13     90     99 ..., 572692 572702 572703] are constant.\n",
      "  UserWarning)\n"
     ]
    },
    {
     "name": "stdout",
     "output_type": "stream",
     "text": [
      "fold: 3\n",
      "repetition: 29\n",
      "fold: 1\n",
      "fold: 2\n",
      "fold: 3\n",
      "repetition: 30\n",
      "fold: 1\n"
     ]
    },
    {
     "name": "stderr",
     "output_type": "stream",
     "text": [
      "/usr/local/lib/python3.4/dist-packages/sklearn/feature_selection/univariate_selection.py:113: UserWarning: Features [     5     13     99 ..., 572733 572736 572737] are constant.\n",
      "  UserWarning)\n"
     ]
    },
    {
     "name": "stdout",
     "output_type": "stream",
     "text": [
      "fold: 2\n",
      "fold: 3\n",
      "repetition: 31\n",
      "fold: 1\n",
      "fold: 2\n",
      "fold: 3\n",
      "repetition: 32\n",
      "fold: 1\n",
      "fold: 2\n",
      "fold: 3\n",
      "repetition: 33\n",
      "fold: 1\n",
      "fold: 2\n"
     ]
    },
    {
     "name": "stderr",
     "output_type": "stream",
     "text": [
      "/usr/local/lib/python3.4/dist-packages/sklearn/feature_selection/univariate_selection.py:113: UserWarning: Features [    13     80     85 ..., 572594 572595 572596] are constant.\n",
      "  UserWarning)\n"
     ]
    },
    {
     "name": "stdout",
     "output_type": "stream",
     "text": [
      "fold: 3\n",
      "F_mean: 0.449170565717\n",
      "AUC_mean: 0.617008964595\n",
      "PRECISION_mean: 0.385682980278\n",
      "RECALL_mean: 0.537678207739\n",
      "SPECIFICITY_mean: 0.436704621567\n",
      "percentage: 0.0565353535354\n",
      "repetition: 1\n",
      "fold: 1\n"
     ]
    },
    {
     "name": "stderr",
     "output_type": "stream",
     "text": [
      "/usr/local/lib/python3.4/dist-packages/sklearn/feature_selection/univariate_selection.py:113: UserWarning: Features [    13     71     99 ..., 572712 572713 572714] are constant.\n",
      "  UserWarning)\n"
     ]
    },
    {
     "name": "stdout",
     "output_type": "stream",
     "text": [
      "fold: 2\n",
      "fold: 3\n",
      "repetition: 2\n",
      "fold: 1\n",
      "fold: 2\n"
     ]
    },
    {
     "name": "stderr",
     "output_type": "stream",
     "text": [
      "/usr/local/lib/python3.4/dist-packages/sklearn/feature_selection/univariate_selection.py:113: UserWarning: Features [    13     99    178 ..., 572712 572713 572714] are constant.\n",
      "  UserWarning)\n"
     ]
    },
    {
     "name": "stdout",
     "output_type": "stream",
     "text": [
      "fold: 3\n"
     ]
    },
    {
     "name": "stderr",
     "output_type": "stream",
     "text": [
      "/usr/local/lib/python3.4/dist-packages/sklearn/feature_selection/univariate_selection.py:113: UserWarning: Features [    13     99    149 ..., 572720 572721 572722] are constant.\n",
      "  UserWarning)\n"
     ]
    },
    {
     "name": "stdout",
     "output_type": "stream",
     "text": [
      "repetition: 3\n",
      "fold: 1\n",
      "fold: 2\n",
      "fold: 3\n",
      "repetition: 4\n",
      "fold: 1\n"
     ]
    },
    {
     "name": "stderr",
     "output_type": "stream",
     "text": [
      "/usr/local/lib/python3.4/dist-packages/sklearn/feature_selection/univariate_selection.py:113: UserWarning: Features [    13     80     84 ..., 572731 572732 572735] are constant.\n",
      "  UserWarning)\n"
     ]
    },
    {
     "name": "stdout",
     "output_type": "stream",
     "text": [
      "fold: 2\n",
      "fold: 3\n",
      "repetition: 5\n",
      "fold: 1\n"
     ]
    },
    {
     "name": "stderr",
     "output_type": "stream",
     "text": [
      "/usr/local/lib/python3.4/dist-packages/sklearn/feature_selection/univariate_selection.py:113: UserWarning: Features [    13     99    178 ..., 572685 572686 572704] are constant.\n",
      "  UserWarning)\n"
     ]
    },
    {
     "name": "stdout",
     "output_type": "stream",
     "text": [
      "fold: 2\n",
      "fold: 3\n",
      "repetition: 6\n",
      "fold: 1\n",
      "fold: 2\n",
      "fold: 3\n",
      "repetition: 7\n",
      "fold: 1\n",
      "fold: 2\n"
     ]
    },
    {
     "name": "stderr",
     "output_type": "stream",
     "text": [
      "/usr/local/lib/python3.4/dist-packages/sklearn/feature_selection/univariate_selection.py:113: UserWarning: Features [    13     99    274 ..., 572634 572704 572705] are constant.\n",
      "  UserWarning)\n"
     ]
    },
    {
     "name": "stdout",
     "output_type": "stream",
     "text": [
      "fold: 3\n",
      "repetition: 8\n",
      "fold: 1\n",
      "fold: 2\n",
      "fold: 3\n",
      "repetition: 9\n",
      "fold: 1\n",
      "fold: 2\n"
     ]
    },
    {
     "name": "stderr",
     "output_type": "stream",
     "text": [
      "/usr/local/lib/python3.4/dist-packages/sklearn/feature_selection/univariate_selection.py:113: UserWarning: Features [    13     80     84 ..., 572733 572736 572737] are constant.\n",
      "  UserWarning)\n"
     ]
    },
    {
     "name": "stdout",
     "output_type": "stream",
     "text": [
      "fold: 3\n",
      "repetition: 10\n",
      "fold: 1\n",
      "fold: 2\n",
      "fold: 3\n",
      "repetition: 11\n",
      "fold: 1\n",
      "fold: 2\n",
      "fold: 3\n",
      "repetition: 12\n",
      "fold: 1\n",
      "fold: 2\n",
      "fold: 3\n"
     ]
    },
    {
     "name": "stderr",
     "output_type": "stream",
     "text": [
      "/usr/local/lib/python3.4/dist-packages/sklearn/feature_selection/univariate_selection.py:113: UserWarning: Features [    13     90     99 ..., 572677 572685 572704] are constant.\n",
      "  UserWarning)\n"
     ]
    },
    {
     "name": "stdout",
     "output_type": "stream",
     "text": [
      "repetition: 13\n",
      "fold: 1\n"
     ]
    },
    {
     "name": "stderr",
     "output_type": "stream",
     "text": [
      "/usr/local/lib/python3.4/dist-packages/sklearn/feature_selection/univariate_selection.py:113: UserWarning: Features [     4     13     80 ..., 572735 572736 572737] are constant.\n",
      "  UserWarning)\n"
     ]
    },
    {
     "name": "stdout",
     "output_type": "stream",
     "text": [
      "fold: 2\n"
     ]
    },
    {
     "name": "stderr",
     "output_type": "stream",
     "text": [
      "/usr/local/lib/python3.4/dist-packages/sklearn/feature_selection/univariate_selection.py:113: UserWarning: Features [    13     99    324 ..., 572728 572729 572730] are constant.\n",
      "  UserWarning)\n"
     ]
    },
    {
     "name": "stdout",
     "output_type": "stream",
     "text": [
      "fold: 3\n",
      "repetition: 14\n",
      "fold: 1\n",
      "fold: 2\n"
     ]
    },
    {
     "name": "stderr",
     "output_type": "stream",
     "text": [
      "/usr/local/lib/python3.4/dist-packages/sklearn/feature_selection/univariate_selection.py:113: UserWarning: Features [    13     99    204 ..., 572704 572708 572709] are constant.\n",
      "  UserWarning)\n"
     ]
    },
    {
     "name": "stdout",
     "output_type": "stream",
     "text": [
      "fold: 3\n",
      "repetition: 15\n",
      "fold: 1\n",
      "fold: 2\n",
      "fold: 3\n"
     ]
    },
    {
     "name": "stderr",
     "output_type": "stream",
     "text": [
      "/usr/local/lib/python3.4/dist-packages/sklearn/feature_selection/univariate_selection.py:113: UserWarning: Features [    13     72     90 ..., 572615 572662 572677] are constant.\n",
      "  UserWarning)\n"
     ]
    },
    {
     "name": "stdout",
     "output_type": "stream",
     "text": [
      "repetition: 16\n",
      "fold: 1\n",
      "fold: 2\n",
      "fold: 3\n",
      "repetition: 17\n",
      "fold: 1\n",
      "fold: 2\n",
      "fold: 3\n",
      "repetition: 18\n",
      "fold: 1\n",
      "fold: 2\n",
      "fold: 3\n",
      "repetition: 19\n",
      "fold: 1\n"
     ]
    },
    {
     "name": "stderr",
     "output_type": "stream",
     "text": [
      "/usr/local/lib/python3.4/dist-packages/sklearn/feature_selection/univariate_selection.py:113: UserWarning: Features [    13     72     90 ..., 572735 572736 572737] are constant.\n",
      "  UserWarning)\n"
     ]
    },
    {
     "name": "stdout",
     "output_type": "stream",
     "text": [
      "fold: 2\n"
     ]
    },
    {
     "name": "stderr",
     "output_type": "stream",
     "text": [
      "/usr/local/lib/python3.4/dist-packages/sklearn/feature_selection/univariate_selection.py:113: UserWarning: Features [    13     99    178 ..., 572662 572677 572704] are constant.\n",
      "  UserWarning)\n"
     ]
    },
    {
     "name": "stdout",
     "output_type": "stream",
     "text": [
      "fold: 3\n"
     ]
    },
    {
     "name": "stderr",
     "output_type": "stream",
     "text": [
      "/usr/local/lib/python3.4/dist-packages/sklearn/feature_selection/univariate_selection.py:113: UserWarning: Features [    13     80     85 ..., 572692 572702 572703] are constant.\n",
      "  UserWarning)\n"
     ]
    },
    {
     "name": "stdout",
     "output_type": "stream",
     "text": [
      "repetition: 20\n",
      "fold: 1\n",
      "fold: 2\n",
      "fold: 3\n",
      "repetition: 21\n",
      "fold: 1\n",
      "fold: 2\n",
      "fold: 3\n",
      "repetition: 22\n",
      "fold: 1\n"
     ]
    },
    {
     "name": "stderr",
     "output_type": "stream",
     "text": [
      "/usr/local/lib/python3.4/dist-packages/sklearn/feature_selection/univariate_selection.py:113: UserWarning: Features [    13     99    178 ..., 572604 572605 572684] are constant.\n",
      "  UserWarning)\n"
     ]
    },
    {
     "name": "stdout",
     "output_type": "stream",
     "text": [
      "fold: 2\n",
      "fold: 3\n",
      "repetition: 23\n",
      "fold: 1\n",
      "fold: 2\n",
      "fold: 3\n",
      "repetition: 24\n",
      "fold: 1\n"
     ]
    },
    {
     "name": "stderr",
     "output_type": "stream",
     "text": [
      "/usr/local/lib/python3.4/dist-packages/sklearn/feature_selection/univariate_selection.py:113: UserWarning: Features [    13     72     80 ..., 572735 572736 572737] are constant.\n",
      "  UserWarning)\n"
     ]
    },
    {
     "name": "stdout",
     "output_type": "stream",
     "text": [
      "fold: 2\n",
      "fold: 3\n",
      "repetition: 25\n",
      "fold: 1\n",
      "fold: 2\n",
      "fold: 3\n"
     ]
    },
    {
     "name": "stderr",
     "output_type": "stream",
     "text": [
      "/usr/local/lib/python3.4/dist-packages/sklearn/feature_selection/univariate_selection.py:113: UserWarning: Features [    13     99    178 ..., 572677 572708 572709] are constant.\n",
      "  UserWarning)\n"
     ]
    },
    {
     "name": "stdout",
     "output_type": "stream",
     "text": [
      "repetition: 26\n",
      "fold: 1\n",
      "fold: 2\n"
     ]
    },
    {
     "name": "stderr",
     "output_type": "stream",
     "text": [
      "/usr/local/lib/python3.4/dist-packages/sklearn/feature_selection/univariate_selection.py:113: UserWarning: Features [    13     72     99 ..., 572728 572729 572730] are constant.\n",
      "  UserWarning)\n"
     ]
    },
    {
     "name": "stdout",
     "output_type": "stream",
     "text": [
      "fold: 3\n",
      "repetition: 27\n",
      "fold: 1\n",
      "fold: 2\n",
      "fold: 3\n"
     ]
    },
    {
     "name": "stderr",
     "output_type": "stream",
     "text": [
      "/usr/local/lib/python3.4/dist-packages/sklearn/feature_selection/univariate_selection.py:113: UserWarning: Features [    13     99    274 ..., 572692 572702 572703] are constant.\n",
      "  UserWarning)\n"
     ]
    },
    {
     "name": "stdout",
     "output_type": "stream",
     "text": [
      "repetition: 28\n",
      "fold: 1\n",
      "fold: 2\n",
      "fold: 3\n",
      "repetition: 29\n",
      "fold: 1\n",
      "fold: 2\n",
      "fold: 3\n",
      "repetition: 30\n",
      "fold: 1\n",
      "fold: 2\n"
     ]
    },
    {
     "name": "stderr",
     "output_type": "stream",
     "text": [
      "/usr/local/lib/python3.4/dist-packages/sklearn/feature_selection/univariate_selection.py:113: UserWarning: Features [    13     72     99 ..., 572707 572708 572709] are constant.\n",
      "  UserWarning)\n"
     ]
    },
    {
     "name": "stdout",
     "output_type": "stream",
     "text": [
      "fold: 3\n",
      "repetition: 31\n",
      "fold: 1\n",
      "fold: 2\n",
      "fold: 3\n",
      "repetition: 32\n",
      "fold: 1\n",
      "fold: 2\n",
      "fold: 3\n",
      "repetition: 33\n",
      "fold: 1\n",
      "fold: 2\n",
      "fold: 3\n",
      "F_mean: 0.45704317488\n",
      "AUC_mean: 0.580358995074\n",
      "PRECISION_mean: 0.403076923077\n",
      "RECALL_mean: 0.527693856999\n",
      "SPECIFICITY_mean: 0.476383265857\n",
      "percentage: 0.084303030303\n",
      "repetition: 1\n",
      "fold: 1\n",
      "fold: 2\n",
      "fold: 3\n",
      "repetition: 2\n",
      "fold: 1\n",
      "fold: 2\n",
      "fold: 3\n",
      "repetition: 3\n",
      "fold: 1\n"
     ]
    },
    {
     "name": "stderr",
     "output_type": "stream",
     "text": [
      "/usr/local/lib/python3.4/dist-packages/sklearn/feature_selection/univariate_selection.py:113: UserWarning: Features [    13     99    349 ..., 572728 572729 572730] are constant.\n",
      "  UserWarning)\n"
     ]
    },
    {
     "name": "stdout",
     "output_type": "stream",
     "text": [
      "fold: 2\n",
      "fold: 3\n",
      "repetition: 4\n",
      "fold: 1\n",
      "fold: 2\n",
      "fold: 3\n",
      "repetition: 5\n",
      "fold: 1\n"
     ]
    },
    {
     "name": "stderr",
     "output_type": "stream",
     "text": [
      "/usr/local/lib/python3.4/dist-packages/sklearn/feature_selection/univariate_selection.py:113: UserWarning: Features [    13     99    274 ..., 572720 572721 572722] are constant.\n",
      "  UserWarning)\n"
     ]
    },
    {
     "name": "stdout",
     "output_type": "stream",
     "text": [
      "fold: 2\n",
      "fold: 3\n",
      "repetition: 6\n",
      "fold: 1\n",
      "fold: 2\n",
      "fold: 3\n"
     ]
    },
    {
     "name": "stderr",
     "output_type": "stream",
     "text": [
      "/usr/local/lib/python3.4/dist-packages/sklearn/feature_selection/univariate_selection.py:113: UserWarning: Features [    13     99    204 ..., 572703 572708 572709] are constant.\n",
      "  UserWarning)\n"
     ]
    },
    {
     "name": "stdout",
     "output_type": "stream",
     "text": [
      "repetition: 7\n",
      "fold: 1\n",
      "fold: 2\n",
      "fold: 3\n"
     ]
    },
    {
     "name": "stderr",
     "output_type": "stream",
     "text": [
      "/usr/local/lib/python3.4/dist-packages/sklearn/feature_selection/univariate_selection.py:113: UserWarning: Features [    13     99    273 ..., 572685 572708 572709] are constant.\n",
      "  UserWarning)\n"
     ]
    },
    {
     "name": "stdout",
     "output_type": "stream",
     "text": [
      "repetition: 8\n",
      "fold: 1\n",
      "fold: 2\n",
      "fold: 3\n",
      "repetition: 9\n",
      "fold: 1\n",
      "fold: 2\n",
      "fold: 3\n"
     ]
    },
    {
     "name": "stderr",
     "output_type": "stream",
     "text": [
      "/usr/local/lib/python3.4/dist-packages/sklearn/feature_selection/univariate_selection.py:113: UserWarning: Features [    13     80     85 ..., 572703 572704 572705] are constant.\n",
      "  UserWarning)\n"
     ]
    },
    {
     "name": "stdout",
     "output_type": "stream",
     "text": [
      "repetition: 10\n",
      "fold: 1\n"
     ]
    },
    {
     "name": "stderr",
     "output_type": "stream",
     "text": [
      "/usr/local/lib/python3.4/dist-packages/sklearn/feature_selection/univariate_selection.py:113: UserWarning: Features [    13     80     85 ..., 572615 572662 572677] are constant.\n",
      "  UserWarning)\n"
     ]
    },
    {
     "name": "stdout",
     "output_type": "stream",
     "text": [
      "fold: 2\n",
      "fold: 3\n",
      "repetition: 11\n",
      "fold: 1\n",
      "fold: 2\n",
      "fold: 3\n",
      "repetition: 12\n",
      "fold: 1\n",
      "fold: 2\n",
      "fold: 3\n",
      "repetition: 13\n",
      "fold: 1\n",
      "fold: 2\n",
      "fold: 3\n",
      "repetition: 14\n",
      "fold: 1\n",
      "fold: 2\n",
      "fold: 3\n"
     ]
    },
    {
     "name": "stderr",
     "output_type": "stream",
     "text": [
      "/usr/local/lib/python3.4/dist-packages/sklearn/feature_selection/univariate_selection.py:113: UserWarning: Features [    13     99    274 ..., 572576 572621 572634] are constant.\n",
      "  UserWarning)\n"
     ]
    },
    {
     "name": "stdout",
     "output_type": "stream",
     "text": [
      "repetition: 15\n",
      "fold: 1\n",
      "fold: 2\n",
      "fold: 3\n"
     ]
    },
    {
     "name": "stderr",
     "output_type": "stream",
     "text": [
      "/usr/local/lib/python3.4/dist-packages/sklearn/feature_selection/univariate_selection.py:113: UserWarning: Features [    13     99    264 ..., 572733 572736 572737] are constant.\n",
      "  UserWarning)\n"
     ]
    },
    {
     "name": "stdout",
     "output_type": "stream",
     "text": [
      "repetition: 16\n",
      "fold: 1\n",
      "fold: 2\n",
      "fold: 3\n",
      "repetition: 17\n",
      "fold: 1\n",
      "fold: 2\n",
      "fold: 3\n",
      "repetition: 18\n",
      "fold: 1\n",
      "fold: 2\n",
      "fold: 3\n",
      "repetition: 19\n",
      "fold: 1\n",
      "fold: 2\n"
     ]
    },
    {
     "name": "stderr",
     "output_type": "stream",
     "text": [
      "/usr/local/lib/python3.4/dist-packages/sklearn/feature_selection/univariate_selection.py:113: UserWarning: Features [    13     99    324 ..., 572733 572736 572737] are constant.\n",
      "  UserWarning)\n"
     ]
    },
    {
     "name": "stdout",
     "output_type": "stream",
     "text": [
      "fold: 3\n"
     ]
    },
    {
     "name": "stderr",
     "output_type": "stream",
     "text": [
      "/usr/local/lib/python3.4/dist-packages/sklearn/feature_selection/univariate_selection.py:113: UserWarning: Features [    13     99    149 ..., 572677 572704 572705] are constant.\n",
      "  UserWarning)\n"
     ]
    },
    {
     "name": "stdout",
     "output_type": "stream",
     "text": [
      "repetition: 20\n",
      "fold: 1\n"
     ]
    },
    {
     "name": "stderr",
     "output_type": "stream",
     "text": [
      "/usr/local/lib/python3.4/dist-packages/sklearn/feature_selection/univariate_selection.py:113: UserWarning: Features [    13     99    401 ..., 572733 572736 572737] are constant.\n",
      "  UserWarning)\n"
     ]
    },
    {
     "name": "stdout",
     "output_type": "stream",
     "text": [
      "fold: 2\n",
      "fold: 3\n",
      "repetition: 21\n",
      "fold: 1\n"
     ]
    },
    {
     "name": "stderr",
     "output_type": "stream",
     "text": [
      "/usr/local/lib/python3.4/dist-packages/sklearn/feature_selection/univariate_selection.py:113: UserWarning: Features [    13     72     90 ..., 572731 572732 572735] are constant.\n",
      "  UserWarning)\n"
     ]
    },
    {
     "name": "stdout",
     "output_type": "stream",
     "text": [
      "fold: 2\n",
      "fold: 3\n",
      "repetition: 22\n",
      "fold: 1\n",
      "fold: 2\n",
      "fold: 3\n",
      "repetition: 23\n",
      "fold: 1\n",
      "fold: 2\n"
     ]
    },
    {
     "name": "stderr",
     "output_type": "stream",
     "text": [
      "/usr/local/lib/python3.4/dist-packages/sklearn/feature_selection/univariate_selection.py:113: UserWarning: Features [    13     72     99 ..., 572733 572736 572737] are constant.\n",
      "  UserWarning)\n"
     ]
    },
    {
     "name": "stdout",
     "output_type": "stream",
     "text": [
      "fold: 3\n",
      "repetition: 24\n",
      "fold: 1\n"
     ]
    },
    {
     "name": "stderr",
     "output_type": "stream",
     "text": [
      "/usr/local/lib/python3.4/dist-packages/sklearn/feature_selection/univariate_selection.py:113: UserWarning: Features [    13     99    149 ..., 572702 572703 572704] are constant.\n",
      "  UserWarning)\n"
     ]
    },
    {
     "name": "stdout",
     "output_type": "stream",
     "text": [
      "fold: 2\n",
      "fold: 3\n",
      "repetition: 25\n",
      "fold: 1\n",
      "fold: 2\n",
      "fold: 3\n",
      "repetition: 26\n",
      "fold: 1\n",
      "fold: 2\n",
      "fold: 3\n",
      "repetition: 27\n",
      "fold: 1\n"
     ]
    },
    {
     "name": "stderr",
     "output_type": "stream",
     "text": [
      "/usr/local/lib/python3.4/dist-packages/sklearn/feature_selection/univariate_selection.py:113: UserWarning: Features [    13     80     85 ..., 572677 572684 572704] are constant.\n",
      "  UserWarning)\n"
     ]
    },
    {
     "name": "stdout",
     "output_type": "stream",
     "text": [
      "fold: 2\n",
      "fold: 3\n",
      "repetition: 28\n",
      "fold: 1\n",
      "fold: 2\n"
     ]
    },
    {
     "name": "stderr",
     "output_type": "stream",
     "text": [
      "/usr/local/lib/python3.4/dist-packages/sklearn/feature_selection/univariate_selection.py:113: UserWarning: Features [    13     99    149 ..., 572605 572621 572634] are constant.\n",
      "  UserWarning)\n"
     ]
    },
    {
     "name": "stdout",
     "output_type": "stream",
     "text": [
      "fold: 3\n",
      "repetition: 29\n",
      "fold: 1\n",
      "fold: 2\n",
      "fold: 3\n",
      "repetition: 30\n",
      "fold: 1\n",
      "fold: 2\n"
     ]
    },
    {
     "name": "stderr",
     "output_type": "stream",
     "text": [
      "/usr/local/lib/python3.4/dist-packages/sklearn/feature_selection/univariate_selection.py:113: UserWarning: Features [    13     72     80 ..., 572720 572721 572722] are constant.\n",
      "  UserWarning)\n"
     ]
    },
    {
     "name": "stdout",
     "output_type": "stream",
     "text": [
      "fold: 3\n",
      "repetition: 31\n",
      "fold: 1\n",
      "fold: 2\n",
      "fold: 3\n"
     ]
    },
    {
     "name": "stderr",
     "output_type": "stream",
     "text": [
      "/usr/local/lib/python3.4/dist-packages/sklearn/feature_selection/univariate_selection.py:113: UserWarning: Features [    13     72     90 ..., 572728 572729 572730] are constant.\n",
      "  UserWarning)\n"
     ]
    },
    {
     "name": "stdout",
     "output_type": "stream",
     "text": [
      "repetition: 32\n",
      "fold: 1\n",
      "fold: 2\n",
      "fold: 3\n",
      "repetition: 33\n",
      "fold: 1\n"
     ]
    },
    {
     "name": "stderr",
     "output_type": "stream",
     "text": [
      "/usr/local/lib/python3.4/dist-packages/sklearn/feature_selection/univariate_selection.py:113: UserWarning: Features [    13     80     85 ..., 572621 572634 572704] are constant.\n",
      "  UserWarning)\n"
     ]
    },
    {
     "name": "stdout",
     "output_type": "stream",
     "text": [
      "fold: 2\n",
      "fold: 3\n",
      "F_mean: 0.445582586428\n",
      "AUC_mean: 0.593553290096\n",
      "PRECISION_mean: 0.389261744966\n",
      "RECALL_mean: 0.520958083832\n",
      "SPECIFICITY_mean: 0.44399185336\n",
      "percentage: 0.112070707071\n",
      "repetition: 1\n",
      "fold: 1\n",
      "fold: 2\n",
      "fold: 3\n"
     ]
    },
    {
     "name": "stderr",
     "output_type": "stream",
     "text": [
      "/usr/local/lib/python3.4/dist-packages/sklearn/feature_selection/univariate_selection.py:113: UserWarning: Features [    13     99    204 ..., 572712 572713 572714] are constant.\n",
      "  UserWarning)\n"
     ]
    },
    {
     "name": "stdout",
     "output_type": "stream",
     "text": [
      "repetition: 2\n",
      "fold: 1\n",
      "fold: 2\n",
      "fold: 3\n",
      "repetition: 3\n",
      "fold: 1\n",
      "fold: 2\n",
      "fold: 3\n",
      "repetition: 4\n",
      "fold: 1\n",
      "fold: 2\n",
      "fold: 3\n",
      "repetition: 5\n",
      "fold: 1\n",
      "fold: 2\n",
      "fold: 3\n",
      "repetition: 6\n",
      "fold: 1\n",
      "fold: 2\n",
      "fold: 3\n",
      "repetition: 7\n",
      "fold: 1\n"
     ]
    },
    {
     "name": "stderr",
     "output_type": "stream",
     "text": [
      "/usr/local/lib/python3.4/dist-packages/sklearn/feature_selection/univariate_selection.py:113: UserWarning: Features [    13     80     85 ..., 572595 572596 572685] are constant.\n",
      "  UserWarning)\n"
     ]
    },
    {
     "name": "stdout",
     "output_type": "stream",
     "text": [
      "fold: 2\n",
      "fold: 3\n",
      "repetition: 8\n",
      "fold: 1\n",
      "fold: 2\n"
     ]
    },
    {
     "name": "stderr",
     "output_type": "stream",
     "text": [
      "/usr/local/lib/python3.4/dist-packages/sklearn/feature_selection/univariate_selection.py:113: UserWarning: Features [    13     99    290 ..., 572720 572721 572722] are constant.\n",
      "  UserWarning)\n"
     ]
    },
    {
     "name": "stdout",
     "output_type": "stream",
     "text": [
      "fold: 3\n",
      "repetition: 9\n",
      "fold: 1\n",
      "fold: 2\n",
      "fold: 3\n"
     ]
    },
    {
     "name": "stderr",
     "output_type": "stream",
     "text": [
      "/usr/local/lib/python3.4/dist-packages/sklearn/feature_selection/univariate_selection.py:113: UserWarning: Features [     4     13     72 ..., 572733 572736 572737] are constant.\n",
      "  UserWarning)\n"
     ]
    },
    {
     "name": "stdout",
     "output_type": "stream",
     "text": [
      "repetition: 10\n",
      "fold: 1\n",
      "fold: 2\n",
      "fold: 3\n",
      "repetition: 11\n",
      "fold: 1\n",
      "fold: 2\n",
      "fold: 3\n",
      "repetition: 12\n",
      "fold: 1\n",
      "fold: 2\n",
      "fold: 3\n"
     ]
    },
    {
     "name": "stderr",
     "output_type": "stream",
     "text": [
      "/usr/local/lib/python3.4/dist-packages/sklearn/feature_selection/univariate_selection.py:113: UserWarning: Features [    13     99    282 ..., 572728 572729 572730] are constant.\n",
      "  UserWarning)\n"
     ]
    },
    {
     "name": "stdout",
     "output_type": "stream",
     "text": [
      "repetition: 13\n",
      "fold: 1\n"
     ]
    },
    {
     "name": "stderr",
     "output_type": "stream",
     "text": [
      "/usr/local/lib/python3.4/dist-packages/sklearn/feature_selection/univariate_selection.py:113: UserWarning: Features [    13     80     85 ..., 572707 572708 572709] are constant.\n",
      "  UserWarning)\n"
     ]
    },
    {
     "name": "stdout",
     "output_type": "stream",
     "text": [
      "fold: 2\n",
      "fold: 3\n",
      "repetition: 14\n",
      "fold: 1\n",
      "fold: 2\n",
      "fold: 3\n",
      "repetition: 15\n",
      "fold: 1\n",
      "fold: 2\n",
      "fold: 3\n",
      "repetition: 16\n",
      "fold: 1\n",
      "fold: 2\n",
      "fold: 3\n"
     ]
    },
    {
     "name": "stderr",
     "output_type": "stream",
     "text": [
      "/usr/local/lib/python3.4/dist-packages/sklearn/feature_selection/univariate_selection.py:113: UserWarning: Features [    13     80     85 ..., 572662 572677 572685] are constant.\n",
      "  UserWarning)\n"
     ]
    },
    {
     "name": "stdout",
     "output_type": "stream",
     "text": [
      "repetition: 17\n",
      "fold: 1\n",
      "fold: 2\n",
      "fold: 3\n",
      "repetition: 18\n",
      "fold: 1\n"
     ]
    },
    {
     "name": "stderr",
     "output_type": "stream",
     "text": [
      "/usr/local/lib/python3.4/dist-packages/sklearn/feature_selection/univariate_selection.py:113: UserWarning: Features [    13     80     85 ..., 572544 572554 572685] are constant.\n",
      "  UserWarning)\n"
     ]
    },
    {
     "name": "stdout",
     "output_type": "stream",
     "text": [
      "fold: 2\n",
      "fold: 3\n",
      "repetition: 19\n",
      "fold: 1\n",
      "fold: 2\n",
      "fold: 3\n",
      "repetition: 20\n",
      "fold: 1\n",
      "fold: 2\n",
      "fold: 3\n",
      "repetition: 21\n",
      "fold: 1\n",
      "fold: 2\n",
      "fold: 3\n",
      "repetition: 22\n",
      "fold: 1\n",
      "fold: 2\n"
     ]
    },
    {
     "name": "stderr",
     "output_type": "stream",
     "text": [
      "/usr/local/lib/python3.4/dist-packages/sklearn/feature_selection/univariate_selection.py:113: UserWarning: Features [     4     13     90 ..., 572728 572729 572730] are constant.\n",
      "  UserWarning)\n"
     ]
    },
    {
     "name": "stdout",
     "output_type": "stream",
     "text": [
      "fold: 3\n",
      "repetition: 23\n",
      "fold: 1\n",
      "fold: 2\n",
      "fold: 3\n",
      "repetition: 24\n",
      "fold: 1\n",
      "fold: 2\n",
      "fold: 3\n",
      "repetition: 25\n",
      "fold: 1\n"
     ]
    },
    {
     "name": "stderr",
     "output_type": "stream",
     "text": [
      "/usr/local/lib/python3.4/dist-packages/sklearn/feature_selection/univariate_selection.py:113: UserWarning: Features [    13     80     85 ..., 572677 572685 572704] are constant.\n",
      "  UserWarning)\n"
     ]
    },
    {
     "name": "stdout",
     "output_type": "stream",
     "text": [
      "fold: 2\n",
      "fold: 3\n",
      "repetition: 26\n",
      "fold: 1\n",
      "fold: 2\n",
      "fold: 3\n",
      "repetition: 27\n",
      "fold: 1\n",
      "fold: 2\n",
      "fold: 3\n",
      "repetition: 28\n",
      "fold: 1\n",
      "fold: 2\n",
      "fold: 3\n",
      "repetition: 29\n",
      "fold: 1\n",
      "fold: 2\n",
      "fold: 3\n",
      "repetition: 30\n",
      "fold: 1\n",
      "fold: 2\n",
      "fold: 3\n",
      "repetition: 31\n",
      "fold: 1\n",
      "fold: 2\n",
      "fold: 3\n",
      "repetition: 32\n",
      "fold: 1\n",
      "fold: 2\n"
     ]
    },
    {
     "name": "stderr",
     "output_type": "stream",
     "text": [
      "/usr/local/lib/python3.4/dist-packages/sklearn/feature_selection/univariate_selection.py:113: UserWarning: Features [    13     99    149 ..., 572707 572708 572709] are constant.\n",
      "  UserWarning)\n"
     ]
    },
    {
     "name": "stdout",
     "output_type": "stream",
     "text": [
      "fold: 3\n",
      "repetition: 33\n",
      "fold: 1\n",
      "fold: 2\n",
      "fold: 3\n",
      "F_mean: 0.451048951049\n",
      "AUC_mean: 0.57648585324\n",
      "PRECISION_mean: 0.401556420233\n",
      "RECALL_mean: 0.51445663011\n",
      "SPECIFICITY_mean: 0.477581521739\n",
      "percentage: 0.139838383838\n",
      "repetition: 1\n",
      "fold: 1\n",
      "fold: 2\n",
      "fold: 3\n",
      "repetition: 2\n",
      "fold: 1\n",
      "fold: 2\n",
      "fold: 3\n",
      "repetition: 3\n",
      "fold: 1\n",
      "fold: 2\n",
      "fold: 3\n",
      "repetition: 4\n",
      "fold: 1\n",
      "fold: 2\n",
      "fold: 3\n"
     ]
    },
    {
     "name": "stderr",
     "output_type": "stream",
     "text": [
      "/usr/local/lib/python3.4/dist-packages/sklearn/feature_selection/univariate_selection.py:113: UserWarning: Features [    13     90     99 ..., 572684 572685 572704] are constant.\n",
      "  UserWarning)\n"
     ]
    },
    {
     "name": "stdout",
     "output_type": "stream",
     "text": [
      "repetition: 5\n",
      "fold: 1\n",
      "fold: 2\n",
      "fold: 3\n"
     ]
    },
    {
     "name": "stderr",
     "output_type": "stream",
     "text": [
      "/usr/local/lib/python3.4/dist-packages/sklearn/feature_selection/univariate_selection.py:113: UserWarning: Features [     4     13     90 ..., 572712 572713 572714] are constant.\n",
      "  UserWarning)\n"
     ]
    },
    {
     "name": "stdout",
     "output_type": "stream",
     "text": [
      "repetition: 6\n",
      "fold: 1\n",
      "fold: 2\n",
      "fold: 3\n",
      "repetition: 7\n",
      "fold: 1\n"
     ]
    },
    {
     "name": "stderr",
     "output_type": "stream",
     "text": [
      "/usr/local/lib/python3.4/dist-packages/sklearn/feature_selection/univariate_selection.py:113: UserWarning: Features [    13     99    178 ..., 572704 572708 572709] are constant.\n",
      "  UserWarning)\n"
     ]
    },
    {
     "name": "stdout",
     "output_type": "stream",
     "text": [
      "fold: 2\n",
      "fold: 3\n"
     ]
    },
    {
     "name": "stderr",
     "output_type": "stream",
     "text": [
      "/usr/local/lib/python3.4/dist-packages/sklearn/feature_selection/univariate_selection.py:113: UserWarning: Features [    13     90     99 ..., 572670 572685 572686] are constant.\n",
      "  UserWarning)\n"
     ]
    },
    {
     "name": "stdout",
     "output_type": "stream",
     "text": [
      "repetition: 8\n",
      "fold: 1\n",
      "fold: 2\n",
      "fold: 3\n"
     ]
    },
    {
     "name": "stderr",
     "output_type": "stream",
     "text": [
      "/usr/local/lib/python3.4/dist-packages/sklearn/feature_selection/univariate_selection.py:113: UserWarning: Features [    13     99    149 ..., 572703 572708 572709] are constant.\n",
      "  UserWarning)\n"
     ]
    },
    {
     "name": "stdout",
     "output_type": "stream",
     "text": [
      "repetition: 9\n",
      "fold: 1\n",
      "fold: 2\n",
      "fold: 3\n",
      "repetition: 10\n",
      "fold: 1\n",
      "fold: 2\n",
      "fold: 3\n",
      "repetition: 11\n",
      "fold: 1\n",
      "fold: 2\n",
      "fold: 3\n"
     ]
    },
    {
     "name": "stderr",
     "output_type": "stream",
     "text": [
      "/usr/local/lib/python3.4/dist-packages/sklearn/feature_selection/univariate_selection.py:113: UserWarning: Features [    13     99    149 ..., 572692 572702 572703] are constant.\n",
      "  UserWarning)\n"
     ]
    },
    {
     "name": "stdout",
     "output_type": "stream",
     "text": [
      "repetition: 12\n",
      "fold: 1\n"
     ]
    },
    {
     "name": "stderr",
     "output_type": "stream",
     "text": [
      "/usr/local/lib/python3.4/dist-packages/sklearn/feature_selection/univariate_selection.py:113: UserWarning: Features [    13     99    423 ..., 572733 572736 572737] are constant.\n",
      "  UserWarning)\n"
     ]
    },
    {
     "name": "stdout",
     "output_type": "stream",
     "text": [
      "fold: 2\n",
      "fold: 3\n",
      "repetition: 13\n",
      "fold: 1\n",
      "fold: 2\n",
      "fold: 3\n",
      "repetition: 14\n",
      "fold: 1\n",
      "fold: 2\n",
      "fold: 3\n",
      "repetition: 15\n",
      "fold: 1\n",
      "fold: 2\n",
      "fold: 3\n",
      "repetition: 16\n",
      "fold: 1\n"
     ]
    },
    {
     "name": "stderr",
     "output_type": "stream",
     "text": [
      "/usr/local/lib/python3.4/dist-packages/sklearn/feature_selection/univariate_selection.py:113: UserWarning: Features [    13     80     85 ..., 572596 572621 572634] are constant.\n",
      "  UserWarning)\n"
     ]
    },
    {
     "name": "stdout",
     "output_type": "stream",
     "text": [
      "fold: 2\n",
      "fold: 3\n",
      "repetition: 17\n",
      "fold: 1\n"
     ]
    },
    {
     "name": "stderr",
     "output_type": "stream",
     "text": [
      "/usr/local/lib/python3.4/dist-packages/sklearn/feature_selection/univariate_selection.py:113: UserWarning: Features [    13     72     99 ..., 572712 572713 572714] are constant.\n",
      "  UserWarning)\n"
     ]
    },
    {
     "name": "stdout",
     "output_type": "stream",
     "text": [
      "fold: 2\n",
      "fold: 3\n",
      "repetition: 18\n",
      "fold: 1\n"
     ]
    },
    {
     "name": "stderr",
     "output_type": "stream",
     "text": [
      "/usr/local/lib/python3.4/dist-packages/sklearn/feature_selection/univariate_selection.py:113: UserWarning: Features [    13     80     83 ..., 572731 572732 572735] are constant.\n",
      "  UserWarning)\n"
     ]
    },
    {
     "name": "stdout",
     "output_type": "stream",
     "text": [
      "fold: 2\n"
     ]
    },
    {
     "name": "stderr",
     "output_type": "stream",
     "text": [
      "/usr/local/lib/python3.4/dist-packages/sklearn/feature_selection/univariate_selection.py:113: UserWarning: Features [    13     99    178 ..., 572702 572703 572704] are constant.\n",
      "  UserWarning)\n"
     ]
    },
    {
     "name": "stdout",
     "output_type": "stream",
     "text": [
      "fold: 3\n",
      "repetition: 19\n",
      "fold: 1\n",
      "fold: 2\n",
      "fold: 3\n",
      "repetition: 20\n",
      "fold: 1\n",
      "fold: 2\n",
      "fold: 3\n",
      "repetition: 21\n",
      "fold: 1\n",
      "fold: 2\n",
      "fold: 3\n"
     ]
    },
    {
     "name": "stderr",
     "output_type": "stream",
     "text": [
      "/usr/local/lib/python3.4/dist-packages/sklearn/feature_selection/univariate_selection.py:113: UserWarning: Features [     4     13     90 ..., 572615 572662 572677] are constant.\n",
      "  UserWarning)\n"
     ]
    },
    {
     "name": "stdout",
     "output_type": "stream",
     "text": [
      "repetition: 22\n",
      "fold: 1\n",
      "fold: 2\n",
      "fold: 3\n"
     ]
    },
    {
     "name": "stderr",
     "output_type": "stream",
     "text": [
      "/usr/local/lib/python3.4/dist-packages/sklearn/feature_selection/univariate_selection.py:113: UserWarning: Features [    13     99    274 ..., 572684 572708 572709] are constant.\n",
      "  UserWarning)\n"
     ]
    },
    {
     "name": "stdout",
     "output_type": "stream",
     "text": [
      "repetition: 23\n",
      "fold: 1\n",
      "fold: 2\n"
     ]
    },
    {
     "name": "stderr",
     "output_type": "stream",
     "text": [
      "/usr/local/lib/python3.4/dist-packages/sklearn/feature_selection/univariate_selection.py:113: UserWarning: Features [    13     99    288 ..., 572733 572736 572737] are constant.\n",
      "  UserWarning)\n"
     ]
    },
    {
     "name": "stdout",
     "output_type": "stream",
     "text": [
      "fold: 3\n",
      "repetition: 24\n",
      "fold: 1\n",
      "fold: 2\n",
      "fold: 3\n",
      "repetition: 25\n",
      "fold: 1\n",
      "fold: 2\n",
      "fold: 3\n",
      "repetition: 26\n",
      "fold: 1\n",
      "fold: 2\n",
      "fold: 3\n",
      "repetition: 27\n",
      "fold: 1\n",
      "fold: 2\n",
      "fold: 3\n",
      "repetition: 28\n",
      "fold: 1\n",
      "fold: 2\n",
      "fold: 3\n",
      "repetition: 29\n",
      "fold: 1\n",
      "fold: 2\n",
      "fold: 3\n",
      "repetition: 30\n",
      "fold: 1\n",
      "fold: 2\n",
      "fold: 3\n",
      "repetition: 31\n",
      "fold: 1\n",
      "fold: 2\n",
      "fold: 3\n",
      "repetition: 32\n",
      "fold: 1\n",
      "fold: 2\n",
      "fold: 3\n",
      "repetition: 33\n",
      "fold: 1\n",
      "fold: 2\n"
     ]
    },
    {
     "name": "stderr",
     "output_type": "stream",
     "text": [
      "/usr/local/lib/python3.4/dist-packages/sklearn/feature_selection/univariate_selection.py:113: UserWarning: Features [     4     13     90 ..., 572677 572684 572685] are constant.\n",
      "  UserWarning)\n"
     ]
    },
    {
     "name": "stdout",
     "output_type": "stream",
     "text": [
      "fold: 3\n",
      "F_mean: 0.474003466205\n",
      "AUC_mean: 0.587608477057\n",
      "PRECISION_mean: 0.419478527607\n",
      "RECALL_mean: 0.544820717131\n",
      "SPECIFICITY_mean: 0.485384092454\n",
      "percentage: 0.167606060606\n",
      "repetition: 1\n",
      "fold: 1\n",
      "fold: 2\n",
      "fold: 3\n",
      "repetition: 2\n",
      "fold: 1\n",
      "fold: 2\n",
      "fold: 3\n",
      "repetition: 3\n",
      "fold: 1\n"
     ]
    },
    {
     "name": "stderr",
     "output_type": "stream",
     "text": [
      "/usr/local/lib/python3.4/dist-packages/sklearn/feature_selection/univariate_selection.py:113: UserWarning: Features [    13     80     85 ..., 572553 572554 572576] are constant.\n",
      "  UserWarning)\n"
     ]
    },
    {
     "name": "stdout",
     "output_type": "stream",
     "text": [
      "fold: 2\n",
      "fold: 3\n",
      "repetition: 4\n",
      "fold: 1\n",
      "fold: 2\n"
     ]
    },
    {
     "name": "stderr",
     "output_type": "stream",
     "text": [
      "/usr/local/lib/python3.4/dist-packages/sklearn/feature_selection/univariate_selection.py:113: UserWarning: Features [    13     72     99 ..., 572703 572708 572709] are constant.\n",
      "  UserWarning)\n"
     ]
    },
    {
     "name": "stdout",
     "output_type": "stream",
     "text": [
      "fold: 3\n",
      "repetition: 5\n",
      "fold: 1\n",
      "fold: 2\n",
      "fold: 3\n",
      "repetition: 6\n",
      "fold: 1\n",
      "fold: 2\n",
      "fold: 3\n",
      "repetition: 7\n",
      "fold: 1\n",
      "fold: 2\n",
      "fold: 3\n",
      "repetition: 8\n",
      "fold: 1\n",
      "fold: 2\n",
      "fold: 3\n",
      "repetition: 9\n",
      "fold: 1\n",
      "fold: 2\n"
     ]
    },
    {
     "name": "stderr",
     "output_type": "stream",
     "text": [
      "/usr/local/lib/python3.4/dist-packages/sklearn/feature_selection/univariate_selection.py:113: UserWarning: Features [    13     72     80 ..., 572707 572708 572709] are constant.\n",
      "  UserWarning)\n"
     ]
    },
    {
     "name": "stdout",
     "output_type": "stream",
     "text": [
      "fold: 3\n",
      "repetition: 10\n",
      "fold: 1\n",
      "fold: 2\n",
      "fold: 3\n",
      "repetition: 11\n",
      "fold: 1\n",
      "fold: 2\n",
      "fold: 3\n",
      "repetition: 12\n",
      "fold: 1\n",
      "fold: 2\n",
      "fold: 3\n",
      "repetition: 13\n",
      "fold: 1\n",
      "fold: 2\n",
      "fold: 3\n",
      "repetition: 14\n",
      "fold: 1\n",
      "fold: 2\n",
      "fold: 3\n"
     ]
    },
    {
     "name": "stderr",
     "output_type": "stream",
     "text": [
      "/usr/local/lib/python3.4/dist-packages/sklearn/feature_selection/univariate_selection.py:113: UserWarning: Features [    13     90     99 ..., 572595 572596 572704] are constant.\n",
      "  UserWarning)\n"
     ]
    },
    {
     "name": "stdout",
     "output_type": "stream",
     "text": [
      "repetition: 15\n",
      "fold: 1\n",
      "fold: 2\n",
      "fold: 3\n",
      "repetition: 16\n",
      "fold: 1\n",
      "fold: 2\n",
      "fold: 3\n"
     ]
    },
    {
     "name": "stderr",
     "output_type": "stream",
     "text": [
      "/usr/local/lib/python3.4/dist-packages/sklearn/feature_selection/univariate_selection.py:113: UserWarning: Features [    13     99    288 ..., 572720 572721 572722] are constant.\n",
      "  UserWarning)\n"
     ]
    },
    {
     "name": "stdout",
     "output_type": "stream",
     "text": [
      "repetition: 17\n",
      "fold: 1\n",
      "fold: 2\n",
      "fold: 3\n",
      "repetition: 18\n",
      "fold: 1\n",
      "fold: 2\n",
      "fold: 3\n",
      "repetition: 19\n",
      "fold: 1\n",
      "fold: 2\n",
      "fold: 3\n",
      "repetition: 20\n",
      "fold: 1\n",
      "fold: 2\n",
      "fold: 3\n",
      "repetition: 21\n",
      "fold: 1\n",
      "fold: 2\n",
      "fold: 3\n",
      "repetition: 22\n",
      "fold: 1\n",
      "fold: 2\n"
     ]
    },
    {
     "name": "stderr",
     "output_type": "stream",
     "text": [
      "/usr/local/lib/python3.4/dist-packages/sklearn/feature_selection/univariate_selection.py:113: UserWarning: Features [    13     99    149 ..., 572634 572670 572685] are constant.\n",
      "  UserWarning)\n"
     ]
    },
    {
     "name": "stdout",
     "output_type": "stream",
     "text": [
      "fold: 3\n",
      "repetition: 23\n",
      "fold: 1\n",
      "fold: 2\n",
      "fold: 3\n",
      "repetition: 24\n",
      "fold: 1\n"
     ]
    },
    {
     "name": "stderr",
     "output_type": "stream",
     "text": [
      "/usr/local/lib/python3.4/dist-packages/sklearn/feature_selection/univariate_selection.py:113: UserWarning: Features [    13     90     99 ..., 572703 572704 572705] are constant.\n",
      "  UserWarning)\n"
     ]
    },
    {
     "name": "stdout",
     "output_type": "stream",
     "text": [
      "fold: 2\n",
      "fold: 3\n",
      "repetition: 25\n",
      "fold: 1\n",
      "fold: 2\n"
     ]
    },
    {
     "name": "stderr",
     "output_type": "stream",
     "text": [
      "/usr/local/lib/python3.4/dist-packages/sklearn/feature_selection/univariate_selection.py:113: UserWarning: Features [     4     13     80 ..., 572554 572621 572634] are constant.\n",
      "  UserWarning)\n"
     ]
    },
    {
     "name": "stdout",
     "output_type": "stream",
     "text": [
      "fold: 3\n",
      "repetition: 26\n",
      "fold: 1\n",
      "fold: 2\n"
     ]
    },
    {
     "name": "stderr",
     "output_type": "stream",
     "text": [
      "/usr/local/lib/python3.4/dist-packages/sklearn/feature_selection/univariate_selection.py:113: UserWarning: Features [     5     13     80 ..., 572712 572713 572714] are constant.\n",
      "  UserWarning)\n"
     ]
    },
    {
     "name": "stdout",
     "output_type": "stream",
     "text": [
      "fold: 3\n",
      "repetition: 27\n",
      "fold: 1\n",
      "fold: 2\n",
      "fold: 3\n",
      "repetition: 28\n",
      "fold: 1\n",
      "fold: 2\n",
      "fold: 3\n",
      "repetition: 29\n",
      "fold: 1\n"
     ]
    },
    {
     "name": "stderr",
     "output_type": "stream",
     "text": [
      "/usr/local/lib/python3.4/dist-packages/sklearn/feature_selection/univariate_selection.py:113: UserWarning: Features [    13     72     80 ..., 572731 572732 572735] are constant.\n",
      "  UserWarning)\n"
     ]
    },
    {
     "name": "stdout",
     "output_type": "stream",
     "text": [
      "fold: 2\n",
      "fold: 3\n",
      "repetition: 30\n",
      "fold: 1\n",
      "fold: 2\n",
      "fold: 3\n",
      "repetition: 31\n",
      "fold: 1\n",
      "fold: 2\n",
      "fold: 3\n",
      "repetition: 32\n",
      "fold: 1\n",
      "fold: 2\n",
      "fold: 3\n",
      "repetition: 33\n",
      "fold: 1\n",
      "fold: 2\n",
      "fold: 3\n",
      "F_mean: 0.432550043516\n",
      "AUC_mean: 0.567335917124\n",
      "PRECISION_mean: 0.379679144385\n",
      "RECALL_mean: 0.502527805865\n",
      "SPECIFICITY_mean: 0.453566621803\n",
      "percentage: 0.195373737374\n",
      "repetition: 1\n",
      "fold: 1\n",
      "fold: 2\n",
      "fold: 3\n",
      "repetition: 2\n",
      "fold: 1\n",
      "fold: 2\n",
      "fold: 3\n",
      "repetition: 3\n",
      "fold: 1\n",
      "fold: 2\n",
      "fold: 3\n",
      "repetition: 4\n",
      "fold: 1\n",
      "fold: 2\n",
      "fold: 3\n"
     ]
    },
    {
     "name": "stderr",
     "output_type": "stream",
     "text": [
      "/usr/local/lib/python3.4/dist-packages/sklearn/feature_selection/univariate_selection.py:113: UserWarning: Features [    13     72     99 ..., 572704 572708 572709] are constant.\n",
      "  UserWarning)\n"
     ]
    },
    {
     "name": "stdout",
     "output_type": "stream",
     "text": [
      "repetition: 5\n",
      "fold: 1\n",
      "fold: 2\n",
      "fold: 3\n",
      "repetition: 6\n",
      "fold: 1\n",
      "fold: 2\n",
      "fold: 3\n",
      "repetition: 7\n",
      "fold: 1\n",
      "fold: 2\n",
      "fold: 3\n",
      "repetition: 8\n",
      "fold: 1\n",
      "fold: 2\n",
      "fold: 3\n",
      "repetition: 9\n",
      "fold: 1\n",
      "fold: 2\n",
      "fold: 3\n",
      "repetition: 10\n",
      "fold: 1\n",
      "fold: 2\n",
      "fold: 3\n",
      "repetition: 11\n",
      "fold: 1\n",
      "fold: 2\n",
      "fold: 3\n",
      "repetition: 12\n",
      "fold: 1\n",
      "fold: 2\n",
      "fold: 3\n",
      "repetition: 13\n",
      "fold: 1\n",
      "fold: 2\n",
      "fold: 3\n",
      "repetition: 14\n",
      "fold: 1\n"
     ]
    },
    {
     "name": "stderr",
     "output_type": "stream",
     "text": [
      "/usr/local/lib/python3.4/dist-packages/sklearn/feature_selection/univariate_selection.py:113: UserWarning: Features [    13     80     84 ..., 572720 572721 572722] are constant.\n",
      "  UserWarning)\n"
     ]
    },
    {
     "name": "stdout",
     "output_type": "stream",
     "text": [
      "fold: 2\n",
      "fold: 3\n",
      "repetition: 15\n",
      "fold: 1\n",
      "fold: 2\n",
      "fold: 3\n",
      "repetition: 16\n",
      "fold: 1\n",
      "fold: 2\n",
      "fold: 3\n",
      "repetition: 17\n",
      "fold: 1\n",
      "fold: 2\n",
      "fold: 3\n",
      "repetition: 18\n",
      "fold: 1\n",
      "fold: 2\n",
      "fold: 3\n",
      "repetition: 19\n",
      "fold: 1\n",
      "fold: 2\n",
      "fold: 3\n",
      "repetition: 20\n",
      "fold: 1\n",
      "fold: 2\n",
      "fold: 3\n"
     ]
    },
    {
     "name": "stderr",
     "output_type": "stream",
     "text": [
      "/usr/local/lib/python3.4/dist-packages/sklearn/feature_selection/univariate_selection.py:113: UserWarning: Features [    13     99    178 ..., 572596 572708 572709] are constant.\n",
      "  UserWarning)\n"
     ]
    },
    {
     "name": "stdout",
     "output_type": "stream",
     "text": [
      "repetition: 21\n",
      "fold: 1\n",
      "fold: 2\n",
      "fold: 3\n",
      "repetition: 22\n",
      "fold: 1\n",
      "fold: 2\n",
      "fold: 3\n",
      "repetition: 23\n",
      "fold: 1\n"
     ]
    },
    {
     "name": "stderr",
     "output_type": "stream",
     "text": [
      "/usr/local/lib/python3.4/dist-packages/sklearn/feature_selection/univariate_selection.py:113: UserWarning: Features [    13     99    204 ..., 572692 572702 572703] are constant.\n",
      "  UserWarning)\n"
     ]
    },
    {
     "name": "stdout",
     "output_type": "stream",
     "text": [
      "fold: 2\n"
     ]
    },
    {
     "name": "stderr",
     "output_type": "stream",
     "text": [
      "/usr/local/lib/python3.4/dist-packages/sklearn/feature_selection/univariate_selection.py:113: UserWarning: Features [    13     80     85 ..., 572634 572670 572685] are constant.\n",
      "  UserWarning)\n"
     ]
    },
    {
     "name": "stdout",
     "output_type": "stream",
     "text": [
      "fold: 3\n",
      "repetition: 24\n",
      "fold: 1\n",
      "fold: 2\n",
      "fold: 3\n",
      "repetition: 25\n",
      "fold: 1\n",
      "fold: 2\n",
      "fold: 3\n",
      "repetition: 26\n",
      "fold: 1\n",
      "fold: 2\n",
      "fold: 3\n",
      "repetition: 27\n",
      "fold: 1\n",
      "fold: 2\n",
      "fold: 3\n",
      "repetition: 28\n",
      "fold: 1\n",
      "fold: 2\n",
      "fold: 3\n",
      "repetition: 29\n",
      "fold: 1\n",
      "fold: 2\n",
      "fold: 3\n",
      "repetition: 30\n",
      "fold: 1\n",
      "fold: 2\n",
      "fold: 3\n",
      "repetition: 31\n",
      "fold: 1\n",
      "fold: 2\n",
      "fold: 3\n",
      "repetition: 32\n",
      "fold: 1\n",
      "fold: 2\n",
      "fold: 3\n",
      "repetition: 33\n",
      "fold: 1\n",
      "fold: 2\n",
      "fold: 3\n",
      "F_mean: 0.45104120514\n",
      "AUC_mean: 0.585966663192\n",
      "PRECISION_mean: 0.403008709422\n",
      "RECALL_mean: 0.512072434608\n",
      "SPECIFICITY_mean: 0.490884537475\n",
      "percentage: 0.223141414141\n",
      "repetition: 1\n",
      "fold: 1\n",
      "fold: 2\n",
      "fold: 3\n",
      "repetition: 2\n",
      "fold: 1\n",
      "fold: 2\n",
      "fold: 3\n",
      "repetition: 3\n",
      "fold: 1\n",
      "fold: 2\n",
      "fold: 3\n",
      "repetition: 4\n",
      "fold: 1\n",
      "fold: 2\n",
      "fold: 3\n",
      "repetition: 5\n",
      "fold: 1\n"
     ]
    },
    {
     "name": "stderr",
     "output_type": "stream",
     "text": [
      "/usr/local/lib/python3.4/dist-packages/sklearn/feature_selection/univariate_selection.py:113: UserWarning: Features [    13     90     99 ..., 572588 572708 572709] are constant.\n",
      "  UserWarning)\n"
     ]
    },
    {
     "name": "stdout",
     "output_type": "stream",
     "text": [
      "fold: 2\n",
      "fold: 3\n",
      "repetition: 6\n",
      "fold: 1\n",
      "fold: 2\n",
      "fold: 3\n",
      "repetition: 7\n",
      "fold: 1\n",
      "fold: 2\n",
      "fold: 3\n"
     ]
    },
    {
     "name": "stderr",
     "output_type": "stream",
     "text": [
      "/usr/local/lib/python3.4/dist-packages/sklearn/feature_selection/univariate_selection.py:113: UserWarning: Features [     4     13     90 ..., 572509 572525 572544] are constant.\n",
      "  UserWarning)\n"
     ]
    },
    {
     "name": "stdout",
     "output_type": "stream",
     "text": [
      "repetition: 8\n",
      "fold: 1\n",
      "fold: 2\n",
      "fold: 3\n",
      "repetition: 9\n",
      "fold: 1\n",
      "fold: 2\n",
      "fold: 3\n",
      "repetition: 10\n",
      "fold: 1\n",
      "fold: 2\n",
      "fold: 3\n"
     ]
    },
    {
     "name": "stderr",
     "output_type": "stream",
     "text": [
      "/usr/local/lib/python3.4/dist-packages/sklearn/feature_selection/univariate_selection.py:113: UserWarning: Features [    13     80     85 ..., 572528 572553 572576] are constant.\n",
      "  UserWarning)\n"
     ]
    },
    {
     "name": "stdout",
     "output_type": "stream",
     "text": [
      "repetition: 11\n",
      "fold: 1\n",
      "fold: 2\n",
      "fold: 3\n",
      "repetition: 12\n",
      "fold: 1\n",
      "fold: 2\n",
      "fold: 3\n",
      "repetition: 13\n",
      "fold: 1\n",
      "fold: 2\n"
     ]
    },
    {
     "name": "stderr",
     "output_type": "stream",
     "text": [
      "/usr/local/lib/python3.4/dist-packages/sklearn/feature_selection/univariate_selection.py:113: UserWarning: Features [     5     13     99 ..., 572731 572732 572735] are constant.\n",
      "  UserWarning)\n"
     ]
    },
    {
     "name": "stdout",
     "output_type": "stream",
     "text": [
      "fold: 3\n",
      "repetition: 14\n",
      "fold: 1\n",
      "fold: 2\n",
      "fold: 3\n",
      "repetition: 15\n",
      "fold: 1\n",
      "fold: 2\n",
      "fold: 3\n",
      "repetition: 16\n",
      "fold: 1\n",
      "fold: 2\n",
      "fold: 3\n",
      "repetition: 17\n",
      "fold: 1\n"
     ]
    },
    {
     "name": "stderr",
     "output_type": "stream",
     "text": [
      "/usr/local/lib/python3.4/dist-packages/sklearn/feature_selection/univariate_selection.py:113: UserWarning: Features [    13     80     85 ..., 572528 572544 572553] are constant.\n",
      "  UserWarning)\n"
     ]
    },
    {
     "name": "stdout",
     "output_type": "stream",
     "text": [
      "fold: 2\n",
      "fold: 3\n",
      "repetition: 18\n",
      "fold: 1\n",
      "fold: 2\n",
      "fold: 3\n",
      "repetition: 19\n",
      "fold: 1\n",
      "fold: 2\n"
     ]
    },
    {
     "name": "stderr",
     "output_type": "stream",
     "text": [
      "/usr/local/lib/python3.4/dist-packages/sklearn/feature_selection/univariate_selection.py:113: UserWarning: Features [    13     99    436 ..., 572728 572729 572730] are constant.\n",
      "  UserWarning)\n"
     ]
    },
    {
     "name": "stdout",
     "output_type": "stream",
     "text": [
      "fold: 3\n",
      "repetition: 20\n",
      "fold: 1\n",
      "fold: 2\n",
      "fold: 3\n",
      "repetition: 21\n",
      "fold: 1\n",
      "fold: 2\n",
      "fold: 3\n",
      "repetition: 22\n",
      "fold: 1\n",
      "fold: 2\n"
     ]
    },
    {
     "name": "stderr",
     "output_type": "stream",
     "text": [
      "/usr/local/lib/python3.4/dist-packages/sklearn/feature_selection/univariate_selection.py:113: UserWarning: Features [    13     99    149 ..., 572536 572554 572685] are constant.\n",
      "  UserWarning)\n"
     ]
    },
    {
     "name": "stdout",
     "output_type": "stream",
     "text": [
      "fold: 3\n",
      "repetition: 23\n",
      "fold: 1\n",
      "fold: 2\n",
      "fold: 3\n",
      "repetition: 24\n",
      "fold: 1\n"
     ]
    },
    {
     "name": "stderr",
     "output_type": "stream",
     "text": [
      "/usr/local/lib/python3.4/dist-packages/sklearn/feature_selection/univariate_selection.py:113: UserWarning: Features [    13     99    282 ..., 572712 572713 572714] are constant.\n",
      "  UserWarning)\n"
     ]
    },
    {
     "name": "stdout",
     "output_type": "stream",
     "text": [
      "fold: 2\n",
      "fold: 3\n",
      "repetition: 25\n",
      "fold: 1\n",
      "fold: 2\n",
      "fold: 3\n",
      "repetition: 26\n",
      "fold: 1\n",
      "fold: 2\n"
     ]
    },
    {
     "name": "stderr",
     "output_type": "stream",
     "text": [
      "/usr/local/lib/python3.4/dist-packages/sklearn/feature_selection/univariate_selection.py:113: UserWarning: Features [    13     80     85 ..., 572554 572621 572634] are constant.\n",
      "  UserWarning)\n"
     ]
    },
    {
     "name": "stdout",
     "output_type": "stream",
     "text": [
      "fold: 3\n",
      "repetition: 27\n",
      "fold: 1\n",
      "fold: 2\n",
      "fold: 3\n",
      "repetition: 28\n",
      "fold: 1\n",
      "fold: 2\n"
     ]
    },
    {
     "name": "stderr",
     "output_type": "stream",
     "text": [
      "/usr/local/lib/python3.4/dist-packages/sklearn/feature_selection/univariate_selection.py:113: UserWarning: Features [    13     80     85 ..., 572472 572480 572509] are constant.\n",
      "  UserWarning)\n"
     ]
    },
    {
     "name": "stdout",
     "output_type": "stream",
     "text": [
      "fold: 3\n",
      "repetition: 29\n",
      "fold: 1\n"
     ]
    },
    {
     "name": "stderr",
     "output_type": "stream",
     "text": [
      "/usr/local/lib/python3.4/dist-packages/sklearn/feature_selection/univariate_selection.py:113: UserWarning: Features [    13     71     80 ..., 572731 572732 572735] are constant.\n",
      "  UserWarning)\n"
     ]
    },
    {
     "name": "stdout",
     "output_type": "stream",
     "text": [
      "fold: 2\n",
      "fold: 3\n",
      "repetition: 30\n",
      "fold: 1\n",
      "fold: 2\n",
      "fold: 3\n"
     ]
    },
    {
     "name": "stderr",
     "output_type": "stream",
     "text": [
      "/usr/local/lib/python3.4/dist-packages/sklearn/feature_selection/univariate_selection.py:113: UserWarning: Features [     4     13     90 ..., 572662 572677 572684] are constant.\n",
      "  UserWarning)\n"
     ]
    },
    {
     "name": "stdout",
     "output_type": "stream",
     "text": [
      "repetition: 31\n",
      "fold: 1\n",
      "fold: 2\n",
      "fold: 3\n",
      "repetition: 32\n",
      "fold: 1\n",
      "fold: 2\n",
      "fold: 3\n",
      "repetition: 33\n",
      "fold: 1\n"
     ]
    },
    {
     "name": "stderr",
     "output_type": "stream",
     "text": [
      "/usr/local/lib/python3.4/dist-packages/sklearn/feature_selection/univariate_selection.py:113: UserWarning: Features [    13     72     90 ..., 572733 572736 572737] are constant.\n",
      "  UserWarning)\n"
     ]
    },
    {
     "name": "stdout",
     "output_type": "stream",
     "text": [
      "fold: 2\n",
      "fold: 3\n",
      "F_mean: 0.430390865173\n",
      "AUC_mean: 0.585076141214\n",
      "PRECISION_mean: 0.376344086022\n",
      "RECALL_mean: 0.502564102564\n",
      "SPECIFICITY_mean: 0.458666666667\n",
      "percentage: 0.250909090909\n",
      "repetition: 1\n",
      "fold: 1\n"
     ]
    },
    {
     "name": "stderr",
     "output_type": "stream",
     "text": [
      "/usr/local/lib/python3.4/dist-packages/sklearn/feature_selection/univariate_selection.py:113: UserWarning: Features [    13     99    178 ..., 572685 572708 572709] are constant.\n",
      "  UserWarning)\n"
     ]
    },
    {
     "name": "stdout",
     "output_type": "stream",
     "text": [
      "fold: 2\n",
      "fold: 3\n",
      "repetition: 2\n",
      "fold: 1\n"
     ]
    },
    {
     "name": "stderr",
     "output_type": "stream",
     "text": [
      "/usr/local/lib/python3.4/dist-packages/sklearn/feature_selection/univariate_selection.py:113: UserWarning: Features [    13     99    178 ..., 572615 572662 572677] are constant.\n",
      "  UserWarning)\n"
     ]
    },
    {
     "name": "stdout",
     "output_type": "stream",
     "text": [
      "fold: 2\n",
      "fold: 3\n",
      "repetition: 3\n",
      "fold: 1\n",
      "fold: 2\n",
      "fold: 3\n",
      "repetition: 4\n",
      "fold: 1\n"
     ]
    },
    {
     "name": "stderr",
     "output_type": "stream",
     "text": [
      "/usr/local/lib/python3.4/dist-packages/sklearn/feature_selection/univariate_selection.py:113: UserWarning: Features [    13     99    149 ..., 572685 572708 572709] are constant.\n",
      "  UserWarning)\n"
     ]
    },
    {
     "name": "stdout",
     "output_type": "stream",
     "text": [
      "fold: 2\n",
      "fold: 3\n",
      "repetition: 5\n",
      "fold: 1\n",
      "fold: 2\n",
      "fold: 3\n"
     ]
    },
    {
     "name": "stderr",
     "output_type": "stream",
     "text": [
      "/usr/local/lib/python3.4/dist-packages/sklearn/feature_selection/univariate_selection.py:113: UserWarning: Features [    13     80     85 ..., 572472 572510 572528] are constant.\n",
      "  UserWarning)\n"
     ]
    },
    {
     "name": "stdout",
     "output_type": "stream",
     "text": [
      "repetition: 6\n",
      "fold: 1\n",
      "fold: 2\n"
     ]
    },
    {
     "name": "stderr",
     "output_type": "stream",
     "text": [
      "/usr/local/lib/python3.4/dist-packages/sklearn/feature_selection/univariate_selection.py:113: UserWarning: Features [     4     13     80 ..., 572712 572713 572714] are constant.\n",
      "  UserWarning)\n"
     ]
    },
    {
     "name": "stdout",
     "output_type": "stream",
     "text": [
      "fold: 3\n"
     ]
    },
    {
     "name": "stderr",
     "output_type": "stream",
     "text": [
      "/usr/local/lib/python3.4/dist-packages/sklearn/feature_selection/univariate_selection.py:113: UserWarning: Features [    13     99    204 ..., 572536 572554 572704] are constant.\n",
      "  UserWarning)\n"
     ]
    },
    {
     "name": "stdout",
     "output_type": "stream",
     "text": [
      "repetition: 7\n",
      "fold: 1\n",
      "fold: 2\n",
      "fold: 3\n"
     ]
    },
    {
     "name": "stderr",
     "output_type": "stream",
     "text": [
      "/usr/local/lib/python3.4/dist-packages/sklearn/feature_selection/univariate_selection.py:113: UserWarning: Features [    13     99    204 ..., 572684 572685 572704] are constant.\n",
      "  UserWarning)\n"
     ]
    },
    {
     "name": "stdout",
     "output_type": "stream",
     "text": [
      "repetition: 8\n",
      "fold: 1\n",
      "fold: 2\n",
      "fold: 3\n",
      "repetition: 9\n",
      "fold: 1\n"
     ]
    },
    {
     "name": "stderr",
     "output_type": "stream",
     "text": [
      "/usr/local/lib/python3.4/dist-packages/sklearn/feature_selection/univariate_selection.py:113: UserWarning: Features [     4     13     80 ..., 572703 572704 572705] are constant.\n",
      "  UserWarning)\n"
     ]
    },
    {
     "name": "stdout",
     "output_type": "stream",
     "text": [
      "fold: 2\n",
      "fold: 3\n",
      "repetition: 10\n",
      "fold: 1\n",
      "fold: 2\n"
     ]
    },
    {
     "name": "stderr",
     "output_type": "stream",
     "text": [
      "/usr/local/lib/python3.4/dist-packages/sklearn/feature_selection/univariate_selection.py:113: UserWarning: Features [    13     71     99 ..., 572692 572702 572703] are constant.\n",
      "  UserWarning)\n"
     ]
    },
    {
     "name": "stdout",
     "output_type": "stream",
     "text": [
      "fold: 3\n",
      "repetition: 11\n",
      "fold: 1\n"
     ]
    },
    {
     "name": "stderr",
     "output_type": "stream",
     "text": [
      "/usr/local/lib/python3.4/dist-packages/sklearn/feature_selection/univariate_selection.py:113: UserWarning: Features [    13     99    288 ..., 572662 572677 572685] are constant.\n",
      "  UserWarning)\n"
     ]
    },
    {
     "name": "stdout",
     "output_type": "stream",
     "text": [
      "fold: 2\n",
      "fold: 3\n"
     ]
    },
    {
     "name": "stderr",
     "output_type": "stream",
     "text": [
      "/usr/local/lib/python3.4/dist-packages/sklearn/feature_selection/univariate_selection.py:113: UserWarning: Features [    13     90     99 ..., 572707 572708 572709] are constant.\n",
      "  UserWarning)\n"
     ]
    },
    {
     "name": "stdout",
     "output_type": "stream",
     "text": [
      "repetition: 12\n",
      "fold: 1\n",
      "fold: 2\n",
      "fold: 3\n",
      "repetition: 13\n",
      "fold: 1\n",
      "fold: 2\n",
      "fold: 3\n",
      "repetition: 14\n",
      "fold: 1\n",
      "fold: 2\n",
      "fold: 3\n",
      "repetition: 15\n",
      "fold: 1\n",
      "fold: 2\n",
      "fold: 3\n",
      "repetition: 16\n",
      "fold: 1\n",
      "fold: 2\n",
      "fold: 3\n",
      "repetition: 17\n",
      "fold: 1\n",
      "fold: 2\n"
     ]
    },
    {
     "name": "stderr",
     "output_type": "stream",
     "text": [
      "/usr/local/lib/python3.4/dist-packages/sklearn/feature_selection/univariate_selection.py:113: UserWarning: Features [    13     71     99 ..., 572728 572729 572730] are constant.\n",
      "  UserWarning)\n"
     ]
    },
    {
     "name": "stdout",
     "output_type": "stream",
     "text": [
      "fold: 3\n",
      "repetition: 18\n",
      "fold: 1\n",
      "fold: 2\n",
      "fold: 3\n",
      "repetition: 19\n",
      "fold: 1\n",
      "fold: 2\n"
     ]
    },
    {
     "name": "stderr",
     "output_type": "stream",
     "text": [
      "/usr/local/lib/python3.4/dist-packages/sklearn/feature_selection/univariate_selection.py:113: UserWarning: Features [    13     80     85 ..., 572685 572708 572709] are constant.\n",
      "  UserWarning)\n"
     ]
    },
    {
     "name": "stdout",
     "output_type": "stream",
     "text": [
      "fold: 3\n",
      "repetition: 20\n",
      "fold: 1\n",
      "fold: 2\n",
      "fold: 3\n",
      "repetition: 21\n",
      "fold: 1\n"
     ]
    },
    {
     "name": "stderr",
     "output_type": "stream",
     "text": [
      "/usr/local/lib/python3.4/dist-packages/sklearn/feature_selection/univariate_selection.py:113: UserWarning: Features [    13     80     85 ..., 572662 572677 572684] are constant.\n",
      "  UserWarning)\n"
     ]
    },
    {
     "name": "stdout",
     "output_type": "stream",
     "text": [
      "fold: 2\n",
      "fold: 3\n",
      "repetition: 22\n",
      "fold: 1\n",
      "fold: 2\n"
     ]
    },
    {
     "name": "stderr",
     "output_type": "stream",
     "text": [
      "/usr/local/lib/python3.4/dist-packages/sklearn/feature_selection/univariate_selection.py:113: UserWarning: Features [     4     13     71 ..., 572733 572736 572737] are constant.\n",
      "  UserWarning)\n"
     ]
    },
    {
     "name": "stdout",
     "output_type": "stream",
     "text": [
      "fold: 3\n",
      "repetition: 23\n",
      "fold: 1\n",
      "fold: 2\n",
      "fold: 3\n",
      "repetition: 24\n",
      "fold: 1\n",
      "fold: 2\n",
      "fold: 3\n"
     ]
    },
    {
     "name": "stderr",
     "output_type": "stream",
     "text": [
      "/usr/local/lib/python3.4/dist-packages/sklearn/feature_selection/univariate_selection.py:113: UserWarning: Features [    13     71     90 ..., 572720 572721 572722] are constant.\n",
      "  UserWarning)\n"
     ]
    },
    {
     "name": "stdout",
     "output_type": "stream",
     "text": [
      "repetition: 25\n",
      "fold: 1\n",
      "fold: 2\n",
      "fold: 3\n",
      "repetition: 26\n",
      "fold: 1\n",
      "fold: 2\n",
      "fold: 3\n",
      "repetition: 27\n",
      "fold: 1\n",
      "fold: 2\n",
      "fold: 3\n",
      "repetition: 28\n",
      "fold: 1\n",
      "fold: 2\n",
      "fold: 3\n",
      "repetition: 29\n",
      "fold: 1\n",
      "fold: 2\n",
      "fold: 3\n",
      "repetition: 30\n",
      "fold: 1\n",
      "fold: 2\n",
      "fold: 3\n",
      "repetition: 31\n",
      "fold: 1\n",
      "fold: 2\n",
      "fold: 3\n",
      "repetition: 32\n",
      "fold: 1\n",
      "fold: 2\n",
      "fold: 3\n",
      "repetition: 33\n",
      "fold: 1\n",
      "fold: 2\n",
      "fold: 3\n",
      "F_mean: 0.427209705373\n",
      "AUC_mean: 0.560280212118\n",
      "PRECISION_mean: 0.369842460615\n",
      "RECALL_mean: 0.505641025641\n",
      "SPECIFICITY_mean: 0.44\n",
      "percentage: 0.278676767677\n",
      "repetition: 1\n",
      "fold: 1\n",
      "fold: 2\n",
      "fold: 3\n"
     ]
    },
    {
     "name": "stderr",
     "output_type": "stream",
     "text": [
      "/usr/local/lib/python3.4/dist-packages/sklearn/feature_selection/univariate_selection.py:113: UserWarning: Features [    13     90     99 ..., 572662 572677 572684] are constant.\n",
      "  UserWarning)\n"
     ]
    },
    {
     "name": "stdout",
     "output_type": "stream",
     "text": [
      "repetition: 2\n",
      "fold: 1\n",
      "fold: 2\n",
      "fold: 3\n",
      "repetition: 3\n",
      "fold: 1\n",
      "fold: 2\n",
      "fold: 3\n",
      "repetition: 4\n",
      "fold: 1\n",
      "fold: 2\n",
      "fold: 3\n",
      "repetition: 5\n",
      "fold: 1\n",
      "fold: 2\n"
     ]
    },
    {
     "name": "stderr",
     "output_type": "stream",
     "text": [
      "/usr/local/lib/python3.4/dist-packages/sklearn/feature_selection/univariate_selection.py:113: UserWarning: Features [     4     13     90 ..., 572670 572685 572686] are constant.\n",
      "  UserWarning)\n"
     ]
    },
    {
     "name": "stdout",
     "output_type": "stream",
     "text": [
      "fold: 3\n",
      "repetition: 6\n",
      "fold: 1\n",
      "fold: 2\n",
      "fold: 3\n",
      "repetition: 7\n",
      "fold: 1\n",
      "fold: 2\n",
      "fold: 3\n",
      "repetition: 8\n",
      "fold: 1\n",
      "fold: 2\n",
      "fold: 3\n",
      "repetition: 9\n",
      "fold: 1\n",
      "fold: 2\n",
      "fold: 3\n",
      "repetition: 10\n",
      "fold: 1\n",
      "fold: 2\n",
      "fold: 3\n"
     ]
    },
    {
     "name": "stderr",
     "output_type": "stream",
     "text": [
      "/usr/local/lib/python3.4/dist-packages/sklearn/feature_selection/univariate_selection.py:113: UserWarning: Features [    13     99    282 ..., 572707 572708 572709] are constant.\n",
      "  UserWarning)\n"
     ]
    },
    {
     "name": "stdout",
     "output_type": "stream",
     "text": [
      "repetition: 11\n",
      "fold: 1\n",
      "fold: 2\n"
     ]
    },
    {
     "name": "stderr",
     "output_type": "stream",
     "text": [
      "/usr/local/lib/python3.4/dist-packages/sklearn/feature_selection/univariate_selection.py:113: UserWarning: Features [    13     90     99 ..., 572454 572473 572685] are constant.\n",
      "  UserWarning)\n"
     ]
    },
    {
     "name": "stdout",
     "output_type": "stream",
     "text": [
      "fold: 3\n",
      "repetition: 12\n",
      "fold: 1\n",
      "fold: 2\n",
      "fold: 3\n",
      "repetition: 13\n",
      "fold: 1\n",
      "fold: 2\n",
      "fold: 3\n",
      "repetition: 14\n",
      "fold: 1\n",
      "fold: 2\n",
      "fold: 3\n",
      "repetition: 15\n",
      "fold: 1\n",
      "fold: 2\n",
      "fold: 3\n",
      "repetition: 16\n",
      "fold: 1\n",
      "fold: 2\n",
      "fold: 3\n",
      "repetition: 17\n",
      "fold: 1\n",
      "fold: 2\n",
      "fold: 3\n",
      "repetition: 18\n",
      "fold: 1\n",
      "fold: 2\n",
      "fold: 3\n",
      "repetition: 19\n",
      "fold: 1\n",
      "fold: 2\n",
      "fold: 3\n",
      "repetition: 20\n",
      "fold: 1\n",
      "fold: 2\n",
      "fold: 3\n",
      "repetition: 21\n",
      "fold: 1\n",
      "fold: 2\n",
      "fold: 3\n",
      "repetition: 22\n",
      "fold: 1\n",
      "fold: 2\n",
      "fold: 3\n",
      "repetition: 23\n",
      "fold: 1\n"
     ]
    },
    {
     "name": "stderr",
     "output_type": "stream",
     "text": [
      "/usr/local/lib/python3.4/dist-packages/sklearn/feature_selection/univariate_selection.py:113: UserWarning: Features [    13     80     84 ..., 572615 572662 572677] are constant.\n",
      "  UserWarning)\n"
     ]
    },
    {
     "name": "stdout",
     "output_type": "stream",
     "text": [
      "fold: 2\n",
      "fold: 3\n",
      "repetition: 24\n",
      "fold: 1\n",
      "fold: 2\n",
      "fold: 3\n"
     ]
    },
    {
     "name": "stderr",
     "output_type": "stream",
     "text": [
      "/usr/local/lib/python3.4/dist-packages/sklearn/feature_selection/univariate_selection.py:113: UserWarning: Features [    13     99    264 ..., 572712 572713 572714] are constant.\n",
      "  UserWarning)\n"
     ]
    },
    {
     "name": "stdout",
     "output_type": "stream",
     "text": [
      "repetition: 25\n",
      "fold: 1\n",
      "fold: 2\n",
      "fold: 3\n"
     ]
    },
    {
     "name": "stderr",
     "output_type": "stream",
     "text": [
      "/usr/local/lib/python3.4/dist-packages/sklearn/feature_selection/univariate_selection.py:113: UserWarning: Features [    13     71     80 ..., 572728 572729 572730] are constant.\n",
      "  UserWarning)\n"
     ]
    },
    {
     "name": "stdout",
     "output_type": "stream",
     "text": [
      "repetition: 26\n",
      "fold: 1\n",
      "fold: 2\n",
      "fold: 3\n",
      "repetition: 27\n",
      "fold: 1\n",
      "fold: 2\n",
      "fold: 3\n",
      "repetition: 28\n",
      "fold: 1\n",
      "fold: 2\n",
      "fold: 3\n"
     ]
    },
    {
     "name": "stderr",
     "output_type": "stream",
     "text": [
      "/usr/local/lib/python3.4/dist-packages/sklearn/feature_selection/univariate_selection.py:113: UserWarning: Features [    13     99    274 ..., 572712 572713 572714] are constant.\n",
      "  UserWarning)\n"
     ]
    },
    {
     "name": "stdout",
     "output_type": "stream",
     "text": [
      "repetition: 29\n",
      "fold: 1\n",
      "fold: 2\n",
      "fold: 3\n",
      "repetition: 30\n",
      "fold: 1\n",
      "fold: 2\n",
      "fold: 3\n",
      "repetition: 31\n",
      "fold: 1\n",
      "fold: 2\n",
      "fold: 3\n",
      "repetition: 32\n",
      "fold: 1\n"
     ]
    },
    {
     "name": "stderr",
     "output_type": "stream",
     "text": [
      "/usr/local/lib/python3.4/dist-packages/sklearn/feature_selection/univariate_selection.py:113: UserWarning: Features [    13     90     99 ..., 572528 572553 572576] are constant.\n",
      "  UserWarning)\n"
     ]
    },
    {
     "name": "stdout",
     "output_type": "stream",
     "text": [
      "fold: 2\n",
      "fold: 3\n",
      "repetition: 33\n",
      "fold: 1\n",
      "fold: 2\n",
      "fold: 3\n",
      "F_mean: 0.441034633932\n",
      "AUC_mean: 0.569813406171\n",
      "PRECISION_mean: 0.398573692552\n",
      "RECALL_mean: 0.493621197252\n",
      "SPECIFICITY_mean: 0.478708791209\n",
      "percentage: 0.306444444444\n",
      "repetition: 1\n",
      "fold: 1\n",
      "fold: 2\n",
      "fold: 3\n",
      "repetition: 2\n",
      "fold: 1\n",
      "fold: 2\n",
      "fold: 3\n",
      "repetition: 3\n",
      "fold: 1\n",
      "fold: 2\n",
      "fold: 3\n"
     ]
    },
    {
     "name": "stderr",
     "output_type": "stream",
     "text": [
      "/usr/local/lib/python3.4/dist-packages/sklearn/feature_selection/univariate_selection.py:113: UserWarning: Features [    13     80     85 ..., 572596 572684 572704] are constant.\n",
      "  UserWarning)\n"
     ]
    },
    {
     "name": "stdout",
     "output_type": "stream",
     "text": [
      "repetition: 4\n",
      "fold: 1\n",
      "fold: 2\n",
      "fold: 3\n",
      "repetition: 5\n",
      "fold: 1\n",
      "fold: 2\n",
      "fold: 3\n"
     ]
    },
    {
     "name": "stderr",
     "output_type": "stream",
     "text": [
      "/usr/local/lib/python3.4/dist-packages/sklearn/feature_selection/univariate_selection.py:113: UserWarning: Features [    13     99    149 ..., 572621 572634 572684] are constant.\n",
      "  UserWarning)\n"
     ]
    },
    {
     "name": "stdout",
     "output_type": "stream",
     "text": [
      "repetition: 6\n",
      "fold: 1\n",
      "fold: 2\n",
      "fold: 3\n",
      "repetition: 7\n",
      "fold: 1\n",
      "fold: 2\n",
      "fold: 3\n"
     ]
    },
    {
     "name": "stderr",
     "output_type": "stream",
     "text": [
      "/usr/local/lib/python3.4/dist-packages/sklearn/feature_selection/univariate_selection.py:113: UserWarning: Features [     4     13     90 ..., 572677 572708 572709] are constant.\n",
      "  UserWarning)\n"
     ]
    },
    {
     "name": "stdout",
     "output_type": "stream",
     "text": [
      "repetition: 8\n",
      "fold: 1\n",
      "fold: 2\n"
     ]
    },
    {
     "name": "stderr",
     "output_type": "stream",
     "text": [
      "/usr/local/lib/python3.4/dist-packages/sklearn/feature_selection/univariate_selection.py:113: UserWarning: Features [    13     99    274 ..., 572702 572703 572704] are constant.\n",
      "  UserWarning)\n"
     ]
    },
    {
     "name": "stdout",
     "output_type": "stream",
     "text": [
      "fold: 3\n",
      "repetition: 9\n",
      "fold: 1\n",
      "fold: 2\n",
      "fold: 3\n"
     ]
    },
    {
     "name": "stderr",
     "output_type": "stream",
     "text": [
      "/usr/local/lib/python3.4/dist-packages/sklearn/feature_selection/univariate_selection.py:113: UserWarning: Features [    13     99    290 ..., 572662 572677 572704] are constant.\n",
      "  UserWarning)\n"
     ]
    },
    {
     "name": "stdout",
     "output_type": "stream",
     "text": [
      "repetition: 10\n",
      "fold: 1\n",
      "fold: 2\n",
      "fold: 3\n",
      "repetition: 11\n",
      "fold: 1\n"
     ]
    },
    {
     "name": "stderr",
     "output_type": "stream",
     "text": [
      "/usr/local/lib/python3.4/dist-packages/sklearn/feature_selection/univariate_selection.py:113: UserWarning: Features [    13     99    149 ..., 572595 572596 572684] are constant.\n",
      "  UserWarning)\n"
     ]
    },
    {
     "name": "stdout",
     "output_type": "stream",
     "text": [
      "fold: 2\n",
      "fold: 3\n",
      "repetition: 12\n",
      "fold: 1\n",
      "fold: 2\n",
      "fold: 3\n"
     ]
    },
    {
     "name": "stderr",
     "output_type": "stream",
     "text": [
      "/usr/local/lib/python3.4/dist-packages/sklearn/feature_selection/univariate_selection.py:113: UserWarning: Features [    13     80     85 ..., 572480 572509 572553] are constant.\n",
      "  UserWarning)\n"
     ]
    },
    {
     "name": "stdout",
     "output_type": "stream",
     "text": [
      "repetition: 13\n",
      "fold: 1\n",
      "fold: 2\n",
      "fold: 3\n",
      "repetition: 14\n",
      "fold: 1\n",
      "fold: 2\n",
      "fold: 3\n",
      "repetition: 15\n",
      "fold: 1\n",
      "fold: 2\n"
     ]
    },
    {
     "name": "stderr",
     "output_type": "stream",
     "text": [
      "/usr/local/lib/python3.4/dist-packages/sklearn/feature_selection/univariate_selection.py:113: UserWarning: Features [    13     99    178 ..., 572554 572621 572634] are constant.\n",
      "  UserWarning)\n"
     ]
    },
    {
     "name": "stdout",
     "output_type": "stream",
     "text": [
      "fold: 3\n",
      "repetition: 16\n",
      "fold: 1\n",
      "fold: 2\n",
      "fold: 3\n",
      "repetition: 17\n",
      "fold: 1\n"
     ]
    },
    {
     "name": "stderr",
     "output_type": "stream",
     "text": [
      "/usr/local/lib/python3.4/dist-packages/sklearn/feature_selection/univariate_selection.py:113: UserWarning: Features [    13     99    273 ..., 572692 572702 572703] are constant.\n",
      "  UserWarning)\n"
     ]
    },
    {
     "name": "stdout",
     "output_type": "stream",
     "text": [
      "fold: 2\n",
      "fold: 3\n",
      "repetition: 18\n",
      "fold: 1\n",
      "fold: 2\n",
      "fold: 3\n",
      "repetition: 19\n",
      "fold: 1\n",
      "fold: 2\n",
      "fold: 3\n",
      "repetition: 20\n",
      "fold: 1\n"
     ]
    },
    {
     "name": "stderr",
     "output_type": "stream",
     "text": [
      "/usr/local/lib/python3.4/dist-packages/sklearn/feature_selection/univariate_selection.py:113: UserWarning: Features [    13     99    273 ..., 572662 572677 572704] are constant.\n",
      "  UserWarning)\n"
     ]
    },
    {
     "name": "stdout",
     "output_type": "stream",
     "text": [
      "fold: 2\n",
      "fold: 3\n",
      "repetition: 21\n",
      "fold: 1\n",
      "fold: 2\n",
      "fold: 3\n",
      "repetition: 22\n",
      "fold: 1\n"
     ]
    },
    {
     "name": "stderr",
     "output_type": "stream",
     "text": [
      "/usr/local/lib/python3.4/dist-packages/sklearn/feature_selection/univariate_selection.py:113: UserWarning: Features [    13     90     99 ..., 572605 572621 572634] are constant.\n",
      "  UserWarning)\n"
     ]
    },
    {
     "name": "stdout",
     "output_type": "stream",
     "text": [
      "fold: 2\n",
      "fold: 3\n",
      "repetition: 23\n",
      "fold: 1\n",
      "fold: 2\n",
      "fold: 3\n",
      "repetition: 24\n",
      "fold: 1\n",
      "fold: 2\n"
     ]
    },
    {
     "name": "stderr",
     "output_type": "stream",
     "text": [
      "/usr/local/lib/python3.4/dist-packages/sklearn/feature_selection/univariate_selection.py:113: UserWarning: Features [    13     99    288 ..., 572728 572729 572730] are constant.\n",
      "  UserWarning)\n"
     ]
    },
    {
     "name": "stdout",
     "output_type": "stream",
     "text": [
      "fold: 3\n",
      "repetition: 25\n",
      "fold: 1\n",
      "fold: 2\n",
      "fold: 3\n",
      "repetition: 26\n",
      "fold: 1\n",
      "fold: 2\n",
      "fold: 3\n",
      "repetition: 27\n",
      "fold: 1\n",
      "fold: 2\n",
      "fold: 3\n",
      "repetition: 28\n",
      "fold: 1\n",
      "fold: 2\n",
      "fold: 3\n",
      "repetition: 29\n",
      "fold: 1\n"
     ]
    },
    {
     "name": "stderr",
     "output_type": "stream",
     "text": [
      "/usr/local/lib/python3.4/dist-packages/sklearn/feature_selection/univariate_selection.py:113: UserWarning: Features [    13     80     85 ..., 572703 572708 572709] are constant.\n",
      "  UserWarning)\n"
     ]
    },
    {
     "name": "stdout",
     "output_type": "stream",
     "text": [
      "fold: 2\n"
     ]
    },
    {
     "name": "stderr",
     "output_type": "stream",
     "text": [
      "/usr/local/lib/python3.4/dist-packages/sklearn/feature_selection/univariate_selection.py:113: UserWarning: Features [    13     86     99 ..., 572733 572736 572737] are constant.\n",
      "  UserWarning)\n"
     ]
    },
    {
     "name": "stdout",
     "output_type": "stream",
     "text": [
      "fold: 3\n",
      "repetition: 30\n",
      "fold: 1\n",
      "fold: 2\n",
      "fold: 3\n",
      "repetition: 31\n",
      "fold: 1\n",
      "fold: 2\n",
      "fold: 3\n",
      "repetition: 32\n",
      "fold: 1\n",
      "fold: 2\n",
      "fold: 3\n",
      "repetition: 33\n",
      "fold: 1\n",
      "fold: 2\n",
      "fold: 3\n",
      "F_mean: 0.458889367198\n",
      "AUC_mean: 0.588147677911\n",
      "PRECISION_mean: 0.408429118774\n",
      "RECALL_mean: 0.523575638507\n",
      "SPECIFICITY_mean: 0.470144131778\n",
      "percentage: 0.334212121212\n",
      "repetition: 1\n",
      "fold: 1\n",
      "fold: 2\n",
      "fold: 3\n",
      "repetition: 2\n",
      "fold: 1\n",
      "fold: 2\n",
      "fold: 3\n",
      "repetition: 3\n",
      "fold: 1\n",
      "fold: 2\n",
      "fold: 3\n",
      "repetition: 4\n",
      "fold: 1\n",
      "fold: 2\n",
      "fold: 3\n",
      "repetition: 5\n",
      "fold: 1\n",
      "fold: 2\n",
      "fold: 3\n",
      "repetition: 6\n",
      "fold: 1\n",
      "fold: 2\n",
      "fold: 3\n",
      "repetition: 7\n",
      "fold: 1\n",
      "fold: 2\n",
      "fold: 3\n",
      "repetition: 8\n",
      "fold: 1\n",
      "fold: 2\n",
      "fold: 3\n",
      "repetition: 9\n",
      "fold: 1\n",
      "fold: 2\n",
      "fold: 3\n",
      "repetition: 10\n",
      "fold: 1\n",
      "fold: 2\n",
      "fold: 3\n"
     ]
    },
    {
     "name": "stderr",
     "output_type": "stream",
     "text": [
      "/usr/local/lib/python3.4/dist-packages/sklearn/feature_selection/univariate_selection.py:113: UserWarning: Features [    13     99    282 ..., 572702 572703 572704] are constant.\n",
      "  UserWarning)\n"
     ]
    },
    {
     "name": "stdout",
     "output_type": "stream",
     "text": [
      "repetition: 11\n",
      "fold: 1\n",
      "fold: 2\n",
      "fold: 3\n",
      "repetition: 12\n",
      "fold: 1\n",
      "fold: 2\n"
     ]
    },
    {
     "name": "stderr",
     "output_type": "stream",
     "text": [
      "/usr/local/lib/python3.4/dist-packages/sklearn/feature_selection/univariate_selection.py:113: UserWarning: Features [    13     99    305 ..., 572733 572736 572737] are constant.\n",
      "  UserWarning)\n"
     ]
    },
    {
     "name": "stdout",
     "output_type": "stream",
     "text": [
      "fold: 3\n",
      "repetition: 13\n",
      "fold: 1\n"
     ]
    },
    {
     "name": "stderr",
     "output_type": "stream",
     "text": [
      "/usr/local/lib/python3.4/dist-packages/sklearn/feature_selection/univariate_selection.py:113: UserWarning: Features [     5     13     99 ..., 572621 572634 572684] are constant.\n",
      "  UserWarning)\n"
     ]
    },
    {
     "name": "stdout",
     "output_type": "stream",
     "text": [
      "fold: 2\n",
      "fold: 3\n",
      "repetition: 14\n",
      "fold: 1\n",
      "fold: 2\n",
      "fold: 3\n",
      "repetition: 15\n",
      "fold: 1\n",
      "fold: 2\n",
      "fold: 3\n",
      "repetition: 16\n",
      "fold: 1\n",
      "fold: 2\n"
     ]
    },
    {
     "name": "stderr",
     "output_type": "stream",
     "text": [
      "/usr/local/lib/python3.4/dist-packages/sklearn/feature_selection/univariate_selection.py:113: UserWarning: Features [    13     99    178 ..., 572692 572702 572703] are constant.\n",
      "  UserWarning)\n"
     ]
    },
    {
     "name": "stdout",
     "output_type": "stream",
     "text": [
      "fold: 3\n",
      "repetition: 17\n",
      "fold: 1\n",
      "fold: 2\n",
      "fold: 3\n",
      "repetition: 18\n",
      "fold: 1\n",
      "fold: 2\n"
     ]
    },
    {
     "name": "stderr",
     "output_type": "stream",
     "text": [
      "/usr/local/lib/python3.4/dist-packages/sklearn/feature_selection/univariate_selection.py:113: UserWarning: Features [    13     71     72 ..., 572720 572721 572722] are constant.\n",
      "  UserWarning)\n"
     ]
    },
    {
     "name": "stdout",
     "output_type": "stream",
     "text": [
      "fold: 3\n",
      "repetition: 19\n",
      "fold: 1\n",
      "fold: 2\n",
      "fold: 3\n",
      "repetition: 20\n",
      "fold: 1\n",
      "fold: 2\n",
      "fold: 3\n",
      "repetition: 21\n",
      "fold: 1\n",
      "fold: 2\n",
      "fold: 3\n",
      "repetition: 22\n",
      "fold: 1\n",
      "fold: 2\n",
      "fold: 3\n",
      "repetition: 23\n",
      "fold: 1\n",
      "fold: 2\n"
     ]
    },
    {
     "name": "stderr",
     "output_type": "stream",
     "text": [
      "/usr/local/lib/python3.4/dist-packages/sklearn/feature_selection/univariate_selection.py:113: UserWarning: Features [    13     99    344 ..., 572728 572729 572730] are constant.\n",
      "  UserWarning)\n"
     ]
    },
    {
     "name": "stdout",
     "output_type": "stream",
     "text": [
      "fold: 3\n",
      "repetition: 24\n",
      "fold: 1\n",
      "fold: 2\n",
      "fold: 3\n",
      "repetition: 25\n",
      "fold: 1\n",
      "fold: 2\n",
      "fold: 3\n",
      "repetition: 26\n",
      "fold: 1\n",
      "fold: 2\n",
      "fold: 3\n",
      "repetition: 27\n",
      "fold: 1\n",
      "fold: 2\n",
      "fold: 3\n",
      "repetition: 28\n",
      "fold: 1\n"
     ]
    },
    {
     "name": "stderr",
     "output_type": "stream",
     "text": [
      "/usr/local/lib/python3.4/dist-packages/sklearn/feature_selection/univariate_selection.py:113: UserWarning: Features [     4     13     90 ..., 572704 572708 572709] are constant.\n",
      "  UserWarning)\n"
     ]
    },
    {
     "name": "stdout",
     "output_type": "stream",
     "text": [
      "fold: 2\n",
      "fold: 3\n",
      "repetition: 29\n",
      "fold: 1\n",
      "fold: 2\n"
     ]
    },
    {
     "name": "stderr",
     "output_type": "stream",
     "text": [
      "/usr/local/lib/python3.4/dist-packages/sklearn/feature_selection/univariate_selection.py:113: UserWarning: Features [    13     80     85 ..., 572634 572685 572704] are constant.\n",
      "  UserWarning)\n"
     ]
    },
    {
     "name": "stdout",
     "output_type": "stream",
     "text": [
      "fold: 3\n",
      "repetition: 30\n",
      "fold: 1\n",
      "fold: 2\n",
      "fold: 3\n",
      "repetition: 31\n",
      "fold: 1\n",
      "fold: 2\n",
      "fold: 3\n",
      "repetition: 32\n",
      "fold: 1\n",
      "fold: 2\n",
      "fold: 3\n",
      "repetition: 33\n",
      "fold: 1\n",
      "fold: 2\n",
      "fold: 3\n",
      "F_mean: 0.456310679612\n",
      "AUC_mean: 0.608175606274\n",
      "PRECISION_mean: 0.405808477237\n",
      "RECALL_mean: 0.521169354839\n",
      "SPECIFICITY_mean: 0.489548213082\n",
      "percentage: 0.36197979798\n",
      "repetition: 1\n",
      "fold: 1\n",
      "fold: 2\n",
      "fold: 3\n",
      "repetition: 2\n",
      "fold: 1\n",
      "fold: 2\n",
      "fold: 3\n",
      "repetition: 3\n",
      "fold: 1\n",
      "fold: 2\n"
     ]
    },
    {
     "name": "stderr",
     "output_type": "stream",
     "text": [
      "/usr/local/lib/python3.4/dist-packages/sklearn/feature_selection/univariate_selection.py:113: UserWarning: Features [    13     72     90 ..., 572703 572708 572709] are constant.\n",
      "  UserWarning)\n"
     ]
    },
    {
     "name": "stdout",
     "output_type": "stream",
     "text": [
      "fold: 3\n"
     ]
    },
    {
     "name": "stderr",
     "output_type": "stream",
     "text": [
      "/usr/local/lib/python3.4/dist-packages/sklearn/feature_selection/univariate_selection.py:113: UserWarning: Features [    13     99    178 ..., 572596 572704 572705] are constant.\n",
      "  UserWarning)\n"
     ]
    },
    {
     "name": "stdout",
     "output_type": "stream",
     "text": [
      "repetition: 4\n",
      "fold: 1\n",
      "fold: 2\n",
      "fold: 3\n",
      "repetition: 5\n",
      "fold: 1\n",
      "fold: 2\n",
      "fold: 3\n",
      "repetition: 6\n",
      "fold: 1\n",
      "fold: 2\n",
      "fold: 3\n",
      "repetition: 7\n",
      "fold: 1\n"
     ]
    },
    {
     "name": "stderr",
     "output_type": "stream",
     "text": [
      "/usr/local/lib/python3.4/dist-packages/sklearn/feature_selection/univariate_selection.py:113: UserWarning: Features [    13     72     99 ..., 572323 572461 572553] are constant.\n",
      "  UserWarning)\n"
     ]
    },
    {
     "name": "stdout",
     "output_type": "stream",
     "text": [
      "fold: 2\n",
      "fold: 3\n",
      "repetition: 8\n",
      "fold: 1\n",
      "fold: 2\n",
      "fold: 3\n",
      "repetition: 9\n",
      "fold: 1\n",
      "fold: 2\n",
      "fold: 3\n",
      "repetition: 10\n",
      "fold: 1\n",
      "fold: 2\n",
      "fold: 3\n"
     ]
    },
    {
     "name": "stderr",
     "output_type": "stream",
     "text": [
      "/usr/local/lib/python3.4/dist-packages/sklearn/feature_selection/univariate_selection.py:113: UserWarning: Features [    13     99    178 ..., 572553 572685 572704] are constant.\n",
      "  UserWarning)\n"
     ]
    },
    {
     "name": "stdout",
     "output_type": "stream",
     "text": [
      "repetition: 11\n",
      "fold: 1\n",
      "fold: 2\n",
      "fold: 3\n",
      "repetition: 12\n",
      "fold: 1\n",
      "fold: 2\n",
      "fold: 3\n",
      "repetition: 13\n",
      "fold: 1\n",
      "fold: 2\n",
      "fold: 3\n"
     ]
    },
    {
     "name": "stderr",
     "output_type": "stream",
     "text": [
      "/usr/local/lib/python3.4/dist-packages/sklearn/feature_selection/univariate_selection.py:113: UserWarning: Features [    13     99    423 ..., 572509 572525 572544] are constant.\n",
      "  UserWarning)\n"
     ]
    },
    {
     "name": "stdout",
     "output_type": "stream",
     "text": [
      "repetition: 14\n",
      "fold: 1\n",
      "fold: 2\n",
      "fold: 3\n",
      "repetition: 15\n",
      "fold: 1\n",
      "fold: 2\n"
     ]
    },
    {
     "name": "stderr",
     "output_type": "stream",
     "text": [
      "/usr/local/lib/python3.4/dist-packages/sklearn/feature_selection/univariate_selection.py:113: UserWarning: Features [    13     71     90 ..., 572596 572708 572709] are constant.\n",
      "  UserWarning)\n"
     ]
    },
    {
     "name": "stdout",
     "output_type": "stream",
     "text": [
      "fold: 3\n",
      "repetition: 16\n",
      "fold: 1\n",
      "fold: 2\n",
      "fold: 3\n",
      "repetition: 17\n",
      "fold: 1\n",
      "fold: 2\n",
      "fold: 3\n",
      "repetition: 18\n",
      "fold: 1\n",
      "fold: 2\n",
      "fold: 3\n",
      "repetition: 19\n",
      "fold: 1\n",
      "fold: 2\n",
      "fold: 3\n",
      "repetition: 20\n",
      "fold: 1\n",
      "fold: 2\n",
      "fold: 3\n",
      "repetition: 21\n",
      "fold: 1\n",
      "fold: 2\n",
      "fold: 3\n"
     ]
    },
    {
     "name": "stderr",
     "output_type": "stream",
     "text": [
      "/usr/local/lib/python3.4/dist-packages/sklearn/feature_selection/univariate_selection.py:113: UserWarning: Features [    13     80     85 ..., 572621 572634 572684] are constant.\n",
      "  UserWarning)\n"
     ]
    },
    {
     "name": "stdout",
     "output_type": "stream",
     "text": [
      "repetition: 22\n",
      "fold: 1\n",
      "fold: 2\n",
      "fold: 3\n",
      "repetition: 23\n",
      "fold: 1\n",
      "fold: 2\n",
      "fold: 3\n",
      "repetition: 24\n",
      "fold: 1\n",
      "fold: 2\n",
      "fold: 3\n",
      "repetition: 25\n",
      "fold: 1\n",
      "fold: 2\n"
     ]
    },
    {
     "name": "stderr",
     "output_type": "stream",
     "text": [
      "/usr/local/lib/python3.4/dist-packages/sklearn/feature_selection/univariate_selection.py:113: UserWarning: Features [    13     99    149 ..., 572704 572708 572709] are constant.\n",
      "  UserWarning)\n"
     ]
    },
    {
     "name": "stdout",
     "output_type": "stream",
     "text": [
      "fold: 3\n",
      "repetition: 26\n",
      "fold: 1\n",
      "fold: 2\n",
      "fold: 3\n",
      "repetition: 27\n",
      "fold: 1\n",
      "fold: 2\n",
      "fold: 3\n",
      "repetition: 28\n",
      "fold: 1\n",
      "fold: 2\n",
      "fold: 3\n",
      "repetition: 29\n",
      "fold: 1\n",
      "fold: 2\n",
      "fold: 3\n",
      "repetition: 30\n",
      "fold: 1\n",
      "fold: 2\n",
      "fold: 3\n",
      "repetition: 31\n",
      "fold: 1\n"
     ]
    },
    {
     "name": "stderr",
     "output_type": "stream",
     "text": [
      "/usr/local/lib/python3.4/dist-packages/sklearn/feature_selection/univariate_selection.py:113: UserWarning: Features [    13     80     84 ..., 572662 572677 572704] are constant.\n",
      "  UserWarning)\n"
     ]
    },
    {
     "name": "stdout",
     "output_type": "stream",
     "text": [
      "fold: 2\n",
      "fold: 3\n",
      "repetition: 32\n",
      "fold: 1\n",
      "fold: 2\n",
      "fold: 3\n",
      "repetition: 33\n",
      "fold: 1\n",
      "fold: 2\n",
      "fold: 3\n",
      "F_mean: 0.427335640138\n",
      "AUC_mean: 0.569861308737\n",
      "PRECISION_mean: 0.380878951426\n",
      "RECALL_mean: 0.486699507389\n",
      "SPECIFICITY_mean: 0.45\n",
      "percentage: 0.389747474747\n",
      "repetition: 1\n",
      "fold: 1\n",
      "fold: 2\n",
      "fold: 3\n",
      "repetition: 2\n",
      "fold: 1\n",
      "fold: 2\n",
      "fold: 3\n"
     ]
    },
    {
     "name": "stderr",
     "output_type": "stream",
     "text": [
      "/usr/local/lib/python3.4/dist-packages/sklearn/feature_selection/univariate_selection.py:113: UserWarning: Features [    13     80     85 ..., 572553 572554 572684] are constant.\n",
      "  UserWarning)\n"
     ]
    },
    {
     "name": "stdout",
     "output_type": "stream",
     "text": [
      "repetition: 3\n",
      "fold: 1\n",
      "fold: 2\n",
      "fold: 3\n",
      "repetition: 4\n",
      "fold: 1\n",
      "fold: 2\n",
      "fold: 3\n",
      "repetition: 5\n",
      "fold: 1\n",
      "fold: 2\n",
      "fold: 3\n",
      "repetition: 6\n",
      "fold: 1\n",
      "fold: 2\n",
      "fold: 3\n",
      "repetition: 7\n",
      "fold: 1\n",
      "fold: 2\n",
      "fold: 3\n",
      "repetition: 8\n",
      "fold: 1\n",
      "fold: 2\n",
      "fold: 3\n",
      "repetition: 9\n",
      "fold: 1\n",
      "fold: 2\n",
      "fold: 3\n",
      "repetition: 10\n",
      "fold: 1\n",
      "fold: 2\n",
      "fold: 3\n",
      "repetition: 11\n",
      "fold: 1\n",
      "fold: 2\n"
     ]
    },
    {
     "name": "stderr",
     "output_type": "stream",
     "text": [
      "/usr/local/lib/python3.4/dist-packages/sklearn/feature_selection/univariate_selection.py:113: UserWarning: Features [    13     99    178 ..., 572536 572553 572554] are constant.\n",
      "  UserWarning)\n"
     ]
    },
    {
     "name": "stdout",
     "output_type": "stream",
     "text": [
      "fold: 3\n",
      "repetition: 12\n",
      "fold: 1\n",
      "fold: 2\n",
      "fold: 3\n",
      "repetition: 13\n",
      "fold: 1\n",
      "fold: 2\n",
      "fold: 3\n",
      "repetition: 14\n",
      "fold: 1\n",
      "fold: 2\n",
      "fold: 3\n",
      "repetition: 15\n",
      "fold: 1\n",
      "fold: 2\n",
      "fold: 3\n",
      "repetition: 16\n",
      "fold: 1\n",
      "fold: 2\n",
      "fold: 3\n",
      "repetition: 17\n",
      "fold: 1\n",
      "fold: 2\n",
      "fold: 3\n",
      "repetition: 18\n",
      "fold: 1\n",
      "fold: 2\n",
      "fold: 3\n"
     ]
    },
    {
     "name": "stderr",
     "output_type": "stream",
     "text": [
      "/usr/local/lib/python3.4/dist-packages/sklearn/feature_selection/univariate_selection.py:113: UserWarning: Features [    13     72     80 ..., 572728 572729 572730] are constant.\n",
      "  UserWarning)\n"
     ]
    },
    {
     "name": "stdout",
     "output_type": "stream",
     "text": [
      "repetition: 19\n",
      "fold: 1\n",
      "fold: 2\n",
      "fold: 3\n"
     ]
    },
    {
     "name": "stderr",
     "output_type": "stream",
     "text": [
      "/usr/local/lib/python3.4/dist-packages/sklearn/feature_selection/univariate_selection.py:113: UserWarning: Features [    13     99    204 ..., 572703 572704 572705] are constant.\n",
      "  UserWarning)\n"
     ]
    },
    {
     "name": "stdout",
     "output_type": "stream",
     "text": [
      "repetition: 20\n",
      "fold: 1\n",
      "fold: 2\n",
      "fold: 3\n",
      "repetition: 21\n",
      "fold: 1\n",
      "fold: 2\n",
      "fold: 3\n",
      "repetition: 22\n",
      "fold: 1\n",
      "fold: 2\n",
      "fold: 3\n",
      "repetition: 23\n",
      "fold: 1\n",
      "fold: 2\n",
      "fold: 3\n",
      "repetition: 24\n",
      "fold: 1\n",
      "fold: 2\n",
      "fold: 3\n",
      "repetition: 25\n",
      "fold: 1\n",
      "fold: 2\n",
      "fold: 3\n",
      "repetition: 26\n",
      "fold: 1\n",
      "fold: 2\n",
      "fold: 3\n",
      "repetition: 27\n",
      "fold: 1\n",
      "fold: 2\n",
      "fold: 3\n"
     ]
    },
    {
     "name": "stderr",
     "output_type": "stream",
     "text": [
      "/usr/local/lib/python3.4/dist-packages/sklearn/feature_selection/univariate_selection.py:113: UserWarning: Features [    13     99    149 ..., 572553 572621 572634] are constant.\n",
      "  UserWarning)\n"
     ]
    },
    {
     "name": "stdout",
     "output_type": "stream",
     "text": [
      "repetition: 28\n",
      "fold: 1\n",
      "fold: 2\n",
      "fold: 3\n",
      "repetition: 29\n",
      "fold: 1\n",
      "fold: 2\n",
      "fold: 3\n",
      "repetition: 30\n",
      "fold: 1\n"
     ]
    },
    {
     "name": "stderr",
     "output_type": "stream",
     "text": [
      "/usr/local/lib/python3.4/dist-packages/sklearn/feature_selection/univariate_selection.py:113: UserWarning: Features [    13     71     80 ..., 572707 572708 572709] are constant.\n",
      "  UserWarning)\n"
     ]
    },
    {
     "name": "stdout",
     "output_type": "stream",
     "text": [
      "fold: 2\n",
      "fold: 3\n",
      "repetition: 31\n",
      "fold: 1\n",
      "fold: 2\n",
      "fold: 3\n",
      "repetition: 32\n",
      "fold: 1\n",
      "fold: 2\n",
      "fold: 3\n",
      "repetition: 33\n",
      "fold: 1\n",
      "fold: 2\n",
      "fold: 3\n",
      "F_mean: 0.455201698514\n",
      "AUC_mean: 0.583047421113\n",
      "PRECISION_mean: 0.39469808542\n",
      "RECALL_mean: 0.537612838516\n",
      "SPECIFICITY_mean: 0.443843031123\n",
      "percentage: 0.417515151515\n",
      "repetition: 1\n",
      "fold: 1\n",
      "fold: 2\n",
      "fold: 3\n",
      "repetition: 2\n",
      "fold: 1\n",
      "fold: 2\n",
      "fold: 3\n",
      "repetition: 3\n",
      "fold: 1\n",
      "fold: 2\n",
      "fold: 3\n",
      "repetition: 4\n",
      "fold: 1\n",
      "fold: 2\n",
      "fold: 3\n",
      "repetition: 5\n",
      "fold: 1\n",
      "fold: 2\n"
     ]
    },
    {
     "name": "stderr",
     "output_type": "stream",
     "text": [
      "/usr/local/lib/python3.4/dist-packages/sklearn/feature_selection/univariate_selection.py:113: UserWarning: Features [     4     13     72 ..., 572554 572604 572605] are constant.\n",
      "  UserWarning)\n"
     ]
    },
    {
     "name": "stdout",
     "output_type": "stream",
     "text": [
      "fold: 3\n",
      "repetition: 6\n",
      "fold: 1\n",
      "fold: 2\n",
      "fold: 3\n",
      "repetition: 7\n",
      "fold: 1\n"
     ]
    },
    {
     "name": "stderr",
     "output_type": "stream",
     "text": [
      "/usr/local/lib/python3.4/dist-packages/sklearn/feature_selection/univariate_selection.py:113: UserWarning: Features [    13     99    344 ..., 572733 572736 572737] are constant.\n",
      "  UserWarning)\n"
     ]
    },
    {
     "name": "stdout",
     "output_type": "stream",
     "text": [
      "fold: 2\n",
      "fold: 3\n",
      "repetition: 8\n",
      "fold: 1\n",
      "fold: 2\n",
      "fold: 3\n",
      "repetition: 9\n",
      "fold: 1\n",
      "fold: 2\n",
      "fold: 3\n",
      "repetition: 10\n",
      "fold: 1\n",
      "fold: 2\n",
      "fold: 3\n",
      "repetition: 11\n",
      "fold: 1\n",
      "fold: 2\n",
      "fold: 3\n",
      "repetition: 12\n",
      "fold: 1\n",
      "fold: 2\n"
     ]
    },
    {
     "name": "stderr",
     "output_type": "stream",
     "text": [
      "/usr/local/lib/python3.4/dist-packages/sklearn/feature_selection/univariate_selection.py:113: UserWarning: Features [    13     72     90 ..., 572692 572702 572703] are constant.\n",
      "  UserWarning)\n"
     ]
    },
    {
     "name": "stdout",
     "output_type": "stream",
     "text": [
      "fold: 3\n",
      "repetition: 13\n",
      "fold: 1\n",
      "fold: 2\n",
      "fold: 3\n"
     ]
    },
    {
     "name": "stderr",
     "output_type": "stream",
     "text": [
      "/usr/local/lib/python3.4/dist-packages/sklearn/feature_selection/univariate_selection.py:113: UserWarning: Features [    13     99    274 ..., 572634 572670 572685] are constant.\n",
      "  UserWarning)\n"
     ]
    },
    {
     "name": "stdout",
     "output_type": "stream",
     "text": [
      "repetition: 14\n",
      "fold: 1\n",
      "fold: 2\n",
      "fold: 3\n",
      "repetition: 15\n",
      "fold: 1\n",
      "fold: 2\n",
      "fold: 3\n",
      "repetition: 16\n",
      "fold: 1\n",
      "fold: 2\n",
      "fold: 3\n",
      "repetition: 17\n",
      "fold: 1\n",
      "fold: 2\n",
      "fold: 3\n",
      "repetition: 18\n",
      "fold: 1\n"
     ]
    },
    {
     "name": "stderr",
     "output_type": "stream",
     "text": [
      "/usr/local/lib/python3.4/dist-packages/sklearn/feature_selection/univariate_selection.py:113: UserWarning: Features [    13     80     84 ..., 572712 572713 572714] are constant.\n",
      "  UserWarning)\n"
     ]
    },
    {
     "name": "stdout",
     "output_type": "stream",
     "text": [
      "fold: 2\n",
      "fold: 3\n",
      "repetition: 19\n",
      "fold: 1\n",
      "fold: 2\n",
      "fold: 3\n"
     ]
    },
    {
     "name": "stderr",
     "output_type": "stream",
     "text": [
      "/usr/local/lib/python3.4/dist-packages/sklearn/feature_selection/univariate_selection.py:113: UserWarning: Features [    13     99    178 ..., 572670 572685 572704] are constant.\n",
      "  UserWarning)\n"
     ]
    },
    {
     "name": "stdout",
     "output_type": "stream",
     "text": [
      "repetition: 20\n",
      "fold: 1\n"
     ]
    },
    {
     "name": "stderr",
     "output_type": "stream",
     "text": [
      "/usr/local/lib/python3.4/dist-packages/sklearn/feature_selection/univariate_selection.py:113: UserWarning: Features [     4     13     71 ..., 572731 572732 572735] are constant.\n",
      "  UserWarning)\n"
     ]
    },
    {
     "name": "stdout",
     "output_type": "stream",
     "text": [
      "fold: 2\n",
      "fold: 3\n",
      "repetition: 21\n",
      "fold: 1\n",
      "fold: 2\n",
      "fold: 3\n",
      "repetition: 22\n",
      "fold: 1\n",
      "fold: 2\n",
      "fold: 3\n",
      "repetition: 23\n",
      "fold: 1\n",
      "fold: 2\n",
      "fold: 3\n",
      "repetition: 24\n",
      "fold: 1\n",
      "fold: 2\n",
      "fold: 3\n",
      "repetition: 25\n",
      "fold: 1\n",
      "fold: 2\n",
      "fold: 3\n"
     ]
    },
    {
     "name": "stderr",
     "output_type": "stream",
     "text": [
      "/usr/local/lib/python3.4/dist-packages/sklearn/feature_selection/univariate_selection.py:113: UserWarning: Features [    13     99    204 ..., 572615 572662 572677] are constant.\n",
      "  UserWarning)\n"
     ]
    },
    {
     "name": "stdout",
     "output_type": "stream",
     "text": [
      "repetition: 26\n",
      "fold: 1\n",
      "fold: 2\n",
      "fold: 3\n",
      "repetition: 27\n",
      "fold: 1\n",
      "fold: 2\n",
      "fold: 3\n",
      "repetition: 28\n",
      "fold: 1\n",
      "fold: 2\n",
      "fold: 3\n",
      "repetition: 29\n",
      "fold: 1\n",
      "fold: 2\n",
      "fold: 3\n",
      "repetition: 30\n",
      "fold: 1\n",
      "fold: 2\n",
      "fold: 3\n",
      "repetition: 31\n",
      "fold: 1\n",
      "fold: 2\n",
      "fold: 3\n",
      "repetition: 32\n",
      "fold: 1\n",
      "fold: 2\n",
      "fold: 3\n",
      "repetition: 33\n",
      "fold: 1\n",
      "fold: 2\n"
     ]
    },
    {
     "name": "stderr",
     "output_type": "stream",
     "text": [
      "/usr/local/lib/python3.4/dist-packages/sklearn/feature_selection/univariate_selection.py:113: UserWarning: Features [     4     13     80 ..., 572596 572621 572634] are constant.\n",
      "  UserWarning)\n"
     ]
    },
    {
     "name": "stdout",
     "output_type": "stream",
     "text": [
      "fold: 3\n",
      "F_mean: 0.477753779698\n",
      "AUC_mean: 0.599979184465\n",
      "PRECISION_mean: 0.414232209738\n",
      "RECALL_mean: 0.564285714286\n",
      "SPECIFICITY_mean: 0.476923076923\n",
      "percentage: 0.445282828283\n",
      "repetition: 1\n",
      "fold: 1\n",
      "fold: 2\n",
      "fold: 3\n",
      "repetition: 2\n",
      "fold: 1\n",
      "fold: 2\n",
      "fold: 3\n",
      "repetition: 3\n",
      "fold: 1\n",
      "fold: 2\n",
      "fold: 3\n",
      "repetition: 4\n",
      "fold: 1\n",
      "fold: 2\n"
     ]
    },
    {
     "name": "stderr",
     "output_type": "stream",
     "text": [
      "/usr/local/lib/python3.4/dist-packages/sklearn/feature_selection/univariate_selection.py:113: UserWarning: Features [    13     99    178 ..., 572662 572677 572685] are constant.\n",
      "  UserWarning)\n"
     ]
    },
    {
     "name": "stdout",
     "output_type": "stream",
     "text": [
      "fold: 3\n",
      "repetition: 5\n",
      "fold: 1\n",
      "fold: 2\n",
      "fold: 3\n",
      "repetition: 6\n",
      "fold: 1\n",
      "fold: 2\n"
     ]
    },
    {
     "name": "stderr",
     "output_type": "stream",
     "text": [
      "/usr/local/lib/python3.4/dist-packages/sklearn/feature_selection/univariate_selection.py:113: UserWarning: Features [    13     80     85 ..., 572554 572704 572705] are constant.\n",
      "  UserWarning)\n"
     ]
    },
    {
     "name": "stdout",
     "output_type": "stream",
     "text": [
      "fold: 3\n",
      "repetition: 7\n",
      "fold: 1\n",
      "fold: 2\n",
      "fold: 3\n",
      "repetition: 8\n",
      "fold: 1\n",
      "fold: 2\n"
     ]
    },
    {
     "name": "stderr",
     "output_type": "stream",
     "text": [
      "/usr/local/lib/python3.4/dist-packages/sklearn/feature_selection/univariate_selection.py:113: UserWarning: Features [    13     90     99 ..., 572703 572708 572709] are constant.\n",
      "  UserWarning)\n"
     ]
    },
    {
     "name": "stdout",
     "output_type": "stream",
     "text": [
      "fold: 3\n",
      "repetition: 9\n",
      "fold: 1\n"
     ]
    },
    {
     "name": "stderr",
     "output_type": "stream",
     "text": [
      "/usr/local/lib/python3.4/dist-packages/sklearn/feature_selection/univariate_selection.py:113: UserWarning: Features [    13     71     99 ..., 572704 572708 572709] are constant.\n",
      "  UserWarning)\n"
     ]
    },
    {
     "name": "stdout",
     "output_type": "stream",
     "text": [
      "fold: 2\n",
      "fold: 3\n",
      "repetition: 10\n",
      "fold: 1\n",
      "fold: 2\n"
     ]
    },
    {
     "name": "stderr",
     "output_type": "stream",
     "text": [
      "/usr/local/lib/python3.4/dist-packages/sklearn/feature_selection/univariate_selection.py:113: UserWarning: Features [     4     13     72 ..., 572731 572732 572735] are constant.\n",
      "  UserWarning)\n"
     ]
    },
    {
     "name": "stdout",
     "output_type": "stream",
     "text": [
      "fold: 3\n",
      "repetition: 11\n",
      "fold: 1\n",
      "fold: 2\n",
      "fold: 3\n",
      "repetition: 12\n",
      "fold: 1\n"
     ]
    },
    {
     "name": "stderr",
     "output_type": "stream",
     "text": [
      "/usr/local/lib/python3.4/dist-packages/sklearn/feature_selection/univariate_selection.py:113: UserWarning: Features [    13     71     80 ..., 572720 572721 572722] are constant.\n",
      "  UserWarning)\n"
     ]
    },
    {
     "name": "stdout",
     "output_type": "stream",
     "text": [
      "fold: 2\n",
      "fold: 3\n",
      "repetition: 13\n",
      "fold: 1\n",
      "fold: 2\n",
      "fold: 3\n",
      "repetition: 14\n",
      "fold: 1\n",
      "fold: 2\n",
      "fold: 3\n",
      "repetition: 15\n",
      "fold: 1\n",
      "fold: 2\n",
      "fold: 3\n",
      "repetition: 16\n",
      "fold: 1\n",
      "fold: 2\n",
      "fold: 3\n",
      "repetition: 17\n",
      "fold: 1\n",
      "fold: 2\n",
      "fold: 3\n",
      "repetition: 18\n",
      "fold: 1\n",
      "fold: 2\n",
      "fold: 3\n",
      "repetition: 19\n",
      "fold: 1\n",
      "fold: 2\n",
      "fold: 3\n",
      "repetition: 20\n",
      "fold: 1\n",
      "fold: 2\n",
      "fold: 3\n",
      "repetition: 21\n",
      "fold: 1\n",
      "fold: 2\n",
      "fold: 3\n",
      "repetition: 22\n",
      "fold: 1\n",
      "fold: 2\n",
      "fold: 3\n",
      "repetition: 23\n",
      "fold: 1\n",
      "fold: 2\n",
      "fold: 3\n",
      "repetition: 24\n",
      "fold: 1\n",
      "fold: 2\n",
      "fold: 3\n",
      "repetition: 25\n",
      "fold: 1\n",
      "fold: 2\n",
      "fold: 3\n",
      "repetition: 26\n",
      "fold: 1\n",
      "fold: 2\n",
      "fold: 3\n",
      "repetition: 27\n",
      "fold: 1\n",
      "fold: 2\n",
      "fold: 3\n",
      "repetition: 28\n",
      "fold: 1\n",
      "fold: 2\n",
      "fold: 3\n",
      "repetition: 29\n",
      "fold: 1\n",
      "fold: 2\n",
      "fold: 3\n",
      "repetition: 30\n",
      "fold: 1\n",
      "fold: 2\n",
      "fold: 3\n",
      "repetition: 31\n",
      "fold: 1\n",
      "fold: 2\n",
      "fold: 3\n",
      "repetition: 32\n",
      "fold: 1\n",
      "fold: 2\n",
      "fold: 3\n",
      "repetition: 33\n",
      "fold: 1\n",
      "fold: 2\n",
      "fold: 3\n",
      "F_mean: 0.455249569707\n",
      "AUC_mean: 0.596450977698\n",
      "PRECISION_mean: 0.392433234421\n",
      "RECALL_mean: 0.542008196721\n",
      "SPECIFICITY_mean: 0.453635757171\n",
      "percentage: 0.473050505051\n",
      "repetition: 1\n",
      "fold: 1\n"
     ]
    },
    {
     "name": "stderr",
     "output_type": "stream",
     "text": [
      "/usr/local/lib/python3.4/dist-packages/sklearn/feature_selection/univariate_selection.py:113: UserWarning: Features [    13     99    274 ..., 572703 572708 572709] are constant.\n",
      "  UserWarning)\n"
     ]
    },
    {
     "name": "stdout",
     "output_type": "stream",
     "text": [
      "fold: 2\n",
      "fold: 3\n",
      "repetition: 2\n",
      "fold: 1\n",
      "fold: 2\n"
     ]
    },
    {
     "name": "stderr",
     "output_type": "stream",
     "text": [
      "/usr/local/lib/python3.4/dist-packages/sklearn/feature_selection/univariate_selection.py:113: UserWarning: Features [     5     13     90 ..., 572728 572729 572730] are constant.\n",
      "  UserWarning)\n"
     ]
    },
    {
     "name": "stdout",
     "output_type": "stream",
     "text": [
      "fold: 3\n",
      "repetition: 3\n",
      "fold: 1\n",
      "fold: 2\n",
      "fold: 3\n"
     ]
    },
    {
     "name": "stderr",
     "output_type": "stream",
     "text": [
      "/usr/local/lib/python3.4/dist-packages/sklearn/feature_selection/univariate_selection.py:113: UserWarning: Features [    13     99    386 ..., 572728 572729 572730] are constant.\n",
      "  UserWarning)\n"
     ]
    },
    {
     "name": "stdout",
     "output_type": "stream",
     "text": [
      "repetition: 4\n",
      "fold: 1\n",
      "fold: 2\n",
      "fold: 3\n",
      "repetition: 5\n",
      "fold: 1\n",
      "fold: 2\n",
      "fold: 3\n",
      "repetition: 6\n",
      "fold: 1\n",
      "fold: 2\n",
      "fold: 3\n",
      "repetition: 7\n",
      "fold: 1\n",
      "fold: 2\n",
      "fold: 3\n",
      "repetition: 8\n",
      "fold: 1\n"
     ]
    },
    {
     "name": "stderr",
     "output_type": "stream",
     "text": [
      "/usr/local/lib/python3.4/dist-packages/sklearn/feature_selection/univariate_selection.py:113: UserWarning: Features [    13     99    290 ..., 572596 572621 572634] are constant.\n",
      "  UserWarning)\n"
     ]
    },
    {
     "name": "stdout",
     "output_type": "stream",
     "text": [
      "fold: 2\n",
      "fold: 3\n",
      "repetition: 9\n",
      "fold: 1\n",
      "fold: 2\n",
      "fold: 3\n",
      "repetition: 10\n",
      "fold: 1\n",
      "fold: 2\n",
      "fold: 3\n",
      "repetition: 11\n",
      "fold: 1\n",
      "fold: 2\n",
      "fold: 3\n",
      "repetition: 12\n",
      "fold: 1\n",
      "fold: 2\n",
      "fold: 3\n",
      "repetition: 13\n",
      "fold: 1\n",
      "fold: 2\n",
      "fold: 3\n",
      "repetition: 14\n",
      "fold: 1\n",
      "fold: 2\n"
     ]
    },
    {
     "name": "stderr",
     "output_type": "stream",
     "text": [
      "/usr/local/lib/python3.4/dist-packages/sklearn/feature_selection/univariate_selection.py:113: UserWarning: Features [    13     90     99 ..., 572594 572595 572596] are constant.\n",
      "  UserWarning)\n"
     ]
    },
    {
     "name": "stdout",
     "output_type": "stream",
     "text": [
      "fold: 3\n",
      "repetition: 15\n",
      "fold: 1\n",
      "fold: 2\n",
      "fold: 3\n"
     ]
    },
    {
     "name": "stderr",
     "output_type": "stream",
     "text": [
      "/usr/local/lib/python3.4/dist-packages/sklearn/feature_selection/univariate_selection.py:113: UserWarning: Features [    13     80     85 ..., 572480 572509 572684] are constant.\n",
      "  UserWarning)\n"
     ]
    },
    {
     "name": "stdout",
     "output_type": "stream",
     "text": [
      "repetition: 16\n",
      "fold: 1\n"
     ]
    },
    {
     "name": "stderr",
     "output_type": "stream",
     "text": [
      "/usr/local/lib/python3.4/dist-packages/sklearn/feature_selection/univariate_selection.py:113: UserWarning: Features [    13     99    149 ..., 572670 572684 572685] are constant.\n",
      "  UserWarning)\n"
     ]
    },
    {
     "name": "stdout",
     "output_type": "stream",
     "text": [
      "fold: 2\n",
      "fold: 3\n",
      "repetition: 17\n",
      "fold: 1\n",
      "fold: 2\n",
      "fold: 3\n",
      "repetition: 18\n",
      "fold: 1\n",
      "fold: 2\n",
      "fold: 3\n",
      "repetition: 19\n",
      "fold: 1\n",
      "fold: 2\n",
      "fold: 3\n",
      "repetition: 20\n",
      "fold: 1\n",
      "fold: 2\n",
      "fold: 3\n",
      "repetition: 21\n",
      "fold: 1\n",
      "fold: 2\n",
      "fold: 3\n",
      "repetition: 22\n",
      "fold: 1\n",
      "fold: 2\n",
      "fold: 3\n",
      "repetition: 23\n",
      "fold: 1\n"
     ]
    },
    {
     "name": "stderr",
     "output_type": "stream",
     "text": [
      "/usr/local/lib/python3.4/dist-packages/sklearn/feature_selection/univariate_selection.py:113: UserWarning: Features [    13     80     85 ..., 572604 572605 572685] are constant.\n",
      "  UserWarning)\n"
     ]
    },
    {
     "name": "stdout",
     "output_type": "stream",
     "text": [
      "fold: 2\n",
      "fold: 3\n",
      "repetition: 24\n",
      "fold: 1\n",
      "fold: 2\n",
      "fold: 3\n",
      "repetition: 25\n",
      "fold: 1\n",
      "fold: 2\n",
      "fold: 3\n",
      "repetition: 26\n",
      "fold: 1\n",
      "fold: 2\n",
      "fold: 3\n"
     ]
    },
    {
     "name": "stderr",
     "output_type": "stream",
     "text": [
      "/usr/local/lib/python3.4/dist-packages/sklearn/feature_selection/univariate_selection.py:113: UserWarning: Features [    13     71     80 ..., 572615 572662 572677] are constant.\n",
      "  UserWarning)\n"
     ]
    },
    {
     "name": "stdout",
     "output_type": "stream",
     "text": [
      "repetition: 27\n",
      "fold: 1\n",
      "fold: 2\n",
      "fold: 3\n",
      "repetition: 28\n",
      "fold: 1\n",
      "fold: 2\n",
      "fold: 3\n",
      "repetition: 29\n",
      "fold: 1\n",
      "fold: 2\n",
      "fold: 3\n",
      "repetition: 30\n",
      "fold: 1\n",
      "fold: 2\n",
      "fold: 3\n",
      "repetition: 31\n",
      "fold: 1\n",
      "fold: 2\n",
      "fold: 3\n",
      "repetition: 32\n",
      "fold: 1\n",
      "fold: 2\n"
     ]
    },
    {
     "name": "stderr",
     "output_type": "stream",
     "text": [
      "/usr/local/lib/python3.4/dist-packages/sklearn/feature_selection/univariate_selection.py:113: UserWarning: Features [    13     99    196 ..., 572707 572708 572709] are constant.\n",
      "  UserWarning)\n"
     ]
    },
    {
     "name": "stdout",
     "output_type": "stream",
     "text": [
      "fold: 3\n",
      "repetition: 33\n",
      "fold: 1\n",
      "fold: 2\n",
      "fold: 3\n",
      "F_mean: 0.448944420508\n",
      "AUC_mean: 0.572797597842\n",
      "PRECISION_mean: 0.391729323308\n",
      "RECALL_mean: 0.525731584258\n",
      "SPECIFICITY_mean: 0.454851752022\n",
      "percentage: 0.500818181818\n",
      "repetition: 1\n",
      "fold: 1\n",
      "fold: 2\n",
      "fold: 3\n",
      "repetition: 2\n",
      "fold: 1\n",
      "fold: 2\n",
      "fold: 3\n",
      "repetition: 3\n",
      "fold: 1\n",
      "fold: 2\n",
      "fold: 3\n"
     ]
    },
    {
     "name": "stderr",
     "output_type": "stream",
     "text": [
      "/usr/local/lib/python3.4/dist-packages/sklearn/feature_selection/univariate_selection.py:113: UserWarning: Features [    13     99    178 ..., 572703 572708 572709] are constant.\n",
      "  UserWarning)\n"
     ]
    },
    {
     "name": "stdout",
     "output_type": "stream",
     "text": [
      "repetition: 4\n",
      "fold: 1\n",
      "fold: 2\n",
      "fold: 3\n",
      "repetition: 5\n",
      "fold: 1\n",
      "fold: 2\n",
      "fold: 3\n",
      "repetition: 6\n",
      "fold: 1\n",
      "fold: 2\n",
      "fold: 3\n"
     ]
    },
    {
     "name": "stderr",
     "output_type": "stream",
     "text": [
      "/usr/local/lib/python3.4/dist-packages/sklearn/feature_selection/univariate_selection.py:113: UserWarning: Features [    13     99    149 ..., 572686 572708 572709] are constant.\n",
      "  UserWarning)\n"
     ]
    },
    {
     "name": "stdout",
     "output_type": "stream",
     "text": [
      "repetition: 7\n",
      "fold: 1\n",
      "fold: 2\n",
      "fold: 3\n",
      "repetition: 8\n",
      "fold: 1\n",
      "fold: 2\n",
      "fold: 3\n"
     ]
    },
    {
     "name": "stderr",
     "output_type": "stream",
     "text": [
      "/usr/local/lib/python3.4/dist-packages/sklearn/feature_selection/univariate_selection.py:113: UserWarning: Features [    13     99    204 ..., 572553 572621 572634] are constant.\n",
      "  UserWarning)\n"
     ]
    },
    {
     "name": "stdout",
     "output_type": "stream",
     "text": [
      "repetition: 9\n",
      "fold: 1\n",
      "fold: 2\n",
      "fold: 3\n"
     ]
    },
    {
     "name": "stderr",
     "output_type": "stream",
     "text": [
      "/usr/local/lib/python3.4/dist-packages/sklearn/feature_selection/univariate_selection.py:113: UserWarning: Features [    13     99    204 ..., 572685 572708 572709] are constant.\n",
      "  UserWarning)\n"
     ]
    },
    {
     "name": "stdout",
     "output_type": "stream",
     "text": [
      "repetition: 10\n",
      "fold: 1\n",
      "fold: 2\n",
      "fold: 3\n",
      "repetition: 11\n",
      "fold: 1\n",
      "fold: 2\n",
      "fold: 3\n",
      "repetition: 12\n",
      "fold: 1\n",
      "fold: 2\n",
      "fold: 3\n",
      "repetition: 13\n",
      "fold: 1\n",
      "fold: 2\n",
      "fold: 3\n",
      "repetition: 14\n",
      "fold: 1\n",
      "fold: 2\n",
      "fold: 3\n",
      "repetition: 15\n",
      "fold: 1\n"
     ]
    },
    {
     "name": "stderr",
     "output_type": "stream",
     "text": [
      "/usr/local/lib/python3.4/dist-packages/sklearn/feature_selection/univariate_selection.py:113: UserWarning: Features [    13     80     85 ..., 572536 572554 572685] are constant.\n",
      "  UserWarning)\n"
     ]
    },
    {
     "name": "stdout",
     "output_type": "stream",
     "text": [
      "fold: 2\n",
      "fold: 3\n",
      "repetition: 16\n",
      "fold: 1\n",
      "fold: 2\n",
      "fold: 3\n",
      "repetition: 17\n",
      "fold: 1\n"
     ]
    },
    {
     "name": "stderr",
     "output_type": "stream",
     "text": [
      "/usr/local/lib/python3.4/dist-packages/sklearn/feature_selection/univariate_selection.py:113: UserWarning: Features [    13     99    274 ..., 572704 572708 572709] are constant.\n",
      "  UserWarning)\n"
     ]
    },
    {
     "name": "stdout",
     "output_type": "stream",
     "text": [
      "fold: 2\n",
      "fold: 3\n",
      "repetition: 18\n",
      "fold: 1\n",
      "fold: 2\n",
      "fold: 3\n"
     ]
    },
    {
     "name": "stderr",
     "output_type": "stream",
     "text": [
      "/usr/local/lib/python3.4/dist-packages/sklearn/feature_selection/univariate_selection.py:113: UserWarning: Features [    13     99    149 ..., 572596 572708 572709] are constant.\n",
      "  UserWarning)\n"
     ]
    },
    {
     "name": "stdout",
     "output_type": "stream",
     "text": [
      "repetition: 19\n",
      "fold: 1\n",
      "fold: 2\n",
      "fold: 3\n"
     ]
    },
    {
     "name": "stderr",
     "output_type": "stream",
     "text": [
      "/usr/local/lib/python3.4/dist-packages/sklearn/feature_selection/univariate_selection.py:113: UserWarning: Features [    13     99    282 ..., 572677 572708 572709] are constant.\n",
      "  UserWarning)\n"
     ]
    },
    {
     "name": "stdout",
     "output_type": "stream",
     "text": [
      "repetition: 20\n",
      "fold: 1\n",
      "fold: 2\n",
      "fold: 3\n",
      "repetition: 21\n",
      "fold: 1\n",
      "fold: 2\n",
      "fold: 3\n",
      "repetition: 22\n",
      "fold: 1\n",
      "fold: 2\n",
      "fold: 3\n",
      "repetition: 23\n",
      "fold: 1\n",
      "fold: 2\n",
      "fold: 3\n",
      "repetition: 24\n",
      "fold: 1\n",
      "fold: 2\n",
      "fold: 3\n",
      "repetition: 25\n",
      "fold: 1\n",
      "fold: 2\n",
      "fold: 3\n",
      "repetition: 26\n",
      "fold: 1\n",
      "fold: 2\n",
      "fold: 3\n"
     ]
    },
    {
     "name": "stderr",
     "output_type": "stream",
     "text": [
      "/usr/local/lib/python3.4/dist-packages/sklearn/feature_selection/univariate_selection.py:113: UserWarning: Features [    13     99    305 ..., 572703 572708 572709] are constant.\n",
      "  UserWarning)\n"
     ]
    },
    {
     "name": "stdout",
     "output_type": "stream",
     "text": [
      "repetition: 27\n",
      "fold: 1\n",
      "fold: 2\n",
      "fold: 3\n",
      "repetition: 28\n",
      "fold: 1\n",
      "fold: 2\n",
      "fold: 3\n",
      "repetition: 29\n",
      "fold: 1\n",
      "fold: 2\n",
      "fold: 3\n",
      "repetition: 30\n",
      "fold: 1\n",
      "fold: 2\n",
      "fold: 3\n",
      "repetition: 31\n",
      "fold: 1\n",
      "fold: 2\n",
      "fold: 3\n",
      "repetition: 32\n",
      "fold: 1\n",
      "fold: 2\n"
     ]
    },
    {
     "name": "stderr",
     "output_type": "stream",
     "text": [
      "/usr/local/lib/python3.4/dist-packages/sklearn/feature_selection/univariate_selection.py:113: UserWarning: Features [    13     80     85 ..., 572621 572634 572685] are constant.\n",
      "  UserWarning)\n"
     ]
    },
    {
     "name": "stdout",
     "output_type": "stream",
     "text": [
      "fold: 3\n",
      "repetition: 33\n",
      "fold: 1\n",
      "fold: 2\n"
     ]
    },
    {
     "name": "stderr",
     "output_type": "stream",
     "text": [
      "/usr/local/lib/python3.4/dist-packages/sklearn/feature_selection/univariate_selection.py:113: UserWarning: Features [    13     99    149 ..., 572536 572554 572684] are constant.\n",
      "  UserWarning)\n"
     ]
    },
    {
     "name": "stdout",
     "output_type": "stream",
     "text": [
      "fold: 3\n",
      "F_mean: 0.45501285347\n",
      "AUC_mean: 0.58284139192\n",
      "PRECISION_mean: 0.402577710387\n",
      "RECALL_mean: 0.52315270936\n",
      "SPECIFICITY_mean: 0.460273972603\n",
      "percentage: 0.528585858586\n",
      "repetition: 1\n",
      "fold: 1\n",
      "fold: 2\n",
      "fold: 3\n",
      "repetition: 2\n",
      "fold: 1\n",
      "fold: 2\n",
      "fold: 3\n"
     ]
    },
    {
     "name": "stderr",
     "output_type": "stream",
     "text": [
      "/usr/local/lib/python3.4/dist-packages/sklearn/feature_selection/univariate_selection.py:113: UserWarning: Features [    13     99    344 ..., 572704 572708 572709] are constant.\n",
      "  UserWarning)\n"
     ]
    },
    {
     "name": "stdout",
     "output_type": "stream",
     "text": [
      "repetition: 3\n",
      "fold: 1\n",
      "fold: 2\n",
      "fold: 3\n",
      "repetition: 4\n",
      "fold: 1\n",
      "fold: 2\n",
      "fold: 3\n",
      "repetition: 5\n",
      "fold: 1\n",
      "fold: 2\n",
      "fold: 3\n",
      "repetition: 6\n",
      "fold: 1\n",
      "fold: 2\n",
      "fold: 3\n",
      "repetition: 7\n",
      "fold: 1\n",
      "fold: 2\n",
      "fold: 3\n",
      "repetition: 8\n",
      "fold: 1\n",
      "fold: 2\n",
      "fold: 3\n",
      "repetition: 9\n",
      "fold: 1\n",
      "fold: 2\n",
      "fold: 3\n",
      "repetition: 10\n",
      "fold: 1\n",
      "fold: 2\n",
      "fold: 3\n",
      "repetition: 11\n",
      "fold: 1\n",
      "fold: 2\n",
      "fold: 3\n",
      "repetition: 12\n",
      "fold: 1\n",
      "fold: 2\n",
      "fold: 3\n",
      "repetition: 13\n",
      "fold: 1\n",
      "fold: 2\n",
      "fold: 3\n",
      "repetition: 14\n",
      "fold: 1\n",
      "fold: 2\n",
      "fold: 3\n",
      "repetition: 15\n",
      "fold: 1\n",
      "fold: 2\n"
     ]
    },
    {
     "name": "stderr",
     "output_type": "stream",
     "text": [
      "/usr/local/lib/python3.4/dist-packages/sklearn/feature_selection/univariate_selection.py:113: UserWarning: Features [    13     99    149 ..., 572677 572685 572704] are constant.\n",
      "  UserWarning)\n"
     ]
    },
    {
     "name": "stdout",
     "output_type": "stream",
     "text": [
      "fold: 3\n",
      "repetition: 16\n",
      "fold: 1\n",
      "fold: 2\n",
      "fold: 3\n",
      "repetition: 17\n",
      "fold: 1\n",
      "fold: 2\n",
      "fold: 3\n"
     ]
    },
    {
     "name": "stderr",
     "output_type": "stream",
     "text": [
      "/usr/local/lib/python3.4/dist-packages/sklearn/feature_selection/univariate_selection.py:113: UserWarning: Features [     4     13     90 ..., 572588 572708 572709] are constant.\n",
      "  UserWarning)\n"
     ]
    },
    {
     "name": "stdout",
     "output_type": "stream",
     "text": [
      "repetition: 18\n",
      "fold: 1\n",
      "fold: 2\n"
     ]
    },
    {
     "name": "stderr",
     "output_type": "stream",
     "text": [
      "/usr/local/lib/python3.4/dist-packages/sklearn/feature_selection/univariate_selection.py:113: UserWarning: Features [     4     13     90 ..., 572595 572596 572684] are constant.\n",
      "  UserWarning)\n"
     ]
    },
    {
     "name": "stdout",
     "output_type": "stream",
     "text": [
      "fold: 3\n",
      "repetition: 19\n",
      "fold: 1\n",
      "fold: 2\n",
      "fold: 3\n"
     ]
    },
    {
     "name": "stderr",
     "output_type": "stream",
     "text": [
      "/usr/local/lib/python3.4/dist-packages/sklearn/feature_selection/univariate_selection.py:113: UserWarning: Features [     4     13     90 ..., 572703 572708 572709] are constant.\n",
      "  UserWarning)\n"
     ]
    },
    {
     "name": "stdout",
     "output_type": "stream",
     "text": [
      "repetition: 20\n",
      "fold: 1\n"
     ]
    },
    {
     "name": "stderr",
     "output_type": "stream",
     "text": [
      "/usr/local/lib/python3.4/dist-packages/sklearn/feature_selection/univariate_selection.py:113: UserWarning: Features [    13     99    264 ..., 572685 572704 572705] are constant.\n",
      "  UserWarning)\n"
     ]
    },
    {
     "name": "stdout",
     "output_type": "stream",
     "text": [
      "fold: 2\n",
      "fold: 3\n",
      "repetition: 21\n",
      "fold: 1\n",
      "fold: 2\n",
      "fold: 3\n",
      "repetition: 22\n",
      "fold: 1\n",
      "fold: 2\n",
      "fold: 3\n",
      "repetition: 23\n",
      "fold: 1\n",
      "fold: 2\n",
      "fold: 3\n"
     ]
    },
    {
     "name": "stderr",
     "output_type": "stream",
     "text": [
      "/usr/local/lib/python3.4/dist-packages/sklearn/feature_selection/univariate_selection.py:113: UserWarning: Features [     4     13     90 ..., 572481 572536 572554] are constant.\n",
      "  UserWarning)\n"
     ]
    },
    {
     "name": "stdout",
     "output_type": "stream",
     "text": [
      "repetition: 24\n",
      "fold: 1\n",
      "fold: 2\n"
     ]
    },
    {
     "name": "stderr",
     "output_type": "stream",
     "text": [
      "/usr/local/lib/python3.4/dist-packages/sklearn/feature_selection/univariate_selection.py:113: UserWarning: Features [     4     13     80 ..., 572707 572708 572709] are constant.\n",
      "  UserWarning)\n"
     ]
    },
    {
     "name": "stdout",
     "output_type": "stream",
     "text": [
      "fold: 3\n",
      "repetition: 25\n",
      "fold: 1\n",
      "fold: 2\n",
      "fold: 3\n",
      "repetition: 26\n",
      "fold: 1\n",
      "fold: 2\n",
      "fold: 3\n",
      "repetition: 27\n",
      "fold: 1\n",
      "fold: 2\n",
      "fold: 3\n",
      "repetition: 28\n",
      "fold: 1\n",
      "fold: 2\n",
      "fold: 3\n",
      "repetition: 29\n",
      "fold: 1\n",
      "fold: 2\n",
      "fold: 3\n",
      "repetition: 30\n",
      "fold: 1\n",
      "fold: 2\n",
      "fold: 3\n"
     ]
    },
    {
     "name": "stderr",
     "output_type": "stream",
     "text": [
      "/usr/local/lib/python3.4/dist-packages/sklearn/feature_selection/univariate_selection.py:113: UserWarning: Features [     4     13     80 ..., 572594 572595 572596] are constant.\n",
      "  UserWarning)\n"
     ]
    },
    {
     "name": "stdout",
     "output_type": "stream",
     "text": [
      "repetition: 31\n",
      "fold: 1\n"
     ]
    },
    {
     "name": "stderr",
     "output_type": "stream",
     "text": [
      "/usr/local/lib/python3.4/dist-packages/sklearn/feature_selection/univariate_selection.py:113: UserWarning: Features [    13     99    290 ..., 572712 572713 572714] are constant.\n",
      "  UserWarning)\n"
     ]
    },
    {
     "name": "stdout",
     "output_type": "stream",
     "text": [
      "fold: 2\n",
      "fold: 3\n",
      "repetition: 32\n",
      "fold: 1\n",
      "fold: 2\n"
     ]
    },
    {
     "name": "stderr",
     "output_type": "stream",
     "text": [
      "/usr/local/lib/python3.4/dist-packages/sklearn/feature_selection/univariate_selection.py:113: UserWarning: Features [    13     99    149 ..., 572615 572662 572677] are constant.\n",
      "  UserWarning)\n"
     ]
    },
    {
     "name": "stdout",
     "output_type": "stream",
     "text": [
      "fold: 3\n",
      "repetition: 33\n",
      "fold: 1\n"
     ]
    },
    {
     "name": "stderr",
     "output_type": "stream",
     "text": [
      "/usr/local/lib/python3.4/dist-packages/sklearn/feature_selection/univariate_selection.py:113: UserWarning: Features [    13     80     85 ..., 572634 572662 572677] are constant.\n",
      "  UserWarning)\n"
     ]
    },
    {
     "name": "stdout",
     "output_type": "stream",
     "text": [
      "fold: 2\n",
      "fold: 3\n",
      "F_mean: 0.473090277778\n",
      "AUC_mean: 0.58557742403\n",
      "PRECISION_mean: 0.417944785276\n",
      "RECALL_mean: 0.545\n",
      "SPECIFICITY_mean: 0.485423728814\n",
      "percentage: 0.556353535354\n",
      "repetition: 1\n",
      "fold: 1\n",
      "fold: 2\n",
      "fold: 3\n",
      "repetition: 2\n",
      "fold: 1\n",
      "fold: 2\n"
     ]
    },
    {
     "name": "stderr",
     "output_type": "stream",
     "text": [
      "/usr/local/lib/python3.4/dist-packages/sklearn/feature_selection/univariate_selection.py:113: UserWarning: Features [    13     90     99 ..., 572553 572554 572704] are constant.\n",
      "  UserWarning)\n"
     ]
    },
    {
     "name": "stdout",
     "output_type": "stream",
     "text": [
      "fold: 3\n",
      "repetition: 3\n",
      "fold: 1\n",
      "fold: 2\n",
      "fold: 3\n",
      "repetition: 4\n",
      "fold: 1\n",
      "fold: 2\n",
      "fold: 3\n",
      "repetition: 5\n",
      "fold: 1\n",
      "fold: 2\n",
      "fold: 3\n"
     ]
    },
    {
     "name": "stderr",
     "output_type": "stream",
     "text": [
      "/usr/local/lib/python3.4/dist-packages/sklearn/feature_selection/univariate_selection.py:113: UserWarning: Features [    13     99    178 ..., 572596 572621 572634] are constant.\n",
      "  UserWarning)\n"
     ]
    },
    {
     "name": "stdout",
     "output_type": "stream",
     "text": [
      "repetition: 6\n",
      "fold: 1\n",
      "fold: 2\n",
      "fold: 3\n",
      "repetition: 7\n",
      "fold: 1\n",
      "fold: 2\n",
      "fold: 3\n",
      "repetition: 8\n",
      "fold: 1\n",
      "fold: 2\n",
      "fold: 3\n",
      "repetition: 9\n",
      "fold: 1\n",
      "fold: 2\n",
      "fold: 3\n",
      "repetition: 10\n",
      "fold: 1\n",
      "fold: 2\n",
      "fold: 3\n",
      "repetition: 11\n",
      "fold: 1\n",
      "fold: 2\n",
      "fold: 3\n",
      "repetition: 12\n",
      "fold: 1\n",
      "fold: 2\n",
      "fold: 3\n",
      "repetition: 13\n",
      "fold: 1\n",
      "fold: 2\n",
      "fold: 3\n",
      "repetition: 14\n",
      "fold: 1\n",
      "fold: 2\n",
      "fold: 3\n",
      "repetition: 15\n",
      "fold: 1\n",
      "fold: 2\n",
      "fold: 3\n",
      "repetition: 16\n",
      "fold: 1\n",
      "fold: 2\n",
      "fold: 3\n",
      "repetition: 17\n",
      "fold: 1\n",
      "fold: 2\n",
      "fold: 3\n",
      "repetition: 18\n",
      "fold: 1\n",
      "fold: 2\n",
      "fold: 3\n",
      "repetition: 19\n",
      "fold: 1\n",
      "fold: 2\n",
      "fold: 3\n",
      "repetition: 20\n",
      "fold: 1\n",
      "fold: 2\n",
      "fold: 3\n",
      "repetition: 21\n",
      "fold: 1\n",
      "fold: 2\n",
      "fold: 3\n",
      "repetition: 22\n",
      "fold: 1\n"
     ]
    },
    {
     "name": "stderr",
     "output_type": "stream",
     "text": [
      "/usr/local/lib/python3.4/dist-packages/sklearn/feature_selection/univariate_selection.py:113: UserWarning: Features [     4     13     90 ..., 572461 572536 572554] are constant.\n",
      "  UserWarning)\n"
     ]
    },
    {
     "name": "stdout",
     "output_type": "stream",
     "text": [
      "fold: 2\n",
      "fold: 3\n",
      "repetition: 23\n",
      "fold: 1\n",
      "fold: 2\n",
      "fold: 3\n"
     ]
    },
    {
     "name": "stderr",
     "output_type": "stream",
     "text": [
      "/usr/local/lib/python3.4/dist-packages/sklearn/feature_selection/univariate_selection.py:113: UserWarning: Features [    13     99    196 ..., 572720 572721 572722] are constant.\n",
      "  UserWarning)\n"
     ]
    },
    {
     "name": "stdout",
     "output_type": "stream",
     "text": [
      "repetition: 24\n",
      "fold: 1\n",
      "fold: 2\n",
      "fold: 3\n",
      "repetition: 25\n",
      "fold: 1\n",
      "fold: 2\n",
      "fold: 3\n",
      "repetition: 26\n",
      "fold: 1\n",
      "fold: 2\n",
      "fold: 3\n",
      "repetition: 27\n",
      "fold: 1\n",
      "fold: 2\n",
      "fold: 3\n",
      "repetition: 28\n",
      "fold: 1\n",
      "fold: 2\n"
     ]
    },
    {
     "name": "stderr",
     "output_type": "stream",
     "text": [
      "/usr/local/lib/python3.4/dist-packages/sklearn/feature_selection/univariate_selection.py:113: UserWarning: Features [     4     13     80 ..., 572692 572702 572703] are constant.\n",
      "  UserWarning)\n"
     ]
    },
    {
     "name": "stdout",
     "output_type": "stream",
     "text": [
      "fold: 3\n",
      "repetition: 29\n",
      "fold: 1\n",
      "fold: 2\n",
      "fold: 3\n",
      "repetition: 30\n",
      "fold: 1\n",
      "fold: 2\n"
     ]
    },
    {
     "name": "stderr",
     "output_type": "stream",
     "text": [
      "/usr/local/lib/python3.4/dist-packages/sklearn/feature_selection/univariate_selection.py:113: UserWarning: Features [    13     99    274 ..., 572662 572677 572685] are constant.\n",
      "  UserWarning)\n"
     ]
    },
    {
     "name": "stdout",
     "output_type": "stream",
     "text": [
      "fold: 3\n",
      "repetition: 31\n",
      "fold: 1\n",
      "fold: 2\n",
      "fold: 3\n",
      "repetition: 32\n",
      "fold: 1\n",
      "fold: 2\n",
      "fold: 3\n",
      "repetition: 33\n",
      "fold: 1\n",
      "fold: 2\n",
      "fold: 3\n",
      "F_mean: 0.459808413161\n",
      "AUC_mean: 0.57579845333\n",
      "PRECISION_mean: 0.399421128799\n",
      "RECALL_mean: 0.541707556428\n",
      "SPECIFICITY_mean: 0.429945054945\n",
      "percentage: 0.584121212121\n",
      "repetition: 1\n",
      "fold: 1\n",
      "fold: 2\n",
      "fold: 3\n"
     ]
    },
    {
     "name": "stderr",
     "output_type": "stream",
     "text": [
      "/usr/local/lib/python3.4/dist-packages/sklearn/feature_selection/univariate_selection.py:113: UserWarning: Features [    13     71     99 ..., 572481 572621 572634] are constant.\n",
      "  UserWarning)\n"
     ]
    },
    {
     "name": "stdout",
     "output_type": "stream",
     "text": [
      "repetition: 2\n",
      "fold: 1\n",
      "fold: 2\n",
      "fold: 3\n",
      "repetition: 3\n",
      "fold: 1\n",
      "fold: 2\n",
      "fold: 3\n",
      "repetition: 4\n",
      "fold: 1\n"
     ]
    },
    {
     "name": "stderr",
     "output_type": "stream",
     "text": [
      "/usr/local/lib/python3.4/dist-packages/sklearn/feature_selection/univariate_selection.py:113: UserWarning: Features [    13     90     99 ..., 572605 572708 572709] are constant.\n",
      "  UserWarning)\n"
     ]
    },
    {
     "name": "stdout",
     "output_type": "stream",
     "text": [
      "fold: 2\n",
      "fold: 3\n",
      "repetition: 5\n",
      "fold: 1\n",
      "fold: 2\n",
      "fold: 3\n",
      "repetition: 6\n",
      "fold: 1\n",
      "fold: 2\n",
      "fold: 3\n"
     ]
    },
    {
     "name": "stderr",
     "output_type": "stream",
     "text": [
      "/usr/local/lib/python3.4/dist-packages/sklearn/feature_selection/univariate_selection.py:113: UserWarning: Features [    13     99    204 ..., 572677 572708 572709] are constant.\n",
      "  UserWarning)\n"
     ]
    },
    {
     "name": "stdout",
     "output_type": "stream",
     "text": [
      "repetition: 7\n",
      "fold: 1\n"
     ]
    },
    {
     "name": "stderr",
     "output_type": "stream",
     "text": [
      "/usr/local/lib/python3.4/dist-packages/sklearn/feature_selection/univariate_selection.py:113: UserWarning: Features [    13     99    204 ..., 572621 572634 572685] are constant.\n",
      "  UserWarning)\n"
     ]
    },
    {
     "name": "stdout",
     "output_type": "stream",
     "text": [
      "fold: 2\n",
      "fold: 3\n",
      "repetition: 8\n",
      "fold: 1\n",
      "fold: 2\n",
      "fold: 3\n",
      "repetition: 9\n",
      "fold: 1\n",
      "fold: 2\n",
      "fold: 3\n",
      "repetition: 10\n",
      "fold: 1\n",
      "fold: 2\n",
      "fold: 3\n",
      "repetition: 11\n",
      "fold: 1\n",
      "fold: 2\n",
      "fold: 3\n",
      "repetition: 12\n",
      "fold: 1\n",
      "fold: 2\n",
      "fold: 3\n",
      "repetition: 13\n",
      "fold: 1\n"
     ]
    },
    {
     "name": "stderr",
     "output_type": "stream",
     "text": [
      "/usr/local/lib/python3.4/dist-packages/sklearn/feature_selection/univariate_selection.py:113: UserWarning: Features [    13     99    349 ..., 572733 572736 572737] are constant.\n",
      "  UserWarning)\n"
     ]
    },
    {
     "name": "stdout",
     "output_type": "stream",
     "text": [
      "fold: 2\n",
      "fold: 3\n"
     ]
    },
    {
     "name": "stderr",
     "output_type": "stream",
     "text": [
      "/usr/local/lib/python3.4/dist-packages/sklearn/feature_selection/univariate_selection.py:113: UserWarning: Features [    13     91     99 ..., 572712 572713 572714] are constant.\n",
      "  UserWarning)\n"
     ]
    },
    {
     "name": "stdout",
     "output_type": "stream",
     "text": [
      "repetition: 14\n",
      "fold: 1\n",
      "fold: 2\n",
      "fold: 3\n",
      "repetition: 15\n",
      "fold: 1\n",
      "fold: 2\n",
      "fold: 3\n",
      "repetition: 16\n",
      "fold: 1\n",
      "fold: 2\n"
     ]
    },
    {
     "name": "stderr",
     "output_type": "stream",
     "text": [
      "/usr/local/lib/python3.4/dist-packages/sklearn/feature_selection/univariate_selection.py:113: UserWarning: Features [    13     72     99 ..., 572677 572708 572709] are constant.\n",
      "  UserWarning)\n"
     ]
    },
    {
     "name": "stdout",
     "output_type": "stream",
     "text": [
      "fold: 3\n",
      "repetition: 17\n",
      "fold: 1\n",
      "fold: 2\n",
      "fold: 3\n",
      "repetition: 18\n",
      "fold: 1\n",
      "fold: 2\n",
      "fold: 3\n",
      "repetition: 19\n",
      "fold: 1\n",
      "fold: 2\n",
      "fold: 3\n"
     ]
    },
    {
     "name": "stderr",
     "output_type": "stream",
     "text": [
      "/usr/local/lib/python3.4/dist-packages/sklearn/feature_selection/univariate_selection.py:113: UserWarning: Features [    13     99    178 ..., 572670 572677 572685] are constant.\n",
      "  UserWarning)\n"
     ]
    },
    {
     "name": "stdout",
     "output_type": "stream",
     "text": [
      "repetition: 20\n",
      "fold: 1\n",
      "fold: 2\n",
      "fold: 3\n",
      "repetition: 21\n",
      "fold: 1\n",
      "fold: 2\n",
      "fold: 3\n",
      "repetition: 22\n",
      "fold: 1\n",
      "fold: 2\n",
      "fold: 3\n",
      "repetition: 23\n",
      "fold: 1\n",
      "fold: 2\n",
      "fold: 3\n",
      "repetition: 24\n",
      "fold: 1\n",
      "fold: 2\n",
      "fold: 3\n",
      "repetition: 25\n",
      "fold: 1\n",
      "fold: 2\n",
      "fold: 3\n",
      "repetition: 26\n",
      "fold: 1\n",
      "fold: 2\n"
     ]
    },
    {
     "name": "stderr",
     "output_type": "stream",
     "text": [
      "/usr/local/lib/python3.4/dist-packages/sklearn/feature_selection/univariate_selection.py:113: UserWarning: Features [     4     13     90 ..., 572510 572528 572684] are constant.\n",
      "  UserWarning)\n"
     ]
    },
    {
     "name": "stdout",
     "output_type": "stream",
     "text": [
      "fold: 3\n",
      "repetition: 27\n",
      "fold: 1\n",
      "fold: 2\n",
      "fold: 3\n",
      "repetition: 28\n",
      "fold: 1\n",
      "fold: 2\n",
      "fold: 3\n",
      "repetition: 29\n",
      "fold: 1\n",
      "fold: 2\n",
      "fold: 3\n",
      "repetition: 30\n",
      "fold: 1\n",
      "fold: 2\n",
      "fold: 3\n",
      "repetition: 31\n",
      "fold: 1\n",
      "fold: 2\n",
      "fold: 3\n",
      "repetition: 32\n",
      "fold: 1\n",
      "fold: 2\n"
     ]
    },
    {
     "name": "stderr",
     "output_type": "stream",
     "text": [
      "/usr/local/lib/python3.4/dist-packages/sklearn/feature_selection/univariate_selection.py:113: UserWarning: Features [    13     80     85 ..., 572605 572708 572709] are constant.\n",
      "  UserWarning)\n"
     ]
    },
    {
     "name": "stdout",
     "output_type": "stream",
     "text": [
      "fold: 3\n",
      "repetition: 33\n",
      "fold: 1\n",
      "fold: 2\n",
      "fold: 3\n",
      "F_mean: 0.448186528497\n",
      "AUC_mean: 0.57750464201\n",
      "PRECISION_mean: 0.397092578424\n",
      "RECALL_mean: 0.514370664024\n",
      "SPECIFICITY_mean: 0.462482946794\n",
      "percentage: 0.611888888889\n",
      "repetition: 1\n",
      "fold: 1\n",
      "fold: 2\n",
      "fold: 3\n",
      "repetition: 2\n",
      "fold: 1\n",
      "fold: 2\n",
      "fold: 3\n",
      "repetition: 3\n",
      "fold: 1\n",
      "fold: 2\n",
      "fold: 3\n",
      "repetition: 4\n",
      "fold: 1\n",
      "fold: 2\n"
     ]
    },
    {
     "name": "stderr",
     "output_type": "stream",
     "text": [
      "/usr/local/lib/python3.4/dist-packages/sklearn/feature_selection/univariate_selection.py:113: UserWarning: Features [    13     80     85 ..., 572670 572684 572685] are constant.\n",
      "  UserWarning)\n"
     ]
    },
    {
     "name": "stdout",
     "output_type": "stream",
     "text": [
      "fold: 3\n",
      "repetition: 5\n",
      "fold: 1\n",
      "fold: 2\n",
      "fold: 3\n",
      "repetition: 6\n",
      "fold: 1\n",
      "fold: 2\n",
      "fold: 3\n",
      "repetition: 7\n",
      "fold: 1\n",
      "fold: 2\n",
      "fold: 3\n",
      "repetition: 8\n",
      "fold: 1\n",
      "fold: 2\n",
      "fold: 3\n",
      "repetition: 9\n",
      "fold: 1\n",
      "fold: 2\n",
      "fold: 3\n",
      "repetition: 10\n",
      "fold: 1\n",
      "fold: 2\n",
      "fold: 3\n",
      "repetition: 11\n",
      "fold: 1\n",
      "fold: 2\n",
      "fold: 3\n",
      "repetition: 12\n",
      "fold: 1\n",
      "fold: 2\n",
      "fold: 3\n",
      "repetition: 13\n",
      "fold: 1\n"
     ]
    },
    {
     "name": "stderr",
     "output_type": "stream",
     "text": [
      "/usr/local/lib/python3.4/dist-packages/sklearn/feature_selection/univariate_selection.py:113: UserWarning: Features [    13     71     99 ..., 572731 572732 572735] are constant.\n",
      "  UserWarning)\n"
     ]
    },
    {
     "name": "stdout",
     "output_type": "stream",
     "text": [
      "fold: 2\n",
      "fold: 3\n",
      "repetition: 14\n",
      "fold: 1\n",
      "fold: 2\n",
      "fold: 3\n",
      "repetition: 15\n",
      "fold: 1\n"
     ]
    },
    {
     "name": "stderr",
     "output_type": "stream",
     "text": [
      "/usr/local/lib/python3.4/dist-packages/sklearn/feature_selection/univariate_selection.py:113: UserWarning: Features [    13     99    274 ..., 572621 572634 572684] are constant.\n",
      "  UserWarning)\n"
     ]
    },
    {
     "name": "stdout",
     "output_type": "stream",
     "text": [
      "fold: 2\n",
      "fold: 3\n",
      "repetition: 16\n",
      "fold: 1\n",
      "fold: 2\n",
      "fold: 3\n",
      "repetition: 17\n",
      "fold: 1\n",
      "fold: 2\n",
      "fold: 3\n",
      "repetition: 18\n",
      "fold: 1\n",
      "fold: 2\n",
      "fold: 3\n",
      "repetition: 19\n",
      "fold: 1\n"
     ]
    },
    {
     "name": "stderr",
     "output_type": "stream",
     "text": [
      "/usr/local/lib/python3.4/dist-packages/sklearn/feature_selection/univariate_selection.py:113: UserWarning: Features [    13     99    273 ..., 572712 572713 572714] are constant.\n",
      "  UserWarning)\n"
     ]
    },
    {
     "name": "stdout",
     "output_type": "stream",
     "text": [
      "fold: 2\n",
      "fold: 3\n",
      "repetition: 20\n",
      "fold: 1\n",
      "fold: 2\n",
      "fold: 3\n",
      "repetition: 21\n",
      "fold: 1\n",
      "fold: 2\n"
     ]
    },
    {
     "name": "stderr",
     "output_type": "stream",
     "text": [
      "/usr/local/lib/python3.4/dist-packages/sklearn/feature_selection/univariate_selection.py:113: UserWarning: Features [    13     99    149 ..., 572588 572708 572709] are constant.\n",
      "  UserWarning)\n"
     ]
    },
    {
     "name": "stdout",
     "output_type": "stream",
     "text": [
      "fold: 3\n",
      "repetition: 22\n",
      "fold: 1\n",
      "fold: 2\n",
      "fold: 3\n",
      "repetition: 23\n",
      "fold: 1\n",
      "fold: 2\n",
      "fold: 3\n",
      "repetition: 24\n",
      "fold: 1\n",
      "fold: 2\n",
      "fold: 3\n",
      "repetition: 25\n",
      "fold: 1\n",
      "fold: 2\n",
      "fold: 3\n",
      "repetition: 26\n",
      "fold: 1\n",
      "fold: 2\n",
      "fold: 3\n",
      "repetition: 27\n",
      "fold: 1\n",
      "fold: 2\n",
      "fold: 3\n",
      "repetition: 28\n",
      "fold: 1\n",
      "fold: 2\n",
      "fold: 3\n",
      "repetition: 29\n",
      "fold: 1\n",
      "fold: 2\n",
      "fold: 3\n",
      "repetition: 30\n",
      "fold: 1\n",
      "fold: 2\n",
      "fold: 3\n",
      "repetition: 31\n",
      "fold: 1\n",
      "fold: 2\n",
      "fold: 3\n",
      "repetition: 32\n",
      "fold: 1\n",
      "fold: 2\n",
      "fold: 3\n",
      "repetition: 33\n",
      "fold: 1\n",
      "fold: 2\n",
      "fold: 3\n",
      "F_mean: 0.446660884649\n",
      "AUC_mean: 0.582972733748\n",
      "PRECISION_mean: 0.390743550835\n",
      "RECALL_mean: 0.521255060729\n",
      "SPECIFICITY_mean: 0.459986550101\n",
      "percentage: 0.639656565657\n",
      "repetition: 1\n",
      "fold: 1\n",
      "fold: 2\n",
      "fold: 3\n",
      "repetition: 2\n",
      "fold: 1\n",
      "fold: 2\n",
      "fold: 3\n",
      "repetition: 3\n",
      "fold: 1\n",
      "fold: 2\n",
      "fold: 3\n",
      "repetition: 4\n",
      "fold: 1\n",
      "fold: 2\n",
      "fold: 3\n",
      "repetition: 5\n",
      "fold: 1\n",
      "fold: 2\n"
     ]
    },
    {
     "name": "stderr",
     "output_type": "stream",
     "text": [
      "/usr/local/lib/python3.4/dist-packages/sklearn/feature_selection/univariate_selection.py:113: UserWarning: Features [    13     99    204 ..., 572707 572708 572709] are constant.\n",
      "  UserWarning)\n"
     ]
    },
    {
     "name": "stdout",
     "output_type": "stream",
     "text": [
      "fold: 3\n",
      "repetition: 6\n",
      "fold: 1\n",
      "fold: 2\n",
      "fold: 3\n",
      "repetition: 7\n",
      "fold: 1\n",
      "fold: 2\n",
      "fold: 3\n",
      "repetition: 8\n",
      "fold: 1\n",
      "fold: 2\n",
      "fold: 3\n",
      "repetition: 9\n",
      "fold: 1\n",
      "fold: 2\n",
      "fold: 3\n",
      "repetition: 10\n",
      "fold: 1\n",
      "fold: 2\n",
      "fold: 3\n"
     ]
    },
    {
     "name": "stderr",
     "output_type": "stream",
     "text": [
      "/usr/local/lib/python3.4/dist-packages/sklearn/feature_selection/univariate_selection.py:113: UserWarning: Features [    13     99    305 ..., 572728 572729 572730] are constant.\n",
      "  UserWarning)\n"
     ]
    },
    {
     "name": "stdout",
     "output_type": "stream",
     "text": [
      "repetition: 11\n",
      "fold: 1\n",
      "fold: 2\n",
      "fold: 3\n",
      "repetition: 12\n",
      "fold: 1\n",
      "fold: 2\n",
      "fold: 3\n",
      "repetition: 13\n",
      "fold: 1\n",
      "fold: 2\n",
      "fold: 3\n",
      "repetition: 14\n",
      "fold: 1\n",
      "fold: 2\n",
      "fold: 3\n",
      "repetition: 15\n",
      "fold: 1\n",
      "fold: 2\n",
      "fold: 3\n",
      "repetition: 16\n",
      "fold: 1\n",
      "fold: 2\n",
      "fold: 3\n",
      "repetition: 17\n",
      "fold: 1\n",
      "fold: 2\n",
      "fold: 3\n",
      "repetition: 18\n",
      "fold: 1\n",
      "fold: 2\n",
      "fold: 3\n",
      "repetition: 19\n",
      "fold: 1\n",
      "fold: 2\n",
      "fold: 3\n",
      "repetition: 20\n",
      "fold: 1\n"
     ]
    },
    {
     "name": "stderr",
     "output_type": "stream",
     "text": [
      "/usr/local/lib/python3.4/dist-packages/sklearn/feature_selection/univariate_selection.py:113: UserWarning: Features [    13     72     90 ..., 572720 572721 572722] are constant.\n",
      "  UserWarning)\n"
     ]
    },
    {
     "name": "stdout",
     "output_type": "stream",
     "text": [
      "fold: 2\n",
      "fold: 3\n",
      "repetition: 21\n",
      "fold: 1\n",
      "fold: 2\n",
      "fold: 3\n",
      "repetition: 22\n",
      "fold: 1\n",
      "fold: 2\n",
      "fold: 3\n",
      "repetition: 23\n",
      "fold: 1\n",
      "fold: 2\n",
      "fold: 3\n",
      "repetition: 24\n",
      "fold: 1\n",
      "fold: 2\n",
      "fold: 3\n"
     ]
    },
    {
     "name": "stderr",
     "output_type": "stream",
     "text": [
      "/usr/local/lib/python3.4/dist-packages/sklearn/feature_selection/univariate_selection.py:113: UserWarning: Features [     4     13     90 ..., 572705 572708 572709] are constant.\n",
      "  UserWarning)\n"
     ]
    },
    {
     "name": "stdout",
     "output_type": "stream",
     "text": [
      "repetition: 25\n",
      "fold: 1\n",
      "fold: 2\n",
      "fold: 3\n",
      "repetition: 26\n",
      "fold: 1\n",
      "fold: 2\n",
      "fold: 3\n",
      "repetition: 27\n",
      "fold: 1\n",
      "fold: 2\n",
      "fold: 3\n",
      "repetition: 28\n",
      "fold: 1\n",
      "fold: 2\n",
      "fold: 3\n",
      "repetition: 29\n",
      "fold: 1\n",
      "fold: 2\n",
      "fold: 3\n"
     ]
    },
    {
     "name": "stderr",
     "output_type": "stream",
     "text": [
      "/usr/local/lib/python3.4/dist-packages/sklearn/feature_selection/univariate_selection.py:113: UserWarning: Features [     4     13     90 ..., 572685 572704 572705] are constant.\n",
      "  UserWarning)\n"
     ]
    },
    {
     "name": "stdout",
     "output_type": "stream",
     "text": [
      "repetition: 30\n",
      "fold: 1\n"
     ]
    },
    {
     "name": "stderr",
     "output_type": "stream",
     "text": [
      "/usr/local/lib/python3.4/dist-packages/sklearn/feature_selection/univariate_selection.py:113: UserWarning: Features [     4     13     80 ..., 572634 572662 572677] are constant.\n",
      "  UserWarning)\n"
     ]
    },
    {
     "name": "stdout",
     "output_type": "stream",
     "text": [
      "fold: 2\n",
      "fold: 3\n",
      "repetition: 31\n",
      "fold: 1\n",
      "fold: 2\n",
      "fold: 3\n",
      "repetition: 32\n",
      "fold: 1\n",
      "fold: 2\n",
      "fold: 3\n",
      "repetition: 33\n",
      "fold: 1\n",
      "fold: 2\n",
      "fold: 3\n",
      "F_mean: 0.440460947503\n",
      "AUC_mean: 0.569977178916\n",
      "PRECISION_mean: 0.384214445272\n",
      "RECALL_mean: 0.516\n",
      "SPECIFICITY_mean: 0.439322033898\n",
      "percentage: 0.667424242424\n",
      "repetition: 1\n",
      "fold: 1\n",
      "fold: 2\n",
      "fold: 3\n",
      "repetition: 2\n",
      "fold: 1\n",
      "fold: 2\n",
      "fold: 3\n",
      "repetition: 3\n",
      "fold: 1\n",
      "fold: 2\n",
      "fold: 3\n",
      "repetition: 4\n",
      "fold: 1\n",
      "fold: 2\n",
      "fold: 3\n",
      "repetition: 5\n",
      "fold: 1\n",
      "fold: 2\n",
      "fold: 3\n",
      "repetition: 6\n",
      "fold: 1\n",
      "fold: 2\n",
      "fold: 3\n",
      "repetition: 7\n",
      "fold: 1\n",
      "fold: 2\n",
      "fold: 3\n",
      "repetition: 8\n",
      "fold: 1\n",
      "fold: 2\n",
      "fold: 3\n",
      "repetition: 9\n",
      "fold: 1\n",
      "fold: 2\n",
      "fold: 3\n",
      "repetition: 10\n",
      "fold: 1\n",
      "fold: 2\n",
      "fold: 3\n",
      "repetition: 11\n",
      "fold: 1\n",
      "fold: 2\n",
      "fold: 3\n",
      "repetition: 12\n",
      "fold: 1\n",
      "fold: 2\n",
      "fold: 3\n",
      "repetition: 13\n",
      "fold: 1\n",
      "fold: 2\n",
      "fold: 3\n",
      "repetition: 14\n",
      "fold: 1\n",
      "fold: 2\n",
      "fold: 3\n",
      "repetition: 15\n",
      "fold: 1\n",
      "fold: 2\n",
      "fold: 3\n",
      "repetition: 16\n",
      "fold: 1\n",
      "fold: 2\n",
      "fold: 3\n",
      "repetition: 17\n",
      "fold: 1\n",
      "fold: 2\n"
     ]
    },
    {
     "name": "stderr",
     "output_type": "stream",
     "text": [
      "/usr/local/lib/python3.4/dist-packages/sklearn/feature_selection/univariate_selection.py:113: UserWarning: Features [    13     99    149 ..., 572705 572708 572709] are constant.\n",
      "  UserWarning)\n"
     ]
    },
    {
     "name": "stdout",
     "output_type": "stream",
     "text": [
      "fold: 3\n",
      "repetition: 18\n",
      "fold: 1\n",
      "fold: 2\n",
      "fold: 3\n",
      "repetition: 19\n",
      "fold: 1\n",
      "fold: 2\n",
      "fold: 3\n",
      "repetition: 20\n",
      "fold: 1\n",
      "fold: 2\n",
      "fold: 3\n",
      "repetition: 21\n",
      "fold: 1\n",
      "fold: 2\n",
      "fold: 3\n",
      "repetition: 22\n",
      "fold: 1\n",
      "fold: 2\n"
     ]
    },
    {
     "name": "stderr",
     "output_type": "stream",
     "text": [
      "/usr/local/lib/python3.4/dist-packages/sklearn/feature_selection/univariate_selection.py:113: UserWarning: Features [    13     80     84 ..., 572735 572736 572737] are constant.\n",
      "  UserWarning)\n"
     ]
    },
    {
     "name": "stdout",
     "output_type": "stream",
     "text": [
      "fold: 3\n",
      "repetition: 23\n",
      "fold: 1\n",
      "fold: 2\n",
      "fold: 3\n"
     ]
    },
    {
     "name": "stderr",
     "output_type": "stream",
     "text": [
      "/usr/local/lib/python3.4/dist-packages/sklearn/feature_selection/univariate_selection.py:113: UserWarning: Features [    13     99    264 ..., 572662 572677 572685] are constant.\n",
      "  UserWarning)\n"
     ]
    },
    {
     "name": "stdout",
     "output_type": "stream",
     "text": [
      "repetition: 24\n",
      "fold: 1\n",
      "fold: 2\n",
      "fold: 3\n",
      "repetition: 25\n",
      "fold: 1\n",
      "fold: 2\n",
      "fold: 3\n",
      "repetition: 26\n",
      "fold: 1\n",
      "fold: 2\n"
     ]
    },
    {
     "name": "stderr",
     "output_type": "stream",
     "text": [
      "/usr/local/lib/python3.4/dist-packages/sklearn/feature_selection/univariate_selection.py:113: UserWarning: Features [    13     80     85 ..., 572510 572528 572553] are constant.\n",
      "  UserWarning)\n"
     ]
    },
    {
     "name": "stdout",
     "output_type": "stream",
     "text": [
      "fold: 3\n",
      "repetition: 27\n",
      "fold: 1\n",
      "fold: 2\n"
     ]
    },
    {
     "name": "stderr",
     "output_type": "stream",
     "text": [
      "/usr/local/lib/python3.4/dist-packages/sklearn/feature_selection/univariate_selection.py:113: UserWarning: Features [     0     13     80 ..., 572728 572729 572730] are constant.\n",
      "  UserWarning)\n"
     ]
    },
    {
     "name": "stdout",
     "output_type": "stream",
     "text": [
      "fold: 3\n",
      "repetition: 28\n",
      "fold: 1\n",
      "fold: 2\n",
      "fold: 3\n",
      "repetition: 29\n",
      "fold: 1\n",
      "fold: 2\n",
      "fold: 3\n",
      "repetition: 30\n",
      "fold: 1\n",
      "fold: 2\n",
      "fold: 3\n"
     ]
    },
    {
     "name": "stderr",
     "output_type": "stream",
     "text": [
      "/usr/local/lib/python3.4/dist-packages/sklearn/feature_selection/univariate_selection.py:113: UserWarning: Features [    13     99    288 ..., 572702 572703 572704] are constant.\n",
      "  UserWarning)\n"
     ]
    },
    {
     "name": "stdout",
     "output_type": "stream",
     "text": [
      "repetition: 31\n",
      "fold: 1\n",
      "fold: 2\n",
      "fold: 3\n",
      "repetition: 32\n",
      "fold: 1\n",
      "fold: 2\n",
      "fold: 3\n",
      "repetition: 33\n",
      "fold: 1\n",
      "fold: 2\n"
     ]
    },
    {
     "name": "stderr",
     "output_type": "stream",
     "text": [
      "/usr/local/lib/python3.4/dist-packages/sklearn/feature_selection/univariate_selection.py:113: UserWarning: Features [     5     13     80 ..., 572615 572662 572677] are constant.\n",
      "  UserWarning)\n"
     ]
    },
    {
     "name": "stdout",
     "output_type": "stream",
     "text": [
      "fold: 3\n",
      "F_mean: 0.456795484151\n",
      "AUC_mean: 0.584507296866\n",
      "PRECISION_mean: 0.398786959818\n",
      "RECALL_mean: 0.534552845528\n",
      "SPECIFICITY_mean: 0.468142186452\n",
      "percentage: 0.695191919192\n",
      "repetition: 1\n",
      "fold: 1\n",
      "fold: 2\n",
      "fold: 3\n",
      "repetition: 2\n",
      "fold: 1\n",
      "fold: 2\n",
      "fold: 3\n",
      "repetition: 3\n",
      "fold: 1\n",
      "fold: 2\n",
      "fold: 3\n",
      "repetition: 4\n",
      "fold: 1\n"
     ]
    },
    {
     "name": "stderr",
     "output_type": "stream",
     "text": [
      "/usr/local/lib/python3.4/dist-packages/sklearn/feature_selection/univariate_selection.py:113: UserWarning: Features [    13     99    149 ..., 572685 572704 572705] are constant.\n",
      "  UserWarning)\n"
     ]
    },
    {
     "name": "stdout",
     "output_type": "stream",
     "text": [
      "fold: 2\n",
      "fold: 3\n",
      "repetition: 5\n",
      "fold: 1\n",
      "fold: 2\n",
      "fold: 3\n",
      "repetition: 6\n",
      "fold: 1\n"
     ]
    },
    {
     "name": "stderr",
     "output_type": "stream",
     "text": [
      "/usr/local/lib/python3.4/dist-packages/sklearn/feature_selection/univariate_selection.py:113: UserWarning: Features [    13     90     99 ..., 572705 572708 572709] are constant.\n",
      "  UserWarning)\n"
     ]
    },
    {
     "name": "stdout",
     "output_type": "stream",
     "text": [
      "fold: 2\n",
      "fold: 3\n",
      "repetition: 7\n",
      "fold: 1\n",
      "fold: 2\n",
      "fold: 3\n",
      "repetition: 8\n",
      "fold: 1\n",
      "fold: 2\n",
      "fold: 3\n",
      "repetition: 9\n",
      "fold: 1\n",
      "fold: 2\n",
      "fold: 3\n",
      "repetition: 10\n",
      "fold: 1\n",
      "fold: 2\n",
      "fold: 3\n",
      "repetition: 11\n",
      "fold: 1\n",
      "fold: 2\n"
     ]
    },
    {
     "name": "stderr",
     "output_type": "stream",
     "text": [
      "/usr/local/lib/python3.4/dist-packages/sklearn/feature_selection/univariate_selection.py:113: UserWarning: Features [    13     71     80 ..., 572733 572736 572737] are constant.\n",
      "  UserWarning)\n"
     ]
    },
    {
     "name": "stdout",
     "output_type": "stream",
     "text": [
      "fold: 3\n",
      "repetition: 12\n",
      "fold: 1\n",
      "fold: 2\n",
      "fold: 3\n",
      "repetition: 13\n",
      "fold: 1\n"
     ]
    },
    {
     "name": "stderr",
     "output_type": "stream",
     "text": [
      "/usr/local/lib/python3.4/dist-packages/sklearn/feature_selection/univariate_selection.py:113: UserWarning: Features [    13     80     85 ..., 572576 572670 572685] are constant.\n",
      "  UserWarning)\n"
     ]
    },
    {
     "name": "stdout",
     "output_type": "stream",
     "text": [
      "fold: 2\n",
      "fold: 3\n",
      "repetition: 14\n",
      "fold: 1\n",
      "fold: 2\n",
      "fold: 3\n",
      "repetition: 15\n",
      "fold: 1\n",
      "fold: 2\n",
      "fold: 3\n",
      "repetition: 16\n",
      "fold: 1\n",
      "fold: 2\n",
      "fold: 3\n"
     ]
    },
    {
     "name": "stderr",
     "output_type": "stream",
     "text": [
      "/usr/local/lib/python3.4/dist-packages/sklearn/feature_selection/univariate_selection.py:113: UserWarning: Features [     4     13     90 ..., 572509 572684 572685] are constant.\n",
      "  UserWarning)\n"
     ]
    },
    {
     "name": "stdout",
     "output_type": "stream",
     "text": [
      "repetition: 17\n",
      "fold: 1\n",
      "fold: 2\n",
      "fold: 3\n",
      "repetition: 18\n",
      "fold: 1\n",
      "fold: 2\n"
     ]
    },
    {
     "name": "stderr",
     "output_type": "stream",
     "text": [
      "/usr/local/lib/python3.4/dist-packages/sklearn/feature_selection/univariate_selection.py:113: UserWarning: Features [    13     80     85 ..., 572684 572708 572709] are constant.\n",
      "  UserWarning)\n"
     ]
    },
    {
     "name": "stdout",
     "output_type": "stream",
     "text": [
      "fold: 3\n",
      "repetition: 19\n",
      "fold: 1\n",
      "fold: 2\n",
      "fold: 3\n",
      "repetition: 20\n",
      "fold: 1\n",
      "fold: 2\n",
      "fold: 3\n"
     ]
    },
    {
     "name": "stderr",
     "output_type": "stream",
     "text": [
      "/usr/local/lib/python3.4/dist-packages/sklearn/feature_selection/univariate_selection.py:113: UserWarning: Features [    13     99    149 ..., 572509 572536 572554] are constant.\n",
      "  UserWarning)\n"
     ]
    },
    {
     "name": "stdout",
     "output_type": "stream",
     "text": [
      "repetition: 21\n",
      "fold: 1\n",
      "fold: 2\n",
      "fold: 3\n",
      "repetition: 22\n",
      "fold: 1\n"
     ]
    },
    {
     "name": "stderr",
     "output_type": "stream",
     "text": [
      "/usr/local/lib/python3.4/dist-packages/sklearn/feature_selection/univariate_selection.py:113: UserWarning: Features [    13     99    178 ..., 572621 572634 572704] are constant.\n",
      "  UserWarning)\n"
     ]
    },
    {
     "name": "stdout",
     "output_type": "stream",
     "text": [
      "fold: 2\n",
      "fold: 3\n",
      "repetition: 23\n",
      "fold: 1\n",
      "fold: 2\n",
      "fold: 3\n",
      "repetition: 24\n",
      "fold: 1\n",
      "fold: 2\n",
      "fold: 3\n",
      "repetition: 25\n",
      "fold: 1\n",
      "fold: 2\n",
      "fold: 3\n",
      "repetition: 26\n",
      "fold: 1\n",
      "fold: 2\n",
      "fold: 3\n",
      "repetition: 27\n",
      "fold: 1\n",
      "fold: 2\n",
      "fold: 3\n",
      "repetition: 28\n",
      "fold: 1\n",
      "fold: 2\n",
      "fold: 3\n",
      "repetition: 29\n",
      "fold: 1\n",
      "fold: 2\n",
      "fold: 3\n",
      "repetition: 30\n",
      "fold: 1\n",
      "fold: 2\n",
      "fold: 3\n",
      "repetition: 31\n",
      "fold: 1\n",
      "fold: 2\n",
      "fold: 3\n",
      "repetition: 32\n",
      "fold: 1\n",
      "fold: 2\n",
      "fold: 3\n",
      "repetition: 33\n",
      "fold: 1\n",
      "fold: 2\n",
      "fold: 3\n"
     ]
    },
    {
     "name": "stderr",
     "output_type": "stream",
     "text": [
      "/usr/local/lib/python3.4/dist-packages/sklearn/feature_selection/univariate_selection.py:113: UserWarning: Features [    13     99    324 ..., 572615 572662 572677] are constant.\n",
      "  UserWarning)\n"
     ]
    },
    {
     "name": "stdout",
     "output_type": "stream",
     "text": [
      "F_mean: 0.44948630137\n",
      "AUC_mean: 0.583602339653\n",
      "PRECISION_mean: 0.391791044776\n",
      "RECALL_mean: 0.527108433735\n",
      "SPECIFICITY_mean: 0.448951994591\n",
      "percentage: 0.72295959596\n",
      "repetition: 1\n",
      "fold: 1\n",
      "fold: 2\n",
      "fold: 3\n",
      "repetition: 2\n",
      "fold: 1\n",
      "fold: 2\n",
      "fold: 3\n",
      "repetition: 3\n",
      "fold: 1\n",
      "fold: 2\n",
      "fold: 3\n",
      "repetition: 4\n",
      "fold: 1\n",
      "fold: 2\n",
      "fold: 3\n",
      "repetition: 5\n",
      "fold: 1\n",
      "fold: 2\n",
      "fold: 3\n",
      "repetition: 6\n",
      "fold: 1\n",
      "fold: 2\n",
      "fold: 3\n",
      "repetition: 7\n",
      "fold: 1\n",
      "fold: 2\n",
      "fold: 3\n",
      "repetition: 8\n",
      "fold: 1\n",
      "fold: 2\n",
      "fold: 3\n"
     ]
    },
    {
     "name": "stderr",
     "output_type": "stream",
     "text": [
      "/usr/local/lib/python3.4/dist-packages/sklearn/feature_selection/univariate_selection.py:113: UserWarning: Features [    13     99    149 ..., 572621 572634 572704] are constant.\n",
      "  UserWarning)\n"
     ]
    },
    {
     "name": "stdout",
     "output_type": "stream",
     "text": [
      "repetition: 9\n",
      "fold: 1\n",
      "fold: 2\n",
      "fold: 3\n",
      "repetition: 10\n",
      "fold: 1\n",
      "fold: 2\n",
      "fold: 3\n",
      "repetition: 11\n",
      "fold: 1\n"
     ]
    },
    {
     "name": "stderr",
     "output_type": "stream",
     "text": [
      "/usr/local/lib/python3.4/dist-packages/sklearn/feature_selection/univariate_selection.py:113: UserWarning: Features [    13     80     85 ..., 572528 572621 572634] are constant.\n",
      "  UserWarning)\n"
     ]
    },
    {
     "name": "stdout",
     "output_type": "stream",
     "text": [
      "fold: 2\n",
      "fold: 3\n",
      "repetition: 12\n",
      "fold: 1\n"
     ]
    },
    {
     "name": "stderr",
     "output_type": "stream",
     "text": [
      "/usr/local/lib/python3.4/dist-packages/sklearn/feature_selection/univariate_selection.py:113: UserWarning: Features [    13     99    388 ..., 572685 572708 572709] are constant.\n",
      "  UserWarning)\n"
     ]
    },
    {
     "name": "stdout",
     "output_type": "stream",
     "text": [
      "fold: 2\n",
      "fold: 3\n",
      "repetition: 13\n",
      "fold: 1\n",
      "fold: 2\n",
      "fold: 3\n",
      "repetition: 14\n",
      "fold: 1\n",
      "fold: 2\n",
      "fold: 3\n",
      "repetition: 15\n",
      "fold: 1\n",
      "fold: 2\n"
     ]
    },
    {
     "name": "stderr",
     "output_type": "stream",
     "text": [
      "/usr/local/lib/python3.4/dist-packages/sklearn/feature_selection/univariate_selection.py:113: UserWarning: Features [    13     90     99 ..., 572554 572621 572634] are constant.\n",
      "  UserWarning)\n"
     ]
    },
    {
     "name": "stdout",
     "output_type": "stream",
     "text": [
      "fold: 3\n",
      "repetition: 16\n",
      "fold: 1\n",
      "fold: 2\n",
      "fold: 3\n",
      "repetition: 17\n",
      "fold: 1\n",
      "fold: 2\n",
      "fold: 3\n",
      "repetition: 18\n",
      "fold: 1\n",
      "fold: 2\n",
      "fold: 3\n"
     ]
    },
    {
     "name": "stderr",
     "output_type": "stream",
     "text": [
      "/usr/local/lib/python3.4/dist-packages/sklearn/feature_selection/univariate_selection.py:113: UserWarning: Features [    13     99    149 ..., 572670 572685 572686] are constant.\n",
      "  UserWarning)\n"
     ]
    },
    {
     "name": "stdout",
     "output_type": "stream",
     "text": [
      "repetition: 19\n",
      "fold: 1\n",
      "fold: 2\n",
      "fold: 3\n",
      "repetition: 20\n",
      "fold: 1\n",
      "fold: 2\n"
     ]
    },
    {
     "name": "stderr",
     "output_type": "stream",
     "text": [
      "/usr/local/lib/python3.4/dist-packages/sklearn/feature_selection/univariate_selection.py:113: UserWarning: Features [    13     72     90 ..., 572704 572708 572709] are constant.\n",
      "  UserWarning)\n"
     ]
    },
    {
     "name": "stdout",
     "output_type": "stream",
     "text": [
      "fold: 3\n",
      "repetition: 21\n",
      "fold: 1\n",
      "fold: 2\n",
      "fold: 3\n",
      "repetition: 22\n",
      "fold: 1\n",
      "fold: 2\n",
      "fold: 3\n",
      "repetition: 23\n",
      "fold: 1\n",
      "fold: 2\n",
      "fold: 3\n",
      "repetition: 24\n",
      "fold: 1\n",
      "fold: 2\n",
      "fold: 3\n",
      "repetition: 25\n",
      "fold: 1\n"
     ]
    },
    {
     "name": "stderr",
     "output_type": "stream",
     "text": [
      "/usr/local/lib/python3.4/dist-packages/sklearn/feature_selection/univariate_selection.py:113: UserWarning: Features [    13     80     85 ..., 572670 572685 572704] are constant.\n",
      "  UserWarning)\n"
     ]
    },
    {
     "name": "stdout",
     "output_type": "stream",
     "text": [
      "fold: 2\n",
      "fold: 3\n",
      "repetition: 26\n",
      "fold: 1\n",
      "fold: 2\n",
      "fold: 3\n",
      "repetition: 27\n",
      "fold: 1\n",
      "fold: 2\n"
     ]
    },
    {
     "name": "stderr",
     "output_type": "stream",
     "text": [
      "/usr/local/lib/python3.4/dist-packages/sklearn/feature_selection/univariate_selection.py:113: UserWarning: Features [    13     90     99 ..., 572472 572480 572509] are constant.\n",
      "  UserWarning)\n"
     ]
    },
    {
     "name": "stdout",
     "output_type": "stream",
     "text": [
      "fold: 3\n"
     ]
    },
    {
     "name": "stderr",
     "output_type": "stream",
     "text": [
      "/usr/local/lib/python3.4/dist-packages/sklearn/feature_selection/univariate_selection.py:113: UserWarning: Features [    13     91     99 ..., 572733 572736 572737] are constant.\n",
      "  UserWarning)\n"
     ]
    },
    {
     "name": "stdout",
     "output_type": "stream",
     "text": [
      "repetition: 28\n",
      "fold: 1\n",
      "fold: 2\n",
      "fold: 3\n",
      "repetition: 29\n",
      "fold: 1\n",
      "fold: 2\n",
      "fold: 3\n",
      "repetition: 30\n",
      "fold: 1\n",
      "fold: 2\n"
     ]
    },
    {
     "name": "stderr",
     "output_type": "stream",
     "text": [
      "/usr/local/lib/python3.4/dist-packages/sklearn/feature_selection/univariate_selection.py:113: UserWarning: Features [    13     99    204 ..., 572685 572704 572705] are constant.\n",
      "  UserWarning)\n"
     ]
    },
    {
     "name": "stdout",
     "output_type": "stream",
     "text": [
      "fold: 3\n",
      "repetition: 31\n",
      "fold: 1\n",
      "fold: 2\n"
     ]
    },
    {
     "name": "stderr",
     "output_type": "stream",
     "text": [
      "/usr/local/lib/python3.4/dist-packages/sklearn/feature_selection/univariate_selection.py:113: UserWarning: Features [    13     90     99 ..., 572553 572621 572634] are constant.\n",
      "  UserWarning)\n"
     ]
    },
    {
     "name": "stdout",
     "output_type": "stream",
     "text": [
      "fold: 3\n",
      "repetition: 32\n",
      "fold: 1\n",
      "fold: 2\n",
      "fold: 3\n",
      "repetition: 33\n",
      "fold: 1\n",
      "fold: 2\n",
      "fold: 3\n",
      "F_mean: 0.471365638767\n",
      "AUC_mean: 0.594290388073\n",
      "PRECISION_mean: 0.420928402832\n",
      "RECALL_mean: 0.535535535536\n",
      "SPECIFICITY_mean: 0.50135501355\n",
      "percentage: 0.750727272727\n",
      "repetition: 1\n",
      "fold: 1\n",
      "fold: 2\n",
      "fold: 3\n",
      "repetition: 2\n",
      "fold: 1\n",
      "fold: 2\n",
      "fold: 3\n",
      "repetition: 3\n",
      "fold: 1\n",
      "fold: 2\n",
      "fold: 3\n",
      "repetition: 4\n",
      "fold: 1\n",
      "fold: 2\n",
      "fold: 3\n",
      "repetition: 5\n",
      "fold: 1\n",
      "fold: 2\n",
      "fold: 3\n",
      "repetition: 6\n",
      "fold: 1\n",
      "fold: 2\n",
      "fold: 3\n",
      "repetition: 7\n",
      "fold: 1\n",
      "fold: 2\n",
      "fold: 3\n"
     ]
    },
    {
     "name": "stderr",
     "output_type": "stream",
     "text": [
      "/usr/local/lib/python3.4/dist-packages/sklearn/feature_selection/univariate_selection.py:113: UserWarning: Features [    13     99    204 ..., 572525 572544 572685] are constant.\n",
      "  UserWarning)\n"
     ]
    },
    {
     "name": "stdout",
     "output_type": "stream",
     "text": [
      "repetition: 8\n",
      "fold: 1\n",
      "fold: 2\n",
      "fold: 3\n",
      "repetition: 9\n",
      "fold: 1\n",
      "fold: 2\n",
      "fold: 3\n",
      "repetition: 10\n",
      "fold: 1\n",
      "fold: 2\n",
      "fold: 3\n",
      "repetition: 11\n",
      "fold: 1\n",
      "fold: 2\n",
      "fold: 3\n"
     ]
    },
    {
     "name": "stderr",
     "output_type": "stream",
     "text": [
      "/usr/local/lib/python3.4/dist-packages/sklearn/feature_selection/univariate_selection.py:113: UserWarning: Features [    13     80     85 ..., 572605 572670 572685] are constant.\n",
      "  UserWarning)\n"
     ]
    },
    {
     "name": "stdout",
     "output_type": "stream",
     "text": [
      "repetition: 12\n",
      "fold: 1\n",
      "fold: 2\n",
      "fold: 3\n",
      "repetition: 13\n",
      "fold: 1\n",
      "fold: 2\n",
      "fold: 3\n",
      "repetition: 14\n",
      "fold: 1\n",
      "fold: 2\n",
      "fold: 3\n",
      "repetition: 15\n",
      "fold: 1\n",
      "fold: 2\n",
      "fold: 3\n",
      "repetition: 16\n",
      "fold: 1\n",
      "fold: 2\n",
      "fold: 3\n",
      "repetition: 17\n",
      "fold: 1\n",
      "fold: 2\n",
      "fold: 3\n",
      "repetition: 18\n",
      "fold: 1\n",
      "fold: 2\n",
      "fold: 3\n",
      "repetition: 19\n",
      "fold: 1\n",
      "fold: 2\n",
      "fold: 3\n",
      "repetition: 20\n",
      "fold: 1\n",
      "fold: 2\n",
      "fold: 3\n",
      "repetition: 21\n",
      "fold: 1\n",
      "fold: 2\n",
      "fold: 3\n",
      "repetition: 22\n",
      "fold: 1\n",
      "fold: 2\n",
      "fold: 3\n",
      "repetition: 23\n",
      "fold: 1\n",
      "fold: 2\n",
      "fold: 3\n",
      "repetition: 24\n",
      "fold: 1\n",
      "fold: 2\n",
      "fold: 3\n",
      "repetition: 25\n",
      "fold: 1\n",
      "fold: 2\n",
      "fold: 3\n",
      "repetition: 26\n",
      "fold: 1\n"
     ]
    },
    {
     "name": "stderr",
     "output_type": "stream",
     "text": [
      "/usr/local/lib/python3.4/dist-packages/sklearn/feature_selection/univariate_selection.py:113: UserWarning: Features [    13     80     85 ..., 572684 572685 572704] are constant.\n",
      "  UserWarning)\n"
     ]
    },
    {
     "name": "stdout",
     "output_type": "stream",
     "text": [
      "fold: 2\n",
      "fold: 3\n",
      "repetition: 27\n",
      "fold: 1\n",
      "fold: 2\n",
      "fold: 3\n",
      "repetition: 28\n",
      "fold: 1\n",
      "fold: 2\n"
     ]
    },
    {
     "name": "stderr",
     "output_type": "stream",
     "text": [
      "/usr/local/lib/python3.4/dist-packages/sklearn/feature_selection/univariate_selection.py:113: UserWarning: Features [     4     13     90 ..., 572707 572708 572709] are constant.\n",
      "  UserWarning)\n"
     ]
    },
    {
     "name": "stdout",
     "output_type": "stream",
     "text": [
      "fold: 3\n",
      "repetition: 29\n",
      "fold: 1\n"
     ]
    },
    {
     "name": "stderr",
     "output_type": "stream",
     "text": [
      "/usr/local/lib/python3.4/dist-packages/sklearn/feature_selection/univariate_selection.py:113: UserWarning: Features [    13     80     85 ..., 572536 572553 572554] are constant.\n",
      "  UserWarning)\n"
     ]
    },
    {
     "name": "stdout",
     "output_type": "stream",
     "text": [
      "fold: 2\n",
      "fold: 3\n",
      "repetition: 30\n",
      "fold: 1\n",
      "fold: 2\n",
      "fold: 3\n",
      "repetition: 31\n",
      "fold: 1\n",
      "fold: 2\n",
      "fold: 3\n",
      "repetition: 32\n",
      "fold: 1\n",
      "fold: 2\n",
      "fold: 3\n",
      "repetition: 33\n",
      "fold: 1\n",
      "fold: 2\n",
      "fold: 3\n"
     ]
    },
    {
     "name": "stderr",
     "output_type": "stream",
     "text": [
      "/usr/local/lib/python3.4/dist-packages/sklearn/feature_selection/univariate_selection.py:113: UserWarning: Features [     4     13     90 ..., 572677 572685 572704] are constant.\n",
      "  UserWarning)\n"
     ]
    },
    {
     "name": "stdout",
     "output_type": "stream",
     "text": [
      "F_mean: 0.427304964539\n",
      "AUC_mean: 0.596267212368\n",
      "PRECISION_mean: 0.375681995323\n",
      "RECALL_mean: 0.495375128469\n",
      "SPECIFICITY_mean: 0.466711051931\n",
      "percentage: 0.778494949495\n",
      "repetition: 1\n",
      "fold: 1\n",
      "fold: 2\n",
      "fold: 3\n"
     ]
    },
    {
     "name": "stderr",
     "output_type": "stream",
     "text": [
      "/usr/local/lib/python3.4/dist-packages/sklearn/feature_selection/univariate_selection.py:113: UserWarning: Features [    13     80     85 ..., 572596 572604 572605] are constant.\n",
      "  UserWarning)\n"
     ]
    },
    {
     "name": "stdout",
     "output_type": "stream",
     "text": [
      "repetition: 2\n",
      "fold: 1\n",
      "fold: 2\n",
      "fold: 3\n",
      "repetition: 3\n",
      "fold: 1\n",
      "fold: 2\n",
      "fold: 3\n",
      "repetition: 4\n",
      "fold: 1\n"
     ]
    },
    {
     "name": "stderr",
     "output_type": "stream",
     "text": [
      "/usr/local/lib/python3.4/dist-packages/sklearn/feature_selection/univariate_selection.py:113: UserWarning: Features [    13     99    149 ..., 572594 572595 572596] are constant.\n",
      "  UserWarning)\n"
     ]
    },
    {
     "name": "stdout",
     "output_type": "stream",
     "text": [
      "fold: 2\n",
      "fold: 3\n",
      "repetition: 5\n",
      "fold: 1\n",
      "fold: 2\n",
      "fold: 3\n",
      "repetition: 6\n",
      "fold: 1\n",
      "fold: 2\n",
      "fold: 3\n",
      "repetition: 7\n",
      "fold: 1\n",
      "fold: 2\n",
      "fold: 3\n",
      "repetition: 8\n",
      "fold: 1\n",
      "fold: 2\n",
      "fold: 3\n",
      "repetition: 9\n",
      "fold: 1\n"
     ]
    },
    {
     "name": "stderr",
     "output_type": "stream",
     "text": [
      "/usr/local/lib/python3.4/dist-packages/sklearn/feature_selection/univariate_selection.py:113: UserWarning: Features [    13     99    196 ..., 572728 572729 572730] are constant.\n",
      "  UserWarning)\n"
     ]
    },
    {
     "name": "stdout",
     "output_type": "stream",
     "text": [
      "fold: 2\n",
      "fold: 3\n",
      "repetition: 10\n",
      "fold: 1\n"
     ]
    },
    {
     "name": "stderr",
     "output_type": "stream",
     "text": [
      "/usr/local/lib/python3.4/dist-packages/sklearn/feature_selection/univariate_selection.py:113: UserWarning: Features [    13     99    288 ..., 572692 572702 572703] are constant.\n",
      "  UserWarning)\n"
     ]
    },
    {
     "name": "stdout",
     "output_type": "stream",
     "text": [
      "fold: 2\n",
      "fold: 3\n",
      "repetition: 11\n",
      "fold: 1\n",
      "fold: 2\n",
      "fold: 3\n",
      "repetition: 12\n",
      "fold: 1\n",
      "fold: 2\n",
      "fold: 3\n",
      "repetition: 13\n",
      "fold: 1\n",
      "fold: 2\n",
      "fold: 3\n",
      "repetition: 14\n",
      "fold: 1\n",
      "fold: 2\n"
     ]
    },
    {
     "name": "stderr",
     "output_type": "stream",
     "text": [
      "/usr/local/lib/python3.4/dist-packages/sklearn/feature_selection/univariate_selection.py:113: UserWarning: Features [    13     72     80 ..., 572692 572702 572703] are constant.\n",
      "  UserWarning)\n"
     ]
    },
    {
     "name": "stdout",
     "output_type": "stream",
     "text": [
      "fold: 3\n",
      "repetition: 15\n",
      "fold: 1\n",
      "fold: 2\n",
      "fold: 3\n",
      "repetition: 16\n",
      "fold: 1\n",
      "fold: 2\n",
      "fold: 3\n",
      "repetition: 17\n",
      "fold: 1\n"
     ]
    },
    {
     "name": "stderr",
     "output_type": "stream",
     "text": [
      "/usr/local/lib/python3.4/dist-packages/sklearn/feature_selection/univariate_selection.py:113: UserWarning: Features [    13     99    178 ..., 572677 572685 572704] are constant.\n",
      "  UserWarning)\n"
     ]
    },
    {
     "name": "stdout",
     "output_type": "stream",
     "text": [
      "fold: 2\n",
      "fold: 3\n",
      "repetition: 18\n",
      "fold: 1\n",
      "fold: 2\n",
      "fold: 3\n",
      "repetition: 19\n",
      "fold: 1\n",
      "fold: 2\n",
      "fold: 3\n",
      "repetition: 20\n",
      "fold: 1\n",
      "fold: 2\n",
      "fold: 3\n",
      "repetition: 21\n",
      "fold: 1\n",
      "fold: 2\n",
      "fold: 3\n",
      "repetition: 22\n",
      "fold: 1\n",
      "fold: 2\n",
      "fold: 3\n",
      "repetition: 23\n",
      "fold: 1\n",
      "fold: 2\n",
      "fold: 3\n",
      "repetition: 24\n",
      "fold: 1\n"
     ]
    },
    {
     "name": "stderr",
     "output_type": "stream",
     "text": [
      "/usr/local/lib/python3.4/dist-packages/sklearn/feature_selection/univariate_selection.py:113: UserWarning: Features [    13     80     85 ..., 572444 572510 572528] are constant.\n",
      "  UserWarning)\n"
     ]
    },
    {
     "name": "stdout",
     "output_type": "stream",
     "text": [
      "fold: 2\n",
      "fold: 3\n",
      "repetition: 25\n",
      "fold: 1\n",
      "fold: 2\n",
      "fold: 3\n",
      "repetition: 26\n",
      "fold: 1\n",
      "fold: 2\n",
      "fold: 3\n",
      "repetition: 27\n",
      "fold: 1\n",
      "fold: 2\n",
      "fold: 3\n",
      "repetition: 28\n",
      "fold: 1\n",
      "fold: 2\n",
      "fold: 3\n",
      "repetition: 29\n",
      "fold: 1\n",
      "fold: 2\n",
      "fold: 3\n",
      "repetition: 30\n",
      "fold: 1\n",
      "fold: 2\n",
      "fold: 3\n",
      "repetition: 31\n",
      "fold: 1\n",
      "fold: 2\n",
      "fold: 3\n",
      "repetition: 32\n",
      "fold: 1\n",
      "fold: 2\n",
      "fold: 3\n",
      "repetition: 33\n",
      "fold: 1\n",
      "fold: 2\n",
      "fold: 3\n",
      "F_mean: 0.457391304348\n",
      "AUC_mean: 0.587735966585\n",
      "PRECISION_mean: 0.4\n",
      "RECALL_mean: 0.534010152284\n",
      "SPECIFICITY_mean: 0.470469798658\n",
      "percentage: 0.806262626263\n",
      "repetition: 1\n",
      "fold: 1\n"
     ]
    },
    {
     "name": "stderr",
     "output_type": "stream",
     "text": [
      "/usr/local/lib/python3.4/dist-packages/sklearn/feature_selection/univariate_selection.py:113: UserWarning: Features [    13     99    204 ..., 572595 572596 572684] are constant.\n",
      "  UserWarning)\n"
     ]
    },
    {
     "name": "stdout",
     "output_type": "stream",
     "text": [
      "fold: 2\n",
      "fold: 3\n",
      "repetition: 2\n",
      "fold: 1\n"
     ]
    },
    {
     "name": "stderr",
     "output_type": "stream",
     "text": [
      "/usr/local/lib/python3.4/dist-packages/sklearn/feature_selection/univariate_selection.py:113: UserWarning: Features [    13     90     99 ..., 572685 572708 572709] are constant.\n",
      "  UserWarning)\n"
     ]
    },
    {
     "name": "stdout",
     "output_type": "stream",
     "text": [
      "fold: 2\n",
      "fold: 3\n",
      "repetition: 3\n",
      "fold: 1\n",
      "fold: 2\n",
      "fold: 3\n",
      "repetition: 4\n",
      "fold: 1\n",
      "fold: 2\n",
      "fold: 3\n",
      "repetition: 5\n",
      "fold: 1\n",
      "fold: 2\n"
     ]
    },
    {
     "name": "stderr",
     "output_type": "stream",
     "text": [
      "/usr/local/lib/python3.4/dist-packages/sklearn/feature_selection/univariate_selection.py:113: UserWarning: Features [    13     91     99 ..., 572731 572732 572735] are constant.\n",
      "  UserWarning)\n"
     ]
    },
    {
     "name": "stdout",
     "output_type": "stream",
     "text": [
      "fold: 3\n",
      "repetition: 6\n",
      "fold: 1\n",
      "fold: 2\n",
      "fold: 3\n",
      "repetition: 7\n",
      "fold: 1\n",
      "fold: 2\n",
      "fold: 3\n",
      "repetition: 8\n",
      "fold: 1\n",
      "fold: 2\n",
      "fold: 3\n",
      "repetition: 9\n",
      "fold: 1\n",
      "fold: 2\n",
      "fold: 3\n",
      "repetition: 10\n",
      "fold: 1\n",
      "fold: 2\n",
      "fold: 3\n",
      "repetition: 11\n",
      "fold: 1\n",
      "fold: 2\n",
      "fold: 3\n",
      "repetition: 12\n",
      "fold: 1\n",
      "fold: 2\n",
      "fold: 3\n",
      "repetition: 13\n",
      "fold: 1\n"
     ]
    },
    {
     "name": "stderr",
     "output_type": "stream",
     "text": [
      "/usr/local/lib/python3.4/dist-packages/sklearn/feature_selection/univariate_selection.py:113: UserWarning: Features [    13     90     99 ..., 572536 572554 572685] are constant.\n",
      "  UserWarning)\n"
     ]
    },
    {
     "name": "stdout",
     "output_type": "stream",
     "text": [
      "fold: 2\n",
      "fold: 3\n"
     ]
    },
    {
     "name": "stderr",
     "output_type": "stream",
     "text": [
      "/usr/local/lib/python3.4/dist-packages/sklearn/feature_selection/univariate_selection.py:113: UserWarning: Features [    13     99    436 ..., 572733 572736 572737] are constant.\n",
      "  UserWarning)\n"
     ]
    },
    {
     "name": "stdout",
     "output_type": "stream",
     "text": [
      "repetition: 14\n",
      "fold: 1\n",
      "fold: 2\n",
      "fold: 3\n",
      "repetition: 15\n",
      "fold: 1\n",
      "fold: 2\n",
      "fold: 3\n",
      "repetition: 16\n",
      "fold: 1\n",
      "fold: 2\n",
      "fold: 3\n",
      "repetition: 17\n",
      "fold: 1\n"
     ]
    },
    {
     "name": "stderr",
     "output_type": "stream",
     "text": [
      "/usr/local/lib/python3.4/dist-packages/sklearn/feature_selection/univariate_selection.py:113: UserWarning: Features [    13     80     85 ..., 572634 572708 572709] are constant.\n",
      "  UserWarning)\n"
     ]
    },
    {
     "name": "stdout",
     "output_type": "stream",
     "text": [
      "fold: 2\n",
      "fold: 3\n",
      "repetition: 18\n",
      "fold: 1\n",
      "fold: 2\n"
     ]
    },
    {
     "name": "stderr",
     "output_type": "stream",
     "text": [
      "/usr/local/lib/python3.4/dist-packages/sklearn/feature_selection/univariate_selection.py:113: UserWarning: Features [     4     13     90 ..., 572621 572634 572704] are constant.\n",
      "  UserWarning)\n"
     ]
    },
    {
     "name": "stdout",
     "output_type": "stream",
     "text": [
      "fold: 3\n",
      "repetition: 19\n",
      "fold: 1\n",
      "fold: 2\n"
     ]
    },
    {
     "name": "stderr",
     "output_type": "stream",
     "text": [
      "/usr/local/lib/python3.4/dist-packages/sklearn/feature_selection/univariate_selection.py:113: UserWarning: Features [    13     80     84 ..., 572685 572708 572709] are constant.\n",
      "  UserWarning)\n"
     ]
    },
    {
     "name": "stdout",
     "output_type": "stream",
     "text": [
      "fold: 3\n",
      "repetition: 20\n",
      "fold: 1\n",
      "fold: 2\n",
      "fold: 3\n",
      "repetition: 21\n",
      "fold: 1\n",
      "fold: 2\n",
      "fold: 3\n"
     ]
    },
    {
     "name": "stderr",
     "output_type": "stream",
     "text": [
      "/usr/local/lib/python3.4/dist-packages/sklearn/feature_selection/univariate_selection.py:113: UserWarning: Features [    13     99    178 ..., 572684 572685 572686] are constant.\n",
      "  UserWarning)\n"
     ]
    },
    {
     "name": "stdout",
     "output_type": "stream",
     "text": [
      "repetition: 22\n",
      "fold: 1\n",
      "fold: 2\n",
      "fold: 3\n",
      "repetition: 23\n",
      "fold: 1\n",
      "fold: 2\n",
      "fold: 3\n",
      "repetition: 24\n",
      "fold: 1\n",
      "fold: 2\n",
      "fold: 3\n"
     ]
    },
    {
     "name": "stderr",
     "output_type": "stream",
     "text": [
      "/usr/local/lib/python3.4/dist-packages/sklearn/feature_selection/univariate_selection.py:113: UserWarning: Features [    13     80     85 ..., 572536 572544 572554] are constant.\n",
      "  UserWarning)\n"
     ]
    },
    {
     "name": "stdout",
     "output_type": "stream",
     "text": [
      "repetition: 25\n",
      "fold: 1\n",
      "fold: 2\n",
      "fold: 3\n",
      "repetition: 26\n",
      "fold: 1\n",
      "fold: 2\n",
      "fold: 3\n",
      "repetition: 27\n",
      "fold: 1\n",
      "fold: 2\n",
      "fold: 3\n",
      "repetition: 28\n",
      "fold: 1\n",
      "fold: 2\n",
      "fold: 3\n",
      "repetition: 29\n",
      "fold: 1\n",
      "fold: 2\n",
      "fold: 3\n",
      "repetition: 30\n",
      "fold: 1\n",
      "fold: 2\n",
      "fold: 3\n",
      "repetition: 31\n",
      "fold: 1\n",
      "fold: 2\n",
      "fold: 3\n",
      "repetition: 32\n",
      "fold: 1\n",
      "fold: 2\n",
      "fold: 3\n",
      "repetition: 33\n",
      "fold: 1\n",
      "fold: 2\n",
      "fold: 3\n",
      "F_mean: 0.429964539007\n",
      "AUC_mean: 0.590253685236\n",
      "PRECISION_mean: 0.38583929992\n",
      "RECALL_mean: 0.485485485485\n",
      "SPECIFICITY_mean: 0.476964769648\n",
      "percentage: 0.83403030303\n",
      "repetition: 1\n",
      "fold: 1\n",
      "fold: 2\n",
      "fold: 3\n",
      "repetition: 2\n",
      "fold: 1\n",
      "fold: 2\n",
      "fold: 3\n",
      "repetition: 3\n",
      "fold: 1\n",
      "fold: 2\n",
      "fold: 3\n",
      "repetition: 4\n",
      "fold: 1\n",
      "fold: 2\n",
      "fold: 3\n",
      "repetition: 5\n",
      "fold: 1\n",
      "fold: 2\n"
     ]
    },
    {
     "name": "stderr",
     "output_type": "stream",
     "text": [
      "/usr/local/lib/python3.4/dist-packages/sklearn/feature_selection/univariate_selection.py:113: UserWarning: Features [    13     99    305 ..., 572528 572553 572685] are constant.\n",
      "  UserWarning)\n"
     ]
    },
    {
     "name": "stdout",
     "output_type": "stream",
     "text": [
      "fold: 3\n",
      "repetition: 6\n",
      "fold: 1\n",
      "fold: 2\n",
      "fold: 3\n",
      "repetition: 7\n",
      "fold: 1\n",
      "fold: 2\n",
      "fold: 3\n",
      "repetition: 8\n",
      "fold: 1\n",
      "fold: 2\n",
      "fold: 3\n",
      "repetition: 9\n",
      "fold: 1\n",
      "fold: 2\n",
      "fold: 3\n",
      "repetition: 10\n",
      "fold: 1\n",
      "fold: 2\n"
     ]
    },
    {
     "name": "stderr",
     "output_type": "stream",
     "text": [
      "/usr/local/lib/python3.4/dist-packages/sklearn/feature_selection/univariate_selection.py:113: UserWarning: Features [    13     99    264 ..., 572720 572721 572722] are constant.\n",
      "  UserWarning)\n"
     ]
    },
    {
     "name": "stdout",
     "output_type": "stream",
     "text": [
      "fold: 3\n",
      "repetition: 11\n",
      "fold: 1\n",
      "fold: 2\n",
      "fold: 3\n",
      "repetition: 12\n",
      "fold: 1\n",
      "fold: 2\n",
      "fold: 3\n",
      "repetition: 13\n",
      "fold: 1\n",
      "fold: 2\n",
      "fold: 3\n",
      "repetition: 14\n",
      "fold: 1\n",
      "fold: 2\n",
      "fold: 3\n",
      "repetition: 15\n",
      "fold: 1\n",
      "fold: 2\n",
      "fold: 3\n",
      "repetition: 16\n",
      "fold: 1\n",
      "fold: 2\n",
      "fold: 3\n",
      "repetition: 17\n",
      "fold: 1\n",
      "fold: 2\n",
      "fold: 3\n",
      "repetition: 18\n",
      "fold: 1\n",
      "fold: 2\n",
      "fold: 3\n",
      "repetition: 19\n",
      "fold: 1\n"
     ]
    },
    {
     "name": "stderr",
     "output_type": "stream",
     "text": [
      "/usr/local/lib/python3.4/dist-packages/sklearn/feature_selection/univariate_selection.py:113: UserWarning: Features [    13     71     99 ..., 572733 572736 572737] are constant.\n",
      "  UserWarning)\n"
     ]
    },
    {
     "name": "stdout",
     "output_type": "stream",
     "text": [
      "fold: 2\n",
      "fold: 3\n",
      "repetition: 20\n",
      "fold: 1\n",
      "fold: 2\n",
      "fold: 3\n",
      "repetition: 21\n",
      "fold: 1\n",
      "fold: 2\n",
      "fold: 3\n",
      "repetition: 22\n",
      "fold: 1\n",
      "fold: 2\n",
      "fold: 3\n",
      "repetition: 23\n",
      "fold: 1\n",
      "fold: 2\n",
      "fold: 3\n"
     ]
    },
    {
     "name": "stderr",
     "output_type": "stream",
     "text": [
      "/usr/local/lib/python3.4/dist-packages/sklearn/feature_selection/univariate_selection.py:113: UserWarning: Features [    13     90     99 ..., 572634 572670 572685] are constant.\n",
      "  UserWarning)\n"
     ]
    },
    {
     "name": "stdout",
     "output_type": "stream",
     "text": [
      "repetition: 24\n",
      "fold: 1\n",
      "fold: 2\n",
      "fold: 3\n",
      "repetition: 25\n",
      "fold: 1\n",
      "fold: 2\n"
     ]
    },
    {
     "name": "stderr",
     "output_type": "stream",
     "text": [
      "/usr/local/lib/python3.4/dist-packages/sklearn/feature_selection/univariate_selection.py:113: UserWarning: Features [    13     99    149 ..., 572634 572662 572677] are constant.\n",
      "  UserWarning)\n"
     ]
    },
    {
     "name": "stdout",
     "output_type": "stream",
     "text": [
      "fold: 3\n",
      "repetition: 26\n",
      "fold: 1\n",
      "fold: 2\n",
      "fold: 3\n",
      "repetition: 27\n",
      "fold: 1\n",
      "fold: 2\n",
      "fold: 3\n",
      "repetition: 28\n",
      "fold: 1\n",
      "fold: 2\n",
      "fold: 3\n",
      "repetition: 29\n",
      "fold: 1\n",
      "fold: 2\n",
      "fold: 3\n",
      "repetition: 30\n",
      "fold: 1\n",
      "fold: 2\n",
      "fold: 3\n",
      "repetition: 31\n",
      "fold: 1\n",
      "fold: 2\n",
      "fold: 3\n",
      "repetition: 32\n",
      "fold: 1\n",
      "fold: 2\n",
      "fold: 3\n",
      "repetition: 33\n",
      "fold: 1\n",
      "fold: 2\n",
      "fold: 3\n",
      "F_mean: 0.435398230088\n",
      "AUC_mean: 0.569342127491\n",
      "PRECISION_mean: 0.376146788991\n",
      "RECALL_mean: 0.516806722689\n",
      "SPECIFICITY_mean: 0.464215364412\n",
      "percentage: 0.861797979798\n",
      "repetition: 1\n",
      "fold: 1\n",
      "fold: 2\n",
      "fold: 3\n",
      "repetition: 2\n",
      "fold: 1\n",
      "fold: 2\n",
      "fold: 3\n",
      "repetition: 3\n",
      "fold: 1\n",
      "fold: 2\n",
      "fold: 3\n",
      "repetition: 4\n",
      "fold: 1\n"
     ]
    },
    {
     "name": "stderr",
     "output_type": "stream",
     "text": [
      "/usr/local/lib/python3.4/dist-packages/sklearn/feature_selection/univariate_selection.py:113: UserWarning: Features [    13     72     91 ..., 572731 572732 572735] are constant.\n",
      "  UserWarning)\n"
     ]
    },
    {
     "name": "stdout",
     "output_type": "stream",
     "text": [
      "fold: 2\n",
      "fold: 3\n",
      "repetition: 5\n",
      "fold: 1\n",
      "fold: 2\n",
      "fold: 3\n",
      "repetition: 6\n",
      "fold: 1\n",
      "fold: 2\n",
      "fold: 3\n",
      "repetition: 7\n",
      "fold: 1\n",
      "fold: 2\n",
      "fold: 3\n",
      "repetition: 8\n",
      "fold: 1\n",
      "fold: 2\n",
      "fold: 3\n",
      "repetition: 9\n",
      "fold: 1\n",
      "fold: 2\n",
      "fold: 3\n",
      "repetition: 10\n",
      "fold: 1\n",
      "fold: 2\n",
      "fold: 3\n",
      "repetition: 11\n",
      "fold: 1\n",
      "fold: 2\n",
      "fold: 3\n",
      "repetition: 12\n",
      "fold: 1\n",
      "fold: 2\n",
      "fold: 3\n",
      "repetition: 13\n",
      "fold: 1\n",
      "fold: 2\n",
      "fold: 3\n",
      "repetition: 14\n",
      "fold: 1\n",
      "fold: 2\n",
      "fold: 3\n",
      "repetition: 15\n",
      "fold: 1\n",
      "fold: 2\n",
      "fold: 3\n",
      "repetition: 16\n",
      "fold: 1\n",
      "fold: 2\n",
      "fold: 3\n",
      "repetition: 17\n",
      "fold: 1\n",
      "fold: 2\n",
      "fold: 3\n",
      "repetition: 18\n",
      "fold: 1\n",
      "fold: 2\n",
      "fold: 3\n",
      "repetition: 19\n",
      "fold: 1\n",
      "fold: 2\n",
      "fold: 3\n",
      "repetition: 20\n",
      "fold: 1\n",
      "fold: 2\n",
      "fold: 3\n",
      "repetition: 21\n",
      "fold: 1\n",
      "fold: 2\n",
      "fold: 3\n",
      "repetition: 22\n",
      "fold: 1\n"
     ]
    },
    {
     "name": "stderr",
     "output_type": "stream",
     "text": [
      "/usr/local/lib/python3.4/dist-packages/sklearn/feature_selection/univariate_selection.py:113: UserWarning: Features [    13     80     85 ..., 572596 572670 572685] are constant.\n",
      "  UserWarning)\n"
     ]
    },
    {
     "name": "stdout",
     "output_type": "stream",
     "text": [
      "fold: 2\n",
      "fold: 3\n",
      "repetition: 23\n",
      "fold: 1\n",
      "fold: 2\n",
      "fold: 3\n",
      "repetition: 24\n",
      "fold: 1\n",
      "fold: 2\n",
      "fold: 3\n",
      "repetition: 25\n",
      "fold: 1\n",
      "fold: 2\n",
      "fold: 3\n",
      "repetition: 26\n",
      "fold: 1\n"
     ]
    },
    {
     "name": "stderr",
     "output_type": "stream",
     "text": [
      "/usr/local/lib/python3.4/dist-packages/sklearn/feature_selection/univariate_selection.py:113: UserWarning: Features [     5     13     99 ..., 572728 572729 572730] are constant.\n",
      "  UserWarning)\n"
     ]
    },
    {
     "name": "stdout",
     "output_type": "stream",
     "text": [
      "fold: 2\n",
      "fold: 3\n",
      "repetition: 27\n",
      "fold: 1\n",
      "fold: 2\n",
      "fold: 3\n",
      "repetition: 28\n",
      "fold: 1\n",
      "fold: 2\n",
      "fold: 3\n",
      "repetition: 29\n",
      "fold: 1\n",
      "fold: 2\n",
      "fold: 3\n"
     ]
    },
    {
     "name": "stderr",
     "output_type": "stream",
     "text": [
      "/usr/local/lib/python3.4/dist-packages/sklearn/feature_selection/univariate_selection.py:113: UserWarning: Features [    13     90     99 ..., 572677 572708 572709] are constant.\n",
      "  UserWarning)\n"
     ]
    },
    {
     "name": "stdout",
     "output_type": "stream",
     "text": [
      "repetition: 30\n",
      "fold: 1\n"
     ]
    },
    {
     "name": "stderr",
     "output_type": "stream",
     "text": [
      "/usr/local/lib/python3.4/dist-packages/sklearn/feature_selection/univariate_selection.py:113: UserWarning: Features [    13     99    204 ..., 572594 572595 572596] are constant.\n",
      "  UserWarning)\n"
     ]
    },
    {
     "name": "stdout",
     "output_type": "stream",
     "text": [
      "fold: 2\n",
      "fold: 3\n",
      "repetition: 31\n",
      "fold: 1\n",
      "fold: 2\n",
      "fold: 3\n",
      "repetition: 32\n",
      "fold: 1\n",
      "fold: 2\n",
      "fold: 3\n",
      "repetition: 33\n",
      "fold: 1\n",
      "fold: 2\n",
      "fold: 3\n",
      "F_mean: 0.457067371202\n",
      "AUC_mean: 0.598307088951\n",
      "PRECISION_mean: 0.401392111369\n",
      "RECALL_mean: 0.530674846626\n",
      "SPECIFICITY_mean: 0.482965931864\n",
      "percentage: 0.889565656566\n",
      "repetition: 1\n",
      "fold: 1\n",
      "fold: 2\n",
      "fold: 3\n",
      "repetition: 2\n",
      "fold: 1\n",
      "fold: 2\n",
      "fold: 3\n",
      "repetition: 3\n",
      "fold: 1\n",
      "fold: 2\n",
      "fold: 3\n",
      "repetition: 4\n",
      "fold: 1\n",
      "fold: 2\n",
      "fold: 3\n",
      "repetition: 5\n",
      "fold: 1\n",
      "fold: 2\n",
      "fold: 3\n",
      "repetition: 6\n",
      "fold: 1\n",
      "fold: 2\n",
      "fold: 3\n",
      "repetition: 7\n",
      "fold: 1\n",
      "fold: 2\n",
      "fold: 3\n",
      "repetition: 8\n",
      "fold: 1\n",
      "fold: 2\n",
      "fold: 3\n",
      "repetition: 9\n",
      "fold: 1\n",
      "fold: 2\n",
      "fold: 3\n",
      "repetition: 10\n",
      "fold: 1\n",
      "fold: 2\n",
      "fold: 3\n",
      "repetition: 11\n",
      "fold: 1\n",
      "fold: 2\n",
      "fold: 3\n",
      "repetition: 12\n",
      "fold: 1\n",
      "fold: 2\n",
      "fold: 3\n",
      "repetition: 13\n",
      "fold: 1\n",
      "fold: 2\n"
     ]
    },
    {
     "name": "stderr",
     "output_type": "stream",
     "text": [
      "/usr/local/lib/python3.4/dist-packages/sklearn/feature_selection/univariate_selection.py:113: UserWarning: Features [     4     13     80 ..., 572677 572708 572709] are constant.\n",
      "  UserWarning)\n"
     ]
    },
    {
     "name": "stdout",
     "output_type": "stream",
     "text": [
      "fold: 3\n",
      "repetition: 14\n",
      "fold: 1\n",
      "fold: 2\n",
      "fold: 3\n",
      "repetition: 15\n",
      "fold: 1\n",
      "fold: 2\n"
     ]
    },
    {
     "name": "stderr",
     "output_type": "stream",
     "text": [
      "/usr/local/lib/python3.4/dist-packages/sklearn/feature_selection/univariate_selection.py:113: UserWarning: Features [    13     90     99 ..., 572634 572708 572709] are constant.\n",
      "  UserWarning)\n"
     ]
    },
    {
     "name": "stdout",
     "output_type": "stream",
     "text": [
      "fold: 3\n",
      "repetition: 16\n",
      "fold: 1\n",
      "fold: 2\n",
      "fold: 3\n",
      "repetition: 17\n",
      "fold: 1\n",
      "fold: 2\n",
      "fold: 3\n",
      "repetition: 18\n",
      "fold: 1\n",
      "fold: 2\n",
      "fold: 3\n",
      "repetition: 19\n",
      "fold: 1\n",
      "fold: 2\n",
      "fold: 3\n",
      "repetition: 20\n",
      "fold: 1\n",
      "fold: 2\n",
      "fold: 3\n",
      "repetition: 21\n",
      "fold: 1\n",
      "fold: 2\n",
      "fold: 3\n",
      "repetition: 22\n",
      "fold: 1\n"
     ]
    },
    {
     "name": "stderr",
     "output_type": "stream",
     "text": [
      "/usr/local/lib/python3.4/dist-packages/sklearn/feature_selection/univariate_selection.py:113: UserWarning: Features [    13     71     80 ..., 572596 572708 572709] are constant.\n",
      "  UserWarning)\n"
     ]
    },
    {
     "name": "stdout",
     "output_type": "stream",
     "text": [
      "fold: 2\n",
      "fold: 3\n"
     ]
    },
    {
     "name": "stderr",
     "output_type": "stream",
     "text": [
      "/usr/local/lib/python3.4/dist-packages/sklearn/feature_selection/univariate_selection.py:113: UserWarning: Features [    13     90     99 ..., 572685 572686 572704] are constant.\n",
      "  UserWarning)\n"
     ]
    },
    {
     "name": "stdout",
     "output_type": "stream",
     "text": [
      "repetition: 23\n",
      "fold: 1\n",
      "fold: 2\n",
      "fold: 3\n",
      "repetition: 24\n",
      "fold: 1\n",
      "fold: 2\n",
      "fold: 3\n",
      "repetition: 25\n",
      "fold: 1\n",
      "fold: 2\n",
      "fold: 3\n",
      "repetition: 26\n",
      "fold: 1\n",
      "fold: 2\n",
      "fold: 3\n",
      "repetition: 27\n",
      "fold: 1\n",
      "fold: 2\n",
      "fold: 3\n"
     ]
    },
    {
     "name": "stderr",
     "output_type": "stream",
     "text": [
      "/usr/local/lib/python3.4/dist-packages/sklearn/feature_selection/univariate_selection.py:113: UserWarning: Features [    13     99    386 ..., 572720 572721 572722] are constant.\n",
      "  UserWarning)\n"
     ]
    },
    {
     "name": "stdout",
     "output_type": "stream",
     "text": [
      "repetition: 28\n",
      "fold: 1\n",
      "fold: 2\n",
      "fold: 3\n",
      "repetition: 29\n",
      "fold: 1\n",
      "fold: 2\n",
      "fold: 3\n",
      "repetition: 30\n",
      "fold: 1\n",
      "fold: 2\n",
      "fold: 3\n",
      "repetition: 31\n",
      "fold: 1\n",
      "fold: 2\n",
      "fold: 3\n",
      "repetition: 32\n",
      "fold: 1\n",
      "fold: 2\n",
      "fold: 3\n",
      "repetition: 33\n",
      "fold: 1\n",
      "fold: 2\n",
      "fold: 3\n",
      "F_mean: 0.439844760673\n",
      "AUC_mean: 0.603157230467\n",
      "PRECISION_mean: 0.381736526946\n",
      "RECALL_mean: 0.518819938962\n",
      "SPECIFICITY_mean: 0.446380697051\n",
      "percentage: 0.917333333333\n",
      "repetition: 1\n",
      "fold: 1\n",
      "fold: 2\n",
      "fold: 3\n"
     ]
    },
    {
     "name": "stderr",
     "output_type": "stream",
     "text": [
      "/usr/local/lib/python3.4/dist-packages/sklearn/feature_selection/univariate_selection.py:113: UserWarning: Features [     4     13     80 ..., 572421 572444 572704] are constant.\n",
      "  UserWarning)\n"
     ]
    },
    {
     "name": "stdout",
     "output_type": "stream",
     "text": [
      "repetition: 2\n",
      "fold: 1\n",
      "fold: 2\n",
      "fold: 3\n",
      "repetition: 3\n",
      "fold: 1\n",
      "fold: 2\n",
      "fold: 3\n",
      "repetition: 4\n",
      "fold: 1\n",
      "fold: 2\n",
      "fold: 3\n",
      "repetition: 5\n",
      "fold: 1\n",
      "fold: 2\n",
      "fold: 3\n",
      "repetition: 6\n",
      "fold: 1\n",
      "fold: 2\n",
      "fold: 3\n",
      "repetition: 7\n",
      "fold: 1\n",
      "fold: 2\n",
      "fold: 3\n"
     ]
    },
    {
     "name": "stderr",
     "output_type": "stream",
     "text": [
      "/usr/local/lib/python3.4/dist-packages/sklearn/feature_selection/univariate_selection.py:113: UserWarning: Features [    13     72     90 ..., 572662 572677 572685] are constant.\n",
      "  UserWarning)\n"
     ]
    },
    {
     "name": "stdout",
     "output_type": "stream",
     "text": [
      "repetition: 8\n",
      "fold: 1\n",
      "fold: 2\n",
      "fold: 3\n",
      "repetition: 9\n",
      "fold: 1\n",
      "fold: 2\n",
      "fold: 3\n",
      "repetition: 10\n",
      "fold: 1\n",
      "fold: 2\n",
      "fold: 3\n",
      "repetition: 11\n",
      "fold: 1\n",
      "fold: 2\n",
      "fold: 3\n",
      "repetition: 12\n",
      "fold: 1\n",
      "fold: 2\n",
      "fold: 3\n",
      "repetition: 13\n",
      "fold: 1\n",
      "fold: 2\n",
      "fold: 3\n",
      "repetition: 14\n",
      "fold: 1\n",
      "fold: 2\n",
      "fold: 3\n",
      "repetition: 15\n",
      "fold: 1\n",
      "fold: 2\n",
      "fold: 3\n",
      "repetition: 16\n",
      "fold: 1\n",
      "fold: 2\n",
      "fold: 3\n",
      "repetition: 17\n",
      "fold: 1\n",
      "fold: 2\n",
      "fold: 3\n",
      "repetition: 18\n",
      "fold: 1\n",
      "fold: 2\n",
      "fold: 3\n",
      "repetition: 19\n",
      "fold: 1\n",
      "fold: 2\n",
      "fold: 3\n",
      "repetition: 20\n",
      "fold: 1\n"
     ]
    },
    {
     "name": "stderr",
     "output_type": "stream",
     "text": [
      "/usr/local/lib/python3.4/dist-packages/sklearn/feature_selection/univariate_selection.py:113: UserWarning: Features [    13     90     99 ..., 572615 572662 572677] are constant.\n",
      "  UserWarning)\n"
     ]
    },
    {
     "name": "stdout",
     "output_type": "stream",
     "text": [
      "fold: 2\n",
      "fold: 3\n",
      "repetition: 21\n",
      "fold: 1\n",
      "fold: 2\n",
      "fold: 3\n",
      "repetition: 22\n",
      "fold: 1\n",
      "fold: 2\n",
      "fold: 3\n",
      "repetition: 23\n",
      "fold: 1\n",
      "fold: 2\n",
      "fold: 3\n",
      "repetition: 24\n",
      "fold: 1\n",
      "fold: 2\n",
      "fold: 3\n",
      "repetition: 25\n",
      "fold: 1\n",
      "fold: 2\n",
      "fold: 3\n",
      "repetition: 26\n",
      "fold: 1\n",
      "fold: 2\n",
      "fold: 3\n",
      "repetition: 27\n",
      "fold: 1\n",
      "fold: 2\n",
      "fold: 3\n"
     ]
    },
    {
     "name": "stderr",
     "output_type": "stream",
     "text": [
      "/usr/local/lib/python3.4/dist-packages/sklearn/feature_selection/univariate_selection.py:113: UserWarning: Features [    13     80     85 ..., 572528 572685 572704] are constant.\n",
      "  UserWarning)\n"
     ]
    },
    {
     "name": "stdout",
     "output_type": "stream",
     "text": [
      "repetition: 28\n",
      "fold: 1\n",
      "fold: 2\n",
      "fold: 3\n",
      "repetition: 29\n",
      "fold: 1\n",
      "fold: 2\n",
      "fold: 3\n",
      "repetition: 30\n",
      "fold: 1\n"
     ]
    },
    {
     "name": "stderr",
     "output_type": "stream",
     "text": [
      "/usr/local/lib/python3.4/dist-packages/sklearn/feature_selection/univariate_selection.py:113: UserWarning: Features [    13     72     99 ..., 572544 572621 572634] are constant.\n",
      "  UserWarning)\n"
     ]
    },
    {
     "name": "stdout",
     "output_type": "stream",
     "text": [
      "fold: 2\n",
      "fold: 3\n",
      "repetition: 31\n",
      "fold: 1\n",
      "fold: 2\n",
      "fold: 3\n",
      "repetition: 32\n",
      "fold: 1\n",
      "fold: 2\n",
      "fold: 3\n",
      "repetition: 33\n",
      "fold: 1\n",
      "fold: 2\n",
      "fold: 3\n",
      "F_mean: 0.417677642981\n",
      "AUC_mean: 0.570220100868\n",
      "PRECISION_mean: 0.367658276125\n",
      "RECALL_mean: 0.483450351053\n",
      "SPECIFICITY_mean: 0.439106901218\n",
      "percentage: 0.945101010101\n",
      "repetition: 1\n",
      "fold: 1\n",
      "fold: 2\n"
     ]
    },
    {
     "name": "stderr",
     "output_type": "stream",
     "text": [
      "/usr/local/lib/python3.4/dist-packages/sklearn/feature_selection/univariate_selection.py:113: UserWarning: Features [    13     99    149 ..., 572596 572621 572634] are constant.\n",
      "  UserWarning)\n"
     ]
    },
    {
     "name": "stdout",
     "output_type": "stream",
     "text": [
      "fold: 3\n",
      "repetition: 2\n",
      "fold: 1\n",
      "fold: 2\n",
      "fold: 3\n",
      "repetition: 3\n",
      "fold: 1\n",
      "fold: 2\n",
      "fold: 3\n",
      "repetition: 4\n",
      "fold: 1\n",
      "fold: 2\n",
      "fold: 3\n",
      "repetition: 5\n",
      "fold: 1\n",
      "fold: 2\n",
      "fold: 3\n",
      "repetition: 6\n",
      "fold: 1\n",
      "fold: 2\n",
      "fold: 3\n",
      "repetition: 7\n",
      "fold: 1\n",
      "fold: 2\n",
      "fold: 3\n",
      "repetition: 8\n",
      "fold: 1\n",
      "fold: 2\n",
      "fold: 3\n",
      "repetition: 9\n",
      "fold: 1\n",
      "fold: 2\n",
      "fold: 3\n",
      "repetition: 10\n",
      "fold: 1\n",
      "fold: 2\n",
      "fold: 3\n",
      "repetition: 11\n",
      "fold: 1\n",
      "fold: 2\n",
      "fold: 3\n",
      "repetition: 12\n",
      "fold: 1\n",
      "fold: 2\n",
      "fold: 3\n",
      "repetition: 13\n",
      "fold: 1\n",
      "fold: 2\n",
      "fold: 3\n",
      "repetition: 14\n",
      "fold: 1\n",
      "fold: 2\n",
      "fold: 3\n"
     ]
    },
    {
     "name": "stderr",
     "output_type": "stream",
     "text": [
      "/usr/local/lib/python3.4/dist-packages/sklearn/feature_selection/univariate_selection.py:113: UserWarning: Features [    13     90     99 ..., 572471 572472 572704] are constant.\n",
      "  UserWarning)\n"
     ]
    },
    {
     "name": "stdout",
     "output_type": "stream",
     "text": [
      "repetition: 15\n",
      "fold: 1\n",
      "fold: 2\n",
      "fold: 3\n",
      "repetition: 16\n",
      "fold: 1\n",
      "fold: 2\n",
      "fold: 3\n",
      "repetition: 17\n",
      "fold: 1\n",
      "fold: 2\n",
      "fold: 3\n",
      "repetition: 18\n",
      "fold: 1\n",
      "fold: 2\n"
     ]
    },
    {
     "name": "stderr",
     "output_type": "stream",
     "text": [
      "/usr/local/lib/python3.4/dist-packages/sklearn/feature_selection/univariate_selection.py:113: UserWarning: Features [    13     90     99 ..., 572662 572677 572704] are constant.\n",
      "  UserWarning)\n"
     ]
    },
    {
     "name": "stdout",
     "output_type": "stream",
     "text": [
      "fold: 3\n",
      "repetition: 19\n",
      "fold: 1\n",
      "fold: 2\n",
      "fold: 3\n",
      "repetition: 20\n",
      "fold: 1\n",
      "fold: 2\n",
      "fold: 3\n",
      "repetition: 21\n",
      "fold: 1\n",
      "fold: 2\n",
      "fold: 3\n",
      "repetition: 22\n",
      "fold: 1\n",
      "fold: 2\n",
      "fold: 3\n",
      "repetition: 23\n",
      "fold: 1\n",
      "fold: 2\n",
      "fold: 3\n",
      "repetition: 24\n",
      "fold: 1\n",
      "fold: 2\n"
     ]
    },
    {
     "name": "stderr",
     "output_type": "stream",
     "text": [
      "/usr/local/lib/python3.4/dist-packages/sklearn/feature_selection/univariate_selection.py:113: UserWarning: Features [     4     13     80 ..., 572615 572662 572677] are constant.\n",
      "  UserWarning)\n"
     ]
    },
    {
     "name": "stdout",
     "output_type": "stream",
     "text": [
      "fold: 3\n",
      "repetition: 25\n",
      "fold: 1\n",
      "fold: 2\n",
      "fold: 3\n"
     ]
    },
    {
     "name": "stderr",
     "output_type": "stream",
     "text": [
      "/usr/local/lib/python3.4/dist-packages/sklearn/feature_selection/univariate_selection.py:113: UserWarning: Features [    13     90     99 ..., 572621 572634 572704] are constant.\n",
      "  UserWarning)\n"
     ]
    },
    {
     "name": "stdout",
     "output_type": "stream",
     "text": [
      "repetition: 26\n",
      "fold: 1\n",
      "fold: 2\n",
      "fold: 3\n",
      "repetition: 27\n",
      "fold: 1\n",
      "fold: 2\n",
      "fold: 3\n",
      "repetition: 28\n",
      "fold: 1\n",
      "fold: 2\n",
      "fold: 3\n",
      "repetition: 29\n",
      "fold: 1\n",
      "fold: 2\n"
     ]
    },
    {
     "name": "stderr",
     "output_type": "stream",
     "text": [
      "/usr/local/lib/python3.4/dist-packages/sklearn/feature_selection/univariate_selection.py:113: UserWarning: Features [    13     99    178 ..., 572472 572604 572605] are constant.\n",
      "  UserWarning)\n"
     ]
    },
    {
     "name": "stdout",
     "output_type": "stream",
     "text": [
      "fold: 3\n",
      "repetition: 30\n",
      "fold: 1\n",
      "fold: 2\n",
      "fold: 3\n",
      "repetition: 31\n",
      "fold: 1\n",
      "fold: 2\n",
      "fold: 3\n",
      "repetition: 32\n",
      "fold: 1\n",
      "fold: 2\n",
      "fold: 3\n",
      "repetition: 33\n",
      "fold: 1\n",
      "fold: 2\n",
      "fold: 3\n",
      "F_mean: 0.427592116538\n",
      "AUC_mean: 0.598191319171\n",
      "PRECISION_mean: 0.365835777126\n",
      "RECALL_mean: 0.514432989691\n",
      "SPECIFICITY_mean: 0.425249169435\n",
      "percentage: 0.972868686869\n",
      "repetition: 1\n",
      "fold: 1\n",
      "fold: 2\n",
      "fold: 3\n",
      "repetition: 2\n",
      "fold: 1\n",
      "fold: 2\n",
      "fold: 3\n",
      "repetition: 3\n",
      "fold: 1\n",
      "fold: 2\n",
      "fold: 3\n",
      "repetition: 4\n",
      "fold: 1\n",
      "fold: 2\n",
      "fold: 3\n",
      "repetition: 5\n",
      "fold: 1\n",
      "fold: 2\n",
      "fold: 3\n"
     ]
    },
    {
     "name": "stderr",
     "output_type": "stream",
     "text": [
      "/usr/local/lib/python3.4/dist-packages/sklearn/feature_selection/univariate_selection.py:113: UserWarning: Features [    13     72     99 ..., 572621 572634 572684] are constant.\n",
      "  UserWarning)\n"
     ]
    },
    {
     "name": "stdout",
     "output_type": "stream",
     "text": [
      "repetition: 6\n",
      "fold: 1\n",
      "fold: 2\n",
      "fold: 3\n",
      "repetition: 7\n",
      "fold: 1\n",
      "fold: 2\n",
      "fold: 3\n",
      "repetition: 8\n",
      "fold: 1\n",
      "fold: 2\n",
      "fold: 3\n",
      "repetition: 9\n",
      "fold: 1\n",
      "fold: 2\n",
      "fold: 3\n",
      "repetition: 10\n",
      "fold: 1\n",
      "fold: 2\n",
      "fold: 3\n",
      "repetition: 11\n",
      "fold: 1\n",
      "fold: 2\n",
      "fold: 3\n",
      "repetition: 12\n",
      "fold: 1\n",
      "fold: 2\n"
     ]
    },
    {
     "name": "stderr",
     "output_type": "stream",
     "text": [
      "/usr/local/lib/python3.4/dist-packages/sklearn/feature_selection/univariate_selection.py:113: UserWarning: Features [    13     90     99 ..., 572528 572553 572684] are constant.\n",
      "  UserWarning)\n"
     ]
    },
    {
     "name": "stdout",
     "output_type": "stream",
     "text": [
      "fold: 3\n",
      "repetition: 13\n",
      "fold: 1\n",
      "fold: 2\n",
      "fold: 3\n",
      "repetition: 14\n",
      "fold: 1\n",
      "fold: 2\n",
      "fold: 3\n",
      "repetition: 15\n",
      "fold: 1\n",
      "fold: 2\n",
      "fold: 3\n",
      "repetition: 16\n",
      "fold: 1\n",
      "fold: 2\n",
      "fold: 3\n",
      "repetition: 17\n",
      "fold: 1\n",
      "fold: 2\n",
      "fold: 3\n",
      "repetition: 18\n",
      "fold: 1\n",
      "fold: 2\n",
      "fold: 3\n",
      "repetition: 19\n",
      "fold: 1\n",
      "fold: 2\n",
      "fold: 3\n",
      "repetition: 20\n",
      "fold: 1\n",
      "fold: 2\n",
      "fold: 3\n",
      "repetition: 21\n",
      "fold: 1\n",
      "fold: 2\n",
      "fold: 3\n"
     ]
    },
    {
     "name": "stderr",
     "output_type": "stream",
     "text": [
      "/usr/local/lib/python3.4/dist-packages/sklearn/feature_selection/univariate_selection.py:113: UserWarning: Features [    13     99    273 ..., 572704 572708 572709] are constant.\n",
      "  UserWarning)\n"
     ]
    },
    {
     "name": "stdout",
     "output_type": "stream",
     "text": [
      "repetition: 22\n",
      "fold: 1\n",
      "fold: 2\n",
      "fold: 3\n",
      "repetition: 23\n",
      "fold: 1\n",
      "fold: 2\n",
      "fold: 3\n",
      "repetition: 24\n",
      "fold: 1\n",
      "fold: 2\n",
      "fold: 3\n",
      "repetition: 25\n",
      "fold: 1\n",
      "fold: 2\n",
      "fold: 3\n",
      "repetition: 26\n",
      "fold: 1\n",
      "fold: 2\n",
      "fold: 3\n",
      "repetition: 27\n",
      "fold: 1\n",
      "fold: 2\n",
      "fold: 3\n",
      "repetition: 28\n",
      "fold: 1\n",
      "fold: 2\n",
      "fold: 3\n",
      "repetition: 29\n",
      "fold: 1\n",
      "fold: 2\n",
      "fold: 3\n"
     ]
    },
    {
     "name": "stderr",
     "output_type": "stream",
     "text": [
      "/usr/local/lib/python3.4/dist-packages/sklearn/feature_selection/univariate_selection.py:113: UserWarning: Features [    13     99    178 ..., 572605 572708 572709] are constant.\n",
      "  UserWarning)\n"
     ]
    },
    {
     "name": "stdout",
     "output_type": "stream",
     "text": [
      "repetition: 30\n",
      "fold: 1\n",
      "fold: 2\n",
      "fold: 3\n",
      "repetition: 31\n",
      "fold: 1\n",
      "fold: 2\n",
      "fold: 3\n",
      "repetition: 32\n",
      "fold: 1\n",
      "fold: 2\n",
      "fold: 3\n",
      "repetition: 33\n",
      "fold: 1\n",
      "fold: 2\n",
      "fold: 3\n",
      "F_mean: 0.440837249039\n",
      "AUC_mean: 0.588847393206\n",
      "PRECISION_mean: 0.387387387387\n",
      "RECALL_mean: 0.511397423191\n",
      "SPECIFICITY_mean: 0.443383356071\n",
      "percentage: 1.00063636364\n",
      "repetition: 1\n",
      "fold: 1\n",
      "fold: 2\n",
      "fold: 3\n",
      "repetition: 2\n",
      "fold: 1\n",
      "fold: 2\n",
      "fold: 3\n",
      "repetition: 3\n",
      "fold: 1\n",
      "fold: 2\n",
      "fold: 3\n"
     ]
    },
    {
     "name": "stderr",
     "output_type": "stream",
     "text": [
      "/usr/local/lib/python3.4/dist-packages/sklearn/feature_selection/univariate_selection.py:113: UserWarning: Features [    13     99    204 ..., 572596 572685 572704] are constant.\n",
      "  UserWarning)\n"
     ]
    },
    {
     "name": "stdout",
     "output_type": "stream",
     "text": [
      "repetition: 4\n",
      "fold: 1\n",
      "fold: 2\n"
     ]
    },
    {
     "name": "stderr",
     "output_type": "stream",
     "text": [
      "/usr/local/lib/python3.4/dist-packages/sklearn/feature_selection/univariate_selection.py:113: UserWarning: Features [     4     13     90 ..., 572684 572685 572686] are constant.\n",
      "  UserWarning)\n"
     ]
    },
    {
     "name": "stdout",
     "output_type": "stream",
     "text": [
      "fold: 3\n",
      "repetition: 5\n",
      "fold: 1\n",
      "fold: 2\n",
      "fold: 3\n",
      "repetition: 6\n",
      "fold: 1\n",
      "fold: 2\n",
      "fold: 3\n",
      "repetition: 7\n",
      "fold: 1\n",
      "fold: 2\n",
      "fold: 3\n",
      "repetition: 8\n",
      "fold: 1\n",
      "fold: 2\n",
      "fold: 3\n",
      "repetition: 9\n",
      "fold: 1\n",
      "fold: 2\n",
      "fold: 3\n",
      "repetition: 10\n",
      "fold: 1\n",
      "fold: 2\n",
      "fold: 3\n",
      "repetition: 11\n",
      "fold: 1\n",
      "fold: 2\n"
     ]
    },
    {
     "name": "stderr",
     "output_type": "stream",
     "text": [
      "/usr/local/lib/python3.4/dist-packages/sklearn/feature_selection/univariate_selection.py:113: UserWarning: Features [    13     99    281 ..., 572728 572729 572730] are constant.\n",
      "  UserWarning)\n"
     ]
    },
    {
     "name": "stdout",
     "output_type": "stream",
     "text": [
      "fold: 3\n",
      "repetition: 12\n",
      "fold: 1\n",
      "fold: 2\n"
     ]
    },
    {
     "name": "stderr",
     "output_type": "stream",
     "text": [
      "/usr/local/lib/python3.4/dist-packages/sklearn/feature_selection/univariate_selection.py:113: UserWarning: Features [    13     99    178 ..., 572634 572662 572677] are constant.\n",
      "  UserWarning)\n"
     ]
    },
    {
     "name": "stdout",
     "output_type": "stream",
     "text": [
      "fold: 3\n",
      "repetition: 13\n",
      "fold: 1\n",
      "fold: 2\n",
      "fold: 3\n",
      "repetition: 14\n",
      "fold: 1\n"
     ]
    },
    {
     "name": "stderr",
     "output_type": "stream",
     "text": [
      "/usr/local/lib/python3.4/dist-packages/sklearn/feature_selection/univariate_selection.py:113: UserWarning: Features [     4     13     72 ..., 572720 572721 572722] are constant.\n",
      "  UserWarning)\n"
     ]
    },
    {
     "name": "stdout",
     "output_type": "stream",
     "text": [
      "fold: 2\n",
      "fold: 3\n",
      "repetition: 15\n",
      "fold: 1\n",
      "fold: 2\n",
      "fold: 3\n",
      "repetition: 16\n",
      "fold: 1\n",
      "fold: 2\n",
      "fold: 3\n",
      "repetition: 17\n",
      "fold: 1\n",
      "fold: 2\n",
      "fold: 3\n",
      "repetition: 18\n",
      "fold: 1\n",
      "fold: 2\n",
      "fold: 3\n",
      "repetition: 19\n",
      "fold: 1\n",
      "fold: 2\n",
      "fold: 3\n",
      "repetition: 20\n",
      "fold: 1\n",
      "fold: 2\n",
      "fold: 3\n",
      "repetition: 21\n",
      "fold: 1\n",
      "fold: 2\n",
      "fold: 3\n",
      "repetition: 22\n",
      "fold: 1\n",
      "fold: 2\n",
      "fold: 3\n",
      "repetition: 23\n",
      "fold: 1\n",
      "fold: 2\n",
      "fold: 3\n",
      "repetition: 24\n",
      "fold: 1\n",
      "fold: 2\n",
      "fold: 3\n",
      "repetition: 25\n",
      "fold: 1\n",
      "fold: 2\n",
      "fold: 3\n",
      "repetition: 26\n",
      "fold: 1\n",
      "fold: 2\n",
      "fold: 3\n",
      "repetition: 27\n",
      "fold: 1\n",
      "fold: 2\n",
      "fold: 3\n",
      "repetition: 28\n",
      "fold: 1\n",
      "fold: 2\n",
      "fold: 3\n",
      "repetition: 29\n",
      "fold: 1\n",
      "fold: 2\n",
      "fold: 3\n",
      "repetition: 30\n",
      "fold: 1\n",
      "fold: 2\n",
      "fold: 3\n",
      "repetition: 31\n",
      "fold: 1\n",
      "fold: 2\n",
      "fold: 3\n",
      "repetition: 32\n",
      "fold: 1\n"
     ]
    },
    {
     "name": "stderr",
     "output_type": "stream",
     "text": [
      "/usr/local/lib/python3.4/dist-packages/sklearn/feature_selection/univariate_selection.py:113: UserWarning: Features [    13     99    264 ..., 572703 572704 572705] are constant.\n",
      "  UserWarning)\n"
     ]
    },
    {
     "name": "stdout",
     "output_type": "stream",
     "text": [
      "fold: 2\n",
      "fold: 3\n",
      "repetition: 33\n",
      "fold: 1\n",
      "fold: 2\n",
      "fold: 3\n",
      "F_mean: 0.446011458792\n",
      "AUC_mean: 0.583211903962\n",
      "PRECISION_mean: 0.394388152767\n",
      "RECALL_mean: 0.513184584178\n",
      "SPECIFICITY_mean: 0.478173270651\n",
      "percentage: 1.0284040404\n",
      "repetition: 1\n",
      "fold: 1\n",
      "fold: 2\n",
      "fold: 3\n",
      "repetition: 2\n",
      "fold: 1\n",
      "fold: 2\n",
      "fold: 3\n",
      "repetition: 3\n",
      "fold: 1\n"
     ]
    },
    {
     "name": "stderr",
     "output_type": "stream",
     "text": [
      "/usr/local/lib/python3.4/dist-packages/sklearn/feature_selection/univariate_selection.py:113: UserWarning: Features [    13     71     90 ..., 572731 572732 572735] are constant.\n",
      "  UserWarning)\n"
     ]
    },
    {
     "name": "stdout",
     "output_type": "stream",
     "text": [
      "fold: 2\n",
      "fold: 3\n",
      "repetition: 4\n",
      "fold: 1\n",
      "fold: 2\n",
      "fold: 3\n",
      "repetition: 5\n",
      "fold: 1\n",
      "fold: 2\n",
      "fold: 3\n",
      "repetition: 6\n",
      "fold: 1\n",
      "fold: 2\n",
      "fold: 3\n",
      "repetition: 7\n",
      "fold: 1\n",
      "fold: 2\n",
      "fold: 3\n",
      "repetition: 8\n",
      "fold: 1\n",
      "fold: 2\n",
      "fold: 3\n",
      "repetition: 9\n",
      "fold: 1\n",
      "fold: 2\n",
      "fold: 3\n",
      "repetition: 10\n",
      "fold: 1\n",
      "fold: 2\n",
      "fold: 3\n",
      "repetition: 11\n",
      "fold: 1\n",
      "fold: 2\n",
      "fold: 3\n",
      "repetition: 12\n",
      "fold: 1\n",
      "fold: 2\n"
     ]
    },
    {
     "name": "stderr",
     "output_type": "stream",
     "text": [
      "/usr/local/lib/python3.4/dist-packages/sklearn/feature_selection/univariate_selection.py:113: UserWarning: Features [    13     99    196 ..., 572733 572736 572737] are constant.\n",
      "  UserWarning)\n"
     ]
    },
    {
     "name": "stdout",
     "output_type": "stream",
     "text": [
      "fold: 3\n"
     ]
    },
    {
     "name": "stderr",
     "output_type": "stream",
     "text": [
      "/usr/local/lib/python3.4/dist-packages/sklearn/feature_selection/univariate_selection.py:113: UserWarning: Features [    13     71     80 ..., 572509 572525 572544] are constant.\n",
      "  UserWarning)\n"
     ]
    },
    {
     "name": "stdout",
     "output_type": "stream",
     "text": [
      "repetition: 13\n",
      "fold: 1\n",
      "fold: 2\n",
      "fold: 3\n",
      "repetition: 14\n",
      "fold: 1\n",
      "fold: 2\n",
      "fold: 3\n",
      "repetition: 15\n",
      "fold: 1\n",
      "fold: 2\n",
      "fold: 3\n",
      "repetition: 16\n",
      "fold: 1\n",
      "fold: 2\n"
     ]
    },
    {
     "name": "stderr",
     "output_type": "stream",
     "text": [
      "/usr/local/lib/python3.4/dist-packages/sklearn/feature_selection/univariate_selection.py:113: UserWarning: Features [    13     99    178 ..., 572588 572708 572709] are constant.\n",
      "  UserWarning)\n"
     ]
    },
    {
     "name": "stdout",
     "output_type": "stream",
     "text": [
      "fold: 3\n",
      "repetition: 17\n",
      "fold: 1\n",
      "fold: 2\n",
      "fold: 3\n",
      "repetition: 18\n",
      "fold: 1\n"
     ]
    },
    {
     "name": "stderr",
     "output_type": "stream",
     "text": [
      "/usr/local/lib/python3.4/dist-packages/sklearn/feature_selection/univariate_selection.py:113: UserWarning: Features [    13     99    204 ..., 572595 572596 572685] are constant.\n",
      "  UserWarning)\n"
     ]
    },
    {
     "name": "stdout",
     "output_type": "stream",
     "text": [
      "fold: 2\n",
      "fold: 3\n",
      "repetition: 19\n",
      "fold: 1\n",
      "fold: 2\n",
      "fold: 3\n",
      "repetition: 20\n",
      "fold: 1\n"
     ]
    },
    {
     "name": "stderr",
     "output_type": "stream",
     "text": [
      "/usr/local/lib/python3.4/dist-packages/sklearn/feature_selection/univariate_selection.py:113: UserWarning: Features [     5     13     80 ..., 572735 572736 572737] are constant.\n",
      "  UserWarning)\n"
     ]
    },
    {
     "name": "stdout",
     "output_type": "stream",
     "text": [
      "fold: 2\n",
      "fold: 3\n",
      "repetition: 21\n",
      "fold: 1\n",
      "fold: 2\n",
      "fold: 3\n",
      "repetition: 22\n",
      "fold: 1\n"
     ]
    },
    {
     "name": "stderr",
     "output_type": "stream",
     "text": [
      "/usr/local/lib/python3.4/dist-packages/sklearn/feature_selection/univariate_selection.py:113: UserWarning: Features [    13     90     99 ..., 572528 572621 572634] are constant.\n",
      "  UserWarning)\n"
     ]
    },
    {
     "name": "stdout",
     "output_type": "stream",
     "text": [
      "fold: 2\n",
      "fold: 3\n",
      "repetition: 23\n",
      "fold: 1\n",
      "fold: 2\n",
      "fold: 3\n",
      "repetition: 24\n",
      "fold: 1\n",
      "fold: 2\n",
      "fold: 3\n",
      "repetition: 25\n",
      "fold: 1\n",
      "fold: 2\n",
      "fold: 3\n",
      "repetition: 26\n",
      "fold: 1\n",
      "fold: 2\n",
      "fold: 3\n"
     ]
    },
    {
     "name": "stderr",
     "output_type": "stream",
     "text": [
      "/usr/local/lib/python3.4/dist-packages/sklearn/feature_selection/univariate_selection.py:113: UserWarning: Features [    13     99    149 ..., 572684 572708 572709] are constant.\n",
      "  UserWarning)\n"
     ]
    },
    {
     "name": "stdout",
     "output_type": "stream",
     "text": [
      "repetition: 27\n",
      "fold: 1\n",
      "fold: 2\n",
      "fold: 3\n",
      "repetition: 28\n",
      "fold: 1\n",
      "fold: 2\n",
      "fold: 3\n",
      "repetition: 29\n",
      "fold: 1\n",
      "fold: 2\n",
      "fold: 3\n",
      "repetition: 30\n",
      "fold: 1\n",
      "fold: 2\n",
      "fold: 3\n",
      "repetition: 31\n",
      "fold: 1\n",
      "fold: 2\n",
      "fold: 3\n",
      "repetition: 32\n",
      "fold: 1\n"
     ]
    },
    {
     "name": "stderr",
     "output_type": "stream",
     "text": [
      "/usr/local/lib/python3.4/dist-packages/sklearn/feature_selection/univariate_selection.py:113: UserWarning: Features [    13     99    264 ..., 572621 572634 572685] are constant.\n",
      "  UserWarning)\n"
     ]
    },
    {
     "name": "stdout",
     "output_type": "stream",
     "text": [
      "fold: 2\n",
      "fold: 3\n",
      "repetition: 33\n",
      "fold: 1\n",
      "fold: 2\n",
      "fold: 3\n",
      "F_mean: 0.454624027658\n",
      "AUC_mean: 0.579070248104\n",
      "PRECISION_mean: 0.394302848576\n",
      "RECALL_mean: 0.536734693878\n",
      "SPECIFICITY_mean: 0.459531772575\n",
      "percentage: 1.05617171717\n",
      "repetition: 1\n",
      "fold: 1\n",
      "fold: 2\n",
      "fold: 3\n",
      "repetition: 2\n",
      "fold: 1\n",
      "fold: 2\n",
      "fold: 3\n",
      "repetition: 3\n",
      "fold: 1\n",
      "fold: 2\n",
      "fold: 3\n",
      "repetition: 4\n",
      "fold: 1\n",
      "fold: 2\n",
      "fold: 3\n",
      "repetition: 5\n",
      "fold: 1\n",
      "fold: 2\n",
      "fold: 3\n",
      "repetition: 6\n",
      "fold: 1\n",
      "fold: 2\n",
      "fold: 3\n",
      "repetition: 7\n",
      "fold: 1\n",
      "fold: 2\n",
      "fold: 3\n",
      "repetition: 8\n",
      "fold: 1\n",
      "fold: 2\n",
      "fold: 3\n"
     ]
    },
    {
     "name": "stderr",
     "output_type": "stream",
     "text": [
      "/usr/local/lib/python3.4/dist-packages/sklearn/feature_selection/univariate_selection.py:113: UserWarning: Features [    13     80     85 ..., 572473 572685 572704] are constant.\n",
      "  UserWarning)\n"
     ]
    },
    {
     "name": "stdout",
     "output_type": "stream",
     "text": [
      "repetition: 9\n",
      "fold: 1\n",
      "fold: 2\n",
      "fold: 3\n",
      "repetition: 10\n",
      "fold: 1\n",
      "fold: 2\n",
      "fold: 3\n",
      "repetition: 11\n",
      "fold: 1\n",
      "fold: 2\n",
      "fold: 3\n",
      "repetition: 12\n",
      "fold: 1\n",
      "fold: 2\n",
      "fold: 3\n",
      "repetition: 13\n",
      "fold: 1\n",
      "fold: 2\n",
      "fold: 3\n",
      "repetition: 14\n",
      "fold: 1\n",
      "fold: 2\n"
     ]
    },
    {
     "name": "stderr",
     "output_type": "stream",
     "text": [
      "/usr/local/lib/python3.4/dist-packages/sklearn/feature_selection/univariate_selection.py:113: UserWarning: Features [     4     13     90 ..., 572481 572553 572684] are constant.\n",
      "  UserWarning)\n"
     ]
    },
    {
     "name": "stdout",
     "output_type": "stream",
     "text": [
      "fold: 3\n",
      "repetition: 15\n",
      "fold: 1\n",
      "fold: 2\n",
      "fold: 3\n",
      "repetition: 16\n",
      "fold: 1\n",
      "fold: 2\n",
      "fold: 3\n",
      "repetition: 17\n",
      "fold: 1\n",
      "fold: 2\n",
      "fold: 3\n",
      "repetition: 18\n",
      "fold: 1\n",
      "fold: 2\n",
      "fold: 3\n",
      "repetition: 19\n",
      "fold: 1\n",
      "fold: 2\n"
     ]
    },
    {
     "name": "stderr",
     "output_type": "stream",
     "text": [
      "/usr/local/lib/python3.4/dist-packages/sklearn/feature_selection/univariate_selection.py:113: UserWarning: Features [    13     71     90 ..., 572735 572736 572737] are constant.\n",
      "  UserWarning)\n"
     ]
    },
    {
     "name": "stdout",
     "output_type": "stream",
     "text": [
      "fold: 3\n",
      "repetition: 20\n",
      "fold: 1\n",
      "fold: 2\n",
      "fold: 3\n",
      "repetition: 21\n",
      "fold: 1\n",
      "fold: 2\n",
      "fold: 3\n",
      "repetition: 22\n",
      "fold: 1\n",
      "fold: 2\n",
      "fold: 3\n",
      "repetition: 23\n",
      "fold: 1\n",
      "fold: 2\n",
      "fold: 3\n",
      "repetition: 24\n",
      "fold: 1\n",
      "fold: 2\n",
      "fold: 3\n"
     ]
    },
    {
     "name": "stderr",
     "output_type": "stream",
     "text": [
      "/usr/local/lib/python3.4/dist-packages/sklearn/feature_selection/univariate_selection.py:113: UserWarning: Features [    13     80     85 ..., 572677 572684 572685] are constant.\n",
      "  UserWarning)\n"
     ]
    },
    {
     "name": "stdout",
     "output_type": "stream",
     "text": [
      "repetition: 25\n",
      "fold: 1\n",
      "fold: 2\n",
      "fold: 3\n",
      "repetition: 26\n",
      "fold: 1\n",
      "fold: 2\n",
      "fold: 3\n",
      "repetition: 27\n",
      "fold: 1\n",
      "fold: 2\n",
      "fold: 3\n",
      "repetition: 28\n",
      "fold: 1\n",
      "fold: 2\n"
     ]
    },
    {
     "name": "stderr",
     "output_type": "stream",
     "text": [
      "/usr/local/lib/python3.4/dist-packages/sklearn/feature_selection/univariate_selection.py:113: UserWarning: Features [    13     99    149 ..., 572677 572708 572709] are constant.\n",
      "  UserWarning)\n"
     ]
    },
    {
     "name": "stdout",
     "output_type": "stream",
     "text": [
      "fold: 3\n",
      "repetition: 29\n",
      "fold: 1\n",
      "fold: 2\n",
      "fold: 3\n",
      "repetition: 30\n",
      "fold: 1\n",
      "fold: 2\n"
     ]
    },
    {
     "name": "stderr",
     "output_type": "stream",
     "text": [
      "/usr/local/lib/python3.4/dist-packages/sklearn/feature_selection/univariate_selection.py:113: UserWarning: Features [     4     13     72 ..., 572634 572670 572685] are constant.\n",
      "  UserWarning)\n"
     ]
    },
    {
     "name": "stdout",
     "output_type": "stream",
     "text": [
      "fold: 3\n",
      "repetition: 31\n",
      "fold: 1\n",
      "fold: 2\n",
      "fold: 3\n",
      "repetition: 32\n",
      "fold: 1\n",
      "fold: 2\n",
      "fold: 3\n",
      "repetition: 33\n",
      "fold: 1\n",
      "fold: 2\n",
      "fold: 3\n",
      "F_mean: 0.400177462289\n",
      "AUC_mean: 0.591739549265\n",
      "PRECISION_mean: 0.354838709677\n",
      "RECALL_mean: 0.458799593082\n",
      "SPECIFICITY_mean: 0.450402144772\n",
      "percentage: 1.08393939394\n",
      "repetition: 1\n",
      "fold: 1\n",
      "fold: 2\n",
      "fold: 3\n",
      "repetition: 2\n",
      "fold: 1\n"
     ]
    },
    {
     "name": "stderr",
     "output_type": "stream",
     "text": [
      "/usr/local/lib/python3.4/dist-packages/sklearn/feature_selection/univariate_selection.py:113: UserWarning: Features [    13     72     80 ..., 572604 572605 572685] are constant.\n",
      "  UserWarning)\n"
     ]
    },
    {
     "name": "stdout",
     "output_type": "stream",
     "text": [
      "fold: 2\n",
      "fold: 3\n",
      "repetition: 3\n",
      "fold: 1\n",
      "fold: 2\n",
      "fold: 3\n",
      "repetition: 4\n",
      "fold: 1\n",
      "fold: 2\n",
      "fold: 3\n",
      "repetition: 5\n",
      "fold: 1\n",
      "fold: 2\n",
      "fold: 3\n",
      "repetition: 6\n",
      "fold: 1\n",
      "fold: 2\n",
      "fold: 3\n",
      "repetition: 7\n",
      "fold: 1\n",
      "fold: 2\n",
      "fold: 3\n",
      "repetition: 8\n",
      "fold: 1\n",
      "fold: 2\n",
      "fold: 3\n",
      "repetition: 9\n",
      "fold: 1\n",
      "fold: 2\n",
      "fold: 3\n"
     ]
    },
    {
     "name": "stderr",
     "output_type": "stream",
     "text": [
      "/usr/local/lib/python3.4/dist-packages/sklearn/feature_selection/univariate_selection.py:113: UserWarning: Features [    13     99    178 ..., 572554 572576 572685] are constant.\n",
      "  UserWarning)\n"
     ]
    },
    {
     "name": "stdout",
     "output_type": "stream",
     "text": [
      "repetition: 10\n",
      "fold: 1\n",
      "fold: 2\n",
      "fold: 3\n",
      "repetition: 11\n",
      "fold: 1\n",
      "fold: 2\n",
      "fold: 3\n",
      "repetition: 12\n",
      "fold: 1\n",
      "fold: 2\n",
      "fold: 3\n",
      "repetition: 13\n",
      "fold: 1\n",
      "fold: 2\n",
      "fold: 3\n",
      "repetition: 14\n",
      "fold: 1\n",
      "fold: 2\n",
      "fold: 3\n",
      "repetition: 15\n",
      "fold: 1\n",
      "fold: 2\n",
      "fold: 3\n",
      "repetition: 16\n",
      "fold: 1\n",
      "fold: 2\n",
      "fold: 3\n",
      "repetition: 17\n",
      "fold: 1\n",
      "fold: 2\n",
      "fold: 3\n",
      "repetition: 18\n",
      "fold: 1\n",
      "fold: 2\n",
      "fold: 3\n",
      "repetition: 19\n",
      "fold: 1\n",
      "fold: 2\n",
      "fold: 3\n",
      "repetition: 20\n",
      "fold: 1\n",
      "fold: 2\n",
      "fold: 3\n"
     ]
    },
    {
     "name": "stderr",
     "output_type": "stream",
     "text": [
      "/usr/local/lib/python3.4/dist-packages/sklearn/feature_selection/univariate_selection.py:113: UserWarning: Features [    13     99    355 ..., 572728 572729 572730] are constant.\n",
      "  UserWarning)\n"
     ]
    },
    {
     "name": "stdout",
     "output_type": "stream",
     "text": [
      "repetition: 21\n",
      "fold: 1\n",
      "fold: 2\n",
      "fold: 3\n",
      "repetition: 22\n",
      "fold: 1\n",
      "fold: 2\n",
      "fold: 3\n",
      "repetition: 23\n",
      "fold: 1\n",
      "fold: 2\n",
      "fold: 3\n",
      "repetition: 24\n",
      "fold: 1\n",
      "fold: 2\n",
      "fold: 3\n",
      "repetition: 25\n",
      "fold: 1\n",
      "fold: 2\n",
      "fold: 3\n",
      "repetition: 26\n",
      "fold: 1\n",
      "fold: 2\n",
      "fold: 3\n",
      "repetition: 27\n",
      "fold: 1\n",
      "fold: 2\n",
      "fold: 3\n",
      "repetition: 28\n",
      "fold: 1\n",
      "fold: 2\n",
      "fold: 3\n",
      "repetition: 29\n",
      "fold: 1\n",
      "fold: 2\n",
      "fold: 3\n",
      "repetition: 30\n",
      "fold: 1\n",
      "fold: 2\n",
      "fold: 3\n",
      "repetition: 31\n",
      "fold: 1\n",
      "fold: 2\n",
      "fold: 3\n",
      "repetition: 32\n",
      "fold: 1\n"
     ]
    },
    {
     "name": "stderr",
     "output_type": "stream",
     "text": [
      "/usr/local/lib/python3.4/dist-packages/sklearn/feature_selection/univariate_selection.py:113: UserWarning: Features [    13     99    178 ..., 572634 572685 572704] are constant.\n",
      "  UserWarning)\n"
     ]
    },
    {
     "name": "stdout",
     "output_type": "stream",
     "text": [
      "fold: 2\n",
      "fold: 3\n",
      "repetition: 33\n",
      "fold: 1\n",
      "fold: 2\n",
      "fold: 3\n",
      "F_mean: 0.456692913386\n",
      "AUC_mean: 0.581067415723\n",
      "PRECISION_mean: 0.400613967767\n",
      "RECALL_mean: 0.531027466938\n",
      "SPECIFICITY_mean: 0.47654155496\n",
      "percentage: 1.11170707071\n",
      "repetition: 1\n",
      "fold: 1\n",
      "fold: 2\n",
      "fold: 3\n",
      "repetition: 2\n",
      "fold: 1\n",
      "fold: 2\n",
      "fold: 3\n",
      "repetition: 3\n",
      "fold: 1\n",
      "fold: 2\n",
      "fold: 3\n",
      "repetition: 4\n",
      "fold: 1\n",
      "fold: 2\n",
      "fold: 3\n",
      "repetition: 5\n",
      "fold: 1\n",
      "fold: 2\n",
      "fold: 3\n",
      "repetition: 6\n",
      "fold: 1\n",
      "fold: 2\n",
      "fold: 3\n",
      "repetition: 7\n",
      "fold: 1\n",
      "fold: 2\n",
      "fold: 3\n",
      "repetition: 8\n",
      "fold: 1\n",
      "fold: 2\n",
      "fold: 3\n",
      "repetition: 9\n",
      "fold: 1\n"
     ]
    },
    {
     "name": "stderr",
     "output_type": "stream",
     "text": [
      "/usr/local/lib/python3.4/dist-packages/sklearn/feature_selection/univariate_selection.py:113: UserWarning: Features [    13     80     85 ..., 572231 572510 572528] are constant.\n",
      "  UserWarning)\n"
     ]
    },
    {
     "name": "stdout",
     "output_type": "stream",
     "text": [
      "fold: 2\n",
      "fold: 3\n",
      "repetition: 10\n",
      "fold: 1\n",
      "fold: 2\n",
      "fold: 3\n",
      "repetition: 11\n",
      "fold: 1\n",
      "fold: 2\n",
      "fold: 3\n",
      "repetition: 12\n",
      "fold: 1\n",
      "fold: 2\n",
      "fold: 3\n",
      "repetition: 13\n",
      "fold: 1\n",
      "fold: 2\n",
      "fold: 3\n",
      "repetition: 14\n",
      "fold: 1\n",
      "fold: 2\n",
      "fold: 3\n",
      "repetition: 15\n",
      "fold: 1\n",
      "fold: 2\n",
      "fold: 3\n",
      "repetition: 16\n",
      "fold: 1\n",
      "fold: 2\n",
      "fold: 3\n",
      "repetition: 17\n",
      "fold: 1\n",
      "fold: 2\n",
      "fold: 3\n",
      "repetition: 18\n",
      "fold: 1\n",
      "fold: 2\n",
      "fold: 3\n",
      "repetition: 19\n",
      "fold: 1\n",
      "fold: 2\n",
      "fold: 3\n",
      "repetition: 20\n",
      "fold: 1\n",
      "fold: 2\n",
      "fold: 3\n",
      "repetition: 21\n",
      "fold: 1\n",
      "fold: 2\n",
      "fold: 3\n",
      "repetition: 22\n",
      "fold: 1\n",
      "fold: 2\n",
      "fold: 3\n",
      "repetition: 23\n",
      "fold: 1\n",
      "fold: 2\n",
      "fold: 3\n",
      "repetition: 24\n",
      "fold: 1\n",
      "fold: 2\n",
      "fold: 3\n",
      "repetition: 25\n",
      "fold: 1\n"
     ]
    },
    {
     "name": "stderr",
     "output_type": "stream",
     "text": [
      "/usr/local/lib/python3.4/dist-packages/sklearn/feature_selection/univariate_selection.py:113: UserWarning: Features [    13     99    149 ..., 572621 572634 572685] are constant.\n",
      "  UserWarning)\n"
     ]
    },
    {
     "name": "stdout",
     "output_type": "stream",
     "text": [
      "fold: 2\n",
      "fold: 3\n",
      "repetition: 26\n",
      "fold: 1\n",
      "fold: 2\n",
      "fold: 3\n",
      "repetition: 27\n",
      "fold: 1\n",
      "fold: 2\n",
      "fold: 3\n",
      "repetition: 28\n",
      "fold: 1\n",
      "fold: 2\n",
      "fold: 3\n",
      "repetition: 29\n",
      "fold: 1\n",
      "fold: 2\n",
      "fold: 3\n"
     ]
    },
    {
     "name": "stderr",
     "output_type": "stream",
     "text": [
      "/usr/local/lib/python3.4/dist-packages/sklearn/feature_selection/univariate_selection.py:113: UserWarning: Features [    13     90     99 ..., 572634 572662 572677] are constant.\n",
      "  UserWarning)\n"
     ]
    },
    {
     "name": "stdout",
     "output_type": "stream",
     "text": [
      "repetition: 30\n",
      "fold: 1\n",
      "fold: 2\n",
      "fold: 3\n",
      "repetition: 31\n",
      "fold: 1\n",
      "fold: 2\n"
     ]
    },
    {
     "name": "stderr",
     "output_type": "stream",
     "text": [
      "/usr/local/lib/python3.4/dist-packages/sklearn/feature_selection/univariate_selection.py:113: UserWarning: Features [    13     71     99 ..., 572720 572721 572722] are constant.\n",
      "  UserWarning)\n"
     ]
    },
    {
     "name": "stdout",
     "output_type": "stream",
     "text": [
      "fold: 3\n"
     ]
    },
    {
     "name": "stderr",
     "output_type": "stream",
     "text": [
      "/usr/local/lib/python3.4/dist-packages/sklearn/feature_selection/univariate_selection.py:113: UserWarning: Features [    13     99    264 ..., 572634 572708 572709] are constant.\n",
      "  UserWarning)\n"
     ]
    },
    {
     "name": "stdout",
     "output_type": "stream",
     "text": [
      "repetition: 32\n",
      "fold: 1\n"
     ]
    },
    {
     "name": "stderr",
     "output_type": "stream",
     "text": [
      "/usr/local/lib/python3.4/dist-packages/sklearn/feature_selection/univariate_selection.py:113: UserWarning: Features [     4     13     72 ..., 572634 572662 572677] are constant.\n",
      "  UserWarning)\n"
     ]
    },
    {
     "name": "stdout",
     "output_type": "stream",
     "text": [
      "fold: 2\n",
      "fold: 3\n",
      "repetition: 33\n",
      "fold: 1\n",
      "fold: 2\n",
      "fold: 3\n",
      "F_mean: 0.476832350463\n",
      "AUC_mean: 0.592130171159\n",
      "PRECISION_mean: 0.417096536478\n",
      "RECALL_mean: 0.556538839725\n",
      "SPECIFICITY_mean: 0.457475994513\n",
      "percentage: 1.13947474747\n",
      "repetition: 1\n",
      "fold: 1\n",
      "fold: 2\n",
      "fold: 3\n",
      "repetition: 2\n",
      "fold: 1\n",
      "fold: 2\n",
      "fold: 3\n",
      "repetition: 3\n",
      "fold: 1\n",
      "fold: 2\n",
      "fold: 3\n",
      "repetition: 4\n",
      "fold: 1\n",
      "fold: 2\n",
      "fold: 3\n"
     ]
    },
    {
     "name": "stderr",
     "output_type": "stream",
     "text": [
      "/usr/local/lib/python3.4/dist-packages/sklearn/feature_selection/univariate_selection.py:113: UserWarning: Features [     5     13     80 ..., 572720 572721 572722] are constant.\n",
      "  UserWarning)\n"
     ]
    },
    {
     "name": "stdout",
     "output_type": "stream",
     "text": [
      "repetition: 5\n",
      "fold: 1\n",
      "fold: 2\n",
      "fold: 3\n",
      "repetition: 6\n",
      "fold: 1\n",
      "fold: 2\n",
      "fold: 3\n",
      "repetition: 7\n",
      "fold: 1\n",
      "fold: 2\n",
      "fold: 3\n",
      "repetition: 8\n",
      "fold: 1\n",
      "fold: 2\n",
      "fold: 3\n"
     ]
    },
    {
     "name": "stderr",
     "output_type": "stream",
     "text": [
      "/usr/local/lib/python3.4/dist-packages/sklearn/feature_selection/univariate_selection.py:113: UserWarning: Features [    13     72     90 ..., 572588 572708 572709] are constant.\n",
      "  UserWarning)\n"
     ]
    },
    {
     "name": "stdout",
     "output_type": "stream",
     "text": [
      "repetition: 9\n",
      "fold: 1\n",
      "fold: 2\n",
      "fold: 3\n",
      "repetition: 10\n",
      "fold: 1\n",
      "fold: 2\n",
      "fold: 3\n",
      "repetition: 11\n",
      "fold: 1\n",
      "fold: 2\n",
      "fold: 3\n",
      "repetition: 12\n",
      "fold: 1\n",
      "fold: 2\n",
      "fold: 3\n",
      "repetition: 13\n",
      "fold: 1\n",
      "fold: 2\n",
      "fold: 3\n",
      "repetition: 14\n",
      "fold: 1\n",
      "fold: 2\n",
      "fold: 3\n",
      "repetition: 15\n",
      "fold: 1\n",
      "fold: 2\n",
      "fold: 3\n",
      "repetition: 16\n",
      "fold: 1\n",
      "fold: 2\n",
      "fold: 3\n",
      "repetition: 17\n",
      "fold: 1\n",
      "fold: 2\n"
     ]
    },
    {
     "name": "stderr",
     "output_type": "stream",
     "text": [
      "/usr/local/lib/python3.4/dist-packages/sklearn/feature_selection/univariate_selection.py:113: UserWarning: Features [    13     72     80 ..., 572596 572708 572709] are constant.\n",
      "  UserWarning)\n"
     ]
    },
    {
     "name": "stdout",
     "output_type": "stream",
     "text": [
      "fold: 3\n",
      "repetition: 18\n",
      "fold: 1\n",
      "fold: 2\n",
      "fold: 3\n",
      "repetition: 19\n",
      "fold: 1\n",
      "fold: 2\n",
      "fold: 3\n",
      "repetition: 20\n",
      "fold: 1\n",
      "fold: 2\n",
      "fold: 3\n",
      "repetition: 21\n",
      "fold: 1\n",
      "fold: 2\n",
      "fold: 3\n",
      "repetition: 22\n",
      "fold: 1\n",
      "fold: 2\n"
     ]
    },
    {
     "name": "stderr",
     "output_type": "stream",
     "text": [
      "/usr/local/lib/python3.4/dist-packages/sklearn/feature_selection/univariate_selection.py:113: UserWarning: Features [    13     99    204 ..., 572702 572703 572704] are constant.\n",
      "  UserWarning)\n"
     ]
    },
    {
     "name": "stdout",
     "output_type": "stream",
     "text": [
      "fold: 3\n",
      "repetition: 23\n",
      "fold: 1\n",
      "fold: 2\n",
      "fold: 3\n",
      "repetition: 24\n",
      "fold: 1\n",
      "fold: 2\n",
      "fold: 3\n"
     ]
    },
    {
     "name": "stderr",
     "output_type": "stream",
     "text": [
      "/usr/local/lib/python3.4/dist-packages/sklearn/feature_selection/univariate_selection.py:113: UserWarning: Features [    13     99    204 ..., 572596 572708 572709] are constant.\n",
      "  UserWarning)\n"
     ]
    },
    {
     "name": "stdout",
     "output_type": "stream",
     "text": [
      "repetition: 25\n",
      "fold: 1\n",
      "fold: 2\n",
      "fold: 3\n",
      "repetition: 26\n",
      "fold: 1\n",
      "fold: 2\n",
      "fold: 3\n",
      "repetition: 27\n",
      "fold: 1\n",
      "fold: 2\n",
      "fold: 3\n",
      "repetition: 28\n",
      "fold: 1\n",
      "fold: 2\n",
      "fold: 3\n",
      "repetition: 29\n",
      "fold: 1\n",
      "fold: 2\n",
      "fold: 3\n",
      "repetition: 30\n",
      "fold: 1\n",
      "fold: 2\n",
      "fold: 3\n",
      "repetition: 31\n",
      "fold: 1\n",
      "fold: 2\n"
     ]
    },
    {
     "name": "stderr",
     "output_type": "stream",
     "text": [
      "/usr/local/lib/python3.4/dist-packages/sklearn/feature_selection/univariate_selection.py:113: UserWarning: Features [     4     13     80 ..., 572705 572708 572709] are constant.\n",
      "  UserWarning)\n"
     ]
    },
    {
     "name": "stdout",
     "output_type": "stream",
     "text": [
      "fold: 3\n",
      "repetition: 32\n",
      "fold: 1\n",
      "fold: 2\n",
      "fold: 3\n",
      "repetition: 33\n",
      "fold: 1\n",
      "fold: 2\n",
      "fold: 3\n",
      "F_mean: 0.454352441614\n",
      "AUC_mean: 0.58191923963\n",
      "PRECISION_mean: 0.398956002983\n",
      "RECALL_mean: 0.527613412229\n",
      "SPECIFICITY_mean: 0.448323066393\n",
      "percentage: 1.16724242424\n",
      "repetition: 1\n",
      "fold: 1\n",
      "fold: 2\n",
      "fold: 3\n"
     ]
    },
    {
     "name": "stderr",
     "output_type": "stream",
     "text": [
      "/usr/local/lib/python3.4/dist-packages/sklearn/feature_selection/univariate_selection.py:113: UserWarning: Features [    13     80     85 ..., 572472 572553 572704] are constant.\n",
      "  UserWarning)\n"
     ]
    },
    {
     "name": "stdout",
     "output_type": "stream",
     "text": [
      "repetition: 2\n",
      "fold: 1\n",
      "fold: 2\n",
      "fold: 3\n",
      "repetition: 3\n",
      "fold: 1\n",
      "fold: 2\n",
      "fold: 3\n",
      "repetition: 4\n",
      "fold: 1\n",
      "fold: 2\n",
      "fold: 3\n",
      "repetition: 5\n",
      "fold: 1\n",
      "fold: 2\n",
      "fold: 3\n",
      "repetition: 6\n",
      "fold: 1\n",
      "fold: 2\n",
      "fold: 3\n",
      "repetition: 7\n",
      "fold: 1\n",
      "fold: 2\n",
      "fold: 3\n",
      "repetition: 8\n",
      "fold: 1\n",
      "fold: 2\n",
      "fold: 3\n",
      "repetition: 9\n",
      "fold: 1\n",
      "fold: 2\n",
      "fold: 3\n",
      "repetition: 10\n",
      "fold: 1\n",
      "fold: 2\n",
      "fold: 3\n",
      "repetition: 11\n",
      "fold: 1\n",
      "fold: 2\n",
      "fold: 3\n",
      "repetition: 12\n",
      "fold: 1\n",
      "fold: 2\n"
     ]
    },
    {
     "name": "stderr",
     "output_type": "stream",
     "text": [
      "/usr/local/lib/python3.4/dist-packages/sklearn/feature_selection/univariate_selection.py:113: UserWarning: Features [    13     80     85 ..., 572685 572686 572704] are constant.\n",
      "  UserWarning)\n"
     ]
    },
    {
     "name": "stdout",
     "output_type": "stream",
     "text": [
      "fold: 3\n",
      "repetition: 13\n",
      "fold: 1\n",
      "fold: 2\n",
      "fold: 3\n",
      "repetition: 14\n",
      "fold: 1\n",
      "fold: 2\n",
      "fold: 3\n",
      "repetition: 15\n",
      "fold: 1\n",
      "fold: 2\n",
      "fold: 3\n",
      "repetition: 16\n",
      "fold: 1\n",
      "fold: 2\n",
      "fold: 3\n",
      "repetition: 17\n",
      "fold: 1\n",
      "fold: 2\n",
      "fold: 3\n",
      "repetition: 18\n",
      "fold: 1\n",
      "fold: 2\n",
      "fold: 3\n",
      "repetition: 19\n",
      "fold: 1\n",
      "fold: 2\n",
      "fold: 3\n",
      "repetition: 20\n",
      "fold: 1\n",
      "fold: 2\n",
      "fold: 3\n",
      "repetition: 21\n",
      "fold: 1\n",
      "fold: 2\n",
      "fold: 3\n",
      "repetition: 22\n",
      "fold: 1\n",
      "fold: 2\n",
      "fold: 3\n",
      "repetition: 23\n",
      "fold: 1\n",
      "fold: 2\n"
     ]
    },
    {
     "name": "stderr",
     "output_type": "stream",
     "text": [
      "/usr/local/lib/python3.4/dist-packages/sklearn/feature_selection/univariate_selection.py:113: UserWarning: Features [    13     80     85 ..., 572303 572323 572553] are constant.\n",
      "  UserWarning)\n"
     ]
    },
    {
     "name": "stdout",
     "output_type": "stream",
     "text": [
      "fold: 3\n",
      "repetition: 24\n",
      "fold: 1\n",
      "fold: 2\n",
      "fold: 3\n",
      "repetition: 25\n",
      "fold: 1\n",
      "fold: 2\n",
      "fold: 3\n",
      "repetition: 26\n",
      "fold: 1\n",
      "fold: 2\n",
      "fold: 3\n",
      "repetition: 27\n",
      "fold: 1\n",
      "fold: 2\n"
     ]
    },
    {
     "name": "stderr",
     "output_type": "stream",
     "text": [
      "/usr/local/lib/python3.4/dist-packages/sklearn/feature_selection/univariate_selection.py:113: UserWarning: Features [    13     99    273 ..., 572621 572634 572704] are constant.\n",
      "  UserWarning)\n"
     ]
    },
    {
     "name": "stdout",
     "output_type": "stream",
     "text": [
      "fold: 3\n",
      "repetition: 28\n",
      "fold: 1\n",
      "fold: 2\n",
      "fold: 3\n",
      "repetition: 29\n",
      "fold: 1\n",
      "fold: 2\n",
      "fold: 3\n",
      "repetition: 30\n",
      "fold: 1\n",
      "fold: 2\n",
      "fold: 3\n",
      "repetition: 31\n",
      "fold: 1\n",
      "fold: 2\n",
      "fold: 3\n",
      "repetition: 32\n",
      "fold: 1\n",
      "fold: 2\n",
      "fold: 3\n",
      "repetition: 33\n",
      "fold: 1\n",
      "fold: 2\n",
      "fold: 3\n",
      "F_mean: 0.457167455876\n",
      "AUC_mean: 0.585771550113\n",
      "PRECISION_mean: 0.395678092399\n",
      "RECALL_mean: 0.54128440367\n",
      "SPECIFICITY_mean: 0.457161981258\n",
      "percentage: 1.19501010101\n",
      "repetition: 1\n",
      "fold: 1\n",
      "fold: 2\n",
      "fold: 3\n",
      "repetition: 2\n",
      "fold: 1\n",
      "fold: 2\n",
      "fold: 3\n",
      "repetition: 3\n",
      "fold: 1\n",
      "fold: 2\n",
      "fold: 3\n",
      "repetition: 4\n",
      "fold: 1\n",
      "fold: 2\n"
     ]
    },
    {
     "name": "stderr",
     "output_type": "stream",
     "text": [
      "/usr/local/lib/python3.4/dist-packages/sklearn/feature_selection/univariate_selection.py:113: UserWarning: Features [    13     72     90 ..., 572480 572509 572684] are constant.\n",
      "  UserWarning)\n"
     ]
    },
    {
     "name": "stdout",
     "output_type": "stream",
     "text": [
      "fold: 3\n",
      "repetition: 5\n",
      "fold: 1\n",
      "fold: 2\n",
      "fold: 3\n"
     ]
    },
    {
     "name": "stderr",
     "output_type": "stream",
     "text": [
      "/usr/local/lib/python3.4/dist-packages/sklearn/feature_selection/univariate_selection.py:113: UserWarning: Features [     4     13     80 ..., 572554 572685 572704] are constant.\n",
      "  UserWarning)\n"
     ]
    },
    {
     "name": "stdout",
     "output_type": "stream",
     "text": [
      "repetition: 6\n",
      "fold: 1\n",
      "fold: 2\n",
      "fold: 3\n",
      "repetition: 7\n",
      "fold: 1\n",
      "fold: 2\n",
      "fold: 3\n",
      "repetition: 8\n",
      "fold: 1\n",
      "fold: 2\n",
      "fold: 3\n",
      "repetition: 9\n",
      "fold: 1\n",
      "fold: 2\n",
      "fold: 3\n",
      "repetition: 10\n",
      "fold: 1\n",
      "fold: 2\n",
      "fold: 3\n",
      "repetition: 11\n",
      "fold: 1\n",
      "fold: 2\n",
      "fold: 3\n",
      "repetition: 12\n",
      "fold: 1\n",
      "fold: 2\n",
      "fold: 3\n",
      "repetition: 13\n",
      "fold: 1\n",
      "fold: 2\n",
      "fold: 3\n",
      "repetition: 14\n",
      "fold: 1\n"
     ]
    },
    {
     "name": "stderr",
     "output_type": "stream",
     "text": [
      "/usr/local/lib/python3.4/dist-packages/sklearn/feature_selection/univariate_selection.py:113: UserWarning: Features [     4     13     72 ..., 572692 572702 572703] are constant.\n",
      "  UserWarning)\n"
     ]
    },
    {
     "name": "stdout",
     "output_type": "stream",
     "text": [
      "fold: 2\n",
      "fold: 3\n",
      "repetition: 15\n",
      "fold: 1\n",
      "fold: 2\n",
      "fold: 3\n",
      "repetition: 16\n",
      "fold: 1\n",
      "fold: 2\n",
      "fold: 3\n",
      "repetition: 17\n",
      "fold: 1\n",
      "fold: 2\n",
      "fold: 3\n",
      "repetition: 18\n",
      "fold: 1\n",
      "fold: 2\n",
      "fold: 3\n"
     ]
    },
    {
     "name": "stderr",
     "output_type": "stream",
     "text": [
      "/usr/local/lib/python3.4/dist-packages/sklearn/feature_selection/univariate_selection.py:113: UserWarning: Features [    13     99    282 ..., 572703 572708 572709] are constant.\n",
      "  UserWarning)\n"
     ]
    },
    {
     "name": "stdout",
     "output_type": "stream",
     "text": [
      "repetition: 19\n",
      "fold: 1\n",
      "fold: 2\n",
      "fold: 3\n",
      "repetition: 20\n",
      "fold: 1\n",
      "fold: 2\n",
      "fold: 3\n",
      "repetition: 21\n",
      "fold: 1\n",
      "fold: 2\n",
      "fold: 3\n"
     ]
    },
    {
     "name": "stderr",
     "output_type": "stream",
     "text": [
      "/usr/local/lib/python3.4/dist-packages/sklearn/feature_selection/univariate_selection.py:113: UserWarning: Features [    13     99    290 ..., 572692 572702 572703] are constant.\n",
      "  UserWarning)\n"
     ]
    },
    {
     "name": "stdout",
     "output_type": "stream",
     "text": [
      "repetition: 22\n",
      "fold: 1\n",
      "fold: 2\n",
      "fold: 3\n",
      "repetition: 23\n",
      "fold: 1\n",
      "fold: 2\n",
      "fold: 3\n",
      "repetition: 24\n",
      "fold: 1\n",
      "fold: 2\n",
      "fold: 3\n",
      "repetition: 25\n",
      "fold: 1\n",
      "fold: 2\n",
      "fold: 3\n",
      "repetition: 26\n",
      "fold: 1\n",
      "fold: 2\n",
      "fold: 3\n",
      "repetition: 27\n",
      "fold: 1\n",
      "fold: 2\n",
      "fold: 3\n",
      "repetition: 28\n",
      "fold: 1\n",
      "fold: 2\n",
      "fold: 3\n",
      "repetition: 29\n",
      "fold: 1\n"
     ]
    },
    {
     "name": "stderr",
     "output_type": "stream",
     "text": [
      "/usr/local/lib/python3.4/dist-packages/sklearn/feature_selection/univariate_selection.py:113: UserWarning: Features [    13     99    178 ..., 572670 572685 572686] are constant.\n",
      "  UserWarning)\n"
     ]
    },
    {
     "name": "stdout",
     "output_type": "stream",
     "text": [
      "fold: 2\n",
      "fold: 3\n",
      "repetition: 30\n",
      "fold: 1\n",
      "fold: 2\n",
      "fold: 3\n",
      "repetition: 31\n",
      "fold: 1\n",
      "fold: 2\n",
      "fold: 3\n",
      "repetition: 32\n",
      "fold: 1\n",
      "fold: 2\n"
     ]
    },
    {
     "name": "stderr",
     "output_type": "stream",
     "text": [
      "/usr/local/lib/python3.4/dist-packages/sklearn/feature_selection/univariate_selection.py:113: UserWarning: Features [    13     99    149 ..., 572604 572605 572704] are constant.\n",
      "  UserWarning)\n"
     ]
    },
    {
     "name": "stdout",
     "output_type": "stream",
     "text": [
      "fold: 3\n",
      "repetition: 33\n",
      "fold: 1\n",
      "fold: 2\n",
      "fold: 3\n",
      "F_mean: 0.431116905693\n",
      "AUC_mean: 0.570277839236\n",
      "PRECISION_mean: 0.376042456406\n",
      "RECALL_mean: 0.505091649695\n",
      "SPECIFICITY_mean: 0.448760884126\n",
      "percentage: 1.22277777778\n",
      "repetition: 1\n",
      "fold: 1\n",
      "fold: 2\n",
      "fold: 3\n",
      "repetition: 2\n",
      "fold: 1\n",
      "fold: 2\n",
      "fold: 3\n",
      "repetition: 3\n",
      "fold: 1\n",
      "fold: 2\n",
      "fold: 3\n",
      "repetition: 4\n",
      "fold: 1\n"
     ]
    },
    {
     "name": "stderr",
     "output_type": "stream",
     "text": [
      "/usr/local/lib/python3.4/dist-packages/sklearn/feature_selection/univariate_selection.py:113: UserWarning: Features [    13     99    178 ..., 572685 572704 572705] are constant.\n",
      "  UserWarning)\n"
     ]
    },
    {
     "name": "stdout",
     "output_type": "stream",
     "text": [
      "fold: 2\n",
      "fold: 3\n",
      "repetition: 5\n",
      "fold: 1\n",
      "fold: 2\n",
      "fold: 3\n",
      "repetition: 6\n",
      "fold: 1\n",
      "fold: 2\n",
      "fold: 3\n",
      "repetition: 7\n",
      "fold: 1\n",
      "fold: 2\n",
      "fold: 3\n",
      "repetition: 8\n",
      "fold: 1\n",
      "fold: 2\n",
      "fold: 3\n",
      "repetition: 9\n",
      "fold: 1\n",
      "fold: 2\n",
      "fold: 3\n",
      "repetition: 10\n",
      "fold: 1\n",
      "fold: 2\n",
      "fold: 3\n",
      "repetition: 11\n",
      "fold: 1\n",
      "fold: 2\n",
      "fold: 3\n",
      "repetition: 12\n",
      "fold: 1\n",
      "fold: 2\n",
      "fold: 3\n",
      "repetition: 13\n",
      "fold: 1\n",
      "fold: 2\n",
      "fold: 3\n",
      "repetition: 14\n",
      "fold: 1\n",
      "fold: 2\n",
      "fold: 3\n",
      "repetition: 15\n",
      "fold: 1\n",
      "fold: 2\n",
      "fold: 3\n",
      "repetition: 16\n",
      "fold: 1\n",
      "fold: 2\n"
     ]
    },
    {
     "name": "stderr",
     "output_type": "stream",
     "text": [
      "/usr/local/lib/python3.4/dist-packages/sklearn/feature_selection/univariate_selection.py:113: UserWarning: Features [     4     13     71 ..., 572735 572736 572737] are constant.\n",
      "  UserWarning)\n"
     ]
    },
    {
     "name": "stdout",
     "output_type": "stream",
     "text": [
      "fold: 3\n",
      "repetition: 17\n",
      "fold: 1\n",
      "fold: 2\n",
      "fold: 3\n",
      "repetition: 18\n",
      "fold: 1\n",
      "fold: 2\n",
      "fold: 3\n",
      "repetition: 19\n",
      "fold: 1\n",
      "fold: 2\n",
      "fold: 3\n",
      "repetition: 20\n",
      "fold: 1\n",
      "fold: 2\n",
      "fold: 3\n",
      "repetition: 21\n",
      "fold: 1\n",
      "fold: 2\n",
      "fold: 3\n",
      "repetition: 22\n",
      "fold: 1\n",
      "fold: 2\n",
      "fold: 3\n",
      "repetition: 23\n",
      "fold: 1\n",
      "fold: 2\n",
      "fold: 3\n",
      "repetition: 24\n",
      "fold: 1\n",
      "fold: 2\n",
      "fold: 3\n",
      "repetition: 25\n",
      "fold: 1\n",
      "fold: 2\n",
      "fold: 3\n",
      "repetition: 26\n",
      "fold: 1\n",
      "fold: 2\n",
      "fold: 3\n",
      "repetition: 27\n",
      "fold: 1\n",
      "fold: 2\n",
      "fold: 3\n",
      "repetition: 28\n",
      "fold: 1\n",
      "fold: 2\n",
      "fold: 3\n",
      "repetition: 29\n",
      "fold: 1\n",
      "fold: 2\n",
      "fold: 3\n",
      "repetition: 30\n",
      "fold: 1\n",
      "fold: 2\n",
      "fold: 3\n",
      "repetition: 31\n",
      "fold: 1\n",
      "fold: 2\n",
      "fold: 3\n",
      "repetition: 32\n",
      "fold: 1\n",
      "fold: 2\n",
      "fold: 3\n",
      "repetition: 33\n",
      "fold: 1\n",
      "fold: 2\n",
      "fold: 3\n"
     ]
    },
    {
     "name": "stderr",
     "output_type": "stream",
     "text": [
      "/usr/local/lib/python3.4/dist-packages/sklearn/feature_selection/univariate_selection.py:113: UserWarning: Features [    13     80     85 ..., 572662 572677 572704] are constant.\n",
      "  UserWarning)\n"
     ]
    },
    {
     "name": "stdout",
     "output_type": "stream",
     "text": [
      "F_mean: 0.471593336181\n",
      "AUC_mean: 0.604043140867\n",
      "PRECISION_mean: 0.41628959276\n",
      "RECALL_mean: 0.543842364532\n",
      "SPECIFICITY_mean: 0.469863013699\n",
      "percentage: 1.25054545455\n",
      "repetition: 1\n",
      "fold: 1\n",
      "fold: 2\n",
      "fold: 3\n",
      "repetition: 2\n",
      "fold: 1\n",
      "fold: 2\n",
      "fold: 3\n",
      "repetition: 3\n",
      "fold: 1\n",
      "fold: 2\n",
      "fold: 3\n",
      "repetition: 4\n",
      "fold: 1\n",
      "fold: 2\n",
      "fold: 3\n",
      "repetition: 5\n",
      "fold: 1\n",
      "fold: 2\n",
      "fold: 3\n",
      "repetition: 6\n",
      "fold: 1\n",
      "fold: 2\n",
      "fold: 3\n",
      "repetition: 7\n",
      "fold: 1\n",
      "fold: 2\n",
      "fold: 3\n"
     ]
    },
    {
     "name": "stderr",
     "output_type": "stream",
     "text": [
      "/usr/local/lib/python3.4/dist-packages/sklearn/feature_selection/univariate_selection.py:113: UserWarning: Features [    13     86     99 ..., 572731 572732 572735] are constant.\n",
      "  UserWarning)\n"
     ]
    },
    {
     "name": "stdout",
     "output_type": "stream",
     "text": [
      "repetition: 8\n",
      "fold: 1\n"
     ]
    },
    {
     "name": "stderr",
     "output_type": "stream",
     "text": [
      "/usr/local/lib/python3.4/dist-packages/sklearn/feature_selection/univariate_selection.py:113: UserWarning: Features [    13     99    178 ..., 572634 572708 572709] are constant.\n",
      "  UserWarning)\n"
     ]
    },
    {
     "name": "stdout",
     "output_type": "stream",
     "text": [
      "fold: 2\n",
      "fold: 3\n",
      "repetition: 9\n",
      "fold: 1\n",
      "fold: 2\n",
      "fold: 3\n",
      "repetition: 10\n",
      "fold: 1\n",
      "fold: 2\n",
      "fold: 3\n",
      "repetition: 11\n",
      "fold: 1\n",
      "fold: 2\n",
      "fold: 3\n",
      "repetition: 12\n",
      "fold: 1\n",
      "fold: 2\n"
     ]
    },
    {
     "name": "stderr",
     "output_type": "stream",
     "text": [
      "/usr/local/lib/python3.4/dist-packages/sklearn/feature_selection/univariate_selection.py:113: UserWarning: Features [    13     90     99 ..., 572634 572685 572704] are constant.\n",
      "  UserWarning)\n"
     ]
    },
    {
     "name": "stdout",
     "output_type": "stream",
     "text": [
      "fold: 3\n",
      "repetition: 13\n",
      "fold: 1\n",
      "fold: 2\n",
      "fold: 3\n",
      "repetition: 14\n",
      "fold: 1\n",
      "fold: 2\n",
      "fold: 3\n",
      "repetition: 15\n",
      "fold: 1\n",
      "fold: 2\n",
      "fold: 3\n",
      "repetition: 16\n",
      "fold: 1\n",
      "fold: 2\n",
      "fold: 3\n",
      "repetition: 17\n",
      "fold: 1\n"
     ]
    },
    {
     "name": "stderr",
     "output_type": "stream",
     "text": [
      "/usr/local/lib/python3.4/dist-packages/sklearn/feature_selection/univariate_selection.py:113: UserWarning: Features [     0     13     99 ..., 572728 572729 572730] are constant.\n",
      "  UserWarning)\n"
     ]
    },
    {
     "name": "stdout",
     "output_type": "stream",
     "text": [
      "fold: 2\n"
     ]
    },
    {
     "name": "stderr",
     "output_type": "stream",
     "text": [
      "/usr/local/lib/python3.4/dist-packages/sklearn/feature_selection/univariate_selection.py:113: UserWarning: Features [    13     99    282 ..., 572692 572702 572703] are constant.\n",
      "  UserWarning)\n"
     ]
    },
    {
     "name": "stdout",
     "output_type": "stream",
     "text": [
      "fold: 3\n",
      "repetition: 18\n",
      "fold: 1\n",
      "fold: 2\n",
      "fold: 3\n",
      "repetition: 19\n",
      "fold: 1\n",
      "fold: 2\n",
      "fold: 3\n",
      "repetition: 20\n",
      "fold: 1\n",
      "fold: 2\n",
      "fold: 3\n"
     ]
    },
    {
     "name": "stderr",
     "output_type": "stream",
     "text": [
      "/usr/local/lib/python3.4/dist-packages/sklearn/feature_selection/univariate_selection.py:113: UserWarning: Features [    13     80     85 ..., 572634 572704 572705] are constant.\n",
      "  UserWarning)\n"
     ]
    },
    {
     "name": "stdout",
     "output_type": "stream",
     "text": [
      "repetition: 21\n",
      "fold: 1\n",
      "fold: 2\n"
     ]
    },
    {
     "name": "stderr",
     "output_type": "stream",
     "text": [
      "/usr/local/lib/python3.4/dist-packages/sklearn/feature_selection/univariate_selection.py:113: UserWarning: Features [    13     80     85 ..., 572670 572685 572686] are constant.\n",
      "  UserWarning)\n"
     ]
    },
    {
     "name": "stdout",
     "output_type": "stream",
     "text": [
      "fold: 3\n",
      "repetition: 22\n",
      "fold: 1\n",
      "fold: 2\n",
      "fold: 3\n",
      "repetition: 23\n",
      "fold: 1\n",
      "fold: 2\n",
      "fold: 3\n",
      "repetition: 24\n",
      "fold: 1\n",
      "fold: 2\n"
     ]
    },
    {
     "name": "stderr",
     "output_type": "stream",
     "text": [
      "/usr/local/lib/python3.4/dist-packages/sklearn/feature_selection/univariate_selection.py:113: UserWarning: Features [     4     13     72 ..., 572728 572729 572730] are constant.\n",
      "  UserWarning)\n"
     ]
    },
    {
     "name": "stdout",
     "output_type": "stream",
     "text": [
      "fold: 3\n",
      "repetition: 25\n",
      "fold: 1\n",
      "fold: 2\n",
      "fold: 3\n",
      "repetition: 26\n",
      "fold: 1\n",
      "fold: 2\n"
     ]
    },
    {
     "name": "stderr",
     "output_type": "stream",
     "text": [
      "/usr/local/lib/python3.4/dist-packages/sklearn/feature_selection/univariate_selection.py:113: UserWarning: Features [    13     91     99 ..., 572692 572702 572703] are constant.\n",
      "  UserWarning)\n"
     ]
    },
    {
     "name": "stdout",
     "output_type": "stream",
     "text": [
      "fold: 3\n",
      "repetition: 27\n",
      "fold: 1\n",
      "fold: 2\n",
      "fold: 3\n",
      "repetition: 28\n",
      "fold: 1\n",
      "fold: 2\n",
      "fold: 3\n"
     ]
    },
    {
     "name": "stderr",
     "output_type": "stream",
     "text": [
      "/usr/local/lib/python3.4/dist-packages/sklearn/feature_selection/univariate_selection.py:113: UserWarning: Features [    13     99    178 ..., 572662 572677 572684] are constant.\n",
      "  UserWarning)\n"
     ]
    },
    {
     "name": "stdout",
     "output_type": "stream",
     "text": [
      "repetition: 29\n",
      "fold: 1\n",
      "fold: 2\n",
      "fold: 3\n",
      "repetition: 30\n",
      "fold: 1\n",
      "fold: 2\n",
      "fold: 3\n",
      "repetition: 31\n",
      "fold: 1\n",
      "fold: 2\n",
      "fold: 3\n",
      "repetition: 32\n",
      "fold: 1\n",
      "fold: 2\n",
      "fold: 3\n",
      "repetition: 33\n",
      "fold: 1\n",
      "fold: 2\n",
      "fold: 3\n",
      "F_mean: 0.457295373665\n",
      "AUC_mean: 0.581417144153\n",
      "PRECISION_mean: 0.409561752988\n",
      "RECALL_mean: 0.517623363545\n",
      "SPECIFICITY_mean: 0.5\n",
      "percentage: 1.27831313131\n",
      "repetition: 1\n",
      "fold: 1\n",
      "fold: 2\n",
      "fold: 3\n",
      "repetition: 2\n",
      "fold: 1\n",
      "fold: 2\n",
      "fold: 3\n",
      "repetition: 3\n",
      "fold: 1\n",
      "fold: 2\n",
      "fold: 3\n"
     ]
    },
    {
     "name": "stderr",
     "output_type": "stream",
     "text": [
      "/usr/local/lib/python3.4/dist-packages/sklearn/feature_selection/univariate_selection.py:113: UserWarning: Features [     4     13     80 ..., 572588 572708 572709] are constant.\n",
      "  UserWarning)\n"
     ]
    },
    {
     "name": "stdout",
     "output_type": "stream",
     "text": [
      "repetition: 4\n",
      "fold: 1\n",
      "fold: 2\n",
      "fold: 3\n",
      "repetition: 5\n",
      "fold: 1\n",
      "fold: 2\n",
      "fold: 3\n",
      "repetition: 6\n",
      "fold: 1\n",
      "fold: 2\n",
      "fold: 3\n",
      "repetition: 7\n",
      "fold: 1\n",
      "fold: 2\n",
      "fold: 3\n",
      "repetition: 8\n",
      "fold: 1\n",
      "fold: 2\n",
      "fold: 3\n",
      "repetition: 9\n",
      "fold: 1\n",
      "fold: 2\n",
      "fold: 3\n",
      "repetition: 10\n",
      "fold: 1\n",
      "fold: 2\n",
      "fold: 3\n",
      "repetition: 11\n",
      "fold: 1\n",
      "fold: 2\n",
      "fold: 3\n",
      "repetition: 12\n",
      "fold: 1\n",
      "fold: 2\n",
      "fold: 3\n"
     ]
    },
    {
     "name": "stderr",
     "output_type": "stream",
     "text": [
      "/usr/local/lib/python3.4/dist-packages/sklearn/feature_selection/univariate_selection.py:113: UserWarning: Features [    13     80     85 ..., 572554 572604 572605] are constant.\n",
      "  UserWarning)\n"
     ]
    },
    {
     "name": "stdout",
     "output_type": "stream",
     "text": [
      "repetition: 13\n",
      "fold: 1\n",
      "fold: 2\n",
      "fold: 3\n",
      "repetition: 14\n",
      "fold: 1\n"
     ]
    },
    {
     "name": "stderr",
     "output_type": "stream",
     "text": [
      "/usr/local/lib/python3.4/dist-packages/sklearn/feature_selection/univariate_selection.py:113: UserWarning: Features [    13     99    178 ..., 572553 572621 572634] are constant.\n",
      "  UserWarning)\n"
     ]
    },
    {
     "name": "stdout",
     "output_type": "stream",
     "text": [
      "fold: 2\n",
      "fold: 3\n",
      "repetition: 15\n",
      "fold: 1\n"
     ]
    },
    {
     "name": "stderr",
     "output_type": "stream",
     "text": [
      "/usr/local/lib/python3.4/dist-packages/sklearn/feature_selection/univariate_selection.py:113: UserWarning: Features [    13     72     80 ..., 572704 572708 572709] are constant.\n",
      "  UserWarning)\n"
     ]
    },
    {
     "name": "stdout",
     "output_type": "stream",
     "text": [
      "fold: 2\n",
      "fold: 3\n",
      "repetition: 16\n",
      "fold: 1\n",
      "fold: 2\n",
      "fold: 3\n",
      "repetition: 17\n",
      "fold: 1\n",
      "fold: 2\n",
      "fold: 3\n",
      "repetition: 18\n",
      "fold: 1\n",
      "fold: 2\n",
      "fold: 3\n",
      "repetition: 19\n",
      "fold: 1\n",
      "fold: 2\n"
     ]
    },
    {
     "name": "stderr",
     "output_type": "stream",
     "text": [
      "/usr/local/lib/python3.4/dist-packages/sklearn/feature_selection/univariate_selection.py:113: UserWarning: Features [    13     80     85 ..., 572634 572684 572704] are constant.\n",
      "  UserWarning)\n"
     ]
    },
    {
     "name": "stdout",
     "output_type": "stream",
     "text": [
      "fold: 3\n",
      "repetition: 20\n",
      "fold: 1\n",
      "fold: 2\n",
      "fold: 3\n"
     ]
    },
    {
     "name": "stderr",
     "output_type": "stream",
     "text": [
      "/usr/local/lib/python3.4/dist-packages/sklearn/feature_selection/univariate_selection.py:113: UserWarning: Features [    13     99    282 ..., 572684 572708 572709] are constant.\n",
      "  UserWarning)\n"
     ]
    },
    {
     "name": "stdout",
     "output_type": "stream",
     "text": [
      "repetition: 21\n",
      "fold: 1\n",
      "fold: 2\n",
      "fold: 3\n",
      "repetition: 22\n",
      "fold: 1\n",
      "fold: 2\n",
      "fold: 3\n",
      "repetition: 23\n",
      "fold: 1\n",
      "fold: 2\n",
      "fold: 3\n",
      "repetition: 24\n",
      "fold: 1\n",
      "fold: 2\n",
      "fold: 3\n",
      "repetition: 25\n",
      "fold: 1\n",
      "fold: 2\n",
      "fold: 3\n",
      "repetition: 26\n",
      "fold: 1\n",
      "fold: 2\n",
      "fold: 3\n",
      "repetition: 27\n",
      "fold: 1\n"
     ]
    },
    {
     "name": "stderr",
     "output_type": "stream",
     "text": [
      "/usr/local/lib/python3.4/dist-packages/sklearn/feature_selection/univariate_selection.py:113: UserWarning: Features [    13     80     83 ..., 572677 572708 572709] are constant.\n",
      "  UserWarning)\n"
     ]
    },
    {
     "name": "stdout",
     "output_type": "stream",
     "text": [
      "fold: 2\n",
      "fold: 3\n",
      "repetition: 28\n",
      "fold: 1\n",
      "fold: 2\n",
      "fold: 3\n",
      "repetition: 29\n",
      "fold: 1\n",
      "fold: 2\n",
      "fold: 3\n",
      "repetition: 30\n",
      "fold: 1\n",
      "fold: 2\n",
      "fold: 3\n",
      "repetition: 31\n",
      "fold: 1\n",
      "fold: 2\n",
      "fold: 3\n",
      "repetition: 32\n",
      "fold: 1\n",
      "fold: 2\n",
      "fold: 3\n",
      "repetition: 33\n",
      "fold: 1\n",
      "fold: 2\n"
     ]
    },
    {
     "name": "stderr",
     "output_type": "stream",
     "text": [
      "/usr/local/lib/python3.4/dist-packages/sklearn/feature_selection/univariate_selection.py:113: UserWarning: Features [    13     99    196 ..., 572712 572713 572714] are constant.\n",
      "  UserWarning)\n"
     ]
    },
    {
     "name": "stdout",
     "output_type": "stream",
     "text": [
      "fold: 3\n",
      "F_mean: 0.449050086356\n",
      "AUC_mean: 0.570022088405\n",
      "PRECISION_mean: 0.389513108614\n",
      "RECALL_mean: 0.530071355759\n",
      "SPECIFICITY_mean: 0.454484605087\n",
      "percentage: 1.30608080808\n",
      "repetition: 1\n",
      "fold: 1\n",
      "fold: 2\n",
      "fold: 3\n",
      "repetition: 2\n",
      "fold: 1\n",
      "fold: 2\n",
      "fold: 3\n",
      "repetition: 3\n",
      "fold: 1\n",
      "fold: 2\n",
      "fold: 3\n",
      "repetition: 4\n",
      "fold: 1\n",
      "fold: 2\n",
      "fold: 3\n",
      "repetition: 5\n",
      "fold: 1\n",
      "fold: 2\n",
      "fold: 3\n",
      "repetition: 6\n",
      "fold: 1\n",
      "fold: 2\n",
      "fold: 3\n",
      "repetition: 7\n",
      "fold: 1\n",
      "fold: 2\n",
      "fold: 3\n",
      "repetition: 8\n",
      "fold: 1\n",
      "fold: 2\n",
      "fold: 3\n"
     ]
    },
    {
     "name": "stderr",
     "output_type": "stream",
     "text": [
      "/usr/local/lib/python3.4/dist-packages/sklearn/feature_selection/univariate_selection.py:113: UserWarning: Features [    13     99    282 ..., 572594 572595 572596] are constant.\n",
      "  UserWarning)\n"
     ]
    },
    {
     "name": "stdout",
     "output_type": "stream",
     "text": [
      "repetition: 9\n",
      "fold: 1\n",
      "fold: 2\n"
     ]
    },
    {
     "name": "stderr",
     "output_type": "stream",
     "text": [
      "/usr/local/lib/python3.4/dist-packages/sklearn/feature_selection/univariate_selection.py:113: UserWarning: Features [     4     13     90 ..., 572595 572596 572704] are constant.\n",
      "  UserWarning)\n"
     ]
    },
    {
     "name": "stdout",
     "output_type": "stream",
     "text": [
      "fold: 3\n",
      "repetition: 10\n",
      "fold: 1\n",
      "fold: 2\n",
      "fold: 3\n",
      "repetition: 11\n",
      "fold: 1\n",
      "fold: 2\n",
      "fold: 3\n",
      "repetition: 12\n",
      "fold: 1\n",
      "fold: 2\n",
      "fold: 3\n",
      "repetition: 13\n",
      "fold: 1\n",
      "fold: 2\n",
      "fold: 3\n",
      "repetition: 14\n",
      "fold: 1\n",
      "fold: 2\n",
      "fold: 3\n",
      "repetition: 15\n",
      "fold: 1\n",
      "fold: 2\n",
      "fold: 3\n",
      "repetition: 16\n",
      "fold: 1\n",
      "fold: 2\n",
      "fold: 3\n",
      "repetition: 17\n",
      "fold: 1\n",
      "fold: 2\n",
      "fold: 3\n",
      "repetition: 18\n",
      "fold: 1\n",
      "fold: 2\n",
      "fold: 3\n",
      "repetition: 19\n",
      "fold: 1\n",
      "fold: 2\n",
      "fold: 3\n",
      "repetition: 20\n",
      "fold: 1\n",
      "fold: 2\n",
      "fold: 3\n",
      "repetition: 21\n",
      "fold: 1\n",
      "fold: 2\n",
      "fold: 3\n",
      "repetition: 22\n",
      "fold: 1\n",
      "fold: 2\n",
      "fold: 3\n",
      "repetition: 23\n",
      "fold: 1\n",
      "fold: 2\n",
      "fold: 3\n",
      "repetition: 24\n",
      "fold: 1\n",
      "fold: 2\n",
      "fold: 3\n",
      "repetition: 25\n",
      "fold: 1\n",
      "fold: 2\n",
      "fold: 3\n",
      "repetition: 26\n",
      "fold: 1\n",
      "fold: 2\n",
      "fold: 3\n"
     ]
    },
    {
     "name": "stderr",
     "output_type": "stream",
     "text": [
      "/usr/local/lib/python3.4/dist-packages/sklearn/feature_selection/univariate_selection.py:113: UserWarning: Features [    13     99    324 ..., 572595 572596 572704] are constant.\n",
      "  UserWarning)\n"
     ]
    },
    {
     "name": "stdout",
     "output_type": "stream",
     "text": [
      "repetition: 27\n",
      "fold: 1\n",
      "fold: 2\n",
      "fold: 3\n",
      "repetition: 28\n",
      "fold: 1\n",
      "fold: 2\n",
      "fold: 3\n",
      "repetition: 29\n",
      "fold: 1\n",
      "fold: 2\n",
      "fold: 3\n"
     ]
    },
    {
     "name": "stderr",
     "output_type": "stream",
     "text": [
      "/usr/local/lib/python3.4/dist-packages/sklearn/feature_selection/univariate_selection.py:113: UserWarning: Features [    13     99    204 ..., 572588 572708 572709] are constant.\n",
      "  UserWarning)\n"
     ]
    },
    {
     "name": "stdout",
     "output_type": "stream",
     "text": [
      "repetition: 30\n",
      "fold: 1\n",
      "fold: 2\n",
      "fold: 3\n",
      "repetition: 31\n",
      "fold: 1\n",
      "fold: 2\n",
      "fold: 3\n",
      "repetition: 32\n",
      "fold: 1\n",
      "fold: 2\n",
      "fold: 3\n",
      "repetition: 33\n",
      "fold: 1\n",
      "fold: 2\n",
      "fold: 3\n",
      "F_mean: 0.466462078036\n",
      "AUC_mean: 0.581044456007\n",
      "PRECISION_mean: 0.414330218069\n",
      "RECALL_mean: 0.533600802407\n",
      "SPECIFICITY_mean: 0.491204330176\n",
      "percentage: 1.33384848485\n",
      "repetition: 1\n",
      "fold: 1\n",
      "fold: 2\n",
      "fold: 3\n",
      "repetition: 2\n",
      "fold: 1\n",
      "fold: 2\n",
      "fold: 3\n",
      "repetition: 3\n",
      "fold: 1\n",
      "fold: 2\n",
      "fold: 3\n",
      "repetition: 4\n",
      "fold: 1\n",
      "fold: 2\n",
      "fold: 3\n",
      "repetition: 5\n",
      "fold: 1\n",
      "fold: 2\n",
      "fold: 3\n",
      "repetition: 6\n",
      "fold: 1\n",
      "fold: 2\n",
      "fold: 3\n",
      "repetition: 7\n",
      "fold: 1\n",
      "fold: 2\n",
      "fold: 3\n",
      "repetition: 8\n",
      "fold: 1\n",
      "fold: 2\n",
      "fold: 3\n",
      "repetition: 9\n",
      "fold: 1\n",
      "fold: 2\n",
      "fold: 3\n",
      "repetition: 10\n",
      "fold: 1\n",
      "fold: 2\n"
     ]
    },
    {
     "name": "stderr",
     "output_type": "stream",
     "text": [
      "/usr/local/lib/python3.4/dist-packages/sklearn/feature_selection/univariate_selection.py:113: UserWarning: Features [     4     13     80 ..., 572554 572670 572685] are constant.\n",
      "  UserWarning)\n"
     ]
    },
    {
     "name": "stdout",
     "output_type": "stream",
     "text": [
      "fold: 3\n",
      "repetition: 11\n",
      "fold: 1\n",
      "fold: 2\n"
     ]
    },
    {
     "name": "stderr",
     "output_type": "stream",
     "text": [
      "/usr/local/lib/python3.4/dist-packages/sklearn/feature_selection/univariate_selection.py:113: UserWarning: Features [    13     80     85 ..., 572604 572605 572704] are constant.\n",
      "  UserWarning)\n"
     ]
    },
    {
     "name": "stdout",
     "output_type": "stream",
     "text": [
      "fold: 3\n",
      "repetition: 12\n",
      "fold: 1\n",
      "fold: 2\n",
      "fold: 3\n",
      "repetition: 13\n",
      "fold: 1\n",
      "fold: 2\n",
      "fold: 3\n",
      "repetition: 14\n",
      "fold: 1\n",
      "fold: 2\n"
     ]
    },
    {
     "name": "stderr",
     "output_type": "stream",
     "text": [
      "/usr/local/lib/python3.4/dist-packages/sklearn/feature_selection/univariate_selection.py:113: UserWarning: Features [    13     99    204 ..., 572684 572708 572709] are constant.\n",
      "  UserWarning)\n"
     ]
    },
    {
     "name": "stdout",
     "output_type": "stream",
     "text": [
      "fold: 3\n",
      "repetition: 15\n",
      "fold: 1\n",
      "fold: 2\n"
     ]
    },
    {
     "name": "stderr",
     "output_type": "stream",
     "text": [
      "/usr/local/lib/python3.4/dist-packages/sklearn/feature_selection/univariate_selection.py:113: UserWarning: Features [    13     99    149 ..., 572596 572670 572685] are constant.\n",
      "  UserWarning)\n"
     ]
    },
    {
     "name": "stdout",
     "output_type": "stream",
     "text": [
      "fold: 3\n",
      "repetition: 16\n",
      "fold: 1\n",
      "fold: 2\n",
      "fold: 3\n",
      "repetition: 17\n",
      "fold: 1\n",
      "fold: 2\n",
      "fold: 3\n",
      "repetition: 18\n",
      "fold: 1\n",
      "fold: 2\n",
      "fold: 3\n",
      "repetition: 19\n",
      "fold: 1\n",
      "fold: 2\n",
      "fold: 3\n",
      "repetition: 20\n",
      "fold: 1\n",
      "fold: 2\n",
      "fold: 3\n",
      "repetition: 21\n",
      "fold: 1\n",
      "fold: 2\n",
      "fold: 3\n",
      "repetition: 22\n",
      "fold: 1\n",
      "fold: 2\n",
      "fold: 3\n",
      "repetition: 23\n",
      "fold: 1\n",
      "fold: 2\n",
      "fold: 3\n",
      "repetition: 24\n",
      "fold: 1\n",
      "fold: 2\n",
      "fold: 3\n"
     ]
    },
    {
     "name": "stderr",
     "output_type": "stream",
     "text": [
      "/usr/local/lib/python3.4/dist-packages/sklearn/feature_selection/univariate_selection.py:113: UserWarning: Features [    13     99    273 ..., 572677 572708 572709] are constant.\n",
      "  UserWarning)\n"
     ]
    },
    {
     "name": "stdout",
     "output_type": "stream",
     "text": [
      "repetition: 25\n",
      "fold: 1\n",
      "fold: 2\n"
     ]
    },
    {
     "name": "stderr",
     "output_type": "stream",
     "text": [
      "/usr/local/lib/python3.4/dist-packages/sklearn/feature_selection/univariate_selection.py:113: UserWarning: Features [     4     13     80 ..., 572621 572634 572704] are constant.\n",
      "  UserWarning)\n"
     ]
    },
    {
     "name": "stdout",
     "output_type": "stream",
     "text": [
      "fold: 3\n",
      "repetition: 26\n",
      "fold: 1\n",
      "fold: 2\n",
      "fold: 3\n",
      "repetition: 27\n",
      "fold: 1\n",
      "fold: 2\n",
      "fold: 3\n",
      "repetition: 28\n",
      "fold: 1\n",
      "fold: 2\n",
      "fold: 3\n",
      "repetition: 29\n",
      "fold: 1\n",
      "fold: 2\n",
      "fold: 3\n"
     ]
    },
    {
     "name": "stderr",
     "output_type": "stream",
     "text": [
      "/usr/local/lib/python3.4/dist-packages/sklearn/feature_selection/univariate_selection.py:113: UserWarning: Features [    13     80     85 ..., 572596 572685 572704] are constant.\n",
      "  UserWarning)\n"
     ]
    },
    {
     "name": "stdout",
     "output_type": "stream",
     "text": [
      "repetition: 30\n",
      "fold: 1\n",
      "fold: 2\n",
      "fold: 3\n",
      "repetition: 31\n",
      "fold: 1\n",
      "fold: 2\n",
      "fold: 3\n",
      "repetition: 32\n",
      "fold: 1\n",
      "fold: 2\n",
      "fold: 3\n",
      "repetition: 33\n",
      "fold: 1\n",
      "fold: 2\n",
      "fold: 3\n",
      "F_mean: 0.452732003469\n",
      "AUC_mean: 0.583754262153\n",
      "PRECISION_mean: 0.4078125\n",
      "RECALL_mean: 0.508771929825\n",
      "SPECIFICITY_mean: 0.476880607315\n",
      "percentage: 1.36161616162\n",
      "repetition: 1\n",
      "fold: 1\n",
      "fold: 2\n",
      "fold: 3\n",
      "repetition: 2\n",
      "fold: 1\n",
      "fold: 2\n",
      "fold: 3\n",
      "repetition: 3\n",
      "fold: 1\n",
      "fold: 2\n",
      "fold: 3\n",
      "repetition: 4\n",
      "fold: 1\n",
      "fold: 2\n",
      "fold: 3\n",
      "repetition: 5\n",
      "fold: 1\n",
      "fold: 2\n",
      "fold: 3\n",
      "repetition: 6\n",
      "fold: 1\n",
      "fold: 2\n",
      "fold: 3\n",
      "repetition: 7\n",
      "fold: 1\n",
      "fold: 2\n",
      "fold: 3\n",
      "repetition: 8\n",
      "fold: 1\n",
      "fold: 2\n"
     ]
    },
    {
     "name": "stderr",
     "output_type": "stream",
     "text": [
      "/usr/local/lib/python3.4/dist-packages/sklearn/feature_selection/univariate_selection.py:113: UserWarning: Features [     4     13     90 ..., 572303 572323 572684] are constant.\n",
      "  UserWarning)\n"
     ]
    },
    {
     "name": "stdout",
     "output_type": "stream",
     "text": [
      "fold: 3\n",
      "repetition: 9\n",
      "fold: 1\n",
      "fold: 2\n",
      "fold: 3\n",
      "repetition: 10\n",
      "fold: 1\n",
      "fold: 2\n",
      "fold: 3\n",
      "repetition: 11\n",
      "fold: 1\n",
      "fold: 2\n",
      "fold: 3\n",
      "repetition: 12\n",
      "fold: 1\n",
      "fold: 2\n",
      "fold: 3\n",
      "repetition: 13\n",
      "fold: 1\n",
      "fold: 2\n",
      "fold: 3\n",
      "repetition: 14\n",
      "fold: 1\n",
      "fold: 2\n",
      "fold: 3\n",
      "repetition: 15\n",
      "fold: 1\n",
      "fold: 2\n",
      "fold: 3\n"
     ]
    },
    {
     "name": "stderr",
     "output_type": "stream",
     "text": [
      "/usr/local/lib/python3.4/dist-packages/sklearn/feature_selection/univariate_selection.py:113: UserWarning: Features [    13     99    290 ..., 572621 572634 572684] are constant.\n",
      "  UserWarning)\n"
     ]
    },
    {
     "name": "stdout",
     "output_type": "stream",
     "text": [
      "repetition: 16\n",
      "fold: 1\n",
      "fold: 2\n",
      "fold: 3\n"
     ]
    },
    {
     "name": "stderr",
     "output_type": "stream",
     "text": [
      "/usr/local/lib/python3.4/dist-packages/sklearn/feature_selection/univariate_selection.py:113: UserWarning: Features [    13     99    305 ..., 572685 572708 572709] are constant.\n",
      "  UserWarning)\n"
     ]
    },
    {
     "name": "stdout",
     "output_type": "stream",
     "text": [
      "repetition: 17\n",
      "fold: 1\n",
      "fold: 2\n",
      "fold: 3\n",
      "repetition: 18\n",
      "fold: 1\n",
      "fold: 2\n",
      "fold: 3\n",
      "repetition: 19\n",
      "fold: 1\n",
      "fold: 2\n"
     ]
    },
    {
     "name": "stderr",
     "output_type": "stream",
     "text": [
      "/usr/local/lib/python3.4/dist-packages/sklearn/feature_selection/univariate_selection.py:113: UserWarning: Features [    13     99    274 ..., 572509 572536 572554] are constant.\n",
      "  UserWarning)\n"
     ]
    },
    {
     "name": "stdout",
     "output_type": "stream",
     "text": [
      "fold: 3\n",
      "repetition: 20\n",
      "fold: 1\n",
      "fold: 2\n",
      "fold: 3\n",
      "repetition: 21\n",
      "fold: 1\n",
      "fold: 2\n",
      "fold: 3\n",
      "repetition: 22\n",
      "fold: 1\n",
      "fold: 2\n",
      "fold: 3\n",
      "repetition: 23\n",
      "fold: 1\n",
      "fold: 2\n",
      "fold: 3\n",
      "repetition: 24\n",
      "fold: 1\n",
      "fold: 2\n"
     ]
    },
    {
     "name": "stderr",
     "output_type": "stream",
     "text": [
      "/usr/local/lib/python3.4/dist-packages/sklearn/feature_selection/univariate_selection.py:113: UserWarning: Features [    13     99    273 ..., 572702 572703 572704] are constant.\n",
      "  UserWarning)\n"
     ]
    },
    {
     "name": "stdout",
     "output_type": "stream",
     "text": [
      "fold: 3\n",
      "repetition: 25\n",
      "fold: 1\n",
      "fold: 2\n",
      "fold: 3\n",
      "repetition: 26\n",
      "fold: 1\n",
      "fold: 2\n",
      "fold: 3\n",
      "repetition: 27\n",
      "fold: 1\n",
      "fold: 2\n",
      "fold: 3\n",
      "repetition: 28\n",
      "fold: 1\n",
      "fold: 2\n",
      "fold: 3\n",
      "repetition: 29\n",
      "fold: 1\n",
      "fold: 2\n"
     ]
    },
    {
     "name": "stderr",
     "output_type": "stream",
     "text": [
      "/usr/local/lib/python3.4/dist-packages/sklearn/feature_selection/univariate_selection.py:113: UserWarning: Features [     4     13     71 ..., 572720 572721 572722] are constant.\n",
      "  UserWarning)\n"
     ]
    },
    {
     "name": "stdout",
     "output_type": "stream",
     "text": [
      "fold: 3\n",
      "repetition: 30\n",
      "fold: 1\n",
      "fold: 2\n",
      "fold: 3\n",
      "repetition: 31\n",
      "fold: 1\n",
      "fold: 2\n",
      "fold: 3\n",
      "repetition: 32\n",
      "fold: 1\n",
      "fold: 2\n",
      "fold: 3\n",
      "repetition: 33\n",
      "fold: 1\n",
      "fold: 2\n",
      "fold: 3\n",
      "F_mean: 0.433651344319\n",
      "AUC_mean: 0.579492476574\n",
      "PRECISION_mean: 0.389105058366\n",
      "RECALL_mean: 0.48971596474\n",
      "SPECIFICITY_mean: 0.460110041265\n",
      "percentage: 1.38938383838\n",
      "repetition: 1\n",
      "fold: 1\n",
      "fold: 2\n",
      "fold: 3\n",
      "repetition: 2\n",
      "fold: 1\n",
      "fold: 2\n",
      "fold: 3\n",
      "repetition: 3\n",
      "fold: 1\n",
      "fold: 2\n",
      "fold: 3\n",
      "repetition: 4\n",
      "fold: 1\n",
      "fold: 2\n",
      "fold: 3\n",
      "repetition: 5\n",
      "fold: 1\n",
      "fold: 2\n",
      "fold: 3\n",
      "repetition: 6\n",
      "fold: 1\n",
      "fold: 2\n",
      "fold: 3\n",
      "repetition: 7\n",
      "fold: 1\n",
      "fold: 2\n",
      "fold: 3\n",
      "repetition: 8\n",
      "fold: 1\n",
      "fold: 2\n",
      "fold: 3\n",
      "repetition: 9\n",
      "fold: 1\n",
      "fold: 2\n",
      "fold: 3\n",
      "repetition: 10\n",
      "fold: 1\n",
      "fold: 2\n",
      "fold: 3\n",
      "repetition: 11\n",
      "fold: 1\n",
      "fold: 2\n",
      "fold: 3\n",
      "repetition: 12\n",
      "fold: 1\n",
      "fold: 2\n",
      "fold: 3\n"
     ]
    },
    {
     "name": "stderr",
     "output_type": "stream",
     "text": [
      "/usr/local/lib/python3.4/dist-packages/sklearn/feature_selection/univariate_selection.py:113: UserWarning: Features [    13     99    149 ..., 572634 572708 572709] are constant.\n",
      "  UserWarning)\n"
     ]
    },
    {
     "name": "stdout",
     "output_type": "stream",
     "text": [
      "repetition: 13\n",
      "fold: 1\n",
      "fold: 2\n",
      "fold: 3\n",
      "repetition: 14\n",
      "fold: 1\n",
      "fold: 2\n",
      "fold: 3\n",
      "repetition: 15\n",
      "fold: 1\n",
      "fold: 2\n",
      "fold: 3\n",
      "repetition: 16\n",
      "fold: 1\n"
     ]
    },
    {
     "name": "stderr",
     "output_type": "stream",
     "text": [
      "/usr/local/lib/python3.4/dist-packages/sklearn/feature_selection/univariate_selection.py:113: UserWarning: Features [     4     13     80 ..., 572223 572264 572461] are constant.\n",
      "  UserWarning)\n"
     ]
    },
    {
     "name": "stdout",
     "output_type": "stream",
     "text": [
      "fold: 2\n",
      "fold: 3\n",
      "repetition: 17\n",
      "fold: 1\n"
     ]
    },
    {
     "name": "stderr",
     "output_type": "stream",
     "text": [
      "/usr/local/lib/python3.4/dist-packages/sklearn/feature_selection/univariate_selection.py:113: UserWarning: Features [    13     99    204 ..., 572605 572708 572709] are constant.\n",
      "  UserWarning)\n"
     ]
    },
    {
     "name": "stdout",
     "output_type": "stream",
     "text": [
      "fold: 2\n",
      "fold: 3\n",
      "repetition: 18\n",
      "fold: 1\n",
      "fold: 2\n",
      "fold: 3\n",
      "repetition: 19\n",
      "fold: 1\n"
     ]
    },
    {
     "name": "stderr",
     "output_type": "stream",
     "text": [
      "/usr/local/lib/python3.4/dist-packages/sklearn/feature_selection/univariate_selection.py:113: UserWarning: Features [     4     13     90 ..., 572634 572662 572677] are constant.\n",
      "  UserWarning)\n"
     ]
    },
    {
     "name": "stdout",
     "output_type": "stream",
     "text": [
      "fold: 2\n",
      "fold: 3\n",
      "repetition: 20\n",
      "fold: 1\n",
      "fold: 2\n",
      "fold: 3\n",
      "repetition: 21\n",
      "fold: 1\n",
      "fold: 2\n",
      "fold: 3\n",
      "repetition: 22\n",
      "fold: 1\n",
      "fold: 2\n",
      "fold: 3\n",
      "repetition: 23\n",
      "fold: 1\n",
      "fold: 2\n",
      "fold: 3\n",
      "repetition: 24\n",
      "fold: 1\n",
      "fold: 2\n",
      "fold: 3\n",
      "repetition: 25\n",
      "fold: 1\n",
      "fold: 2\n",
      "fold: 3\n",
      "repetition: 26\n",
      "fold: 1\n"
     ]
    },
    {
     "name": "stderr",
     "output_type": "stream",
     "text": [
      "/usr/local/lib/python3.4/dist-packages/sklearn/feature_selection/univariate_selection.py:113: UserWarning: Features [    13     90     99 ..., 572662 572677 572685] are constant.\n",
      "  UserWarning)\n"
     ]
    },
    {
     "name": "stdout",
     "output_type": "stream",
     "text": [
      "fold: 2\n",
      "fold: 3\n",
      "repetition: 27\n",
      "fold: 1\n",
      "fold: 2\n",
      "fold: 3\n",
      "repetition: 28\n",
      "fold: 1\n",
      "fold: 2\n",
      "fold: 3\n",
      "repetition: 29\n",
      "fold: 1\n",
      "fold: 2\n",
      "fold: 3\n",
      "repetition: 30\n",
      "fold: 1\n",
      "fold: 2\n",
      "fold: 3\n",
      "repetition: 31\n",
      "fold: 1\n",
      "fold: 2\n",
      "fold: 3\n",
      "repetition: 32\n",
      "fold: 1\n",
      "fold: 2\n"
     ]
    },
    {
     "name": "stderr",
     "output_type": "stream",
     "text": [
      "/usr/local/lib/python3.4/dist-packages/sklearn/feature_selection/univariate_selection.py:113: UserWarning: Features [    13     72     99 ..., 572692 572702 572703] are constant.\n",
      "  UserWarning)\n"
     ]
    },
    {
     "name": "stdout",
     "output_type": "stream",
     "text": [
      "fold: 3\n",
      "repetition: 33\n",
      "fold: 1\n",
      "fold: 2\n",
      "fold: 3\n"
     ]
    },
    {
     "name": "stderr",
     "output_type": "stream",
     "text": [
      "/usr/local/lib/python3.4/dist-packages/sklearn/feature_selection/univariate_selection.py:113: UserWarning: Features [    13     90     99 ..., 572544 572685 572704] are constant.\n",
      "  UserWarning)\n"
     ]
    },
    {
     "name": "stdout",
     "output_type": "stream",
     "text": [
      "F_mean: 0.439982150826\n",
      "AUC_mean: 0.559822763657\n",
      "PRECISION_mean: 0.394715772618\n",
      "RECALL_mean: 0.496975806452\n",
      "SPECIFICITY_mean: 0.490222521915\n",
      "percentage: 1.41715151515\n",
      "repetition: 1\n",
      "fold: 1\n",
      "fold: 2\n",
      "fold: 3\n",
      "repetition: 2\n",
      "fold: 1\n",
      "fold: 2\n",
      "fold: 3\n",
      "repetition: 3\n",
      "fold: 1\n",
      "fold: 2\n",
      "fold: 3\n",
      "repetition: 4\n",
      "fold: 1\n"
     ]
    },
    {
     "name": "stderr",
     "output_type": "stream",
     "text": [
      "/usr/local/lib/python3.4/dist-packages/sklearn/feature_selection/univariate_selection.py:113: UserWarning: Features [    13     71     80 ..., 572735 572736 572737] are constant.\n",
      "  UserWarning)\n"
     ]
    },
    {
     "name": "stdout",
     "output_type": "stream",
     "text": [
      "fold: 2\n",
      "fold: 3\n",
      "repetition: 5\n",
      "fold: 1\n",
      "fold: 2\n",
      "fold: 3\n",
      "repetition: 6\n",
      "fold: 1\n",
      "fold: 2\n"
     ]
    },
    {
     "name": "stderr",
     "output_type": "stream",
     "text": [
      "/usr/local/lib/python3.4/dist-packages/sklearn/feature_selection/univariate_selection.py:113: UserWarning: Features [    13     90     99 ..., 572473 572553 572685] are constant.\n",
      "  UserWarning)\n"
     ]
    },
    {
     "name": "stdout",
     "output_type": "stream",
     "text": [
      "fold: 3\n",
      "repetition: 7\n",
      "fold: 1\n",
      "fold: 2\n",
      "fold: 3\n",
      "repetition: 8\n",
      "fold: 1\n",
      "fold: 2\n",
      "fold: 3\n",
      "repetition: 9\n",
      "fold: 1\n",
      "fold: 2\n",
      "fold: 3\n",
      "repetition: 10\n",
      "fold: 1\n",
      "fold: 2\n",
      "fold: 3\n",
      "repetition: 11\n",
      "fold: 1\n",
      "fold: 2\n",
      "fold: 3\n",
      "repetition: 12\n",
      "fold: 1\n",
      "fold: 2\n",
      "fold: 3\n",
      "repetition: 13\n",
      "fold: 1\n",
      "fold: 2\n",
      "fold: 3\n",
      "repetition: 14\n",
      "fold: 1\n",
      "fold: 2\n",
      "fold: 3\n",
      "repetition: 15\n",
      "fold: 1\n",
      "fold: 2\n",
      "fold: 3\n",
      "repetition: 16\n",
      "fold: 1\n",
      "fold: 2\n",
      "fold: 3\n",
      "repetition: 17\n",
      "fold: 1\n",
      "fold: 2\n",
      "fold: 3\n",
      "repetition: 18\n",
      "fold: 1\n",
      "fold: 2\n",
      "fold: 3\n",
      "repetition: 19\n",
      "fold: 1\n",
      "fold: 2\n",
      "fold: 3\n",
      "repetition: 20\n",
      "fold: 1\n"
     ]
    },
    {
     "name": "stderr",
     "output_type": "stream",
     "text": [
      "/usr/local/lib/python3.4/dist-packages/sklearn/feature_selection/univariate_selection.py:113: UserWarning: Features [    13     99    290 ..., 572704 572708 572709] are constant.\n",
      "  UserWarning)\n"
     ]
    },
    {
     "name": "stdout",
     "output_type": "stream",
     "text": [
      "fold: 2\n",
      "fold: 3\n",
      "repetition: 21\n",
      "fold: 1\n",
      "fold: 2\n",
      "fold: 3\n",
      "repetition: 22\n",
      "fold: 1\n",
      "fold: 2\n",
      "fold: 3\n",
      "repetition: 23\n",
      "fold: 1\n",
      "fold: 2\n",
      "fold: 3\n"
     ]
    },
    {
     "name": "stderr",
     "output_type": "stream",
     "text": [
      "/usr/local/lib/python3.4/dist-packages/sklearn/feature_selection/univariate_selection.py:113: UserWarning: Features [     4     13     90 ..., 572634 572708 572709] are constant.\n",
      "  UserWarning)\n"
     ]
    },
    {
     "name": "stdout",
     "output_type": "stream",
     "text": [
      "repetition: 24\n",
      "fold: 1\n",
      "fold: 2\n",
      "fold: 3\n",
      "repetition: 25\n",
      "fold: 1\n",
      "fold: 2\n"
     ]
    },
    {
     "name": "stderr",
     "output_type": "stream",
     "text": [
      "/usr/local/lib/python3.4/dist-packages/sklearn/feature_selection/univariate_selection.py:113: UserWarning: Features [    13     80     85 ..., 572595 572596 572684] are constant.\n",
      "  UserWarning)\n"
     ]
    },
    {
     "name": "stdout",
     "output_type": "stream",
     "text": [
      "fold: 3\n",
      "repetition: 26\n",
      "fold: 1\n",
      "fold: 2\n",
      "fold: 3\n",
      "repetition: 27\n",
      "fold: 1\n",
      "fold: 2\n",
      "fold: 3\n",
      "repetition: 28\n",
      "fold: 1\n",
      "fold: 2\n",
      "fold: 3\n",
      "repetition: 29\n",
      "fold: 1\n",
      "fold: 2\n",
      "fold: 3\n",
      "repetition: 30\n",
      "fold: 1\n",
      "fold: 2\n",
      "fold: 3\n",
      "repetition: 31\n",
      "fold: 1\n",
      "fold: 2\n",
      "fold: 3\n"
     ]
    },
    {
     "name": "stderr",
     "output_type": "stream",
     "text": [
      "/usr/local/lib/python3.4/dist-packages/sklearn/feature_selection/univariate_selection.py:113: UserWarning: Features [    13     99    178 ..., 572605 572621 572634] are constant.\n",
      "  UserWarning)\n"
     ]
    },
    {
     "name": "stdout",
     "output_type": "stream",
     "text": [
      "repetition: 32\n",
      "fold: 1\n",
      "fold: 2\n",
      "fold: 3\n",
      "repetition: 33\n",
      "fold: 1\n",
      "fold: 2\n"
     ]
    },
    {
     "name": "stderr",
     "output_type": "stream",
     "text": [
      "/usr/local/lib/python3.4/dist-packages/sklearn/feature_selection/univariate_selection.py:113: UserWarning: Features [    13     99    282 ..., 572554 572621 572634] are constant.\n",
      "  UserWarning)\n"
     ]
    },
    {
     "name": "stdout",
     "output_type": "stream",
     "text": [
      "fold: 3\n",
      "F_mean: 0.435224386113\n",
      "AUC_mean: 0.59890832873\n",
      "PRECISION_mean: 0.381022979985\n",
      "RECALL_mean: 0.507403751234\n",
      "SPECIFICITY_mean: 0.428864569083\n",
      "percentage: 1.44491919192\n",
      "repetition: 1\n",
      "fold: 1\n",
      "fold: 2\n",
      "fold: 3\n",
      "repetition: 2\n",
      "fold: 1\n",
      "fold: 2\n",
      "fold: 3\n",
      "repetition: 3\n",
      "fold: 1\n"
     ]
    },
    {
     "name": "stderr",
     "output_type": "stream",
     "text": [
      "/usr/local/lib/python3.4/dist-packages/sklearn/feature_selection/univariate_selection.py:113: UserWarning: Features [     4     13     71 ..., 572728 572729 572730] are constant.\n",
      "  UserWarning)\n"
     ]
    },
    {
     "name": "stdout",
     "output_type": "stream",
     "text": [
      "fold: 2\n",
      "fold: 3\n",
      "repetition: 4\n",
      "fold: 1\n",
      "fold: 2\n",
      "fold: 3\n",
      "repetition: 5\n",
      "fold: 1\n",
      "fold: 2\n",
      "fold: 3\n",
      "repetition: 6\n",
      "fold: 1\n",
      "fold: 2\n",
      "fold: 3\n"
     ]
    },
    {
     "name": "stderr",
     "output_type": "stream",
     "text": [
      "/usr/local/lib/python3.4/dist-packages/sklearn/feature_selection/univariate_selection.py:113: UserWarning: Features [    13     80     84 ..., 572677 572708 572709] are constant.\n",
      "  UserWarning)\n"
     ]
    },
    {
     "name": "stdout",
     "output_type": "stream",
     "text": [
      "repetition: 7\n",
      "fold: 1\n",
      "fold: 2\n",
      "fold: 3\n",
      "repetition: 8\n",
      "fold: 1\n",
      "fold: 2\n",
      "fold: 3\n",
      "repetition: 9\n",
      "fold: 1\n",
      "fold: 2\n"
     ]
    },
    {
     "name": "stderr",
     "output_type": "stream",
     "text": [
      "/usr/local/lib/python3.4/dist-packages/sklearn/feature_selection/univariate_selection.py:113: UserWarning: Features [     4     13     90 ..., 572703 572704 572705] are constant.\n",
      "  UserWarning)\n"
     ]
    },
    {
     "name": "stdout",
     "output_type": "stream",
     "text": [
      "fold: 3\n",
      "repetition: 10\n",
      "fold: 1\n",
      "fold: 2\n",
      "fold: 3\n",
      "repetition: 11\n",
      "fold: 1\n",
      "fold: 2\n",
      "fold: 3\n",
      "repetition: 12\n",
      "fold: 1\n",
      "fold: 2\n",
      "fold: 3\n",
      "repetition: 13\n",
      "fold: 1\n",
      "fold: 2\n"
     ]
    },
    {
     "name": "stderr",
     "output_type": "stream",
     "text": [
      "/usr/local/lib/python3.4/dist-packages/sklearn/feature_selection/univariate_selection.py:113: UserWarning: Features [    13     99    325 ..., 572733 572736 572737] are constant.\n",
      "  UserWarning)\n"
     ]
    },
    {
     "name": "stdout",
     "output_type": "stream",
     "text": [
      "fold: 3\n",
      "repetition: 14\n",
      "fold: 1\n",
      "fold: 2\n",
      "fold: 3\n",
      "repetition: 15\n",
      "fold: 1\n",
      "fold: 2\n",
      "fold: 3\n",
      "repetition: 16\n",
      "fold: 1\n"
     ]
    },
    {
     "name": "stderr",
     "output_type": "stream",
     "text": [
      "/usr/local/lib/python3.4/dist-packages/sklearn/feature_selection/univariate_selection.py:113: UserWarning: Features [    13     99    149 ..., 572595 572596 572685] are constant.\n",
      "  UserWarning)\n"
     ]
    },
    {
     "name": "stdout",
     "output_type": "stream",
     "text": [
      "fold: 2\n",
      "fold: 3\n",
      "repetition: 17\n",
      "fold: 1\n",
      "fold: 2\n",
      "fold: 3\n",
      "repetition: 18\n",
      "fold: 1\n",
      "fold: 2\n",
      "fold: 3\n"
     ]
    },
    {
     "name": "stderr",
     "output_type": "stream",
     "text": [
      "/usr/local/lib/python3.4/dist-packages/sklearn/feature_selection/univariate_selection.py:113: UserWarning: Features [     4     13     90 ..., 572596 572621 572634] are constant.\n",
      "  UserWarning)\n"
     ]
    },
    {
     "name": "stdout",
     "output_type": "stream",
     "text": [
      "repetition: 19\n",
      "fold: 1\n",
      "fold: 2\n",
      "fold: 3\n",
      "repetition: 20\n",
      "fold: 1\n",
      "fold: 2\n",
      "fold: 3\n",
      "repetition: 21\n",
      "fold: 1\n",
      "fold: 2\n",
      "fold: 3\n",
      "repetition: 22\n",
      "fold: 1\n",
      "fold: 2\n",
      "fold: 3\n",
      "repetition: 23\n",
      "fold: 1\n",
      "fold: 2\n",
      "fold: 3\n",
      "repetition: 24\n",
      "fold: 1\n",
      "fold: 2\n"
     ]
    },
    {
     "name": "stderr",
     "output_type": "stream",
     "text": [
      "/usr/local/lib/python3.4/dist-packages/sklearn/feature_selection/univariate_selection.py:113: UserWarning: Features [    13     99    264 ..., 572704 572708 572709] are constant.\n",
      "  UserWarning)\n"
     ]
    },
    {
     "name": "stdout",
     "output_type": "stream",
     "text": [
      "fold: 3\n",
      "repetition: 25\n",
      "fold: 1\n",
      "fold: 2\n",
      "fold: 3\n",
      "repetition: 26\n",
      "fold: 1\n",
      "fold: 2\n",
      "fold: 3\n",
      "repetition: 27\n",
      "fold: 1\n",
      "fold: 2\n",
      "fold: 3\n"
     ]
    },
    {
     "name": "stderr",
     "output_type": "stream",
     "text": [
      "/usr/local/lib/python3.4/dist-packages/sklearn/feature_selection/univariate_selection.py:113: UserWarning: Features [    13     90     99 ..., 572677 572684 572685] are constant.\n",
      "  UserWarning)\n"
     ]
    },
    {
     "name": "stdout",
     "output_type": "stream",
     "text": [
      "repetition: 28\n",
      "fold: 1\n",
      "fold: 2\n",
      "fold: 3\n",
      "repetition: 29\n",
      "fold: 1\n",
      "fold: 2\n",
      "fold: 3\n",
      "repetition: 30\n",
      "fold: 1\n",
      "fold: 2\n",
      "fold: 3\n",
      "repetition: 31\n",
      "fold: 1\n",
      "fold: 2\n",
      "fold: 3\n",
      "repetition: 32\n",
      "fold: 1\n",
      "fold: 2\n",
      "fold: 3\n",
      "repetition: 33\n",
      "fold: 1\n",
      "fold: 2\n",
      "fold: 3\n",
      "F_mean: 0.459915611814\n",
      "AUC_mean: 0.592442075938\n",
      "PRECISION_mean: 0.400735294118\n",
      "RECALL_mean: 0.539603960396\n",
      "SPECIFICITY_mean: 0.443686006826\n",
      "percentage: 1.47268686869\n",
      "repetition: 1\n",
      "fold: 1\n"
     ]
    },
    {
     "name": "stderr",
     "output_type": "stream",
     "text": [
      "/usr/local/lib/python3.4/dist-packages/sklearn/feature_selection/univariate_selection.py:113: UserWarning: Features [    13     90     99 ..., 572685 572704 572705] are constant.\n",
      "  UserWarning)\n"
     ]
    },
    {
     "name": "stdout",
     "output_type": "stream",
     "text": [
      "fold: 2\n",
      "fold: 3\n",
      "repetition: 2\n",
      "fold: 1\n",
      "fold: 2\n",
      "fold: 3\n"
     ]
    },
    {
     "name": "stderr",
     "output_type": "stream",
     "text": [
      "/usr/local/lib/python3.4/dist-packages/sklearn/feature_selection/univariate_selection.py:113: UserWarning: Features [     4     13     80 ..., 572704 572708 572709] are constant.\n",
      "  UserWarning)\n"
     ]
    },
    {
     "name": "stdout",
     "output_type": "stream",
     "text": [
      "repetition: 3\n",
      "fold: 1\n",
      "fold: 2\n",
      "fold: 3\n",
      "repetition: 4\n",
      "fold: 1\n",
      "fold: 2\n",
      "fold: 3\n",
      "repetition: 5\n",
      "fold: 1\n",
      "fold: 2\n",
      "fold: 3\n",
      "repetition: 6\n",
      "fold: 1\n",
      "fold: 2\n",
      "fold: 3\n"
     ]
    },
    {
     "name": "stderr",
     "output_type": "stream",
     "text": [
      "/usr/local/lib/python3.4/dist-packages/sklearn/feature_selection/univariate_selection.py:113: UserWarning: Features [     0     13     80 ..., 572735 572736 572737] are constant.\n",
      "  UserWarning)\n"
     ]
    },
    {
     "name": "stdout",
     "output_type": "stream",
     "text": [
      "repetition: 7\n",
      "fold: 1\n",
      "fold: 2\n",
      "fold: 3\n",
      "repetition: 8\n",
      "fold: 1\n",
      "fold: 2\n",
      "fold: 3\n",
      "repetition: 9\n",
      "fold: 1\n",
      "fold: 2\n",
      "fold: 3\n",
      "repetition: 10\n",
      "fold: 1\n",
      "fold: 2\n",
      "fold: 3\n",
      "repetition: 11\n",
      "fold: 1\n",
      "fold: 2\n",
      "fold: 3\n",
      "repetition: 12\n",
      "fold: 1\n",
      "fold: 2\n",
      "fold: 3\n",
      "repetition: 13\n",
      "fold: 1\n",
      "fold: 2\n",
      "fold: 3\n",
      "repetition: 14\n",
      "fold: 1\n",
      "fold: 2\n"
     ]
    },
    {
     "name": "stderr",
     "output_type": "stream",
     "text": [
      "/usr/local/lib/python3.4/dist-packages/sklearn/feature_selection/univariate_selection.py:113: UserWarning: Features [    13     71     90 ..., 572677 572708 572709] are constant.\n",
      "  UserWarning)\n"
     ]
    },
    {
     "name": "stdout",
     "output_type": "stream",
     "text": [
      "fold: 3\n",
      "repetition: 15\n",
      "fold: 1\n",
      "fold: 2\n",
      "fold: 3\n",
      "repetition: 16\n",
      "fold: 1\n",
      "fold: 2\n",
      "fold: 3\n",
      "repetition: 17\n",
      "fold: 1\n",
      "fold: 2\n",
      "fold: 3\n",
      "repetition: 18\n",
      "fold: 1\n",
      "fold: 2\n",
      "fold: 3\n",
      "repetition: 19\n",
      "fold: 1\n",
      "fold: 2\n",
      "fold: 3\n",
      "repetition: 20\n",
      "fold: 1\n",
      "fold: 2\n",
      "fold: 3\n"
     ]
    },
    {
     "name": "stderr",
     "output_type": "stream",
     "text": [
      "/usr/local/lib/python3.4/dist-packages/sklearn/feature_selection/univariate_selection.py:113: UserWarning: Features [    13     99    274 ..., 572703 572704 572705] are constant.\n",
      "  UserWarning)\n"
     ]
    },
    {
     "name": "stdout",
     "output_type": "stream",
     "text": [
      "repetition: 21\n",
      "fold: 1\n",
      "fold: 2\n",
      "fold: 3\n",
      "repetition: 22\n",
      "fold: 1\n",
      "fold: 2\n",
      "fold: 3\n",
      "repetition: 23\n",
      "fold: 1\n",
      "fold: 2\n",
      "fold: 3\n",
      "repetition: 24\n",
      "fold: 1\n",
      "fold: 2\n",
      "fold: 3\n",
      "repetition: 25\n",
      "fold: 1\n",
      "fold: 2\n",
      "fold: 3\n",
      "repetition: 26\n",
      "fold: 1\n",
      "fold: 2\n",
      "fold: 3\n",
      "repetition: 27\n",
      "fold: 1\n",
      "fold: 2\n",
      "fold: 3\n",
      "repetition: 28\n",
      "fold: 1\n",
      "fold: 2\n",
      "fold: 3\n",
      "repetition: 29\n",
      "fold: 1\n",
      "fold: 2\n",
      "fold: 3\n",
      "repetition: 30\n",
      "fold: 1\n",
      "fold: 2\n",
      "fold: 3\n",
      "repetition: 31\n",
      "fold: 1\n",
      "fold: 2\n",
      "fold: 3\n",
      "repetition: 32\n",
      "fold: 1\n",
      "fold: 2\n",
      "fold: 3\n",
      "repetition: 33\n",
      "fold: 1\n",
      "fold: 2\n",
      "fold: 3\n",
      "F_mean: 0.431101511879\n",
      "AUC_mean: 0.561356226039\n",
      "PRECISION_mean: 0.379756468798\n",
      "RECALL_mean: 0.498501498501\n",
      "SPECIFICITY_mean: 0.447082767978\n",
      "percentage: 1.50045454545\n",
      "repetition: 1\n",
      "fold: 1\n"
     ]
    },
    {
     "name": "stderr",
     "output_type": "stream",
     "text": [
      "/usr/local/lib/python3.4/dist-packages/sklearn/feature_selection/univariate_selection.py:113: UserWarning: Features [    13     99    149 ..., 572576 572704 572705] are constant.\n",
      "  UserWarning)\n"
     ]
    },
    {
     "name": "stdout",
     "output_type": "stream",
     "text": [
      "fold: 2\n",
      "fold: 3\n",
      "repetition: 2\n",
      "fold: 1\n",
      "fold: 2\n",
      "fold: 3\n",
      "repetition: 3\n",
      "fold: 1\n",
      "fold: 2\n",
      "fold: 3\n",
      "repetition: 4\n",
      "fold: 1\n",
      "fold: 2\n",
      "fold: 3\n",
      "repetition: 5\n",
      "fold: 1\n",
      "fold: 2\n",
      "fold: 3\n",
      "repetition: 6\n",
      "fold: 1\n",
      "fold: 2\n",
      "fold: 3\n",
      "repetition: 7\n",
      "fold: 1\n",
      "fold: 2\n",
      "fold: 3\n",
      "repetition: 8\n",
      "fold: 1\n",
      "fold: 2\n",
      "fold: 3\n",
      "repetition: 9\n",
      "fold: 1\n",
      "fold: 2\n",
      "fold: 3\n",
      "repetition: 10\n",
      "fold: 1\n",
      "fold: 2\n",
      "fold: 3\n",
      "repetition: 11\n",
      "fold: 1\n",
      "fold: 2\n",
      "fold: 3\n"
     ]
    },
    {
     "name": "stderr",
     "output_type": "stream",
     "text": [
      "/usr/local/lib/python3.4/dist-packages/sklearn/feature_selection/univariate_selection.py:113: UserWarning: Features [    13     72     99 ..., 572702 572703 572704] are constant.\n",
      "  UserWarning)\n"
     ]
    },
    {
     "name": "stdout",
     "output_type": "stream",
     "text": [
      "repetition: 12\n",
      "fold: 1\n",
      "fold: 2\n",
      "fold: 3\n"
     ]
    },
    {
     "name": "stderr",
     "output_type": "stream",
     "text": [
      "/usr/local/lib/python3.4/dist-packages/sklearn/feature_selection/univariate_selection.py:113: UserWarning: Features [     4     13     90 ..., 572662 572677 572704] are constant.\n",
      "  UserWarning)\n"
     ]
    },
    {
     "name": "stdout",
     "output_type": "stream",
     "text": [
      "repetition: 13\n",
      "fold: 1\n",
      "fold: 2\n",
      "fold: 3\n",
      "repetition: 14\n",
      "fold: 1\n",
      "fold: 2\n",
      "fold: 3\n",
      "repetition: 15\n",
      "fold: 1\n",
      "fold: 2\n",
      "fold: 3\n"
     ]
    },
    {
     "name": "stderr",
     "output_type": "stream",
     "text": [
      "/usr/local/lib/python3.4/dist-packages/sklearn/feature_selection/univariate_selection.py:113: UserWarning: Features [     4     13     89 ..., 572731 572732 572735] are constant.\n",
      "  UserWarning)\n"
     ]
    },
    {
     "name": "stdout",
     "output_type": "stream",
     "text": [
      "repetition: 16\n",
      "fold: 1\n"
     ]
    },
    {
     "name": "stderr",
     "output_type": "stream",
     "text": [
      "/usr/local/lib/python3.4/dist-packages/sklearn/feature_selection/univariate_selection.py:113: UserWarning: Features [    13     99    149 ..., 572662 572677 572685] are constant.\n",
      "  UserWarning)\n"
     ]
    },
    {
     "name": "stdout",
     "output_type": "stream",
     "text": [
      "fold: 2\n",
      "fold: 3\n",
      "repetition: 17\n",
      "fold: 1\n",
      "fold: 2\n",
      "fold: 3\n",
      "repetition: 18\n",
      "fold: 1\n",
      "fold: 2\n",
      "fold: 3\n"
     ]
    },
    {
     "name": "stderr",
     "output_type": "stream",
     "text": [
      "/usr/local/lib/python3.4/dist-packages/sklearn/feature_selection/univariate_selection.py:113: UserWarning: Features [     4     13     90 ..., 572594 572595 572596] are constant.\n",
      "  UserWarning)\n"
     ]
    },
    {
     "name": "stdout",
     "output_type": "stream",
     "text": [
      "repetition: 19\n",
      "fold: 1\n",
      "fold: 2\n",
      "fold: 3\n",
      "repetition: 20\n",
      "fold: 1\n",
      "fold: 2\n",
      "fold: 3\n",
      "repetition: 21\n",
      "fold: 1\n",
      "fold: 2\n",
      "fold: 3\n",
      "repetition: 22\n",
      "fold: 1\n",
      "fold: 2\n",
      "fold: 3\n",
      "repetition: 23\n",
      "fold: 1\n",
      "fold: 2\n",
      "fold: 3\n",
      "repetition: 24\n",
      "fold: 1\n",
      "fold: 2\n",
      "fold: 3\n",
      "repetition: 25\n",
      "fold: 1\n",
      "fold: 2\n"
     ]
    },
    {
     "name": "stderr",
     "output_type": "stream",
     "text": [
      "/usr/local/lib/python3.4/dist-packages/sklearn/feature_selection/univariate_selection.py:113: UserWarning: Features [     4     13     89 ..., 572728 572729 572730] are constant.\n",
      "  UserWarning)\n"
     ]
    },
    {
     "name": "stdout",
     "output_type": "stream",
     "text": [
      "fold: 3\n"
     ]
    },
    {
     "name": "stderr",
     "output_type": "stream",
     "text": [
      "/usr/local/lib/python3.4/dist-packages/sklearn/feature_selection/univariate_selection.py:113: UserWarning: Features [    13     80     85 ..., 572525 572528 572544] are constant.\n",
      "  UserWarning)\n"
     ]
    },
    {
     "name": "stdout",
     "output_type": "stream",
     "text": [
      "repetition: 26\n",
      "fold: 1\n",
      "fold: 2\n",
      "fold: 3\n",
      "repetition: 27\n",
      "fold: 1\n",
      "fold: 2\n",
      "fold: 3\n",
      "repetition: 28\n",
      "fold: 1\n",
      "fold: 2\n",
      "fold: 3\n",
      "repetition: 29\n",
      "fold: 1\n",
      "fold: 2\n",
      "fold: 3\n",
      "repetition: 30\n",
      "fold: 1\n",
      "fold: 2\n",
      "fold: 3\n",
      "repetition: 31\n",
      "fold: 1\n",
      "fold: 2\n",
      "fold: 3\n",
      "repetition: 32\n",
      "fold: 1\n",
      "fold: 2\n",
      "fold: 3\n",
      "repetition: 33\n",
      "fold: 1\n",
      "fold: 2\n"
     ]
    },
    {
     "name": "stderr",
     "output_type": "stream",
     "text": [
      "/usr/local/lib/python3.4/dist-packages/sklearn/feature_selection/univariate_selection.py:113: UserWarning: Features [    13     72     86 ..., 572728 572729 572730] are constant.\n",
      "  UserWarning)\n"
     ]
    },
    {
     "name": "stdout",
     "output_type": "stream",
     "text": [
      "fold: 3\n",
      "F_mean: 0.465403261349\n",
      "AUC_mean: 0.60233266706\n",
      "PRECISION_mean: 0.417061611374\n",
      "RECALL_mean: 0.526420737787\n",
      "SPECIFICITY_mean: 0.498641304348\n",
      "percentage: 1.52822222222\n",
      "repetition: 1\n",
      "fold: 1\n",
      "fold: 2\n",
      "fold: 3\n",
      "repetition: 2\n",
      "fold: 1\n",
      "fold: 2\n",
      "fold: 3\n",
      "repetition: 3\n",
      "fold: 1\n",
      "fold: 2\n",
      "fold: 3\n",
      "repetition: 4\n",
      "fold: 1\n",
      "fold: 2\n",
      "fold: 3\n",
      "repetition: 5\n",
      "fold: 1\n",
      "fold: 2\n",
      "fold: 3\n",
      "repetition: 6\n",
      "fold: 1\n",
      "fold: 2\n",
      "fold: 3\n"
     ]
    },
    {
     "name": "stderr",
     "output_type": "stream",
     "text": [
      "/usr/local/lib/python3.4/dist-packages/sklearn/feature_selection/univariate_selection.py:113: UserWarning: Features [    13     99    386 ..., 572670 572685 572686] are constant.\n",
      "  UserWarning)\n"
     ]
    },
    {
     "name": "stdout",
     "output_type": "stream",
     "text": [
      "repetition: 7\n",
      "fold: 1\n",
      "fold: 2\n",
      "fold: 3\n",
      "repetition: 8\n",
      "fold: 1\n",
      "fold: 2\n",
      "fold: 3\n",
      "repetition: 9\n",
      "fold: 1\n",
      "fold: 2\n",
      "fold: 3\n",
      "repetition: 10\n",
      "fold: 1\n",
      "fold: 2\n"
     ]
    },
    {
     "name": "stderr",
     "output_type": "stream",
     "text": [
      "/usr/local/lib/python3.4/dist-packages/sklearn/feature_selection/univariate_selection.py:113: UserWarning: Features [    13     99    178 ..., 572595 572596 572685] are constant.\n",
      "  UserWarning)\n"
     ]
    },
    {
     "name": "stdout",
     "output_type": "stream",
     "text": [
      "fold: 3\n",
      "repetition: 11\n",
      "fold: 1\n",
      "fold: 2\n",
      "fold: 3\n",
      "repetition: 12\n",
      "fold: 1\n",
      "fold: 2\n",
      "fold: 3\n",
      "repetition: 13\n",
      "fold: 1\n",
      "fold: 2\n",
      "fold: 3\n",
      "repetition: 14\n",
      "fold: 1\n",
      "fold: 2\n",
      "fold: 3\n",
      "repetition: 15\n",
      "fold: 1\n",
      "fold: 2\n",
      "fold: 3\n",
      "repetition: 16\n",
      "fold: 1\n",
      "fold: 2\n",
      "fold: 3\n",
      "repetition: 17\n",
      "fold: 1\n",
      "fold: 2\n",
      "fold: 3\n",
      "repetition: 18\n",
      "fold: 1\n",
      "fold: 2\n",
      "fold: 3\n",
      "repetition: 19\n",
      "fold: 1\n",
      "fold: 2\n",
      "fold: 3\n",
      "repetition: 20\n",
      "fold: 1\n",
      "fold: 2\n",
      "fold: 3\n",
      "repetition: 21\n",
      "fold: 1\n",
      "fold: 2\n",
      "fold: 3\n",
      "repetition: 22\n",
      "fold: 1\n"
     ]
    },
    {
     "name": "stderr",
     "output_type": "stream",
     "text": [
      "/usr/local/lib/python3.4/dist-packages/sklearn/feature_selection/univariate_selection.py:113: UserWarning: Features [    13     99    204 ..., 572509 572525 572544] are constant.\n",
      "  UserWarning)\n"
     ]
    },
    {
     "name": "stdout",
     "output_type": "stream",
     "text": [
      "fold: 2\n",
      "fold: 3\n",
      "repetition: 23\n",
      "fold: 1\n",
      "fold: 2\n",
      "fold: 3\n",
      "repetition: 24\n",
      "fold: 1\n",
      "fold: 2\n",
      "fold: 3\n",
      "repetition: 25\n",
      "fold: 1\n",
      "fold: 2\n",
      "fold: 3\n",
      "repetition: 26\n",
      "fold: 1\n",
      "fold: 2\n",
      "fold: 3\n",
      "repetition: 27\n",
      "fold: 1\n",
      "fold: 2\n",
      "fold: 3\n",
      "repetition: 28\n",
      "fold: 1\n",
      "fold: 2\n",
      "fold: 3\n",
      "repetition: 29\n",
      "fold: 1\n"
     ]
    },
    {
     "name": "stderr",
     "output_type": "stream",
     "text": [
      "/usr/local/lib/python3.4/dist-packages/sklearn/feature_selection/univariate_selection.py:113: UserWarning: Features [    13     90     99 ..., 572604 572605 572685] are constant.\n",
      "  UserWarning)\n"
     ]
    },
    {
     "name": "stdout",
     "output_type": "stream",
     "text": [
      "fold: 2\n",
      "fold: 3\n",
      "repetition: 30\n",
      "fold: 1\n",
      "fold: 2\n",
      "fold: 3\n",
      "repetition: 31\n",
      "fold: 1\n",
      "fold: 2\n",
      "fold: 3\n",
      "repetition: 32\n",
      "fold: 1\n",
      "fold: 2\n",
      "fold: 3\n",
      "repetition: 33\n",
      "fold: 1\n",
      "fold: 2\n",
      "fold: 3\n",
      "F_mean: 0.457779682812\n",
      "AUC_mean: 0.584886638334\n",
      "PRECISION_mean: 0.400600150038\n",
      "RECALL_mean: 0.534\n",
      "SPECIFICITY_mean: 0.458305084746\n",
      "percentage: 1.55598989899\n",
      "repetition: 1\n",
      "fold: 1\n",
      "fold: 2\n",
      "fold: 3\n",
      "repetition: 2\n",
      "fold: 1\n",
      "fold: 2\n",
      "fold: 3\n",
      "repetition: 3\n",
      "fold: 1\n",
      "fold: 2\n",
      "fold: 3\n",
      "repetition: 4\n",
      "fold: 1\n",
      "fold: 2\n",
      "fold: 3\n"
     ]
    },
    {
     "name": "stderr",
     "output_type": "stream",
     "text": [
      "/usr/local/lib/python3.4/dist-packages/sklearn/feature_selection/univariate_selection.py:113: UserWarning: Features [     4     13     80 ..., 572677 572684 572685] are constant.\n",
      "  UserWarning)\n"
     ]
    },
    {
     "name": "stdout",
     "output_type": "stream",
     "text": [
      "repetition: 5\n",
      "fold: 1\n",
      "fold: 2\n",
      "fold: 3\n",
      "repetition: 6\n",
      "fold: 1\n",
      "fold: 2\n",
      "fold: 3\n",
      "repetition: 7\n",
      "fold: 1\n",
      "fold: 2\n",
      "fold: 3\n",
      "repetition: 8\n",
      "fold: 1\n",
      "fold: 2\n",
      "fold: 3\n",
      "repetition: 9\n",
      "fold: 1\n",
      "fold: 2\n",
      "fold: 3\n",
      "repetition: 10\n",
      "fold: 1\n",
      "fold: 2\n",
      "fold: 3\n",
      "repetition: 11\n",
      "fold: 1\n",
      "fold: 2\n",
      "fold: 3\n",
      "repetition: 12\n",
      "fold: 1\n",
      "fold: 2\n",
      "fold: 3\n",
      "repetition: 13\n",
      "fold: 1\n",
      "fold: 2\n",
      "fold: 3\n",
      "repetition: 14\n",
      "fold: 1\n",
      "fold: 2\n",
      "fold: 3\n",
      "repetition: 15\n",
      "fold: 1\n",
      "fold: 2\n",
      "fold: 3\n",
      "repetition: 16\n",
      "fold: 1\n",
      "fold: 2\n",
      "fold: 3\n",
      "repetition: 17\n",
      "fold: 1\n",
      "fold: 2\n",
      "fold: 3\n",
      "repetition: 18\n",
      "fold: 1\n",
      "fold: 2\n",
      "fold: 3\n",
      "repetition: 19\n",
      "fold: 1\n"
     ]
    },
    {
     "name": "stderr",
     "output_type": "stream",
     "text": [
      "/usr/local/lib/python3.4/dist-packages/sklearn/feature_selection/univariate_selection.py:113: UserWarning: Features [    13     80     85 ..., 572576 572684 572704] are constant.\n",
      "  UserWarning)\n"
     ]
    },
    {
     "name": "stdout",
     "output_type": "stream",
     "text": [
      "fold: 2\n",
      "fold: 3\n",
      "repetition: 20\n",
      "fold: 1\n",
      "fold: 2\n",
      "fold: 3\n",
      "repetition: 21\n",
      "fold: 1\n",
      "fold: 2\n"
     ]
    },
    {
     "name": "stderr",
     "output_type": "stream",
     "text": [
      "/usr/local/lib/python3.4/dist-packages/sklearn/feature_selection/univariate_selection.py:113: UserWarning: Features [    13     90     99 ..., 572576 572621 572634] are constant.\n",
      "  UserWarning)\n"
     ]
    },
    {
     "name": "stdout",
     "output_type": "stream",
     "text": [
      "fold: 3\n",
      "repetition: 22\n",
      "fold: 1\n",
      "fold: 2\n",
      "fold: 3\n",
      "repetition: 23\n",
      "fold: 1\n",
      "fold: 2\n",
      "fold: 3\n",
      "repetition: 24\n",
      "fold: 1\n",
      "fold: 2\n",
      "fold: 3\n",
      "repetition: 25\n",
      "fold: 1\n",
      "fold: 2\n",
      "fold: 3\n"
     ]
    },
    {
     "name": "stderr",
     "output_type": "stream",
     "text": [
      "/usr/local/lib/python3.4/dist-packages/sklearn/feature_selection/univariate_selection.py:113: UserWarning: Features [    13     80     85 ..., 572605 572621 572634] are constant.\n",
      "  UserWarning)\n"
     ]
    },
    {
     "name": "stdout",
     "output_type": "stream",
     "text": [
      "repetition: 26\n",
      "fold: 1\n",
      "fold: 2\n",
      "fold: 3\n",
      "repetition: 27\n",
      "fold: 1\n",
      "fold: 2\n",
      "fold: 3\n",
      "repetition: 28\n",
      "fold: 1\n",
      "fold: 2\n",
      "fold: 3\n"
     ]
    },
    {
     "name": "stderr",
     "output_type": "stream",
     "text": [
      "/usr/local/lib/python3.4/dist-packages/sklearn/feature_selection/univariate_selection.py:113: UserWarning: Features [     4     13     72 ..., 572588 572708 572709] are constant.\n",
      "  UserWarning)\n"
     ]
    },
    {
     "name": "stdout",
     "output_type": "stream",
     "text": [
      "repetition: 29\n",
      "fold: 1\n",
      "fold: 2\n",
      "fold: 3\n",
      "repetition: 30\n",
      "fold: 1\n",
      "fold: 2\n",
      "fold: 3\n",
      "repetition: 31\n",
      "fold: 1\n",
      "fold: 2\n",
      "fold: 3\n",
      "repetition: 32\n",
      "fold: 1\n",
      "fold: 2\n",
      "fold: 3\n",
      "repetition: 33\n",
      "fold: 1\n",
      "fold: 2\n",
      "fold: 3\n",
      "F_mean: 0.4180543383\n",
      "AUC_mean: 0.567016779183\n",
      "PRECISION_mean: 0.36664104535\n",
      "RECALL_mean: 0.48623853211\n",
      "SPECIFICITY_mean: 0.448460508701\n",
      "percentage: 1.58375757576\n",
      "repetition: 1\n",
      "fold: 1\n",
      "fold: 2\n",
      "fold: 3\n",
      "repetition: 2\n",
      "fold: 1\n",
      "fold: 2\n",
      "fold: 3\n",
      "repetition: 3\n",
      "fold: 1\n",
      "fold: 2\n",
      "fold: 3\n",
      "repetition: 4\n",
      "fold: 1\n",
      "fold: 2\n",
      "fold: 3\n",
      "repetition: 5\n",
      "fold: 1\n",
      "fold: 2\n",
      "fold: 3\n",
      "repetition: 6\n",
      "fold: 1\n",
      "fold: 2\n",
      "fold: 3\n",
      "repetition: 7\n",
      "fold: 1\n",
      "fold: 2\n",
      "fold: 3\n",
      "repetition: 8\n",
      "fold: 1\n",
      "fold: 2\n",
      "fold: 3\n",
      "repetition: 9\n",
      "fold: 1\n",
      "fold: 2\n",
      "fold: 3\n",
      "repetition: 10\n",
      "fold: 1\n",
      "fold: 2\n",
      "fold: 3\n",
      "repetition: 11\n",
      "fold: 1\n",
      "fold: 2\n",
      "fold: 3\n",
      "repetition: 12\n",
      "fold: 1\n",
      "fold: 2\n"
     ]
    },
    {
     "name": "stderr",
     "output_type": "stream",
     "text": [
      "/usr/local/lib/python3.4/dist-packages/sklearn/feature_selection/univariate_selection.py:113: UserWarning: Features [    13     72     99 ..., 572677 572685 572704] are constant.\n",
      "  UserWarning)\n"
     ]
    },
    {
     "name": "stdout",
     "output_type": "stream",
     "text": [
      "fold: 3\n",
      "repetition: 13\n",
      "fold: 1\n",
      "fold: 2\n",
      "fold: 3\n",
      "repetition: 14\n",
      "fold: 1\n",
      "fold: 2\n",
      "fold: 3\n",
      "repetition: 15\n",
      "fold: 1\n",
      "fold: 2\n",
      "fold: 3\n"
     ]
    },
    {
     "name": "stderr",
     "output_type": "stream",
     "text": [
      "/usr/local/lib/python3.4/dist-packages/sklearn/feature_selection/univariate_selection.py:113: UserWarning: Features [    13     99    386 ..., 572733 572736 572737] are constant.\n",
      "  UserWarning)\n"
     ]
    },
    {
     "name": "stdout",
     "output_type": "stream",
     "text": [
      "repetition: 16\n",
      "fold: 1\n",
      "fold: 2\n",
      "fold: 3\n",
      "repetition: 17\n",
      "fold: 1\n",
      "fold: 2\n",
      "fold: 3\n",
      "repetition: 18\n",
      "fold: 1\n",
      "fold: 2\n",
      "fold: 3\n",
      "repetition: 19\n",
      "fold: 1\n",
      "fold: 2\n",
      "fold: 3\n",
      "repetition: 20\n",
      "fold: 1\n",
      "fold: 2\n",
      "fold: 3\n",
      "repetition: 21\n",
      "fold: 1\n",
      "fold: 2\n",
      "fold: 3\n",
      "repetition: 22\n",
      "fold: 1\n",
      "fold: 2\n",
      "fold: 3\n",
      "repetition: 23\n",
      "fold: 1\n",
      "fold: 2\n",
      "fold: 3\n",
      "repetition: 24\n",
      "fold: 1\n",
      "fold: 2\n",
      "fold: 3\n",
      "repetition: 25\n",
      "fold: 1\n",
      "fold: 2\n",
      "fold: 3\n",
      "repetition: 26\n",
      "fold: 1\n",
      "fold: 2\n",
      "fold: 3\n",
      "repetition: 27\n",
      "fold: 1\n",
      "fold: 2\n",
      "fold: 3\n",
      "repetition: 28\n",
      "fold: 1\n",
      "fold: 2\n"
     ]
    },
    {
     "name": "stderr",
     "output_type": "stream",
     "text": [
      "/usr/local/lib/python3.4/dist-packages/sklearn/feature_selection/univariate_selection.py:113: UserWarning: Features [    13     80     84 ..., 572704 572708 572709] are constant.\n",
      "  UserWarning)\n"
     ]
    },
    {
     "name": "stdout",
     "output_type": "stream",
     "text": [
      "fold: 3\n",
      "repetition: 29\n",
      "fold: 1\n",
      "fold: 2\n",
      "fold: 3\n",
      "repetition: 30\n",
      "fold: 1\n",
      "fold: 2\n",
      "fold: 3\n",
      "repetition: 31\n",
      "fold: 1\n",
      "fold: 2\n",
      "fold: 3\n",
      "repetition: 32\n",
      "fold: 1\n",
      "fold: 2\n",
      "fold: 3\n",
      "repetition: 33\n",
      "fold: 1\n",
      "fold: 2\n",
      "fold: 3\n",
      "F_mean: 0.474660074166\n",
      "AUC_mean: 0.591616605517\n",
      "PRECISION_mean: 0.416184971098\n",
      "RECALL_mean: 0.552253116012\n",
      "SPECIFICITY_mean: 0.435754189944\n",
      "percentage: 1.61152525253\n",
      "repetition: 1\n",
      "fold: 1\n",
      "fold: 2\n",
      "fold: 3\n",
      "repetition: 2\n",
      "fold: 1\n",
      "fold: 2\n",
      "fold: 3\n",
      "repetition: 3\n",
      "fold: 1\n",
      "fold: 2\n",
      "fold: 3\n",
      "repetition: 4\n",
      "fold: 1\n",
      "fold: 2\n",
      "fold: 3\n",
      "repetition: 5\n",
      "fold: 1\n",
      "fold: 2\n",
      "fold: 3\n",
      "repetition: 6\n",
      "fold: 1\n",
      "fold: 2\n",
      "fold: 3\n",
      "repetition: 7\n",
      "fold: 1\n",
      "fold: 2\n",
      "fold: 3\n"
     ]
    },
    {
     "name": "stderr",
     "output_type": "stream",
     "text": [
      "/usr/local/lib/python3.4/dist-packages/sklearn/feature_selection/univariate_selection.py:113: UserWarning: Features [    13     99    288 ..., 572705 572708 572709] are constant.\n",
      "  UserWarning)\n"
     ]
    },
    {
     "name": "stdout",
     "output_type": "stream",
     "text": [
      "repetition: 8\n",
      "fold: 1\n",
      "fold: 2\n",
      "fold: 3\n",
      "repetition: 9\n",
      "fold: 1\n",
      "fold: 2\n",
      "fold: 3\n",
      "repetition: 10\n",
      "fold: 1\n",
      "fold: 2\n",
      "fold: 3\n",
      "repetition: 11\n",
      "fold: 1\n",
      "fold: 2\n",
      "fold: 3\n",
      "repetition: 12\n",
      "fold: 1\n",
      "fold: 2\n",
      "fold: 3\n",
      "repetition: 13\n",
      "fold: 1\n",
      "fold: 2\n",
      "fold: 3\n",
      "repetition: 14\n",
      "fold: 1\n",
      "fold: 2\n",
      "fold: 3\n",
      "repetition: 15\n",
      "fold: 1\n",
      "fold: 2\n",
      "fold: 3\n",
      "repetition: 16\n",
      "fold: 1\n",
      "fold: 2\n",
      "fold: 3\n",
      "repetition: 17\n",
      "fold: 1\n",
      "fold: 2\n",
      "fold: 3\n",
      "repetition: 18\n",
      "fold: 1\n",
      "fold: 2\n",
      "fold: 3\n",
      "repetition: 19\n",
      "fold: 1\n",
      "fold: 2\n",
      "fold: 3\n",
      "repetition: 20\n",
      "fold: 1\n",
      "fold: 2\n",
      "fold: 3\n",
      "repetition: 21\n",
      "fold: 1\n",
      "fold: 2\n",
      "fold: 3\n",
      "repetition: 22\n",
      "fold: 1\n",
      "fold: 2\n",
      "fold: 3\n",
      "repetition: 23\n",
      "fold: 1\n",
      "fold: 2\n",
      "fold: 3\n",
      "repetition: 24\n",
      "fold: 1\n",
      "fold: 2\n"
     ]
    },
    {
     "name": "stderr",
     "output_type": "stream",
     "text": [
      "/usr/local/lib/python3.4/dist-packages/sklearn/feature_selection/univariate_selection.py:113: UserWarning: Features [     4     13     90 ..., 572553 572554 572685] are constant.\n",
      "  UserWarning)\n"
     ]
    },
    {
     "name": "stdout",
     "output_type": "stream",
     "text": [
      "fold: 3\n",
      "repetition: 25\n",
      "fold: 1\n",
      "fold: 2\n",
      "fold: 3\n",
      "repetition: 26\n",
      "fold: 1\n",
      "fold: 2\n",
      "fold: 3\n",
      "repetition: 27\n",
      "fold: 1\n",
      "fold: 2\n",
      "fold: 3\n",
      "repetition: 28\n",
      "fold: 1\n",
      "fold: 2\n",
      "fold: 3\n",
      "repetition: 29\n",
      "fold: 1\n",
      "fold: 2\n",
      "fold: 3\n",
      "repetition: 30\n",
      "fold: 1\n",
      "fold: 2\n",
      "fold: 3\n",
      "repetition: 31\n",
      "fold: 1\n",
      "fold: 2\n",
      "fold: 3\n",
      "repetition: 32\n",
      "fold: 1\n",
      "fold: 2\n"
     ]
    },
    {
     "name": "stderr",
     "output_type": "stream",
     "text": [
      "/usr/local/lib/python3.4/dist-packages/sklearn/feature_selection/univariate_selection.py:113: UserWarning: Features [    13     99    324 ..., 572553 572684 572685] are constant.\n",
      "  UserWarning)\n"
     ]
    },
    {
     "name": "stdout",
     "output_type": "stream",
     "text": [
      "fold: 3\n",
      "repetition: 33\n",
      "fold: 1\n",
      "fold: 2\n",
      "fold: 3\n",
      "F_mean: 0.477868500215\n",
      "AUC_mean: 0.606045311429\n",
      "PRECISION_mean: 0.413998510797\n",
      "RECALL_mean: 0.565040650407\n",
      "SPECIFICITY_mean: 0.472166331321\n",
      "percentage: 1.63929292929\n",
      "repetition: 1\n",
      "fold: 1\n",
      "fold: 2\n"
     ]
    },
    {
     "name": "stderr",
     "output_type": "stream",
     "text": [
      "/usr/local/lib/python3.4/dist-packages/sklearn/feature_selection/univariate_selection.py:113: UserWarning: Features [    13     99    178 ..., 572544 572621 572634] are constant.\n",
      "  UserWarning)\n"
     ]
    },
    {
     "name": "stdout",
     "output_type": "stream",
     "text": [
      "fold: 3\n",
      "repetition: 2\n",
      "fold: 1\n",
      "fold: 2\n",
      "fold: 3\n",
      "repetition: 3\n",
      "fold: 1\n",
      "fold: 2\n",
      "fold: 3\n",
      "repetition: 4\n",
      "fold: 1\n",
      "fold: 2\n",
      "fold: 3\n",
      "repetition: 5\n",
      "fold: 1\n",
      "fold: 2\n",
      "fold: 3\n",
      "repetition: 6\n",
      "fold: 1\n",
      "fold: 2\n",
      "fold: 3\n",
      "repetition: 7\n",
      "fold: 1\n",
      "fold: 2\n",
      "fold: 3\n",
      "repetition: 8\n",
      "fold: 1\n",
      "fold: 2\n",
      "fold: 3\n",
      "repetition: 9\n",
      "fold: 1\n",
      "fold: 2\n",
      "fold: 3\n",
      "repetition: 10\n",
      "fold: 1\n",
      "fold: 2\n",
      "fold: 3\n",
      "repetition: 11\n",
      "fold: 1\n",
      "fold: 2\n",
      "fold: 3\n",
      "repetition: 12\n",
      "fold: 1\n",
      "fold: 2\n",
      "fold: 3\n",
      "repetition: 13\n",
      "fold: 1\n",
      "fold: 2\n",
      "fold: 3\n",
      "repetition: 14\n",
      "fold: 1\n",
      "fold: 2\n",
      "fold: 3\n",
      "repetition: 15\n",
      "fold: 1\n",
      "fold: 2\n",
      "fold: 3\n",
      "repetition: 16\n",
      "fold: 1\n"
     ]
    },
    {
     "name": "stderr",
     "output_type": "stream",
     "text": [
      "/usr/local/lib/python3.4/dist-packages/sklearn/feature_selection/univariate_selection.py:113: UserWarning: Features [    13     99    274 ..., 572621 572634 572704] are constant.\n",
      "  UserWarning)\n"
     ]
    },
    {
     "name": "stdout",
     "output_type": "stream",
     "text": [
      "fold: 2\n",
      "fold: 3\n",
      "repetition: 17\n",
      "fold: 1\n"
     ]
    },
    {
     "name": "stderr",
     "output_type": "stream",
     "text": [
      "/usr/local/lib/python3.4/dist-packages/sklearn/feature_selection/univariate_selection.py:113: UserWarning: Features [    13     99    324 ..., 572720 572721 572722] are constant.\n",
      "  UserWarning)\n"
     ]
    },
    {
     "name": "stdout",
     "output_type": "stream",
     "text": [
      "fold: 2\n",
      "fold: 3\n",
      "repetition: 18\n",
      "fold: 1\n",
      "fold: 2\n",
      "fold: 3\n",
      "repetition: 19\n",
      "fold: 1\n",
      "fold: 2\n",
      "fold: 3\n",
      "repetition: 20\n",
      "fold: 1\n",
      "fold: 2\n",
      "fold: 3\n",
      "repetition: 21\n",
      "fold: 1\n",
      "fold: 2\n",
      "fold: 3\n",
      "repetition: 22\n",
      "fold: 1\n",
      "fold: 2\n",
      "fold: 3\n",
      "repetition: 23\n",
      "fold: 1\n",
      "fold: 2\n",
      "fold: 3\n",
      "repetition: 24\n",
      "fold: 1\n",
      "fold: 2\n",
      "fold: 3\n",
      "repetition: 25\n",
      "fold: 1\n",
      "fold: 2\n",
      "fold: 3\n",
      "repetition: 26\n",
      "fold: 1\n",
      "fold: 2\n",
      "fold: 3\n",
      "repetition: 27\n",
      "fold: 1\n",
      "fold: 2\n",
      "fold: 3\n",
      "repetition: 28\n",
      "fold: 1\n",
      "fold: 2\n",
      "fold: 3\n",
      "repetition: 29\n",
      "fold: 1\n",
      "fold: 2\n",
      "fold: 3\n",
      "repetition: 30\n",
      "fold: 1\n",
      "fold: 2\n",
      "fold: 3\n",
      "repetition: 31\n",
      "fold: 1\n",
      "fold: 2\n",
      "fold: 3\n",
      "repetition: 32\n",
      "fold: 1\n",
      "fold: 2\n",
      "fold: 3\n"
     ]
    },
    {
     "name": "stderr",
     "output_type": "stream",
     "text": [
      "/usr/local/lib/python3.4/dist-packages/sklearn/feature_selection/univariate_selection.py:113: UserWarning: Features [    13     72     90 ..., 572712 572713 572714] are constant.\n",
      "  UserWarning)\n"
     ]
    },
    {
     "name": "stdout",
     "output_type": "stream",
     "text": [
      "repetition: 33\n",
      "fold: 1\n"
     ]
    },
    {
     "name": "stderr",
     "output_type": "stream",
     "text": [
      "/usr/local/lib/python3.4/dist-packages/sklearn/feature_selection/univariate_selection.py:113: UserWarning: Features [    13     90     99 ..., 572544 572553 572704] are constant.\n",
      "  UserWarning)\n"
     ]
    },
    {
     "name": "stdout",
     "output_type": "stream",
     "text": [
      "fold: 2\n",
      "fold: 3\n",
      "F_mean: 0.44262295082\n",
      "AUC_mean: 0.576823432691\n",
      "PRECISION_mean: 0.381696428571\n",
      "RECALL_mean: 0.526694045175\n",
      "SPECIFICITY_mean: 0.446369087275\n",
      "percentage: 1.66706060606\n",
      "repetition: 1\n",
      "fold: 1\n",
      "fold: 2\n",
      "fold: 3\n",
      "repetition: 2\n",
      "fold: 1\n",
      "fold: 2\n",
      "fold: 3\n",
      "repetition: 3\n",
      "fold: 1\n",
      "fold: 2\n",
      "fold: 3\n",
      "repetition: 4\n",
      "fold: 1\n",
      "fold: 2\n",
      "fold: 3\n",
      "repetition: 5\n",
      "fold: 1\n",
      "fold: 2\n",
      "fold: 3\n",
      "repetition: 6\n",
      "fold: 1\n",
      "fold: 2\n",
      "fold: 3\n",
      "repetition: 7\n",
      "fold: 1\n",
      "fold: 2\n",
      "fold: 3\n",
      "repetition: 8\n",
      "fold: 1\n"
     ]
    },
    {
     "name": "stderr",
     "output_type": "stream",
     "text": [
      "/usr/local/lib/python3.4/dist-packages/sklearn/feature_selection/univariate_selection.py:113: UserWarning: Features [     4     13     80 ..., 572461 572684 572704] are constant.\n",
      "  UserWarning)\n"
     ]
    },
    {
     "name": "stdout",
     "output_type": "stream",
     "text": [
      "fold: 2\n",
      "fold: 3\n",
      "repetition: 9\n",
      "fold: 1\n",
      "fold: 2\n",
      "fold: 3\n",
      "repetition: 10\n",
      "fold: 1\n",
      "fold: 2\n",
      "fold: 3\n",
      "repetition: 11\n",
      "fold: 1\n",
      "fold: 2\n",
      "fold: 3\n",
      "repetition: 12\n",
      "fold: 1\n",
      "fold: 2\n",
      "fold: 3\n",
      "repetition: 13\n",
      "fold: 1\n"
     ]
    },
    {
     "name": "stderr",
     "output_type": "stream",
     "text": [
      "/usr/local/lib/python3.4/dist-packages/sklearn/feature_selection/univariate_selection.py:113: UserWarning: Features [     4     13     90 ..., 572662 572677 572685] are constant.\n",
      "  UserWarning)\n"
     ]
    },
    {
     "name": "stdout",
     "output_type": "stream",
     "text": [
      "fold: 2\n",
      "fold: 3\n",
      "repetition: 14\n",
      "fold: 1\n",
      "fold: 2\n",
      "fold: 3\n",
      "repetition: 15\n",
      "fold: 1\n",
      "fold: 2\n",
      "fold: 3\n",
      "repetition: 16\n",
      "fold: 1\n",
      "fold: 2\n",
      "fold: 3\n",
      "repetition: 17\n",
      "fold: 1\n",
      "fold: 2\n",
      "fold: 3\n",
      "repetition: 18\n",
      "fold: 1\n",
      "fold: 2\n",
      "fold: 3\n"
     ]
    },
    {
     "name": "stderr",
     "output_type": "stream",
     "text": [
      "/usr/local/lib/python3.4/dist-packages/sklearn/feature_selection/univariate_selection.py:113: UserWarning: Features [    13     80     84 ..., 572692 572702 572703] are constant.\n",
      "  UserWarning)\n"
     ]
    },
    {
     "name": "stdout",
     "output_type": "stream",
     "text": [
      "repetition: 19\n",
      "fold: 1\n",
      "fold: 2\n",
      "fold: 3\n",
      "repetition: 20\n",
      "fold: 1\n",
      "fold: 2\n",
      "fold: 3\n",
      "repetition: 21\n",
      "fold: 1\n",
      "fold: 2\n",
      "fold: 3\n",
      "repetition: 22\n",
      "fold: 1\n",
      "fold: 2\n",
      "fold: 3\n",
      "repetition: 23\n",
      "fold: 1\n",
      "fold: 2\n"
     ]
    },
    {
     "name": "stderr",
     "output_type": "stream",
     "text": [
      "/usr/local/lib/python3.4/dist-packages/sklearn/feature_selection/univariate_selection.py:113: UserWarning: Features [    13     99    264 ..., 572554 572621 572634] are constant.\n",
      "  UserWarning)\n"
     ]
    },
    {
     "name": "stdout",
     "output_type": "stream",
     "text": [
      "fold: 3\n",
      "repetition: 24\n",
      "fold: 1\n",
      "fold: 2\n",
      "fold: 3\n",
      "repetition: 25\n",
      "fold: 1\n",
      "fold: 2\n",
      "fold: 3\n",
      "repetition: 26\n",
      "fold: 1\n",
      "fold: 2\n",
      "fold: 3\n",
      "repetition: 27\n",
      "fold: 1\n",
      "fold: 2\n",
      "fold: 3\n",
      "repetition: 28\n",
      "fold: 1\n",
      "fold: 2\n",
      "fold: 3\n",
      "repetition: 29\n",
      "fold: 1\n",
      "fold: 2\n",
      "fold: 3\n",
      "repetition: 30\n",
      "fold: 1\n",
      "fold: 2\n",
      "fold: 3\n",
      "repetition: 31\n",
      "fold: 1\n",
      "fold: 2\n",
      "fold: 3\n",
      "repetition: 32\n",
      "fold: 1\n",
      "fold: 2\n",
      "fold: 3\n",
      "repetition: 33\n",
      "fold: 1\n",
      "fold: 2\n",
      "fold: 3\n",
      "F_mean: 0.454193548387\n",
      "AUC_mean: 0.595793829188\n",
      "PRECISION_mean: 0.40243902439\n",
      "RECALL_mean: 0.521224086871\n",
      "SPECIFICITY_mean: 0.463748290014\n",
      "percentage: 1.69482828283\n",
      "repetition: 1\n",
      "fold: 1\n"
     ]
    },
    {
     "name": "stderr",
     "output_type": "stream",
     "text": [
      "/usr/local/lib/python3.4/dist-packages/sklearn/feature_selection/univariate_selection.py:113: UserWarning: Features [     4     13     86 ..., 572728 572729 572730] are constant.\n",
      "  UserWarning)\n"
     ]
    },
    {
     "name": "stdout",
     "output_type": "stream",
     "text": [
      "fold: 2\n",
      "fold: 3\n",
      "repetition: 2\n",
      "fold: 1\n",
      "fold: 2\n",
      "fold: 3\n",
      "repetition: 3\n",
      "fold: 1\n",
      "fold: 2\n",
      "fold: 3\n",
      "repetition: 4\n",
      "fold: 1\n",
      "fold: 2\n",
      "fold: 3\n",
      "repetition: 5\n",
      "fold: 1\n",
      "fold: 2\n",
      "fold: 3\n",
      "repetition: 6\n",
      "fold: 1\n",
      "fold: 2\n",
      "fold: 3\n",
      "repetition: 7\n",
      "fold: 1\n",
      "fold: 2\n",
      "fold: 3\n",
      "repetition: 8\n",
      "fold: 1\n",
      "fold: 2\n",
      "fold: 3\n",
      "repetition: 9\n",
      "fold: 1\n",
      "fold: 2\n",
      "fold: 3\n",
      "repetition: 10\n",
      "fold: 1\n",
      "fold: 2\n",
      "fold: 3\n",
      "repetition: 11\n",
      "fold: 1\n",
      "fold: 2\n",
      "fold: 3\n",
      "repetition: 12\n",
      "fold: 1\n",
      "fold: 2\n",
      "fold: 3\n",
      "repetition: 13\n",
      "fold: 1\n",
      "fold: 2\n",
      "fold: 3\n",
      "repetition: 14\n",
      "fold: 1\n",
      "fold: 2\n",
      "fold: 3\n",
      "repetition: 15\n",
      "fold: 1\n",
      "fold: 2\n",
      "fold: 3\n",
      "repetition: 16\n",
      "fold: 1\n",
      "fold: 2\n",
      "fold: 3\n",
      "repetition: 17\n",
      "fold: 1\n",
      "fold: 2\n",
      "fold: 3\n",
      "repetition: 18\n",
      "fold: 1\n",
      "fold: 2\n",
      "fold: 3\n",
      "repetition: 19\n",
      "fold: 1\n",
      "fold: 2\n",
      "fold: 3\n",
      "repetition: 20\n",
      "fold: 1\n",
      "fold: 2\n",
      "fold: 3\n",
      "repetition: 21\n",
      "fold: 1\n",
      "fold: 2\n",
      "fold: 3\n",
      "repetition: 22\n",
      "fold: 1\n",
      "fold: 2\n"
     ]
    },
    {
     "name": "stderr",
     "output_type": "stream",
     "text": [
      "/usr/local/lib/python3.4/dist-packages/sklearn/feature_selection/univariate_selection.py:113: UserWarning: Features [    13     80     85 ..., 572480 572481 572509] are constant.\n",
      "  UserWarning)\n"
     ]
    },
    {
     "name": "stdout",
     "output_type": "stream",
     "text": [
      "fold: 3\n",
      "repetition: 23\n",
      "fold: 1\n",
      "fold: 2\n",
      "fold: 3\n"
     ]
    },
    {
     "name": "stderr",
     "output_type": "stream",
     "text": [
      "/usr/local/lib/python3.4/dist-packages/sklearn/feature_selection/univariate_selection.py:113: UserWarning: Features [    13     99    264 ..., 572596 572708 572709] are constant.\n",
      "  UserWarning)\n"
     ]
    },
    {
     "name": "stdout",
     "output_type": "stream",
     "text": [
      "repetition: 24\n",
      "fold: 1\n",
      "fold: 2\n",
      "fold: 3\n",
      "repetition: 25\n",
      "fold: 1\n",
      "fold: 2\n",
      "fold: 3\n"
     ]
    },
    {
     "name": "stderr",
     "output_type": "stream",
     "text": [
      "/usr/local/lib/python3.4/dist-packages/sklearn/feature_selection/univariate_selection.py:113: UserWarning: Features [     4     13     80 ..., 572621 572634 572684] are constant.\n",
      "  UserWarning)\n"
     ]
    },
    {
     "name": "stdout",
     "output_type": "stream",
     "text": [
      "repetition: 26\n",
      "fold: 1\n",
      "fold: 2\n",
      "fold: 3\n",
      "repetition: 27\n",
      "fold: 1\n",
      "fold: 2\n",
      "fold: 3\n",
      "repetition: 28\n",
      "fold: 1\n",
      "fold: 2\n",
      "fold: 3\n",
      "repetition: 29\n",
      "fold: 1\n",
      "fold: 2\n",
      "fold: 3\n",
      "repetition: 30\n",
      "fold: 1\n",
      "fold: 2\n",
      "fold: 3\n",
      "repetition: 31\n",
      "fold: 1\n",
      "fold: 2\n",
      "fold: 3\n",
      "repetition: 32\n",
      "fold: 1\n",
      "fold: 2\n",
      "fold: 3\n",
      "repetition: 33\n",
      "fold: 1\n",
      "fold: 2\n",
      "fold: 3\n",
      "F_mean: 0.435278630978\n",
      "AUC_mean: 0.56314395605\n",
      "PRECISION_mean: 0.387802971071\n",
      "RECALL_mean: 0.496\n",
      "SPECIFICITY_mean: 0.469152542373\n",
      "percentage: 1.7225959596\n",
      "repetition: 1\n",
      "fold: 1\n",
      "fold: 2\n",
      "fold: 3\n",
      "repetition: 2\n",
      "fold: 1\n",
      "fold: 2\n",
      "fold: 3\n",
      "repetition: 3\n",
      "fold: 1\n"
     ]
    },
    {
     "name": "stderr",
     "output_type": "stream",
     "text": [
      "/usr/local/lib/python3.4/dist-packages/sklearn/feature_selection/univariate_selection.py:113: UserWarning: Features [     4     13     90 ..., 572677 572704 572705] are constant.\n",
      "  UserWarning)\n"
     ]
    },
    {
     "name": "stdout",
     "output_type": "stream",
     "text": [
      "fold: 2\n",
      "fold: 3\n",
      "repetition: 4\n",
      "fold: 1\n",
      "fold: 2\n",
      "fold: 3\n",
      "repetition: 5\n",
      "fold: 1\n",
      "fold: 2\n",
      "fold: 3\n"
     ]
    },
    {
     "name": "stderr",
     "output_type": "stream",
     "text": [
      "/usr/local/lib/python3.4/dist-packages/sklearn/feature_selection/univariate_selection.py:113: UserWarning: Features [    13     99    281 ..., 572733 572736 572737] are constant.\n",
      "  UserWarning)\n"
     ]
    },
    {
     "name": "stdout",
     "output_type": "stream",
     "text": [
      "repetition: 6\n",
      "fold: 1\n",
      "fold: 2\n",
      "fold: 3\n",
      "repetition: 7\n",
      "fold: 1\n",
      "fold: 2\n",
      "fold: 3\n",
      "repetition: 8\n",
      "fold: 1\n",
      "fold: 2\n",
      "fold: 3\n",
      "repetition: 9\n",
      "fold: 1\n",
      "fold: 2\n",
      "fold: 3\n",
      "repetition: 10\n",
      "fold: 1\n"
     ]
    },
    {
     "name": "stderr",
     "output_type": "stream",
     "text": [
      "/usr/local/lib/python3.4/dist-packages/sklearn/feature_selection/univariate_selection.py:113: UserWarning: Features [     4     13     72 ..., 572735 572736 572737] are constant.\n",
      "  UserWarning)\n"
     ]
    },
    {
     "name": "stdout",
     "output_type": "stream",
     "text": [
      "fold: 2\n",
      "fold: 3\n",
      "repetition: 11\n",
      "fold: 1\n",
      "fold: 2\n",
      "fold: 3\n",
      "repetition: 12\n",
      "fold: 1\n",
      "fold: 2\n",
      "fold: 3\n",
      "repetition: 13\n",
      "fold: 1\n",
      "fold: 2\n",
      "fold: 3\n",
      "repetition: 14\n",
      "fold: 1\n",
      "fold: 2\n",
      "fold: 3\n",
      "repetition: 15\n",
      "fold: 1\n",
      "fold: 2\n",
      "fold: 3\n"
     ]
    },
    {
     "name": "stderr",
     "output_type": "stream",
     "text": [
      "/usr/local/lib/python3.4/dist-packages/sklearn/feature_selection/univariate_selection.py:113: UserWarning: Features [     4      5     13 ..., 572692 572702 572703] are constant.\n",
      "  UserWarning)\n"
     ]
    },
    {
     "name": "stdout",
     "output_type": "stream",
     "text": [
      "repetition: 16\n",
      "fold: 1\n",
      "fold: 2\n",
      "fold: 3\n",
      "repetition: 17\n",
      "fold: 1\n",
      "fold: 2\n",
      "fold: 3\n",
      "repetition: 18\n",
      "fold: 1\n",
      "fold: 2\n",
      "fold: 3\n",
      "repetition: 19\n",
      "fold: 1\n",
      "fold: 2\n",
      "fold: 3\n",
      "repetition: 20\n",
      "fold: 1\n",
      "fold: 2\n",
      "fold: 3\n",
      "repetition: 21\n",
      "fold: 1\n",
      "fold: 2\n",
      "fold: 3\n",
      "repetition: 22\n",
      "fold: 1\n",
      "fold: 2\n",
      "fold: 3\n",
      "repetition: 23\n",
      "fold: 1\n"
     ]
    },
    {
     "name": "stderr",
     "output_type": "stream",
     "text": [
      "/usr/local/lib/python3.4/dist-packages/sklearn/feature_selection/univariate_selection.py:113: UserWarning: Features [    13     99    178 ..., 572595 572596 572704] are constant.\n",
      "  UserWarning)\n"
     ]
    },
    {
     "name": "stdout",
     "output_type": "stream",
     "text": [
      "fold: 2\n",
      "fold: 3\n",
      "repetition: 24\n",
      "fold: 1\n",
      "fold: 2\n",
      "fold: 3\n",
      "repetition: 25\n",
      "fold: 1\n",
      "fold: 2\n",
      "fold: 3\n",
      "repetition: 26\n",
      "fold: 1\n",
      "fold: 2\n",
      "fold: 3\n",
      "repetition: 27\n",
      "fold: 1\n",
      "fold: 2\n",
      "fold: 3\n",
      "repetition: 28\n",
      "fold: 1\n",
      "fold: 2\n",
      "fold: 3\n",
      "repetition: 29\n",
      "fold: 1\n",
      "fold: 2\n",
      "fold: 3\n",
      "repetition: 30\n",
      "fold: 1\n",
      "fold: 2\n",
      "fold: 3\n",
      "repetition: 31\n",
      "fold: 1\n",
      "fold: 2\n",
      "fold: 3\n",
      "repetition: 32\n",
      "fold: 1\n",
      "fold: 2\n",
      "fold: 3\n",
      "repetition: 33\n",
      "fold: 1\n",
      "fold: 2\n",
      "fold: 3\n",
      "F_mean: 0.44989059081\n",
      "AUC_mean: 0.578346030765\n",
      "PRECISION_mean: 0.405043341214\n",
      "RECALL_mean: 0.505905511811\n",
      "SPECIFICITY_mean: 0.482522275531\n",
      "percentage: 1.75036363636\n",
      "repetition: 1\n",
      "fold: 1\n",
      "fold: 2\n",
      "fold: 3\n",
      "repetition: 2\n",
      "fold: 1\n",
      "fold: 2\n",
      "fold: 3\n",
      "repetition: 3\n",
      "fold: 1\n",
      "fold: 2\n",
      "fold: 3\n",
      "repetition: 4\n",
      "fold: 1\n",
      "fold: 2\n",
      "fold: 3\n",
      "repetition: 5\n",
      "fold: 1\n",
      "fold: 2\n",
      "fold: 3\n",
      "repetition: 6\n",
      "fold: 1\n",
      "fold: 2\n",
      "fold: 3\n",
      "repetition: 7\n",
      "fold: 1\n",
      "fold: 2\n",
      "fold: 3\n",
      "repetition: 8\n",
      "fold: 1\n",
      "fold: 2\n",
      "fold: 3\n",
      "repetition: 9\n",
      "fold: 1\n"
     ]
    },
    {
     "name": "stderr",
     "output_type": "stream",
     "text": [
      "/usr/local/lib/python3.4/dist-packages/sklearn/feature_selection/univariate_selection.py:113: UserWarning: Features [    13     99    149 ..., 572595 572596 572704] are constant.\n",
      "  UserWarning)\n"
     ]
    },
    {
     "name": "stdout",
     "output_type": "stream",
     "text": [
      "fold: 2\n",
      "fold: 3\n",
      "repetition: 10\n",
      "fold: 1\n",
      "fold: 2\n",
      "fold: 3\n",
      "repetition: 11\n",
      "fold: 1\n",
      "fold: 2\n",
      "fold: 3\n",
      "repetition: 12\n",
      "fold: 1\n",
      "fold: 2\n",
      "fold: 3\n",
      "repetition: 13\n",
      "fold: 1\n",
      "fold: 2\n",
      "fold: 3\n",
      "repetition: 14\n",
      "fold: 1\n"
     ]
    },
    {
     "name": "stderr",
     "output_type": "stream",
     "text": [
      "/usr/local/lib/python3.4/dist-packages/sklearn/feature_selection/univariate_selection.py:113: UserWarning: Features [    13     71     80 ..., 572528 572684 572704] are constant.\n",
      "  UserWarning)\n"
     ]
    },
    {
     "name": "stdout",
     "output_type": "stream",
     "text": [
      "fold: 2\n",
      "fold: 3\n",
      "repetition: 15\n",
      "fold: 1\n",
      "fold: 2\n"
     ]
    },
    {
     "name": "stderr",
     "output_type": "stream",
     "text": [
      "/usr/local/lib/python3.4/dist-packages/sklearn/feature_selection/univariate_selection.py:113: UserWarning: Features [     4     13     80 ..., 572510 572528 572704] are constant.\n",
      "  UserWarning)\n"
     ]
    },
    {
     "name": "stdout",
     "output_type": "stream",
     "text": [
      "fold: 3\n",
      "repetition: 16\n",
      "fold: 1\n",
      "fold: 2\n",
      "fold: 3\n",
      "repetition: 17\n",
      "fold: 1\n",
      "fold: 2\n",
      "fold: 3\n",
      "repetition: 18\n",
      "fold: 1\n",
      "fold: 2\n",
      "fold: 3\n",
      "repetition: 19\n",
      "fold: 1\n",
      "fold: 2\n",
      "fold: 3\n",
      "repetition: 20\n",
      "fold: 1\n",
      "fold: 2\n",
      "fold: 3\n",
      "repetition: 21\n",
      "fold: 1\n",
      "fold: 2\n",
      "fold: 3\n",
      "repetition: 22\n",
      "fold: 1\n",
      "fold: 2\n",
      "fold: 3\n"
     ]
    },
    {
     "name": "stderr",
     "output_type": "stream",
     "text": [
      "/usr/local/lib/python3.4/dist-packages/sklearn/feature_selection/univariate_selection.py:113: UserWarning: Features [    13     99    273 ..., 572621 572634 572685] are constant.\n",
      "  UserWarning)\n"
     ]
    },
    {
     "name": "stdout",
     "output_type": "stream",
     "text": [
      "repetition: 23\n",
      "fold: 1\n",
      "fold: 2\n",
      "fold: 3\n",
      "repetition: 24\n",
      "fold: 1\n",
      "fold: 2\n",
      "fold: 3\n",
      "repetition: 25\n",
      "fold: 1\n",
      "fold: 2\n",
      "fold: 3\n",
      "repetition: 26\n",
      "fold: 1\n",
      "fold: 2\n",
      "fold: 3\n",
      "repetition: 27\n",
      "fold: 1\n",
      "fold: 2\n",
      "fold: 3\n",
      "repetition: 28\n",
      "fold: 1\n"
     ]
    },
    {
     "name": "stderr",
     "output_type": "stream",
     "text": [
      "/usr/local/lib/python3.4/dist-packages/sklearn/feature_selection/univariate_selection.py:113: UserWarning: Features [    13     99    305 ..., 572677 572684 572704] are constant.\n",
      "  UserWarning)\n"
     ]
    },
    {
     "name": "stdout",
     "output_type": "stream",
     "text": [
      "fold: 2\n",
      "fold: 3\n",
      "repetition: 29\n",
      "fold: 1\n",
      "fold: 2\n",
      "fold: 3\n",
      "repetition: 30\n",
      "fold: 1\n",
      "fold: 2\n",
      "fold: 3\n",
      "repetition: 31\n",
      "fold: 1\n",
      "fold: 2\n",
      "fold: 3\n",
      "repetition: 32\n",
      "fold: 1\n",
      "fold: 2\n",
      "fold: 3\n",
      "repetition: 33\n",
      "fold: 1\n",
      "fold: 2\n",
      "fold: 3\n",
      "F_mean: 0.461275139067\n",
      "AUC_mean: 0.596854402854\n",
      "PRECISION_mean: 0.406485671192\n",
      "RECALL_mean: 0.533135509397\n",
      "SPECIFICITY_mean: 0.462431693989\n",
      "percentage: 1.77813131313\n",
      "repetition: 1\n",
      "fold: 1\n",
      "fold: 2\n"
     ]
    },
    {
     "name": "stderr",
     "output_type": "stream",
     "text": [
      "/usr/local/lib/python3.4/dist-packages/sklearn/feature_selection/univariate_selection.py:113: UserWarning: Features [    13     71     90 ..., 572728 572729 572730] are constant.\n",
      "  UserWarning)\n"
     ]
    },
    {
     "name": "stdout",
     "output_type": "stream",
     "text": [
      "fold: 3\n",
      "repetition: 2\n",
      "fold: 1\n",
      "fold: 2\n",
      "fold: 3\n",
      "repetition: 3\n",
      "fold: 1\n",
      "fold: 2\n",
      "fold: 3\n",
      "repetition: 4\n",
      "fold: 1\n",
      "fold: 2\n",
      "fold: 3\n",
      "repetition: 5\n",
      "fold: 1\n",
      "fold: 2\n",
      "fold: 3\n",
      "repetition: 6\n",
      "fold: 1\n",
      "fold: 2\n",
      "fold: 3\n",
      "repetition: 7\n",
      "fold: 1\n",
      "fold: 2\n",
      "fold: 3\n",
      "repetition: 8\n",
      "fold: 1\n",
      "fold: 2\n",
      "fold: 3\n",
      "repetition: 9\n",
      "fold: 1\n",
      "fold: 2\n",
      "fold: 3\n",
      "repetition: 10\n",
      "fold: 1\n",
      "fold: 2\n",
      "fold: 3\n",
      "repetition: 11\n",
      "fold: 1\n",
      "fold: 2\n",
      "fold: 3\n",
      "repetition: 12\n",
      "fold: 1\n",
      "fold: 2\n",
      "fold: 3\n",
      "repetition: 13\n",
      "fold: 1\n",
      "fold: 2\n",
      "fold: 3\n",
      "repetition: 14\n",
      "fold: 1\n",
      "fold: 2\n",
      "fold: 3\n",
      "repetition: 15\n",
      "fold: 1\n",
      "fold: 2\n",
      "fold: 3\n",
      "repetition: 16\n",
      "fold: 1\n",
      "fold: 2\n",
      "fold: 3\n",
      "repetition: 17\n",
      "fold: 1\n",
      "fold: 2\n",
      "fold: 3\n",
      "repetition: 18\n",
      "fold: 1\n",
      "fold: 2\n",
      "fold: 3\n",
      "repetition: 19\n",
      "fold: 1\n",
      "fold: 2\n",
      "fold: 3\n",
      "repetition: 20\n",
      "fold: 1\n",
      "fold: 2\n",
      "fold: 3\n",
      "repetition: 21\n",
      "fold: 1\n",
      "fold: 2\n",
      "fold: 3\n",
      "repetition: 22\n",
      "fold: 1\n",
      "fold: 2\n",
      "fold: 3\n",
      "repetition: 23\n",
      "fold: 1\n",
      "fold: 2\n",
      "fold: 3\n",
      "repetition: 24\n",
      "fold: 1\n",
      "fold: 2\n",
      "fold: 3\n",
      "repetition: 25\n",
      "fold: 1\n",
      "fold: 2\n",
      "fold: 3\n",
      "repetition: 26\n",
      "fold: 1\n",
      "fold: 2\n",
      "fold: 3\n",
      "repetition: 27\n",
      "fold: 1\n",
      "fold: 2\n",
      "fold: 3\n",
      "repetition: 28\n",
      "fold: 1\n",
      "fold: 2\n",
      "fold: 3\n",
      "repetition: 29\n",
      "fold: 1\n",
      "fold: 2\n",
      "fold: 3\n",
      "repetition: 30\n",
      "fold: 1\n",
      "fold: 2\n",
      "fold: 3\n",
      "repetition: 31\n",
      "fold: 1\n",
      "fold: 2\n",
      "fold: 3\n",
      "repetition: 32\n",
      "fold: 1\n",
      "fold: 2\n",
      "fold: 3\n",
      "repetition: 33\n",
      "fold: 1\n",
      "fold: 2\n",
      "fold: 3\n"
     ]
    },
    {
     "name": "stderr",
     "output_type": "stream",
     "text": [
      "/usr/local/lib/python3.4/dist-packages/sklearn/feature_selection/univariate_selection.py:113: UserWarning: Features [    13     99    274 ..., 572685 572704 572705] are constant.\n",
      "  UserWarning)\n"
     ]
    },
    {
     "name": "stdout",
     "output_type": "stream",
     "text": [
      "F_mean: 0.440052700922\n",
      "AUC_mean: 0.55769078246\n",
      "PRECISION_mean: 0.388372093023\n",
      "RECALL_mean: 0.507598784195\n",
      "SPECIFICITY_mean: 0.469758064516\n",
      "percentage: 1.8058989899\n",
      "repetition: 1\n",
      "fold: 1\n",
      "fold: 2\n",
      "fold: 3\n",
      "repetition: 2\n",
      "fold: 1\n",
      "fold: 2\n",
      "fold: 3\n",
      "repetition: 3\n",
      "fold: 1\n",
      "fold: 2\n",
      "fold: 3\n",
      "repetition: 4\n",
      "fold: 1\n",
      "fold: 2\n",
      "fold: 3\n",
      "repetition: 5\n",
      "fold: 1\n"
     ]
    },
    {
     "name": "stderr",
     "output_type": "stream",
     "text": [
      "/usr/local/lib/python3.4/dist-packages/sklearn/feature_selection/univariate_selection.py:113: UserWarning: Features [    13     80     85 ..., 572461 572481 572684] are constant.\n",
      "  UserWarning)\n"
     ]
    },
    {
     "name": "stdout",
     "output_type": "stream",
     "text": [
      "fold: 2\n",
      "fold: 3\n",
      "repetition: 6\n",
      "fold: 1\n",
      "fold: 2\n",
      "fold: 3\n",
      "repetition: 7\n",
      "fold: 1\n",
      "fold: 2\n",
      "fold: 3\n",
      "repetition: 8\n",
      "fold: 1\n",
      "fold: 2\n",
      "fold: 3\n",
      "repetition: 9\n",
      "fold: 1\n",
      "fold: 2\n",
      "fold: 3\n",
      "repetition: 10\n",
      "fold: 1\n",
      "fold: 2\n",
      "fold: 3\n",
      "repetition: 11\n",
      "fold: 1\n",
      "fold: 2\n",
      "fold: 3\n",
      "repetition: 12\n",
      "fold: 1\n",
      "fold: 2\n",
      "fold: 3\n",
      "repetition: 13\n",
      "fold: 1\n",
      "fold: 2\n",
      "fold: 3\n",
      "repetition: 14\n",
      "fold: 1\n",
      "fold: 2\n",
      "fold: 3\n",
      "repetition: 15\n",
      "fold: 1\n",
      "fold: 2\n",
      "fold: 3\n",
      "repetition: 16\n",
      "fold: 1\n",
      "fold: 2\n",
      "fold: 3\n",
      "repetition: 17\n",
      "fold: 1\n",
      "fold: 2\n",
      "fold: 3\n",
      "repetition: 18\n",
      "fold: 1\n",
      "fold: 2\n",
      "fold: 3\n",
      "repetition: 19\n",
      "fold: 1\n",
      "fold: 2\n",
      "fold: 3\n",
      "repetition: 20\n",
      "fold: 1\n",
      "fold: 2\n",
      "fold: 3\n",
      "repetition: 21\n",
      "fold: 1\n",
      "fold: 2\n",
      "fold: 3\n",
      "repetition: 22\n",
      "fold: 1\n",
      "fold: 2\n",
      "fold: 3\n",
      "repetition: 23\n",
      "fold: 1\n",
      "fold: 2\n"
     ]
    },
    {
     "name": "stderr",
     "output_type": "stream",
     "text": [
      "/usr/local/lib/python3.4/dist-packages/sklearn/feature_selection/univariate_selection.py:113: UserWarning: Features [    13     99    178 ..., 572634 572684 572704] are constant.\n",
      "  UserWarning)\n"
     ]
    },
    {
     "name": "stdout",
     "output_type": "stream",
     "text": [
      "fold: 3\n",
      "repetition: 24\n",
      "fold: 1\n",
      "fold: 2\n",
      "fold: 3\n",
      "repetition: 25\n",
      "fold: 1\n",
      "fold: 2\n",
      "fold: 3\n",
      "repetition: 26\n",
      "fold: 1\n",
      "fold: 2\n",
      "fold: 3\n",
      "repetition: 27\n",
      "fold: 1\n"
     ]
    },
    {
     "name": "stderr",
     "output_type": "stream",
     "text": [
      "/usr/local/lib/python3.4/dist-packages/sklearn/feature_selection/univariate_selection.py:113: UserWarning: Features [    13     91     99 ..., 572720 572721 572722] are constant.\n",
      "  UserWarning)\n"
     ]
    },
    {
     "name": "stdout",
     "output_type": "stream",
     "text": [
      "fold: 2\n",
      "fold: 3\n",
      "repetition: 28\n",
      "fold: 1\n",
      "fold: 2\n",
      "fold: 3\n",
      "repetition: 29\n",
      "fold: 1\n",
      "fold: 2\n",
      "fold: 3\n",
      "repetition: 30\n",
      "fold: 1\n",
      "fold: 2\n",
      "fold: 3\n",
      "repetition: 31\n",
      "fold: 1\n",
      "fold: 2\n",
      "fold: 3\n",
      "repetition: 32\n",
      "fold: 1\n",
      "fold: 2\n",
      "fold: 3\n",
      "repetition: 33\n",
      "fold: 1\n",
      "fold: 2\n",
      "fold: 3\n"
     ]
    },
    {
     "name": "stderr",
     "output_type": "stream",
     "text": [
      "/usr/local/lib/python3.4/dist-packages/sklearn/feature_selection/univariate_selection.py:113: UserWarning: Features [    13     99    288 ..., 572576 572621 572634] are constant.\n",
      "  UserWarning)\n"
     ]
    },
    {
     "name": "stdout",
     "output_type": "stream",
     "text": [
      "F_mean: 0.460297239915\n",
      "AUC_mean: 0.593363568939\n",
      "PRECISION_mean: 0.40059127864\n",
      "RECALL_mean: 0.540918163673\n",
      "SPECIFICITY_mean: 0.449422946368\n",
      "percentage: 1.83366666667\n",
      "repetition: 1\n",
      "fold: 1\n",
      "fold: 2\n",
      "fold: 3\n",
      "repetition: 2\n",
      "fold: 1\n",
      "fold: 2\n",
      "fold: 3\n",
      "repetition: 3\n",
      "fold: 1\n",
      "fold: 2\n",
      "fold: 3\n",
      "repetition: 4\n",
      "fold: 1\n",
      "fold: 2\n",
      "fold: 3\n",
      "repetition: 5\n",
      "fold: 1\n",
      "fold: 2\n",
      "fold: 3\n",
      "repetition: 6\n",
      "fold: 1\n",
      "fold: 2\n",
      "fold: 3\n",
      "repetition: 7\n",
      "fold: 1\n",
      "fold: 2\n",
      "fold: 3\n",
      "repetition: 8\n",
      "fold: 1\n",
      "fold: 2\n",
      "fold: 3\n",
      "repetition: 9\n",
      "fold: 1\n",
      "fold: 2\n",
      "fold: 3\n",
      "repetition: 10\n",
      "fold: 1\n",
      "fold: 2\n",
      "fold: 3\n",
      "repetition: 11\n",
      "fold: 1\n",
      "fold: 2\n",
      "fold: 3\n",
      "repetition: 12\n",
      "fold: 1\n",
      "fold: 2\n",
      "fold: 3\n",
      "repetition: 13\n",
      "fold: 1\n",
      "fold: 2\n",
      "fold: 3\n"
     ]
    },
    {
     "name": "stderr",
     "output_type": "stream",
     "text": [
      "/usr/local/lib/python3.4/dist-packages/sklearn/feature_selection/univariate_selection.py:113: UserWarning: Features [    13     80     85 ..., 572670 572677 572685] are constant.\n",
      "  UserWarning)\n"
     ]
    },
    {
     "name": "stdout",
     "output_type": "stream",
     "text": [
      "repetition: 14\n",
      "fold: 1\n",
      "fold: 2\n",
      "fold: 3\n",
      "repetition: 15\n",
      "fold: 1\n",
      "fold: 2\n",
      "fold: 3\n",
      "repetition: 16\n",
      "fold: 1\n",
      "fold: 2\n",
      "fold: 3\n",
      "repetition: 17\n",
      "fold: 1\n",
      "fold: 2\n",
      "fold: 3\n",
      "repetition: 18\n",
      "fold: 1\n",
      "fold: 2\n",
      "fold: 3\n",
      "repetition: 19\n",
      "fold: 1\n",
      "fold: 2\n",
      "fold: 3\n",
      "repetition: 20\n",
      "fold: 1\n",
      "fold: 2\n",
      "fold: 3\n",
      "repetition: 21\n",
      "fold: 1\n",
      "fold: 2\n",
      "fold: 3\n",
      "repetition: 22\n",
      "fold: 1\n",
      "fold: 2\n"
     ]
    },
    {
     "name": "stderr",
     "output_type": "stream",
     "text": [
      "/usr/local/lib/python3.4/dist-packages/sklearn/feature_selection/univariate_selection.py:113: UserWarning: Features [     4     13     90 ..., 572670 572677 572685] are constant.\n",
      "  UserWarning)\n"
     ]
    },
    {
     "name": "stdout",
     "output_type": "stream",
     "text": [
      "fold: 3\n",
      "repetition: 23\n",
      "fold: 1\n",
      "fold: 2\n",
      "fold: 3\n"
     ]
    },
    {
     "name": "stderr",
     "output_type": "stream",
     "text": [
      "/usr/local/lib/python3.4/dist-packages/sklearn/feature_selection/univariate_selection.py:113: UserWarning: Features [     4     13     80 ..., 572703 572708 572709] are constant.\n",
      "  UserWarning)\n"
     ]
    },
    {
     "name": "stdout",
     "output_type": "stream",
     "text": [
      "repetition: 24\n",
      "fold: 1\n",
      "fold: 2\n",
      "fold: 3\n",
      "repetition: 25\n",
      "fold: 1\n",
      "fold: 2\n"
     ]
    },
    {
     "name": "stderr",
     "output_type": "stream",
     "text": [
      "/usr/local/lib/python3.4/dist-packages/sklearn/feature_selection/univariate_selection.py:113: UserWarning: Features [    13     91     99 ..., 572728 572729 572730] are constant.\n",
      "  UserWarning)\n"
     ]
    },
    {
     "name": "stdout",
     "output_type": "stream",
     "text": [
      "fold: 3\n",
      "repetition: 26\n",
      "fold: 1\n",
      "fold: 2\n",
      "fold: 3\n",
      "repetition: 27\n",
      "fold: 1\n",
      "fold: 2\n",
      "fold: 3\n",
      "repetition: 28\n",
      "fold: 1\n",
      "fold: 2\n",
      "fold: 3\n",
      "repetition: 29\n",
      "fold: 1\n",
      "fold: 2\n",
      "fold: 3\n",
      "repetition: 30\n",
      "fold: 1\n",
      "fold: 2\n",
      "fold: 3\n",
      "repetition: 31\n",
      "fold: 1\n",
      "fold: 2\n",
      "fold: 3\n",
      "repetition: 32\n",
      "fold: 1\n",
      "fold: 2\n",
      "fold: 3\n",
      "repetition: 33\n",
      "fold: 1\n",
      "fold: 2\n",
      "fold: 3\n",
      "F_mean: 0.456569183763\n",
      "AUC_mean: 0.576478131001\n",
      "PRECISION_mean: 0.405740884407\n",
      "RECALL_mean: 0.521956087824\n",
      "SPECIFICITY_mean: 0.479972844535\n",
      "percentage: 1.86143434343\n",
      "repetition: 1\n",
      "fold: 1\n",
      "fold: 2\n",
      "fold: 3\n",
      "repetition: 2\n",
      "fold: 1\n",
      "fold: 2\n",
      "fold: 3\n",
      "repetition: 3\n",
      "fold: 1\n",
      "fold: 2\n",
      "fold: 3\n",
      "repetition: 4\n",
      "fold: 1\n",
      "fold: 2\n"
     ]
    },
    {
     "name": "stderr",
     "output_type": "stream",
     "text": [
      "/usr/local/lib/python3.4/dist-packages/sklearn/feature_selection/univariate_selection.py:113: UserWarning: Features [    13     72     99 ..., 572670 572684 572685] are constant.\n",
      "  UserWarning)\n"
     ]
    },
    {
     "name": "stdout",
     "output_type": "stream",
     "text": [
      "fold: 3\n",
      "repetition: 5\n",
      "fold: 1\n",
      "fold: 2\n",
      "fold: 3\n",
      "repetition: 6\n",
      "fold: 1\n",
      "fold: 2\n",
      "fold: 3\n",
      "repetition: 7\n",
      "fold: 1\n",
      "fold: 2\n",
      "fold: 3\n",
      "repetition: 8\n",
      "fold: 1\n",
      "fold: 2\n",
      "fold: 3\n",
      "repetition: 9\n",
      "fold: 1\n",
      "fold: 2\n",
      "fold: 3\n",
      "repetition: 10\n",
      "fold: 1\n",
      "fold: 2\n",
      "fold: 3\n",
      "repetition: 11\n",
      "fold: 1\n",
      "fold: 2\n",
      "fold: 3\n",
      "repetition: 12\n",
      "fold: 1\n",
      "fold: 2\n",
      "fold: 3\n",
      "repetition: 13\n",
      "fold: 1\n",
      "fold: 2\n"
     ]
    },
    {
     "name": "stderr",
     "output_type": "stream",
     "text": [
      "/usr/local/lib/python3.4/dist-packages/sklearn/feature_selection/univariate_selection.py:113: UserWarning: Features [    13     99    149 ..., 572553 572554 572576] are constant.\n",
      "  UserWarning)\n"
     ]
    },
    {
     "name": "stdout",
     "output_type": "stream",
     "text": [
      "fold: 3\n",
      "repetition: 14\n",
      "fold: 1\n",
      "fold: 2\n",
      "fold: 3\n",
      "repetition: 15\n",
      "fold: 1\n",
      "fold: 2\n",
      "fold: 3\n",
      "repetition: 16\n",
      "fold: 1\n",
      "fold: 2\n",
      "fold: 3\n",
      "repetition: 17\n",
      "fold: 1\n",
      "fold: 2\n",
      "fold: 3\n"
     ]
    },
    {
     "name": "stderr",
     "output_type": "stream",
     "text": [
      "/usr/local/lib/python3.4/dist-packages/sklearn/feature_selection/univariate_selection.py:113: UserWarning: Features [    13     80     85 ..., 572596 572708 572709] are constant.\n",
      "  UserWarning)\n"
     ]
    },
    {
     "name": "stdout",
     "output_type": "stream",
     "text": [
      "repetition: 18\n",
      "fold: 1\n",
      "fold: 2\n",
      "fold: 3\n",
      "repetition: 19\n",
      "fold: 1\n",
      "fold: 2\n"
     ]
    },
    {
     "name": "stderr",
     "output_type": "stream",
     "text": [
      "/usr/local/lib/python3.4/dist-packages/sklearn/feature_selection/univariate_selection.py:113: UserWarning: Features [    13     80     85 ..., 572554 572670 572685] are constant.\n",
      "  UserWarning)\n"
     ]
    },
    {
     "name": "stdout",
     "output_type": "stream",
     "text": [
      "fold: 3\n",
      "repetition: 20\n",
      "fold: 1\n",
      "fold: 2\n",
      "fold: 3\n",
      "repetition: 21\n",
      "fold: 1\n",
      "fold: 2\n",
      "fold: 3\n",
      "repetition: 22\n",
      "fold: 1\n",
      "fold: 2\n",
      "fold: 3\n",
      "repetition: 23\n",
      "fold: 1\n",
      "fold: 2\n",
      "fold: 3\n",
      "repetition: 24\n",
      "fold: 1\n",
      "fold: 2\n",
      "fold: 3\n",
      "repetition: 25\n",
      "fold: 1\n",
      "fold: 2\n",
      "fold: 3\n",
      "repetition: 26\n",
      "fold: 1\n",
      "fold: 2\n",
      "fold: 3\n",
      "repetition: 27\n",
      "fold: 1\n",
      "fold: 2\n",
      "fold: 3\n",
      "repetition: 28\n",
      "fold: 1\n"
     ]
    },
    {
     "name": "stderr",
     "output_type": "stream",
     "text": [
      "/usr/local/lib/python3.4/dist-packages/sklearn/feature_selection/univariate_selection.py:113: UserWarning: Features [    13     99    149 ..., 572461 572480 572509] are constant.\n",
      "  UserWarning)\n"
     ]
    },
    {
     "name": "stdout",
     "output_type": "stream",
     "text": [
      "fold: 2\n",
      "fold: 3\n",
      "repetition: 29\n",
      "fold: 1\n",
      "fold: 2\n",
      "fold: 3\n",
      "repetition: 30\n",
      "fold: 1\n",
      "fold: 2\n",
      "fold: 3\n",
      "repetition: 31\n",
      "fold: 1\n",
      "fold: 2\n",
      "fold: 3\n",
      "repetition: 32\n",
      "fold: 1\n",
      "fold: 2\n",
      "fold: 3\n",
      "repetition: 33\n",
      "fold: 1\n",
      "fold: 2\n",
      "fold: 3\n",
      "F_mean: 0.458053691275\n",
      "AUC_mean: 0.582846168957\n",
      "PRECISION_mean: 0.399707174231\n",
      "RECALL_mean: 0.536345776031\n",
      "SPECIFICITY_mean: 0.437199725463\n",
      "percentage: 1.8892020202\n",
      "repetition: 1\n",
      "fold: 1\n",
      "fold: 2\n",
      "fold: 3\n"
     ]
    },
    {
     "name": "stderr",
     "output_type": "stream",
     "text": [
      "/usr/local/lib/python3.4/dist-packages/sklearn/feature_selection/univariate_selection.py:113: UserWarning: Features [     4     13     90 ..., 572471 572472 572704] are constant.\n",
      "  UserWarning)\n"
     ]
    },
    {
     "name": "stdout",
     "output_type": "stream",
     "text": [
      "repetition: 2\n",
      "fold: 1\n",
      "fold: 2\n",
      "fold: 3\n",
      "repetition: 3\n",
      "fold: 1\n",
      "fold: 2\n",
      "fold: 3\n",
      "repetition: 4\n",
      "fold: 1\n",
      "fold: 2\n",
      "fold: 3\n",
      "repetition: 5\n",
      "fold: 1\n",
      "fold: 2\n",
      "fold: 3\n",
      "repetition: 6\n",
      "fold: 1\n",
      "fold: 2\n",
      "fold: 3\n",
      "repetition: 7\n",
      "fold: 1\n",
      "fold: 2\n"
     ]
    },
    {
     "name": "stderr",
     "output_type": "stream",
     "text": [
      "/usr/local/lib/python3.4/dist-packages/sklearn/feature_selection/univariate_selection.py:113: UserWarning: Features [    13     99    178 ..., 572553 572554 572576] are constant.\n",
      "  UserWarning)\n"
     ]
    },
    {
     "name": "stdout",
     "output_type": "stream",
     "text": [
      "fold: 3\n",
      "repetition: 8\n",
      "fold: 1\n",
      "fold: 2\n",
      "fold: 3\n",
      "repetition: 9\n",
      "fold: 1\n",
      "fold: 2\n",
      "fold: 3\n",
      "repetition: 10\n",
      "fold: 1\n",
      "fold: 2\n",
      "fold: 3\n",
      "repetition: 11\n",
      "fold: 1\n",
      "fold: 2\n",
      "fold: 3\n",
      "repetition: 12\n",
      "fold: 1\n",
      "fold: 2\n",
      "fold: 3\n",
      "repetition: 13\n",
      "fold: 1\n"
     ]
    },
    {
     "name": "stderr",
     "output_type": "stream",
     "text": [
      "/usr/local/lib/python3.4/dist-packages/sklearn/feature_selection/univariate_selection.py:113: UserWarning: Features [    13     99    282 ..., 572634 572708 572709] are constant.\n",
      "  UserWarning)\n"
     ]
    },
    {
     "name": "stdout",
     "output_type": "stream",
     "text": [
      "fold: 2\n",
      "fold: 3\n",
      "repetition: 14\n",
      "fold: 1\n",
      "fold: 2\n",
      "fold: 3\n",
      "repetition: 15\n",
      "fold: 1\n",
      "fold: 2\n",
      "fold: 3\n",
      "repetition: 16\n",
      "fold: 1\n",
      "fold: 2\n",
      "fold: 3\n",
      "repetition: 17\n",
      "fold: 1\n",
      "fold: 2\n",
      "fold: 3\n",
      "repetition: 18\n",
      "fold: 1\n",
      "fold: 2\n",
      "fold: 3\n",
      "repetition: 19\n",
      "fold: 1\n",
      "fold: 2\n",
      "fold: 3\n",
      "repetition: 20\n",
      "fold: 1\n",
      "fold: 2\n",
      "fold: 3\n",
      "repetition: 21\n",
      "fold: 1\n",
      "fold: 2\n",
      "fold: 3\n",
      "repetition: 22\n",
      "fold: 1\n",
      "fold: 2\n",
      "fold: 3\n",
      "repetition: 23\n",
      "fold: 1\n",
      "fold: 2\n",
      "fold: 3\n",
      "repetition: 24\n",
      "fold: 1\n",
      "fold: 2\n",
      "fold: 3\n",
      "repetition: 25\n",
      "fold: 1\n",
      "fold: 2\n",
      "fold: 3\n",
      "repetition: 26\n",
      "fold: 1\n",
      "fold: 2\n",
      "fold: 3\n",
      "repetition: 27\n",
      "fold: 1\n",
      "fold: 2\n",
      "fold: 3\n",
      "repetition: 28\n",
      "fold: 1\n",
      "fold: 2\n",
      "fold: 3\n",
      "repetition: 29\n",
      "fold: 1\n",
      "fold: 2\n",
      "fold: 3\n",
      "repetition: 30\n",
      "fold: 1\n",
      "fold: 2\n",
      "fold: 3\n",
      "repetition: 31\n",
      "fold: 1\n",
      "fold: 2\n",
      "fold: 3\n",
      "repetition: 32\n",
      "fold: 1\n",
      "fold: 2\n",
      "fold: 3\n",
      "repetition: 33\n",
      "fold: 1\n",
      "fold: 2\n",
      "fold: 3\n",
      "F_mean: 0.445957446809\n",
      "AUC_mean: 0.577750987246\n",
      "PRECISION_mean: 0.386430678466\n",
      "RECALL_mean: 0.527162977867\n",
      "SPECIFICITY_mean: 0.438217420662\n",
      "percentage: 1.91696969697\n",
      "repetition: 1\n",
      "fold: 1\n",
      "fold: 2\n",
      "fold: 3\n",
      "repetition: 2\n",
      "fold: 1\n",
      "fold: 2\n",
      "fold: 3\n",
      "repetition: 3\n",
      "fold: 1\n"
     ]
    },
    {
     "name": "stderr",
     "output_type": "stream",
     "text": [
      "/usr/local/lib/python3.4/dist-packages/sklearn/feature_selection/univariate_selection.py:113: UserWarning: Features [    13     80     85 ..., 572481 572536 572554] are constant.\n",
      "  UserWarning)\n"
     ]
    },
    {
     "name": "stdout",
     "output_type": "stream",
     "text": [
      "fold: 2\n"
     ]
    },
    {
     "name": "stderr",
     "output_type": "stream",
     "text": [
      "/usr/local/lib/python3.4/dist-packages/sklearn/feature_selection/univariate_selection.py:113: UserWarning: Features [    13     72     90 ..., 572677 572685 572686] are constant.\n",
      "  UserWarning)\n"
     ]
    },
    {
     "name": "stdout",
     "output_type": "stream",
     "text": [
      "fold: 3\n",
      "repetition: 4\n",
      "fold: 1\n",
      "fold: 2\n",
      "fold: 3\n",
      "repetition: 5\n",
      "fold: 1\n",
      "fold: 2\n",
      "fold: 3\n",
      "repetition: 6\n",
      "fold: 1\n",
      "fold: 2\n",
      "fold: 3\n",
      "repetition: 7\n",
      "fold: 1\n",
      "fold: 2\n",
      "fold: 3\n",
      "repetition: 8\n",
      "fold: 1\n",
      "fold: 2\n",
      "fold: 3\n",
      "repetition: 9\n",
      "fold: 1\n",
      "fold: 2\n",
      "fold: 3\n",
      "repetition: 10\n",
      "fold: 1\n",
      "fold: 2\n",
      "fold: 3\n",
      "repetition: 11\n",
      "fold: 1\n",
      "fold: 2\n",
      "fold: 3\n",
      "repetition: 12\n",
      "fold: 1\n",
      "fold: 2\n",
      "fold: 3\n",
      "repetition: 13\n",
      "fold: 1\n",
      "fold: 2\n",
      "fold: 3\n",
      "repetition: 14\n",
      "fold: 1\n",
      "fold: 2\n",
      "fold: 3\n",
      "repetition: 15\n",
      "fold: 1\n",
      "fold: 2\n",
      "fold: 3\n",
      "repetition: 16\n",
      "fold: 1\n",
      "fold: 2\n",
      "fold: 3\n",
      "repetition: 17\n",
      "fold: 1\n",
      "fold: 2\n",
      "fold: 3\n",
      "repetition: 18\n",
      "fold: 1\n",
      "fold: 2\n",
      "fold: 3\n",
      "repetition: 19\n",
      "fold: 1\n",
      "fold: 2\n",
      "fold: 3\n",
      "repetition: 20\n",
      "fold: 1\n",
      "fold: 2\n",
      "fold: 3\n",
      "repetition: 21\n",
      "fold: 1\n",
      "fold: 2\n",
      "fold: 3\n",
      "repetition: 22\n",
      "fold: 1\n",
      "fold: 2\n",
      "fold: 3\n",
      "repetition: 23\n",
      "fold: 1\n",
      "fold: 2\n",
      "fold: 3\n",
      "repetition: 24\n",
      "fold: 1\n",
      "fold: 2\n",
      "fold: 3\n",
      "repetition: 25\n",
      "fold: 1\n",
      "fold: 2\n",
      "fold: 3\n",
      "repetition: 26\n",
      "fold: 1\n",
      "fold: 2\n",
      "fold: 3\n",
      "repetition: 27\n",
      "fold: 1\n",
      "fold: 2\n",
      "fold: 3\n"
     ]
    },
    {
     "name": "stderr",
     "output_type": "stream",
     "text": [
      "/usr/local/lib/python3.4/dist-packages/sklearn/feature_selection/univariate_selection.py:113: UserWarning: Features [    13     99    273 ..., 572461 572536 572554] are constant.\n",
      "  UserWarning)\n"
     ]
    },
    {
     "name": "stdout",
     "output_type": "stream",
     "text": [
      "repetition: 28\n",
      "fold: 1\n",
      "fold: 2\n",
      "fold: 3\n",
      "repetition: 29\n",
      "fold: 1\n",
      "fold: 2\n",
      "fold: 3\n",
      "repetition: 30\n",
      "fold: 1\n"
     ]
    },
    {
     "name": "stderr",
     "output_type": "stream",
     "text": [
      "/usr/local/lib/python3.4/dist-packages/sklearn/feature_selection/univariate_selection.py:113: UserWarning: Features [    13     71     99 ..., 572735 572736 572737] are constant.\n",
      "  UserWarning)\n"
     ]
    },
    {
     "name": "stdout",
     "output_type": "stream",
     "text": [
      "fold: 2\n",
      "fold: 3\n",
      "repetition: 31\n",
      "fold: 1\n",
      "fold: 2\n",
      "fold: 3\n",
      "repetition: 32\n",
      "fold: 1\n",
      "fold: 2\n",
      "fold: 3\n",
      "repetition: 33\n",
      "fold: 1\n",
      "fold: 2\n",
      "fold: 3\n",
      "F_mean: 0.440692640693\n",
      "AUC_mean: 0.582032691778\n",
      "PRECISION_mean: 0.380703066567\n",
      "RECALL_mean: 0.523124357657\n",
      "SPECIFICITY_mean: 0.448735019973\n",
      "percentage: 1.94473737374\n",
      "repetition: 1\n",
      "fold: 1\n",
      "fold: 2\n",
      "fold: 3\n",
      "repetition: 2\n",
      "fold: 1\n",
      "fold: 2\n",
      "fold: 3\n",
      "repetition: 3\n",
      "fold: 1\n",
      "fold: 2\n"
     ]
    },
    {
     "name": "stderr",
     "output_type": "stream",
     "text": [
      "/usr/local/lib/python3.4/dist-packages/sklearn/feature_selection/univariate_selection.py:113: UserWarning: Features [    13     80     85 ..., 572677 572708 572709] are constant.\n",
      "  UserWarning)\n"
     ]
    },
    {
     "name": "stdout",
     "output_type": "stream",
     "text": [
      "fold: 3\n",
      "repetition: 4\n",
      "fold: 1\n",
      "fold: 2\n",
      "fold: 3\n",
      "repetition: 5\n",
      "fold: 1\n",
      "fold: 2\n",
      "fold: 3\n",
      "repetition: 6\n",
      "fold: 1\n",
      "fold: 2\n",
      "fold: 3\n",
      "repetition: 7\n",
      "fold: 1\n",
      "fold: 2\n",
      "fold: 3\n",
      "repetition: 8\n",
      "fold: 1\n",
      "fold: 2\n",
      "fold: 3\n",
      "repetition: 9\n",
      "fold: 1\n",
      "fold: 2\n",
      "fold: 3\n",
      "repetition: 10\n",
      "fold: 1\n",
      "fold: 2\n",
      "fold: 3\n",
      "repetition: 11\n",
      "fold: 1\n",
      "fold: 2\n",
      "fold: 3\n",
      "repetition: 12\n",
      "fold: 1\n",
      "fold: 2\n",
      "fold: 3\n",
      "repetition: 13\n",
      "fold: 1\n",
      "fold: 2\n",
      "fold: 3\n",
      "repetition: 14\n",
      "fold: 1\n",
      "fold: 2\n",
      "fold: 3\n",
      "repetition: 15\n",
      "fold: 1\n",
      "fold: 2\n",
      "fold: 3\n",
      "repetition: 16\n",
      "fold: 1\n",
      "fold: 2\n",
      "fold: 3\n",
      "repetition: 17\n",
      "fold: 1\n",
      "fold: 2\n",
      "fold: 3\n",
      "repetition: 18\n",
      "fold: 1\n",
      "fold: 2\n",
      "fold: 3\n",
      "repetition: 19\n",
      "fold: 1\n",
      "fold: 2\n",
      "fold: 3\n",
      "repetition: 20\n",
      "fold: 1\n",
      "fold: 2\n",
      "fold: 3\n",
      "repetition: 21\n",
      "fold: 1\n",
      "fold: 2\n",
      "fold: 3\n",
      "repetition: 22\n",
      "fold: 1\n",
      "fold: 2\n",
      "fold: 3\n"
     ]
    },
    {
     "name": "stderr",
     "output_type": "stream",
     "text": [
      "/usr/local/lib/python3.4/dist-packages/sklearn/feature_selection/univariate_selection.py:113: UserWarning: Features [    13     99    282 ..., 572510 572528 572704] are constant.\n",
      "  UserWarning)\n"
     ]
    },
    {
     "name": "stdout",
     "output_type": "stream",
     "text": [
      "repetition: 23\n",
      "fold: 1\n",
      "fold: 2\n",
      "fold: 3\n",
      "repetition: 24\n",
      "fold: 1\n",
      "fold: 2\n",
      "fold: 3\n",
      "repetition: 25\n",
      "fold: 1\n",
      "fold: 2\n",
      "fold: 3\n",
      "repetition: 26\n",
      "fold: 1\n",
      "fold: 2\n",
      "fold: 3\n",
      "repetition: 27\n",
      "fold: 1\n",
      "fold: 2\n",
      "fold: 3\n",
      "repetition: 28\n",
      "fold: 1\n",
      "fold: 2\n",
      "fold: 3\n",
      "repetition: 29\n",
      "fold: 1\n",
      "fold: 2\n",
      "fold: 3\n",
      "repetition: 30\n",
      "fold: 1\n",
      "fold: 2\n",
      "fold: 3\n",
      "repetition: 31\n",
      "fold: 1\n",
      "fold: 2\n",
      "fold: 3\n",
      "repetition: 32\n",
      "fold: 1\n",
      "fold: 2\n",
      "fold: 3\n",
      "repetition: 33\n",
      "fold: 1\n",
      "fold: 2\n",
      "fold: 3\n",
      "F_mean: 0.463113006397\n",
      "AUC_mean: 0.611516845521\n",
      "PRECISION_mean: 0.404921700224\n",
      "RECALL_mean: 0.540836653386\n",
      "SPECIFICITY_mean: 0.457511896669\n",
      "percentage: 1.97250505051\n",
      "repetition: 1\n",
      "fold: 1\n",
      "fold: 2\n",
      "fold: 3\n",
      "repetition: 2\n",
      "fold: 1\n",
      "fold: 2\n",
      "fold: 3\n",
      "repetition: 3\n",
      "fold: 1\n",
      "fold: 2\n",
      "fold: 3\n"
     ]
    },
    {
     "name": "stderr",
     "output_type": "stream",
     "text": [
      "/usr/local/lib/python3.4/dist-packages/sklearn/feature_selection/univariate_selection.py:113: UserWarning: Features [     4     13     80 ..., 572605 572708 572709] are constant.\n",
      "  UserWarning)\n"
     ]
    },
    {
     "name": "stdout",
     "output_type": "stream",
     "text": [
      "repetition: 4\n",
      "fold: 1\n",
      "fold: 2\n",
      "fold: 3\n",
      "repetition: 5\n",
      "fold: 1\n",
      "fold: 2\n",
      "fold: 3\n",
      "repetition: 6\n",
      "fold: 1\n",
      "fold: 2\n",
      "fold: 3\n",
      "repetition: 7\n",
      "fold: 1\n",
      "fold: 2\n",
      "fold: 3\n",
      "repetition: 8\n",
      "fold: 1\n",
      "fold: 2\n",
      "fold: 3\n",
      "repetition: 9\n",
      "fold: 1\n",
      "fold: 2\n",
      "fold: 3\n",
      "repetition: 10\n",
      "fold: 1\n",
      "fold: 2\n",
      "fold: 3\n",
      "repetition: 11\n",
      "fold: 1\n",
      "fold: 2\n",
      "fold: 3\n",
      "repetition: 12\n",
      "fold: 1\n",
      "fold: 2\n",
      "fold: 3\n",
      "repetition: 13\n",
      "fold: 1\n",
      "fold: 2\n",
      "fold: 3\n",
      "repetition: 14\n",
      "fold: 1\n"
     ]
    },
    {
     "name": "stderr",
     "output_type": "stream",
     "text": [
      "/usr/local/lib/python3.4/dist-packages/sklearn/feature_selection/univariate_selection.py:113: UserWarning: Features [    13     80     85 ..., 572605 572704 572705] are constant.\n",
      "  UserWarning)\n"
     ]
    },
    {
     "name": "stdout",
     "output_type": "stream",
     "text": [
      "fold: 2\n",
      "fold: 3\n",
      "repetition: 15\n",
      "fold: 1\n",
      "fold: 2\n",
      "fold: 3\n",
      "repetition: 16\n",
      "fold: 1\n",
      "fold: 2\n",
      "fold: 3\n",
      "repetition: 17\n",
      "fold: 1\n",
      "fold: 2\n",
      "fold: 3\n",
      "repetition: 18\n",
      "fold: 1\n",
      "fold: 2\n",
      "fold: 3\n",
      "repetition: 19\n",
      "fold: 1\n",
      "fold: 2\n",
      "fold: 3\n",
      "repetition: 20\n",
      "fold: 1\n",
      "fold: 2\n",
      "fold: 3\n",
      "repetition: 21\n",
      "fold: 1\n",
      "fold: 2\n",
      "fold: 3\n",
      "repetition: 22\n",
      "fold: 1\n",
      "fold: 2\n",
      "fold: 3\n",
      "repetition: 23\n",
      "fold: 1\n",
      "fold: 2\n",
      "fold: 3\n",
      "repetition: 24\n",
      "fold: 1\n",
      "fold: 2\n",
      "fold: 3\n",
      "repetition: 25\n",
      "fold: 1\n",
      "fold: 2\n",
      "fold: 3\n",
      "repetition: 26\n",
      "fold: 1\n",
      "fold: 2\n",
      "fold: 3\n",
      "repetition: 27\n",
      "fold: 1\n",
      "fold: 2\n",
      "fold: 3\n",
      "repetition: 28\n",
      "fold: 1\n",
      "fold: 2\n",
      "fold: 3\n",
      "repetition: 29\n",
      "fold: 1\n",
      "fold: 2\n",
      "fold: 3\n",
      "repetition: 30\n",
      "fold: 1\n",
      "fold: 2\n",
      "fold: 3\n",
      "repetition: 31\n",
      "fold: 1\n",
      "fold: 2\n",
      "fold: 3\n",
      "repetition: 32\n",
      "fold: 1\n",
      "fold: 2\n",
      "fold: 3\n",
      "repetition: 33\n",
      "fold: 1\n"
     ]
    },
    {
     "name": "stderr",
     "output_type": "stream",
     "text": [
      "/usr/local/lib/python3.4/dist-packages/sklearn/feature_selection/univariate_selection.py:113: UserWarning: Features [    13     80     85 ..., 572264 572444 572461] are constant.\n",
      "  UserWarning)\n"
     ]
    },
    {
     "name": "stdout",
     "output_type": "stream",
     "text": [
      "fold: 2\n",
      "fold: 3\n"
     ]
    },
    {
     "name": "stderr",
     "output_type": "stream",
     "text": [
      "/usr/local/lib/python3.4/dist-packages/sklearn/feature_selection/univariate_selection.py:113: UserWarning: Features [    13     71     86 ..., 572733 572736 572737] are constant.\n",
      "  UserWarning)\n"
     ]
    },
    {
     "name": "stdout",
     "output_type": "stream",
     "text": [
      "F_mean: 0.487081745023\n",
      "AUC_mean: 0.604097018595\n",
      "PRECISION_mean: 0.434947049924\n",
      "RECALL_mean: 0.553416746872\n",
      "SPECIFICITY_mean: 0.479805013928\n",
      "percentage: 2.00027272727\n",
      "repetition: 1\n",
      "fold: 1\n",
      "fold: 2\n",
      "fold: 3\n",
      "repetition: 2\n",
      "fold: 1\n"
     ]
    },
    {
     "name": "stderr",
     "output_type": "stream",
     "text": [
      "/usr/local/lib/python3.4/dist-packages/sklearn/feature_selection/univariate_selection.py:113: UserWarning: Features [    13     99    204 ..., 572662 572677 572685] are constant.\n",
      "  UserWarning)\n"
     ]
    },
    {
     "name": "stdout",
     "output_type": "stream",
     "text": [
      "fold: 2\n",
      "fold: 3\n",
      "repetition: 3\n",
      "fold: 1\n",
      "fold: 2\n",
      "fold: 3\n",
      "repetition: 4\n",
      "fold: 1\n",
      "fold: 2\n",
      "fold: 3\n",
      "repetition: 5\n",
      "fold: 1\n",
      "fold: 2\n",
      "fold: 3\n",
      "repetition: 6\n",
      "fold: 1\n",
      "fold: 2\n",
      "fold: 3\n",
      "repetition: 7\n",
      "fold: 1\n",
      "fold: 2\n",
      "fold: 3\n",
      "repetition: 8\n",
      "fold: 1\n",
      "fold: 2\n",
      "fold: 3\n",
      "repetition: 9\n",
      "fold: 1\n",
      "fold: 2\n",
      "fold: 3\n",
      "repetition: 10\n",
      "fold: 1\n",
      "fold: 2\n",
      "fold: 3\n",
      "repetition: 11\n",
      "fold: 1\n"
     ]
    },
    {
     "name": "stderr",
     "output_type": "stream",
     "text": [
      "/usr/local/lib/python3.4/dist-packages/sklearn/feature_selection/univariate_selection.py:113: UserWarning: Features [    13     90     99 ..., 572677 572685 572686] are constant.\n",
      "  UserWarning)\n"
     ]
    },
    {
     "name": "stdout",
     "output_type": "stream",
     "text": [
      "fold: 2\n",
      "fold: 3\n",
      "repetition: 12\n",
      "fold: 1\n",
      "fold: 2\n",
      "fold: 3\n",
      "repetition: 13\n",
      "fold: 1\n",
      "fold: 2\n",
      "fold: 3\n",
      "repetition: 14\n",
      "fold: 1\n",
      "fold: 2\n",
      "fold: 3\n",
      "repetition: 15\n",
      "fold: 1\n",
      "fold: 2\n",
      "fold: 3\n",
      "repetition: 16\n",
      "fold: 1\n",
      "fold: 2\n",
      "fold: 3\n",
      "repetition: 17\n",
      "fold: 1\n",
      "fold: 2\n",
      "fold: 3\n"
     ]
    },
    {
     "name": "stderr",
     "output_type": "stream",
     "text": [
      "/usr/local/lib/python3.4/dist-packages/sklearn/feature_selection/univariate_selection.py:113: UserWarning: Features [     4     13     90 ..., 572634 572684 572685] are constant.\n",
      "  UserWarning)\n"
     ]
    },
    {
     "name": "stdout",
     "output_type": "stream",
     "text": [
      "repetition: 18\n",
      "fold: 1\n",
      "fold: 2\n",
      "fold: 3\n"
     ]
    },
    {
     "name": "stderr",
     "output_type": "stream",
     "text": [
      "/usr/local/lib/python3.4/dist-packages/sklearn/feature_selection/univariate_selection.py:113: UserWarning: Features [     4     13     80 ..., 572472 572604 572605] are constant.\n",
      "  UserWarning)\n"
     ]
    },
    {
     "name": "stdout",
     "output_type": "stream",
     "text": [
      "repetition: 19\n",
      "fold: 1\n",
      "fold: 2\n",
      "fold: 3\n",
      "repetition: 20\n",
      "fold: 1\n",
      "fold: 2\n",
      "fold: 3\n",
      "repetition: 21\n",
      "fold: 1\n",
      "fold: 2\n",
      "fold: 3\n",
      "repetition: 22\n",
      "fold: 1\n",
      "fold: 2\n",
      "fold: 3\n",
      "repetition: 23\n",
      "fold: 1\n",
      "fold: 2\n",
      "fold: 3\n",
      "repetition: 24\n",
      "fold: 1\n",
      "fold: 2\n",
      "fold: 3\n",
      "repetition: 25\n",
      "fold: 1\n",
      "fold: 2\n",
      "fold: 3\n"
     ]
    },
    {
     "name": "stderr",
     "output_type": "stream",
     "text": [
      "/usr/local/lib/python3.4/dist-packages/sklearn/feature_selection/univariate_selection.py:113: UserWarning: Features [    13     99    178 ..., 572684 572685 572704] are constant.\n",
      "  UserWarning)\n"
     ]
    },
    {
     "name": "stdout",
     "output_type": "stream",
     "text": [
      "repetition: 26\n",
      "fold: 1\n",
      "fold: 2\n",
      "fold: 3\n",
      "repetition: 27\n",
      "fold: 1\n",
      "fold: 2\n",
      "fold: 3\n",
      "repetition: 28\n",
      "fold: 1\n",
      "fold: 2\n",
      "fold: 3\n",
      "repetition: 29\n",
      "fold: 1\n",
      "fold: 2\n",
      "fold: 3\n"
     ]
    },
    {
     "name": "stderr",
     "output_type": "stream",
     "text": [
      "/usr/local/lib/python3.4/dist-packages/sklearn/feature_selection/univariate_selection.py:113: UserWarning: Features [    13     99    204 ..., 572670 572685 572686] are constant.\n",
      "  UserWarning)\n"
     ]
    },
    {
     "name": "stdout",
     "output_type": "stream",
     "text": [
      "repetition: 30\n",
      "fold: 1\n",
      "fold: 2\n",
      "fold: 3\n",
      "repetition: 31\n",
      "fold: 1\n",
      "fold: 2\n",
      "fold: 3\n",
      "repetition: 32\n",
      "fold: 1\n",
      "fold: 2\n",
      "fold: 3\n",
      "repetition: 33\n",
      "fold: 1\n",
      "fold: 2\n",
      "fold: 3\n",
      "F_mean: 0.469690546842\n",
      "AUC_mean: 0.59708889711\n",
      "PRECISION_mean: 0.411895910781\n",
      "RECALL_mean: 0.546351084813\n",
      "SPECIFICITY_mean: 0.458590006845\n",
      "percentage: 2.02804040404\n",
      "repetition: 1\n",
      "fold: 1\n",
      "fold: 2\n",
      "fold: 3\n",
      "repetition: 2\n",
      "fold: 1\n",
      "fold: 2\n",
      "fold: 3\n",
      "repetition: 3\n",
      "fold: 1\n",
      "fold: 2\n",
      "fold: 3\n",
      "repetition: 4\n",
      "fold: 1\n",
      "fold: 2\n",
      "fold: 3\n",
      "repetition: 5\n",
      "fold: 1\n",
      "fold: 2\n",
      "fold: 3\n",
      "repetition: 6\n",
      "fold: 1\n",
      "fold: 2\n",
      "fold: 3\n",
      "repetition: 7\n",
      "fold: 1\n",
      "fold: 2\n",
      "fold: 3\n",
      "repetition: 8\n",
      "fold: 1\n",
      "fold: 2\n",
      "fold: 3\n",
      "repetition: 9\n",
      "fold: 1\n",
      "fold: 2\n",
      "fold: 3\n",
      "repetition: 10\n",
      "fold: 1\n",
      "fold: 2\n",
      "fold: 3\n",
      "repetition: 11\n",
      "fold: 1\n",
      "fold: 2\n",
      "fold: 3\n",
      "repetition: 12\n",
      "fold: 1\n",
      "fold: 2\n",
      "fold: 3\n",
      "repetition: 13\n",
      "fold: 1\n",
      "fold: 2\n",
      "fold: 3\n",
      "repetition: 14\n",
      "fold: 1\n",
      "fold: 2\n",
      "fold: 3\n",
      "repetition: 15\n",
      "fold: 1\n",
      "fold: 2\n",
      "fold: 3\n",
      "repetition: 16\n",
      "fold: 1\n",
      "fold: 2\n",
      "fold: 3\n",
      "repetition: 17\n",
      "fold: 1\n",
      "fold: 2\n",
      "fold: 3\n"
     ]
    },
    {
     "name": "stderr",
     "output_type": "stream",
     "text": [
      "/usr/local/lib/python3.4/dist-packages/sklearn/feature_selection/univariate_selection.py:113: UserWarning: Features [    13     99    325 ..., 572728 572729 572730] are constant.\n",
      "  UserWarning)\n"
     ]
    },
    {
     "name": "stdout",
     "output_type": "stream",
     "text": [
      "repetition: 18\n",
      "fold: 1\n",
      "fold: 2\n",
      "fold: 3\n",
      "repetition: 19\n",
      "fold: 1\n",
      "fold: 2\n",
      "fold: 3\n",
      "repetition: 20\n",
      "fold: 1\n",
      "fold: 2\n",
      "fold: 3\n",
      "repetition: 21\n",
      "fold: 1\n",
      "fold: 2\n",
      "fold: 3\n",
      "repetition: 22\n",
      "fold: 1\n",
      "fold: 2\n",
      "fold: 3\n",
      "repetition: 23\n",
      "fold: 1\n",
      "fold: 2\n",
      "fold: 3\n"
     ]
    },
    {
     "name": "stderr",
     "output_type": "stream",
     "text": [
      "/usr/local/lib/python3.4/dist-packages/sklearn/feature_selection/univariate_selection.py:113: UserWarning: Features [    13     99    178 ..., 572323 572536 572554] are constant.\n",
      "  UserWarning)\n"
     ]
    },
    {
     "name": "stdout",
     "output_type": "stream",
     "text": [
      "repetition: 24\n",
      "fold: 1\n"
     ]
    },
    {
     "name": "stderr",
     "output_type": "stream",
     "text": [
      "/usr/local/lib/python3.4/dist-packages/sklearn/feature_selection/univariate_selection.py:113: UserWarning: Features [    13     90     99 ..., 572596 572684 572704] are constant.\n",
      "  UserWarning)\n"
     ]
    },
    {
     "name": "stdout",
     "output_type": "stream",
     "text": [
      "fold: 2\n",
      "fold: 3\n",
      "repetition: 25\n",
      "fold: 1\n",
      "fold: 2\n",
      "fold: 3\n",
      "repetition: 26\n",
      "fold: 1\n",
      "fold: 2\n",
      "fold: 3\n",
      "repetition: 27\n",
      "fold: 1\n",
      "fold: 2\n",
      "fold: 3\n",
      "repetition: 28\n",
      "fold: 1\n",
      "fold: 2\n"
     ]
    },
    {
     "name": "stderr",
     "output_type": "stream",
     "text": [
      "/usr/local/lib/python3.4/dist-packages/sklearn/feature_selection/univariate_selection.py:113: UserWarning: Features [    13     90     99 ..., 572686 572708 572709] are constant.\n",
      "  UserWarning)\n"
     ]
    },
    {
     "name": "stdout",
     "output_type": "stream",
     "text": [
      "fold: 3\n",
      "repetition: 29\n",
      "fold: 1\n",
      "fold: 2\n",
      "fold: 3\n",
      "repetition: 30\n",
      "fold: 1\n",
      "fold: 2\n",
      "fold: 3\n",
      "repetition: 31\n",
      "fold: 1\n",
      "fold: 2\n",
      "fold: 3\n",
      "repetition: 32\n",
      "fold: 1\n",
      "fold: 2\n",
      "fold: 3\n",
      "repetition: 33\n",
      "fold: 1\n",
      "fold: 2\n",
      "fold: 3\n",
      "F_mean: 0.467521367521\n",
      "AUC_mean: 0.585049189289\n",
      "PRECISION_mean: 0.405485544848\n",
      "RECALL_mean: 0.551967709384\n",
      "SPECIFICITY_mean: 0.459568733154\n",
      "percentage: 2.05580808081\n",
      "repetition: 1\n",
      "fold: 1\n",
      "fold: 2\n",
      "fold: 3\n",
      "repetition: 2\n",
      "fold: 1\n",
      "fold: 2\n",
      "fold: 3\n",
      "repetition: 3\n",
      "fold: 1\n",
      "fold: 2\n",
      "fold: 3\n",
      "repetition: 4\n",
      "fold: 1\n",
      "fold: 2\n",
      "fold: 3\n",
      "repetition: 5\n",
      "fold: 1\n"
     ]
    },
    {
     "name": "stderr",
     "output_type": "stream",
     "text": [
      "/usr/local/lib/python3.4/dist-packages/sklearn/feature_selection/univariate_selection.py:113: UserWarning: Features [    13     99    282 ..., 572670 572685 572704] are constant.\n",
      "  UserWarning)\n"
     ]
    },
    {
     "name": "stdout",
     "output_type": "stream",
     "text": [
      "fold: 2\n",
      "fold: 3\n",
      "repetition: 6\n",
      "fold: 1\n",
      "fold: 2\n",
      "fold: 3\n",
      "repetition: 7\n",
      "fold: 1\n",
      "fold: 2\n",
      "fold: 3\n",
      "repetition: 8\n",
      "fold: 1\n",
      "fold: 2\n",
      "fold: 3\n",
      "repetition: 9\n",
      "fold: 1\n",
      "fold: 2\n",
      "fold: 3\n",
      "repetition: 10\n",
      "fold: 1\n",
      "fold: 2\n",
      "fold: 3\n",
      "repetition: 11\n",
      "fold: 1\n",
      "fold: 2\n",
      "fold: 3\n",
      "repetition: 12\n",
      "fold: 1\n",
      "fold: 2\n",
      "fold: 3\n"
     ]
    },
    {
     "name": "stderr",
     "output_type": "stream",
     "text": [
      "/usr/local/lib/python3.4/dist-packages/sklearn/feature_selection/univariate_selection.py:113: UserWarning: Features [    13     99    288 ..., 572704 572708 572709] are constant.\n",
      "  UserWarning)\n"
     ]
    },
    {
     "name": "stdout",
     "output_type": "stream",
     "text": [
      "repetition: 13\n",
      "fold: 1\n",
      "fold: 2\n",
      "fold: 3\n",
      "repetition: 14\n",
      "fold: 1\n",
      "fold: 2\n",
      "fold: 3\n",
      "repetition: 15\n",
      "fold: 1\n",
      "fold: 2\n",
      "fold: 3\n",
      "repetition: 16\n",
      "fold: 1\n",
      "fold: 2\n",
      "fold: 3\n",
      "repetition: 17\n",
      "fold: 1\n",
      "fold: 2\n",
      "fold: 3\n",
      "repetition: 18\n",
      "fold: 1\n",
      "fold: 2\n",
      "fold: 3\n",
      "repetition: 19\n",
      "fold: 1\n",
      "fold: 2\n",
      "fold: 3\n"
     ]
    },
    {
     "name": "stderr",
     "output_type": "stream",
     "text": [
      "/usr/local/lib/python3.4/dist-packages/sklearn/feature_selection/univariate_selection.py:113: UserWarning: Features [    13     89     90 ..., 572728 572729 572730] are constant.\n",
      "  UserWarning)\n"
     ]
    },
    {
     "name": "stdout",
     "output_type": "stream",
     "text": [
      "repetition: 20\n",
      "fold: 1\n",
      "fold: 2\n",
      "fold: 3\n",
      "repetition: 21\n",
      "fold: 1\n"
     ]
    },
    {
     "name": "stderr",
     "output_type": "stream",
     "text": [
      "/usr/local/lib/python3.4/dist-packages/sklearn/feature_selection/univariate_selection.py:113: UserWarning: Features [     4     13     80 ..., 572685 572708 572709] are constant.\n",
      "  UserWarning)\n"
     ]
    },
    {
     "name": "stdout",
     "output_type": "stream",
     "text": [
      "fold: 2\n",
      "fold: 3\n",
      "repetition: 22\n",
      "fold: 1\n",
      "fold: 2\n",
      "fold: 3\n"
     ]
    },
    {
     "name": "stderr",
     "output_type": "stream",
     "text": [
      "/usr/local/lib/python3.4/dist-packages/sklearn/feature_selection/univariate_selection.py:113: UserWarning: Features [    13     90     99 ..., 572472 572510 572528] are constant.\n",
      "  UserWarning)\n"
     ]
    },
    {
     "name": "stdout",
     "output_type": "stream",
     "text": [
      "repetition: 23\n",
      "fold: 1\n",
      "fold: 2\n",
      "fold: 3\n",
      "repetition: 24\n",
      "fold: 1\n",
      "fold: 2\n",
      "fold: 3\n",
      "repetition: 25\n",
      "fold: 1\n",
      "fold: 2\n",
      "fold: 3\n",
      "repetition: 26\n",
      "fold: 1\n",
      "fold: 2\n",
      "fold: 3\n",
      "repetition: 27\n",
      "fold: 1\n",
      "fold: 2\n",
      "fold: 3\n",
      "repetition: 28\n",
      "fold: 1\n",
      "fold: 2\n",
      "fold: 3\n",
      "repetition: 29\n",
      "fold: 1\n"
     ]
    },
    {
     "name": "stderr",
     "output_type": "stream",
     "text": [
      "/usr/local/lib/python3.4/dist-packages/sklearn/feature_selection/univariate_selection.py:113: UserWarning: Features [    13     90     99 ..., 572544 572553 572576] are constant.\n",
      "  UserWarning)\n"
     ]
    },
    {
     "name": "stdout",
     "output_type": "stream",
     "text": [
      "fold: 2\n",
      "fold: 3\n"
     ]
    },
    {
     "name": "stderr",
     "output_type": "stream",
     "text": [
      "/usr/local/lib/python3.4/dist-packages/sklearn/feature_selection/univariate_selection.py:113: UserWarning: Features [    13     99    264 ..., 572702 572703 572704] are constant.\n",
      "  UserWarning)\n"
     ]
    },
    {
     "name": "stdout",
     "output_type": "stream",
     "text": [
      "repetition: 30\n",
      "fold: 1\n",
      "fold: 2\n",
      "fold: 3\n",
      "repetition: 31\n",
      "fold: 1\n",
      "fold: 2\n",
      "fold: 3\n",
      "repetition: 32\n",
      "fold: 1\n",
      "fold: 2\n",
      "fold: 3\n",
      "repetition: 33\n",
      "fold: 1\n",
      "fold: 2\n",
      "fold: 3\n",
      "F_mean: 0.465894465894\n",
      "AUC_mean: 0.595133199812\n",
      "PRECISION_mean: 0.404619970194\n",
      "RECALL_mean: 0.549039433771\n",
      "SPECIFICITY_mean: 0.462314939435\n",
      "percentage: 2.08357575758\n",
      "repetition: 1\n",
      "fold: 1\n",
      "fold: 2\n",
      "fold: 3\n",
      "repetition: 2\n",
      "fold: 1\n",
      "fold: 2\n",
      "fold: 3\n",
      "repetition: 3\n",
      "fold: 1\n",
      "fold: 2\n",
      "fold: 3\n",
      "repetition: 4\n",
      "fold: 1\n",
      "fold: 2\n",
      "fold: 3\n",
      "repetition: 5\n",
      "fold: 1\n",
      "fold: 2\n",
      "fold: 3\n",
      "repetition: 6\n",
      "fold: 1\n",
      "fold: 2\n",
      "fold: 3\n",
      "repetition: 7\n",
      "fold: 1\n",
      "fold: 2\n",
      "fold: 3\n",
      "repetition: 8\n",
      "fold: 1\n",
      "fold: 2\n",
      "fold: 3\n",
      "repetition: 9\n",
      "fold: 1\n",
      "fold: 2\n",
      "fold: 3\n",
      "repetition: 10\n",
      "fold: 1\n",
      "fold: 2\n",
      "fold: 3\n",
      "repetition: 11\n",
      "fold: 1\n",
      "fold: 2\n",
      "fold: 3\n",
      "repetition: 12\n",
      "fold: 1\n",
      "fold: 2\n",
      "fold: 3\n",
      "repetition: 13\n",
      "fold: 1\n",
      "fold: 2\n",
      "fold: 3\n",
      "repetition: 14\n",
      "fold: 1\n",
      "fold: 2\n",
      "fold: 3\n",
      "repetition: 15\n",
      "fold: 1\n",
      "fold: 2\n",
      "fold: 3\n",
      "repetition: 16\n",
      "fold: 1\n",
      "fold: 2\n"
     ]
    },
    {
     "name": "stderr",
     "output_type": "stream",
     "text": [
      "/usr/local/lib/python3.4/dist-packages/sklearn/feature_selection/univariate_selection.py:113: UserWarning: Features [    13     99    273 ..., 572596 572621 572634] are constant.\n",
      "  UserWarning)\n"
     ]
    },
    {
     "name": "stdout",
     "output_type": "stream",
     "text": [
      "fold: 3\n",
      "repetition: 17\n",
      "fold: 1\n",
      "fold: 2\n"
     ]
    },
    {
     "name": "stderr",
     "output_type": "stream",
     "text": [
      "/usr/local/lib/python3.4/dist-packages/sklearn/feature_selection/univariate_selection.py:113: UserWarning: Features [    13     99    178 ..., 572705 572708 572709] are constant.\n",
      "  UserWarning)\n"
     ]
    },
    {
     "name": "stdout",
     "output_type": "stream",
     "text": [
      "fold: 3\n",
      "repetition: 18\n",
      "fold: 1\n",
      "fold: 2\n"
     ]
    },
    {
     "name": "stderr",
     "output_type": "stream",
     "text": [
      "/usr/local/lib/python3.4/dist-packages/sklearn/feature_selection/univariate_selection.py:113: UserWarning: Features [    13     99    282 ..., 572685 572708 572709] are constant.\n",
      "  UserWarning)\n"
     ]
    },
    {
     "name": "stdout",
     "output_type": "stream",
     "text": [
      "fold: 3\n",
      "repetition: 19\n",
      "fold: 1\n",
      "fold: 2\n",
      "fold: 3\n",
      "repetition: 20\n",
      "fold: 1\n",
      "fold: 2\n",
      "fold: 3\n",
      "repetition: 21\n",
      "fold: 1\n",
      "fold: 2\n",
      "fold: 3\n",
      "repetition: 22\n",
      "fold: 1\n",
      "fold: 2\n",
      "fold: 3\n",
      "repetition: 23\n",
      "fold: 1\n",
      "fold: 2\n",
      "fold: 3\n"
     ]
    },
    {
     "name": "stderr",
     "output_type": "stream",
     "text": [
      "/usr/local/lib/python3.4/dist-packages/sklearn/feature_selection/univariate_selection.py:113: UserWarning: Features [     5     13     90 ..., 572735 572736 572737] are constant.\n",
      "  UserWarning)\n"
     ]
    },
    {
     "name": "stdout",
     "output_type": "stream",
     "text": [
      "repetition: 24\n",
      "fold: 1\n",
      "fold: 2\n",
      "fold: 3\n",
      "repetition: 25\n",
      "fold: 1\n",
      "fold: 2\n",
      "fold: 3\n",
      "repetition: 26\n",
      "fold: 1\n",
      "fold: 2\n",
      "fold: 3\n",
      "repetition: 27\n",
      "fold: 1\n",
      "fold: 2\n",
      "fold: 3\n"
     ]
    },
    {
     "name": "stderr",
     "output_type": "stream",
     "text": [
      "/usr/local/lib/python3.4/dist-packages/sklearn/feature_selection/univariate_selection.py:113: UserWarning: Features [    13     99    388 ..., 572728 572729 572730] are constant.\n",
      "  UserWarning)\n"
     ]
    },
    {
     "name": "stdout",
     "output_type": "stream",
     "text": [
      "repetition: 28\n",
      "fold: 1\n",
      "fold: 2\n",
      "fold: 3\n",
      "repetition: 29\n",
      "fold: 1\n",
      "fold: 2\n",
      "fold: 3\n",
      "repetition: 30\n",
      "fold: 1\n",
      "fold: 2\n",
      "fold: 3\n",
      "repetition: 31\n",
      "fold: 1\n",
      "fold: 2\n"
     ]
    },
    {
     "name": "stderr",
     "output_type": "stream",
     "text": [
      "/usr/local/lib/python3.4/dist-packages/sklearn/feature_selection/univariate_selection.py:113: UserWarning: Features [    13     90     99 ..., 572554 572685 572704] are constant.\n",
      "  UserWarning)\n"
     ]
    },
    {
     "name": "stdout",
     "output_type": "stream",
     "text": [
      "fold: 3\n",
      "repetition: 32\n",
      "fold: 1\n",
      "fold: 2\n",
      "fold: 3\n"
     ]
    },
    {
     "name": "stderr",
     "output_type": "stream",
     "text": [
      "/usr/local/lib/python3.4/dist-packages/sklearn/feature_selection/univariate_selection.py:113: UserWarning: Features [    13     99    305 ..., 572712 572713 572714] are constant.\n",
      "  UserWarning)\n"
     ]
    },
    {
     "name": "stdout",
     "output_type": "stream",
     "text": [
      "repetition: 33\n",
      "fold: 1\n",
      "fold: 2\n",
      "fold: 3\n",
      "F_mean: 0.458457605454\n",
      "AUC_mean: 0.585711349133\n",
      "PRECISION_mean: 0.404207362885\n",
      "RECALL_mean: 0.529527559055\n",
      "SPECIFICITY_mean: 0.456477039068\n",
      "percentage: 2.11134343434\n",
      "repetition: 1\n",
      "fold: 1\n",
      "fold: 2\n",
      "fold: 3\n",
      "repetition: 2\n",
      "fold: 1\n",
      "fold: 2\n",
      "fold: 3\n",
      "repetition: 3\n",
      "fold: 1\n",
      "fold: 2\n",
      "fold: 3\n",
      "repetition: 4\n",
      "fold: 1\n",
      "fold: 2\n",
      "fold: 3\n",
      "repetition: 5\n",
      "fold: 1\n",
      "fold: 2\n",
      "fold: 3\n",
      "repetition: 6\n",
      "fold: 1\n",
      "fold: 2\n",
      "fold: 3\n",
      "repetition: 7\n",
      "fold: 1\n",
      "fold: 2\n",
      "fold: 3\n",
      "repetition: 8\n",
      "fold: 1\n",
      "fold: 2\n",
      "fold: 3\n",
      "repetition: 9\n",
      "fold: 1\n",
      "fold: 2\n",
      "fold: 3\n",
      "repetition: 10\n",
      "fold: 1\n",
      "fold: 2\n",
      "fold: 3\n",
      "repetition: 11\n",
      "fold: 1\n"
     ]
    },
    {
     "name": "stderr",
     "output_type": "stream",
     "text": [
      "/usr/local/lib/python3.4/dist-packages/sklearn/feature_selection/univariate_selection.py:113: UserWarning: Features [    13     99    204 ..., 572621 572634 572704] are constant.\n",
      "  UserWarning)\n"
     ]
    },
    {
     "name": "stdout",
     "output_type": "stream",
     "text": [
      "fold: 2\n",
      "fold: 3\n",
      "repetition: 12\n",
      "fold: 1\n",
      "fold: 2\n",
      "fold: 3\n",
      "repetition: 13\n",
      "fold: 1\n"
     ]
    },
    {
     "name": "stderr",
     "output_type": "stream",
     "text": [
      "/usr/local/lib/python3.4/dist-packages/sklearn/feature_selection/univariate_selection.py:113: UserWarning: Features [     5     13     99 ..., 572605 572708 572709] are constant.\n",
      "  UserWarning)\n"
     ]
    },
    {
     "name": "stdout",
     "output_type": "stream",
     "text": [
      "fold: 2\n",
      "fold: 3\n",
      "repetition: 14\n",
      "fold: 1\n",
      "fold: 2\n",
      "fold: 3\n",
      "repetition: 15\n",
      "fold: 1\n",
      "fold: 2\n",
      "fold: 3\n",
      "repetition: 16\n",
      "fold: 1\n",
      "fold: 2\n",
      "fold: 3\n"
     ]
    },
    {
     "name": "stderr",
     "output_type": "stream",
     "text": [
      "/usr/local/lib/python3.4/dist-packages/sklearn/feature_selection/univariate_selection.py:113: UserWarning: Features [    13     72     80 ..., 572703 572708 572709] are constant.\n",
      "  UserWarning)\n"
     ]
    },
    {
     "name": "stdout",
     "output_type": "stream",
     "text": [
      "repetition: 17\n",
      "fold: 1\n",
      "fold: 2\n"
     ]
    },
    {
     "name": "stderr",
     "output_type": "stream",
     "text": [
      "/usr/local/lib/python3.4/dist-packages/sklearn/feature_selection/univariate_selection.py:113: UserWarning: Features [     4     13     90 ..., 572621 572634 572684] are constant.\n",
      "  UserWarning)\n"
     ]
    },
    {
     "name": "stdout",
     "output_type": "stream",
     "text": [
      "fold: 3\n",
      "repetition: 18\n",
      "fold: 1\n",
      "fold: 2\n",
      "fold: 3\n",
      "repetition: 19\n",
      "fold: 1\n",
      "fold: 2\n",
      "fold: 3\n",
      "repetition: 20\n",
      "fold: 1\n",
      "fold: 2\n",
      "fold: 3\n",
      "repetition: 21\n",
      "fold: 1\n",
      "fold: 2\n",
      "fold: 3\n",
      "repetition: 22\n",
      "fold: 1\n",
      "fold: 2\n",
      "fold: 3\n",
      "repetition: 23\n",
      "fold: 1\n",
      "fold: 2\n",
      "fold: 3\n",
      "repetition: 24\n",
      "fold: 1\n",
      "fold: 2\n",
      "fold: 3\n",
      "repetition: 25\n",
      "fold: 1\n",
      "fold: 2\n",
      "fold: 3\n",
      "repetition: 26\n",
      "fold: 1\n",
      "fold: 2\n",
      "fold: 3\n",
      "repetition: 27\n",
      "fold: 1\n",
      "fold: 2\n",
      "fold: 3\n",
      "repetition: 28\n",
      "fold: 1\n",
      "fold: 2\n",
      "fold: 3\n"
     ]
    },
    {
     "name": "stderr",
     "output_type": "stream",
     "text": [
      "/usr/local/lib/python3.4/dist-packages/sklearn/feature_selection/univariate_selection.py:113: UserWarning: Features [    13     99    273 ..., 572480 572509 572704] are constant.\n",
      "  UserWarning)\n"
     ]
    },
    {
     "name": "stdout",
     "output_type": "stream",
     "text": [
      "repetition: 29\n",
      "fold: 1\n",
      "fold: 2\n",
      "fold: 3\n",
      "repetition: 30\n",
      "fold: 1\n",
      "fold: 2\n",
      "fold: 3\n"
     ]
    },
    {
     "name": "stderr",
     "output_type": "stream",
     "text": [
      "/usr/local/lib/python3.4/dist-packages/sklearn/feature_selection/univariate_selection.py:113: UserWarning: Features [     4     13     80 ..., 572634 572708 572709] are constant.\n",
      "  UserWarning)\n"
     ]
    },
    {
     "name": "stdout",
     "output_type": "stream",
     "text": [
      "repetition: 31\n",
      "fold: 1\n",
      "fold: 2\n",
      "fold: 3\n",
      "repetition: 32\n",
      "fold: 1\n",
      "fold: 2\n",
      "fold: 3\n"
     ]
    },
    {
     "name": "stderr",
     "output_type": "stream",
     "text": [
      "/usr/local/lib/python3.4/dist-packages/sklearn/feature_selection/univariate_selection.py:113: UserWarning: Features [    13     99    204 ..., 572670 572685 572704] are constant.\n",
      "  UserWarning)\n"
     ]
    },
    {
     "name": "stdout",
     "output_type": "stream",
     "text": [
      "repetition: 33\n",
      "fold: 1\n",
      "fold: 2\n",
      "fold: 3\n",
      "F_mean: 0.437854339294\n",
      "AUC_mean: 0.578566669124\n",
      "PRECISION_mean: 0.386451116243\n",
      "RECALL_mean: 0.505030181087\n",
      "SPECIFICITY_mean: 0.461850101283\n",
      "percentage: 2.13911111111\n",
      "repetition: 1\n",
      "fold: 1\n",
      "fold: 2\n",
      "fold: 3\n",
      "repetition: 2\n",
      "fold: 1\n",
      "fold: 2\n",
      "fold: 3\n",
      "repetition: 3\n",
      "fold: 1\n",
      "fold: 2\n",
      "fold: 3\n",
      "repetition: 4\n",
      "fold: 1\n",
      "fold: 2\n",
      "fold: 3\n",
      "repetition: 5\n",
      "fold: 1\n",
      "fold: 2\n",
      "fold: 3\n"
     ]
    },
    {
     "name": "stderr",
     "output_type": "stream",
     "text": [
      "/usr/local/lib/python3.4/dist-packages/sklearn/feature_selection/univariate_selection.py:113: UserWarning: Features [    13     99    290 ..., 572702 572703 572704] are constant.\n",
      "  UserWarning)\n"
     ]
    },
    {
     "name": "stdout",
     "output_type": "stream",
     "text": [
      "repetition: 6\n",
      "fold: 1\n",
      "fold: 2\n",
      "fold: 3\n",
      "repetition: 7\n",
      "fold: 1\n",
      "fold: 2\n",
      "fold: 3\n"
     ]
    },
    {
     "name": "stderr",
     "output_type": "stream",
     "text": [
      "/usr/local/lib/python3.4/dist-packages/sklearn/feature_selection/univariate_selection.py:113: UserWarning: Features [    13     99    355 ..., 572733 572736 572737] are constant.\n",
      "  UserWarning)\n"
     ]
    },
    {
     "name": "stdout",
     "output_type": "stream",
     "text": [
      "repetition: 8\n",
      "fold: 1\n",
      "fold: 2\n",
      "fold: 3\n"
     ]
    },
    {
     "name": "stderr",
     "output_type": "stream",
     "text": [
      "/usr/local/lib/python3.4/dist-packages/sklearn/feature_selection/univariate_selection.py:113: UserWarning: Features [     0     13     86 ..., 572728 572729 572730] are constant.\n",
      "  UserWarning)\n"
     ]
    },
    {
     "name": "stdout",
     "output_type": "stream",
     "text": [
      "repetition: 9\n",
      "fold: 1\n",
      "fold: 2\n",
      "fold: 3\n",
      "repetition: 10\n",
      "fold: 1\n",
      "fold: 2\n",
      "fold: 3\n",
      "repetition: 11\n",
      "fold: 1\n",
      "fold: 2\n",
      "fold: 3\n",
      "repetition: 12\n",
      "fold: 1\n",
      "fold: 2\n"
     ]
    },
    {
     "name": "stderr",
     "output_type": "stream",
     "text": [
      "/usr/local/lib/python3.4/dist-packages/sklearn/feature_selection/univariate_selection.py:113: UserWarning: Features [     4     13     72 ..., 572686 572708 572709] are constant.\n",
      "  UserWarning)\n"
     ]
    },
    {
     "name": "stdout",
     "output_type": "stream",
     "text": [
      "fold: 3\n",
      "repetition: 13\n",
      "fold: 1\n",
      "fold: 2\n",
      "fold: 3\n",
      "repetition: 14\n",
      "fold: 1\n",
      "fold: 2\n",
      "fold: 3\n"
     ]
    },
    {
     "name": "stderr",
     "output_type": "stream",
     "text": [
      "/usr/local/lib/python3.4/dist-packages/sklearn/feature_selection/univariate_selection.py:113: UserWarning: Features [    13     80     85 ..., 572554 572684 572704] are constant.\n",
      "  UserWarning)\n"
     ]
    },
    {
     "name": "stdout",
     "output_type": "stream",
     "text": [
      "repetition: 15\n",
      "fold: 1\n",
      "fold: 2\n",
      "fold: 3\n"
     ]
    },
    {
     "name": "stderr",
     "output_type": "stream",
     "text": [
      "/usr/local/lib/python3.4/dist-packages/sklearn/feature_selection/univariate_selection.py:113: UserWarning: Features [     4     13     80 ..., 572677 572685 572704] are constant.\n",
      "  UserWarning)\n"
     ]
    },
    {
     "name": "stdout",
     "output_type": "stream",
     "text": [
      "repetition: 16\n",
      "fold: 1\n",
      "fold: 2\n",
      "fold: 3\n",
      "repetition: 17\n",
      "fold: 1\n",
      "fold: 2\n",
      "fold: 3\n",
      "repetition: 18\n",
      "fold: 1\n",
      "fold: 2\n",
      "fold: 3\n",
      "repetition: 19\n",
      "fold: 1\n",
      "fold: 2\n",
      "fold: 3\n",
      "repetition: 20\n",
      "fold: 1\n",
      "fold: 2\n",
      "fold: 3\n",
      "repetition: 21\n",
      "fold: 1\n",
      "fold: 2\n",
      "fold: 3\n",
      "repetition: 22\n",
      "fold: 1\n",
      "fold: 2\n",
      "fold: 3\n",
      "repetition: 23\n",
      "fold: 1\n",
      "fold: 2\n",
      "fold: 3\n",
      "repetition: 24\n",
      "fold: 1\n",
      "fold: 2\n",
      "fold: 3\n",
      "repetition: 25\n",
      "fold: 1\n"
     ]
    },
    {
     "name": "stderr",
     "output_type": "stream",
     "text": [
      "/usr/local/lib/python3.4/dist-packages/sklearn/feature_selection/univariate_selection.py:113: UserWarning: Features [    13     99    204 ..., 572705 572708 572709] are constant.\n",
      "  UserWarning)\n"
     ]
    },
    {
     "name": "stdout",
     "output_type": "stream",
     "text": [
      "fold: 2\n",
      "fold: 3\n",
      "repetition: 26\n",
      "fold: 1\n",
      "fold: 2\n",
      "fold: 3\n",
      "repetition: 27\n",
      "fold: 1\n",
      "fold: 2\n",
      "fold: 3\n",
      "repetition: 28\n",
      "fold: 1\n",
      "fold: 2\n",
      "fold: 3\n",
      "repetition: 29\n",
      "fold: 1\n",
      "fold: 2\n",
      "fold: 3\n",
      "repetition: 30\n",
      "fold: 1\n",
      "fold: 2\n",
      "fold: 3\n",
      "repetition: 31\n",
      "fold: 1\n",
      "fold: 2\n",
      "fold: 3\n",
      "repetition: 32\n",
      "fold: 1\n",
      "fold: 2\n",
      "fold: 3\n",
      "repetition: 33\n",
      "fold: 1\n",
      "fold: 2\n",
      "fold: 3\n",
      "F_mean: 0.476515798463\n",
      "AUC_mean: 0.561516280258\n",
      "PRECISION_mean: 0.41954887218\n",
      "RECALL_mean: 0.551383399209\n",
      "SPECIFICITY_mean: 0.472317156528\n",
      "percentage: 2.16687878788\n",
      "repetition: 1\n",
      "fold: 1\n",
      "fold: 2\n",
      "fold: 3\n",
      "repetition: 2\n",
      "fold: 1\n",
      "fold: 2\n",
      "fold: 3\n",
      "repetition: 3\n",
      "fold: 1\n",
      "fold: 2\n",
      "fold: 3\n",
      "repetition: 4\n",
      "fold: 1\n",
      "fold: 2\n",
      "fold: 3\n",
      "repetition: 5\n",
      "fold: 1\n",
      "fold: 2\n",
      "fold: 3\n",
      "repetition: 6\n",
      "fold: 1\n",
      "fold: 2\n",
      "fold: 3\n",
      "repetition: 7\n",
      "fold: 1\n",
      "fold: 2\n",
      "fold: 3\n",
      "repetition: 8\n",
      "fold: 1\n",
      "fold: 2\n",
      "fold: 3\n",
      "repetition: 9\n",
      "fold: 1\n",
      "fold: 2\n",
      "fold: 3\n",
      "repetition: 10\n",
      "fold: 1\n",
      "fold: 2\n",
      "fold: 3\n",
      "repetition: 11\n",
      "fold: 1\n",
      "fold: 2\n",
      "fold: 3\n",
      "repetition: 12\n",
      "fold: 1\n",
      "fold: 2\n",
      "fold: 3\n",
      "repetition: 13\n",
      "fold: 1\n",
      "fold: 2\n",
      "fold: 3\n",
      "repetition: 14\n",
      "fold: 1\n"
     ]
    },
    {
     "name": "stderr",
     "output_type": "stream",
     "text": [
      "/usr/local/lib/python3.4/dist-packages/sklearn/feature_selection/univariate_selection.py:113: UserWarning: Features [    13     99    273 ..., 572677 572685 572704] are constant.\n",
      "  UserWarning)\n"
     ]
    },
    {
     "name": "stdout",
     "output_type": "stream",
     "text": [
      "fold: 2\n",
      "fold: 3\n",
      "repetition: 15\n",
      "fold: 1\n",
      "fold: 2\n",
      "fold: 3\n",
      "repetition: 16\n",
      "fold: 1\n",
      "fold: 2\n",
      "fold: 3\n",
      "repetition: 17\n",
      "fold: 1\n",
      "fold: 2\n",
      "fold: 3\n",
      "repetition: 18\n",
      "fold: 1\n",
      "fold: 2\n",
      "fold: 3\n",
      "repetition: 19\n",
      "fold: 1\n",
      "fold: 2\n",
      "fold: 3\n",
      "repetition: 20\n",
      "fold: 1\n",
      "fold: 2\n",
      "fold: 3\n",
      "repetition: 21\n",
      "fold: 1\n",
      "fold: 2\n"
     ]
    },
    {
     "name": "stderr",
     "output_type": "stream",
     "text": [
      "/usr/local/lib/python3.4/dist-packages/sklearn/feature_selection/univariate_selection.py:113: UserWarning: Features [    13     99    274 ..., 572670 572677 572685] are constant.\n",
      "  UserWarning)\n"
     ]
    },
    {
     "name": "stdout",
     "output_type": "stream",
     "text": [
      "fold: 3\n",
      "repetition: 22\n",
      "fold: 1\n",
      "fold: 2\n",
      "fold: 3\n",
      "repetition: 23\n",
      "fold: 1\n",
      "fold: 2\n",
      "fold: 3\n",
      "repetition: 24\n",
      "fold: 1\n",
      "fold: 2\n",
      "fold: 3\n",
      "repetition: 25\n",
      "fold: 1\n",
      "fold: 2\n",
      "fold: 3\n",
      "repetition: 26\n",
      "fold: 1\n",
      "fold: 2\n",
      "fold: 3\n",
      "repetition: 27\n",
      "fold: 1\n",
      "fold: 2\n",
      "fold: 3\n"
     ]
    },
    {
     "name": "stderr",
     "output_type": "stream",
     "text": [
      "/usr/local/lib/python3.4/dist-packages/sklearn/feature_selection/univariate_selection.py:113: UserWarning: Features [    13     99    149 ..., 572662 572677 572704] are constant.\n",
      "  UserWarning)\n"
     ]
    },
    {
     "name": "stdout",
     "output_type": "stream",
     "text": [
      "repetition: 28\n",
      "fold: 1\n",
      "fold: 2\n",
      "fold: 3\n",
      "repetition: 29\n",
      "fold: 1\n",
      "fold: 2\n",
      "fold: 3\n",
      "repetition: 30\n",
      "fold: 1\n",
      "fold: 2\n",
      "fold: 3\n",
      "repetition: 31\n",
      "fold: 1\n",
      "fold: 2\n",
      "fold: 3\n",
      "repetition: 32\n",
      "fold: 1\n",
      "fold: 2\n",
      "fold: 3\n",
      "repetition: 33\n",
      "fold: 1\n",
      "fold: 2\n",
      "fold: 3\n",
      "F_mean: 0.43838028169\n",
      "AUC_mean: 0.587276426081\n",
      "PRECISION_mean: 0.384259259259\n",
      "RECALL_mean: 0.510245901639\n",
      "SPECIFICITY_mean: 0.467645096731\n",
      "percentage: 2.19464646465\n",
      "repetition: 1\n",
      "fold: 1\n",
      "fold: 2\n",
      "fold: 3\n",
      "repetition: 2\n",
      "fold: 1\n",
      "fold: 2\n",
      "fold: 3\n",
      "repetition: 3\n",
      "fold: 1\n",
      "fold: 2\n",
      "fold: 3\n",
      "repetition: 4\n",
      "fold: 1\n",
      "fold: 2\n",
      "fold: 3\n",
      "repetition: 5\n",
      "fold: 1\n",
      "fold: 2\n",
      "fold: 3\n",
      "repetition: 6\n",
      "fold: 1\n",
      "fold: 2\n",
      "fold: 3\n",
      "repetition: 7\n",
      "fold: 1\n",
      "fold: 2\n",
      "fold: 3\n",
      "repetition: 8\n",
      "fold: 1\n",
      "fold: 2\n",
      "fold: 3\n"
     ]
    },
    {
     "name": "stderr",
     "output_type": "stream",
     "text": [
      "/usr/local/lib/python3.4/dist-packages/sklearn/feature_selection/univariate_selection.py:113: UserWarning: Features [    13     99    274 ..., 572662 572677 572684] are constant.\n",
      "  UserWarning)\n"
     ]
    },
    {
     "name": "stdout",
     "output_type": "stream",
     "text": [
      "repetition: 9\n",
      "fold: 1\n",
      "fold: 2\n",
      "fold: 3\n",
      "repetition: 10\n",
      "fold: 1\n",
      "fold: 2\n",
      "fold: 3\n",
      "repetition: 11\n",
      "fold: 1\n"
     ]
    },
    {
     "name": "stderr",
     "output_type": "stream",
     "text": [
      "/usr/local/lib/python3.4/dist-packages/sklearn/feature_selection/univariate_selection.py:113: UserWarning: Features [    13     80     85 ..., 572472 572604 572605] are constant.\n",
      "  UserWarning)\n"
     ]
    },
    {
     "name": "stdout",
     "output_type": "stream",
     "text": [
      "fold: 2\n",
      "fold: 3\n",
      "repetition: 12\n",
      "fold: 1\n",
      "fold: 2\n",
      "fold: 3\n",
      "repetition: 13\n",
      "fold: 1\n",
      "fold: 2\n",
      "fold: 3\n",
      "repetition: 14\n",
      "fold: 1\n"
     ]
    },
    {
     "name": "stderr",
     "output_type": "stream",
     "text": [
      "/usr/local/lib/python3.4/dist-packages/sklearn/feature_selection/univariate_selection.py:113: UserWarning: Features [    13     80     85 ..., 572528 572604 572605] are constant.\n",
      "  UserWarning)\n"
     ]
    },
    {
     "name": "stdout",
     "output_type": "stream",
     "text": [
      "fold: 2\n",
      "fold: 3\n",
      "repetition: 15\n",
      "fold: 1\n",
      "fold: 2\n",
      "fold: 3\n",
      "repetition: 16\n",
      "fold: 1\n",
      "fold: 2\n",
      "fold: 3\n",
      "repetition: 17\n",
      "fold: 1\n",
      "fold: 2\n",
      "fold: 3\n",
      "repetition: 18\n",
      "fold: 1\n",
      "fold: 2\n",
      "fold: 3\n",
      "repetition: 19\n",
      "fold: 1\n",
      "fold: 2\n",
      "fold: 3\n",
      "repetition: 20\n",
      "fold: 1\n",
      "fold: 2\n",
      "fold: 3\n",
      "repetition: 21\n",
      "fold: 1\n",
      "fold: 2\n",
      "fold: 3\n",
      "repetition: 22\n",
      "fold: 1\n",
      "fold: 2\n",
      "fold: 3\n",
      "repetition: 23\n",
      "fold: 1\n",
      "fold: 2\n",
      "fold: 3\n",
      "repetition: 24\n",
      "fold: 1\n",
      "fold: 2\n",
      "fold: 3\n",
      "repetition: 25\n",
      "fold: 1\n",
      "fold: 2\n",
      "fold: 3\n",
      "repetition: 26\n",
      "fold: 1\n",
      "fold: 2\n",
      "fold: 3\n",
      "repetition: 27\n",
      "fold: 1\n",
      "fold: 2\n",
      "fold: 3\n",
      "repetition: 28\n",
      "fold: 1\n",
      "fold: 2\n",
      "fold: 3\n",
      "repetition: 29\n",
      "fold: 1\n",
      "fold: 2\n",
      "fold: 3\n",
      "repetition: 30\n",
      "fold: 1\n",
      "fold: 2\n",
      "fold: 3\n",
      "repetition: 31\n",
      "fold: 1\n",
      "fold: 2\n",
      "fold: 3\n",
      "repetition: 32\n",
      "fold: 1\n",
      "fold: 2\n",
      "fold: 3\n",
      "repetition: 33\n",
      "fold: 1\n",
      "fold: 2\n",
      "fold: 3\n",
      "F_mean: 0.472421052632\n",
      "AUC_mean: 0.589640529882\n",
      "PRECISION_mean: 0.411894273128\n",
      "RECALL_mean: 0.5538005923\n",
      "SPECIFICITY_mean: 0.452120383037\n",
      "percentage: 2.22241414141\n",
      "repetition: 1\n",
      "fold: 1\n",
      "fold: 2\n",
      "fold: 3\n",
      "repetition: 2\n",
      "fold: 1\n",
      "fold: 2\n",
      "fold: 3\n",
      "repetition: 3\n",
      "fold: 1\n",
      "fold: 2\n",
      "fold: 3\n",
      "repetition: 4\n",
      "fold: 1\n",
      "fold: 2\n",
      "fold: 3\n",
      "repetition: 5\n",
      "fold: 1\n",
      "fold: 2\n",
      "fold: 3\n",
      "repetition: 6\n",
      "fold: 1\n",
      "fold: 2\n",
      "fold: 3\n",
      "repetition: 7\n",
      "fold: 1\n",
      "fold: 2\n",
      "fold: 3\n",
      "repetition: 8\n",
      "fold: 1\n",
      "fold: 2\n",
      "fold: 3\n",
      "repetition: 9\n",
      "fold: 1\n",
      "fold: 2\n"
     ]
    },
    {
     "name": "stderr",
     "output_type": "stream",
     "text": [
      "/usr/local/lib/python3.4/dist-packages/sklearn/feature_selection/univariate_selection.py:113: UserWarning: Features [    13     80     85 ..., 572509 572704 572705] are constant.\n",
      "  UserWarning)\n"
     ]
    },
    {
     "name": "stdout",
     "output_type": "stream",
     "text": [
      "fold: 3\n",
      "repetition: 10\n",
      "fold: 1\n",
      "fold: 2\n",
      "fold: 3\n",
      "repetition: 11\n",
      "fold: 1\n",
      "fold: 2\n",
      "fold: 3\n",
      "repetition: 12\n",
      "fold: 1\n",
      "fold: 2\n",
      "fold: 3\n",
      "repetition: 13\n",
      "fold: 1\n",
      "fold: 2\n",
      "fold: 3\n",
      "repetition: 14\n",
      "fold: 1\n",
      "fold: 2\n"
     ]
    },
    {
     "name": "stderr",
     "output_type": "stream",
     "text": [
      "/usr/local/lib/python3.4/dist-packages/sklearn/feature_selection/univariate_selection.py:113: UserWarning: Features [    13     99    288 ..., 572707 572708 572709] are constant.\n",
      "  UserWarning)\n"
     ]
    },
    {
     "name": "stdout",
     "output_type": "stream",
     "text": [
      "fold: 3\n",
      "repetition: 15\n",
      "fold: 1\n",
      "fold: 2\n",
      "fold: 3\n",
      "repetition: 16\n",
      "fold: 1\n",
      "fold: 2\n",
      "fold: 3\n",
      "repetition: 17\n",
      "fold: 1\n",
      "fold: 2\n",
      "fold: 3\n",
      "repetition: 18\n",
      "fold: 1\n",
      "fold: 2\n",
      "fold: 3\n"
     ]
    },
    {
     "name": "stderr",
     "output_type": "stream",
     "text": [
      "/usr/local/lib/python3.4/dist-packages/sklearn/feature_selection/univariate_selection.py:113: UserWarning: Features [     4     13     80 ..., 572596 572708 572709] are constant.\n",
      "  UserWarning)\n"
     ]
    },
    {
     "name": "stdout",
     "output_type": "stream",
     "text": [
      "repetition: 19\n",
      "fold: 1\n",
      "fold: 2\n",
      "fold: 3\n",
      "repetition: 20\n",
      "fold: 1\n",
      "fold: 2\n",
      "fold: 3\n",
      "repetition: 21\n",
      "fold: 1\n",
      "fold: 2\n",
      "fold: 3\n",
      "repetition: 22\n",
      "fold: 1\n",
      "fold: 2\n",
      "fold: 3\n",
      "repetition: 23\n",
      "fold: 1\n",
      "fold: 2\n",
      "fold: 3\n",
      "repetition: 24\n",
      "fold: 1\n",
      "fold: 2\n",
      "fold: 3\n",
      "repetition: 25\n",
      "fold: 1\n",
      "fold: 2\n"
     ]
    },
    {
     "name": "stderr",
     "output_type": "stream",
     "text": [
      "/usr/local/lib/python3.4/dist-packages/sklearn/feature_selection/univariate_selection.py:113: UserWarning: Features [    13     71     80 ..., 572712 572713 572714] are constant.\n",
      "  UserWarning)\n"
     ]
    },
    {
     "name": "stdout",
     "output_type": "stream",
     "text": [
      "fold: 3\n",
      "repetition: 26\n",
      "fold: 1\n",
      "fold: 2\n",
      "fold: 3\n",
      "repetition: 27\n",
      "fold: 1\n",
      "fold: 2\n",
      "fold: 3\n",
      "repetition: 28\n",
      "fold: 1\n",
      "fold: 2\n",
      "fold: 3\n",
      "repetition: 29\n",
      "fold: 1\n",
      "fold: 2\n",
      "fold: 3\n",
      "repetition: 30\n",
      "fold: 1\n"
     ]
    },
    {
     "name": "stderr",
     "output_type": "stream",
     "text": [
      "/usr/local/lib/python3.4/dist-packages/sklearn/feature_selection/univariate_selection.py:113: UserWarning: Features [     4     13     90 ..., 572472 572621 572634] are constant.\n",
      "  UserWarning)\n"
     ]
    },
    {
     "name": "stdout",
     "output_type": "stream",
     "text": [
      "fold: 2\n",
      "fold: 3\n",
      "repetition: 31\n",
      "fold: 1\n",
      "fold: 2\n",
      "fold: 3\n",
      "repetition: 32\n",
      "fold: 1\n"
     ]
    },
    {
     "name": "stderr",
     "output_type": "stream",
     "text": [
      "/usr/local/lib/python3.4/dist-packages/sklearn/feature_selection/univariate_selection.py:113: UserWarning: Features [    13     99    305 ..., 572704 572708 572709] are constant.\n",
      "  UserWarning)\n"
     ]
    },
    {
     "name": "stdout",
     "output_type": "stream",
     "text": [
      "fold: 2\n",
      "fold: 3\n"
     ]
    },
    {
     "name": "stderr",
     "output_type": "stream",
     "text": [
      "/usr/local/lib/python3.4/dist-packages/sklearn/feature_selection/univariate_selection.py:113: UserWarning: Features [    13     99    149 ..., 572604 572605 572685] are constant.\n",
      "  UserWarning)\n"
     ]
    },
    {
     "name": "stdout",
     "output_type": "stream",
     "text": [
      "repetition: 33\n",
      "fold: 1\n",
      "fold: 2\n",
      "fold: 3\n",
      "F_mean: 0.444251626898\n",
      "AUC_mean: 0.590672255724\n",
      "PRECISION_mean: 0.387878787879\n",
      "RECALL_mean: 0.519796954315\n",
      "SPECIFICITY_mean: 0.457718120805\n",
      "percentage: 2.25018181818\n",
      "repetition: 1\n",
      "fold: 1\n",
      "fold: 2\n",
      "fold: 3\n",
      "repetition: 2\n",
      "fold: 1\n",
      "fold: 2\n",
      "fold: 3\n",
      "repetition: 3\n",
      "fold: 1\n",
      "fold: 2\n",
      "fold: 3\n",
      "repetition: 4\n",
      "fold: 1\n",
      "fold: 2\n",
      "fold: 3\n",
      "repetition: 5\n",
      "fold: 1\n",
      "fold: 2\n",
      "fold: 3\n",
      "repetition: 6\n",
      "fold: 1\n",
      "fold: 2\n",
      "fold: 3\n",
      "repetition: 7\n",
      "fold: 1\n",
      "fold: 2\n",
      "fold: 3\n",
      "repetition: 8\n",
      "fold: 1\n",
      "fold: 2\n"
     ]
    },
    {
     "name": "stderr",
     "output_type": "stream",
     "text": [
      "/usr/local/lib/python3.4/dist-packages/sklearn/feature_selection/univariate_selection.py:113: UserWarning: Features [    13     99    204 ..., 572634 572662 572677] are constant.\n",
      "  UserWarning)\n"
     ]
    },
    {
     "name": "stdout",
     "output_type": "stream",
     "text": [
      "fold: 3\n",
      "repetition: 9\n",
      "fold: 1\n",
      "fold: 2\n",
      "fold: 3\n",
      "repetition: 10\n",
      "fold: 1\n",
      "fold: 2\n",
      "fold: 3\n",
      "repetition: 11\n",
      "fold: 1\n",
      "fold: 2\n",
      "fold: 3\n",
      "repetition: 12\n",
      "fold: 1\n",
      "fold: 2\n",
      "fold: 3\n",
      "repetition: 13\n",
      "fold: 1\n",
      "fold: 2\n",
      "fold: 3\n",
      "repetition: 14\n",
      "fold: 1\n",
      "fold: 2\n",
      "fold: 3\n",
      "repetition: 15\n",
      "fold: 1\n",
      "fold: 2\n",
      "fold: 3\n",
      "repetition: 16\n",
      "fold: 1\n",
      "fold: 2\n",
      "fold: 3\n",
      "repetition: 17\n",
      "fold: 1\n",
      "fold: 2\n",
      "fold: 3\n",
      "repetition: 18\n",
      "fold: 1\n",
      "fold: 2\n",
      "fold: 3\n",
      "repetition: 19\n",
      "fold: 1\n",
      "fold: 2\n",
      "fold: 3\n",
      "repetition: 20\n",
      "fold: 1\n",
      "fold: 2\n",
      "fold: 3\n",
      "repetition: 21\n",
      "fold: 1\n",
      "fold: 2\n"
     ]
    },
    {
     "name": "stderr",
     "output_type": "stream",
     "text": [
      "/usr/local/lib/python3.4/dist-packages/sklearn/feature_selection/univariate_selection.py:113: UserWarning: Features [     4     13     90 ..., 572481 572553 572704] are constant.\n",
      "  UserWarning)\n"
     ]
    },
    {
     "name": "stdout",
     "output_type": "stream",
     "text": [
      "fold: 3\n",
      "repetition: 22\n",
      "fold: 1\n",
      "fold: 2\n",
      "fold: 3\n",
      "repetition: 23\n",
      "fold: 1\n",
      "fold: 2\n",
      "fold: 3\n",
      "repetition: 24\n",
      "fold: 1\n",
      "fold: 2\n",
      "fold: 3\n",
      "repetition: 25\n",
      "fold: 1\n",
      "fold: 2\n",
      "fold: 3\n",
      "repetition: 26\n",
      "fold: 1\n",
      "fold: 2\n",
      "fold: 3\n",
      "repetition: 27\n",
      "fold: 1\n",
      "fold: 2\n",
      "fold: 3\n",
      "repetition: 28\n",
      "fold: 1\n",
      "fold: 2\n",
      "fold: 3\n",
      "repetition: 29\n",
      "fold: 1\n",
      "fold: 2\n",
      "fold: 3\n",
      "repetition: 30\n",
      "fold: 1\n",
      "fold: 2\n",
      "fold: 3\n",
      "repetition: 31\n",
      "fold: 1\n",
      "fold: 2\n",
      "fold: 3\n",
      "repetition: 32\n",
      "fold: 1\n",
      "fold: 2\n",
      "fold: 3\n",
      "repetition: 33\n",
      "fold: 1\n",
      "fold: 2\n",
      "fold: 3\n",
      "F_mean: 0.44196044712\n",
      "AUC_mean: 0.588252586349\n",
      "PRECISION_mean: 0.38675696012\n",
      "RECALL_mean: 0.51554663992\n",
      "SPECIFICITY_mean: 0.448579161028\n",
      "percentage: 2.27794949495\n",
      "repetition: 1\n",
      "fold: 1\n",
      "fold: 2\n",
      "fold: 3\n",
      "repetition: 2\n",
      "fold: 1\n",
      "fold: 2\n",
      "fold: 3\n",
      "repetition: 3\n",
      "fold: 1\n",
      "fold: 2\n",
      "fold: 3\n",
      "repetition: 4\n",
      "fold: 1\n",
      "fold: 2\n",
      "fold: 3\n"
     ]
    },
    {
     "name": "stderr",
     "output_type": "stream",
     "text": [
      "/usr/local/lib/python3.4/dist-packages/sklearn/feature_selection/univariate_selection.py:113: UserWarning: Features [    13     99    282 ..., 572662 572677 572704] are constant.\n",
      "  UserWarning)\n"
     ]
    },
    {
     "name": "stdout",
     "output_type": "stream",
     "text": [
      "repetition: 5\n",
      "fold: 1\n",
      "fold: 2\n",
      "fold: 3\n",
      "repetition: 6\n",
      "fold: 1\n",
      "fold: 2\n",
      "fold: 3\n",
      "repetition: 7\n",
      "fold: 1\n",
      "fold: 2\n",
      "fold: 3\n",
      "repetition: 8\n",
      "fold: 1\n",
      "fold: 2\n",
      "fold: 3\n",
      "repetition: 9\n",
      "fold: 1\n",
      "fold: 2\n",
      "fold: 3\n",
      "repetition: 10\n",
      "fold: 1\n",
      "fold: 2\n",
      "fold: 3\n",
      "repetition: 11\n",
      "fold: 1\n",
      "fold: 2\n",
      "fold: 3\n",
      "repetition: 12\n",
      "fold: 1\n",
      "fold: 2\n",
      "fold: 3\n",
      "repetition: 13\n",
      "fold: 1\n",
      "fold: 2\n",
      "fold: 3\n",
      "repetition: 14\n",
      "fold: 1\n"
     ]
    },
    {
     "name": "stderr",
     "output_type": "stream",
     "text": [
      "/usr/local/lib/python3.4/dist-packages/sklearn/feature_selection/univariate_selection.py:113: UserWarning: Features [    13     71     99 ..., 572634 572708 572709] are constant.\n",
      "  UserWarning)\n"
     ]
    },
    {
     "name": "stdout",
     "output_type": "stream",
     "text": [
      "fold: 2\n",
      "fold: 3\n",
      "repetition: 15\n",
      "fold: 1\n",
      "fold: 2\n",
      "fold: 3\n",
      "repetition: 16\n",
      "fold: 1\n",
      "fold: 2\n",
      "fold: 3\n",
      "repetition: 17\n",
      "fold: 1\n",
      "fold: 2\n",
      "fold: 3\n",
      "repetition: 18\n",
      "fold: 1\n",
      "fold: 2\n",
      "fold: 3\n",
      "repetition: 19\n",
      "fold: 1\n",
      "fold: 2\n",
      "fold: 3\n",
      "repetition: 20\n",
      "fold: 1\n",
      "fold: 2\n",
      "fold: 3\n",
      "repetition: 21\n",
      "fold: 1\n",
      "fold: 2\n",
      "fold: 3\n",
      "repetition: 22\n",
      "fold: 1\n",
      "fold: 2\n",
      "fold: 3\n",
      "repetition: 23\n",
      "fold: 1\n",
      "fold: 2\n",
      "fold: 3\n",
      "repetition: 24\n",
      "fold: 1\n",
      "fold: 2\n",
      "fold: 3\n",
      "repetition: 25\n",
      "fold: 1\n",
      "fold: 2\n",
      "fold: 3\n",
      "repetition: 26\n",
      "fold: 1\n",
      "fold: 2\n",
      "fold: 3\n",
      "repetition: 27\n",
      "fold: 1\n"
     ]
    },
    {
     "name": "stderr",
     "output_type": "stream",
     "text": [
      "/usr/local/lib/python3.4/dist-packages/sklearn/feature_selection/univariate_selection.py:113: UserWarning: Features [     5     13     90 ..., 572731 572732 572735] are constant.\n",
      "  UserWarning)\n"
     ]
    },
    {
     "name": "stdout",
     "output_type": "stream",
     "text": [
      "fold: 2\n",
      "fold: 3\n",
      "repetition: 28\n",
      "fold: 1\n",
      "fold: 2\n",
      "fold: 3\n",
      "repetition: 29\n",
      "fold: 1\n",
      "fold: 2\n",
      "fold: 3\n",
      "repetition: 30\n",
      "fold: 1\n",
      "fold: 2\n",
      "fold: 3\n",
      "repetition: 31\n",
      "fold: 1\n",
      "fold: 2\n",
      "fold: 3\n",
      "repetition: 32\n",
      "fold: 1\n"
     ]
    },
    {
     "name": "stderr",
     "output_type": "stream",
     "text": [
      "/usr/local/lib/python3.4/dist-packages/sklearn/feature_selection/univariate_selection.py:113: UserWarning: Features [    13     99    204 ..., 572686 572704 572705] are constant.\n",
      "  UserWarning)\n"
     ]
    },
    {
     "name": "stdout",
     "output_type": "stream",
     "text": [
      "fold: 2\n",
      "fold: 3\n",
      "repetition: 33\n",
      "fold: 1\n",
      "fold: 2\n",
      "fold: 3\n",
      "F_mean: 0.464426014841\n",
      "AUC_mean: 0.577297352594\n",
      "PRECISION_mean: 0.411764705882\n",
      "RECALL_mean: 0.532532532533\n",
      "SPECIFICITY_mean: 0.485094850949\n",
      "percentage: 2.30571717172\n",
      "repetition: 1\n",
      "fold: 1\n",
      "fold: 2\n",
      "fold: 3\n",
      "repetition: 2\n",
      "fold: 1\n",
      "fold: 2\n",
      "fold: 3\n",
      "repetition: 3\n",
      "fold: 1\n",
      "fold: 2\n",
      "fold: 3\n",
      "repetition: 4\n",
      "fold: 1\n",
      "fold: 2\n",
      "fold: 3\n",
      "repetition: 5\n",
      "fold: 1\n",
      "fold: 2\n",
      "fold: 3\n",
      "repetition: 6\n",
      "fold: 1\n",
      "fold: 2\n",
      "fold: 3\n",
      "repetition: 7\n",
      "fold: 1\n",
      "fold: 2\n",
      "fold: 3\n",
      "repetition: 8\n",
      "fold: 1\n",
      "fold: 2\n",
      "fold: 3\n",
      "repetition: 9\n",
      "fold: 1\n",
      "fold: 2\n",
      "fold: 3\n",
      "repetition: 10\n",
      "fold: 1\n",
      "fold: 2\n",
      "fold: 3\n",
      "repetition: 11\n",
      "fold: 1\n",
      "fold: 2\n",
      "fold: 3\n",
      "repetition: 12\n",
      "fold: 1\n",
      "fold: 2\n",
      "fold: 3\n",
      "repetition: 13\n",
      "fold: 1\n",
      "fold: 2\n",
      "fold: 3\n",
      "repetition: 14\n",
      "fold: 1\n",
      "fold: 2\n",
      "fold: 3\n",
      "repetition: 15\n",
      "fold: 1\n",
      "fold: 2\n",
      "fold: 3\n",
      "repetition: 16\n",
      "fold: 1\n",
      "fold: 2\n",
      "fold: 3\n",
      "repetition: 17\n",
      "fold: 1\n",
      "fold: 2\n",
      "fold: 3\n",
      "repetition: 18\n",
      "fold: 1\n",
      "fold: 2\n",
      "fold: 3\n",
      "repetition: 19\n",
      "fold: 1\n",
      "fold: 2\n",
      "fold: 3\n",
      "repetition: 20\n",
      "fold: 1\n",
      "fold: 2\n",
      "fold: 3\n",
      "repetition: 21\n",
      "fold: 1\n",
      "fold: 2\n",
      "fold: 3\n",
      "repetition: 22\n",
      "fold: 1\n",
      "fold: 2\n"
     ]
    },
    {
     "name": "stderr",
     "output_type": "stream",
     "text": [
      "/usr/local/lib/python3.4/dist-packages/sklearn/feature_selection/univariate_selection.py:113: UserWarning: Features [     4     13     72 ..., 572712 572713 572714] are constant.\n",
      "  UserWarning)\n"
     ]
    },
    {
     "name": "stdout",
     "output_type": "stream",
     "text": [
      "fold: 3\n",
      "repetition: 23\n",
      "fold: 1\n",
      "fold: 2\n",
      "fold: 3\n",
      "repetition: 24\n",
      "fold: 1\n",
      "fold: 2\n",
      "fold: 3\n",
      "repetition: 25\n",
      "fold: 1\n",
      "fold: 2\n",
      "fold: 3\n",
      "repetition: 26\n",
      "fold: 1\n",
      "fold: 2\n",
      "fold: 3\n",
      "repetition: 27\n",
      "fold: 1\n",
      "fold: 2\n",
      "fold: 3\n",
      "repetition: 28\n",
      "fold: 1\n",
      "fold: 2\n",
      "fold: 3\n",
      "repetition: 29\n",
      "fold: 1\n",
      "fold: 2\n",
      "fold: 3\n",
      "repetition: 30\n",
      "fold: 1\n",
      "fold: 2\n",
      "fold: 3\n",
      "repetition: 31\n",
      "fold: 1\n",
      "fold: 2\n"
     ]
    },
    {
     "name": "stderr",
     "output_type": "stream",
     "text": [
      "/usr/local/lib/python3.4/dist-packages/sklearn/feature_selection/univariate_selection.py:113: UserWarning: Features [    13     71     90 ..., 572712 572713 572714] are constant.\n",
      "  UserWarning)\n"
     ]
    },
    {
     "name": "stdout",
     "output_type": "stream",
     "text": [
      "fold: 3\n",
      "repetition: 32\n",
      "fold: 1\n",
      "fold: 2\n",
      "fold: 3\n",
      "repetition: 33\n",
      "fold: 1\n",
      "fold: 2\n",
      "fold: 3\n",
      "F_mean: 0.442701525054\n",
      "AUC_mean: 0.581804562798\n",
      "PRECISION_mean: 0.388676358072\n",
      "RECALL_mean: 0.514170040486\n",
      "SPECIFICITY_mean: 0.462676529926\n",
      "percentage: 2.33348484848\n",
      "repetition: 1\n",
      "fold: 1\n",
      "fold: 2\n",
      "fold: 3\n",
      "repetition: 2\n",
      "fold: 1\n",
      "fold: 2\n"
     ]
    },
    {
     "name": "stderr",
     "output_type": "stream",
     "text": [
      "/usr/local/lib/python3.4/dist-packages/sklearn/feature_selection/univariate_selection.py:113: UserWarning: Features [    13     99    288 ..., 572595 572596 572685] are constant.\n",
      "  UserWarning)\n"
     ]
    },
    {
     "name": "stdout",
     "output_type": "stream",
     "text": [
      "fold: 3\n",
      "repetition: 3\n",
      "fold: 1\n",
      "fold: 2\n",
      "fold: 3\n",
      "repetition: 4\n",
      "fold: 1\n",
      "fold: 2\n",
      "fold: 3\n",
      "repetition: 5\n",
      "fold: 1\n",
      "fold: 2\n",
      "fold: 3\n",
      "repetition: 6\n",
      "fold: 1\n",
      "fold: 2\n",
      "fold: 3\n",
      "repetition: 7\n",
      "fold: 1\n",
      "fold: 2\n",
      "fold: 3\n",
      "repetition: 8\n",
      "fold: 1\n",
      "fold: 2\n",
      "fold: 3\n",
      "repetition: 9\n",
      "fold: 1\n",
      "fold: 2\n",
      "fold: 3\n",
      "repetition: 10\n",
      "fold: 1\n",
      "fold: 2\n",
      "fold: 3\n"
     ]
    },
    {
     "name": "stderr",
     "output_type": "stream",
     "text": [
      "/usr/local/lib/python3.4/dist-packages/sklearn/feature_selection/univariate_selection.py:113: UserWarning: Features [     4     13     90 ..., 572686 572704 572705] are constant.\n",
      "  UserWarning)\n"
     ]
    },
    {
     "name": "stdout",
     "output_type": "stream",
     "text": [
      "repetition: 11\n",
      "fold: 1\n",
      "fold: 2\n",
      "fold: 3\n",
      "repetition: 12\n",
      "fold: 1\n",
      "fold: 2\n",
      "fold: 3\n",
      "repetition: 13\n",
      "fold: 1\n",
      "fold: 2\n",
      "fold: 3\n",
      "repetition: 14\n",
      "fold: 1\n",
      "fold: 2\n",
      "fold: 3\n",
      "repetition: 15\n",
      "fold: 1\n",
      "fold: 2\n",
      "fold: 3\n",
      "repetition: 16\n",
      "fold: 1\n",
      "fold: 2\n",
      "fold: 3\n",
      "repetition: 17\n",
      "fold: 1\n",
      "fold: 2\n",
      "fold: 3\n",
      "repetition: 18\n",
      "fold: 1\n",
      "fold: 2\n",
      "fold: 3\n",
      "repetition: 19\n",
      "fold: 1\n",
      "fold: 2\n",
      "fold: 3\n",
      "repetition: 20\n",
      "fold: 1\n",
      "fold: 2\n",
      "fold: 3\n",
      "repetition: 21\n",
      "fold: 1\n",
      "fold: 2\n",
      "fold: 3\n",
      "repetition: 22\n",
      "fold: 1\n",
      "fold: 2\n",
      "fold: 3\n",
      "repetition: 23\n",
      "fold: 1\n",
      "fold: 2\n",
      "fold: 3\n",
      "repetition: 24\n",
      "fold: 1\n",
      "fold: 2\n",
      "fold: 3\n",
      "repetition: 25\n",
      "fold: 1\n",
      "fold: 2\n",
      "fold: 3\n",
      "repetition: 26\n",
      "fold: 1\n",
      "fold: 2\n",
      "fold: 3\n",
      "repetition: 27\n",
      "fold: 1\n",
      "fold: 2\n",
      "fold: 3\n",
      "repetition: 28\n",
      "fold: 1\n",
      "fold: 2\n",
      "fold: 3\n",
      "repetition: 29\n",
      "fold: 1\n",
      "fold: 2\n",
      "fold: 3\n",
      "repetition: 30\n",
      "fold: 1\n",
      "fold: 2\n",
      "fold: 3\n",
      "repetition: 31\n",
      "fold: 1\n",
      "fold: 2\n",
      "fold: 3\n",
      "repetition: 32\n",
      "fold: 1\n",
      "fold: 2\n",
      "fold: 3\n",
      "repetition: 33\n",
      "fold: 1\n",
      "fold: 2\n",
      "fold: 3\n",
      "F_mean: 0.42888024211\n",
      "AUC_mean: 0.586189879078\n",
      "PRECISION_mean: 0.375473126419\n",
      "RECALL_mean: 0.5\n",
      "SPECIFICITY_mean: 0.443695212407\n",
      "percentage: 2.36125252525\n",
      "repetition: 1\n",
      "fold: 1\n",
      "fold: 2\n",
      "fold: 3\n",
      "repetition: 2\n",
      "fold: 1\n",
      "fold: 2\n"
     ]
    },
    {
     "name": "stderr",
     "output_type": "stream",
     "text": [
      "/usr/local/lib/python3.4/dist-packages/sklearn/feature_selection/univariate_selection.py:113: UserWarning: Features [     4     13     80 ..., 572454 572473 572685] are constant.\n",
      "  UserWarning)\n"
     ]
    },
    {
     "name": "stdout",
     "output_type": "stream",
     "text": [
      "fold: 3\n",
      "repetition: 3\n",
      "fold: 1\n",
      "fold: 2\n"
     ]
    },
    {
     "name": "stderr",
     "output_type": "stream",
     "text": [
      "/usr/local/lib/python3.4/dist-packages/sklearn/feature_selection/univariate_selection.py:113: UserWarning: Features [     5     13     80 ..., 572728 572729 572730] are constant.\n",
      "  UserWarning)\n"
     ]
    },
    {
     "name": "stdout",
     "output_type": "stream",
     "text": [
      "fold: 3\n",
      "repetition: 4\n",
      "fold: 1\n",
      "fold: 2\n",
      "fold: 3\n",
      "repetition: 5\n",
      "fold: 1\n",
      "fold: 2\n",
      "fold: 3\n",
      "repetition: 6\n",
      "fold: 1\n",
      "fold: 2\n",
      "fold: 3\n",
      "repetition: 7\n",
      "fold: 1\n",
      "fold: 2\n",
      "fold: 3\n",
      "repetition: 8\n",
      "fold: 1\n",
      "fold: 2\n",
      "fold: 3\n",
      "repetition: 9\n",
      "fold: 1\n",
      "fold: 2\n",
      "fold: 3\n",
      "repetition: 10\n",
      "fold: 1\n",
      "fold: 2\n",
      "fold: 3\n",
      "repetition: 11\n",
      "fold: 1\n",
      "fold: 2\n"
     ]
    },
    {
     "name": "stderr",
     "output_type": "stream",
     "text": [
      "/usr/local/lib/python3.4/dist-packages/sklearn/feature_selection/univariate_selection.py:113: UserWarning: Features [     0      4     13 ..., 572728 572729 572730] are constant.\n",
      "  UserWarning)\n"
     ]
    },
    {
     "name": "stdout",
     "output_type": "stream",
     "text": [
      "fold: 3\n",
      "repetition: 12\n",
      "fold: 1\n",
      "fold: 2\n",
      "fold: 3\n"
     ]
    },
    {
     "name": "stderr",
     "output_type": "stream",
     "text": [
      "/usr/local/lib/python3.4/dist-packages/sklearn/feature_selection/univariate_selection.py:113: UserWarning: Features [    13     90     99 ..., 572553 572576 572685] are constant.\n",
      "  UserWarning)\n"
     ]
    },
    {
     "name": "stdout",
     "output_type": "stream",
     "text": [
      "repetition: 13\n",
      "fold: 1\n",
      "fold: 2\n",
      "fold: 3\n",
      "repetition: 14\n",
      "fold: 1\n",
      "fold: 2\n",
      "fold: 3\n",
      "repetition: 15\n",
      "fold: 1\n",
      "fold: 2\n",
      "fold: 3\n",
      "repetition: 16\n",
      "fold: 1\n",
      "fold: 2\n",
      "fold: 3\n",
      "repetition: 17\n",
      "fold: 1\n",
      "fold: 2\n",
      "fold: 3\n",
      "repetition: 18\n",
      "fold: 1\n",
      "fold: 2\n",
      "fold: 3\n",
      "repetition: 19\n",
      "fold: 1\n",
      "fold: 2\n",
      "fold: 3\n",
      "repetition: 20\n",
      "fold: 1\n",
      "fold: 2\n",
      "fold: 3\n",
      "repetition: 21\n",
      "fold: 1\n"
     ]
    },
    {
     "name": "stderr",
     "output_type": "stream",
     "text": [
      "/usr/local/lib/python3.4/dist-packages/sklearn/feature_selection/univariate_selection.py:113: UserWarning: Features [    13     99    178 ..., 572528 572670 572685] are constant.\n",
      "  UserWarning)\n"
     ]
    },
    {
     "name": "stdout",
     "output_type": "stream",
     "text": [
      "fold: 2\n",
      "fold: 3\n",
      "repetition: 22\n",
      "fold: 1\n",
      "fold: 2\n",
      "fold: 3\n",
      "repetition: 23\n",
      "fold: 1\n",
      "fold: 2\n",
      "fold: 3\n",
      "repetition: 24\n",
      "fold: 1\n",
      "fold: 2\n",
      "fold: 3\n",
      "repetition: 25\n",
      "fold: 1\n",
      "fold: 2\n",
      "fold: 3\n",
      "repetition: 26\n",
      "fold: 1\n",
      "fold: 2\n",
      "fold: 3\n",
      "repetition: 27\n",
      "fold: 1\n",
      "fold: 2\n",
      "fold: 3\n",
      "repetition: 28\n",
      "fold: 1\n",
      "fold: 2\n",
      "fold: 3\n",
      "repetition: 29\n",
      "fold: 1\n",
      "fold: 2\n",
      "fold: 3\n",
      "repetition: 30\n",
      "fold: 1\n",
      "fold: 2\n",
      "fold: 3\n",
      "repetition: 31\n",
      "fold: 1\n",
      "fold: 2\n",
      "fold: 3\n",
      "repetition: 32\n",
      "fold: 1\n",
      "fold: 2\n",
      "fold: 3\n",
      "repetition: 33\n",
      "fold: 1\n",
      "fold: 2\n",
      "fold: 3\n",
      "F_mean: 0.437802197802\n",
      "AUC_mean: 0.590799667748\n",
      "PRECISION_mean: 0.387247278383\n",
      "RECALL_mean: 0.50353892821\n",
      "SPECIFICITY_mean: 0.469717362046\n",
      "percentage: 2.38902020202\n",
      "repetition: 1\n",
      "fold: 1\n",
      "fold: 2\n",
      "fold: 3\n",
      "repetition: 2\n",
      "fold: 1\n",
      "fold: 2\n",
      "fold: 3\n",
      "repetition: 3\n",
      "fold: 1\n",
      "fold: 2\n",
      "fold: 3\n",
      "repetition: 4\n",
      "fold: 1\n",
      "fold: 2\n",
      "fold: 3\n",
      "repetition: 5\n",
      "fold: 1\n",
      "fold: 2\n",
      "fold: 3\n",
      "repetition: 6\n",
      "fold: 1\n",
      "fold: 2\n",
      "fold: 3\n",
      "repetition: 7\n",
      "fold: 1\n",
      "fold: 2\n"
     ]
    },
    {
     "name": "stderr",
     "output_type": "stream",
     "text": [
      "/usr/local/lib/python3.4/dist-packages/sklearn/feature_selection/univariate_selection.py:113: UserWarning: Features [    13     99    274 ..., 572615 572662 572677] are constant.\n",
      "  UserWarning)\n"
     ]
    },
    {
     "name": "stdout",
     "output_type": "stream",
     "text": [
      "fold: 3\n",
      "repetition: 8\n",
      "fold: 1\n",
      "fold: 2\n",
      "fold: 3\n",
      "repetition: 9\n",
      "fold: 1\n",
      "fold: 2\n",
      "fold: 3\n",
      "repetition: 10\n",
      "fold: 1\n",
      "fold: 2\n"
     ]
    },
    {
     "name": "stderr",
     "output_type": "stream",
     "text": [
      "/usr/local/lib/python3.4/dist-packages/sklearn/feature_selection/univariate_selection.py:113: UserWarning: Features [    13     71     72 ..., 572731 572732 572735] are constant.\n",
      "  UserWarning)\n"
     ]
    },
    {
     "name": "stdout",
     "output_type": "stream",
     "text": [
      "fold: 3\n",
      "repetition: 11\n",
      "fold: 1\n",
      "fold: 2\n",
      "fold: 3\n",
      "repetition: 12\n",
      "fold: 1\n",
      "fold: 2\n",
      "fold: 3\n",
      "repetition: 13\n",
      "fold: 1\n",
      "fold: 2\n",
      "fold: 3\n",
      "repetition: 14\n",
      "fold: 1\n",
      "fold: 2\n",
      "fold: 3\n",
      "repetition: 15\n",
      "fold: 1\n",
      "fold: 2\n",
      "fold: 3\n",
      "repetition: 16\n",
      "fold: 1\n",
      "fold: 2\n",
      "fold: 3\n",
      "repetition: 17\n",
      "fold: 1\n",
      "fold: 2\n",
      "fold: 3\n",
      "repetition: 18\n",
      "fold: 1\n",
      "fold: 2\n",
      "fold: 3\n",
      "repetition: 19\n",
      "fold: 1\n",
      "fold: 2\n",
      "fold: 3\n",
      "repetition: 20\n",
      "fold: 1\n",
      "fold: 2\n"
     ]
    },
    {
     "name": "stderr",
     "output_type": "stream",
     "text": [
      "/usr/local/lib/python3.4/dist-packages/sklearn/feature_selection/univariate_selection.py:113: UserWarning: Features [    13     99    178 ..., 572703 572704 572705] are constant.\n",
      "  UserWarning)\n"
     ]
    },
    {
     "name": "stdout",
     "output_type": "stream",
     "text": [
      "fold: 3\n",
      "repetition: 21\n",
      "fold: 1\n",
      "fold: 2\n",
      "fold: 3\n",
      "repetition: 22\n",
      "fold: 1\n",
      "fold: 2\n",
      "fold: 3\n"
     ]
    },
    {
     "name": "stderr",
     "output_type": "stream",
     "text": [
      "/usr/local/lib/python3.4/dist-packages/sklearn/feature_selection/univariate_selection.py:113: UserWarning: Features [    13     99    149 ..., 572670 572677 572685] are constant.\n",
      "  UserWarning)\n"
     ]
    },
    {
     "name": "stdout",
     "output_type": "stream",
     "text": [
      "repetition: 23\n",
      "fold: 1\n",
      "fold: 2\n",
      "fold: 3\n",
      "repetition: 24\n",
      "fold: 1\n",
      "fold: 2\n",
      "fold: 3\n",
      "repetition: 25\n",
      "fold: 1\n",
      "fold: 2\n",
      "fold: 3\n",
      "repetition: 26\n",
      "fold: 1\n",
      "fold: 2\n",
      "fold: 3\n",
      "repetition: 27\n",
      "fold: 1\n",
      "fold: 2\n",
      "fold: 3\n",
      "repetition: 28\n",
      "fold: 1\n",
      "fold: 2\n",
      "fold: 3\n",
      "repetition: 29\n",
      "fold: 1\n",
      "fold: 2\n",
      "fold: 3\n",
      "repetition: 30\n",
      "fold: 1\n",
      "fold: 2\n",
      "fold: 3\n",
      "repetition: 31\n",
      "fold: 1\n",
      "fold: 2\n",
      "fold: 3\n",
      "repetition: 32\n",
      "fold: 1\n",
      "fold: 2\n",
      "fold: 3\n",
      "repetition: 33\n",
      "fold: 1\n",
      "fold: 2\n",
      "fold: 3\n",
      "F_mean: 0.457995735608\n",
      "AUC_mean: 0.578757784225\n",
      "PRECISION_mean: 0.405589123867\n",
      "RECALL_mean: 0.525954946131\n",
      "SPECIFICITY_mean: 0.458734525447\n",
      "percentage: 2.41678787879\n",
      "repetition: 1\n",
      "fold: 1\n",
      "fold: 2\n",
      "fold: 3\n",
      "repetition: 2\n",
      "fold: 1\n",
      "fold: 2\n",
      "fold: 3\n",
      "repetition: 3\n",
      "fold: 1\n",
      "fold: 2\n",
      "fold: 3\n",
      "repetition: 4\n",
      "fold: 1\n",
      "fold: 2\n"
     ]
    },
    {
     "name": "stderr",
     "output_type": "stream",
     "text": [
      "/usr/local/lib/python3.4/dist-packages/sklearn/feature_selection/univariate_selection.py:113: UserWarning: Features [     4     13     90 ..., 572685 572708 572709] are constant.\n",
      "  UserWarning)\n"
     ]
    },
    {
     "name": "stdout",
     "output_type": "stream",
     "text": [
      "fold: 3\n",
      "repetition: 5\n",
      "fold: 1\n",
      "fold: 2\n",
      "fold: 3\n",
      "repetition: 6\n",
      "fold: 1\n",
      "fold: 2\n",
      "fold: 3\n",
      "repetition: 7\n",
      "fold: 1\n",
      "fold: 2\n",
      "fold: 3\n",
      "repetition: 8\n",
      "fold: 1\n",
      "fold: 2\n",
      "fold: 3\n",
      "repetition: 9\n",
      "fold: 1\n",
      "fold: 2\n",
      "fold: 3\n",
      "repetition: 10\n",
      "fold: 1\n",
      "fold: 2\n",
      "fold: 3\n",
      "repetition: 11\n",
      "fold: 1\n",
      "fold: 2\n",
      "fold: 3\n",
      "repetition: 12\n",
      "fold: 1\n",
      "fold: 2\n",
      "fold: 3\n",
      "repetition: 13\n",
      "fold: 1\n",
      "fold: 2\n",
      "fold: 3\n",
      "repetition: 14\n",
      "fold: 1\n",
      "fold: 2\n",
      "fold: 3\n",
      "repetition: 15\n",
      "fold: 1\n",
      "fold: 2\n",
      "fold: 3\n",
      "repetition: 16\n",
      "fold: 1\n",
      "fold: 2\n",
      "fold: 3\n",
      "repetition: 17\n",
      "fold: 1\n",
      "fold: 2\n",
      "fold: 3\n",
      "repetition: 18\n",
      "fold: 1\n",
      "fold: 2\n",
      "fold: 3\n",
      "repetition: 19\n",
      "fold: 1\n",
      "fold: 2\n",
      "fold: 3\n",
      "repetition: 20\n",
      "fold: 1\n",
      "fold: 2\n",
      "fold: 3\n",
      "repetition: 21\n",
      "fold: 1\n",
      "fold: 2\n",
      "fold: 3\n",
      "repetition: 22\n",
      "fold: 1\n",
      "fold: 2\n",
      "fold: 3\n",
      "repetition: 23\n",
      "fold: 1\n",
      "fold: 2\n",
      "fold: 3\n",
      "repetition: 24\n",
      "fold: 1\n",
      "fold: 2\n",
      "fold: 3\n",
      "repetition: 25\n",
      "fold: 1\n",
      "fold: 2\n",
      "fold: 3\n",
      "repetition: 26\n",
      "fold: 1\n",
      "fold: 2\n",
      "fold: 3\n",
      "repetition: 27\n",
      "fold: 1\n",
      "fold: 2\n",
      "fold: 3\n",
      "repetition: 28\n",
      "fold: 1\n",
      "fold: 2\n",
      "fold: 3\n",
      "repetition: 29\n",
      "fold: 1\n",
      "fold: 2\n",
      "fold: 3\n",
      "repetition: 30\n",
      "fold: 1\n",
      "fold: 2\n",
      "fold: 3\n",
      "repetition: 31\n",
      "fold: 1\n",
      "fold: 2\n",
      "fold: 3\n",
      "repetition: 32\n",
      "fold: 1\n",
      "fold: 2\n",
      "fold: 3\n",
      "repetition: 33\n",
      "fold: 1\n",
      "fold: 2\n",
      "fold: 3\n",
      "F_mean: 0.475942782835\n",
      "AUC_mean: 0.625942014004\n",
      "PRECISION_mean: 0.416540212443\n",
      "RECALL_mean: 0.555106167846\n",
      "SPECIFICITY_mean: 0.482503364738\n",
      "percentage: 2.44455555556\n",
      "repetition: 1\n",
      "fold: 1\n",
      "fold: 2\n",
      "fold: 3\n",
      "repetition: 2\n",
      "fold: 1\n",
      "fold: 2\n",
      "fold: 3\n",
      "repetition: 3\n",
      "fold: 1\n",
      "fold: 2\n",
      "fold: 3\n",
      "repetition: 4\n",
      "fold: 1\n",
      "fold: 2\n",
      "fold: 3\n",
      "repetition: 5\n",
      "fold: 1\n",
      "fold: 2\n",
      "fold: 3\n",
      "repetition: 6\n",
      "fold: 1\n",
      "fold: 2\n",
      "fold: 3\n",
      "repetition: 7\n",
      "fold: 1\n",
      "fold: 2\n",
      "fold: 3\n",
      "repetition: 8\n",
      "fold: 1\n",
      "fold: 2\n",
      "fold: 3\n",
      "repetition: 9\n",
      "fold: 1\n",
      "fold: 2\n",
      "fold: 3\n",
      "repetition: 10\n",
      "fold: 1\n",
      "fold: 2\n",
      "fold: 3\n",
      "repetition: 11\n",
      "fold: 1\n",
      "fold: 2\n",
      "fold: 3\n",
      "repetition: 12\n",
      "fold: 1\n",
      "fold: 2\n",
      "fold: 3\n",
      "repetition: 13\n",
      "fold: 1\n",
      "fold: 2\n",
      "fold: 3\n",
      "repetition: 14\n",
      "fold: 1\n",
      "fold: 2\n",
      "fold: 3\n",
      "repetition: 15\n",
      "fold: 1\n",
      "fold: 2\n",
      "fold: 3\n",
      "repetition: 16\n",
      "fold: 1\n",
      "fold: 2\n",
      "fold: 3\n",
      "repetition: 17\n",
      "fold: 1\n",
      "fold: 2\n",
      "fold: 3\n",
      "repetition: 18\n",
      "fold: 1\n",
      "fold: 2\n",
      "fold: 3\n",
      "repetition: 19\n",
      "fold: 1\n",
      "fold: 2\n",
      "fold: 3\n",
      "repetition: 20\n",
      "fold: 1\n",
      "fold: 2\n",
      "fold: 3\n",
      "repetition: 21\n",
      "fold: 1\n",
      "fold: 2\n",
      "fold: 3\n"
     ]
    },
    {
     "name": "stderr",
     "output_type": "stream",
     "text": [
      "/usr/local/lib/python3.4/dist-packages/sklearn/feature_selection/univariate_selection.py:113: UserWarning: Features [    13     99    349 ..., 572720 572721 572722] are constant.\n",
      "  UserWarning)\n"
     ]
    },
    {
     "name": "stdout",
     "output_type": "stream",
     "text": [
      "repetition: 22\n",
      "fold: 1\n"
     ]
    },
    {
     "name": "stderr",
     "output_type": "stream",
     "text": [
      "/usr/local/lib/python3.4/dist-packages/sklearn/feature_selection/univariate_selection.py:113: UserWarning: Features [    13     80     85 ..., 572536 572554 572704] are constant.\n",
      "  UserWarning)\n"
     ]
    },
    {
     "name": "stdout",
     "output_type": "stream",
     "text": [
      "fold: 2\n",
      "fold: 3\n",
      "repetition: 23\n",
      "fold: 1\n"
     ]
    },
    {
     "name": "stderr",
     "output_type": "stream",
     "text": [
      "/usr/local/lib/python3.4/dist-packages/sklearn/feature_selection/univariate_selection.py:113: UserWarning: Features [    13     99    288 ..., 572594 572595 572596] are constant.\n",
      "  UserWarning)\n"
     ]
    },
    {
     "name": "stdout",
     "output_type": "stream",
     "text": [
      "fold: 2\n",
      "fold: 3\n",
      "repetition: 24\n",
      "fold: 1\n",
      "fold: 2\n",
      "fold: 3\n",
      "repetition: 25\n",
      "fold: 1\n"
     ]
    },
    {
     "name": "stderr",
     "output_type": "stream",
     "text": [
      "/usr/local/lib/python3.4/dist-packages/sklearn/feature_selection/univariate_selection.py:113: UserWarning: Features [    13     71     80 ..., 572704 572708 572709] are constant.\n",
      "  UserWarning)\n"
     ]
    },
    {
     "name": "stdout",
     "output_type": "stream",
     "text": [
      "fold: 2\n",
      "fold: 3\n",
      "repetition: 26\n",
      "fold: 1\n",
      "fold: 2\n"
     ]
    },
    {
     "name": "stderr",
     "output_type": "stream",
     "text": [
      "/usr/local/lib/python3.4/dist-packages/sklearn/feature_selection/univariate_selection.py:113: UserWarning: Features [    13     80     85 ..., 572553 572576 572684] are constant.\n",
      "  UserWarning)\n"
     ]
    },
    {
     "name": "stdout",
     "output_type": "stream",
     "text": [
      "fold: 3\n",
      "repetition: 27\n",
      "fold: 1\n",
      "fold: 2\n",
      "fold: 3\n",
      "repetition: 28\n",
      "fold: 1\n"
     ]
    },
    {
     "name": "stderr",
     "output_type": "stream",
     "text": [
      "/usr/local/lib/python3.4/dist-packages/sklearn/feature_selection/univariate_selection.py:113: UserWarning: Features [     4     13     90 ..., 572480 572509 572553] are constant.\n",
      "  UserWarning)\n"
     ]
    },
    {
     "name": "stdout",
     "output_type": "stream",
     "text": [
      "fold: 2\n",
      "fold: 3\n",
      "repetition: 29\n",
      "fold: 1\n",
      "fold: 2\n",
      "fold: 3\n",
      "repetition: 30\n",
      "fold: 1\n",
      "fold: 2\n",
      "fold: 3\n",
      "repetition: 31\n",
      "fold: 1\n",
      "fold: 2\n",
      "fold: 3\n",
      "repetition: 32\n",
      "fold: 1\n",
      "fold: 2\n",
      "fold: 3\n",
      "repetition: 33\n",
      "fold: 1\n",
      "fold: 2\n",
      "fold: 3\n",
      "F_mean: 0.410460992908\n",
      "AUC_mean: 0.57246177734\n",
      "PRECISION_mean: 0.362284820031\n",
      "RECALL_mean: 0.473415132924\n",
      "SPECIFICITY_mean: 0.455577822311\n",
      "percentage: 2.47232323232\n",
      "repetition: 1\n",
      "fold: 1\n",
      "fold: 2\n",
      "fold: 3\n",
      "repetition: 2\n",
      "fold: 1\n",
      "fold: 2\n",
      "fold: 3\n",
      "repetition: 3\n",
      "fold: 1\n",
      "fold: 2\n",
      "fold: 3\n",
      "repetition: 4\n",
      "fold: 1\n",
      "fold: 2\n",
      "fold: 3\n",
      "repetition: 5\n",
      "fold: 1\n",
      "fold: 2\n",
      "fold: 3\n",
      "repetition: 6\n",
      "fold: 1\n",
      "fold: 2\n",
      "fold: 3\n",
      "repetition: 7\n",
      "fold: 1\n",
      "fold: 2\n",
      "fold: 3\n",
      "repetition: 8\n",
      "fold: 1\n",
      "fold: 2\n",
      "fold: 3\n",
      "repetition: 9\n",
      "fold: 1\n",
      "fold: 2\n",
      "fold: 3\n",
      "repetition: 10\n",
      "fold: 1\n",
      "fold: 2\n",
      "fold: 3\n",
      "repetition: 11\n",
      "fold: 1\n",
      "fold: 2\n",
      "fold: 3\n",
      "repetition: 12\n",
      "fold: 1\n",
      "fold: 2\n",
      "fold: 3\n",
      "repetition: 13\n",
      "fold: 1\n",
      "fold: 2\n",
      "fold: 3\n",
      "repetition: 14\n",
      "fold: 1\n",
      "fold: 2\n",
      "fold: 3\n",
      "repetition: 15\n",
      "fold: 1\n",
      "fold: 2\n",
      "fold: 3\n",
      "repetition: 16\n",
      "fold: 1\n",
      "fold: 2\n",
      "fold: 3\n",
      "repetition: 17\n",
      "fold: 1\n",
      "fold: 2\n",
      "fold: 3\n",
      "repetition: 18\n",
      "fold: 1\n",
      "fold: 2\n",
      "fold: 3\n",
      "repetition: 19\n",
      "fold: 1\n",
      "fold: 2\n",
      "fold: 3\n",
      "repetition: 20\n",
      "fold: 1\n",
      "fold: 2\n",
      "fold: 3\n",
      "repetition: 21\n",
      "fold: 1\n",
      "fold: 2\n",
      "fold: 3\n",
      "repetition: 22\n",
      "fold: 1\n",
      "fold: 2\n",
      "fold: 3\n",
      "repetition: 23\n",
      "fold: 1\n",
      "fold: 2\n",
      "fold: 3\n",
      "repetition: 24\n",
      "fold: 1\n",
      "fold: 2\n",
      "fold: 3\n",
      "repetition: 25\n",
      "fold: 1\n",
      "fold: 2\n",
      "fold: 3\n",
      "repetition: 26\n",
      "fold: 1\n",
      "fold: 2\n",
      "fold: 3\n",
      "repetition: 27\n",
      "fold: 1\n",
      "fold: 2\n",
      "fold: 3\n",
      "repetition: 28\n",
      "fold: 1\n",
      "fold: 2\n",
      "fold: 3\n",
      "repetition: 29\n",
      "fold: 1\n",
      "fold: 2\n",
      "fold: 3\n",
      "repetition: 30\n",
      "fold: 1\n",
      "fold: 2\n",
      "fold: 3\n",
      "repetition: 31\n",
      "fold: 1\n",
      "fold: 2\n",
      "fold: 3\n",
      "repetition: 32\n",
      "fold: 1\n",
      "fold: 2\n",
      "fold: 3\n",
      "repetition: 33\n",
      "fold: 1\n",
      "fold: 2\n",
      "fold: 3\n"
     ]
    },
    {
     "name": "stderr",
     "output_type": "stream",
     "text": [
      "/usr/local/lib/python3.4/dist-packages/sklearn/feature_selection/univariate_selection.py:113: UserWarning: Features [    13     99    274 ..., 572707 572708 572709] are constant.\n",
      "  UserWarning)\n"
     ]
    },
    {
     "name": "stdout",
     "output_type": "stream",
     "text": [
      "F_mean: 0.442132639792\n",
      "AUC_mean: 0.585386779134\n",
      "PRECISION_mean: 0.386071158213\n",
      "RECALL_mean: 0.51724137931\n",
      "SPECIFICITY_mean: 0.455339153794\n",
      "percentage: 2.50009090909\n",
      "repetition: 1\n",
      "fold: 1\n",
      "fold: 2\n",
      "fold: 3\n"
     ]
    },
    {
     "name": "stderr",
     "output_type": "stream",
     "text": [
      "/usr/local/lib/python3.4/dist-packages/sklearn/feature_selection/univariate_selection.py:113: UserWarning: Features [    13     80     85 ..., 572528 572684 572704] are constant.\n",
      "  UserWarning)\n"
     ]
    },
    {
     "name": "stdout",
     "output_type": "stream",
     "text": [
      "repetition: 2\n",
      "fold: 1\n",
      "fold: 2\n",
      "fold: 3\n",
      "repetition: 3\n",
      "fold: 1\n"
     ]
    },
    {
     "name": "stderr",
     "output_type": "stream",
     "text": [
      "/usr/local/lib/python3.4/dist-packages/sklearn/feature_selection/univariate_selection.py:113: UserWarning: Features [    13     99    178 ..., 572471 572472 572553] are constant.\n",
      "  UserWarning)\n"
     ]
    },
    {
     "name": "stdout",
     "output_type": "stream",
     "text": [
      "fold: 2\n",
      "fold: 3\n",
      "repetition: 4\n",
      "fold: 1\n",
      "fold: 2\n",
      "fold: 3\n",
      "repetition: 5\n",
      "fold: 1\n",
      "fold: 2\n",
      "fold: 3\n",
      "repetition: 6\n",
      "fold: 1\n",
      "fold: 2\n",
      "fold: 3\n",
      "repetition: 7\n",
      "fold: 1\n"
     ]
    },
    {
     "name": "stderr",
     "output_type": "stream",
     "text": [
      "/usr/local/lib/python3.4/dist-packages/sklearn/feature_selection/univariate_selection.py:113: UserWarning: Features [    13     99    282 ..., 572554 572604 572605] are constant.\n",
      "  UserWarning)\n"
     ]
    },
    {
     "name": "stdout",
     "output_type": "stream",
     "text": [
      "fold: 2\n",
      "fold: 3\n",
      "repetition: 8\n",
      "fold: 1\n",
      "fold: 2\n",
      "fold: 3\n",
      "repetition: 9\n",
      "fold: 1\n",
      "fold: 2\n",
      "fold: 3\n",
      "repetition: 10\n",
      "fold: 1\n",
      "fold: 2\n",
      "fold: 3\n",
      "repetition: 11\n",
      "fold: 1\n",
      "fold: 2\n",
      "fold: 3\n",
      "repetition: 12\n",
      "fold: 1\n",
      "fold: 2\n",
      "fold: 3\n",
      "repetition: 13\n",
      "fold: 1\n",
      "fold: 2\n",
      "fold: 3\n",
      "repetition: 14\n",
      "fold: 1\n",
      "fold: 2\n",
      "fold: 3\n",
      "repetition: 15\n",
      "fold: 1\n",
      "fold: 2\n"
     ]
    },
    {
     "name": "stderr",
     "output_type": "stream",
     "text": [
      "/usr/local/lib/python3.4/dist-packages/sklearn/feature_selection/univariate_selection.py:113: UserWarning: Features [    13     99    178 ..., 572528 572536 572554] are constant.\n",
      "  UserWarning)\n"
     ]
    },
    {
     "name": "stdout",
     "output_type": "stream",
     "text": [
      "fold: 3\n",
      "repetition: 16\n",
      "fold: 1\n",
      "fold: 2\n",
      "fold: 3\n",
      "repetition: 17\n",
      "fold: 1\n",
      "fold: 2\n",
      "fold: 3\n",
      "repetition: 18\n",
      "fold: 1\n",
      "fold: 2\n",
      "fold: 3\n",
      "repetition: 19\n",
      "fold: 1\n",
      "fold: 2\n",
      "fold: 3\n",
      "repetition: 20\n",
      "fold: 1\n",
      "fold: 2\n",
      "fold: 3\n",
      "repetition: 21\n",
      "fold: 1\n",
      "fold: 2\n",
      "fold: 3\n",
      "repetition: 22\n",
      "fold: 1\n",
      "fold: 2\n",
      "fold: 3\n",
      "repetition: 23\n",
      "fold: 1\n",
      "fold: 2\n",
      "fold: 3\n",
      "repetition: 24\n",
      "fold: 1\n",
      "fold: 2\n",
      "fold: 3\n",
      "repetition: 25\n",
      "fold: 1\n",
      "fold: 2\n",
      "fold: 3\n",
      "repetition: 26\n",
      "fold: 1\n",
      "fold: 2\n",
      "fold: 3\n",
      "repetition: 27\n",
      "fold: 1\n",
      "fold: 2\n",
      "fold: 3\n",
      "repetition: 28\n",
      "fold: 1\n",
      "fold: 2\n",
      "fold: 3\n",
      "repetition: 29\n",
      "fold: 1\n",
      "fold: 2\n",
      "fold: 3\n",
      "repetition: 30\n",
      "fold: 1\n",
      "fold: 2\n",
      "fold: 3\n",
      "repetition: 31\n",
      "fold: 1\n",
      "fold: 2\n",
      "fold: 3\n",
      "repetition: 32\n",
      "fold: 1\n",
      "fold: 2\n",
      "fold: 3\n",
      "repetition: 33\n",
      "fold: 1\n"
     ]
    },
    {
     "name": "stderr",
     "output_type": "stream",
     "text": [
      "/usr/local/lib/python3.4/dist-packages/sklearn/feature_selection/univariate_selection.py:113: UserWarning: Features [    13     99    264 ..., 572677 572704 572705] are constant.\n",
      "  UserWarning)\n"
     ]
    },
    {
     "name": "stdout",
     "output_type": "stream",
     "text": [
      "fold: 2\n",
      "fold: 3\n",
      "F_mean: 0.445302445302\n",
      "AUC_mean: 0.585509424213\n",
      "PRECISION_mean: 0.389055472264\n",
      "RECALL_mean: 0.520561685055\n",
      "SPECIFICITY_mean: 0.448579161028\n",
      "percentage: 2.52785858586\n",
      "repetition: 1\n",
      "fold: 1\n",
      "fold: 2\n",
      "fold: 3\n",
      "repetition: 2\n",
      "fold: 1\n"
     ]
    },
    {
     "name": "stderr",
     "output_type": "stream",
     "text": [
      "/usr/local/lib/python3.4/dist-packages/sklearn/feature_selection/univariate_selection.py:113: UserWarning: Features [     5     13     99 ..., 572704 572708 572709] are constant.\n",
      "  UserWarning)\n"
     ]
    },
    {
     "name": "stdout",
     "output_type": "stream",
     "text": [
      "fold: 2\n",
      "fold: 3\n",
      "repetition: 3\n",
      "fold: 1\n",
      "fold: 2\n",
      "fold: 3\n",
      "repetition: 4\n",
      "fold: 1\n",
      "fold: 2\n",
      "fold: 3\n",
      "repetition: 5\n",
      "fold: 1\n",
      "fold: 2\n",
      "fold: 3\n",
      "repetition: 6\n",
      "fold: 1\n",
      "fold: 2\n",
      "fold: 3\n",
      "repetition: 7\n",
      "fold: 1\n",
      "fold: 2\n",
      "fold: 3\n",
      "repetition: 8\n",
      "fold: 1\n",
      "fold: 2\n",
      "fold: 3\n",
      "repetition: 9\n",
      "fold: 1\n",
      "fold: 2\n",
      "fold: 3\n",
      "repetition: 10\n",
      "fold: 1\n",
      "fold: 2\n",
      "fold: 3\n",
      "repetition: 11\n",
      "fold: 1\n",
      "fold: 2\n",
      "fold: 3\n",
      "repetition: 12\n",
      "fold: 1\n",
      "fold: 2\n",
      "fold: 3\n",
      "repetition: 13\n",
      "fold: 1\n",
      "fold: 2\n",
      "fold: 3\n",
      "repetition: 14\n",
      "fold: 1\n",
      "fold: 2\n",
      "fold: 3\n",
      "repetition: 15\n",
      "fold: 1\n",
      "fold: 2\n",
      "fold: 3\n",
      "repetition: 16\n",
      "fold: 1\n",
      "fold: 2\n",
      "fold: 3\n",
      "repetition: 17\n",
      "fold: 1\n",
      "fold: 2\n",
      "fold: 3\n",
      "repetition: 18\n",
      "fold: 1\n",
      "fold: 2\n",
      "fold: 3\n",
      "repetition: 19\n",
      "fold: 1\n",
      "fold: 2\n",
      "fold: 3\n",
      "repetition: 20\n",
      "fold: 1\n",
      "fold: 2\n",
      "fold: 3\n",
      "repetition: 21\n",
      "fold: 1\n",
      "fold: 2\n",
      "fold: 3\n",
      "repetition: 22\n",
      "fold: 1\n",
      "fold: 2\n",
      "fold: 3\n",
      "repetition: 23\n",
      "fold: 1\n",
      "fold: 2\n",
      "fold: 3\n",
      "repetition: 24\n",
      "fold: 1\n",
      "fold: 2\n",
      "fold: 3\n",
      "repetition: 25\n",
      "fold: 1\n",
      "fold: 2\n",
      "fold: 3\n",
      "repetition: 26\n",
      "fold: 1\n",
      "fold: 2\n"
     ]
    },
    {
     "name": "stderr",
     "output_type": "stream",
     "text": [
      "/usr/local/lib/python3.4/dist-packages/sklearn/feature_selection/univariate_selection.py:113: UserWarning: Features [     4     13     80 ..., 572553 572554 572576] are constant.\n",
      "  UserWarning)\n"
     ]
    },
    {
     "name": "stdout",
     "output_type": "stream",
     "text": [
      "fold: 3\n",
      "repetition: 27\n",
      "fold: 1\n",
      "fold: 2\n",
      "fold: 3\n",
      "repetition: 28\n",
      "fold: 1\n",
      "fold: 2\n",
      "fold: 3\n",
      "repetition: 29\n",
      "fold: 1\n",
      "fold: 2\n",
      "fold: 3\n",
      "repetition: 30\n",
      "fold: 1\n",
      "fold: 2\n",
      "fold: 3\n",
      "repetition: 31\n",
      "fold: 1\n",
      "fold: 2\n",
      "fold: 3\n",
      "repetition: 32\n",
      "fold: 1\n",
      "fold: 2\n",
      "fold: 3\n",
      "repetition: 33\n",
      "fold: 1\n",
      "fold: 2\n",
      "fold: 3\n",
      "F_mean: 0.433954092681\n",
      "AUC_mean: 0.574927894534\n",
      "PRECISION_mean: 0.380410022779\n",
      "RECALL_mean: 0.505040322581\n",
      "SPECIFICITY_mean: 0.449763991908\n",
      "percentage: 2.55562626263\n",
      "repetition: 1\n",
      "fold: 1\n",
      "fold: 2\n",
      "fold: 3\n",
      "repetition: 2\n",
      "fold: 1\n",
      "fold: 2\n",
      "fold: 3\n",
      "repetition: 3\n",
      "fold: 1\n",
      "fold: 2\n",
      "fold: 3\n",
      "repetition: 4\n",
      "fold: 1\n",
      "fold: 2\n",
      "fold: 3\n",
      "repetition: 5\n",
      "fold: 1\n"
     ]
    },
    {
     "name": "stderr",
     "output_type": "stream",
     "text": [
      "/usr/local/lib/python3.4/dist-packages/sklearn/feature_selection/univariate_selection.py:113: UserWarning: Features [    13     99    282 ..., 572621 572634 572684] are constant.\n",
      "  UserWarning)\n"
     ]
    },
    {
     "name": "stdout",
     "output_type": "stream",
     "text": [
      "fold: 2\n",
      "fold: 3\n",
      "repetition: 6\n",
      "fold: 1\n",
      "fold: 2\n",
      "fold: 3\n",
      "repetition: 7\n",
      "fold: 1\n",
      "fold: 2\n",
      "fold: 3\n",
      "repetition: 8\n",
      "fold: 1\n",
      "fold: 2\n",
      "fold: 3\n",
      "repetition: 9\n",
      "fold: 1\n",
      "fold: 2\n",
      "fold: 3\n",
      "repetition: 10\n",
      "fold: 1\n",
      "fold: 2\n",
      "fold: 3\n",
      "repetition: 11\n",
      "fold: 1\n",
      "fold: 2\n",
      "fold: 3\n",
      "repetition: 12\n",
      "fold: 1\n",
      "fold: 2\n",
      "fold: 3\n",
      "repetition: 13\n",
      "fold: 1\n",
      "fold: 2\n",
      "fold: 3\n",
      "repetition: 14\n",
      "fold: 1\n",
      "fold: 2\n",
      "fold: 3\n",
      "repetition: 15\n",
      "fold: 1\n",
      "fold: 2\n",
      "fold: 3\n",
      "repetition: 16\n",
      "fold: 1\n",
      "fold: 2\n",
      "fold: 3\n",
      "repetition: 17\n",
      "fold: 1\n",
      "fold: 2\n",
      "fold: 3\n",
      "repetition: 18\n",
      "fold: 1\n"
     ]
    },
    {
     "name": "stderr",
     "output_type": "stream",
     "text": [
      "/usr/local/lib/python3.4/dist-packages/sklearn/feature_selection/univariate_selection.py:113: UserWarning: Features [    13     99    178 ..., 572707 572708 572709] are constant.\n",
      "  UserWarning)\n"
     ]
    },
    {
     "name": "stdout",
     "output_type": "stream",
     "text": [
      "fold: 2\n",
      "fold: 3\n",
      "repetition: 19\n",
      "fold: 1\n",
      "fold: 2\n",
      "fold: 3\n",
      "repetition: 20\n",
      "fold: 1\n"
     ]
    },
    {
     "name": "stderr",
     "output_type": "stream",
     "text": [
      "/usr/local/lib/python3.4/dist-packages/sklearn/feature_selection/univariate_selection.py:113: UserWarning: Features [    13     72     80 ..., 572554 572621 572634] are constant.\n",
      "  UserWarning)\n"
     ]
    },
    {
     "name": "stdout",
     "output_type": "stream",
     "text": [
      "fold: 2\n",
      "fold: 3\n",
      "repetition: 21\n",
      "fold: 1\n",
      "fold: 2\n",
      "fold: 3\n",
      "repetition: 22\n",
      "fold: 1\n",
      "fold: 2\n",
      "fold: 3\n",
      "repetition: 23\n",
      "fold: 1\n",
      "fold: 2\n",
      "fold: 3\n",
      "repetition: 24\n",
      "fold: 1\n",
      "fold: 2\n",
      "fold: 3\n",
      "repetition: 25\n",
      "fold: 1\n",
      "fold: 2\n",
      "fold: 3\n",
      "repetition: 26\n",
      "fold: 1\n",
      "fold: 2\n",
      "fold: 3\n",
      "repetition: 27\n",
      "fold: 1\n",
      "fold: 2\n",
      "fold: 3\n",
      "repetition: 28\n",
      "fold: 1\n",
      "fold: 2\n",
      "fold: 3\n",
      "repetition: 29\n",
      "fold: 1\n",
      "fold: 2\n",
      "fold: 3\n",
      "repetition: 30\n",
      "fold: 1\n",
      "fold: 2\n",
      "fold: 3\n",
      "repetition: 31\n",
      "fold: 1\n",
      "fold: 2\n",
      "fold: 3\n",
      "repetition: 32\n",
      "fold: 1\n",
      "fold: 2\n",
      "fold: 3\n",
      "repetition: 33\n",
      "fold: 1\n",
      "fold: 2\n",
      "fold: 3\n",
      "F_mean: 0.4588441331\n",
      "AUC_mean: 0.624205576061\n",
      "PRECISION_mean: 0.400918133129\n",
      "RECALL_mean: 0.536335721597\n",
      "SPECIFICITY_mean: 0.477303070761\n",
      "percentage: 2.58339393939\n",
      "repetition: 1\n",
      "fold: 1\n",
      "fold: 2\n",
      "fold: 3\n",
      "repetition: 2\n",
      "fold: 1\n",
      "fold: 2\n",
      "fold: 3\n",
      "repetition: 3\n",
      "fold: 1\n",
      "fold: 2\n",
      "fold: 3\n",
      "repetition: 4\n",
      "fold: 1\n",
      "fold: 2\n",
      "fold: 3\n",
      "repetition: 5\n",
      "fold: 1\n",
      "fold: 2\n",
      "fold: 3\n",
      "repetition: 6\n",
      "fold: 1\n",
      "fold: 2\n",
      "fold: 3\n",
      "repetition: 7\n",
      "fold: 1\n",
      "fold: 2\n"
     ]
    },
    {
     "name": "stderr",
     "output_type": "stream",
     "text": [
      "/usr/local/lib/python3.4/dist-packages/sklearn/feature_selection/univariate_selection.py:113: UserWarning: Features [    13     99    178 ..., 572536 572554 572685] are constant.\n",
      "  UserWarning)\n"
     ]
    },
    {
     "name": "stdout",
     "output_type": "stream",
     "text": [
      "fold: 3\n",
      "repetition: 8\n",
      "fold: 1\n",
      "fold: 2\n",
      "fold: 3\n",
      "repetition: 9\n",
      "fold: 1\n",
      "fold: 2\n",
      "fold: 3\n",
      "repetition: 10\n",
      "fold: 1\n",
      "fold: 2\n",
      "fold: 3\n"
     ]
    },
    {
     "name": "stderr",
     "output_type": "stream",
     "text": [
      "/usr/local/lib/python3.4/dist-packages/sklearn/feature_selection/univariate_selection.py:113: UserWarning: Features [     4     13     80 ..., 572662 572677 572684] are constant.\n",
      "  UserWarning)\n"
     ]
    },
    {
     "name": "stdout",
     "output_type": "stream",
     "text": [
      "repetition: 11\n",
      "fold: 1\n",
      "fold: 2\n",
      "fold: 3\n"
     ]
    },
    {
     "name": "stderr",
     "output_type": "stream",
     "text": [
      "/usr/local/lib/python3.4/dist-packages/sklearn/feature_selection/univariate_selection.py:113: UserWarning: Features [    13     90     99 ..., 572596 572685 572704] are constant.\n",
      "  UserWarning)\n"
     ]
    },
    {
     "name": "stdout",
     "output_type": "stream",
     "text": [
      "repetition: 12\n",
      "fold: 1\n",
      "fold: 2\n",
      "fold: 3\n",
      "repetition: 13\n",
      "fold: 1\n",
      "fold: 2\n",
      "fold: 3\n",
      "repetition: 14\n",
      "fold: 1\n",
      "fold: 2\n",
      "fold: 3\n",
      "repetition: 15\n",
      "fold: 1\n",
      "fold: 2\n",
      "fold: 3\n",
      "repetition: 16\n",
      "fold: 1\n",
      "fold: 2\n",
      "fold: 3\n",
      "repetition: 17\n",
      "fold: 1\n",
      "fold: 2\n",
      "fold: 3\n",
      "repetition: 18\n",
      "fold: 1\n",
      "fold: 2\n",
      "fold: 3\n"
     ]
    },
    {
     "name": "stderr",
     "output_type": "stream",
     "text": [
      "/usr/local/lib/python3.4/dist-packages/sklearn/feature_selection/univariate_selection.py:113: UserWarning: Features [     5     13     80 ..., 572733 572736 572737] are constant.\n",
      "  UserWarning)\n"
     ]
    },
    {
     "name": "stdout",
     "output_type": "stream",
     "text": [
      "repetition: 19\n",
      "fold: 1\n",
      "fold: 2\n",
      "fold: 3\n",
      "repetition: 20\n",
      "fold: 1\n",
      "fold: 2\n",
      "fold: 3\n",
      "repetition: 21\n",
      "fold: 1\n",
      "fold: 2\n",
      "fold: 3\n",
      "repetition: 22\n",
      "fold: 1\n",
      "fold: 2\n",
      "fold: 3\n",
      "repetition: 23\n",
      "fold: 1\n",
      "fold: 2\n",
      "fold: 3\n",
      "repetition: 24\n",
      "fold: 1\n",
      "fold: 2\n",
      "fold: 3\n",
      "repetition: 25\n",
      "fold: 1\n",
      "fold: 2\n",
      "fold: 3\n",
      "repetition: 26\n",
      "fold: 1\n",
      "fold: 2\n",
      "fold: 3\n",
      "repetition: 27\n",
      "fold: 1\n",
      "fold: 2\n",
      "fold: 3\n",
      "repetition: 28\n",
      "fold: 1\n",
      "fold: 2\n",
      "fold: 3\n",
      "repetition: 29\n",
      "fold: 1\n"
     ]
    },
    {
     "name": "stderr",
     "output_type": "stream",
     "text": [
      "/usr/local/lib/python3.4/dist-packages/sklearn/feature_selection/univariate_selection.py:113: UserWarning: Features [    13     80     84 ..., 572685 572704 572705] are constant.\n",
      "  UserWarning)\n"
     ]
    },
    {
     "name": "stdout",
     "output_type": "stream",
     "text": [
      "fold: 2\n",
      "fold: 3\n",
      "repetition: 30\n",
      "fold: 1\n",
      "fold: 2\n",
      "fold: 3\n",
      "repetition: 31\n",
      "fold: 1\n",
      "fold: 2\n",
      "fold: 3\n",
      "repetition: 32\n",
      "fold: 1\n",
      "fold: 2\n",
      "fold: 3\n",
      "repetition: 33\n",
      "fold: 1\n",
      "fold: 2\n",
      "fold: 3\n",
      "F_mean: 0.445975032286\n",
      "AUC_mean: 0.588944488593\n",
      "PRECISION_mean: 0.402173913043\n",
      "RECALL_mean: 0.500483091787\n",
      "SPECIFICITY_mean: 0.465277777778\n",
      "percentage: 2.61116161616\n",
      "repetition: 1\n",
      "fold: 1\n",
      "fold: 2\n",
      "fold: 3\n",
      "repetition: 2\n",
      "fold: 1\n",
      "fold: 2\n",
      "fold: 3\n",
      "repetition: 3\n",
      "fold: 1\n",
      "fold: 2\n",
      "fold: 3\n",
      "repetition: 4\n",
      "fold: 1\n",
      "fold: 2\n",
      "fold: 3\n",
      "repetition: 5\n",
      "fold: 1\n",
      "fold: 2\n",
      "fold: 3\n",
      "repetition: 6\n",
      "fold: 1\n",
      "fold: 2\n",
      "fold: 3\n",
      "repetition: 7\n",
      "fold: 1\n",
      "fold: 2\n",
      "fold: 3\n",
      "repetition: 8\n",
      "fold: 1\n",
      "fold: 2\n",
      "fold: 3\n",
      "repetition: 9\n",
      "fold: 1\n",
      "fold: 2\n",
      "fold: 3\n",
      "repetition: 10\n",
      "fold: 1\n",
      "fold: 2\n",
      "fold: 3\n",
      "repetition: 11\n",
      "fold: 1\n",
      "fold: 2\n",
      "fold: 3\n",
      "repetition: 12\n",
      "fold: 1\n",
      "fold: 2\n",
      "fold: 3\n",
      "repetition: 13\n",
      "fold: 1\n",
      "fold: 2\n",
      "fold: 3\n",
      "repetition: 14\n",
      "fold: 1\n",
      "fold: 2\n",
      "fold: 3\n",
      "repetition: 15\n",
      "fold: 1\n",
      "fold: 2\n",
      "fold: 3\n",
      "repetition: 16\n",
      "fold: 1\n",
      "fold: 2\n",
      "fold: 3\n",
      "repetition: 17\n",
      "fold: 1\n",
      "fold: 2\n",
      "fold: 3\n",
      "repetition: 18\n",
      "fold: 1\n"
     ]
    },
    {
     "name": "stderr",
     "output_type": "stream",
     "text": [
      "/usr/local/lib/python3.4/dist-packages/sklearn/feature_selection/univariate_selection.py:113: UserWarning: Features [    13     99    264 ..., 572662 572677 572704] are constant.\n",
      "  UserWarning)\n"
     ]
    },
    {
     "name": "stdout",
     "output_type": "stream",
     "text": [
      "fold: 2\n",
      "fold: 3\n",
      "repetition: 19\n",
      "fold: 1\n",
      "fold: 2\n",
      "fold: 3\n",
      "repetition: 20\n",
      "fold: 1\n",
      "fold: 2\n",
      "fold: 3\n",
      "repetition: 21\n",
      "fold: 1\n",
      "fold: 2\n",
      "fold: 3\n",
      "repetition: 22\n",
      "fold: 1\n",
      "fold: 2\n",
      "fold: 3\n",
      "repetition: 23\n",
      "fold: 1\n",
      "fold: 2\n",
      "fold: 3\n",
      "repetition: 24\n",
      "fold: 1\n",
      "fold: 2\n",
      "fold: 3\n",
      "repetition: 25\n",
      "fold: 1\n",
      "fold: 2\n",
      "fold: 3\n",
      "repetition: 26\n",
      "fold: 1\n",
      "fold: 2\n",
      "fold: 3\n",
      "repetition: 27\n",
      "fold: 1\n"
     ]
    },
    {
     "name": "stderr",
     "output_type": "stream",
     "text": [
      "/usr/local/lib/python3.4/dist-packages/sklearn/feature_selection/univariate_selection.py:113: UserWarning: Features [    13     99    274 ..., 572621 572634 572685] are constant.\n",
      "  UserWarning)\n"
     ]
    },
    {
     "name": "stdout",
     "output_type": "stream",
     "text": [
      "fold: 2\n",
      "fold: 3\n",
      "repetition: 28\n",
      "fold: 1\n",
      "fold: 2\n"
     ]
    },
    {
     "name": "stderr",
     "output_type": "stream",
     "text": [
      "/usr/local/lib/python3.4/dist-packages/sklearn/feature_selection/univariate_selection.py:113: UserWarning: Features [    13     99    196 ..., 572703 572708 572709] are constant.\n",
      "  UserWarning)\n"
     ]
    },
    {
     "name": "stdout",
     "output_type": "stream",
     "text": [
      "fold: 3\n",
      "repetition: 29\n",
      "fold: 1\n",
      "fold: 2\n",
      "fold: 3\n",
      "repetition: 30\n",
      "fold: 1\n",
      "fold: 2\n",
      "fold: 3\n",
      "repetition: 31\n",
      "fold: 1\n",
      "fold: 2\n",
      "fold: 3\n",
      "repetition: 32\n",
      "fold: 1\n",
      "fold: 2\n",
      "fold: 3\n",
      "repetition: 33\n",
      "fold: 1\n",
      "fold: 2\n"
     ]
    },
    {
     "name": "stderr",
     "output_type": "stream",
     "text": [
      "/usr/local/lib/python3.4/dist-packages/sklearn/feature_selection/univariate_selection.py:113: UserWarning: Features [    13     99    264 ..., 572692 572702 572703] are constant.\n",
      "  UserWarning)\n"
     ]
    },
    {
     "name": "stdout",
     "output_type": "stream",
     "text": [
      "fold: 3\n",
      "F_mean: 0.439666520404\n",
      "AUC_mean: 0.587038563868\n",
      "PRECISION_mean: 0.380699088146\n",
      "RECALL_mean: 0.520249221184\n",
      "SPECIFICITY_mean: 0.460978835979\n",
      "percentage: 2.63892929293\n",
      "repetition: 1\n",
      "fold: 1\n",
      "fold: 2\n",
      "fold: 3\n",
      "repetition: 2\n",
      "fold: 1\n",
      "fold: 2\n",
      "fold: 3\n",
      "repetition: 3\n",
      "fold: 1\n",
      "fold: 2\n",
      "fold: 3\n",
      "repetition: 4\n",
      "fold: 1\n",
      "fold: 2\n",
      "fold: 3\n",
      "repetition: 5\n",
      "fold: 1\n",
      "fold: 2\n",
      "fold: 3\n",
      "repetition: 6\n",
      "fold: 1\n",
      "fold: 2\n",
      "fold: 3\n",
      "repetition: 7\n",
      "fold: 1\n",
      "fold: 2\n",
      "fold: 3\n",
      "repetition: 8\n",
      "fold: 1\n",
      "fold: 2\n"
     ]
    },
    {
     "name": "stderr",
     "output_type": "stream",
     "text": [
      "/usr/local/lib/python3.4/dist-packages/sklearn/feature_selection/univariate_selection.py:113: UserWarning: Features [    13     80     85 ..., 572323 572461 572684] are constant.\n",
      "  UserWarning)\n"
     ]
    },
    {
     "name": "stdout",
     "output_type": "stream",
     "text": [
      "fold: 3\n",
      "repetition: 9\n",
      "fold: 1\n",
      "fold: 2\n",
      "fold: 3\n",
      "repetition: 10\n",
      "fold: 1\n",
      "fold: 2\n",
      "fold: 3\n",
      "repetition: 11\n",
      "fold: 1\n",
      "fold: 2\n",
      "fold: 3\n",
      "repetition: 12\n",
      "fold: 1\n",
      "fold: 2\n",
      "fold: 3\n",
      "repetition: 13\n",
      "fold: 1\n",
      "fold: 2\n",
      "fold: 3\n",
      "repetition: 14\n",
      "fold: 1\n",
      "fold: 2\n",
      "fold: 3\n",
      "repetition: 15\n",
      "fold: 1\n",
      "fold: 2\n",
      "fold: 3\n",
      "repetition: 16\n",
      "fold: 1\n",
      "fold: 2\n",
      "fold: 3\n",
      "repetition: 17\n",
      "fold: 1\n",
      "fold: 2\n",
      "fold: 3\n",
      "repetition: 18\n",
      "fold: 1\n",
      "fold: 2\n",
      "fold: 3\n",
      "repetition: 19\n",
      "fold: 1\n",
      "fold: 2\n",
      "fold: 3\n",
      "repetition: 20\n",
      "fold: 1\n",
      "fold: 2\n",
      "fold: 3\n",
      "repetition: 21\n",
      "fold: 1\n",
      "fold: 2\n",
      "fold: 3\n",
      "repetition: 22\n",
      "fold: 1\n",
      "fold: 2\n",
      "fold: 3\n",
      "repetition: 23\n",
      "fold: 1\n",
      "fold: 2\n",
      "fold: 3\n",
      "repetition: 24\n",
      "fold: 1\n",
      "fold: 2\n",
      "fold: 3\n",
      "repetition: 25\n",
      "fold: 1\n"
     ]
    },
    {
     "name": "stderr",
     "output_type": "stream",
     "text": [
      "/usr/local/lib/python3.4/dist-packages/sklearn/feature_selection/univariate_selection.py:113: UserWarning: Features [    13     72     80 ..., 572595 572596 572704] are constant.\n",
      "  UserWarning)\n"
     ]
    },
    {
     "name": "stdout",
     "output_type": "stream",
     "text": [
      "fold: 2\n",
      "fold: 3\n",
      "repetition: 26\n",
      "fold: 1\n",
      "fold: 2\n",
      "fold: 3\n",
      "repetition: 27\n",
      "fold: 1\n",
      "fold: 2\n",
      "fold: 3\n",
      "repetition: 28\n",
      "fold: 1\n",
      "fold: 2\n",
      "fold: 3\n",
      "repetition: 29\n",
      "fold: 1\n",
      "fold: 2\n",
      "fold: 3\n",
      "repetition: 30\n",
      "fold: 1\n",
      "fold: 2\n",
      "fold: 3\n",
      "repetition: 31\n",
      "fold: 1\n",
      "fold: 2\n",
      "fold: 3\n",
      "repetition: 32\n",
      "fold: 1\n",
      "fold: 2\n",
      "fold: 3\n",
      "repetition: 33\n",
      "fold: 1\n",
      "fold: 2\n",
      "fold: 3\n",
      "F_mean: 0.445497630332\n",
      "AUC_mean: 0.585435705454\n",
      "PRECISION_mean: 0.392261001517\n",
      "RECALL_mean: 0.515453639083\n",
      "SPECIFICITY_mean: 0.455842391304\n",
      "percentage: 2.6666969697\n",
      "repetition: 1\n",
      "fold: 1\n",
      "fold: 2\n",
      "fold: 3\n",
      "repetition: 2\n",
      "fold: 1\n",
      "fold: 2\n",
      "fold: 3\n",
      "repetition: 3\n",
      "fold: 1\n",
      "fold: 2\n",
      "fold: 3\n",
      "repetition: 4\n",
      "fold: 1\n",
      "fold: 2\n",
      "fold: 3\n",
      "repetition: 5\n",
      "fold: 1\n",
      "fold: 2\n",
      "fold: 3\n",
      "repetition: 6\n",
      "fold: 1\n",
      "fold: 2\n",
      "fold: 3\n",
      "repetition: 7\n",
      "fold: 1\n",
      "fold: 2\n",
      "fold: 3\n",
      "repetition: 8\n",
      "fold: 1\n",
      "fold: 2\n"
     ]
    },
    {
     "name": "stderr",
     "output_type": "stream",
     "text": [
      "/usr/local/lib/python3.4/dist-packages/sklearn/feature_selection/univariate_selection.py:113: UserWarning: Features [    13     99    388 ..., 572733 572736 572737] are constant.\n",
      "  UserWarning)\n"
     ]
    },
    {
     "name": "stdout",
     "output_type": "stream",
     "text": [
      "fold: 3\n",
      "repetition: 9\n",
      "fold: 1\n",
      "fold: 2\n",
      "fold: 3\n",
      "repetition: 10\n",
      "fold: 1\n",
      "fold: 2\n",
      "fold: 3\n",
      "repetition: 11\n",
      "fold: 1\n",
      "fold: 2\n",
      "fold: 3\n",
      "repetition: 12\n",
      "fold: 1\n",
      "fold: 2\n",
      "fold: 3\n",
      "repetition: 13\n",
      "fold: 1\n",
      "fold: 2\n",
      "fold: 3\n",
      "repetition: 14\n",
      "fold: 1\n",
      "fold: 2\n"
     ]
    },
    {
     "name": "stderr",
     "output_type": "stream",
     "text": [
      "/usr/local/lib/python3.4/dist-packages/sklearn/feature_selection/univariate_selection.py:113: UserWarning: Features [    13     90     99 ..., 572670 572677 572685] are constant.\n",
      "  UserWarning)\n"
     ]
    },
    {
     "name": "stdout",
     "output_type": "stream",
     "text": [
      "fold: 3\n",
      "repetition: 15\n",
      "fold: 1\n",
      "fold: 2\n",
      "fold: 3\n",
      "repetition: 16\n",
      "fold: 1\n",
      "fold: 2\n",
      "fold: 3\n",
      "repetition: 17\n",
      "fold: 1\n",
      "fold: 2\n",
      "fold: 3\n",
      "repetition: 18\n",
      "fold: 1\n",
      "fold: 2\n",
      "fold: 3\n",
      "repetition: 19\n",
      "fold: 1\n",
      "fold: 2\n",
      "fold: 3\n",
      "repetition: 20\n",
      "fold: 1\n",
      "fold: 2\n",
      "fold: 3\n",
      "repetition: 21\n",
      "fold: 1\n",
      "fold: 2\n",
      "fold: 3\n",
      "repetition: 22\n",
      "fold: 1\n",
      "fold: 2\n",
      "fold: 3\n"
     ]
    },
    {
     "name": "stderr",
     "output_type": "stream",
     "text": [
      "/usr/local/lib/python3.4/dist-packages/sklearn/feature_selection/univariate_selection.py:113: UserWarning: Features [    13     80     84 ..., 572662 572677 572684] are constant.\n",
      "  UserWarning)\n"
     ]
    },
    {
     "name": "stdout",
     "output_type": "stream",
     "text": [
      "repetition: 23\n",
      "fold: 1\n",
      "fold: 2\n",
      "fold: 3\n",
      "repetition: 24\n",
      "fold: 1\n",
      "fold: 2\n",
      "fold: 3\n",
      "repetition: 25\n",
      "fold: 1\n",
      "fold: 2\n",
      "fold: 3\n",
      "repetition: 26\n",
      "fold: 1\n",
      "fold: 2\n",
      "fold: 3\n",
      "repetition: 27\n",
      "fold: 1\n",
      "fold: 2\n",
      "fold: 3\n",
      "repetition: 28\n",
      "fold: 1\n",
      "fold: 2\n",
      "fold: 3\n",
      "repetition: 29\n",
      "fold: 1\n",
      "fold: 2\n",
      "fold: 3\n",
      "repetition: 30\n",
      "fold: 1\n",
      "fold: 2\n",
      "fold: 3\n",
      "repetition: 31\n",
      "fold: 1\n",
      "fold: 2\n",
      "fold: 3\n",
      "repetition: 32\n",
      "fold: 1\n"
     ]
    },
    {
     "name": "stderr",
     "output_type": "stream",
     "text": [
      "/usr/local/lib/python3.4/dist-packages/sklearn/feature_selection/univariate_selection.py:113: UserWarning: Features [     4     13     90 ..., 572605 572708 572709] are constant.\n",
      "  UserWarning)\n"
     ]
    },
    {
     "name": "stdout",
     "output_type": "stream",
     "text": [
      "fold: 2\n",
      "fold: 3\n",
      "repetition: 33\n",
      "fold: 1\n",
      "fold: 2\n",
      "fold: 3\n",
      "F_mean: 0.440157825515\n",
      "AUC_mean: 0.596760580102\n",
      "PRECISION_mean: 0.3934169279\n",
      "RECALL_mean: 0.499502487562\n",
      "SPECIFICITY_mean: 0.473469387755\n",
      "percentage: 2.69446464646\n",
      "repetition: 1\n",
      "fold: 1\n",
      "fold: 2\n",
      "fold: 3\n",
      "repetition: 2\n",
      "fold: 1\n",
      "fold: 2\n",
      "fold: 3\n",
      "repetition: 3\n",
      "fold: 1\n",
      "fold: 2\n",
      "fold: 3\n",
      "repetition: 4\n",
      "fold: 1\n",
      "fold: 2\n",
      "fold: 3\n",
      "repetition: 5\n",
      "fold: 1\n",
      "fold: 2\n",
      "fold: 3\n",
      "repetition: 6\n",
      "fold: 1\n",
      "fold: 2\n",
      "fold: 3\n",
      "repetition: 7\n",
      "fold: 1\n"
     ]
    },
    {
     "name": "stderr",
     "output_type": "stream",
     "text": [
      "/usr/local/lib/python3.4/dist-packages/sklearn/feature_selection/univariate_selection.py:113: UserWarning: Features [    13     99    149 ..., 572536 572554 572704] are constant.\n",
      "  UserWarning)\n"
     ]
    },
    {
     "name": "stdout",
     "output_type": "stream",
     "text": [
      "fold: 2\n",
      "fold: 3\n",
      "repetition: 8\n",
      "fold: 1\n",
      "fold: 2\n",
      "fold: 3\n",
      "repetition: 9\n",
      "fold: 1\n",
      "fold: 2\n",
      "fold: 3\n",
      "repetition: 10\n",
      "fold: 1\n",
      "fold: 2\n",
      "fold: 3\n",
      "repetition: 11\n",
      "fold: 1\n",
      "fold: 2\n",
      "fold: 3\n",
      "repetition: 12\n",
      "fold: 1\n",
      "fold: 2\n",
      "fold: 3\n"
     ]
    },
    {
     "name": "stderr",
     "output_type": "stream",
     "text": [
      "/usr/local/lib/python3.4/dist-packages/sklearn/feature_selection/univariate_selection.py:113: UserWarning: Features [    13     99    264 ..., 572707 572708 572709] are constant.\n",
      "  UserWarning)\n"
     ]
    },
    {
     "name": "stdout",
     "output_type": "stream",
     "text": [
      "repetition: 13\n",
      "fold: 1\n",
      "fold: 2\n",
      "fold: 3\n",
      "repetition: 14\n",
      "fold: 1\n",
      "fold: 2\n",
      "fold: 3\n",
      "repetition: 15\n",
      "fold: 1\n",
      "fold: 2\n",
      "fold: 3\n",
      "repetition: 16\n",
      "fold: 1\n",
      "fold: 2\n",
      "fold: 3\n",
      "repetition: 17\n",
      "fold: 1\n",
      "fold: 2\n",
      "fold: 3\n",
      "repetition: 18\n",
      "fold: 1\n",
      "fold: 2\n",
      "fold: 3\n",
      "repetition: 19\n",
      "fold: 1\n",
      "fold: 2\n",
      "fold: 3\n",
      "repetition: 20\n",
      "fold: 1\n",
      "fold: 2\n",
      "fold: 3\n",
      "repetition: 21\n",
      "fold: 1\n",
      "fold: 2\n",
      "fold: 3\n",
      "repetition: 22\n",
      "fold: 1\n",
      "fold: 2\n",
      "fold: 3\n",
      "repetition: 23\n",
      "fold: 1\n",
      "fold: 2\n",
      "fold: 3\n",
      "repetition: 24\n",
      "fold: 1\n",
      "fold: 2\n",
      "fold: 3\n",
      "repetition: 25\n",
      "fold: 1\n",
      "fold: 2\n",
      "fold: 3\n",
      "repetition: 26\n",
      "fold: 1\n",
      "fold: 2\n",
      "fold: 3\n",
      "repetition: 27\n",
      "fold: 1\n",
      "fold: 2\n",
      "fold: 3\n",
      "repetition: 28\n",
      "fold: 1\n",
      "fold: 2\n",
      "fold: 3\n",
      "repetition: 29\n",
      "fold: 1\n",
      "fold: 2\n",
      "fold: 3\n",
      "repetition: 30\n",
      "fold: 1\n",
      "fold: 2\n",
      "fold: 3\n",
      "repetition: 31\n",
      "fold: 1\n",
      "fold: 2\n",
      "fold: 3\n",
      "repetition: 32\n",
      "fold: 1\n",
      "fold: 2\n",
      "fold: 3\n",
      "repetition: 33\n",
      "fold: 1\n",
      "fold: 2\n",
      "fold: 3\n",
      "F_mean: 0.462151394422\n",
      "AUC_mean: 0.593130451652\n",
      "PRECISION_mean: 0.411996842936\n",
      "RECALL_mean: 0.526209677419\n",
      "SPECIFICITY_mean: 0.497639919083\n",
      "percentage: 2.72223232323\n",
      "repetition: 1\n",
      "fold: 1\n",
      "fold: 2\n",
      "fold: 3\n",
      "repetition: 2\n",
      "fold: 1\n",
      "fold: 2\n",
      "fold: 3\n",
      "repetition: 3\n",
      "fold: 1\n",
      "fold: 2\n",
      "fold: 3\n",
      "repetition: 4\n",
      "fold: 1\n",
      "fold: 2\n",
      "fold: 3\n"
     ]
    },
    {
     "name": "stderr",
     "output_type": "stream",
     "text": [
      "/usr/local/lib/python3.4/dist-packages/sklearn/feature_selection/univariate_selection.py:113: UserWarning: Features [    13     99    273 ..., 572595 572596 572704] are constant.\n",
      "  UserWarning)\n"
     ]
    },
    {
     "name": "stdout",
     "output_type": "stream",
     "text": [
      "repetition: 5\n",
      "fold: 1\n",
      "fold: 2\n",
      "fold: 3\n",
      "repetition: 6\n",
      "fold: 1\n",
      "fold: 2\n"
     ]
    },
    {
     "name": "stderr",
     "output_type": "stream",
     "text": [
      "/usr/local/lib/python3.4/dist-packages/sklearn/feature_selection/univariate_selection.py:113: UserWarning: Features [     4     13     80 ..., 572510 572528 572553] are constant.\n",
      "  UserWarning)\n"
     ]
    },
    {
     "name": "stdout",
     "output_type": "stream",
     "text": [
      "fold: 3\n",
      "repetition: 7\n",
      "fold: 1\n",
      "fold: 2\n",
      "fold: 3\n",
      "repetition: 8\n",
      "fold: 1\n",
      "fold: 2\n",
      "fold: 3\n",
      "repetition: 9\n",
      "fold: 1\n",
      "fold: 2\n",
      "fold: 3\n",
      "repetition: 10\n",
      "fold: 1\n",
      "fold: 2\n",
      "fold: 3\n",
      "repetition: 11\n",
      "fold: 1\n"
     ]
    },
    {
     "name": "stderr",
     "output_type": "stream",
     "text": [
      "/usr/local/lib/python3.4/dist-packages/sklearn/feature_selection/univariate_selection.py:113: UserWarning: Features [    13     99    305 ..., 572702 572703 572704] are constant.\n",
      "  UserWarning)\n"
     ]
    },
    {
     "name": "stdout",
     "output_type": "stream",
     "text": [
      "fold: 2\n",
      "fold: 3\n",
      "repetition: 12\n",
      "fold: 1\n",
      "fold: 2\n",
      "fold: 3\n",
      "repetition: 13\n",
      "fold: 1\n",
      "fold: 2\n",
      "fold: 3\n",
      "repetition: 14\n",
      "fold: 1\n",
      "fold: 2\n",
      "fold: 3\n",
      "repetition: 15\n",
      "fold: 1\n",
      "fold: 2\n",
      "fold: 3\n",
      "repetition: 16\n",
      "fold: 1\n",
      "fold: 2\n",
      "fold: 3\n",
      "repetition: 17\n",
      "fold: 1\n",
      "fold: 2\n"
     ]
    },
    {
     "name": "stderr",
     "output_type": "stream",
     "text": [
      "/usr/local/lib/python3.4/dist-packages/sklearn/feature_selection/univariate_selection.py:113: UserWarning: Features [    13     99    204 ..., 572670 572684 572685] are constant.\n",
      "  UserWarning)\n"
     ]
    },
    {
     "name": "stdout",
     "output_type": "stream",
     "text": [
      "fold: 3\n",
      "repetition: 18\n",
      "fold: 1\n",
      "fold: 2\n",
      "fold: 3\n",
      "repetition: 19\n",
      "fold: 1\n",
      "fold: 2\n",
      "fold: 3\n",
      "repetition: 20\n",
      "fold: 1\n",
      "fold: 2\n",
      "fold: 3\n",
      "repetition: 21\n",
      "fold: 1\n",
      "fold: 2\n",
      "fold: 3\n"
     ]
    },
    {
     "name": "stderr",
     "output_type": "stream",
     "text": [
      "/usr/local/lib/python3.4/dist-packages/sklearn/feature_selection/univariate_selection.py:113: UserWarning: Features [    13     99    388 ..., 572720 572721 572722] are constant.\n",
      "  UserWarning)\n"
     ]
    },
    {
     "name": "stdout",
     "output_type": "stream",
     "text": [
      "repetition: 22\n",
      "fold: 1\n",
      "fold: 2\n",
      "fold: 3\n",
      "repetition: 23\n",
      "fold: 1\n",
      "fold: 2\n"
     ]
    },
    {
     "name": "stderr",
     "output_type": "stream",
     "text": [
      "/usr/local/lib/python3.4/dist-packages/sklearn/feature_selection/univariate_selection.py:113: UserWarning: Features [     4     13     80 ..., 572684 572708 572709] are constant.\n",
      "  UserWarning)\n"
     ]
    },
    {
     "name": "stdout",
     "output_type": "stream",
     "text": [
      "fold: 3\n",
      "repetition: 24\n",
      "fold: 1\n",
      "fold: 2\n",
      "fold: 3\n",
      "repetition: 25\n",
      "fold: 1\n",
      "fold: 2\n",
      "fold: 3\n",
      "repetition: 26\n",
      "fold: 1\n",
      "fold: 2\n",
      "fold: 3\n",
      "repetition: 27\n",
      "fold: 1\n",
      "fold: 2\n",
      "fold: 3\n"
     ]
    },
    {
     "name": "stderr",
     "output_type": "stream",
     "text": [
      "/usr/local/lib/python3.4/dist-packages/sklearn/feature_selection/univariate_selection.py:113: UserWarning: Features [    13     80     85 ..., 572472 572621 572634] are constant.\n",
      "  UserWarning)\n"
     ]
    },
    {
     "name": "stdout",
     "output_type": "stream",
     "text": [
      "repetition: 28\n",
      "fold: 1\n"
     ]
    },
    {
     "name": "stderr",
     "output_type": "stream",
     "text": [
      "/usr/local/lib/python3.4/dist-packages/sklearn/feature_selection/univariate_selection.py:113: UserWarning: Features [    13     99    273 ..., 572705 572708 572709] are constant.\n",
      "  UserWarning)\n"
     ]
    },
    {
     "name": "stdout",
     "output_type": "stream",
     "text": [
      "fold: 2\n",
      "fold: 3\n",
      "repetition: 29\n",
      "fold: 1\n",
      "fold: 2\n",
      "fold: 3\n",
      "repetition: 30\n",
      "fold: 1\n",
      "fold: 2\n",
      "fold: 3\n",
      "repetition: 31\n",
      "fold: 1\n",
      "fold: 2\n",
      "fold: 3\n",
      "repetition: 32\n",
      "fold: 1\n",
      "fold: 2\n",
      "fold: 3\n",
      "repetition: 33\n",
      "fold: 1\n",
      "fold: 2\n",
      "fold: 3\n"
     ]
    },
    {
     "name": "stderr",
     "output_type": "stream",
     "text": [
      "/usr/local/lib/python3.4/dist-packages/sklearn/feature_selection/univariate_selection.py:113: UserWarning: Features [    13     90     99 ..., 572621 572634 572684] are constant.\n",
      "  UserWarning)\n"
     ]
    },
    {
     "name": "stdout",
     "output_type": "stream",
     "text": [
      "F_mean: 0.453643811988\n",
      "AUC_mean: 0.58370132141\n",
      "PRECISION_mean: 0.404926866821\n",
      "RECALL_mean: 0.51568627451\n",
      "SPECIFICITY_mean: 0.468728522337\n",
      "percentage: 2.75\n",
      "repetition: 1\n",
      "fold: 1\n",
      "fold: 2\n",
      "fold: 3\n",
      "repetition: 2\n",
      "fold: 1\n",
      "fold: 2\n",
      "fold: 3\n",
      "repetition: 3\n",
      "fold: 1\n",
      "fold: 2\n",
      "fold: 3\n",
      "repetition: 4\n",
      "fold: 1\n",
      "fold: 2\n",
      "fold: 3\n",
      "repetition: 5\n",
      "fold: 1\n",
      "fold: 2\n",
      "fold: 3\n",
      "repetition: 6\n",
      "fold: 1\n",
      "fold: 2\n",
      "fold: 3\n",
      "repetition: 7\n",
      "fold: 1\n",
      "fold: 2\n",
      "fold: 3\n",
      "repetition: 8\n",
      "fold: 1\n",
      "fold: 2\n",
      "fold: 3\n",
      "repetition: 9\n",
      "fold: 1\n",
      "fold: 2\n",
      "fold: 3\n"
     ]
    },
    {
     "name": "stderr",
     "output_type": "stream",
     "text": [
      "/usr/local/lib/python3.4/dist-packages/sklearn/feature_selection/univariate_selection.py:113: UserWarning: Features [    13     90     99 ..., 572224 572510 572528] are constant.\n",
      "  UserWarning)\n"
     ]
    },
    {
     "name": "stdout",
     "output_type": "stream",
     "text": [
      "repetition: 10\n",
      "fold: 1\n",
      "fold: 2\n",
      "fold: 3\n",
      "repetition: 11\n",
      "fold: 1\n",
      "fold: 2\n",
      "fold: 3\n",
      "repetition: 12\n",
      "fold: 1\n",
      "fold: 2\n",
      "fold: 3\n",
      "repetition: 13\n",
      "fold: 1\n",
      "fold: 2\n",
      "fold: 3\n",
      "repetition: 14\n",
      "fold: 1\n",
      "fold: 2\n",
      "fold: 3\n",
      "repetition: 15\n",
      "fold: 1\n",
      "fold: 2\n",
      "fold: 3\n",
      "repetition: 16\n",
      "fold: 1\n",
      "fold: 2\n",
      "fold: 3\n",
      "repetition: 17\n",
      "fold: 1\n",
      "fold: 2\n",
      "fold: 3\n"
     ]
    },
    {
     "name": "stderr",
     "output_type": "stream",
     "text": [
      "/usr/local/lib/python3.4/dist-packages/sklearn/feature_selection/univariate_selection.py:113: UserWarning: Features [    13     99    204 ..., 572677 572684 572704] are constant.\n",
      "  UserWarning)\n"
     ]
    },
    {
     "name": "stdout",
     "output_type": "stream",
     "text": [
      "repetition: 18\n",
      "fold: 1\n"
     ]
    },
    {
     "name": "stderr",
     "output_type": "stream",
     "text": [
      "/usr/local/lib/python3.4/dist-packages/sklearn/feature_selection/univariate_selection.py:113: UserWarning: Features [    13     99    274 ..., 572662 572677 572704] are constant.\n",
      "  UserWarning)\n"
     ]
    },
    {
     "name": "stdout",
     "output_type": "stream",
     "text": [
      "fold: 2\n",
      "fold: 3\n",
      "repetition: 19\n",
      "fold: 1\n",
      "fold: 2\n",
      "fold: 3\n"
     ]
    },
    {
     "name": "stderr",
     "output_type": "stream",
     "text": [
      "/usr/local/lib/python3.4/dist-packages/sklearn/feature_selection/univariate_selection.py:113: UserWarning: Features [    13     99    273 ..., 572707 572708 572709] are constant.\n",
      "  UserWarning)\n"
     ]
    },
    {
     "name": "stdout",
     "output_type": "stream",
     "text": [
      "repetition: 20\n",
      "fold: 1\n"
     ]
    },
    {
     "name": "stderr",
     "output_type": "stream",
     "text": [
      "/usr/local/lib/python3.4/dist-packages/sklearn/feature_selection/univariate_selection.py:113: UserWarning: Features [    13     99    344 ..., 572720 572721 572722] are constant.\n",
      "  UserWarning)\n"
     ]
    },
    {
     "name": "stdout",
     "output_type": "stream",
     "text": [
      "fold: 2\n",
      "fold: 3\n",
      "repetition: 21\n",
      "fold: 1\n",
      "fold: 2\n",
      "fold: 3\n",
      "repetition: 22\n",
      "fold: 1\n",
      "fold: 2\n",
      "fold: 3\n",
      "repetition: 23\n",
      "fold: 1\n",
      "fold: 2\n",
      "fold: 3\n",
      "repetition: 24\n",
      "fold: 1\n",
      "fold: 2\n",
      "fold: 3\n",
      "repetition: 25\n",
      "fold: 1\n",
      "fold: 2\n",
      "fold: 3\n",
      "repetition: 26\n",
      "fold: 1\n",
      "fold: 2\n",
      "fold: 3\n",
      "repetition: 27\n",
      "fold: 1\n",
      "fold: 2\n",
      "fold: 3\n",
      "repetition: 28\n",
      "fold: 1\n",
      "fold: 2\n",
      "fold: 3\n",
      "repetition: 29\n",
      "fold: 1\n",
      "fold: 2\n",
      "fold: 3\n",
      "repetition: 30\n",
      "fold: 1\n",
      "fold: 2\n",
      "fold: 3\n",
      "repetition: 31\n",
      "fold: 1\n",
      "fold: 2\n",
      "fold: 3\n",
      "repetition: 32\n",
      "fold: 1\n",
      "fold: 2\n",
      "fold: 3\n",
      "repetition: 33\n",
      "fold: 1\n",
      "fold: 2\n",
      "fold: 3\n",
      "F_mean: 0.461401952085\n",
      "AUC_mean: 0.587066254747\n",
      "PRECISION_mean: 0.407843137255\n",
      "RECALL_mean: 0.531154239019\n",
      "SPECIFICITY_mean: 0.495320855615\n",
      "[0.45054200542005418, 0.43670462156731416, 0.47638326585695007, 0.4439918533604888, 0.47758152173913043, 0.48538409245411285, 0.45356662180349933, 0.49088453747467925, 0.45866666666666667, 0.44, 0.47870879120879123, 0.47014413177762526, 0.48954821308159135, 0.45000000000000001, 0.44384303112313939, 0.47692307692307695, 0.45363575717144761, 0.45485175202156336, 0.46027397260273972, 0.48542372881355933, 0.42994505494505497, 0.46248294679399726, 0.45998655010087425, 0.4393220338983051, 0.46814218645204558, 0.44895199459093982, 0.50135501355013545, 0.46671105193075901, 0.4704697986577181, 0.47696476964769646, 0.46421536441234407, 0.48296593186372744, 0.44638069705093836, 0.439106901217862, 0.42524916943521596, 0.44338335607094131, 0.47817327065144394, 0.45953177257525085, 0.45040214477211798, 0.47654155495978551, 0.45747599451303156, 0.44832306639288161, 0.45716198125836682, 0.44876088412592097, 0.46986301369863015, 0.5, 0.45448460508701471, 0.49120433017591342, 0.47688060731538995, 0.46011004126547456, 0.49022252191503707, 0.42886456908344733, 0.44368600682593856, 0.44708276797829039, 0.49864130434782611, 0.4583050847457627, 0.44846050870147258, 0.43575418994413406, 0.4721663313212609, 0.4463690872751499, 0.4637482900136799, 0.46915254237288134, 0.48252227553118576, 0.46243169398907102, 0.46975806451612906, 0.44942294636795654, 0.47997284453496264, 0.43719972546328073, 0.43821742066171504, 0.44873501997336884, 0.45751189666893272, 0.47980501392757663, 0.45859000684462697, 0.45956873315363883, 0.46231493943472407, 0.4564770390678547, 0.46185010128291692, 0.47231715652768286, 0.46764509673115412, 0.45212038303693569, 0.45771812080536911, 0.44857916102841677, 0.48509485094850946, 0.46267652992602554, 0.44369521240728255, 0.46971736204576042, 0.45873452544704263, 0.48250336473755046, 0.45557782231128924, 0.45533915379449297, 0.44857916102841677, 0.44976399190829403, 0.47730307076101469, 0.46527777777777779, 0.46097883597883599, 0.45584239130434784, 0.47346938775510206, 0.49763991908293997, 0.46872852233676976, 0.49532085561497324]\n"
     ]
    },
    {
     "data": {
      "image/png": "[encoded data removed]",
      "text/plain": [
       "<matplotlib.figure.Figure at 0x7f7e60c6c748>"
      ]
     },
     "metadata": {},
     "output_type": "display_data"
    }
   ],
   "source": [
    "zeros = np.load('/home/miquel/ForMiquel/CLEAN2/zero_cols_X_full2.npy') \n",
    "splits = 100\n",
    "mask = 1\n",
    "folds = 3\n",
    "repetitions = 33\n",
    "percentages = np.linspace(0.001 , 2.75, 100)\n",
    "\n",
    "f=[]\n",
    "auc=[]\n",
    "precision=[]\n",
    "recall=[]\n",
    "specificity=[]\n",
    "\n",
    "for per in percentages:\n",
    "    print(\"percentage:\", per)\n",
    "    #F, AUC, PRECISION, RECALL, SPECIFICITY = metrics_splits(X, y, splits, dt, per, mask, zeros)\n",
    "    F, AUC, PRECISION, RECALL, SPECIFICITY = metrics_repetitions_folds(X, y, repetitions, folds, dt, percentage, mask)\n",
    "    f.append(F)\n",
    "    auc.append(AUC)\n",
    "    precision.append(PRECISION)\n",
    "    recall.append(RECALL)\n",
    "    specificity.append(SPECIFICITY)\n",
    "\n",
    "plt.figure(figsize=(10,10))\n",
    "plt.plot(percentages, f, color='green', label='F1_score')\n",
    "plt.plot(percentages, auc, color='red', label='AUC')\n",
    "plt.plot(percentages, precision, color='blue', label='PRECISION')\n",
    "plt.plot(percentages, recall, color='orange', label='RECALL')\n",
    "plt.plot(percentages, specificity, color='pink', label='SPECIFICITY')\n",
    "print(specificity)\n",
    "plt.legend(loc='best')\n",
    "plt.xlabel('percentage')\n",
    "plt.title('metrics for each percentage')\n",
    "plt.show()  \n"
   ]
  },
  {
   "cell_type": "code",
   "execution_count": 46,
   "metadata": {},
   "outputs": [],
   "source": []
  },
  {
   "cell_type": "code",
   "execution_count": null,
   "metadata": {},
   "outputs": [],
   "source": []
  }
 ],
 "metadata": {
  "kernelspec": {
   "display_name": "Python 3",
   "language": "python",
   "name": "python3"
  },
  "language_info": {
   "codemirror_mode": {
    "name": "ipython",
    "version": 3
   },
   "file_extension": ".py",
   "mimetype": "text/x-python",
   "name": "python",
   "nbconvert_exporter": "python",
   "pygments_lexer": "ipython3",
   "version": "3.4.2"
  }
 },
 "nbformat": 4,
 "nbformat_minor": 2
}
