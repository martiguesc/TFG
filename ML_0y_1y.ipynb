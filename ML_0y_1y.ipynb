{
 "cells": [
  {
   "cell_type": "code",
   "execution_count": 48,
   "metadata": {},
   "outputs": [],
   "source": [
    "from dbase import *\n",
    "from imports_func import *"
   ]
  },
  {
   "cell_type": "code",
   "execution_count": 49,
   "metadata": {},
   "outputs": [],
   "source": [
    "X=np.load('/home/miquel/ForMiquel/CLEAN2/X_c1_1j.npy') \n",
    "#X2=np.load('/home/miquel/ForMiquel/CLEAN2/X_c2_1j.npy')\n",
    "#X3=np.load('/home/miquel/ForMiquel/CLEAN2/X_c3_1j.npy')\n",
    "#X=np.concatenate((X1, X2), axis=1)\n",
    "#X=np.concatenate((X, X3), axis=1)\n",
    "y=np.load('/home/miquel/ForMiquel/CLEAN2/y_short.npy') #subject labels\n",
    "sub_id=np.load('/home/miquel/ForMiquel/CLEAN2/sub_id_short.npy') #subject idxs\n",
    "jac_idx=np.load('/home/miquel/ForMiquel/CLEAN2/jac_idx_1j.npy')"
   ]
  },
  {
   "cell_type": "code",
   "execution_count": 50,
   "metadata": {},
   "outputs": [],
   "source": [
    "# build vector with dt's\n",
    "dt=[]\n",
    "for i in range(0,len(sub_id)):\n",
    "    dt.append(Subjects[sub_id[i]].jacobians[jac_idx[i]].dt)\n",
    "dt = np.asarray(dt)    "
   ]
  },
  {
   "cell_type": "code",
   "execution_count": 46,
   "metadata": {},
   "outputs": [],
   "source": [
    "spl = StratifiedShuffleSplit(n_splits=1, test_size=0.3, random_state=36)\n",
    "for train_index, test_index in spl.split(X, y): #split in subjects\n",
    "    X_train = X[train_index,:]\n",
    "    X_test = X[test_index,:]\n",
    "    y_train = y[train_index]\n",
    "    y_test = y[test_index]\n",
    "    dt_test = dt[test_index]"
   ]
  },
  {
   "cell_type": "code",
   "execution_count": 51,
   "metadata": {},
   "outputs": [
    {
     "name": "stdout",
     "output_type": "stream",
     "text": [
      "(86, 31118)\n",
      "(86, 1712)\n",
      "(38, 1712)\n",
      "metrics for jacobians 0y\n",
      "0.733333333333\n",
      "0.857142857143\n",
      "0.6\n",
      "0.534522483825\n",
      "0.84410430839\n",
      "[[8 0]\n",
      " [4 3]]\n",
      "metrics for jacobians 1y\n",
      "0.565217391304\n",
      "0.491666666667\n",
      "0.375\n",
      "0.0416666666667\n",
      "0.579014123132\n",
      "[[10  5]\n",
      " [ 5  3]]\n"
     ]
    }
   ],
   "source": [
    "print(np.shape(X_train))\n",
    "S = SelectPercentile(percentile=5.5)\n",
    "#S = SelectKBest(f_classif, k=1000)\n",
    "S.fit(X_train, y_train)\n",
    "X_train = X_train[:,S.get_support()]\n",
    "X_test = X_test[:,S.get_support()]\n",
    "\n",
    "print(np.shape(X_train))\n",
    "print(np.shape(X_test))\n",
    "\n",
    "    \n",
    "#clf = SVC(kernel=\"linear\", C=100000)\n",
    "clf = LogisticRegression(solver='liblinear', penalty='l2', C=10000)\n",
    "\n",
    "y_score = clf.fit(X_train, y_train).decision_function(X_test)\n",
    "pred = clf.predict(X_test)\n",
    "\n",
    "mask0 = np.where(dt_test<=400)\n",
    "mask1 = np.where(dt_test>400)\n",
    "mask0 = np.asarray(mask0)\n",
    "mask1 = np.asarray(mask1)\n",
    "\n",
    "pred_0 = pred[mask0][0]\n",
    "y_test_0 = y_test[mask0][0]\n",
    "y_score_0 = y_score[mask0][0]\n",
    "pred_1 = pred[mask1][0]\n",
    "y_test_1 = y_test[mask1][0]\n",
    "y_score_1 = y_score[mask1][0]\n",
    "\n",
    "acc_0 = accuracy_score(y_test_0, pred_0)\n",
    "roc_0 = roc_auc_score(y_test_0, y_score_0)\n",
    "f1_0 = f1_score(y_test_0, pred_0)\n",
    "mcc_0 = matthews_corrcoef(y_test_0, pred_0)\n",
    "aps_0 = average_precision_score(y_test_0, y_score_0)\n",
    "\n",
    "print('metrics for jacobians 0y')\n",
    "print(acc_0)\n",
    "print(roc_0)\n",
    "print(f1_0)\n",
    "print(mcc_0)\n",
    "print(aps_0)\n",
    "print(confusion_matrix(y_test_0, pred_0))\n",
    "\n",
    "acc_1 = accuracy_score(y_test_1, pred_1)\n",
    "roc_1=roc_auc_score(y_test_1, y_score_1)\n",
    "f1_1=f1_score(y_test_1, pred_1)\n",
    "mcc_1=matthews_corrcoef(y_test_1, pred_1)\n",
    "aps_1=average_precision_score(y_test_1, y_score_1)\n",
    "\n",
    "print('metrics for jacobians 1y')\n",
    "print(acc_1)\n",
    "print(roc_1)\n",
    "print(f1_1)\n",
    "print(mcc_1)\n",
    "print(aps_1)\n",
    "print(confusion_matrix(y_test_1, pred_1))"
   ]
  },
  {
   "cell_type": "markdown",
   "metadata": {},
   "source": [
    "pred_0"
   ]
  },
  {
   "cell_type": "code",
   "execution_count": 37,
   "metadata": {},
   "outputs": [
    {
     "data": {
      "text/plain": [
       "array([[ -1,  -2,  -6,  -7,  -8,  -9, -10, -11, -12, -15, -17, -20, -21,\n",
       "        -22, -23, -26, -27, -28, -30, -33, -35]])"
      ]
     },
     "execution_count": 37,
     "metadata": {},
     "output_type": "execute_result"
    }
   ],
   "source": []
  },
  {
   "cell_type": "code",
   "execution_count": null,
   "metadata": {},
   "outputs": [],
   "source": []
  }
 ],
 "metadata": {
  "kernelspec": {
   "display_name": "Python 3",
   "language": "python",
   "name": "python3"
  },
  "language_info": {
   "codemirror_mode": {
    "name": "ipython",
    "version": 3
   },
   "file_extension": ".py",
   "mimetype": "text/x-python",
   "name": "python",
   "nbconvert_exporter": "python",
   "pygments_lexer": "ipython3",
   "version": "3.4.2"
  }
 },
 "nbformat": 4,
 "nbformat_minor": 2
}
