{
 "cells": [
  {
   "cell_type": "code",
   "execution_count": 1,
   "metadata": {},
   "outputs": [
    {
     "name": "stderr",
     "output_type": "stream",
     "text": [
      "/usr/local/lib/python3.4/dist-packages/sklearn/cross_validation.py:41: DeprecationWarning: This module was deprecated in version 0.18 in favor of the model_selection module into which all the refactored classes and functions are moved. Also note that the interface of the new CV iterators are different from that of this module. This module will be removed in 0.20.\n",
      "  \"This module will be removed in 0.20.\", DeprecationWarning)\n"
     ]
    }
   ],
   "source": [
    "from imports_func import *\n",
    "from dbase import *"
   ]
  },
  {
   "cell_type": "code",
   "execution_count": 2,
   "metadata": {},
   "outputs": [],
   "source": [
    "X=np.load('/home/miquel/ForMiquel/CLEAN2/X_c1_1j_full2.npy') \n",
    "y=np.load('/home/miquel/ForMiquel/CLEAN2/y_1j_full2.npy') #subject labels\n",
    "sub_id=np.load('/home/miquel/ForMiquel/CLEAN2/sub_id_short.npy') #subject idxs\n",
    "jac_idx=np.load('/home/miquel/ForMiquel/CLEAN2/jac_idx_1j_full2.npy')"
   ]
  },
  {
   "cell_type": "code",
   "execution_count": 3,
   "metadata": {},
   "outputs": [],
   "source": [
    "# build vector with dt's\n",
    "dt=[]\n",
    "for i in range(0,len(sub_id)):\n",
    "    dt.append(Subjects[sub_id[i]].jacobians[jac_idx[i]].dt)\n",
    "\n",
    "dt = np.asarray(dt)/365 \n",
    "#dt=np.reshape(dt, (124,1))"
   ]
  },
  {
   "cell_type": "code",
   "execution_count": 7,
   "metadata": {},
   "outputs": [],
   "source": [
    "def metrics_repetitions_folds(X, y, folds, splits, dt, percentage):\n",
    "    \n",
    "    l2=X.shape[0]\n",
    "    X=np.concatenate((X,np.reshape(y, (l2,1))), axis=1)\n",
    "    SPECIFICITY=[]\n",
    "    PRECISION=[]\n",
    "    RECALL=[]\n",
    "    AUC=[]\n",
    "    F=[]\n",
    "    tp_l=[]\n",
    "    fp_l=[]\n",
    "    fn_l=[]\n",
    "    tn_l=[]\n",
    "    \n",
    "    for i in range(0,splits):\n",
    "        \n",
    "        print(\"repetition:\", i)\n",
    "        X_aux = np.take(X,np.random.permutation(X.shape[0]),axis=0,out=X)\n",
    "        y_aux = X_aux[:,-1]\n",
    "        X_aux= X_aux[:,:-1]\n",
    "        print(np.shape(X_aux))\n",
    "        \n",
    "        dt=np.reshape(dt, (l2,1))\n",
    "        kf = cross_validation.KFold(l2, n_folds=folds, shuffle=True, random_state=i)    \n",
    "        \n",
    "        fold = 0\n",
    "        \n",
    "        for train_index, test_index in kf:  \n",
    "            X_train = X_aux[train_index,:]\n",
    "            X_test = X_aux[test_index,:]\n",
    "            y_train = y_aux[train_index]\n",
    "            y_test = y_aux[test_index]\n",
    "            dt_test = dt[test_index]\n",
    "            print(test_index)\n",
    "            print(y_test)\n",
    "\n",
    "            print(\"fold:\", fold)\n",
    "            fold = fold + 1\n",
    "\n",
    "            S = SelectPercentile(percentile=percentage)\n",
    "            S.fit(X_train, y_train)\n",
    "        \n",
    "            X_train_s = X_train[:,S.get_support()]\n",
    "            X_test_s = X_test[:,S.get_support()]\n",
    "            \n",
    "            clf = LogisticRegression(solver='liblinear', penalty='l2', C=10e-6, class_weight={0: 0.42, 1:0.58})\n",
    "            clf.fit(X_train_s, y_train)\n",
    "            pred = clf.predict(X_test_s)\n",
    "            probas_ = clf.predict_proba(X_test_s)\n",
    "            \n",
    "            mask0 = np.where(dt_test>1.09)#~400 days\n",
    "            mask0 = np.asarray(mask0)\n",
    "            pred = pred[mask0][0]\n",
    "            y_test = y_test[mask0][0]\n",
    "            probas_ = probas_[:, 1]\n",
    "            probas_ = probas_[mask0][0]\n",
    "              \n",
    "            conf = confusion_matrix(y_test, pred)\n",
    "            print(conf)\n",
    "            fpr, tpr, thresholds = roc_curve(y_test, probas_)\n",
    "            roc_auc = sklearn.metrics.auc(fpr, tpr)\n",
    "            AUC.append(roc_auc)\n",
    "            \n",
    "            tp_l.append(conf[1,1])\n",
    "            fp_l.append(conf[0,1])\n",
    "            fn_l.append(conf[1,0])\n",
    "            tn_l.append(conf[0,0])\n",
    "    \n",
    "    \n",
    "    TP = np.sum(tp_l)\n",
    "    FP = np.sum(fp_l)\n",
    "    TN = np.sum(tn_l)\n",
    "    FN = np.sum(fn_l)\n",
    "    \n",
    "    F=(2*TP)/(2*TP + FP + FN)\n",
    "    RECALL=TP / (TP + FN)\n",
    "    SPECIFICITY= TN / (TN + FP)\n",
    "    PRECISION=TP / (TP + FP)\n",
    "    \n",
    "    #f1=f1_score(y_test, pred)\n",
    "    #F.append(f1)\n",
    "    #precision=precision_score(y_test, pred)\n",
    "    #recall=recall_score(y_test, pred)\n",
    "    #PRECISION.append(precision)\n",
    "    #RECALL.append(recall)\n",
    "    #specificity= (conf[0,0])/(conf[0,0]+conf[0,1])\n",
    "    #SPECIFICITY.append(specificity)\n",
    "    \n",
    "    print(\"F_mean:\", F)\n",
    "    print(\"AUC_mean:\", np.mean(AUC))\n",
    "    print(\"PRECISION_mean:\", PRECISION)\n",
    "    print(\"RECALL_mean:\", RECALL)\n",
    "    print(\"SPECIFICITY_mean:\", SPECIFICITY)\n",
    "    \n",
    "    #print(\"F_mean:\", np.mean(F))\n",
    "    #print(\"AUC_mean:\", np.mean(AUC))\n",
    "    #print(\"PRECISION_mean:\", np.mean(PRECISION))\n",
    "    #print(\"RECALL_mean:\", np.mean(RECALL))\n",
    "    #print(\"SPECIFICITY_mean:\", np.mean(SPECIFICITY))\n",
    "    \n",
    "    #print(\"F_std:\", np.std(F))\n",
    "    print(\"AUC_std:\", np.std(AUC))\n",
    "    #print(\"PRECISION_std:\", np.std(PRECISION))\n",
    "    #print(\"RECALL_std:\", np.std(RECALL))\n",
    "    #print(\"SPECIFICITY_std:\", np.std(SPECIFICITY))\n",
    "            \n",
    "            \n",
    "    return F, AUC, PRECISION, RECALL, SPECIFICITY        \n"
   ]
  },
  {
   "cell_type": "code",
   "execution_count": 9,
   "metadata": {},
   "outputs": [
    {
     "name": "stdout",
     "output_type": "stream",
     "text": [
      "repetition: 0\n",
      "(124, 572738)\n",
      "[  2   7   8  10  16  22  24  43  45  48  50  54  56  61  63  71  84  86\n",
      "  90  91  93  97  98  99 111]\n",
      "[ 1.  0.  0.  1.  0.  0.  1.  0.  0.  0.  0.  0.  1.  0.  0.  1.  1.  0.\n",
      "  1.  1.  0.  0.  0.  0.  1.]\n",
      "fold: 0\n"
     ]
    },
    {
     "name": "stderr",
     "output_type": "stream",
     "text": [
      "/usr/local/lib/python3.4/dist-packages/sklearn/feature_selection/univariate_selection.py:113: UserWarning: Features [     4     13     90 ..., 572207 572510 572528] are constant.\n",
      "  UserWarning)\n",
      "/usr/local/lib/python3.4/dist-packages/sklearn/feature_selection/univariate_selection.py:114: RuntimeWarning: invalid value encountered in true_divide\n",
      "  f = msb / msw\n"
     ]
    },
    {
     "name": "stdout",
     "output_type": "stream",
     "text": [
      "[[4 4]\n",
      " [3 4]]\n",
      "[  3   6  11  13  18  26  27  30  33  51  59  60  62  66  68  75  78  94\n",
      " 105 108 114 115 118 121 123]\n",
      "[ 1.  0.  0.  0.  0.  0.  0.  0.  1.  1.  0.  1.  0.  1.  0.  1.  0.  1.\n",
      "  1.  1.  0.  0.  1.  1.  0.]\n",
      "fold: 1\n"
     ]
    },
    {
     "name": "stderr",
     "output_type": "stream",
     "text": [
      "/usr/local/lib/python3.4/dist-packages/sklearn/feature_selection/univariate_selection.py:113: UserWarning: Features [    13     99    290 ..., 572728 572729 572730] are constant.\n",
      "  UserWarning)\n"
     ]
    },
    {
     "name": "stdout",
     "output_type": "stream",
     "text": [
      "[[5 0]\n",
      " [4 3]]\n",
      "[  0   1   4   5  15  17  23  28  34  35  38  40  41  42  52  53  55  73\n",
      "  76  89  92  96 101 107 113]\n",
      "[ 0.  0.  0.  0.  0.  0.  0.  1.  1.  1.  0.  0.  1.  0.  1.  0.  1.  0.\n",
      "  1.  0.  0.  1.  1.  0.  1.]\n",
      "fold: 2\n"
     ]
    },
    {
     "name": "stderr",
     "output_type": "stream",
     "text": [
      "/usr/local/lib/python3.4/dist-packages/sklearn/feature_selection/univariate_selection.py:113: UserWarning: Features [    13     99    177 ..., 572731 572732 572735] are constant.\n",
      "  UserWarning)\n"
     ]
    },
    {
     "name": "stdout",
     "output_type": "stream",
     "text": [
      "[[2 7]\n",
      " [1 4]]\n",
      "[ 14  19  20  25  29  31  32  37  49  57  69  72  74  77  79  80  82  85\n",
      "  95 100 104 106 116 120 122]\n",
      "[ 1.  1.  0.  0.  1.  0.  0.  0.  0.  0.  0.  1.  0.  0.  1.  1.  1.  0.\n",
      "  1.  0.  0.  1.  1.  0.  0.]\n",
      "fold: 3\n"
     ]
    },
    {
     "name": "stderr",
     "output_type": "stream",
     "text": [
      "/usr/local/lib/python3.4/dist-packages/sklearn/feature_selection/univariate_selection.py:113: UserWarning: Features [    13     99    264 ..., 572720 572721 572722] are constant.\n",
      "  UserWarning)\n"
     ]
    },
    {
     "name": "stdout",
     "output_type": "stream",
     "text": [
      "[[3 7]\n",
      " [1 5]]\n",
      "[  9  12  21  36  39  44  46  47  58  64  65  67  70  81  83  87  88 102\n",
      " 103 109 110 112 117 119]\n",
      "[ 0.  0.  0.  1.  0.  0.  0.  1.  0.  0.  1.  0.  1.  0.  1.  0.  0.  1.\n",
      "  1.  1.  0.  1.  1.  0.]\n",
      "fold: 4\n"
     ]
    },
    {
     "name": "stderr",
     "output_type": "stream",
     "text": [
      "/usr/local/lib/python3.4/dist-packages/sklearn/feature_selection/univariate_selection.py:113: UserWarning: Features [    13     80     85 ..., 572733 572736 572737] are constant.\n",
      "  UserWarning)\n"
     ]
    },
    {
     "name": "stdout",
     "output_type": "stream",
     "text": [
      "[[9 3]\n",
      " [1 5]]\n",
      "repetition: 1\n",
      "(124, 572738)\n",
      "[  2  17  31  33  45  46  48  51  65  67  73  78  80  83  85  89  98 100\n",
      " 102 106 110 114 115 117 121]\n",
      "[ 1.  1.  0.  1.  1.  0.  0.  0.  1.  0.  0.  0.  1.  0.  1.  0.  0.  0.\n",
      "  0.  1.  0.  1.  0.  1.  0.]\n",
      "fold: 0\n"
     ]
    },
    {
     "name": "stderr",
     "output_type": "stream",
     "text": [
      "/usr/local/lib/python3.4/dist-packages/sklearn/feature_selection/univariate_selection.py:113: UserWarning: Features [    13     99    149 ..., 572728 572729 572730] are constant.\n",
      "  UserWarning)\n"
     ]
    },
    {
     "name": "stdout",
     "output_type": "stream",
     "text": [
      "[[ 3 10]\n",
      " [ 1  5]]\n",
      "[ 10  19  27  32  35  36  38  39  42  44  53  54  55  56  58  62  69  74\n",
      "  77  82  88  99 105 112 123]\n",
      "[ 0.  0.  0.  0.  1.  0.  1.  1.  0.  1.  0.  1.  0.  0.  0.  1.  0.  0.\n",
      "  1.  1.  0.  0.  0.  0.  1.]\n",
      "fold: 1\n"
     ]
    },
    {
     "name": "stderr",
     "output_type": "stream",
     "text": [
      "/usr/local/lib/python3.4/dist-packages/sklearn/feature_selection/univariate_selection.py:113: UserWarning: Features [    13     80     85 ..., 572720 572721 572722] are constant.\n",
      "  UserWarning)\n"
     ]
    },
    {
     "name": "stdout",
     "output_type": "stream",
     "text": [
      "[[5 7]\n",
      " [3 2]]\n",
      "[  4  15  21  23  24  26  34  40  41  43  49  52  59  66  70  90  91  93\n",
      "  95  97 103 104 108 116 118]\n",
      "[ 1.  0.  0.  0.  1.  0.  1.  0.  0.  0.  1.  0.  0.  1.  1.  0.  0.  0.\n",
      "  0.  1.  0.  0.  0.  0.  0.]\n",
      "fold: 2\n"
     ]
    },
    {
     "name": "stderr",
     "output_type": "stream",
     "text": [
      "/usr/local/lib/python3.4/dist-packages/sklearn/feature_selection/univariate_selection.py:113: UserWarning: Features [    13     99    282 ..., 572733 572736 572737] are constant.\n",
      "  UserWarning)\n"
     ]
    },
    {
     "name": "stdout",
     "output_type": "stream",
     "text": [
      "[[ 1 11]\n",
      " [ 0  1]]\n",
      "[  0   3   7   8  13  14  22  30  47  57  60  61  63  68  81  86  87  92\n",
      "  94  96 111 113 119 120 122]\n",
      "[ 1.  0.  1.  0.  0.  0.  0.  0.  1.  1.  0.  0.  0.  1.  1.  1.  1.  1.\n",
      "  1.  1.  0.  1.  1.  1.  1.]\n",
      "fold: 3\n"
     ]
    },
    {
     "name": "stderr",
     "output_type": "stream",
     "text": [
      "/usr/local/lib/python3.4/dist-packages/sklearn/feature_selection/univariate_selection.py:113: UserWarning: Features [    13     99    274 ..., 572525 572544 572553] are constant.\n",
      "  UserWarning)\n"
     ]
    },
    {
     "name": "stdout",
     "output_type": "stream",
     "text": [
      "[[ 2  0]\n",
      " [10  0]]\n",
      "[  1   5   6   9  11  12  16  18  20  25  28  29  37  50  64  71  72  75\n",
      "  76  79  84 101 107 109]\n",
      "[ 0.  1.  0.  1.  0.  1.  1.  0.  0.  0.  0.  0.  0.  1.  0.  1.  0.  0.\n",
      "  0.  1.  1.  0.  1.  0.]\n",
      "fold: 4\n"
     ]
    },
    {
     "name": "stderr",
     "output_type": "stream",
     "text": [
      "/usr/local/lib/python3.4/dist-packages/sklearn/feature_selection/univariate_selection.py:113: UserWarning: Features [    13     90     99 ..., 572731 572732 572735] are constant.\n",
      "  UserWarning)\n"
     ]
    },
    {
     "name": "stdout",
     "output_type": "stream",
     "text": [
      "[[2 5]\n",
      " [1 6]]\n",
      "repetition: 2\n",
      "(124, 572738)\n",
      "[  0   2   3   5  13  14  24  25  28  29  30  35  73  74  77  78  84  92\n",
      "  94  97  99 108 111 114 121]\n",
      "[ 0.  0.  1.  1.  0.  0.  1.  1.  1.  0.  0.  0.  0.  0.  0.  1.  0.  0.\n",
      "  0.  0.  0.  1.  1.  1.  0.]\n",
      "fold: 0\n"
     ]
    },
    {
     "name": "stderr",
     "output_type": "stream",
     "text": [
      "/usr/local/lib/python3.4/dist-packages/sklearn/feature_selection/univariate_selection.py:113: UserWarning: Features [    13     99    324 ..., 572733 572736 572737] are constant.\n",
      "  UserWarning)\n"
     ]
    },
    {
     "name": "stdout",
     "output_type": "stream",
     "text": [
      "[[7 2]\n",
      " [2 3]]\n",
      "[ 11  16  21  23  27  36  41  44  45  48  53  56  59  60  61  64  65  71\n",
      "  81  86  87  93  96  98 115]\n",
      "[ 0.  0.  1.  1.  1.  0.  1.  0.  0.  0.  1.  0.  0.  0.  0.  0.  1.  1.\n",
      "  0.  1.  0.  1.  1.  1.  1.]\n",
      "fold: 1\n"
     ]
    },
    {
     "name": "stderr",
     "output_type": "stream",
     "text": [
      "/usr/local/lib/python3.4/dist-packages/sklearn/feature_selection/univariate_selection.py:113: UserWarning: Features [     4     13     90 ..., 572731 572732 572735] are constant.\n",
      "  UserWarning)\n"
     ]
    },
    {
     "name": "stdout",
     "output_type": "stream",
     "text": [
      "[[4 0]\n",
      " [5 5]]\n",
      "[  1   6   9  10  12  17  18  19  26  32  54  55  57  62  89  91 103 110\n",
      " 113 117 118 119 120 122 123]\n",
      "[ 0.  0.  0.  1.  0.  1.  0.  0.  1.  0.  0.  0.  0.  1.  0.  1.  1.  1.\n",
      "  0.  1.  0.  0.  1.  0.  0.]\n",
      "fold: 2\n"
     ]
    },
    {
     "name": "stderr",
     "output_type": "stream",
     "text": [
      "/usr/local/lib/python3.4/dist-packages/sklearn/feature_selection/univariate_selection.py:113: UserWarning: Features [    13     99    264 ..., 572728 572729 572730] are constant.\n",
      "  UserWarning)\n"
     ]
    },
    {
     "name": "stdout",
     "output_type": "stream",
     "text": [
      "[[3 8]\n",
      " [3 4]]\n",
      "[  8  33  38  42  46  50  51  52  58  66  68  69  70  76  79  80  83  88\n",
      " 100 101 102 105 106 107 112]\n",
      "[ 1.  0.  1.  0.  1.  0.  0.  0.  0.  0.  1.  0.  1.  0.  0.  0.  1.  1.\n",
      "  0.  1.  0.  0.  1.  0.  1.]\n",
      "fold: 3\n"
     ]
    },
    {
     "name": "stderr",
     "output_type": "stream",
     "text": [
      "/usr/local/lib/python3.4/dist-packages/sklearn/feature_selection/univariate_selection.py:113: UserWarning: Features [    13     80     85 ..., 572223 572224 572461] are constant.\n",
      "  UserWarning)\n"
     ]
    },
    {
     "name": "stdout",
     "output_type": "stream",
     "text": [
      "[[2 8]\n",
      " [2 5]]\n",
      "[  4   7  15  20  22  31  34  37  39  40  43  47  49  63  67  72  75  82\n",
      "  85  90  95 104 109 116]\n",
      "[ 1.  0.  1.  1.  0.  1.  0.  0.  1.  0.  1.  1.  1.  1.  0.  1.  0.  0.\n",
      "  0.  0.  0.  0.  0.  0.]\n",
      "fold: 4\n"
     ]
    },
    {
     "name": "stderr",
     "output_type": "stream",
     "text": [
      "/usr/local/lib/python3.4/dist-packages/sklearn/feature_selection/univariate_selection.py:113: UserWarning: Features [    13     99    149 ..., 572231 572536 572554] are constant.\n",
      "  UserWarning)\n"
     ]
    },
    {
     "name": "stdout",
     "output_type": "stream",
     "text": [
      "[[5 6]\n",
      " [0 1]]\n",
      "repetition: 3\n",
      "(124, 572738)\n",
      "[  5   6   8  15  17  23  25  34  35  42  52  53  58  59  65  75  76  87\n",
      "  99 103 109 112 115 120 123]\n",
      "[ 0.  1.  0.  0.  0.  0.  0.  0.  0.  1.  1.  1.  1.  1.  1.  1.  1.  0.\n",
      "  1.  0.  1.  1.  1.  0.  0.]\n",
      "fold: 0\n"
     ]
    },
    {
     "name": "stderr",
     "output_type": "stream",
     "text": [
      "/usr/local/lib/python3.4/dist-packages/sklearn/feature_selection/univariate_selection.py:113: UserWarning: Features [    13     80     85 ..., 572728 572729 572730] are constant.\n",
      "  UserWarning)\n"
     ]
    },
    {
     "name": "stdout",
     "output_type": "stream",
     "text": [
      "[[7 0]\n",
      " [7 1]]\n",
      "[  4   9  12  27  36  40  45  47  57  67  77  80  84  86  89  91  92  95\n",
      "  97  98 101 102 104 105 111]\n",
      "[ 0.  0.  0.  0.  0.  1.  0.  0.  0.  1.  1.  0.  1.  0.  1.  1.  0.  0.\n",
      "  0.  1.  0.  1.  0.  1.  0.]\n",
      "fold: 1\n"
     ]
    },
    {
     "name": "stderr",
     "output_type": "stream",
     "text": [
      "/usr/local/lib/python3.4/dist-packages/sklearn/feature_selection/univariate_selection.py:113: UserWarning: Features [    13     99    344 ..., 572712 572713 572714] are constant.\n",
      "  UserWarning)\n"
     ]
    },
    {
     "name": "stdout",
     "output_type": "stream",
     "text": [
      "[[3 8]\n",
      " [3 6]]\n",
      "[ 11  13  16  18  30  31  32  46  50  55  61  64  68  70  71  73  82  83\n",
      "  85  88  94 108 114 118 119]\n",
      "[ 0.  1.  0.  0.  1.  1.  1.  0.  1.  1.  1.  0.  1.  0.  0.  0.  0.  0.\n",
      "  1.  0.  0.  0.  0.  1.  1.]\n",
      "fold: 2\n"
     ]
    },
    {
     "name": "stderr",
     "output_type": "stream",
     "text": [
      "/usr/local/lib/python3.4/dist-packages/sklearn/feature_selection/univariate_selection.py:113: UserWarning: Features [     4     13     90 ..., 572733 572736 572737] are constant.\n",
      "  UserWarning)\n"
     ]
    },
    {
     "name": "stdout",
     "output_type": "stream",
     "text": [
      "[[6 4]\n",
      " [2 4]]\n",
      "[  1   2   7  22  28  29  33  37  43  48  49  51  54  60  62  63  66  69\n",
      "  78  79 100 110 113 117 122]\n",
      "[ 1.  0.  1.  1.  0.  0.  0.  0.  1.  0.  0.  0.  1.  1.  0.  0.  0.  1.\n",
      "  1.  0.  0.  1.  1.  0.  0.]\n",
      "fold: 3\n"
     ]
    },
    {
     "name": "stderr",
     "output_type": "stream",
     "text": [
      "/usr/local/lib/python3.4/dist-packages/sklearn/feature_selection/univariate_selection.py:113: UserWarning: Features [    13     99    149 ..., 572731 572732 572735] are constant.\n",
      "  UserWarning)\n"
     ]
    },
    {
     "name": "stdout",
     "output_type": "stream",
     "text": [
      "[[5 2]\n",
      " [2 2]]\n",
      "[  0   3  10  14  19  20  21  24  26  38  39  41  44  56  72  74  81  90\n",
      "  93  96 106 107 116 121]\n",
      "[ 0.  0.  0.  0.  0.  0.  0.  0.  1.  1.  1.  0.  0.  0.  0.  1.  0.  0.\n",
      "  0.  1.  1.  0.  1.  0.]\n",
      "fold: 4\n"
     ]
    },
    {
     "name": "stderr",
     "output_type": "stream",
     "text": [
      "/usr/local/lib/python3.4/dist-packages/sklearn/feature_selection/univariate_selection.py:113: UserWarning: Features [    13     99    288 ..., 572528 572685 572704] are constant.\n",
      "  UserWarning)\n"
     ]
    },
    {
     "name": "stdout",
     "output_type": "stream",
     "text": [
      "[[0 8]\n",
      " [0 5]]\n",
      "repetition: 4\n",
      "(124, 572738)\n",
      "[  2   5   7  13  16  18  19  20  24  25  26  29  34  35  60  64  76  79\n",
      "  81  82  83  86  99 112 117]\n",
      "[ 0.  1.  0.  1.  1.  0.  0.  1.  0.  1.  1.  1.  0.  1.  1.  0.  0.  0.\n",
      "  1.  0.  0.  0.  0.  0.  0.]\n",
      "fold: 0\n"
     ]
    },
    {
     "name": "stderr",
     "output_type": "stream",
     "text": [
      "/usr/local/lib/python3.4/dist-packages/sklearn/feature_selection/univariate_selection.py:113: UserWarning: Features [    13     80     85 ..., 572554 572621 572634] are constant.\n",
      "  UserWarning)\n"
     ]
    },
    {
     "name": "stdout",
     "output_type": "stream",
     "text": [
      "[[1 8]\n",
      " [0 2]]\n",
      "[  4   6  10  11  12  14  31  41  47  54  61  65  70  74  75  77  78  80\n",
      "  84  88  91 101 110 114 119]\n",
      "[ 1.  0.  1.  1.  1.  0.  0.  0.  0.  0.  0.  1.  0.  0.  1.  0.  0.  0.\n",
      "  0.  1.  1.  0.  0.  1.  0.]\n",
      "fold: 1\n"
     ]
    },
    {
     "name": "stderr",
     "output_type": "stream",
     "text": [
      "/usr/local/lib/python3.4/dist-packages/sklearn/feature_selection/univariate_selection.py:113: UserWarning: Features [    13     90     99 ..., 572702 572703 572704] are constant.\n",
      "  UserWarning)\n"
     ]
    },
    {
     "name": "stdout",
     "output_type": "stream",
     "text": [
      "[[1 8]\n",
      " [1 5]]\n",
      "[ 15  22  23  27  37  39  43  48  51  53  59  62  63  67  68  71  89  90\n",
      "  93  95  96  98 105 116 120]\n",
      "[ 0.  1.  1.  0.  1.  1.  0.  1.  1.  0.  0.  1.  0.  0.  1.  0.  1.  1.\n",
      "  1.  0.  0.  1.  0.  0.  0.]\n",
      "fold: 2\n"
     ]
    },
    {
     "name": "stderr",
     "output_type": "stream",
     "text": [
      "/usr/local/lib/python3.4/dist-packages/sklearn/feature_selection/univariate_selection.py:113: UserWarning: Features [    13     99    324 ..., 572728 572729 572730] are constant.\n",
      "  UserWarning)\n"
     ]
    },
    {
     "name": "stdout",
     "output_type": "stream",
     "text": [
      "[[10  0]\n",
      " [ 7  0]]\n",
      "[  0   8  17  21  28  30  32  33  40  42  45  49  56  66  73  85  92  97\n",
      " 100 102 106 107 108 113 123]\n",
      "[ 0.  0.  0.  0.  0.  0.  1.  0.  1.  1.  0.  1.  1.  0.  0.  0.  1.  1.\n",
      "  0.  0.  1.  1.  1.  1.  0.]\n",
      "fold: 3\n"
     ]
    },
    {
     "name": "stderr",
     "output_type": "stream",
     "text": [
      "/usr/local/lib/python3.4/dist-packages/sklearn/feature_selection/univariate_selection.py:113: UserWarning: Features [    13     99    175 ..., 572731 572732 572735] are constant.\n",
      "  UserWarning)\n"
     ]
    },
    {
     "name": "stdout",
     "output_type": "stream",
     "text": [
      "[[6 1]\n",
      " [4 5]]\n",
      "[  1   3   9  36  38  44  46  50  52  55  57  58  69  72  87  94 103 104\n",
      " 109 111 115 118 121 122]\n",
      "[ 1.  0.  0.  0.  0.  0.  0.  0.  1.  0.  0.  1.  0.  1.  0.  1.  1.  0.\n",
      "  0.  0.  0.  1.  0.  1.]\n",
      "fold: 4\n"
     ]
    },
    {
     "name": "stderr",
     "output_type": "stream",
     "text": [
      "/usr/local/lib/python3.4/dist-packages/sklearn/feature_selection/univariate_selection.py:113: UserWarning: Features [    13     99    178 ..., 572733 572736 572737] are constant.\n",
      "  UserWarning)\n"
     ]
    },
    {
     "name": "stdout",
     "output_type": "stream",
     "text": [
      "[[2 9]\n",
      " [2 3]]\n",
      "repetition: 5\n",
      "(124, 572738)\n",
      "[  6  10  17  20  23  28  35  37  42  43  50  57  59  60  64  81  88  89\n",
      "  91  95 101 106 107 116 123]\n",
      "[ 0.  0.  0.  0.  1.  0.  0.  0.  0.  0.  1.  0.  1.  0.  0.  0.  1.  0.\n",
      "  1.  1.  0.  0.  0.  1.  1.]\n",
      "fold: 0\n",
      "[[0 9]\n",
      " [2 5]]\n",
      "[ 12  13  22  24  32  34  39  40  45  46  48  49  52  54  56  66  72  74\n",
      "  79  83  85  97 105 115 120]\n",
      "[ 1.  1.  0.  1.  1.  0.  0.  0.  1.  1.  0.  0.  0.  0.  1.  0.  0.  1.\n",
      "  0.  0.  1.  0.  0.  0.  1.]\n",
      "fold: 1\n"
     ]
    },
    {
     "name": "stderr",
     "output_type": "stream",
     "text": [
      "/usr/local/lib/python3.4/dist-packages/sklearn/feature_selection/univariate_selection.py:113: UserWarning: Features [    13     99    178 ..., 572677 572708 572709] are constant.\n",
      "  UserWarning)\n"
     ]
    },
    {
     "name": "stdout",
     "output_type": "stream",
     "text": [
      "[[2 5]\n",
      " [4 3]]\n",
      "[  3  11  14  19  21  25  26  29  33  38  55  63  67  69  70  71  87  90\n",
      "  92  93  94  96  98 108 114]\n",
      "[ 1.  1.  1.  0.  0.  0.  0.  1.  1.  1.  0.  0.  0.  0.  1.  0.  1.  0.\n",
      "  0.  0.  1.  0.  1.  1.  0.]\n",
      "fold: 2\n"
     ]
    },
    {
     "name": "stderr",
     "output_type": "stream",
     "text": [
      "/usr/local/lib/python3.4/dist-packages/sklearn/feature_selection/univariate_selection.py:113: UserWarning: Features [    13     90     99 ..., 572728 572729 572730] are constant.\n",
      "  UserWarning)\n"
     ]
    },
    {
     "name": "stdout",
     "output_type": "stream",
     "text": [
      "[[9 2]\n",
      " [4 1]]\n",
      "[  0   1   2   4   5   9  18  31  36  41  47  51  58  65  68  75  82  84\n",
      "  86 104 110 112 117 119 122]\n",
      "[ 0.  0.  0.  0.  0.  1.  1.  1.  0.  1.  0.  1.  1.  0.  1.  0.  0.  1.\n",
      "  0.  0.  0.  1.  1.  0.  1.]\n",
      "fold: 3\n"
     ]
    },
    {
     "name": "stderr",
     "output_type": "stream",
     "text": [
      "/usr/local/lib/python3.4/dist-packages/sklearn/feature_selection/univariate_selection.py:113: UserWarning: Features [    13     99    204 ..., 572720 572721 572722] are constant.\n",
      "  UserWarning)\n"
     ]
    },
    {
     "name": "stdout",
     "output_type": "stream",
     "text": [
      "[[6 0]\n",
      " [4 3]]\n",
      "[  7   8  15  16  27  30  44  53  61  62  73  76  77  78  80  99 100 102\n",
      " 103 109 111 113 118 121]\n",
      "[ 1.  1.  1.  0.  0.  0.  1.  1.  0.  0.  0.  1.  0.  0.  1.  1.  0.  0.\n",
      "  0.  1.  0.  1.  0.  0.]\n",
      "fold: 4\n",
      "[[4 6]\n",
      " [2 4]]\n",
      "repetition: 6\n",
      "(124, 572738)\n",
      "[  0  16  17  20  23  30  32  38  39  44  45  51  52  53  59  60  61  64\n",
      "  72  82  83 104 110 116 121]\n",
      "[ 0.  0.  1.  1.  0.  1.  1.  0.  1.  0.  0.  0.  0.  0.  1.  1.  0.  1.\n",
      "  0.  0.  1.  1.  0.  1.  0.]\n",
      "fold: 0\n"
     ]
    },
    {
     "name": "stderr",
     "output_type": "stream",
     "text": [
      "/usr/local/lib/python3.4/dist-packages/sklearn/feature_selection/univariate_selection.py:113: UserWarning: Features [    13     99    149 ..., 572733 572736 572737] are constant.\n",
      "  UserWarning)\n"
     ]
    },
    {
     "name": "stdout",
     "output_type": "stream",
     "text": [
      "[[6 1]\n",
      " [2 4]]\n",
      "[  6   9  13  14  18  21  27  29  34  37  46  54  55  58  65  71  81  85\n",
      "  88  90 102 103 111 113 122]\n",
      "[ 1.  0.  1.  1.  0.  1.  0.  0.  0.  0.  0.  0.  1.  0.  0.  0.  0.  1.\n",
      "  1.  1.  1.  0.  1.  1.  1.]\n",
      "fold: 1\n"
     ]
    },
    {
     "name": "stderr",
     "output_type": "stream",
     "text": [
      "/usr/local/lib/python3.4/dist-packages/sklearn/feature_selection/univariate_selection.py:113: UserWarning: Features [    13     80     85 ..., 572588 572708 572709] are constant.\n",
      "  UserWarning)\n"
     ]
    },
    {
     "name": "stdout",
     "output_type": "stream",
     "text": [
      "[[9 0]\n",
      " [6 3]]\n",
      "[  3   7  11  12  22  24  35  36  41  42  47  48  56  67  70  74  78  87\n",
      "  94  95 101 105 112 117 123]\n",
      "[ 1.  0.  1.  1.  0.  0.  0.  0.  1.  0.  0.  1.  0.  1.  1.  0.  1.  1.\n",
      "  0.  0.  0.  1.  1.  1.  1.]\n",
      "fold: 2\n"
     ]
    },
    {
     "name": "stderr",
     "output_type": "stream",
     "text": [
      "/usr/local/lib/python3.4/dist-packages/sklearn/feature_selection/univariate_selection.py:113: UserWarning: Features [    13     99    178 ..., 572662 572677 572704] are constant.\n",
      "  UserWarning)\n"
     ]
    },
    {
     "name": "stdout",
     "output_type": "stream",
     "text": [
      "[[5 0]\n",
      " [8 0]]\n",
      "[  4   5  15  19  28  31  40  43  49  50  63  66  69  86  89  92  93  96\n",
      "  97  98 100 108 114 115 118]\n",
      "[ 0.  0.  0.  0.  0.  0.  0.  0.  0.  1.  1.  0.  1.  1.  0.  0.  1.  1.\n",
      "  0.  1.  0.  0.  0.  1.  1.]\n",
      "fold: 3\n",
      "[[3 4]\n",
      " [2 6]]\n",
      "[  1   2   8  10  25  26  33  57  62  68  73  75  76  77  79  80  84  91\n",
      "  99 106 107 109 119 120]\n",
      "[ 0.  1.  0.  0.  0.  0.  0.  0.  0.  0.  0.  1.  0.  0.  1.  0.  0.  0.\n",
      "  0.  0.  1.  0.  1.  0.]\n",
      "fold: 4\n",
      "[[ 0 12]\n",
      " [ 0  4]]\n",
      "repetition: 7\n",
      "(124, 572738)\n",
      "[  5  13  22  26  40  41  43  49  51  52  59  65  66  71  82  85  97  99\n",
      " 100 107 108 109 115 121 123]\n",
      "[ 0.  1.  0.  0.  1.  1.  0.  1.  0.  0.  1.  0.  0.  0.  0.  0.  0.  0.\n",
      "  1.  1.  1.  1.  1.  1.  0.]\n",
      "fold: 0\n"
     ]
    },
    {
     "name": "stderr",
     "output_type": "stream",
     "text": [
      "/usr/local/lib/python3.4/dist-packages/sklearn/feature_selection/univariate_selection.py:113: UserWarning: Features [    13     90     99 ..., 572172 572188 572231] are constant.\n",
      "  UserWarning)\n"
     ]
    },
    {
     "name": "stdout",
     "output_type": "stream",
     "text": [
      "[[5 2]\n",
      " [5 2]]\n",
      "[  2  11  12  15  17  18  20  29  30  37  45  46  50  54  58  76  77  79\n",
      "  81  84  93  95 106 113 120]\n",
      "[ 0.  0.  1.  0.  1.  0.  1.  1.  0.  1.  0.  0.  0.  0.  1.  1.  1.  0.\n",
      "  0.  1.  0.  0.  1.  0.  0.]\n",
      "fold: 1\n"
     ]
    },
    {
     "name": "stderr",
     "output_type": "stream",
     "text": [
      "/usr/local/lib/python3.4/dist-packages/sklearn/feature_selection/univariate_selection.py:113: UserWarning: Features [    13     99    288 ..., 572733 572736 572737] are constant.\n",
      "  UserWarning)\n"
     ]
    },
    {
     "name": "stdout",
     "output_type": "stream",
     "text": [
      "[[7 2]\n",
      " [2 6]]\n",
      "[  3  10  16  21  27  28  31  32  33  35  36  62  70  74  80  86  87  88\n",
      "  94  96 104 105 110 112 114]\n",
      "[ 0.  1.  0.  1.  0.  0.  0.  0.  1.  1.  1.  0.  1.  1.  0.  0.  0.  1.\n",
      "  0.  0.  0.  0.  1.  0.  0.]\n",
      "fold: 2\n"
     ]
    },
    {
     "name": "stderr",
     "output_type": "stream",
     "text": [
      "/usr/local/lib/python3.4/dist-packages/sklearn/feature_selection/univariate_selection.py:113: UserWarning: Features [    13     99    204 ..., 572692 572702 572703] are constant.\n",
      "  UserWarning)\n"
     ]
    },
    {
     "name": "stdout",
     "output_type": "stream",
     "text": [
      "[[2 9]\n",
      " [1 4]]\n",
      "[  1   4   6   9  19  24  34  38  53  55  56  60  61  63  64  69  73  75\n",
      "  78  91  98 101 111 116 119]\n",
      "[ 1.  1.  0.  0.  0.  1.  1.  1.  0.  1.  1.  0.  0.  1.  0.  0.  0.  1.\n",
      "  0.  0.  0.  0.  1.  0.  1.]\n",
      "fold: 3\n"
     ]
    },
    {
     "name": "stderr",
     "output_type": "stream",
     "text": [
      "/usr/local/lib/python3.4/dist-packages/sklearn/feature_selection/univariate_selection.py:113: UserWarning: Features [    13     80     85 ..., 572731 572732 572735] are constant.\n",
      "  UserWarning)\n"
     ]
    },
    {
     "name": "stdout",
     "output_type": "stream",
     "text": [
      "[[6 3]\n",
      " [2 5]]\n",
      "[  0   7   8  14  23  25  39  42  44  47  48  57  67  68  72  83  89  90\n",
      "  92 102 103 117 118 122]\n",
      "[ 0.  1.  0.  0.  0.  0.  0.  1.  0.  1.  0.  1.  1.  0.  0.  0.  0.  1.\n",
      "  1.  0.  1.  1.  0.  0.]\n",
      "fold: 4\n"
     ]
    },
    {
     "name": "stderr",
     "output_type": "stream",
     "text": [
      "/usr/local/lib/python3.4/dist-packages/sklearn/feature_selection/univariate_selection.py:113: UserWarning: Features [    13     99    282 ..., 572728 572729 572730] are constant.\n",
      "  UserWarning)\n"
     ]
    },
    {
     "name": "stdout",
     "output_type": "stream",
     "text": [
      "[[2 5]\n",
      " [2 3]]\n",
      "repetition: 8\n",
      "(124, 572738)\n",
      "[  0   1   3   4  12  17  29  30  35  40  43  50  62  75  78  82  87  96\n",
      "  97  99 106 107 108 116 123]\n",
      "[ 1.  1.  1.  1.  0.  0.  1.  0.  1.  0.  1.  0.  0.  1.  0.  1.  1.  1.\n",
      "  0.  0.  1.  0.  0.  0.  0.]\n",
      "fold: 0\n"
     ]
    },
    {
     "name": "stderr",
     "output_type": "stream",
     "text": [
      "/usr/local/lib/python3.4/dist-packages/sklearn/feature_selection/univariate_selection.py:113: UserWarning: Features [    13     90     99 ..., 572720 572721 572722] are constant.\n",
      "  UserWarning)\n"
     ]
    },
    {
     "name": "stdout",
     "output_type": "stream",
     "text": [
      "[[7 4]\n",
      " [3 2]]\n",
      "[ 11  16  19  23  24  25  33  44  52  57  70  76  80  86  88  89  91  94\n",
      " 101 112 115 117 118 119 121]\n",
      "[ 1.  0.  1.  1.  1.  0.  0.  0.  1.  0.  0.  0.  0.  0.  0.  0.  1.  1.\n",
      "  0.  1.  1.  0.  1.  1.  1.]\n",
      "fold: 1\n",
      "[[7 1]\n",
      " [5 3]]\n",
      "[  2   6   7  10  22  32  34  36  37  38  39  41  46  54  55  58  64  65\n",
      "  69  73  77  79 110 111 122]\n",
      "[ 1.  0.  0.  1.  0.  1.  0.  1.  1.  1.  0.  0.  1.  0.  0.  0.  1.  0.\n",
      "  1.  0.  0.  1.  0.  0.  1.]\n",
      "fold: 2\n"
     ]
    },
    {
     "name": "stderr",
     "output_type": "stream",
     "text": [
      "/usr/local/lib/python3.4/dist-packages/sklearn/feature_selection/univariate_selection.py:113: UserWarning: Features [    13     80     85 ..., 572461 572510 572528] are constant.\n",
      "  UserWarning)\n"
     ]
    },
    {
     "name": "stdout",
     "output_type": "stream",
     "text": [
      "[[3 4]\n",
      " [5 3]]\n",
      "[ 14  18  20  21  26  28  31  42  45  47  51  53  56  66  68  71  72  81\n",
      "  92  95 100 102 103 114 120]\n",
      "[ 0.  1.  1.  0.  0.  0.  0.  0.  0.  1.  0.  0.  0.  0.  1.  1.  1.  1.\n",
      "  1.  0.  0.  0.  0.  0.  0.]\n",
      "fold: 3\n",
      "[[ 0 10]\n",
      " [ 1  2]]\n",
      "[  5   8   9  13  15  27  48  49  59  60  61  63  67  74  83  84  85  90\n",
      "  93  98 104 105 109 113]\n",
      "[ 1.  0.  0.  1.  0.  0.  0.  0.  1.  0.  1.  1.  1.  0.  1.  0.  0.  0.\n",
      "  0.  0.  0.  0.  0.  0.]\n",
      "fold: 4\n"
     ]
    },
    {
     "name": "stderr",
     "output_type": "stream",
     "text": [
      "/usr/local/lib/python3.4/dist-packages/sklearn/feature_selection/univariate_selection.py:113: UserWarning: Features [    13     99    204 ..., 572554 572604 572605] are constant.\n",
      "  UserWarning)\n"
     ]
    },
    {
     "name": "stdout",
     "output_type": "stream",
     "text": [
      "[[ 1 11]\n",
      " [ 0  3]]\n",
      "repetition: 9\n",
      "(124, 572738)\n",
      "[  3   6  10  20  21  23  25  26  28  35  39  43  47  55  68  69  75  79\n",
      "  81  83 100 101 102 112 118]\n",
      "[ 1.  0.  0.  0.  1.  1.  1.  0.  1.  1.  0.  0.  1.  0.  0.  0.  0.  1.\n",
      "  0.  1.  0.  0.  0.  1.  0.]\n",
      "fold: 0\n"
     ]
    },
    {
     "name": "stderr",
     "output_type": "stream",
     "text": [
      "/usr/local/lib/python3.4/dist-packages/sklearn/feature_selection/univariate_selection.py:113: UserWarning: Features [    13     99    177 ..., 572735 572736 572737] are constant.\n",
      "  UserWarning)\n"
     ]
    },
    {
     "name": "stdout",
     "output_type": "stream",
     "text": [
      "[[0 8]\n",
      " [0 6]]\n",
      "[  2  14  17  29  31  32  36  38  41  42  46  53  57  61  64  66  67  71\n",
      "  72  90  94  99 104 105 107]\n",
      "[ 1.  0.  1.  1.  0.  1.  1.  1.  0.  0.  0.  0.  0.  1.  0.  0.  1.  0.\n",
      "  1.  0.  0.  1.  0.  1.  0.]\n",
      "fold: 1\n"
     ]
    },
    {
     "name": "stderr",
     "output_type": "stream",
     "text": [
      "/usr/local/lib/python3.4/dist-packages/sklearn/feature_selection/univariate_selection.py:113: UserWarning: Features [     4     13     90 ..., 572712 572713 572714] are constant.\n",
      "  UserWarning)\n"
     ]
    },
    {
     "name": "stdout",
     "output_type": "stream",
     "text": [
      "[[6 2]\n",
      " [5 1]]\n",
      "[  5   7   8  15  16  24  27  30  34  44  45  48  51  70  73  76  78  82\n",
      "  84  85  89  96  98 108 109]\n",
      "[ 1.  0.  0.  0.  0.  1.  1.  1.  0.  0.  1.  1.  1.  0.  0.  0.  1.  1.\n",
      "  1.  1.  0.  0.  0.  1.  1.]\n",
      "fold: 2\n"
     ]
    },
    {
     "name": "stderr",
     "output_type": "stream",
     "text": [
      "/usr/local/lib/python3.4/dist-packages/sklearn/feature_selection/univariate_selection.py:113: UserWarning: Features [    13     99    264 ..., 572704 572708 572709] are constant.\n",
      "  UserWarning)\n"
     ]
    },
    {
     "name": "stdout",
     "output_type": "stream",
     "text": [
      "[[5 0]\n",
      " [6 2]]\n",
      "[  1   4   9  11  13  18  19  37  49  50  58  63  77  80  86  87  95  97\n",
      " 103 106 111 114 116 121 122]\n",
      "[ 0.  1.  0.  0.  0.  0.  0.  0.  0.  0.  1.  0.  0.  1.  0.  0.  0.  0.\n",
      "  1.  0.  0.  1.  0.  0.  0.]\n",
      "fold: 3\n",
      "[[ 1 13]\n",
      " [ 0  4]]\n",
      "[  0  12  22  33  40  52  54  56  59  60  62  65  74  88  91  92  93 110\n",
      " 113 115 117 119 120 123]\n",
      "[ 1.  0.  0.  1.  0.  0.  0.  1.  0.  1.  0.  0.  1.  1.  0.  1.  0.  1.\n",
      "  0.  0.  1.  1.  1.  0.]\n",
      "fold: 4\n",
      "[[8 0]\n",
      " [5 3]]\n",
      "repetition: 10\n",
      "(124, 572738)\n",
      "[  1   2  10  26  37  38  39  43  45  47  48  52  55  61  63  68  81  82\n",
      "  83  87  96  97 101 115 116]\n",
      "[ 0.  1.  1.  0.  0.  1.  0.  0.  0.  0.  0.  1.  1.  1.  0.  0.  0.  0.\n",
      "  1.  1.  1.  0.  1.  1.  0.]\n",
      "fold: 0\n",
      "[[5 1]\n",
      " [6 2]]\n",
      "[  3   6  14  19  20  21  32  35  41  42  56  58  66  70  71  79  84  85\n",
      "  91  98 109 110 111 114 117]\n",
      "[ 0.  1.  0.  1.  0.  0.  0.  0.  1.  0.  1.  1.  1.  1.  0.  0.  0.  0.\n",
      "  1.  0.  1.  0.  1.  0.  1.]\n",
      "fold: 1\n",
      "[[5 4]\n",
      " [4 2]]\n",
      "[  4   5   7  17  24  34  44  46  50  53  59  60  67  74  75  76  80  90\n",
      "  95  99 105 108 120 121 123]\n",
      "[ 0.  0.  0.  0.  1.  1.  0.  1.  0.  1.  0.  0.  0.  0.  0.  1.  1.  0.\n",
      "  0.  0.  0.  1.  1.  0.  1.]\n",
      "fold: 2\n",
      "[[3 7]\n",
      " [3 4]]\n",
      "[ 12  13  18  22  23  25  27  30  31  49  51  57  65  69  72  77  78  86\n",
      "  92  94 102 103 104 107 118]\n",
      "[ 1.  0.  1.  1.  0.  1.  0.  1.  1.  0.  1.  0.  0.  0.  0.  0.  0.  1.\n",
      "  0.  0.  0.  1.  1.  0.  1.]\n",
      "fold: 3\n"
     ]
    },
    {
     "name": "stderr",
     "output_type": "stream",
     "text": [
      "/usr/local/lib/python3.4/dist-packages/sklearn/feature_selection/univariate_selection.py:113: UserWarning: Features [    13     99    204 ..., 572554 572621 572634] are constant.\n",
      "  UserWarning)\n"
     ]
    },
    {
     "name": "stdout",
     "output_type": "stream",
     "text": [
      "[[4 4]\n",
      " [2 5]]\n",
      "[  0   8   9  11  15  16  28  29  33  36  40  54  62  64  73  88  89  93\n",
      " 100 106 112 113 119 122]\n",
      "[ 0.  0.  0.  1.  0.  1.  1.  0.  1.  0.  1.  0.  0.  0.  0.  0.  0.  0.\n",
      "  0.  1.  1.  0.  0.  1.]\n",
      "fold: 4\n",
      "[[2 8]\n",
      " [1 3]]\n",
      "repetition: 11\n",
      "(124, 572738)\n",
      "[  0   2   6   9  15  16  29  30  35  36  39  42  56  61  65  73  75  77\n",
      "  83  88  90  97 104 113 116]\n",
      "[ 0.  0.  0.  1.  1.  1.  0.  0.  1.  1.  0.  0.  0.  0.  1.  0.  0.  1.\n",
      "  0.  0.  1.  1.  0.  0.  1.]\n",
      "fold: 0\n",
      "[[4 3]\n",
      " [2 3]]\n",
      "[ 11  20  21  22  26  28  31  41  49  51  52  54  58  60  62  66  86  99\n",
      " 101 102 105 107 117 121 122]\n",
      "[ 0.  1.  1.  1.  1.  0.  0.  1.  0.  0.  0.  0.  0.  1.  1.  1.  1.  0.\n",
      "  1.  0.  1.  0.  0.  0.  1.]\n",
      "fold: 1\n"
     ]
    },
    {
     "name": "stderr",
     "output_type": "stream",
     "text": [
      "/usr/local/lib/python3.4/dist-packages/sklearn/feature_selection/univariate_selection.py:113: UserWarning: Features [    13     99    178 ..., 572728 572729 572730] are constant.\n",
      "  UserWarning)\n"
     ]
    },
    {
     "name": "stdout",
     "output_type": "stream",
     "text": [
      "[[6 2]\n",
      " [4 1]]\n",
      "[  3   8  18  19  38  46  47  50  59  68  69  72  78  87  93  95  96 100\n",
      " 103 106 108 111 114 115 123]\n",
      "[ 0.  0.  0.  0.  1.  0.  0.  0.  0.  1.  0.  0.  0.  0.  1.  0.  1.  1.\n",
      "  1.  0.  1.  1.  0.  0.  1.]\n",
      "fold: 2\n"
     ]
    },
    {
     "name": "stderr",
     "output_type": "stream",
     "text": [
      "/usr/local/lib/python3.4/dist-packages/sklearn/feature_selection/univariate_selection.py:113: UserWarning: Features [    13     80     85 ..., 572472 572553 572576] are constant.\n",
      "  UserWarning)\n"
     ]
    },
    {
     "name": "stdout",
     "output_type": "stream",
     "text": [
      "[[5 3]\n",
      " [3 5]]\n",
      "[  5   7  10  14  17  23  27  40  43  44  53  57  64  67  70  79  85  89\n",
      "  94  98 110 112 118 119 120]\n",
      "[ 1.  0.  1.  0.  0.  0.  0.  0.  1.  1.  1.  0.  1.  1.  1.  0.  0.  1.\n",
      "  0.  0.  0.  0.  0.  0.  1.]\n",
      "fold: 3\n",
      "[[6 6]\n",
      " [2 4]]\n",
      "[  1   4  12  13  24  25  32  33  34  37  45  48  55  63  71  74  76  80\n",
      "  81  82  84  91  92 109]\n",
      "[ 0.  1.  0.  0.  0.  0.  0.  0.  0.  0.  1.  1.  1.  1.  1.  1.  1.  0.\n",
      "  0.  0.  1.  0.  0.  0.]\n",
      "fold: 4\n"
     ]
    },
    {
     "name": "stderr",
     "output_type": "stream",
     "text": [
      "/usr/local/lib/python3.4/dist-packages/sklearn/feature_selection/univariate_selection.py:113: UserWarning: Features [    13     99    274 ..., 572231 572536 572554] are constant.\n",
      "  UserWarning)\n"
     ]
    },
    {
     "name": "stdout",
     "output_type": "stream",
     "text": [
      "[[4 6]\n",
      " [2 4]]\n",
      "repetition: 12\n",
      "(124, 572738)\n",
      "[  1   7   8  11  14  15  17  19  21  24  26  31  39  40  46  51  61  69\n",
      "  85 102 106 107 112 115 117]\n",
      "[ 0.  0.  0.  1.  0.  1.  1.  1.  0.  1.  0.  1.  0.  0.  1.  0.  0.  0.\n",
      "  1.  0.  0.  1.  0.  0.  0.]\n",
      "fold: 0\n"
     ]
    },
    {
     "name": "stderr",
     "output_type": "stream",
     "text": [
      "/usr/local/lib/python3.4/dist-packages/sklearn/feature_selection/univariate_selection.py:113: UserWarning: Features [    13     80     85 ..., 572662 572677 572685] are constant.\n",
      "  UserWarning)\n"
     ]
    },
    {
     "name": "stdout",
     "output_type": "stream",
     "text": [
      "[[3 5]\n",
      " [1 3]]\n",
      "[  9  10  12  16  23  36  38  64  66  70  77  78  83  87  88  90  91  93\n",
      "  94 100 105 108 114 118 120]\n",
      "[ 1.  0.  0.  0.  0.  1.  0.  0.  0.  0.  0.  0.  0.  1.  0.  0.  0.  1.\n",
      "  1.  0.  0.  0.  1.  1.  0.]\n",
      "fold: 1\n",
      "[[ 1 14]\n",
      " [ 1  5]]\n",
      "[ 20  28  29  37  41  42  43  44  47  53  54  55  57  58  60  71  72  81\n",
      "  92  96  97  98 103 111 119]\n",
      "[ 0.  0.  0.  1.  0.  1.  1.  0.  0.  1.  1.  1.  0.  0.  0.  1.  1.  0.\n",
      "  0.  1.  1.  1.  1.  1.  1.]\n",
      "fold: 2\n"
     ]
    },
    {
     "name": "stderr",
     "output_type": "stream",
     "text": [
      "/usr/local/lib/python3.4/dist-packages/sklearn/feature_selection/univariate_selection.py:113: UserWarning: Features [    13     99    290 ..., 572733 572736 572737] are constant.\n",
      "  UserWarning)\n"
     ]
    },
    {
     "name": "stdout",
     "output_type": "stream",
     "text": [
      "[[3 0]\n",
      " [8 3]]\n",
      "[  4  18  25  30  32  33  35  45  50  56  59  62  63  65  68  73  79  80\n",
      "  84  86  95  99 101 121 122]\n",
      "[ 0.  0.  1.  1.  1.  0.  0.  0.  1.  0.  0.  0.  0.  1.  1.  0.  0.  0.\n",
      "  1.  1.  0.  0.  0.  0.  1.]\n",
      "fold: 3\n",
      "[[3 6]\n",
      " [0 6]]\n",
      "[  0   2   3   5   6  13  22  27  34  48  49  52  67  74  75  76  82  89\n",
      " 104 109 110 113 116 123]\n",
      "[ 1.  0.  0.  0.  1.  1.  1.  1.  1.  1.  0.  0.  0.  0.  1.  1.  1.  0.\n",
      "  0.  0.  1.  0.  0.  0.]\n",
      "fold: 4\n"
     ]
    },
    {
     "name": "stderr",
     "output_type": "stream",
     "text": [
      "/usr/local/lib/python3.4/dist-packages/sklearn/feature_selection/univariate_selection.py:113: UserWarning: Features [    13     99    274 ..., 572712 572713 572714] are constant.\n",
      "  UserWarning)\n"
     ]
    },
    {
     "name": "stdout",
     "output_type": "stream",
     "text": [
      "[[6 2]\n",
      " [4 1]]\n",
      "repetition: 13\n",
      "(124, 572738)\n",
      "[ 12  14  15  23  30  39  42  43  50  53  55  57  59  60  85  87  89  90\n",
      "  95 105 106 109 110 111 113]\n",
      "[ 0.  1.  0.  0.  0.  1.  1.  1.  1.  0.  1.  1.  0.  1.  0.  1.  0.  0.\n",
      "  0.  1.  0.  0.  0.  1.  1.]\n",
      "fold: 0\n"
     ]
    },
    {
     "name": "stderr",
     "output_type": "stream",
     "text": [
      "/usr/local/lib/python3.4/dist-packages/sklearn/feature_selection/univariate_selection.py:113: UserWarning: Features [    13     99    305 ..., 572621 572634 572704] are constant.\n",
      "  UserWarning)\n"
     ]
    },
    {
     "name": "stdout",
     "output_type": "stream",
     "text": [
      "[[7 3]\n",
      " [3 3]]\n",
      "[  3   4   9  20  27  29  31  33  44  56  63  64  68  69  70  72  78  88\n",
      "  93 107 112 115 120 122 123]\n",
      "[ 0.  0.  0.  1.  0.  0.  1.  0.  0.  0.  0.  0.  1.  1.  1.  0.  1.  1.\n",
      "  0.  0.  0.  1.  1.  0.  0.]\n",
      "fold: 1\n",
      "[[2 8]\n",
      " [2 2]]\n",
      "[  0   8  10  13  17  35  36  37  41  47  61  62  65  67  79  80  81  83\n",
      "  84  91  94  96 117 118 119]\n",
      "[ 1.  1.  0.  1.  0.  1.  1.  0.  1.  1.  0.  0.  1.  1.  0.  0.  0.  0.\n",
      "  0.  0.  0.  1.  0.  0.  0.]\n",
      "fold: 2\n"
     ]
    },
    {
     "name": "stderr",
     "output_type": "stream",
     "text": [
      "/usr/local/lib/python3.4/dist-packages/sklearn/feature_selection/univariate_selection.py:113: UserWarning: Features [    13     99    436 ..., 572733 572736 572737] are constant.\n",
      "  UserWarning)\n"
     ]
    },
    {
     "name": "stdout",
     "output_type": "stream",
     "text": [
      "[[12  1]\n",
      " [ 1  1]]\n",
      "[  1   5   6   7  11  18  21  22  24  28  34  38  40  45  49  51  71  76\n",
      "  86  92  97 100 103 104 114]\n",
      "[ 0.  1.  1.  1.  0.  1.  0.  1.  0.  0.  1.  0.  1.  0.  1.  0.  1.  1.\n",
      "  1.  0.  0.  0.  1.  0.  0.]\n",
      "fold: 3\n"
     ]
    },
    {
     "name": "stderr",
     "output_type": "stream",
     "text": [
      "/usr/local/lib/python3.4/dist-packages/sklearn/feature_selection/univariate_selection.py:113: UserWarning: Features [    13     99    282 ..., 572670 572684 572685] are constant.\n",
      "  UserWarning)\n"
     ]
    },
    {
     "name": "stdout",
     "output_type": "stream",
     "text": [
      "[[4 4]\n",
      " [1 4]]\n",
      "[  2  16  19  25  26  32  46  48  52  54  58  66  73  74  75  77  82  98\n",
      "  99 101 102 108 116 121]\n",
      "[ 0.  0.  0.  1.  0.  0.  0.  0.  0.  0.  0.  1.  0.  0.  1.  0.  1.  0.\n",
      "  1.  1.  0.  0.  0.  1.]\n",
      "fold: 4\n"
     ]
    },
    {
     "name": "stderr",
     "output_type": "stream",
     "text": [
      "/usr/local/lib/python3.4/dist-packages/sklearn/feature_selection/univariate_selection.py:113: UserWarning: Features [    13     80     85 ..., 572712 572713 572714] are constant.\n",
      "  UserWarning)\n"
     ]
    },
    {
     "name": "stdout",
     "output_type": "stream",
     "text": [
      "[[2 9]\n",
      " [1 5]]\n",
      "repetition: 14\n",
      "(124, 572738)\n",
      "[  2   6   7  14  15  18  20  23  29  34  42  46  48  66  69  70  72  76\n",
      "  78  89  94  98  99 100 111]\n",
      "[ 0.  1.  0.  0.  0.  0.  0.  0.  0.  0.  0.  1.  0.  0.  0.  0.  1.  1.\n",
      "  1.  0.  1.  1.  0.  1.  1.]\n",
      "fold: 0\n"
     ]
    },
    {
     "name": "stderr",
     "output_type": "stream",
     "text": [
      "/usr/local/lib/python3.4/dist-packages/sklearn/feature_selection/univariate_selection.py:113: UserWarning: Features [    13     99    424 ..., 572510 572528 572704] are constant.\n",
      "  UserWarning)\n"
     ]
    },
    {
     "name": "stdout",
     "output_type": "stream",
     "text": [
      "[[0 3]\n",
      " [2 5]]\n",
      "[  8  24  35  38  39  44  47  51  53  54  55  58  62  64  73  81  85  90\n",
      "  92  93 110 114 117 120 122]\n",
      "[ 1.  1.  0.  1.  0.  1.  1.  0.  0.  0.  1.  1.  1.  1.  1.  0.  0.  0.\n",
      "  0.  0.  0.  0.  1.  0.  0.]\n",
      "fold: 1\n",
      "[[4 8]\n",
      " [1 5]]\n",
      "[  3  11  13  16  21  33  36  40  49  50  52  56  60  74  75  82  83  95\n",
      "  96  97 105 108 113 116 121]\n",
      "[ 0.  1.  0.  1.  1.  0.  0.  1.  0.  1.  0.  0.  0.  1.  0.  0.  0.  1.\n",
      "  0.  1.  1.  0.  1.  1.  0.]\n",
      "fold: 2\n",
      "[[7 0]\n",
      " [5 4]]\n",
      "[  1   5   9  17  19  27  30  31  37  41  43  45  57  59  63  65  67  68\n",
      "  79  84  91 101 112 118 119]\n",
      "[ 1.  0.  0.  0.  0.  1.  0.  0.  1.  1.  1.  1.  1.  1.  0.  1.  0.  1.\n",
      "  0.  0.  0.  0.  0.  0.  0.]\n",
      "fold: 3\n",
      "[[8 3]\n",
      " [0 2]]\n",
      "[  0   4  10  12  22  25  26  28  32  61  71  77  80  86  87  88 102 103\n",
      " 104 106 107 109 115 123]\n",
      "[ 0.  0.  0.  0.  1.  0.  1.  0.  0.  0.  0.  1.  0.  1.  1.  1.  0.  1.\n",
      "  1.  0.  0.  0.  1.  0.]\n",
      "fold: 4\n"
     ]
    },
    {
     "name": "stderr",
     "output_type": "stream",
     "text": [
      "/usr/local/lib/python3.4/dist-packages/sklearn/feature_selection/univariate_selection.py:113: UserWarning: Features [    13     90     99 ..., 572712 572713 572714] are constant.\n",
      "  UserWarning)\n"
     ]
    },
    {
     "name": "stdout",
     "output_type": "stream",
     "text": [
      "[[7 4]\n",
      " [2 5]]\n",
      "repetition: 15\n",
      "(124, 572738)\n",
      "[  8  11  21  25  30  38  48  52  57  58  59  64  67  69  78  80  83  89\n",
      "  90  97  99 104 111 112 116]\n",
      "[ 1.  1.  0.  0.  1.  0.  1.  0.  1.  0.  0.  1.  0.  1.  1.  0.  0.  1.\n",
      "  1.  0.  0.  0.  0.  0.  0.]\n",
      "fold: 0\n"
     ]
    },
    {
     "name": "stderr",
     "output_type": "stream",
     "text": [
      "/usr/local/lib/python3.4/dist-packages/sklearn/feature_selection/univariate_selection.py:113: UserWarning: Features [    13     99    288 ..., 572720 572721 572722] are constant.\n",
      "  UserWarning)\n"
     ]
    },
    {
     "name": "stdout",
     "output_type": "stream",
     "text": [
      "[[6 7]\n",
      " [0 4]]\n",
      "[  3   6   9  13  14  16  18  20  35  36  43  55  73  74  76  84  87  88\n",
      "  94 100 101 106 115 118 120]\n",
      "[ 0.  0.  0.  1.  0.  1.  0.  0.  0.  1.  1.  0.  0.  0.  0.  1.  1.  1.\n",
      "  0.  0.  0.  0.  0.  0.  0.]\n",
      "fold: 1\n",
      "[[ 1 11]\n",
      " [ 1  2]]\n",
      "[  2   4   7  24  33  42  45  46  51  54  61  66  81  82  91  95  96  98\n",
      " 102 105 107 110 121 122 123]\n",
      "[ 0.  1.  0.  1.  1.  0.  1.  1.  1.  0.  1.  1.  0.  1.  1.  1.  0.  1.\n",
      "  0.  1.  1.  0.  0.  1.  0.]\n",
      "fold: 2\n"
     ]
    },
    {
     "name": "stderr",
     "output_type": "stream",
     "text": [
      "/usr/local/lib/python3.4/dist-packages/sklearn/feature_selection/univariate_selection.py:113: UserWarning: Features [    13     99    274 ..., 572728 572729 572730] are constant.\n",
      "  UserWarning)\n"
     ]
    },
    {
     "name": "stdout",
     "output_type": "stream",
     "text": [
      "[[7 0]\n",
      " [9 0]]\n",
      "[  1  19  22  26  29  34  40  41  44  49  50  53  56  60  63  65  70  77\n",
      "  79  86  92 103 108 113 114]\n",
      "[ 0.  0.  1.  0.  0.  1.  0.  0.  0.  1.  1.  1.  0.  0.  1.  0.  0.  0.\n",
      "  0.  0.  1.  1.  1.  0.  0.]\n",
      "fold: 3\n",
      "[[0 7]\n",
      " [3 3]]\n",
      "[  0   5  10  12  15  17  23  27  28  31  32  37  39  47  62  68  71  72\n",
      "  75  85  93 109 117 119]\n",
      "[ 0.  1.  1.  1.  0.  0.  1.  0.  0.  0.  0.  0.  1.  0.  1.  1.  1.  0.\n",
      "  0.  0.  1.  0.  0.  0.]\n",
      "fold: 4\n"
     ]
    },
    {
     "name": "stderr",
     "output_type": "stream",
     "text": [
      "/usr/local/lib/python3.4/dist-packages/sklearn/feature_selection/univariate_selection.py:113: UserWarning: Features [    13     80     85 ..., 572692 572702 572703] are constant.\n",
      "  UserWarning)\n"
     ]
    },
    {
     "name": "stdout",
     "output_type": "stream",
     "text": [
      "[[3 6]\n",
      " [1 4]]\n",
      "repetition: 16\n",
      "(124, 572738)\n",
      "[  7   9  10  11  13  25  26  29  45  48  53  60  61  63  64  75  80  81\n",
      "  82  87  88  90 106 108 114]\n",
      "[ 0.  0.  0.  0.  0.  0.  1.  0.  1.  0.  0.  0.  0.  0.  1.  0.  0.  1.\n",
      "  1.  1.  0.  1.  0.  1.  1.]\n",
      "fold: 0\n"
     ]
    },
    {
     "name": "stderr",
     "output_type": "stream",
     "text": [
      "/usr/local/lib/python3.4/dist-packages/sklearn/feature_selection/univariate_selection.py:113: UserWarning: Features [     4     13     80 ..., 572731 572732 572735] are constant.\n",
      "  UserWarning)\n"
     ]
    },
    {
     "name": "stdout",
     "output_type": "stream",
     "text": [
      "[[3 6]\n",
      " [1 6]]\n",
      "[  3   5  33  35  38  39  42  47  50  51  55  56  67  70  71  73  76  86\n",
      "  91 100 103 104 111 112 118]\n",
      "[ 0.  0.  1.  0.  0.  1.  0.  1.  0.  0.  0.  1.  0.  0.  0.  0.  0.  1.\n",
      "  1.  1.  1.  0.  1.  0.  1.]\n",
      "fold: 1\n"
     ]
    },
    {
     "name": "stderr",
     "output_type": "stream",
     "text": [
      "/usr/local/lib/python3.4/dist-packages/sklearn/feature_selection/univariate_selection.py:113: UserWarning: Features [    13     99    204 ..., 572712 572713 572714] are constant.\n",
      "  UserWarning)\n"
     ]
    },
    {
     "name": "stdout",
     "output_type": "stream",
     "text": [
      "[[2 8]\n",
      " [3 4]]\n",
      "[  1   2   6  12  19  22  23  24  27  36  43  46  49  62  66  83  92  94\n",
      "  98 101 105 107 115 116 120]\n",
      "[ 0.  1.  0.  1.  0.  0.  0.  0.  0.  1.  0.  0.  1.  1.  1.  0.  0.  0.\n",
      "  0.  1.  0.  0.  0.  0.  1.]\n",
      "fold: 2\n"
     ]
    },
    {
     "name": "stderr",
     "output_type": "stream",
     "text": [
      "/usr/local/lib/python3.4/dist-packages/sklearn/feature_selection/univariate_selection.py:113: UserWarning: Features [    13     99    149 ..., 572218 572621 572634] are constant.\n",
      "  UserWarning)\n"
     ]
    },
    {
     "name": "stdout",
     "output_type": "stream",
     "text": [
      "[[ 1 10]\n",
      " [ 1  2]]\n",
      "[  8  14  15  17  20  21  28  37  40  44  52  54  57  59  72  79  84  85\n",
      "  89  95  97  99 102 109 113]\n",
      "[ 0.  0.  1.  0.  0.  1.  0.  1.  1.  0.  0.  0.  1.  1.  1.  0.  0.  0.\n",
      "  1.  0.  0.  0.  1.  0.  1.]\n",
      "fold: 3\n",
      "[[9 0]\n",
      " [3 3]]\n",
      "[  0   4  16  18  30  31  32  34  41  58  65  68  69  74  77  78  93  96\n",
      " 110 117 119 121 122 123]\n",
      "[ 1.  1.  1.  0.  1.  1.  0.  1.  1.  0.  0.  0.  1.  1.  1.  1.  0.  0.\n",
      "  0.  0.  1.  1.  0.  0.]\n",
      "fold: 4\n"
     ]
    },
    {
     "name": "stderr",
     "output_type": "stream",
     "text": [
      "/usr/local/lib/python3.4/dist-packages/sklearn/feature_selection/univariate_selection.py:113: UserWarning: Features [    13     99    305 ..., 572720 572721 572722] are constant.\n",
      "  UserWarning)\n"
     ]
    },
    {
     "name": "stdout",
     "output_type": "stream",
     "text": [
      "[[7 1]\n",
      " [4 1]]\n",
      "repetition: 17\n",
      "(124, 572738)\n",
      "[  0   9  11  16  28  29  34  37  42  46  52  55  59  62  65  66  73  78\n",
      "  88  89  90  94 114 116 122]\n",
      "[ 1.  0.  0.  0.  1.  1.  0.  1.  1.  1.  0.  0.  1.  0.  0.  1.  0.  0.\n",
      "  0.  1.  1.  0.  0.  0.  0.]\n",
      "fold: 0\n",
      "[[0 9]\n",
      " [2 2]]\n",
      "[  4  14  18  23  24  33  47  48  53  58  69  71  72  74  75  79  81  86\n",
      "  96  97 100 104 108 115 117]\n",
      "[ 0.  1.  1.  1.  0.  0.  1.  1.  1.  0.  1.  0.  0.  1.  1.  1.  0.  0.\n",
      "  0.  0.  1.  1.  0.  0.  0.]\n",
      "fold: 1\n"
     ]
    },
    {
     "name": "stderr",
     "output_type": "stream",
     "text": [
      "/usr/local/lib/python3.4/dist-packages/sklearn/feature_selection/univariate_selection.py:113: UserWarning: Features [    13     99    149 ..., 572720 572721 572722] are constant.\n",
      "  UserWarning)\n"
     ]
    },
    {
     "name": "stdout",
     "output_type": "stream",
     "text": [
      "[[8 1]\n",
      " [5 2]]\n",
      "[ 12  19  20  21  25  26  35  36  40  43  64  67  70  76  77  80  83  85\n",
      "  87  93  95 102 109 121 123]\n",
      "[ 1.  1.  0.  0.  1.  1.  0.  1.  0.  1.  0.  0.  1.  1.  0.  0.  0.  1.\n",
      "  1.  1.  0.  1.  1.  0.  0.]\n",
      "fold: 2\n",
      "[[10  0]\n",
      " [ 8  0]]\n",
      "[  2   5   8  13  27  30  32  38  49  50  51  54  60  61  82  91  92  99\n",
      " 101 103 105 106 107 110 118]\n",
      "[ 1.  0.  0.  1.  0.  0.  1.  1.  0.  0.  0.  0.  1.  0.  1.  0.  0.  0.\n",
      "  0.  0.  0.  0.  0.  0.  1.]\n",
      "fold: 3\n",
      "[[ 1 12]\n",
      " [ 1  3]]\n",
      "[  1   3   6   7  10  15  17  22  31  39  41  44  45  56  57  63  68  84\n",
      "  98 111 112 113 119 120]\n",
      "[ 1.  1.  1.  0.  0.  1.  0.  1.  0.  0.  1.  0.  0.  0.  1.  0.  0.  0.\n",
      "  0.  0.  1.  0.  0.  0.]\n",
      "fold: 4\n"
     ]
    },
    {
     "name": "stderr",
     "output_type": "stream",
     "text": [
      "/usr/local/lib/python3.4/dist-packages/sklearn/feature_selection/univariate_selection.py:113: UserWarning: Features [    13     90     99 ..., 572692 572702 572703] are constant.\n",
      "  UserWarning)\n"
     ]
    },
    {
     "name": "stdout",
     "output_type": "stream",
     "text": [
      "[[2 8]\n",
      " [0 1]]\n",
      "repetition: 18\n",
      "(124, 572738)\n",
      "[  0  12  23  30  33  39  43  47  48  53  57  60  61  74  76  78  80  87\n",
      "  91  99 101 105 111 113 121]\n",
      "[ 1.  0.  1.  0.  0.  1.  0.  1.  1.  1.  0.  0.  0.  1.  0.  1.  1.  1.\n",
      "  0.  1.  1.  1.  0.  0.  1.]\n",
      "fold: 0\n",
      "[[3 2]\n",
      " [7 3]]\n",
      "[  1   2   4   6   7  16  20  37  41  45  51  54  56  72  79  88  92  93\n",
      "  95  96 102 103 108 115 123]\n",
      "[ 1.  0.  1.  1.  0.  0.  0.  1.  1.  0.  0.  0.  0.  1.  0.  0.  0.  0.\n",
      "  0.  0.  1.  1.  1.  0.  0.]\n",
      "fold: 1\n",
      "[[3 8]\n",
      " [1 3]]\n",
      "[ 22  26  27  29  32  34  35  38  40  44  52  63  71  81  82  84  86  90\n",
      "  94  97 100 112 117 118 122]\n",
      "[ 0.  1.  1.  0.  0.  0.  1.  0.  0.  1.  0.  1.  1.  1.  1.  1.  0.  1.\n",
      "  0.  0.  0.  1.  0.  1.  0.]\n",
      "fold: 2\n"
     ]
    },
    {
     "name": "stderr",
     "output_type": "stream",
     "text": [
      "/usr/local/lib/python3.4/dist-packages/sklearn/feature_selection/univariate_selection.py:113: UserWarning: Features [    13     99    175 ..., 572735 572736 572737] are constant.\n",
      "  UserWarning)\n"
     ]
    },
    {
     "name": "stdout",
     "output_type": "stream",
     "text": [
      "[[8 1]\n",
      " [5 4]]\n",
      "[  3   9  11  13  14  15  18  21  25  28  31  50  58  59  64  70  73  77\n",
      "  83  89 104 107 109 110 116]\n",
      "[ 0.  0.  0.  0.  1.  0.  1.  0.  0.  1.  0.  0.  0.  1.  0.  0.  0.  0.\n",
      "  0.  0.  0.  0.  0.  0.  0.]\n",
      "fold: 3\n"
     ]
    },
    {
     "name": "stderr",
     "output_type": "stream",
     "text": [
      "/usr/local/lib/python3.4/dist-packages/sklearn/feature_selection/univariate_selection.py:113: UserWarning: Features [    13     80     85 ..., 572528 572621 572634] are constant.\n",
      "  UserWarning)\n"
     ]
    },
    {
     "name": "stdout",
     "output_type": "stream",
     "text": [
      "[[ 0 15]\n",
      " [ 0  0]]\n"
     ]
    },
    {
     "name": "stderr",
     "output_type": "stream",
     "text": [
      "/usr/local/lib/python3.4/dist-packages/sklearn/metrics/ranking.py:571: UndefinedMetricWarning: No positive samples in y_true, true positive value should be meaningless\n",
      "  UndefinedMetricWarning)\n"
     ]
    },
    {
     "name": "stdout",
     "output_type": "stream",
     "text": [
      "[  5   8  10  17  19  24  36  42  46  49  55  62  65  66  67  68  69  75\n",
      "  85  98 106 114 119 120]\n",
      "[ 1.  0.  0.  0.  0.  1.  1.  0.  1.  0.  1.  0.  1.  0.  1.  0.  0.  1.\n",
      "  1.  1.  0.  1.  0.  0.]\n",
      "fold: 4\n"
     ]
    },
    {
     "name": "stderr",
     "output_type": "stream",
     "text": [
      "/usr/local/lib/python3.4/dist-packages/sklearn/feature_selection/univariate_selection.py:113: UserWarning: Features [    13     99    149 ..., 571834 571863 572231] are constant.\n",
      "  UserWarning)\n"
     ]
    },
    {
     "name": "stdout",
     "output_type": "stream",
     "text": [
      "[[5 0]\n",
      " [4 3]]\n",
      "repetition: 19\n",
      "(124, 572738)\n",
      "[  2   8  13  16  18  27  30  36  37  47  64  65  67  77  79  82  83  91\n",
      "  96 101 104 106 112 116 121]\n",
      "[ 1.  1.  0.  0.  1.  0.  0.  0.  0.  0.  0.  0.  0.  0.  0.  1.  1.  0.\n",
      "  0.  1.  0.  1.  0.  0.  1.]\n",
      "fold: 0\n"
     ]
    },
    {
     "name": "stderr",
     "output_type": "stream",
     "text": [
      "/usr/local/lib/python3.4/dist-packages/sklearn/feature_selection/univariate_selection.py:113: UserWarning: Features [    13     99    204 ..., 572728 572729 572730] are constant.\n",
      "  UserWarning)\n"
     ]
    },
    {
     "name": "stdout",
     "output_type": "stream",
     "text": [
      "[[ 1 10]\n",
      " [ 1  4]]\n",
      "[  1   6  14  20  28  29  33  38  43  46  58  59  61  70  72  76  78 102\n",
      " 109 111 113 118 119 120 122]\n",
      "[ 0.  0.  1.  0.  0.  1.  0.  0.  0.  1.  0.  0.  1.  1.  0.  0.  1.  0.\n",
      "  0.  0.  0.  0.  1.  0.  1.]\n",
      "fold: 1\n",
      "[[0 9]\n",
      " [1 3]]\n",
      "[  0   3   7  11  21  23  24  26  41  42  44  48  51  62  63  87  88  89\n",
      "  90  94  95  99 100 108 115]\n",
      "[ 1.  0.  0.  1.  0.  1.  1.  0.  1.  1.  0.  0.  0.  1.  0.  1.  1.  0.\n",
      "  0.  0.  1.  0.  0.  0.  0.]\n",
      "fold: 2\n"
     ]
    },
    {
     "name": "stderr",
     "output_type": "stream",
     "text": [
      "/usr/local/lib/python3.4/dist-packages/sklearn/feature_selection/univariate_selection.py:113: UserWarning: Features [    13     99    149 ..., 572407 572421 572704] are constant.\n",
      "  UserWarning)\n"
     ]
    },
    {
     "name": "stdout",
     "output_type": "stream",
     "text": [
      "[[7 3]\n",
      " [2 2]]\n",
      "[  4   9  12  17  25  32  35  45  49  53  54  55  57  60  68  69  73  75\n",
      "  81  84  85  92 107 114 123]\n",
      "[ 1.  1.  0.  1.  1.  0.  0.  1.  1.  0.  1.  0.  1.  0.  1.  0.  1.  0.\n",
      "  1.  1.  0.  0.  0.  1.  0.]\n",
      "fold: 3\n",
      "[[9 0]\n",
      " [7 1]]\n",
      "[  5  10  15  19  22  31  34  39  40  50  52  56  66  71  74  80  86  93\n",
      "  97  98 103 105 110 117]\n",
      "[ 0.  0.  0.  0.  0.  1.  0.  0.  1.  0.  1.  0.  1.  1.  1.  1.  0.  1.\n",
      "  1.  1.  0.  1.  0.  0.]\n",
      "fold: 4\n",
      "[[6 1]\n",
      " [6 2]]\n",
      "F_mean: 0.452857142857\n",
      "AUC_mean: nan\n",
      "PRECISION_mean: 0.393788819876\n",
      "RECALL_mean: 0.532773109244\n",
      "SPECIFICITY_mean: 0.460773480663\n",
      "AUC_std: nan\n"
     ]
    }
   ],
   "source": [
    "folds = 5\n",
    "splits = 20\n",
    "percentage = 1.75\n",
    "F, AUC, PRECISION, RECALL, SPECIFICITY = metrics_repetitions_folds(X, y, folds, splits, dt, percentage)"
   ]
  },
  {
   "cell_type": "code",
   "execution_count": null,
   "metadata": {},
   "outputs": [],
   "source": []
  }
 ],
 "metadata": {
  "kernelspec": {
   "display_name": "Python 3",
   "language": "python",
   "name": "python3"
  },
  "language_info": {
   "codemirror_mode": {
    "name": "ipython",
    "version": 3
   },
   "file_extension": ".py",
   "mimetype": "text/x-python",
   "name": "python",
   "nbconvert_exporter": "python",
   "pygments_lexer": "ipython3",
   "version": "3.4.2"
  }
 },
 "nbformat": 4,
 "nbformat_minor": 2
}
