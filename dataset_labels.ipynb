{
 "cells": [
  {
   "cell_type": "code",
   "execution_count": 1,
   "metadata": {},
   "outputs": [
    {
     "name": "stdout",
     "output_type": "stream",
     "text": [
      "216\n",
      "33\n",
      "137\n",
      "34\n",
      "416\n"
     ]
    }
   ],
   "source": [
    "from dbase import *\n",
    "\n",
    "counter1=0\n",
    "counter2=0\n",
    "counter3=0\n",
    "counter4=0\n",
    "counter5=0\n",
    "\n",
    "for i in range(0, len(Subjects)):\n",
    "    for j in range(0,len(Subjects[i].jacobians)):\n",
    "        ref = Subjects[i].jacobians[j].reference\n",
    "        tar = Subjects[i].jacobians[j].target\n",
    "        Subjects[i].jacobians[j].label = 0 #at first we put all jacobian labels to 0\n",
    "\n",
    "        if ref.A == 0 and ref.dx == 'NL' and tar.A == 0 and tar.dx == 'NL':\n",
    "            Subjects[i].jacobians[j].label = 1\n",
    "            counter1 = counter1 +1\n",
    "        if ref.A == 0 and ref.dx == 'NL' and tar.A == 1 and tar.dx == 'NL':\n",
    "            Subjects[i].jacobians[j].label = 2\n",
    "            counter2 = counter2 +1\n",
    "        if ref.A == 1 and ref.dx == 'NL' and tar.A == 1 and tar.dx == 'NL':\n",
    "            Subjects[i].jacobians[j].label = 3\n",
    "            counter3 = counter3 +1\n",
    "        if ref.A == 1 and ref.dx == 'NL' and tar.A == 1 and (tar.dx == 'MCI' or tar.dx == 'Dementia' or tar.dx == 'NL to MCI' or tar.dx == 'MCI to NL' or tar.dx == 'MCI to Dementia'):\n",
    "            Subjects[i].jacobians[j].label = 4\n",
    "            counter4 = counter4 +1\n",
    "        if ref.A == 1 and (ref.dx == 'MCI' or ref.dx == 'dementia' or ref.dx == 'MCI to Dementia' or ref.dx == 'MCI to NL') and tar.A == 1 and (tar.dx == 'MCI' or tar.dx == 'Dementia' or tar.dx == 'NL to MCI' or tar.dx == 'MCI to NL' or tar.dx == 'MCI to Dementia'):\n",
    "            Subjects[i].jacobians[j].label = 5\n",
    "            counter5 = counter5 +1\n",
    "            \n",
    "print(counter1)\n",
    "print(counter2)\n",
    "print(counter3)\n",
    "print(counter4)\n",
    "print(counter5)\n",
    "\n",
    "handle=open('./masterpickle_original.pickle', 'wb')\n",
    "pickle.dump(Events, handle)\n",
    "pickle.dump(subjdict, handle)\n",
    "pickle.dump(subjects_rid, handle)\n",
    "pickle.dump(Images, handle)\n",
    "pickle.dump(Subjects, handle)\n",
    "handle.close()\n"
   ]
  },
  {
   "cell_type": "code",
   "execution_count": 7,
   "metadata": {},
   "outputs": [
    {
     "ename": "IndexError",
     "evalue": "list index out of range",
     "output_type": "error",
     "traceback": [
      "\u001b[0;31m---------------------------------------------------------------------------\u001b[0m",
      "\u001b[0;31mIndexError\u001b[0m                                Traceback (most recent call last)",
      "\u001b[0;32m<ipython-input-7-39e441ce03a2>\u001b[0m in \u001b[0;36m<module>\u001b[0;34m()\u001b[0m\n\u001b[1;32m      8\u001b[0m \u001b[0mSubjects\u001b[0m\u001b[0;34m[\u001b[0m\u001b[0;36m90\u001b[0m\u001b[0;34m]\u001b[0m\u001b[0;34m.\u001b[0m\u001b[0mjacobians\u001b[0m\u001b[0;34m[\u001b[0m\u001b[0;36m8\u001b[0m\u001b[0;34m]\u001b[0m\u001b[0;34m.\u001b[0m\u001b[0mlabel\u001b[0m \u001b[0;34m=\u001b[0m \u001b[0;36m0\u001b[0m\u001b[0;34m\u001b[0m\u001b[0m\n\u001b[1;32m      9\u001b[0m \u001b[0mSubjects\u001b[0m\u001b[0;34m[\u001b[0m\u001b[0;36m90\u001b[0m\u001b[0;34m]\u001b[0m\u001b[0;34m.\u001b[0m\u001b[0mjacobians\u001b[0m\u001b[0;34m[\u001b[0m\u001b[0;36m9\u001b[0m\u001b[0;34m]\u001b[0m\u001b[0;34m.\u001b[0m\u001b[0mlabel\u001b[0m \u001b[0;34m=\u001b[0m \u001b[0;36m0\u001b[0m\u001b[0;34m\u001b[0m\u001b[0m\n\u001b[0;32m---> 10\u001b[0;31m \u001b[0mSubjects\u001b[0m\u001b[0;34m[\u001b[0m\u001b[0;36m90\u001b[0m\u001b[0;34m]\u001b[0m\u001b[0;34m.\u001b[0m\u001b[0mjacobians\u001b[0m\u001b[0;34m[\u001b[0m\u001b[0;36m10\u001b[0m\u001b[0;34m]\u001b[0m\u001b[0;34m.\u001b[0m\u001b[0mlabel\u001b[0m \u001b[0;34m=\u001b[0m \u001b[0;36m0\u001b[0m\u001b[0;34m\u001b[0m\u001b[0m\n\u001b[0m\u001b[1;32m     11\u001b[0m \u001b[0mSubjects\u001b[0m\u001b[0;34m[\u001b[0m\u001b[0;36m90\u001b[0m\u001b[0;34m]\u001b[0m\u001b[0;34m.\u001b[0m\u001b[0mjacobians\u001b[0m\u001b[0;34m[\u001b[0m\u001b[0;36m11\u001b[0m\u001b[0;34m]\u001b[0m\u001b[0;34m.\u001b[0m\u001b[0mlabel\u001b[0m \u001b[0;34m=\u001b[0m \u001b[0;36m0\u001b[0m\u001b[0;34m\u001b[0m\u001b[0m\n",
      "\u001b[0;31mIndexError\u001b[0m: list index out of range"
     ]
    }
   ],
   "source": [
    "Subjects[90].jacobians[1].label = 0\n",
    "Subjects[90].jacobians[2].label = 0\n",
    "Subjects[90].jacobians[3].label = 0\n",
    "Subjects[90].jacobians[4].label = 0\n",
    "Subjects[90].jacobians[5].label = 0\n",
    "Subjects[90].jacobians[6].label = 0\n",
    "Subjects[90].jacobians[7].label = 0\n",
    "Subjects[90].jacobians[8].label = 0\n",
    "Subjects[90].jacobians[9].label = 0\n",
    "Subjects[90].jacobians[10].label = 0\n",
    "Subjects[90].jacobians[11].label = 0"
   ]
  },
  {
   "cell_type": "code",
   "execution_count": 7,
   "metadata": {},
   "outputs": [],
   "source": [
    "handle=open('./masterpickle_original.pickle', 'wb')\n",
    "pickle.dump(Events, handle)\n",
    "pickle.dump(subjdict, handle)\n",
    "pickle.dump(subjects_rid, handle)\n",
    "pickle.dump(Images, handle)\n",
    "pickle.dump(Subjects, handle)\n",
    "handle.close()"
   ]
  },
  {
   "cell_type": "code",
   "execution_count": null,
   "metadata": {},
   "outputs": [],
   "source": []
  }
 ],
 "metadata": {
  "kernelspec": {
   "display_name": "Python 3",
   "language": "python",
   "name": "python3"
  },
  "language_info": {
   "codemirror_mode": {
    "name": "ipython",
    "version": 3
   },
   "file_extension": ".py",
   "mimetype": "text/x-python",
   "name": "python",
   "nbconvert_exporter": "python",
   "pygments_lexer": "ipython3",
   "version": "3.4.2"
  }
 },
 "nbformat": 4,
 "nbformat_minor": 2
}
